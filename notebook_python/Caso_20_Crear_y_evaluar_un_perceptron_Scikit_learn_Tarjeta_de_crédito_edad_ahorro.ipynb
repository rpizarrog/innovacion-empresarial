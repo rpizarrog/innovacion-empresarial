{
  "nbformat": 4,
  "nbformat_minor": 0,
  "metadata": {
    "colab": {
      "provenance": [],
      "authorship_tag": "ABX9TyMeAEdfqtPCk9SzxXSBxfjn",
      "include_colab_link": true
    },
    "kernelspec": {
      "name": "python3",
      "display_name": "Python 3"
    },
    "language_info": {
      "name": "python"
    }
  },
  "cells": [
    {
      "cell_type": "markdown",
      "metadata": {
        "id": "view-in-github",
        "colab_type": "text"
      },
      "source": [
        "<a href=\"https://colab.research.google.com/github/rpizarrog/innovacion-empresarial/blob/main/notebook_python/Caso_20_Crear_y_evaluar_un_perceptron_Scikit_learn_Tarjeta_de_cr%C3%A9dito_edad_ahorro.ipynb\" target=\"_parent\"><img src=\"https://colab.research.google.com/assets/colab-badge.svg\" alt=\"Open In Colab\"/></a>"
      ]
    },
    {
      "cell_type": "markdown",
      "source": [
        "# Objetivo\n",
        "\n",
        "Emular el trabajo de un perceptrón\n",
        "\n"
      ],
      "metadata": {
        "id": "MwPNeMLKoIy3"
      }
    },
    {
      "cell_type": "markdown",
      "source": [
        "# Fundamento teórico\n",
        "\n",
        "## ¿Qué es un perceptrón?\n",
        "\n",
        "\n",
        "Un perceptrón es un algoritmo de aprendizaje supervisado de tipo clasificación binaria que intenta separar linealmente dos clases de datos. Fue desarrollado por Frank Rosenblatt en 1957 y es considerado el precursor de las redes neuronales artificiales más complejas que existen hoy en día.\n",
        "\n",
        "Matemáticamente, un perceptrón toma un vector de entrada $𝑥$ y produce una salida binaria  $𝑦$.\n",
        "\n",
        "El proceso de cálculo en un perceptrón implica multiplicar cada elemento del vector de entrada por un peso correspondiente, sumar estos productos, y luego aplicar una función de activación para producir la salida. La función de activación típica es la función escalón, que devuelve 1 si la suma es mayor o igual a cero y 0 en otro caso.\n",
        "\n",
        "El perceptrón puede aprender los pesos adecuados a través de un proceso iterativo de ajuste durante el entrenamiento. Esto se logra mediante la comparación de la salida predicha con la salida real y la actualización de los pesos en función de la diferencia entre ellas.\n",
        "\n",
        "Aunque el perceptrón es un modelo simple y puede utilizarse para problemas de clasificación linealmente separables, su capacidad se amplió enormemente con el desarrollo de redes neuronales más profundas y complejas que utilizan múltiples capas y funciones de activación no lineales.\n",
        "\n",
        "## ¿Cómo se entrena un perceptrón?\n",
        "\n",
        "El entrenamiento de un perceptrón de forma matemática. El perceptrón es un algoritmo de aprendizaje supervisado que se utiliza para clasificación binaria. En su forma más simple, puede representarse matemáticamente de la siguiente manera:\n",
        "\n",
        "Ejemplo, se tiene un conjunto de datos de entrenamiento con $n$ características (o atributos) $(x_1, x_2, ..., x_n)$ y una etiqueta de clase $(y)$ que puede ser $0$ o $1$.\n",
        "\n",
        "Cada dato de entrenamiento se representa como un vector $(x = [x_1, x_2, ..., x_n])$ y el perceptrón tiene un vector de pesos $(w = [w_1, w_2, ..., w_n])$ y un sesgo (bias) $(b)$.\n",
        "\n",
        "La salida $(z)$ del perceptrón se calcula como la suma ponderada de las características más el sesgo:\n",
        "\n",
        "$$\n",
        "z = \\sum_{i=1}^{n} w_i \\cdot x_i + b\n",
        "$$\n",
        "\n",
        "\n",
        "Y la salida del perceptrón (la predicción) se calcula aplicando una función de activación escalón (step function) que produce $1$ si $(z)$ es mayor o igual a cero y $0$ en otro caso:\n",
        "\n",
        "\n",
        "$$\n",
        "\\hat{y} = \\begin{cases} 1, & \\text{si } z \\geq 0 \\\\ 0, & \\text{en otro caso} \\end{cases}\n",
        "$$\n",
        "\n",
        "Durante el entrenamiento, el perceptrón ajusta los pesos y el sesgo para minimizar la función de pérdida, que en el caso del perceptrón puede ser la suma de errores cuadrados (SSE, por sus siglas en inglés):\n",
        "\n",
        "$$\n",
        "E = \\frac{1}{2} \\sum_{i} (y_i - \\hat{y}_i)^2 $$\n",
        "\n",
        "El objetivo del entrenamiento es encontrar los pesos y el sesgo que minimizan esta función de pérdida. Esto se hace típicamente utilizando el algoritmo de descenso de gradiente, donde los pesos y el sesgo se actualizan en cada iteración del siguiente modo:\n",
        "\n",
        "$$\n",
        "w_i = w_i + \\alpha \\cdot (y - \\hat{y}) \\cdot x_i\n",
        "$$\n",
        "\n",
        "$$\n",
        "b = b + \\alpha \\cdot (y - \\hat{y})\n",
        "$$\n",
        "\n",
        "Donde $(\\alpha)$ es la tasa de aprendizaje, que controla qué tan grandes son los pasos que da el algoritmo en la dirección del gradiente. El algoritmo continúa ajustando los pesos y el sesgo iterativamente hasta que converge a una solución.\n"
      ],
      "metadata": {
        "id": "8upo3MyKoL-q"
      }
    },
    {
      "cell_type": "markdown",
      "source": [
        "# Desarrollo"
      ],
      "metadata": {
        "id": "_iyN6bQFpb2A"
      }
    },
    {
      "cell_type": "markdown",
      "source": [
        "## Cargar librerías"
      ],
      "metadata": {
        "id": "DhiwYN6LULrN"
      }
    },
    {
      "cell_type": "code",
      "source": [
        "import numpy as np\n",
        "import matplotlib.pyplot as plt\n",
        "import pandas as pd\n"
      ],
      "metadata": {
        "id": "TiJw0aD5UK1U"
      },
      "execution_count": 93,
      "outputs": []
    },
    {
      "cell_type": "markdown",
      "source": [
        "## Crear funciones\n",
        "\n",
        "Aqui la función *f_visualizar_clase()* crea los datos y los deja en un data.frame.\n",
        "\n",
        "La función *f_activar_perceptron()* crea el perceptrón y su activación que hay que probar.\n"
      ],
      "metadata": {
        "id": "qePb23qPW5-E"
      }
    },
    {
      "cell_type": "code",
      "source": [
        "# Visualiza la dispersión de los datos\n",
        "def f_visualizar_clase(datos):\n",
        "    plt.figure(figsize=(8, 6))\n",
        "    plt.scatter(datos[datos['clase'] == 0]['edad'], datos[datos['clase'] == 0]['ahorro'], color='red', label='Denegado', marker='o')\n",
        "    plt.scatter(datos[datos['clase'] == 1]['edad'], datos[datos['clase'] == 1]['ahorro'], color='blue', label='Otorgado', marker='o')\n",
        "    plt.xlabel('Edad')\n",
        "    plt.ylabel('Ahorro')\n",
        "    plt.xlim(0, 1)  # Establecer límites del eje x\n",
        "    plt.ylim(0, 1)  # Establecer límites del eje y\n",
        "    plt.legend()\n",
        "    plt.show()\n",
        "\n",
        "\n",
        "# Recibe parámetros de los pesos y los multiplic apo rel valor cuantitativo de su variable\n",
        "# wi * xi\n",
        "# La función de activación devuelve 1 o 0, es decir toma una decisión\n",
        "def f_activar_perceptron(pesos, x, umbral):\n",
        "  suma = sum(pesos * x) # sumatoria\n",
        "  if suma + umbral > 0:\n",
        "    return (\"Aceptado\", 1)\n",
        "  else:\n",
        "    return (\"Denegado\", 0)\n"
      ],
      "metadata": {
        "id": "ZZ5tLVtbW8bl"
      },
      "execution_count": 94,
      "outputs": []
    },
    {
      "cell_type": "markdown",
      "source": [
        "## Crear datos\n",
        "\n",
        "El ejercicio consiste en que se tiene un historial de 10 personas con datos de edad y la cuenta de ahorro en dinero USD.\n",
        "\n",
        "Se tiene una variable objetivo $y$ que repsenta si se le otorgó o no una tarjeta de crédito. 0 No se otorga y 1 si se otorga.\n",
        "\n",
        "Los datos están escalados en un rango de 0 a 1.\n",
        "\n",
        "Una persona con valor de 0.1 edad tiene 10 añoz, una persona con valor de 0.20 en edad tiene 20 años , una persona con 0.70 en edad tiene 70 años.\n",
        "\n",
        "Una persona con valor de 0.3 en la variable ahorro representa 30 mil (USD), una persona con valor de 0.20 en ahorro representa 20 mil (USD) de ahorro y una persona con 0.70 en ahorro tiene 70 mil USD.\n"
      ],
      "metadata": {
        "id": "yM1zvp-eUThq"
      }
    },
    {
      "cell_type": "code",
      "execution_count": 95,
      "metadata": {
        "colab": {
          "base_uri": "https://localhost:8080/"
        },
        "id": "vWJ7Zee2T6JK",
        "outputId": "04fe9e49-e54d-42ba-ae55-4b527cc16002"
      },
      "outputs": [
        {
          "output_type": "stream",
          "name": "stdout",
          "text": [
            "[[0.3 0.4]\n",
            " [0.4 0.3]\n",
            " [0.3 0.2]\n",
            " [0.4 0.1]\n",
            " [0.5 0.2]\n",
            " [0.4 0.8]\n",
            " [0.6 0.8]\n",
            " [0.5 0.6]\n",
            " [0.7 0.6]\n",
            " [0.8 0.5]]\n",
            "[0 0 0 0 0 1 1 1 1 1]\n",
            "   edad  ahorro  clase\n",
            "0   0.3     0.4      0\n",
            "1   0.4     0.3      0\n",
            "2   0.3     0.2      0\n",
            "3   0.4     0.1      0\n",
            "4   0.5     0.2      0\n",
            "5   0.4     0.8      1\n",
            "6   0.6     0.8      1\n",
            "7   0.5     0.6      1\n",
            "8   0.7     0.6      1\n",
            "9   0.8     0.5      1\n"
          ]
        }
      ],
      "source": [
        "personas = np.array([[0.3, 0.4],\n",
        "                     [0.4, 0.3],\n",
        "                     [0.3, 0.2],\n",
        "                     [0.4, 0.1],\n",
        "                     [0.5, 0.2],\n",
        "                     [0.4, 0.8],\n",
        "                     [0.6, 0.8],\n",
        "                     [0.5, 0.6],\n",
        "                     [0.7, 0.6],\n",
        "                     [0.8, 0.5]])\n",
        "\n",
        "print (personas)\n",
        "\n",
        "clases = np.array([0, 0, 0, 0, 0, 1, 1, 1, 1, 1])\n",
        "\n",
        "print (clases)\n",
        "\n",
        "# Crear un DataFrame con los datos y asignar nombres a las columnas\n",
        "datos = pd.DataFrame(personas, columns=['edad', 'ahorro'])\n",
        "datos['clase'] = clases\n",
        "\n",
        "print(datos)\n",
        "\n",
        "\n",
        "\n"
      ]
    },
    {
      "cell_type": "markdown",
      "source": [
        "## Visualizar los datos\n",
        "\n",
        "Se visualiza la dispersión de los datos y se intrepreta una relación del tipo lineal, dado que son dos variables independentes."
      ],
      "metadata": {
        "id": "0GBXdYGCqiQ2"
      }
    },
    {
      "cell_type": "code",
      "source": [
        "# Ejemplo de uso\n",
        "f_visualizar_clase(datos)"
      ],
      "metadata": {
        "colab": {
          "base_uri": "https://localhost:8080/",
          "height": 547
        },
        "id": "uMctpDogXDsu",
        "outputId": "2916df45-9d02-496b-9b05-ef92ed3226d3"
      },
      "execution_count": 96,
      "outputs": [
        {
          "output_type": "display_data",
          "data": {
            "text/plain": [
              "<Figure size 800x600 with 1 Axes>"
            ],
            "image/png": "[encoded data removed]"
          },
          "metadata": {}
        }
      ]
    },
    {
      "cell_type": "markdown",
      "source": [
        "# Probar el perceptron\n",
        "\n",
        "Mandar llamar la función *f_activar_perceptron()* para activar el perceptrón con datos aleatorios.\n",
        "\n",
        "La respuesta a una persona con datos aleatorios es simplemente aleatoria por el momento."
      ],
      "metadata": {
        "id": "8Y73FfoEb6ms"
      }
    },
    {
      "cell_type": "code",
      "source": [
        "np.random.seed(2024)"
      ],
      "metadata": {
        "id": "txplW7NscUBr"
      },
      "execution_count": 97,
      "outputs": []
    },
    {
      "cell_type": "code",
      "source": [
        "vars_ind = 2; # Variables independientes\n",
        "\n",
        "pesos = np.random.uniform(-1, 1, size=vars_ind)\n",
        "print (pesos)\n",
        "# Umbral aleatorio\n",
        "umbral = np.random.normal(0.5, 0.2, size=1)\n",
        "print (umbral)\n",
        "\n",
        "# [Edad, Ahorro]\n",
        "persona = [0.5, 0.5]\n",
        "\n",
        "decision, valor = f_activar_perceptron(pesos, persona, umbral)\n",
        "\n",
        "print (\"La decisión es: \", decision, \" el valor es: \", valor)\n"
      ],
      "metadata": {
        "colab": {
          "base_uri": "https://localhost:8080/"
        },
        "id": "44HyNfNmcE_V",
        "outputId": "5bcd9494-f67f-41f7-8280-16cf3995c89d"
      },
      "execution_count": 98,
      "outputs": [
        {
          "output_type": "stream",
          "name": "stdout",
          "text": [
            "[0.17602904 0.3982175 ]\n",
            "[0.45969245]\n",
            "La decisión es:  Aceptado  el valor es:  1\n"
          ]
        }
      ]
    },
    {
      "cell_type": "markdown",
      "source": [
        "# Entrenar el modelo de datos con el perceptrón\n",
        "\n",
        "Se define un concepto llamado *epocas* que significa el número de iteracciones para que el perceptrón aprenda y una taza de aprendizaje.\n",
        "\n",
        "Épocas (epochs): Una época se refiere a una iteración completa sobre todo el conjunto de datos de entrenamiento durante el proceso de aprendizaje. En cada época, el perceptrón ajusta sus pesos y sesgo en función de los errores de predicción en el conjunto de datos. El número de épocas es un hiperparámetro que se establece antes del entrenamiento y controla cuántas veces se repite el proceso de ajuste de pesos y sesgo sobre todo el conjunto de datos. Un número mayor de épocas puede llevar a un mejor ajuste del modelo, pero también puede aumentar el tiempo de entrenamiento y el riesgo de sobreajuste.\n",
        "\n",
        "Tasa de aprendizaje (learning rate): La tasa de aprendizaje es un hiperparámetro que controla qué tan rápido o qué tan lento se ajustan los pesos del perceptrón durante el entrenamiento. Es un factor multiplicativo que se aplica a la actualización de pesos y sesgo en cada paso de entrenamiento. Una tasa de aprendizaje alta puede hacer que el algoritmo converja más rápidamente, pero también puede hacer que oscile alrededor de la solución óptima. Por otro lado, una tasa de aprendizaje baja puede llevar a una convergencia más lenta, pero puede resultar en una mejor convergencia a una solución óptima.\n",
        "\n",
        "Entrenar un perceptrón con datos significa ajustar los pesos y el sesgo del perceptrón para que pueda realizar una clasificación binaria adecuada en función de los datos de entrada. El proceso de entrenamiento implica los siguientes pasos:\n",
        "\n",
        "1. Inicialización de pesos y sesgo: Se inicializan los pesos\n",
        "$w$ y el sesgo $b$ del perceptrón con valores aleatorios o predeterminados.\n",
        "\n",
        "2. Iteración sobre los datos de entrenamiento: Se itera sobre cada dato de entrenamiento en el conjunto de datos de entrenamiento.\n",
        "\n",
        "3. Cálculo de la salida: Para cada dato de entrenamiento, se calcula la salida $z$ del perceptrón como la suma ponderada de las características del dato más el sesgo, seguido de la aplicación de una función de activación para producir la salida final del perceptrón.\n",
        "\n",
        "4. Cálculo del error: Se calcula el error como la diferencia entre la salida del perceptrón y la clase real del dato de entrenamiento.\n",
        "\n",
        "5. Actualización de pesos y sesgo: Se actualizan los pesos y el sesgo del perceptrón utilizando la regla de aprendizaje del perceptrón, que implica multiplicar la tasa de aprendizaje por el error y por cada característica del dato de entrenamiento, y luego sumar estos productos a los pesos y al sesgo.\n",
        "\n",
        "6. Repetición: Los pasos 3 a 5 se repiten para todos los datos de entrenamiento en múltiples épocas hasta que se alcance un criterio de detención, como un número máximo de épocas o un umbral de error.\n",
        "\n",
        "Aquí un código para enrtenar el perceptrón con los datos de personas:\n"
      ],
      "metadata": {
        "id": "HD4O54TRfIHP"
      }
    },
    {
      "cell_type": "code",
      "source": [
        "\n",
        "vars_ind = 2; # Variables independientes\n",
        "pesos = np.random.uniform(-1, 1, size=vars_ind)\n",
        "print (pesos)\n",
        "# Umbral aleatorio\n",
        "umbral = np.random.normal(0.5, 0.2, size=1)\n",
        "print (umbral)\n",
        "\n",
        "taza_de_aprendizaje  = 0.01\n",
        "epocas = 100\n",
        "\n",
        "for epoca in range(epocas):\n",
        "  error_total = 0\n",
        "  for i in range(len(personas)):\n",
        "    decision, prediccion = f_activar_perceptron(pesos, personas[i], umbral)\n",
        "    error = clases[i] - prediccion\n",
        "    error_total += error ** 2 # elevado al cuadrado\n",
        "    pesos[0] += taza_de_aprendizaje * personas[i][0] * error\n",
        "    pesos[1] += taza_de_aprendizaje * personas[i][1] * error\n",
        "    umbral += taza_de_aprendizaje * error # El nuevo umbral\n",
        "  print (error_total, end = \" \")\n",
        "\n",
        "\n",
        "\n"
      ],
      "metadata": {
        "colab": {
          "base_uri": "https://localhost:8080/"
        },
        "id": "Ml98kEiMfShB",
        "outputId": "72f59697-5eb8-4a40-ed05-f75f6397cfc7"
      },
      "execution_count": 99,
      "outputs": [
        {
          "output_type": "stream",
          "name": "stdout",
          "text": [
            "[0.45448029 0.35880105]\n",
            "[0.46981761]\n",
            "5 5 5 5 5 5 5 5 5 5 5 5 3 0 0 0 0 0 0 0 0 0 0 0 0 0 0 0 0 0 0 0 0 0 0 0 0 0 0 0 0 0 0 0 0 0 0 0 0 0 0 0 0 0 0 0 0 0 0 0 0 0 0 0 0 0 0 0 0 0 0 0 0 0 0 0 0 0 0 0 0 0 0 0 0 0 0 0 0 0 0 0 0 0 0 0 0 0 0 0 "
          ]
        }
      ]
    },
    {
      "cell_type": "markdown",
      "source": [
        "# Probar el modelo entrenado\n",
        "\n",
        "\n"
      ],
      "metadata": {
        "id": "bFQV9CUDkC-g"
      }
    },
    {
      "cell_type": "code",
      "source": [
        "print (\"umbral \", umbral)\n",
        "# [Edad, Ahorro]\n",
        "persona = [0.5, 0.5]\n",
        "\n",
        "decision, valor = f_activar_perceptron(pesos, persona, umbral)\n",
        "print (\"Para un apersona de edad y ahorro: [0.5, 0.5]: edad 50 y ahorro 50 mil USD\")\n",
        "print (\"La decisión es: \", decision, \" el valor es: \", valor)\n",
        "\n"
      ],
      "metadata": {
        "colab": {
          "base_uri": "https://localhost:8080/"
        },
        "id": "dynPJxaukF1R",
        "outputId": "6b365b6c-16e1-4149-86c0-7b39cc9507c2"
      },
      "execution_count": 100,
      "outputs": [
        {
          "output_type": "stream",
          "name": "stdout",
          "text": [
            "umbral  [-0.16018239]\n",
            "Para un apersona de edad y ahorro: [0.5, 0.5]: edad 50 y ahorro 50 mil USD\n",
            "La decisión es:  Aceptado  el valor es:  1\n"
          ]
        }
      ]
    },
    {
      "cell_type": "markdown",
      "source": [
        "# Utilizando la librería Scikit-learn"
      ],
      "metadata": {
        "id": "zchlvA7ImCFI"
      }
    },
    {
      "cell_type": "code",
      "source": [
        "from sklearn.linear_model import Perceptron\n",
        "\n",
        "perceptron = Perceptron().fit(personas, clases)\n",
        "\n",
        "# Dos personas a predecir\n",
        "persona = np.array([[0.2, 0.2],\n",
        "                     [0.8, 0.8]])\n",
        "\n",
        "prediccion = perceptron.predict(persona)\n",
        "print (\"Prediccion\")\n",
        "print (prediccion)\n",
        "\n"
      ],
      "metadata": {
        "colab": {
          "base_uri": "https://localhost:8080/"
        },
        "id": "oq4pv_ldmMAH",
        "outputId": "60a5fff5-950f-4b67-de90-b58e2d033943"
      },
      "execution_count": 101,
      "outputs": [
        {
          "output_type": "stream",
          "name": "stdout",
          "text": [
            "Prediccion\n",
            "[0 1]\n"
          ]
        }
      ]
    },
    {
      "cell_type": "markdown",
      "source": [
        "# Interpretación\n",
        "\n",
        "Este caso describe el algoritmo de un perceptrón como concepto inicial del paradigma del aprendiaje profundo o *deep learnimg*.\n",
        "\n",
        "El perceptrón es una función que encapsula un algoritmo que permite devolver una decisión binaria que bien pudiera utilizrse para cualquier contexto que requiera clasificar registros de una clase u otra.\n",
        "\n",
        "El perceptrón puede ser el medio para entrenar datos. Este perceptrón acepta como parte de sus parámetros de entrda los valores de las las variables independientes, los pesos específicos y los umbrales que definen las tolerancias permitidas para tomar decisiones.\n",
        "\n",
        "Toda vez entrenado el modelo que utiliza un perceptrón este puede emplearse para evaluar y predecir resultados de nuevos datos.\n",
        "\n",
        "De igual forma como los modelos de clasificación anteriormente descritos en casos aneriroes, se puede utilizar un modelo de un perceptrón con datos de entrenamiento para evaluar datos de validación y con las predicciones estimar los aciertos, es decir el estadísticos de *accuracy* o exactitud por medio de una tabla de contingencia y comparar contra otros modelos.\n",
        "\n",
        "\n"
      ],
      "metadata": {
        "id": "rx5z24XGFER3"
      }
    }
  ]
}