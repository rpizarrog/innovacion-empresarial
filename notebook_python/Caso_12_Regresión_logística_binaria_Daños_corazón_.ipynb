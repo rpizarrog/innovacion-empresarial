{
  "nbformat": 4,
  "nbformat_minor": 0,
  "metadata": {
    "colab": {
      "provenance": [],
      "authorship_tag": "ABX9TyOyGO/H1/44CyqgmK37r46c",
      "include_colab_link": true
    },
    "kernelspec": {
      "name": "python3",
      "display_name": "Python 3"
    },
    "language_info": {
      "name": "python"
    },
    "widgets": {
      "application/vnd.jupyter.widget-state+json": {
        "3d25d6c1b1ab4725857ab8bb7c057921": {
          "model_module": "@jupyter-widgets/output",
          "model_name": "OutputModel",
          "model_module_version": "1.0.0",
          "state": {
            "_dom_classes": [],
            "_model_module": "@jupyter-widgets/output",
            "_model_module_version": "1.0.0",
            "_model_name": "OutputModel",
            "_view_count": null,
            "_view_module": "@jupyter-widgets/output",
            "_view_module_version": "1.0.0",
            "_view_name": "OutputView",
            "layout": "IPY_MODEL_5873f69d7a654d6fa700d38af55836ae",
            "msg_id": "",
            "outputs": [
              {
                "output_type": "display_data",
                "data": {
                  "text/plain": "<IPython.core.display.HTML object>",
                  "text/html": "<h2>Primeros registros. Predicciones de 95939 registros</h2>"
                },
                "metadata": {}
              },
              {
                "output_type": "display_data",
                "data": {
                  "text/plain": "      BMI  Smoking  AlcoholDrinking  Stroke  PhysicalHealth  MentalHealth  \\\n4   23.71        2                2       2              28             0   \n6   21.63        2                2       2              15             0   \n7   31.64        1                2       2               5             0   \n8   26.45        2                2       2               0             0   \n13  28.15        2                2       2               7             0   \n18  29.86        1                2       2               0             0   \n20  21.16        2                2       2               0             0   \n22  26.17        1                2       2               0            15   \n29  36.58        2                2       2               0             0   \n34  38.97        2                2       2               0             0   \n37  20.43        1                2       2               3             3   \n45  20.37        1                2       2               3             0   \n46  33.23        2                2       2               0             0   \n47  25.11        2                2       2               5             5   \n48  20.12        2                2       2               0             0   \n49  27.46        1                2       1              15             0   \n50  26.61        2                2       2               0             0   \n55  24.02        2                1       2               7             0   \n57  46.52        1                2       2              30             0   \n58  29.55        2                2       2               0             0   \n\n    DiffWalking  Sex  AgeCategory  Race  Diabetic  PhysicalActivity  \\\n4             1    1            5     1         2                 1   \n6             2    1           11     1         2                 1   \n7             1    1           13     1         1                 2   \n8             2    1           13     1         3                 2   \n13            1    1           13     1         2                 2   \n18            1    1           12     2         1                 2   \n20            2    1           13     2         3                 2   \n22            2    1            6     1         2                 1   \n29            2    1            9     1         1                 2   \n34            1    1           11     2         2                 2   \n37            2    1           10     1         2                 1   \n45            2    1           11     1         2                 2   \n46            2    2           10     1         1                 1   \n47            2    1           10     2         2                 1   \n48            1    1           13     1         2                 2   \n49            2    2           12     1         2                 1   \n50            2    1           10     1         2                 1   \n55            2    1            9     1         2                 1   \n57            2    2           10     1         1                 2   \n58            2    2           11     1         1                 1   \n\n    GenHealth  SleepTime  Asthma  KidneyDisease  SkinCancer HertDisease_real  \\\n4           4          8       2              2           2               No   \n6           5          4       1              2           1               No   \n7           3          9       1              2           2               No   \n8           5          5       2              1           2               No   \n13          3          7       2              2           2               No   \n18          5          5       2              1           2               No   \n20          3          8       2              2           2               No   \n22          4          6       2              2           2               No   \n29          3          5       2              2           1               No   \n34          3          6       2              2           2               No   \n37          5          5       1              2           1               No   \n45          2         10       2              2           2              Yes   \n46          4          8       2              2           2               No   \n47          3          7       2              2           2               No   \n48          5          7       2              2           1               No   \n49          2          8       2              2           2               No   \n50          3         12       1              2           2               No   \n55          5          6       2              2           2               No   \n57          2          8       1              2           2               No   \n58          3          7       2              2           2               No   \n\n   HertDisease_prediccion  \n4                      No  \n6                      No  \n7                      No  \n8                      No  \n13                     No  \n18                     No  \n20                     No  \n22                     No  \n29                     No  \n34                     No  \n37                     No  \n45                     No  \n46                     No  \n47                     No  \n48                     No  \n49                    Yes  \n50                     No  \n55                     No  \n57                     No  \n58                     No  ",
                  "text/html": "\n  <div id=\"df-94bf1b31-1e84-4852-84d0-ae12eea28d2f\" class=\"colab-df-container\">\n    <div>\n<style scoped>\n    .dataframe tbody tr th:only-of-type {\n        vertical-align: middle;\n    }\n\n    .dataframe tbody tr th {\n        vertical-align: top;\n    }\n\n    .dataframe thead th {\n        text-align: right;\n    }\n</style>\n<table border=\"1\" class=\"dataframe\">\n  <thead>\n    <tr style=\"text-align: right;\">\n      <th></th>\n      <th>BMI</th>\n      <th>Smoking</th>\n      <th>AlcoholDrinking</th>\n      <th>Stroke</th>\n      <th>PhysicalHealth</th>\n      <th>MentalHealth</th>\n      <th>DiffWalking</th>\n      <th>Sex</th>\n      <th>AgeCategory</th>\n      <th>Race</th>\n      <th>Diabetic</th>\n      <th>PhysicalActivity</th>\n      <th>GenHealth</th>\n      <th>SleepTime</th>\n      <th>Asthma</th>\n      <th>KidneyDisease</th>\n      <th>SkinCancer</th>\n      <th>HertDisease_real</th>\n      <th>HertDisease_prediccion</th>\n    </tr>\n  </thead>\n  <tbody>\n    <tr>\n      <th>4</th>\n      <td>23.71</td>\n      <td>2</td>\n      <td>2</td>\n      <td>2</td>\n      <td>28</td>\n      <td>0</td>\n      <td>1</td>\n      <td>1</td>\n      <td>5</td>\n      <td>1</td>\n      <td>2</td>\n      <td>1</td>\n      <td>4</td>\n      <td>8</td>\n      <td>2</td>\n      <td>2</td>\n      <td>2</td>\n      <td>No</td>\n      <td>No</td>\n    </tr>\n    <tr>\n      <th>6</th>\n      <td>21.63</td>\n      <td>2</td>\n      <td>2</td>\n      <td>2</td>\n      <td>15</td>\n      <td>0</td>\n      <td>2</td>\n      <td>1</td>\n      <td>11</td>\n      <td>1</td>\n      <td>2</td>\n      <td>1</td>\n      <td>5</td>\n      <td>4</td>\n      <td>1</td>\n      <td>2</td>\n      <td>1</td>\n      <td>No</td>\n      <td>No</td>\n    </tr>\n    <tr>\n      <th>7</th>\n      <td>31.64</td>\n      <td>1</td>\n      <td>2</td>\n      <td>2</td>\n      <td>5</td>\n      <td>0</td>\n      <td>1</td>\n      <td>1</td>\n      <td>13</td>\n      <td>1</td>\n      <td>1</td>\n      <td>2</td>\n      <td>3</td>\n      <td>9</td>\n      <td>1</td>\n      <td>2</td>\n      <td>2</td>\n      <td>No</td>\n      <td>No</td>\n    </tr>\n    <tr>\n      <th>8</th>\n      <td>26.45</td>\n      <td>2</td>\n      <td>2</td>\n      <td>2</td>\n      <td>0</td>\n      <td>0</td>\n      <td>2</td>\n      <td>1</td>\n      <td>13</td>\n      <td>1</td>\n      <td>3</td>\n      <td>2</td>\n      <td>5</td>\n      <td>5</td>\n      <td>2</td>\n      <td>1</td>\n      <td>2</td>\n      <td>No</td>\n      <td>No</td>\n    </tr>\n    <tr>\n      <th>13</th>\n      <td>28.15</td>\n      <td>2</td>\n      <td>2</td>\n      <td>2</td>\n      <td>7</td>\n      <td>0</td>\n      <td>1</td>\n      <td>1</td>\n      <td>13</td>\n      <td>1</td>\n      <td>2</td>\n      <td>2</td>\n      <td>3</td>\n      <td>7</td>\n      <td>2</td>\n      <td>2</td>\n      <td>2</td>\n      <td>No</td>\n      <td>No</td>\n    </tr>\n    <tr>\n      <th>18</th>\n      <td>29.86</td>\n      <td>1</td>\n      <td>2</td>\n      <td>2</td>\n      <td>0</td>\n      <td>0</td>\n      <td>1</td>\n      <td>1</td>\n      <td>12</td>\n      <td>2</td>\n      <td>1</td>\n      <td>2</td>\n      <td>5</td>\n      <td>5</td>\n      <td>2</td>\n      <td>1</td>\n      <td>2</td>\n      <td>No</td>\n      <td>No</td>\n    </tr>\n    <tr>\n      <th>20</th>\n      <td>21.16</td>\n      <td>2</td>\n      <td>2</td>\n      <td>2</td>\n      <td>0</td>\n      <td>0</td>\n      <td>2</td>\n      <td>1</td>\n      <td>13</td>\n      <td>2</td>\n      <td>3</td>\n      <td>2</td>\n      <td>3</td>\n      <td>8</td>\n      <td>2</td>\n      <td>2</td>\n      <td>2</td>\n      <td>No</td>\n      <td>No</td>\n    </tr>\n    <tr>\n      <th>22</th>\n      <td>26.17</td>\n      <td>1</td>\n      <td>2</td>\n      <td>2</td>\n      <td>0</td>\n      <td>15</td>\n      <td>2</td>\n      <td>1</td>\n      <td>6</td>\n      <td>1</td>\n      <td>2</td>\n      <td>1</td>\n      <td>4</td>\n      <td>6</td>\n      <td>2</td>\n      <td>2</td>\n      <td>2</td>\n      <td>No</td>\n      <td>No</td>\n    </tr>\n    <tr>\n      <th>29</th>\n      <td>36.58</td>\n      <td>2</td>\n      <td>2</td>\n      <td>2</td>\n      <td>0</td>\n      <td>0</td>\n      <td>2</td>\n      <td>1</td>\n      <td>9</td>\n      <td>1</td>\n      <td>1</td>\n      <td>2</td>\n      <td>3</td>\n      <td>5</td>\n      <td>2</td>\n      <td>2</td>\n      <td>1</td>\n      <td>No</td>\n      <td>No</td>\n    </tr>\n    <tr>\n      <th>34</th>\n      <td>38.97</td>\n      <td>2</td>\n      <td>2</td>\n      <td>2</td>\n      <td>0</td>\n      <td>0</td>\n      <td>1</td>\n      <td>1</td>\n      <td>11</td>\n      <td>2</td>\n      <td>2</td>\n      <td>2</td>\n      <td>3</td>\n      <td>6</td>\n      <td>2</td>\n      <td>2</td>\n      <td>2</td>\n      <td>No</td>\n      <td>No</td>\n    </tr>\n    <tr>\n      <th>37</th>\n      <td>20.43</td>\n      <td>1</td>\n      <td>2</td>\n      <td>2</td>\n      <td>3</td>\n      <td>3</td>\n      <td>2</td>\n      <td>1</td>\n      <td>10</td>\n      <td>1</td>\n      <td>2</td>\n      <td>1</td>\n      <td>5</td>\n      <td>5</td>\n      <td>1</td>\n      <td>2</td>\n      <td>1</td>\n      <td>No</td>\n      <td>No</td>\n    </tr>\n    <tr>\n      <th>45</th>\n      <td>20.37</td>\n      <td>1</td>\n      <td>2</td>\n      <td>2</td>\n      <td>3</td>\n      <td>0</td>\n      <td>2</td>\n      <td>1</td>\n      <td>11</td>\n      <td>1</td>\n      <td>2</td>\n      <td>2</td>\n      <td>2</td>\n      <td>10</td>\n      <td>2</td>\n      <td>2</td>\n      <td>2</td>\n      <td>Yes</td>\n      <td>No</td>\n    </tr>\n    <tr>\n      <th>46</th>\n      <td>33.23</td>\n      <td>2</td>\n      <td>2</td>\n      <td>2</td>\n      <td>0</td>\n      <td>0</td>\n      <td>2</td>\n      <td>2</td>\n      <td>10</td>\n      <td>1</td>\n      <td>1</td>\n      <td>1</td>\n      <td>4</td>\n      <td>8</td>\n      <td>2</td>\n      <td>2</td>\n      <td>2</td>\n      <td>No</td>\n      <td>No</td>\n    </tr>\n    <tr>\n      <th>47</th>\n      <td>25.11</td>\n      <td>2</td>\n      <td>2</td>\n      <td>2</td>\n      <td>5</td>\n      <td>5</td>\n      <td>2</td>\n      <td>1</td>\n      <td>10</td>\n      <td>2</td>\n      <td>2</td>\n      <td>1</td>\n      <td>3</td>\n      <td>7</td>\n      <td>2</td>\n      <td>2</td>\n      <td>2</td>\n      <td>No</td>\n      <td>No</td>\n    </tr>\n    <tr>\n      <th>48</th>\n      <td>20.12</td>\n      <td>2</td>\n      <td>2</td>\n      <td>2</td>\n      <td>0</td>\n      <td>0</td>\n      <td>1</td>\n      <td>1</td>\n      <td>13</td>\n      <td>1</td>\n      <td>2</td>\n      <td>2</td>\n      <td>5</td>\n      <td>7</td>\n      <td>2</td>\n      <td>2</td>\n      <td>1</td>\n      <td>No</td>\n      <td>No</td>\n    </tr>\n    <tr>\n      <th>49</th>\n      <td>27.46</td>\n      <td>1</td>\n      <td>2</td>\n      <td>1</td>\n      <td>15</td>\n      <td>0</td>\n      <td>2</td>\n      <td>2</td>\n      <td>12</td>\n      <td>1</td>\n      <td>2</td>\n      <td>1</td>\n      <td>2</td>\n      <td>8</td>\n      <td>2</td>\n      <td>2</td>\n      <td>2</td>\n      <td>No</td>\n      <td>Yes</td>\n    </tr>\n    <tr>\n      <th>50</th>\n      <td>26.61</td>\n      <td>2</td>\n      <td>2</td>\n      <td>2</td>\n      <td>0</td>\n      <td>0</td>\n      <td>2</td>\n      <td>1</td>\n      <td>10</td>\n      <td>1</td>\n      <td>2</td>\n      <td>1</td>\n      <td>3</td>\n      <td>12</td>\n      <td>1</td>\n      <td>2</td>\n      <td>2</td>\n      <td>No</td>\n      <td>No</td>\n    </tr>\n    <tr>\n      <th>55</th>\n      <td>24.02</td>\n      <td>2</td>\n      <td>1</td>\n      <td>2</td>\n      <td>7</td>\n      <td>0</td>\n      <td>2</td>\n      <td>1</td>\n      <td>9</td>\n      <td>1</td>\n      <td>2</td>\n      <td>1</td>\n      <td>5</td>\n      <td>6</td>\n      <td>2</td>\n      <td>2</td>\n      <td>2</td>\n      <td>No</td>\n      <td>No</td>\n    </tr>\n    <tr>\n      <th>57</th>\n      <td>46.52</td>\n      <td>1</td>\n      <td>2</td>\n      <td>2</td>\n      <td>30</td>\n      <td>0</td>\n      <td>2</td>\n      <td>2</td>\n      <td>10</td>\n      <td>1</td>\n      <td>1</td>\n      <td>2</td>\n      <td>2</td>\n      <td>8</td>\n      <td>1</td>\n      <td>2</td>\n      <td>2</td>\n      <td>No</td>\n      <td>No</td>\n    </tr>\n    <tr>\n      <th>58</th>\n      <td>29.55</td>\n      <td>2</td>\n      <td>2</td>\n      <td>2</td>\n      <td>0</td>\n      <td>0</td>\n      <td>2</td>\n      <td>2</td>\n      <td>11</td>\n      <td>1</td>\n      <td>1</td>\n      <td>1</td>\n      <td>3</td>\n      <td>7</td>\n      <td>2</td>\n      <td>2</td>\n      <td>2</td>\n      <td>No</td>\n      <td>No</td>\n    </tr>\n  </tbody>\n</table>\n</div>\n    <div class=\"colab-df-buttons\">\n\n  <div class=\"colab-df-container\">\n    <button class=\"colab-df-convert\" onclick=\"convertToInteractive('df-94bf1b31-1e84-4852-84d0-ae12eea28d2f')\"\n            title=\"Convert this dataframe to an interactive table.\"\n            style=\"display:none;\">\n\n  <svg xmlns=\"http://www.w3.org/2000/svg\" height=\"24px\" viewBox=\"0 -960 960 960\">\n    <path d=\"M120-120v-720h720v720H120Zm60-500h600v-160H180v160Zm220 220h160v-160H400v160Zm0 220h160v-160H400v160ZM180-400h160v-160H180v160Zm440 0h160v-160H620v160ZM180-180h160v-160H180v160Zm440 0h160v-160H620v160Z\"/>\n  </svg>\n    </button>\n\n  <style>\n    .colab-df-container {\n      display:flex;\n      gap: 12px;\n    }\n\n    .colab-df-convert {\n      background-color: #E8F0FE;\n      border: none;\n      border-radius: 50%;\n      cursor: pointer;\n      display: none;\n      fill: #1967D2;\n      height: 32px;\n      padding: 0 0 0 0;\n      width: 32px;\n    }\n\n    .colab-df-convert:hover {\n      background-color: #E2EBFA;\n      box-shadow: 0px 1px 2px rgba(60, 64, 67, 0.3), 0px 1px 3px 1px rgba(60, 64, 67, 0.15);\n      fill: #174EA6;\n    }\n\n    .colab-df-buttons div {\n      margin-bottom: 4px;\n    }\n\n    [theme=dark] .colab-df-convert {\n      background-color: #3B4455;\n      fill: #D2E3FC;\n    }\n\n    [theme=dark] .colab-df-convert:hover {\n      background-color: #434B5C;\n      box-shadow: 0px 1px 3px 1px rgba(0, 0, 0, 0.15);\n      filter: drop-shadow(0px 1px 2px rgba(0, 0, 0, 0.3));\n      fill: #FFFFFF;\n    }\n  </style>\n\n    <script>\n      const buttonEl =\n        document.querySelector('#df-94bf1b31-1e84-4852-84d0-ae12eea28d2f button.colab-df-convert');\n      buttonEl.style.display =\n        google.colab.kernel.accessAllowed ? 'block' : 'none';\n\n      async function convertToInteractive(key) {\n        const element = document.querySelector('#df-94bf1b31-1e84-4852-84d0-ae12eea28d2f');\n        const dataTable =\n          await google.colab.kernel.invokeFunction('convertToInteractive',\n                                                    [key], {});\n        if (!dataTable) return;\n\n        const docLinkHtml = 'Like what you see? Visit the ' +\n          '<a target=\"_blank\" href=https://colab.research.google.com/notebooks/data_table.ipynb>data table notebook</a>'\n          + ' to learn more about interactive tables.';\n        element.innerHTML = '';\n        dataTable['output_type'] = 'display_data';\n        await google.colab.output.renderOutput(dataTable, element);\n        const docLink = document.createElement('div');\n        docLink.innerHTML = docLinkHtml;\n        element.appendChild(docLink);\n      }\n    </script>\n  </div>\n\n\n<div id=\"df-093b900f-e004-466c-96aa-7016812337bb\">\n  <button class=\"colab-df-quickchart\" onclick=\"quickchart('df-093b900f-e004-466c-96aa-7016812337bb')\"\n            title=\"Suggest charts\"\n            style=\"display:none;\">\n\n<svg xmlns=\"http://www.w3.org/2000/svg\" height=\"24px\"viewBox=\"0 0 24 24\"\n     width=\"24px\">\n    <g>\n        <path d=\"M19 3H5c-1.1 0-2 .9-2 2v14c0 1.1.9 2 2 2h14c1.1 0 2-.9 2-2V5c0-1.1-.9-2-2-2zM9 17H7v-7h2v7zm4 0h-2V7h2v10zm4 0h-2v-4h2v4z\"/>\n    </g>\n</svg>\n  </button>\n\n<style>\n  .colab-df-quickchart {\n      --bg-color: #E8F0FE;\n      --fill-color: #1967D2;\n      --hover-bg-color: #E2EBFA;\n      --hover-fill-color: #174EA6;\n      --disabled-fill-color: #AAA;\n      --disabled-bg-color: #DDD;\n  }\n\n  [theme=dark] .colab-df-quickchart {\n      --bg-color: #3B4455;\n      --fill-color: #D2E3FC;\n      --hover-bg-color: #434B5C;\n      --hover-fill-color: #FFFFFF;\n      --disabled-bg-color: #3B4455;\n      --disabled-fill-color: #666;\n  }\n\n  .colab-df-quickchart {\n    background-color: var(--bg-color);\n    border: none;\n    border-radius: 50%;\n    cursor: pointer;\n    display: none;\n    fill: var(--fill-color);\n    height: 32px;\n    padding: 0;\n    width: 32px;\n  }\n\n  .colab-df-quickchart:hover {\n    background-color: var(--hover-bg-color);\n    box-shadow: 0 1px 2px rgba(60, 64, 67, 0.3), 0 1px 3px 1px rgba(60, 64, 67, 0.15);\n    fill: var(--button-hover-fill-color);\n  }\n\n  .colab-df-quickchart-complete:disabled,\n  .colab-df-quickchart-complete:disabled:hover {\n    background-color: var(--disabled-bg-color);\n    fill: var(--disabled-fill-color);\n    box-shadow: none;\n  }\n\n  .colab-df-spinner {\n    border: 2px solid var(--fill-color);\n    border-color: transparent;\n    border-bottom-color: var(--fill-color);\n    animation:\n      spin 1s steps(1) infinite;\n  }\n\n  @keyframes spin {\n    0% {\n      border-color: transparent;\n      border-bottom-color: var(--fill-color);\n      border-left-color: var(--fill-color);\n    }\n    20% {\n      border-color: transparent;\n      border-left-color: var(--fill-color);\n      border-top-color: var(--fill-color);\n    }\n    30% {\n      border-color: transparent;\n      border-left-color: var(--fill-color);\n      border-top-color: var(--fill-color);\n      border-right-color: var(--fill-color);\n    }\n    40% {\n      border-color: transparent;\n      border-right-color: var(--fill-color);\n      border-top-color: var(--fill-color);\n    }\n    60% {\n      border-color: transparent;\n      border-right-color: var(--fill-color);\n    }\n    80% {\n      border-color: transparent;\n      border-right-color: var(--fill-color);\n      border-bottom-color: var(--fill-color);\n    }\n    90% {\n      border-color: transparent;\n      border-bottom-color: var(--fill-color);\n    }\n  }\n</style>\n\n  <script>\n    async function quickchart(key) {\n      const quickchartButtonEl =\n        document.querySelector('#' + key + ' button');\n      quickchartButtonEl.disabled = true;  // To prevent multiple clicks.\n      quickchartButtonEl.classList.add('colab-df-spinner');\n      try {\n        const charts = await google.colab.kernel.invokeFunction(\n            'suggestCharts', [key], {});\n      } catch (error) {\n        console.error('Error during call to suggestCharts:', error);\n      }\n      quickchartButtonEl.classList.remove('colab-df-spinner');\n      quickchartButtonEl.classList.add('colab-df-quickchart-complete');\n    }\n    (() => {\n      let quickchartButtonEl =\n        document.querySelector('#df-093b900f-e004-466c-96aa-7016812337bb button');\n      quickchartButtonEl.style.display =\n        google.colab.kernel.accessAllowed ? 'block' : 'none';\n    })();\n  </script>\n</div>\n    </div>\n  </div>\n",
                  "application/vnd.google.colaboratory.intrinsic+json": {
                    "type": "dataframe",
                    "summary": "{\n  \"name\": \"display(visualizar)\",\n  \"rows\": 20,\n  \"fields\": [\n    {\n      \"column\": \"BMI\",\n      \"properties\": {\n        \"dtype\": \"number\",\n        \"std\": 6.877613646729817,\n        \"min\": 20.12,\n        \"max\": 46.52,\n        \"num_unique_values\": 20,\n        \"samples\": [\n          23.71,\n          24.02,\n          27.46\n        ],\n        \"semantic_type\": \"\",\n        \"description\": \"\"\n      }\n    },\n    {\n      \"column\": \"Smoking\",\n      \"properties\": {\n        \"dtype\": \"number\",\n        \"std\": 0,\n        \"min\": 1,\n        \"max\": 2,\n        \"num_unique_values\": 2,\n        \"samples\": [\n          1,\n          2\n        ],\n        \"semantic_type\": \"\",\n        \"description\": \"\"\n      }\n    },\n    {\n      \"column\": \"AlcoholDrinking\",\n      \"properties\": {\n        \"dtype\": \"number\",\n        \"std\": 0,\n        \"min\": 1,\n        \"max\": 2,\n        \"num_unique_values\": 2,\n        \"samples\": [\n          1,\n          2\n        ],\n        \"semantic_type\": \"\",\n        \"description\": \"\"\n      }\n    },\n    {\n      \"column\": \"Stroke\",\n      \"properties\": {\n        \"dtype\": \"number\",\n        \"std\": 0,\n        \"min\": 1,\n        \"max\": 2,\n        \"num_unique_values\": 2,\n        \"samples\": [\n          1,\n          2\n        ],\n        \"semantic_type\": \"\",\n        \"description\": \"\"\n      }\n    },\n    {\n      \"column\": \"PhysicalHealth\",\n      \"properties\": {\n        \"dtype\": \"number\",\n        \"std\": 9,\n        \"min\": 0,\n        \"max\": 30,\n        \"num_unique_values\": 7,\n        \"samples\": [\n          28,\n          15\n        ],\n        \"semantic_type\": \"\",\n        \"description\": \"\"\n      }\n    },\n    {\n      \"column\": \"MentalHealth\",\n      \"properties\": {\n        \"dtype\": \"number\",\n        \"std\": 3,\n        \"min\": 0,\n        \"max\": 15,\n        \"num_unique_values\": 4,\n        \"samples\": [\n          15,\n          5\n        ],\n        \"semantic_type\": \"\",\n        \"description\": \"\"\n      }\n    },\n    {\n      \"column\": \"DiffWalking\",\n      \"properties\": {\n        \"dtype\": \"number\",\n        \"std\": 0,\n        \"min\": 1,\n        \"max\": 2,\n        \"num_unique_values\": 2,\n        \"samples\": [\n          2,\n          1\n        ],\n        \"semantic_type\": \"\",\n        \"description\": \"\"\n      }\n    },\n    {\n      \"column\": \"Sex\",\n      \"properties\": {\n        \"dtype\": \"number\",\n        \"std\": 0,\n        \"min\": 1,\n        \"max\": 2,\n        \"num_unique_values\": 2,\n        \"samples\": [\n          2,\n          1\n        ],\n        \"semantic_type\": \"\",\n        \"description\": \"\"\n      }\n    },\n    {\n      \"column\": \"AgeCategory\",\n      \"properties\": {\n        \"dtype\": \"number\",\n        \"std\": 2,\n        \"min\": 5,\n        \"max\": 13,\n        \"num_unique_values\": 7,\n        \"samples\": [\n          5,\n          11\n        ],\n        \"semantic_type\": \"\",\n        \"description\": \"\"\n      }\n    },\n    {\n      \"column\": \"Race\",\n      \"properties\": {\n        \"dtype\": \"number\",\n        \"std\": 0,\n        \"min\": 1,\n        \"max\": 2,\n        \"num_unique_values\": 2,\n        \"samples\": [\n          2,\n          1\n        ],\n        \"semantic_type\": \"\",\n        \"description\": \"\"\n      }\n    },\n    {\n      \"column\": \"Diabetic\",\n      \"properties\": {\n        \"dtype\": \"number\",\n        \"std\": 0,\n        \"min\": 1,\n        \"max\": 3,\n        \"num_unique_values\": 3,\n        \"samples\": [\n          2,\n          1\n        ],\n        \"semantic_type\": \"\",\n        \"description\": \"\"\n      }\n    },\n    {\n      \"column\": \"PhysicalActivity\",\n      \"properties\": {\n        \"dtype\": \"number\",\n        \"std\": 0,\n        \"min\": 1,\n        \"max\": 2,\n        \"num_unique_values\": 2,\n        \"samples\": [\n          2,\n          1\n        ],\n        \"semantic_type\": \"\",\n        \"description\": \"\"\n      }\n    },\n    {\n      \"column\": \"GenHealth\",\n      \"properties\": {\n        \"dtype\": \"number\",\n        \"std\": 1,\n        \"min\": 2,\n        \"max\": 5,\n        \"num_unique_values\": 4,\n        \"samples\": [\n          5,\n          2\n        ],\n        \"semantic_type\": \"\",\n        \"description\": \"\"\n      }\n    },\n    {\n      \"column\": \"SleepTime\",\n      \"properties\": {\n        \"dtype\": \"number\",\n        \"std\": 1,\n        \"min\": 4,\n        \"max\": 12,\n        \"num_unique_values\": 8,\n        \"samples\": [\n          4,\n          6\n        ],\n        \"semantic_type\": \"\",\n        \"description\": \"\"\n      }\n    },\n    {\n      \"column\": \"Asthma\",\n      \"properties\": {\n        \"dtype\": \"number\",\n        \"std\": 0,\n        \"min\": 1,\n        \"max\": 2,\n        \"num_unique_values\": 2,\n        \"samples\": [\n          1,\n          2\n        ],\n        \"semantic_type\": \"\",\n        \"description\": \"\"\n      }\n    },\n    {\n      \"column\": \"KidneyDisease\",\n      \"properties\": {\n        \"dtype\": \"number\",\n        \"std\": 0,\n        \"min\": 1,\n        \"max\": 2,\n        \"num_unique_values\": 2,\n        \"samples\": [\n          1,\n          2\n        ],\n        \"semantic_type\": \"\",\n        \"description\": \"\"\n      }\n    },\n    {\n      \"column\": \"SkinCancer\",\n      \"properties\": {\n        \"dtype\": \"number\",\n        \"std\": 0,\n        \"min\": 1,\n        \"max\": 2,\n        \"num_unique_values\": 2,\n        \"samples\": [\n          1,\n          2\n        ],\n        \"semantic_type\": \"\",\n        \"description\": \"\"\n      }\n    },\n    {\n      \"column\": \"HertDisease_real\",\n      \"properties\": {\n        \"dtype\": \"category\",\n        \"num_unique_values\": 2,\n        \"samples\": [\n          \"Yes\",\n          \"No\"\n        ],\n        \"semantic_type\": \"\",\n        \"description\": \"\"\n      }\n    },\n    {\n      \"column\": \"HertDisease_prediccion\",\n      \"properties\": {\n        \"dtype\": \"category\",\n        \"num_unique_values\": 2,\n        \"samples\": [\n          \"Yes\",\n          \"No\"\n        ],\n        \"semantic_type\": \"\",\n        \"description\": \"\"\n      }\n    }\n  ]\n}"
                  }
                },
                "metadata": {}
              },
              {
                "output_type": "display_data",
                "data": {
                  "text/plain": "<IPython.core.display.HTML object>",
                  "text/html": "<h2> Últimos registros. Predicciones de 95939 registros</h2>"
                },
                "metadata": {}
              },
              {
                "output_type": "display_data",
                "data": {
                  "text/plain": "          BMI  Smoking  AlcoholDrinking  Stroke  PhysicalHealth  MentalHealth  \\\n319727  25.61        1                2       2               0             0   \n319729  41.01        2                2       2               1             0   \n319733  19.01        2                2       2               0             0   \n319738  37.59        1                2       2               0             0   \n319742  22.78        2                2       2               0             0   \n319744  26.63        2                2       2               0             0   \n319748  40.34        2                2       2               0             0   \n319752  22.30        2                2       2               0             0   \n319757  35.87        1                2       2               0             0   \n319759  26.63        2                2       2               0             0   \n319763  30.11        1                2       2              30             0   \n319767  36.21        1                2       2               0             0   \n319768  32.78        2                2       2               0             0   \n319774  20.36        2                2       2              30             0   \n319775  24.37        1                2       2               0             0   \n319776  27.98        2                2       2               0             0   \n319786  33.20        1                2       2               0             0   \n319787  36.54        2                2       2               7             0   \n319790  27.41        1                2       2               7             0   \n319792  24.24        2                2       2               0             0   \n\n        DiffWalking  Sex  AgeCategory  Race  Diabetic  PhysicalActivity  \\\n319727            2    1           11     6         2                 1   \n319729            2    1            5     6         2                 2   \n319733            2    2            1     6         2                 2   \n319738            1    2            9     6         1                 2   \n319742            2    2            6     6         2                 1   \n319744            2    2            8     6         3                 1   \n319748            2    2            7     6         2                 1   \n319752            2    1            2     6         2                 2   \n319757            2    2            8     6         2                 1   \n319759            1    2            7     6         1                 1   \n319763            2    2            9     6         1                 2   \n319767            1    1           12     6         1                 1   \n319768            2    2            6     6         2                 1   \n319774            1    1            8     6         1                 1   \n319775            2    2            4     6         2                 2   \n319776            2    1            7     6         2                 2   \n319786            2    1            9     6         1                 1   \n319787            2    2            3     6         2                 2   \n319790            1    2            9     6         1                 2   \n319792            2    1            6     6         2                 1   \n\n        GenHealth  SleepTime  Asthma  KidneyDisease  SkinCancer  \\\n319727          3          8       2              2           2   \n319729          3          7       2              2           2   \n319733          3          8       2              2           2   \n319738          5          8       2              1           2   \n319742          5          7       2              2           2   \n319744          5          6       2              2           2   \n319748          5          5       2              2           2   \n319752          4          6       2              2           2   \n319757          3          8       2              2           2   \n319759          3          9       2              1           2   \n319763          5          5       2              2           2   \n319767          3          8       2              2           2   \n319768          4          6       2              2           2   \n319774          5          8       2              2           2   \n319775          3          8       2              2           2   \n319776          3          8       2              2           2   \n319786          4          8       1              2           2   \n319787          3          9       2              2           2   \n319790          5          6       1              2           2   \n319792          3          6       2              2           2   \n\n       HertDisease_real HertDisease_prediccion  \n319727               No                     No  \n319729               No                     No  \n319733               No                     No  \n319738               No                     No  \n319742               No                     No  \n319744               No                     No  \n319748               No                     No  \n319752               No                     No  \n319757               No                     No  \n319759               No                     No  \n319763               No                     No  \n319767              Yes                     No  \n319768               No                     No  \n319774               No                     No  \n319775               No                     No  \n319776               No                     No  \n319786              Yes                     No  \n319787               No                     No  \n319790              Yes                     No  \n319792               No                     No  ",
                  "text/html": "\n  <div id=\"df-12964626-f57e-4c55-a393-d6e45c8dfc6b\" class=\"colab-df-container\">\n    <div>\n<style scoped>\n    .dataframe tbody tr th:only-of-type {\n        vertical-align: middle;\n    }\n\n    .dataframe tbody tr th {\n        vertical-align: top;\n    }\n\n    .dataframe thead th {\n        text-align: right;\n    }\n</style>\n<table border=\"1\" class=\"dataframe\">\n  <thead>\n    <tr style=\"text-align: right;\">\n      <th></th>\n      <th>BMI</th>\n      <th>Smoking</th>\n      <th>AlcoholDrinking</th>\n      <th>Stroke</th>\n      <th>PhysicalHealth</th>\n      <th>MentalHealth</th>\n      <th>DiffWalking</th>\n      <th>Sex</th>\n      <th>AgeCategory</th>\n      <th>Race</th>\n      <th>Diabetic</th>\n      <th>PhysicalActivity</th>\n      <th>GenHealth</th>\n      <th>SleepTime</th>\n      <th>Asthma</th>\n      <th>KidneyDisease</th>\n      <th>SkinCancer</th>\n      <th>HertDisease_real</th>\n      <th>HertDisease_prediccion</th>\n    </tr>\n  </thead>\n  <tbody>\n    <tr>\n      <th>319727</th>\n      <td>25.61</td>\n      <td>1</td>\n      <td>2</td>\n      <td>2</td>\n      <td>0</td>\n      <td>0</td>\n      <td>2</td>\n      <td>1</td>\n      <td>11</td>\n      <td>6</td>\n      <td>2</td>\n      <td>1</td>\n      <td>3</td>\n      <td>8</td>\n      <td>2</td>\n      <td>2</td>\n      <td>2</td>\n      <td>No</td>\n      <td>No</td>\n    </tr>\n    <tr>\n      <th>319729</th>\n      <td>41.01</td>\n      <td>2</td>\n      <td>2</td>\n      <td>2</td>\n      <td>1</td>\n      <td>0</td>\n      <td>2</td>\n      <td>1</td>\n      <td>5</td>\n      <td>6</td>\n      <td>2</td>\n      <td>2</td>\n      <td>3</td>\n      <td>7</td>\n      <td>2</td>\n      <td>2</td>\n      <td>2</td>\n      <td>No</td>\n      <td>No</td>\n    </tr>\n    <tr>\n      <th>319733</th>\n      <td>19.01</td>\n      <td>2</td>\n      <td>2</td>\n      <td>2</td>\n      <td>0</td>\n      <td>0</td>\n      <td>2</td>\n      <td>2</td>\n      <td>1</td>\n      <td>6</td>\n      <td>2</td>\n      <td>2</td>\n      <td>3</td>\n      <td>8</td>\n      <td>2</td>\n      <td>2</td>\n      <td>2</td>\n      <td>No</td>\n      <td>No</td>\n    </tr>\n    <tr>\n      <th>319738</th>\n      <td>37.59</td>\n      <td>1</td>\n      <td>2</td>\n      <td>2</td>\n      <td>0</td>\n      <td>0</td>\n      <td>1</td>\n      <td>2</td>\n      <td>9</td>\n      <td>6</td>\n      <td>1</td>\n      <td>2</td>\n      <td>5</td>\n      <td>8</td>\n      <td>2</td>\n      <td>1</td>\n      <td>2</td>\n      <td>No</td>\n      <td>No</td>\n    </tr>\n    <tr>\n      <th>319742</th>\n      <td>22.78</td>\n      <td>2</td>\n      <td>2</td>\n      <td>2</td>\n      <td>0</td>\n      <td>0</td>\n      <td>2</td>\n      <td>2</td>\n      <td>6</td>\n      <td>6</td>\n      <td>2</td>\n      <td>1</td>\n      <td>5</td>\n      <td>7</td>\n      <td>2</td>\n      <td>2</td>\n      <td>2</td>\n      <td>No</td>\n      <td>No</td>\n    </tr>\n    <tr>\n      <th>319744</th>\n      <td>26.63</td>\n      <td>2</td>\n      <td>2</td>\n      <td>2</td>\n      <td>0</td>\n      <td>0</td>\n      <td>2</td>\n      <td>2</td>\n      <td>8</td>\n      <td>6</td>\n      <td>3</td>\n      <td>1</td>\n      <td>5</td>\n      <td>6</td>\n      <td>2</td>\n      <td>2</td>\n      <td>2</td>\n      <td>No</td>\n      <td>No</td>\n    </tr>\n    <tr>\n      <th>319748</th>\n      <td>40.34</td>\n      <td>2</td>\n      <td>2</td>\n      <td>2</td>\n      <td>0</td>\n      <td>0</td>\n      <td>2</td>\n      <td>2</td>\n      <td>7</td>\n      <td>6</td>\n      <td>2</td>\n      <td>1</td>\n      <td>5</td>\n      <td>5</td>\n      <td>2</td>\n      <td>2</td>\n      <td>2</td>\n      <td>No</td>\n      <td>No</td>\n    </tr>\n    <tr>\n      <th>319752</th>\n      <td>22.30</td>\n      <td>2</td>\n      <td>2</td>\n      <td>2</td>\n      <td>0</td>\n      <td>0</td>\n      <td>2</td>\n      <td>1</td>\n      <td>2</td>\n      <td>6</td>\n      <td>2</td>\n      <td>2</td>\n      <td>4</td>\n      <td>6</td>\n      <td>2</td>\n      <td>2</td>\n      <td>2</td>\n      <td>No</td>\n      <td>No</td>\n    </tr>\n    <tr>\n      <th>319757</th>\n      <td>35.87</td>\n      <td>1</td>\n      <td>2</td>\n      <td>2</td>\n      <td>0</td>\n      <td>0</td>\n      <td>2</td>\n      <td>2</td>\n      <td>8</td>\n      <td>6</td>\n      <td>2</td>\n      <td>1</td>\n      <td>3</td>\n      <td>8</td>\n      <td>2</td>\n      <td>2</td>\n      <td>2</td>\n      <td>No</td>\n      <td>No</td>\n    </tr>\n    <tr>\n      <th>319759</th>\n      <td>26.63</td>\n      <td>2</td>\n      <td>2</td>\n      <td>2</td>\n      <td>0</td>\n      <td>0</td>\n      <td>1</td>\n      <td>2</td>\n      <td>7</td>\n      <td>6</td>\n      <td>1</td>\n      <td>1</td>\n      <td>3</td>\n      <td>9</td>\n      <td>2</td>\n      <td>1</td>\n      <td>2</td>\n      <td>No</td>\n      <td>No</td>\n    </tr>\n    <tr>\n      <th>319763</th>\n      <td>30.11</td>\n      <td>1</td>\n      <td>2</td>\n      <td>2</td>\n      <td>30</td>\n      <td>0</td>\n      <td>2</td>\n      <td>2</td>\n      <td>9</td>\n      <td>6</td>\n      <td>1</td>\n      <td>2</td>\n      <td>5</td>\n      <td>5</td>\n      <td>2</td>\n      <td>2</td>\n      <td>2</td>\n      <td>No</td>\n      <td>No</td>\n    </tr>\n    <tr>\n      <th>319767</th>\n      <td>36.21</td>\n      <td>1</td>\n      <td>2</td>\n      <td>2</td>\n      <td>0</td>\n      <td>0</td>\n      <td>1</td>\n      <td>1</td>\n      <td>12</td>\n      <td>6</td>\n      <td>1</td>\n      <td>1</td>\n      <td>3</td>\n      <td>8</td>\n      <td>2</td>\n      <td>2</td>\n      <td>2</td>\n      <td>Yes</td>\n      <td>No</td>\n    </tr>\n    <tr>\n      <th>319768</th>\n      <td>32.78</td>\n      <td>2</td>\n      <td>2</td>\n      <td>2</td>\n      <td>0</td>\n      <td>0</td>\n      <td>2</td>\n      <td>2</td>\n      <td>6</td>\n      <td>6</td>\n      <td>2</td>\n      <td>1</td>\n      <td>4</td>\n      <td>6</td>\n      <td>2</td>\n      <td>2</td>\n      <td>2</td>\n      <td>No</td>\n      <td>No</td>\n    </tr>\n    <tr>\n      <th>319774</th>\n      <td>20.36</td>\n      <td>2</td>\n      <td>2</td>\n      <td>2</td>\n      <td>30</td>\n      <td>0</td>\n      <td>1</td>\n      <td>1</td>\n      <td>8</td>\n      <td>6</td>\n      <td>1</td>\n      <td>1</td>\n      <td>5</td>\n      <td>8</td>\n      <td>2</td>\n      <td>2</td>\n      <td>2</td>\n      <td>No</td>\n      <td>No</td>\n    </tr>\n    <tr>\n      <th>319775</th>\n      <td>24.37</td>\n      <td>1</td>\n      <td>2</td>\n      <td>2</td>\n      <td>0</td>\n      <td>0</td>\n      <td>2</td>\n      <td>2</td>\n      <td>4</td>\n      <td>6</td>\n      <td>2</td>\n      <td>2</td>\n      <td>3</td>\n      <td>8</td>\n      <td>2</td>\n      <td>2</td>\n      <td>2</td>\n      <td>No</td>\n      <td>No</td>\n    </tr>\n    <tr>\n      <th>319776</th>\n      <td>27.98</td>\n      <td>2</td>\n      <td>2</td>\n      <td>2</td>\n      <td>0</td>\n      <td>0</td>\n      <td>2</td>\n      <td>1</td>\n      <td>7</td>\n      <td>6</td>\n      <td>2</td>\n      <td>2</td>\n      <td>3</td>\n      <td>8</td>\n      <td>2</td>\n      <td>2</td>\n      <td>2</td>\n      <td>No</td>\n      <td>No</td>\n    </tr>\n    <tr>\n      <th>319786</th>\n      <td>33.20</td>\n      <td>1</td>\n      <td>2</td>\n      <td>2</td>\n      <td>0</td>\n      <td>0</td>\n      <td>2</td>\n      <td>1</td>\n      <td>9</td>\n      <td>6</td>\n      <td>1</td>\n      <td>1</td>\n      <td>4</td>\n      <td>8</td>\n      <td>1</td>\n      <td>2</td>\n      <td>2</td>\n      <td>Yes</td>\n      <td>No</td>\n    </tr>\n    <tr>\n      <th>319787</th>\n      <td>36.54</td>\n      <td>2</td>\n      <td>2</td>\n      <td>2</td>\n      <td>7</td>\n      <td>0</td>\n      <td>2</td>\n      <td>2</td>\n      <td>3</td>\n      <td>6</td>\n      <td>2</td>\n      <td>2</td>\n      <td>3</td>\n      <td>9</td>\n      <td>2</td>\n      <td>2</td>\n      <td>2</td>\n      <td>No</td>\n      <td>No</td>\n    </tr>\n    <tr>\n      <th>319790</th>\n      <td>27.41</td>\n      <td>1</td>\n      <td>2</td>\n      <td>2</td>\n      <td>7</td>\n      <td>0</td>\n      <td>1</td>\n      <td>2</td>\n      <td>9</td>\n      <td>6</td>\n      <td>1</td>\n      <td>2</td>\n      <td>5</td>\n      <td>6</td>\n      <td>1</td>\n      <td>2</td>\n      <td>2</td>\n      <td>Yes</td>\n      <td>No</td>\n    </tr>\n    <tr>\n      <th>319792</th>\n      <td>24.24</td>\n      <td>2</td>\n      <td>2</td>\n      <td>2</td>\n      <td>0</td>\n      <td>0</td>\n      <td>2</td>\n      <td>1</td>\n      <td>6</td>\n      <td>6</td>\n      <td>2</td>\n      <td>1</td>\n      <td>3</td>\n      <td>6</td>\n      <td>2</td>\n      <td>2</td>\n      <td>2</td>\n      <td>No</td>\n      <td>No</td>\n    </tr>\n  </tbody>\n</table>\n</div>\n    <div class=\"colab-df-buttons\">\n\n  <div class=\"colab-df-container\">\n    <button class=\"colab-df-convert\" onclick=\"convertToInteractive('df-12964626-f57e-4c55-a393-d6e45c8dfc6b')\"\n            title=\"Convert this dataframe to an interactive table.\"\n            style=\"display:none;\">\n\n  <svg xmlns=\"http://www.w3.org/2000/svg\" height=\"24px\" viewBox=\"0 -960 960 960\">\n    <path d=\"M120-120v-720h720v720H120Zm60-500h600v-160H180v160Zm220 220h160v-160H400v160Zm0 220h160v-160H400v160ZM180-400h160v-160H180v160Zm440 0h160v-160H620v160ZM180-180h160v-160H180v160Zm440 0h160v-160H620v160Z\"/>\n  </svg>\n    </button>\n\n  <style>\n    .colab-df-container {\n      display:flex;\n      gap: 12px;\n    }\n\n    .colab-df-convert {\n      background-color: #E8F0FE;\n      border: none;\n      border-radius: 50%;\n      cursor: pointer;\n      display: none;\n      fill: #1967D2;\n      height: 32px;\n      padding: 0 0 0 0;\n      width: 32px;\n    }\n\n    .colab-df-convert:hover {\n      background-color: #E2EBFA;\n      box-shadow: 0px 1px 2px rgba(60, 64, 67, 0.3), 0px 1px 3px 1px rgba(60, 64, 67, 0.15);\n      fill: #174EA6;\n    }\n\n    .colab-df-buttons div {\n      margin-bottom: 4px;\n    }\n\n    [theme=dark] .colab-df-convert {\n      background-color: #3B4455;\n      fill: #D2E3FC;\n    }\n\n    [theme=dark] .colab-df-convert:hover {\n      background-color: #434B5C;\n      box-shadow: 0px 1px 3px 1px rgba(0, 0, 0, 0.15);\n      filter: drop-shadow(0px 1px 2px rgba(0, 0, 0, 0.3));\n      fill: #FFFFFF;\n    }\n  </style>\n\n    <script>\n      const buttonEl =\n        document.querySelector('#df-12964626-f57e-4c55-a393-d6e45c8dfc6b button.colab-df-convert');\n      buttonEl.style.display =\n        google.colab.kernel.accessAllowed ? 'block' : 'none';\n\n      async function convertToInteractive(key) {\n        const element = document.querySelector('#df-12964626-f57e-4c55-a393-d6e45c8dfc6b');\n        const dataTable =\n          await google.colab.kernel.invokeFunction('convertToInteractive',\n                                                    [key], {});\n        if (!dataTable) return;\n\n        const docLinkHtml = 'Like what you see? Visit the ' +\n          '<a target=\"_blank\" href=https://colab.research.google.com/notebooks/data_table.ipynb>data table notebook</a>'\n          + ' to learn more about interactive tables.';\n        element.innerHTML = '';\n        dataTable['output_type'] = 'display_data';\n        await google.colab.output.renderOutput(dataTable, element);\n        const docLink = document.createElement('div');\n        docLink.innerHTML = docLinkHtml;\n        element.appendChild(docLink);\n      }\n    </script>\n  </div>\n\n\n<div id=\"df-a5852a54-6f40-4691-b239-141c1489d8d2\">\n  <button class=\"colab-df-quickchart\" onclick=\"quickchart('df-a5852a54-6f40-4691-b239-141c1489d8d2')\"\n            title=\"Suggest charts\"\n            style=\"display:none;\">\n\n<svg xmlns=\"http://www.w3.org/2000/svg\" height=\"24px\"viewBox=\"0 0 24 24\"\n     width=\"24px\">\n    <g>\n        <path d=\"M19 3H5c-1.1 0-2 .9-2 2v14c0 1.1.9 2 2 2h14c1.1 0 2-.9 2-2V5c0-1.1-.9-2-2-2zM9 17H7v-7h2v7zm4 0h-2V7h2v10zm4 0h-2v-4h2v4z\"/>\n    </g>\n</svg>\n  </button>\n\n<style>\n  .colab-df-quickchart {\n      --bg-color: #E8F0FE;\n      --fill-color: #1967D2;\n      --hover-bg-color: #E2EBFA;\n      --hover-fill-color: #174EA6;\n      --disabled-fill-color: #AAA;\n      --disabled-bg-color: #DDD;\n  }\n\n  [theme=dark] .colab-df-quickchart {\n      --bg-color: #3B4455;\n      --fill-color: #D2E3FC;\n      --hover-bg-color: #434B5C;\n      --hover-fill-color: #FFFFFF;\n      --disabled-bg-color: #3B4455;\n      --disabled-fill-color: #666;\n  }\n\n  .colab-df-quickchart {\n    background-color: var(--bg-color);\n    border: none;\n    border-radius: 50%;\n    cursor: pointer;\n    display: none;\n    fill: var(--fill-color);\n    height: 32px;\n    padding: 0;\n    width: 32px;\n  }\n\n  .colab-df-quickchart:hover {\n    background-color: var(--hover-bg-color);\n    box-shadow: 0 1px 2px rgba(60, 64, 67, 0.3), 0 1px 3px 1px rgba(60, 64, 67, 0.15);\n    fill: var(--button-hover-fill-color);\n  }\n\n  .colab-df-quickchart-complete:disabled,\n  .colab-df-quickchart-complete:disabled:hover {\n    background-color: var(--disabled-bg-color);\n    fill: var(--disabled-fill-color);\n    box-shadow: none;\n  }\n\n  .colab-df-spinner {\n    border: 2px solid var(--fill-color);\n    border-color: transparent;\n    border-bottom-color: var(--fill-color);\n    animation:\n      spin 1s steps(1) infinite;\n  }\n\n  @keyframes spin {\n    0% {\n      border-color: transparent;\n      border-bottom-color: var(--fill-color);\n      border-left-color: var(--fill-color);\n    }\n    20% {\n      border-color: transparent;\n      border-left-color: var(--fill-color);\n      border-top-color: var(--fill-color);\n    }\n    30% {\n      border-color: transparent;\n      border-left-color: var(--fill-color);\n      border-top-color: var(--fill-color);\n      border-right-color: var(--fill-color);\n    }\n    40% {\n      border-color: transparent;\n      border-right-color: var(--fill-color);\n      border-top-color: var(--fill-color);\n    }\n    60% {\n      border-color: transparent;\n      border-right-color: var(--fill-color);\n    }\n    80% {\n      border-color: transparent;\n      border-right-color: var(--fill-color);\n      border-bottom-color: var(--fill-color);\n    }\n    90% {\n      border-color: transparent;\n      border-bottom-color: var(--fill-color);\n    }\n  }\n</style>\n\n  <script>\n    async function quickchart(key) {\n      const quickchartButtonEl =\n        document.querySelector('#' + key + ' button');\n      quickchartButtonEl.disabled = true;  // To prevent multiple clicks.\n      quickchartButtonEl.classList.add('colab-df-spinner');\n      try {\n        const charts = await google.colab.kernel.invokeFunction(\n            'suggestCharts', [key], {});\n      } catch (error) {\n        console.error('Error during call to suggestCharts:', error);\n      }\n      quickchartButtonEl.classList.remove('colab-df-spinner');\n      quickchartButtonEl.classList.add('colab-df-quickchart-complete');\n    }\n    (() => {\n      let quickchartButtonEl =\n        document.querySelector('#df-a5852a54-6f40-4691-b239-141c1489d8d2 button');\n      quickchartButtonEl.style.display =\n        google.colab.kernel.accessAllowed ? 'block' : 'none';\n    })();\n  </script>\n</div>\n    </div>\n  </div>\n",
                  "application/vnd.google.colaboratory.intrinsic+json": {
                    "type": "dataframe",
                    "summary": "{\n  \"name\": \"display(visualizar)\",\n  \"rows\": 20,\n  \"fields\": [\n    {\n      \"column\": \"BMI\",\n      \"properties\": {\n        \"dtype\": \"number\",\n        \"std\": 6.720811569884604,\n        \"min\": 19.01,\n        \"max\": 41.01,\n        \"num_unique_values\": 19,\n        \"samples\": [\n          25.61,\n          26.63,\n          32.78\n        ],\n        \"semantic_type\": \"\",\n        \"description\": \"\"\n      }\n    },\n    {\n      \"column\": \"Smoking\",\n      \"properties\": {\n        \"dtype\": \"number\",\n        \"std\": 0,\n        \"min\": 1,\n        \"max\": 2,\n        \"num_unique_values\": 2,\n        \"samples\": [\n          2,\n          1\n        ],\n        \"semantic_type\": \"\",\n        \"description\": \"\"\n      }\n    },\n    {\n      \"column\": \"AlcoholDrinking\",\n      \"properties\": {\n        \"dtype\": \"number\",\n        \"std\": 0,\n        \"min\": 2,\n        \"max\": 2,\n        \"num_unique_values\": 1,\n        \"samples\": [\n          2\n        ],\n        \"semantic_type\": \"\",\n        \"description\": \"\"\n      }\n    },\n    {\n      \"column\": \"Stroke\",\n      \"properties\": {\n        \"dtype\": \"number\",\n        \"std\": 0,\n        \"min\": 2,\n        \"max\": 2,\n        \"num_unique_values\": 1,\n        \"samples\": [\n          2\n        ],\n        \"semantic_type\": \"\",\n        \"description\": \"\"\n      }\n    },\n    {\n      \"column\": \"PhysicalHealth\",\n      \"properties\": {\n        \"dtype\": \"number\",\n        \"std\": 9,\n        \"min\": 0,\n        \"max\": 30,\n        \"num_unique_values\": 4,\n        \"samples\": [\n          1\n        ],\n        \"semantic_type\": \"\",\n        \"description\": \"\"\n      }\n    },\n    {\n      \"column\": \"MentalHealth\",\n      \"properties\": {\n        \"dtype\": \"number\",\n        \"std\": 0,\n        \"min\": 0,\n        \"max\": 0,\n        \"num_unique_values\": 1,\n        \"samples\": [\n          0\n        ],\n        \"semantic_type\": \"\",\n        \"description\": \"\"\n      }\n    },\n    {\n      \"column\": \"DiffWalking\",\n      \"properties\": {\n        \"dtype\": \"number\",\n        \"std\": 0,\n        \"min\": 1,\n        \"max\": 2,\n        \"num_unique_values\": 2,\n        \"samples\": [\n          1\n        ],\n        \"semantic_type\": \"\",\n        \"description\": \"\"\n      }\n    },\n    {\n      \"column\": \"Sex\",\n      \"properties\": {\n        \"dtype\": \"number\",\n        \"std\": 0,\n        \"min\": 1,\n        \"max\": 2,\n        \"num_unique_values\": 2,\n        \"samples\": [\n          2\n        ],\n        \"semantic_type\": \"\",\n        \"description\": \"\"\n      }\n    },\n    {\n      \"column\": \"AgeCategory\",\n      \"properties\": {\n        \"dtype\": \"number\",\n        \"std\": 2,\n        \"min\": 1,\n        \"max\": 12,\n        \"num_unique_values\": 11,\n        \"samples\": [\n          8\n        ],\n        \"semantic_type\": \"\",\n        \"description\": \"\"\n      }\n    },\n    {\n      \"column\": \"Race\",\n      \"properties\": {\n        \"dtype\": \"number\",\n        \"std\": 0,\n        \"min\": 6,\n        \"max\": 6,\n        \"num_unique_values\": 1,\n        \"samples\": [\n          6\n        ],\n        \"semantic_type\": \"\",\n        \"description\": \"\"\n      }\n    },\n    {\n      \"column\": \"Diabetic\",\n      \"properties\": {\n        \"dtype\": \"number\",\n        \"std\": 0,\n        \"min\": 1,\n        \"max\": 3,\n        \"num_unique_values\": 3,\n        \"samples\": [\n          2\n        ],\n        \"semantic_type\": \"\",\n        \"description\": \"\"\n      }\n    },\n    {\n      \"column\": \"PhysicalActivity\",\n      \"properties\": {\n        \"dtype\": \"number\",\n        \"std\": 0,\n        \"min\": 1,\n        \"max\": 2,\n        \"num_unique_values\": 2,\n        \"samples\": [\n          2\n        ],\n        \"semantic_type\": \"\",\n        \"description\": \"\"\n      }\n    },\n    {\n      \"column\": \"GenHealth\",\n      \"properties\": {\n        \"dtype\": \"number\",\n        \"std\": 0,\n        \"min\": 3,\n        \"max\": 5,\n        \"num_unique_values\": 3,\n        \"samples\": [\n          3\n        ],\n        \"semantic_type\": \"\",\n        \"description\": \"\"\n      }\n    },\n    {\n      \"column\": \"SleepTime\",\n      \"properties\": {\n        \"dtype\": \"number\",\n        \"std\": 1,\n        \"min\": 5,\n        \"max\": 9,\n        \"num_unique_values\": 5,\n        \"samples\": [\n          7\n        ],\n        \"semantic_type\": \"\",\n        \"description\": \"\"\n      }\n    },\n    {\n      \"column\": \"Asthma\",\n      \"properties\": {\n        \"dtype\": \"number\",\n        \"std\": 0,\n        \"min\": 1,\n        \"max\": 2,\n        \"num_unique_values\": 2,\n        \"samples\": [\n          1\n        ],\n        \"semantic_type\": \"\",\n        \"description\": \"\"\n      }\n    },\n    {\n      \"column\": \"KidneyDisease\",\n      \"properties\": {\n        \"dtype\": \"number\",\n        \"std\": 0,\n        \"min\": 1,\n        \"max\": 2,\n        \"num_unique_values\": 2,\n        \"samples\": [\n          1\n        ],\n        \"semantic_type\": \"\",\n        \"description\": \"\"\n      }\n    },\n    {\n      \"column\": \"SkinCancer\",\n      \"properties\": {\n        \"dtype\": \"number\",\n        \"std\": 0,\n        \"min\": 2,\n        \"max\": 2,\n        \"num_unique_values\": 1,\n        \"samples\": [\n          2\n        ],\n        \"semantic_type\": \"\",\n        \"description\": \"\"\n      }\n    },\n    {\n      \"column\": \"HertDisease_real\",\n      \"properties\": {\n        \"dtype\": \"category\",\n        \"num_unique_values\": 2,\n        \"samples\": [\n          \"Yes\"\n        ],\n        \"semantic_type\": \"\",\n        \"description\": \"\"\n      }\n    },\n    {\n      \"column\": \"HertDisease_prediccion\",\n      \"properties\": {\n        \"dtype\": \"category\",\n        \"num_unique_values\": 1,\n        \"samples\": [\n          \"No\"\n        ],\n        \"semantic_type\": \"\",\n        \"description\": \"\"\n      }\n    }\n  ]\n}"
                  }
                },
                "metadata": {}
              }
            ]
          }
        },
        "5873f69d7a654d6fa700d38af55836ae": {
          "model_module": "@jupyter-widgets/base",
          "model_name": "LayoutModel",
          "model_module_version": "1.2.0",
          "state": {
            "_model_module": "@jupyter-widgets/base",
            "_model_module_version": "1.2.0",
            "_model_name": "LayoutModel",
            "_view_count": null,
            "_view_module": "@jupyter-widgets/base",
            "_view_module_version": "1.2.0",
            "_view_name": "LayoutView",
            "align_content": null,
            "align_items": null,
            "align_self": null,
            "border": null,
            "bottom": null,
            "display": null,
            "flex": null,
            "flex_flow": null,
            "grid_area": null,
            "grid_auto_columns": null,
            "grid_auto_flow": null,
            "grid_auto_rows": null,
            "grid_column": null,
            "grid_gap": null,
            "grid_row": null,
            "grid_template_areas": null,
            "grid_template_columns": null,
            "grid_template_rows": null,
            "height": null,
            "justify_content": null,
            "justify_items": null,
            "left": null,
            "margin": null,
            "max_height": null,
            "max_width": null,
            "min_height": null,
            "min_width": null,
            "object_fit": null,
            "object_position": null,
            "order": null,
            "overflow": null,
            "overflow_x": null,
            "overflow_y": null,
            "padding": null,
            "right": null,
            "top": null,
            "visibility": null,
            "width": null
          }
        }
      }
    }
  },
  "cells": [
    {
      "cell_type": "markdown",
      "metadata": {
        "id": "view-in-github",
        "colab_type": "text"
      },
      "source": [
        "<a href=\"https://colab.research.google.com/github/rpizarrog/innovacion-empresarial/blob/main/notebook_python/Caso_12_Regresi%C3%B3n_log%C3%ADstica_binaria_Da%C3%B1os_coraz%C3%B3n_.ipynb\" target=\"_parent\"><img src=\"https://colab.research.google.com/assets/colab-badge.svg\" alt=\"Open In Colab\"/></a>"
      ]
    },
    {
      "cell_type": "markdown",
      "source": [
        "# Objetivo\n",
        "\n",
        "Construir, implementar y evaluar un modelo de clasificación medainte el algoritmo de regresión logística binaria para resolver tareas de predicción de personas con daños al corazón.\n",
        "\n",
        "\n",
        "\n"
      ],
      "metadata": {
        "id": "soJYESdeuQ9H"
      }
    },
    {
      "cell_type": "markdown",
      "source": [
        "# Marco teórico\n",
        "\n",
        "La regresión logística ofrece solución para clasificar y para predecir valores lógicos, es decir con un valor etiquetado tal vez 0 o 1; bueno o malo, alto o bajo, entre otras etiquetas que distingan una polaridad o significado dicotómico, o un valor u otro.\n",
        "\n",
        "Para predicciones el modelo de regresión logística binaria encuentra la probabilidad de ocurrencia de un evento determinado y dicha probabilidad se hallará siempre dentro del rango.\n",
        "\n",
        "Cuando la variable respuesta posee dos categorías, entonces se estará delante de una regresión logística binaria.\n",
        "\n",
        "En cambio, si la variable respuesta posee más de dos categorías, se usará la regresión logística multinomial .\n",
        "\n",
        "El resultado real de muchos algoritmos de clasificación binaria es una puntuación de predicción en términos de probabilidad. La probabilidad indica la posible del modelo de que la observación dada pertenezca a la clase positiva.\n",
        "\n",
        "Para tomar la decisión sobre si la observación debe clasificarse como positiva o negativa, como interpretación de la probabilidad se define el umbral de clasificación o el corte que normalmente es 50% arriba es positiva y 50% abajo es negativa y compara con la puntuación con dicho umbral de la predicción.\n",
        "\n",
        "Cualquier observación con puntuaciones superiores al umbral se prevé como la clase positiva y las puntuaciones inferiores al umbral se prevén como la clase negativa.[@amazonmahinelearning]. [@amazonmahinelearning]\n",
        "\n",
        "En este caso que se presenta y describe a continuación, se utiliza la regresión logística binomial como parte de los algoritmos supervisados de machine learning.\n",
        "\n",
        "El modelo requiere una cantidad de variables independientes del modelo $x_1, x_2 ... x_n$ ó $\\beta_1, \\beta_2...\\beta_n$.\n",
        "\n",
        "Se debe identificar la variable dependiente $Y$ o la variable respuesta de tipo binaria, donde cada componente de 𝑌 se distribuye mediante una distribución de Bernoulli $[ 0 | 1]$.\n",
        "\n",
        "Se necesitan $𝑛$ el número de observaciones.\n",
        "\n",
        "Entonces $𝑋 = (𝑥_1, … , 𝑥_𝑛)^T$ el conjunto de variable independientes.\n",
        "\n",
        "Se identifica como $\\theta$ el vector de parámetros asociado al modelo, de forma que $\\theta\\in R^{k+1}$ que significa que los valores del vector resultante pertenecen a cada una de las variables.\n",
        "\n",
        "Sea $\\pi(\\theta^T𝑥_𝑖)$ la probabilidad de que $Y_i$ tome un valor igual a $1$, entonces su modelo se puede escribir como:\n",
        "\n",
        "$$\n",
        "\\pi(\\theta^Tx_i) = P(Y =1|X=x) = \\frac{1}{1+e}\n",
        "$$\n",
        "\n",
        "Si $\\theta^Tx_i$ los valores ajustados toma valores elevados y positivos, entonces ... ... se aproximará a 0 y, en consecuencia, el valor de la función anterior será igual a 1. En caso de que $\\theta^Tx_i$ tome valores elevados pero negativos, entonces el valor de la función será $0$ dado que $e ^ {\\theta^Tx_i}$ tenderá a infinito. [@zang2020] [@zang2020].\n",
        "\n",
        "El valor $e$ como número irracional y basado en la teoría de logaritmos naturales es el valor constante que se puede obtener en lenguaje R con la función exp(1) igual a r exp(1)en en Python como *e_value = math.e* habiendo importado la biblioteca math: *import math*.\n",
        "\n",
        "Efectuando la transformación logit a la expresión inicial, se obtiene:\n",
        "\n",
        "$$\n",
        "logit(\\pi(\\theta^Tx_i)) = ln(\\frac{\\pi(\\theta^Tx_i)}{1 - \\pi(\\theta^Tx_i)})\n",
        "$$\n",
        "\n",
        "que significa calcular el logaritmo natural de cada valor de de $x_i$ para determinar su probabilidad."
      ],
      "metadata": {
        "id": "u4oPYH1FuiE1"
      }
    },
    {
      "cell_type": "markdown",
      "source": [
        "# Descripción\n",
        "\n",
        "Se cargan librerías y se descargan los datos:\n",
        "\n",
        "Los datos están relacionados con aspectos médicos y son valores numéricos de varias variables que caracterizan el estado de salud de 319,795 personas.\n",
        "\n",
        "Se pretende construir un modelo utilizando **algoritmos supervisados** para resolver la **tarea de prediccón mediante clasificación binaria** e identificar si una persona padece del corazón o no.\n",
        "\n",
        "Se construyen datos de entrenamiento y validación al 70% y 30% cada uno.\n",
        "\n",
        "Se desarrollan los modelos de:\n",
        "\n",
        "-   **Regresión Logística binaria**\n",
        "-   Árbol de Clasificación tipo *class*\n",
        "- Random forest para clasificación\n",
        "-   K Means\n",
        "-   Máquinas de soporte vecorial (SVM) kernel lineal\n",
        "-   Máquinas de soporte vecorial (SVM) kernel polinomial\n",
        "-   Máquinas de soporte vecorial (SVM) kernel radial\n",
        "\n",
        "El modelo se evalúa mediante la téncica de matriz de confusión por medio del estadístico de precisón y similares.\n",
        "\n",
        "Los modelo se aceptan si tienen un valor de **exactitud (\"*Accuracy*\") por encima del 70%**.\n",
        "El modelo se construye con funciones de librerías de *python*.\n",
        "\n",
        "## Los datos\n",
        "\n",
        "### Las variables de interés\n",
        "\n",
        "Todas las variables de entrada o variables independientes:\n",
        "\n",
        "-   \"*BMI*\": Indice de masa corporal con valores entre 12.02 y 94.85.\n",
        "\n",
        "-   \"*Smoking*\": Si la persona es fumadora o no con valores categóritos de 'Yes' o 'No'.\n",
        "\n",
        "-   \"*AlcoholDrinking*\" : Si consume alcohol o no, con valores categóricos de 'Yes' o 'No'.\n",
        "\n",
        "-   \"*Stroke*\": Si padece alguna anomalía cerebrovascular, apoplejia o algo similar, con valores categóricos de 'Yes' o 'No'.\n",
        "\n",
        "-   \"*PhysicalHealth*\" Estado físico en lo general con valores entre 0 y 30.\n",
        "\n",
        "-   \"*MentalHealth*\". Estado mental en lo general con valores entre 0 y 30.\n",
        "\n",
        "-   \"*DiffWalking*\" . Que si se le dificulta caminar o tiene algún padecimiento al caminar, con valores categóritoc de 'Yes' o 'No'.\n",
        "\n",
        "-   \"*Sex*\": Género de la persona, con valores de 'Female' y 'Male' para distinguir al género femenino y masculino respectivamente.\n",
        "\n",
        "-   \"*AgeCategory*\": Una clasificación de la edad de la persona de entre 18 y 80 años. La primera categoría con un rango de edad entre 18-24, a partir de 25 con rangos de 5 en 5 hasta la clase de 75-80 y una última categoría mayores de 80 años.\n",
        "\n",
        "-   \"*Race*\". Raza u origen de la persona con valores categóricos de '*American Indian/Alaskan Native', 'Asian','Black', 'Hispanic', 'Other'* y'*White'.*\n",
        "\n",
        "-   \"*Diabetic*\". Si padece o ha padecido de diabetes en cuatro condiciones siendo Yes y No para si o no: 'No', 'borderline diabetes' condición antes de detectarse diabetes tipo 2, 'Yes', y 'Yes (during pregnancy)' durante embarazo.\n",
        "\n",
        "-   \"*PhysicalActivity*\" que si realiza actividad física, con valores categóricos de 'Yes' o 'No'.\n",
        "\n",
        "-   \"*GenHealth*\": EStado general de salud de la persona con valores categóricos de 'Excellent', 'Very good', 'Good', 'Fair' y 'Poor' con significado en español de excelente, muy buena, buena, regular y pobre o deficiente.\n",
        "\n",
        "-   \"*SleepTime*\": valor numérico de las horas de sueño u horas que duerme la persona con valores en un rango entre 1 y 24.\n",
        "\n",
        "-   \"*Asthma*\": si padece de asma o no, con valores categóricos de 'Yes' o 'No'.\n",
        "\n",
        "-   \"*KidneyDisease*\": si tiene algún padecimiento en los riñones, con valores categóricos de 'Yes' o 'No'.\n",
        "\n",
        "-   \"*SkinCancer*\": si padece algún tipo de cáncer de piel, con valores categóricos de 'Yes' o 'No'.\n",
        "\n",
        "La variable de interés como dependiente o variable de salida es la de daño al corazón (*HeartDisease*), con valores categóricos de 'Yes' o 'No' , ahora la variable *HeartDisease01* con valores *'1' o '0'.*\n",
        "\n",
        "Nuevamente la descripción de variables y ahora son 319795 observaciones y 18 variables\n",
        "\n"
      ],
      "metadata": {
        "id": "PRCcPhS3wDVT"
      }
    },
    {
      "cell_type": "markdown",
      "source": [
        "## Matriz de confusión\n",
        "\n",
        "Una matriz de confusión es una herramienta que permite evaluación de un modelo de clasificación.\n",
        "\n",
        "Cada columna de la matriz representa el número de predicciones de cada clase, mientras que cada fila representa a las instancias en la clase real.\n",
        "\n",
        "Uno de los beneficios de las matrices de confusión es que facilitan ver si el sistema está confundiendo las diferentes clases o resultados o lo que es lo mismo en cuantas ocasiones le atina un modelo de clasificación para una tarea de predecir una clase.\n",
        "\n",
        "Hay que encontrar a cuantos casos se le atinaron utilizando los datos de validación y con ello encontrar el porcentaje de aciertos.\n",
        "\n",
        "Se puede evaluar el modelo con la matriz de confusión interpretando algunos estadísticos. Se evalúa el modelo de acuerdo a estas condiciones:\n",
        "\n",
        "* Accuracy o exactitud\n",
        "$$\n",
        "accuracy = \\frac{VP + VN}{VP+FP+FN+VN}\n",
        "$$\n",
        "\n",
        "$$\n",
        "n = \\text{total de datos que participaron en el modelo = } {VP+FP+FN+VN}\n",
        "$$\n",
        "\n",
        "* Precision o precisión\n",
        "$$\n",
        "precision = \\frac{VP}{VP + FP}\n",
        "$$\n",
        "\n",
        "* Recall o recuperación\n",
        "$$\n",
        "recall = \\frac{VP}{VP + FN}\n",
        "$$\n",
        "\n",
        "* Especificity o especificidad (tasa de verdaderos negativos)\n",
        "\n",
        "$$\n",
        "especificity = \\frac{VN}{VN + FP}\n",
        "$$\n",
        "\n",
        "$$\n",
        "\\therefore \\text{de dónde ... ...}\n",
        "$$\n",
        "\n",
        "* VP = Verdaderos Positivos. Le atinó\n",
        "* FP = Falsos Positivos No acertó\n",
        "* FN = Falsos Negativos. No acertó\n",
        "* VN = Verdaderos Negativos. Le atinó.\n",
        "\n",
        "Ahora lo que falta es dentro del contexto que significa positivo y negativo:\n",
        "* positivo es que NO está enfermo del corazón *(HeartDisease='No')* y\n",
        "* negativo es que SI está enfermo del corazón*(HeartDisease='Yes')*.\n",
        "\n",
        "Y que significa verdadero y falso:\n",
        "\n",
        "* Verdadero significa que la prediccón si le atina ya sea a lo positivo o al negativo\n",
        "* False significa que la predicción no le atina ya sea positivo o negativo.\n",
        "\n",
        "## Matriz:\n",
        "\n",
        "$$\n",
        "\\begin{array}{c|c|c}\n",
        "& \\text{Predicción Positiva. No Daño} & \\text{Predicción Negativa.Si Daño} \\\\\n",
        "\\hline\n",
        "\\text{Clase Positiva. No Daño} & VP & FN \\\\\n",
        "\\text{Clase Negativa. Si Daño} & FP & VN \\\\\n",
        "\\hline\n",
        "\\end{array}\n",
        "$$\n",
        "\n"
      ],
      "metadata": {
        "id": "xmx5Rewkkgr4"
      }
    },
    {
      "cell_type": "markdown",
      "source": [
        "## Cargar librerías\n",
        "\n",
        "\n"
      ],
      "metadata": {
        "id": "Mbk7UdzR0y5I"
      }
    },
    {
      "cell_type": "code",
      "source": [
        "import pandas as pd # para conjuntos de datos\n",
        "from sklearn.model_selection import train_test_split # PAra partir datos de entrenamiento y validación\n",
        "from sklearn.linear_model import LogisticRegression # Para contruir modelo de regresión logística\n",
        "from sklearn.metrics import accuracy_score, confusion_matrix # Para matiz de confusión...\n",
        "\n",
        "import ipywidgets as widgets\n",
        "from IPython.display import display, HTML, clear_output\n",
        "\n",
        "\n",
        "import time # Para medir el tiempo de ejecución\n",
        "\n",
        "import matplotlib.pyplot as plt"
      ],
      "metadata": {
        "id": "jThzr6nM00mE"
      },
      "execution_count": 2,
      "outputs": []
    },
    {
      "cell_type": "markdown",
      "source": [
        "## Cargar funciones\n",
        "\n"
      ],
      "metadata": {
        "id": "mM7qI2Ie00v_"
      }
    },
    {
      "cell_type": "code",
      "source": [
        "def f_diagrama_barra(datos):\n",
        "  conteo = datos['HeartDisease'].value_counts()\n",
        "\n",
        "  # Crear el gráfico de barras\n",
        "  plt.figure(figsize=(8, 6))\n",
        "  conteo.plot(kind='bar')\n",
        "  plt.title('Total de Daños al Corazón vs No Daños')\n",
        "  plt.xlabel('Daño al Corazón (1 = Daño, 0 = No Daño)')\n",
        "  plt.ylabel('Total de Casos')\n",
        "  plt.xticks(ticks=[0, 1], labels=['No Daño', 'Daño'], rotation=0)  # Ajustar las etiquetas del eje x\n",
        "  plt.show()"
      ],
      "metadata": {
        "id": "R3Gvh-jf03uy"
      },
      "execution_count": 3,
      "outputs": []
    },
    {
      "cell_type": "markdown",
      "source": [
        "## Cargar widgets\n",
        "\n"
      ],
      "metadata": {
        "id": "YC00GlIN1aux"
      }
    },
    {
      "cell_type": "code",
      "source": [
        "# Crear un widget de salida\n",
        "visualizar = widgets.Output()\n",
        "\n",
        "\n",
        "# Función para actualizar y mostrar el contenido dinámicamente en el widget de salida\n",
        "def f_visualizar_datos(datos1, datos2, titulo1, titulo2):\n",
        "    with visualizar:\n",
        "        #global titulo1, titulo2\n",
        "        #titulo1 = \"Primeros 20 registros de datos\"\n",
        "        visualizar.clear_output(wait=True)  # Limpiar el contenido anterior\n",
        "        display(HTML(f\"<h2>{titulo1}</h2>\"))  # Establecer el nuevo título\n",
        "        # Visualizar datos\n",
        "        display(datos1)\n",
        "\n",
        "        #titulo2 = \"Últimos 20 registros de datos\"\n",
        "        display(HTML(f\"<h2>{titulo2}</h2>\"))  # Establecer el nuevo título\n",
        "        # Visualizar datos\n",
        "        display(datos2)"
      ],
      "metadata": {
        "id": "2otzosLG1c4O"
      },
      "execution_count": 4,
      "outputs": []
    },
    {
      "cell_type": "markdown",
      "source": [
        "## Cargar datos\n"
      ],
      "metadata": {
        "id": "yqT8oxRB1QsL"
      }
    },
    {
      "cell_type": "code",
      "source": [
        "# Cargar los datos desde la URL\n",
        "url = \"https://raw.githubusercontent.com/rpizarrog/innovacion-empresarial/main/datos/danios%20al%20corazon%20numericos%20limpios.csv\"\n",
        "datos = pd.read_csv(url)\n",
        "\n",
        "# Llamar a la función para mostrar datos de entrenamiento ordenados por índice\n",
        "f_visualizar_datos(datos.head(20), datos.tail(20), \"Primeros registros de Datos\", \"Últimos registros de Datos\")\n",
        "\n",
        "# Para mostrar el widget de salida\n",
        "display(visualizar)"
      ],
      "metadata": {
        "colab": {
          "base_uri": "https://localhost:8080/",
          "height": 1000,
          "referenced_widgets": [
            "3d25d6c1b1ab4725857ab8bb7c057921",
            "5873f69d7a654d6fa700d38af55836ae"
          ]
        },
        "id": "wWJZw3RF1SNQ",
        "outputId": "07afee1e-b532-4f47-b1e3-5164f0445218"
      },
      "execution_count": 5,
      "outputs": [
        {
          "output_type": "display_data",
          "data": {
            "text/plain": [
              "Output()"
            ],
            "application/vnd.jupyter.widget-view+json": {
              "version_major": 2,
              "version_minor": 0,
              "model_id": "3d25d6c1b1ab4725857ab8bb7c057921"
            }
          },
          "metadata": {}
        }
      ]
    },
    {
      "cell_type": "markdown",
      "source": [
        "## Estadísticos\n",
        "\n"
      ],
      "metadata": {
        "id": "nYnMUKTS8vCe"
      }
    },
    {
      "cell_type": "code",
      "source": [
        "datos.describe()\n"
      ],
      "metadata": {
        "colab": {
          "base_uri": "https://localhost:8080/",
          "height": 320
        },
        "id": "jGR5p_Sd8yIm",
        "outputId": "8a4f3fa4-2835-4620-d13e-df655288506f"
      },
      "execution_count": 6,
      "outputs": [
        {
          "output_type": "execute_result",
          "data": {
            "text/plain": [
              "                 BMI        Smoking  AlcoholDrinking         Stroke  \\\n",
              "count  319795.000000  319795.000000    319795.000000  319795.000000   \n",
              "mean       28.325399       1.587523         1.931903       1.962260   \n",
              "std         6.356100       0.492281         0.251912       0.190567   \n",
              "min        12.020000       1.000000         1.000000       1.000000   \n",
              "25%        24.030000       1.000000         2.000000       2.000000   \n",
              "50%        27.340000       2.000000         2.000000       2.000000   \n",
              "75%        31.420000       2.000000         2.000000       2.000000   \n",
              "max        94.850000       2.000000         2.000000       2.000000   \n",
              "\n",
              "       PhysicalHealth   MentalHealth    DiffWalking            Sex  \\\n",
              "count    319795.00000  319795.000000  319795.000000  319795.000000   \n",
              "mean          3.37171       3.898366       1.861130       1.475273   \n",
              "std           7.95085       7.955235       0.345812       0.499389   \n",
              "min           0.00000       0.000000       1.000000       1.000000   \n",
              "25%           0.00000       0.000000       2.000000       1.000000   \n",
              "50%           0.00000       0.000000       2.000000       1.000000   \n",
              "75%           2.00000       3.000000       2.000000       2.000000   \n",
              "max          30.00000      30.000000       2.000000       2.000000   \n",
              "\n",
              "         AgeCategory           Race      Diabetic  PhysicalActivity  \\\n",
              "count  319795.000000  319795.000000  319795.00000     319795.000000   \n",
              "mean        7.514536       1.736794       1.90962          1.224638   \n",
              "std         3.564759       1.571156       0.41549          0.417344   \n",
              "min         1.000000       1.000000       1.00000          1.000000   \n",
              "25%         5.000000       1.000000       2.00000          1.000000   \n",
              "50%         8.000000       1.000000       2.00000          1.000000   \n",
              "75%        10.000000       1.000000       2.00000          1.000000   \n",
              "max        13.000000       6.000000       4.00000          2.000000   \n",
              "\n",
              "           GenHealth      SleepTime         Asthma  KidneyDisease  \\\n",
              "count  319795.000000  319795.000000  319795.000000  319795.000000   \n",
              "mean        3.955634       7.097075       1.865939       1.963167   \n",
              "std         0.864813       1.436007       0.340718       0.188352   \n",
              "min         2.000000       1.000000       1.000000       1.000000   \n",
              "25%         3.000000       6.000000       2.000000       2.000000   \n",
              "50%         4.000000       7.000000       2.000000       2.000000   \n",
              "75%         5.000000       8.000000       2.000000       2.000000   \n",
              "max         5.000000      24.000000       2.000000       2.000000   \n",
              "\n",
              "          SkinCancer  \n",
              "count  319795.000000  \n",
              "mean        1.906756  \n",
              "std         0.290775  \n",
              "min         1.000000  \n",
              "25%         2.000000  \n",
              "50%         2.000000  \n",
              "75%         2.000000  \n",
              "max         2.000000  "
            ],
            "text/html": [
              "\n",
              "  <div id=\"df-9c4de356-19c0-42e9-8e98-c623fa25e6a9\" class=\"colab-df-container\">\n",
              "    <div>\n",
              "<style scoped>\n",
              "    .dataframe tbody tr th:only-of-type {\n",
              "        vertical-align: middle;\n",
              "    }\n",
              "\n",
              "    .dataframe tbody tr th {\n",
              "        vertical-align: top;\n",
              "    }\n",
              "\n",
              "    .dataframe thead th {\n",
              "        text-align: right;\n",
              "    }\n",
              "</style>\n",
              "<table border=\"1\" class=\"dataframe\">\n",
              "  <thead>\n",
              "    <tr style=\"text-align: right;\">\n",
              "      <th></th>\n",
              "      <th>BMI</th>\n",
              "      <th>Smoking</th>\n",
              "      <th>AlcoholDrinking</th>\n",
              "      <th>Stroke</th>\n",
              "      <th>PhysicalHealth</th>\n",
              "      <th>MentalHealth</th>\n",
              "      <th>DiffWalking</th>\n",
              "      <th>Sex</th>\n",
              "      <th>AgeCategory</th>\n",
              "      <th>Race</th>\n",
              "      <th>Diabetic</th>\n",
              "      <th>PhysicalActivity</th>\n",
              "      <th>GenHealth</th>\n",
              "      <th>SleepTime</th>\n",
              "      <th>Asthma</th>\n",
              "      <th>KidneyDisease</th>\n",
              "      <th>SkinCancer</th>\n",
              "    </tr>\n",
              "  </thead>\n",
              "  <tbody>\n",
              "    <tr>\n",
              "      <th>count</th>\n",
              "      <td>319795.000000</td>\n",
              "      <td>319795.000000</td>\n",
              "      <td>319795.000000</td>\n",
              "      <td>319795.000000</td>\n",
              "      <td>319795.00000</td>\n",
              "      <td>319795.000000</td>\n",
              "      <td>319795.000000</td>\n",
              "      <td>319795.000000</td>\n",
              "      <td>319795.000000</td>\n",
              "      <td>319795.000000</td>\n",
              "      <td>319795.00000</td>\n",
              "      <td>319795.000000</td>\n",
              "      <td>319795.000000</td>\n",
              "      <td>319795.000000</td>\n",
              "      <td>319795.000000</td>\n",
              "      <td>319795.000000</td>\n",
              "      <td>319795.000000</td>\n",
              "    </tr>\n",
              "    <tr>\n",
              "      <th>mean</th>\n",
              "      <td>28.325399</td>\n",
              "      <td>1.587523</td>\n",
              "      <td>1.931903</td>\n",
              "      <td>1.962260</td>\n",
              "      <td>3.37171</td>\n",
              "      <td>3.898366</td>\n",
              "      <td>1.861130</td>\n",
              "      <td>1.475273</td>\n",
              "      <td>7.514536</td>\n",
              "      <td>1.736794</td>\n",
              "      <td>1.90962</td>\n",
              "      <td>1.224638</td>\n",
              "      <td>3.955634</td>\n",
              "      <td>7.097075</td>\n",
              "      <td>1.865939</td>\n",
              "      <td>1.963167</td>\n",
              "      <td>1.906756</td>\n",
              "    </tr>\n",
              "    <tr>\n",
              "      <th>std</th>\n",
              "      <td>6.356100</td>\n",
              "      <td>0.492281</td>\n",
              "      <td>0.251912</td>\n",
              "      <td>0.190567</td>\n",
              "      <td>7.95085</td>\n",
              "      <td>7.955235</td>\n",
              "      <td>0.345812</td>\n",
              "      <td>0.499389</td>\n",
              "      <td>3.564759</td>\n",
              "      <td>1.571156</td>\n",
              "      <td>0.41549</td>\n",
              "      <td>0.417344</td>\n",
              "      <td>0.864813</td>\n",
              "      <td>1.436007</td>\n",
              "      <td>0.340718</td>\n",
              "      <td>0.188352</td>\n",
              "      <td>0.290775</td>\n",
              "    </tr>\n",
              "    <tr>\n",
              "      <th>min</th>\n",
              "      <td>12.020000</td>\n",
              "      <td>1.000000</td>\n",
              "      <td>1.000000</td>\n",
              "      <td>1.000000</td>\n",
              "      <td>0.00000</td>\n",
              "      <td>0.000000</td>\n",
              "      <td>1.000000</td>\n",
              "      <td>1.000000</td>\n",
              "      <td>1.000000</td>\n",
              "      <td>1.000000</td>\n",
              "      <td>1.00000</td>\n",
              "      <td>1.000000</td>\n",
              "      <td>2.000000</td>\n",
              "      <td>1.000000</td>\n",
              "      <td>1.000000</td>\n",
              "      <td>1.000000</td>\n",
              "      <td>1.000000</td>\n",
              "    </tr>\n",
              "    <tr>\n",
              "      <th>25%</th>\n",
              "      <td>24.030000</td>\n",
              "      <td>1.000000</td>\n",
              "      <td>2.000000</td>\n",
              "      <td>2.000000</td>\n",
              "      <td>0.00000</td>\n",
              "      <td>0.000000</td>\n",
              "      <td>2.000000</td>\n",
              "      <td>1.000000</td>\n",
              "      <td>5.000000</td>\n",
              "      <td>1.000000</td>\n",
              "      <td>2.00000</td>\n",
              "      <td>1.000000</td>\n",
              "      <td>3.000000</td>\n",
              "      <td>6.000000</td>\n",
              "      <td>2.000000</td>\n",
              "      <td>2.000000</td>\n",
              "      <td>2.000000</td>\n",
              "    </tr>\n",
              "    <tr>\n",
              "      <th>50%</th>\n",
              "      <td>27.340000</td>\n",
              "      <td>2.000000</td>\n",
              "      <td>2.000000</td>\n",
              "      <td>2.000000</td>\n",
              "      <td>0.00000</td>\n",
              "      <td>0.000000</td>\n",
              "      <td>2.000000</td>\n",
              "      <td>1.000000</td>\n",
              "      <td>8.000000</td>\n",
              "      <td>1.000000</td>\n",
              "      <td>2.00000</td>\n",
              "      <td>1.000000</td>\n",
              "      <td>4.000000</td>\n",
              "      <td>7.000000</td>\n",
              "      <td>2.000000</td>\n",
              "      <td>2.000000</td>\n",
              "      <td>2.000000</td>\n",
              "    </tr>\n",
              "    <tr>\n",
              "      <th>75%</th>\n",
              "      <td>31.420000</td>\n",
              "      <td>2.000000</td>\n",
              "      <td>2.000000</td>\n",
              "      <td>2.000000</td>\n",
              "      <td>2.00000</td>\n",
              "      <td>3.000000</td>\n",
              "      <td>2.000000</td>\n",
              "      <td>2.000000</td>\n",
              "      <td>10.000000</td>\n",
              "      <td>1.000000</td>\n",
              "      <td>2.00000</td>\n",
              "      <td>1.000000</td>\n",
              "      <td>5.000000</td>\n",
              "      <td>8.000000</td>\n",
              "      <td>2.000000</td>\n",
              "      <td>2.000000</td>\n",
              "      <td>2.000000</td>\n",
              "    </tr>\n",
              "    <tr>\n",
              "      <th>max</th>\n",
              "      <td>94.850000</td>\n",
              "      <td>2.000000</td>\n",
              "      <td>2.000000</td>\n",
              "      <td>2.000000</td>\n",
              "      <td>30.00000</td>\n",
              "      <td>30.000000</td>\n",
              "      <td>2.000000</td>\n",
              "      <td>2.000000</td>\n",
              "      <td>13.000000</td>\n",
              "      <td>6.000000</td>\n",
              "      <td>4.00000</td>\n",
              "      <td>2.000000</td>\n",
              "      <td>5.000000</td>\n",
              "      <td>24.000000</td>\n",
              "      <td>2.000000</td>\n",
              "      <td>2.000000</td>\n",
              "      <td>2.000000</td>\n",
              "    </tr>\n",
              "  </tbody>\n",
              "</table>\n",
              "</div>\n",
              "    <div class=\"colab-df-buttons\">\n",
              "\n",
              "  <div class=\"colab-df-container\">\n",
              "    <button class=\"colab-df-convert\" onclick=\"convertToInteractive('df-9c4de356-19c0-42e9-8e98-c623fa25e6a9')\"\n",
              "            title=\"Convert this dataframe to an interactive table.\"\n",
              "            style=\"display:none;\">\n",
              "\n",
              "  <svg xmlns=\"http://www.w3.org/2000/svg\" height=\"24px\" viewBox=\"0 -960 960 960\">\n",
              "    <path d=\"M120-120v-720h720v720H120Zm60-500h600v-160H180v160Zm220 220h160v-160H400v160Zm0 220h160v-160H400v160ZM180-400h160v-160H180v160Zm440 0h160v-160H620v160ZM180-180h160v-160H180v160Zm440 0h160v-160H620v160Z\"/>\n",
              "  </svg>\n",
              "    </button>\n",
              "\n",
              "  <style>\n",
              "    .colab-df-container {\n",
              "      display:flex;\n",
              "      gap: 12px;\n",
              "    }\n",
              "\n",
              "    .colab-df-convert {\n",
              "      background-color: #E8F0FE;\n",
              "      border: none;\n",
              "      border-radius: 50%;\n",
              "      cursor: pointer;\n",
              "      display: none;\n",
              "      fill: #1967D2;\n",
              "      height: 32px;\n",
              "      padding: 0 0 0 0;\n",
              "      width: 32px;\n",
              "    }\n",
              "\n",
              "    .colab-df-convert:hover {\n",
              "      background-color: #E2EBFA;\n",
              "      box-shadow: 0px 1px 2px rgba(60, 64, 67, 0.3), 0px 1px 3px 1px rgba(60, 64, 67, 0.15);\n",
              "      fill: #174EA6;\n",
              "    }\n",
              "\n",
              "    .colab-df-buttons div {\n",
              "      margin-bottom: 4px;\n",
              "    }\n",
              "\n",
              "    [theme=dark] .colab-df-convert {\n",
              "      background-color: #3B4455;\n",
              "      fill: #D2E3FC;\n",
              "    }\n",
              "\n",
              "    [theme=dark] .colab-df-convert:hover {\n",
              "      background-color: #434B5C;\n",
              "      box-shadow: 0px 1px 3px 1px rgba(0, 0, 0, 0.15);\n",
              "      filter: drop-shadow(0px 1px 2px rgba(0, 0, 0, 0.3));\n",
              "      fill: #FFFFFF;\n",
              "    }\n",
              "  </style>\n",
              "\n",
              "    <script>\n",
              "      const buttonEl =\n",
              "        document.querySelector('#df-9c4de356-19c0-42e9-8e98-c623fa25e6a9 button.colab-df-convert');\n",
              "      buttonEl.style.display =\n",
              "        google.colab.kernel.accessAllowed ? 'block' : 'none';\n",
              "\n",
              "      async function convertToInteractive(key) {\n",
              "        const element = document.querySelector('#df-9c4de356-19c0-42e9-8e98-c623fa25e6a9');\n",
              "        const dataTable =\n",
              "          await google.colab.kernel.invokeFunction('convertToInteractive',\n",
              "                                                    [key], {});\n",
              "        if (!dataTable) return;\n",
              "\n",
              "        const docLinkHtml = 'Like what you see? Visit the ' +\n",
              "          '<a target=\"_blank\" href=https://colab.research.google.com/notebooks/data_table.ipynb>data table notebook</a>'\n",
              "          + ' to learn more about interactive tables.';\n",
              "        element.innerHTML = '';\n",
              "        dataTable['output_type'] = 'display_data';\n",
              "        await google.colab.output.renderOutput(dataTable, element);\n",
              "        const docLink = document.createElement('div');\n",
              "        docLink.innerHTML = docLinkHtml;\n",
              "        element.appendChild(docLink);\n",
              "      }\n",
              "    </script>\n",
              "  </div>\n",
              "\n",
              "\n",
              "<div id=\"df-c3ba471d-6971-4e6f-8422-adee3efdd909\">\n",
              "  <button class=\"colab-df-quickchart\" onclick=\"quickchart('df-c3ba471d-6971-4e6f-8422-adee3efdd909')\"\n",
              "            title=\"Suggest charts\"\n",
              "            style=\"display:none;\">\n",
              "\n",
              "<svg xmlns=\"http://www.w3.org/2000/svg\" height=\"24px\"viewBox=\"0 0 24 24\"\n",
              "     width=\"24px\">\n",
              "    <g>\n",
              "        <path d=\"M19 3H5c-1.1 0-2 .9-2 2v14c0 1.1.9 2 2 2h14c1.1 0 2-.9 2-2V5c0-1.1-.9-2-2-2zM9 17H7v-7h2v7zm4 0h-2V7h2v10zm4 0h-2v-4h2v4z\"/>\n",
              "    </g>\n",
              "</svg>\n",
              "  </button>\n",
              "\n",
              "<style>\n",
              "  .colab-df-quickchart {\n",
              "      --bg-color: #E8F0FE;\n",
              "      --fill-color: #1967D2;\n",
              "      --hover-bg-color: #E2EBFA;\n",
              "      --hover-fill-color: #174EA6;\n",
              "      --disabled-fill-color: #AAA;\n",
              "      --disabled-bg-color: #DDD;\n",
              "  }\n",
              "\n",
              "  [theme=dark] .colab-df-quickchart {\n",
              "      --bg-color: #3B4455;\n",
              "      --fill-color: #D2E3FC;\n",
              "      --hover-bg-color: #434B5C;\n",
              "      --hover-fill-color: #FFFFFF;\n",
              "      --disabled-bg-color: #3B4455;\n",
              "      --disabled-fill-color: #666;\n",
              "  }\n",
              "\n",
              "  .colab-df-quickchart {\n",
              "    background-color: var(--bg-color);\n",
              "    border: none;\n",
              "    border-radius: 50%;\n",
              "    cursor: pointer;\n",
              "    display: none;\n",
              "    fill: var(--fill-color);\n",
              "    height: 32px;\n",
              "    padding: 0;\n",
              "    width: 32px;\n",
              "  }\n",
              "\n",
              "  .colab-df-quickchart:hover {\n",
              "    background-color: var(--hover-bg-color);\n",
              "    box-shadow: 0 1px 2px rgba(60, 64, 67, 0.3), 0 1px 3px 1px rgba(60, 64, 67, 0.15);\n",
              "    fill: var(--button-hover-fill-color);\n",
              "  }\n",
              "\n",
              "  .colab-df-quickchart-complete:disabled,\n",
              "  .colab-df-quickchart-complete:disabled:hover {\n",
              "    background-color: var(--disabled-bg-color);\n",
              "    fill: var(--disabled-fill-color);\n",
              "    box-shadow: none;\n",
              "  }\n",
              "\n",
              "  .colab-df-spinner {\n",
              "    border: 2px solid var(--fill-color);\n",
              "    border-color: transparent;\n",
              "    border-bottom-color: var(--fill-color);\n",
              "    animation:\n",
              "      spin 1s steps(1) infinite;\n",
              "  }\n",
              "\n",
              "  @keyframes spin {\n",
              "    0% {\n",
              "      border-color: transparent;\n",
              "      border-bottom-color: var(--fill-color);\n",
              "      border-left-color: var(--fill-color);\n",
              "    }\n",
              "    20% {\n",
              "      border-color: transparent;\n",
              "      border-left-color: var(--fill-color);\n",
              "      border-top-color: var(--fill-color);\n",
              "    }\n",
              "    30% {\n",
              "      border-color: transparent;\n",
              "      border-left-color: var(--fill-color);\n",
              "      border-top-color: var(--fill-color);\n",
              "      border-right-color: var(--fill-color);\n",
              "    }\n",
              "    40% {\n",
              "      border-color: transparent;\n",
              "      border-right-color: var(--fill-color);\n",
              "      border-top-color: var(--fill-color);\n",
              "    }\n",
              "    60% {\n",
              "      border-color: transparent;\n",
              "      border-right-color: var(--fill-color);\n",
              "    }\n",
              "    80% {\n",
              "      border-color: transparent;\n",
              "      border-right-color: var(--fill-color);\n",
              "      border-bottom-color: var(--fill-color);\n",
              "    }\n",
              "    90% {\n",
              "      border-color: transparent;\n",
              "      border-bottom-color: var(--fill-color);\n",
              "    }\n",
              "  }\n",
              "</style>\n",
              "\n",
              "  <script>\n",
              "    async function quickchart(key) {\n",
              "      const quickchartButtonEl =\n",
              "        document.querySelector('#' + key + ' button');\n",
              "      quickchartButtonEl.disabled = true;  // To prevent multiple clicks.\n",
              "      quickchartButtonEl.classList.add('colab-df-spinner');\n",
              "      try {\n",
              "        const charts = await google.colab.kernel.invokeFunction(\n",
              "            'suggestCharts', [key], {});\n",
              "      } catch (error) {\n",
              "        console.error('Error during call to suggestCharts:', error);\n",
              "      }\n",
              "      quickchartButtonEl.classList.remove('colab-df-spinner');\n",
              "      quickchartButtonEl.classList.add('colab-df-quickchart-complete');\n",
              "    }\n",
              "    (() => {\n",
              "      let quickchartButtonEl =\n",
              "        document.querySelector('#df-c3ba471d-6971-4e6f-8422-adee3efdd909 button');\n",
              "      quickchartButtonEl.style.display =\n",
              "        google.colab.kernel.accessAllowed ? 'block' : 'none';\n",
              "    })();\n",
              "  </script>\n",
              "</div>\n",
              "    </div>\n",
              "  </div>\n"
            ],
            "application/vnd.google.colaboratory.intrinsic+json": {
              "type": "dataframe",
              "summary": "{\n  \"name\": \"datos\",\n  \"rows\": 8,\n  \"fields\": [\n    {\n      \"column\": \"BMI\",\n      \"properties\": {\n        \"dtype\": \"number\",\n        \"std\": 113053.2788140205,\n        \"min\": 6.356100200470739,\n        \"max\": 319795.0,\n        \"num_unique_values\": 8,\n        \"samples\": [\n          28.325398520927465,\n          27.34,\n          319795.0\n        ],\n        \"semantic_type\": \"\",\n        \"description\": \"\"\n      }\n    },\n    {\n      \"column\": \"Smoking\",\n      \"properties\": {\n        \"dtype\": \"number\",\n        \"std\": 113064.09743920766,\n        \"min\": 0.4922808520227957,\n        \"max\": 319795.0,\n        \"num_unique_values\": 5,\n        \"samples\": [\n          1.5875232570865712,\n          2.0,\n          0.4922808520227957\n        ],\n        \"semantic_type\": \"\",\n        \"description\": \"\"\n      }\n    },\n    {\n      \"column\": \"AlcoholDrinking\",\n      \"properties\": {\n        \"dtype\": \"number\",\n        \"std\": 113064.04167864124,\n        \"min\": 0.2519122478747605,\n        \"max\": 319795.0,\n        \"num_unique_values\": 5,\n        \"samples\": [\n          1.9319032505198643,\n          2.0,\n          0.2519122478747605\n        ],\n        \"semantic_type\": \"\",\n        \"description\": \"\"\n      }\n    },\n    {\n      \"column\": \"Stroke\",\n      \"properties\": {\n        \"dtype\": \"number\",\n        \"std\": 113064.0432439278,\n        \"min\": 0.19056658405970656,\n        \"max\": 319795.0,\n        \"num_unique_values\": 5,\n        \"samples\": [\n          1.9622601979393048,\n          2.0,\n          0.19056658405970656\n        ],\n        \"semantic_type\": \"\",\n        \"description\": \"\"\n      }\n    },\n    {\n      \"column\": \"PhysicalHealth\",\n      \"properties\": {\n        \"dtype\": \"number\",\n        \"std\": 113062.41887389991,\n        \"min\": 0.0,\n        \"max\": 319795.0,\n        \"num_unique_values\": 6,\n        \"samples\": [\n          319795.0,\n          3.3717100017198516,\n          30.0\n        ],\n        \"semantic_type\": \"\",\n        \"description\": \"\"\n      }\n    },\n    {\n      \"column\": \"MentalHealth\",\n      \"properties\": {\n        \"dtype\": \"number\",\n        \"std\": 113062.34153808093,\n        \"min\": 0.0,\n        \"max\": 319795.0,\n        \"num_unique_values\": 6,\n        \"samples\": [\n          319795.0,\n          3.898366140808956,\n          30.0\n        ],\n        \"semantic_type\": \"\",\n        \"description\": \"\"\n      }\n    },\n    {\n      \"column\": \"DiffWalking\",\n      \"properties\": {\n        \"dtype\": \"number\",\n        \"std\": 113064.04051042747,\n        \"min\": 0.3458115836894246,\n        \"max\": 319795.0,\n        \"num_unique_values\": 5,\n        \"samples\": [\n          1.8611297862693288,\n          2.0,\n          0.3458115836894246\n        ],\n        \"semantic_type\": \"\",\n        \"description\": \"\"\n      }\n    },\n    {\n      \"column\": \"Sex\",\n      \"properties\": {\n        \"dtype\": \"number\",\n        \"std\": 113064.15325709495,\n        \"min\": 0.4993889929569271,\n        \"max\": 319795.0,\n        \"num_unique_values\": 5,\n        \"samples\": [\n          1.4752732219077846,\n          2.0,\n          0.4993889929569271\n        ],\n        \"semantic_type\": \"\",\n        \"description\": \"\"\n      }\n    },\n    {\n      \"column\": \"AgeCategory\",\n      \"properties\": {\n        \"dtype\": \"number\",\n        \"std\": 113062.17823553375,\n        \"min\": 1.0,\n        \"max\": 319795.0,\n        \"num_unique_values\": 8,\n        \"samples\": [\n          7.51453587454463,\n          8.0,\n          319795.0\n        ],\n        \"semantic_type\": \"\",\n        \"description\": \"\"\n      }\n    },\n    {\n      \"column\": \"Race\",\n      \"properties\": {\n        \"dtype\": \"number\",\n        \"std\": 113063.93440455812,\n        \"min\": 1.0,\n        \"max\": 319795.0,\n        \"num_unique_values\": 5,\n        \"samples\": [\n          1.7367938835816694,\n          6.0,\n          1.5711559559790143\n        ],\n        \"semantic_type\": \"\",\n        \"description\": \"\"\n      }\n    },\n    {\n      \"column\": \"Diabetic\",\n      \"properties\": {\n        \"dtype\": \"number\",\n        \"std\": 113063.9335297669,\n        \"min\": 0.41549035645043947,\n        \"max\": 319795.0,\n        \"num_unique_values\": 6,\n        \"samples\": [\n          319795.0,\n          1.9096202254569334,\n          4.0\n        ],\n        \"semantic_type\": \"\",\n        \"description\": \"\"\n      }\n    },\n    {\n      \"column\": \"PhysicalActivity\",\n      \"properties\": {\n        \"dtype\": \"number\",\n        \"std\": 113064.22056724927,\n        \"min\": 0.4173441332197359,\n        \"max\": 319795.0,\n        \"num_unique_values\": 5,\n        \"samples\": [\n          1.2246376584999765,\n          2.0,\n          0.4173441332197359\n        ],\n        \"semantic_type\": \"\",\n        \"description\": \"\"\n      }\n    },\n    {\n      \"column\": \"GenHealth\",\n      \"properties\": {\n        \"dtype\": \"number\",\n        \"std\": 113063.40343956073,\n        \"min\": 0.8648132097610356,\n        \"max\": 319795.0,\n        \"num_unique_values\": 7,\n        \"samples\": [\n          319795.0,\n          3.9556340780812707,\n          4.0\n        ],\n        \"semantic_type\": \"\",\n        \"description\": \"\"\n      }\n    },\n    {\n      \"column\": \"SleepTime\",\n      \"properties\": {\n        \"dtype\": \"number\",\n        \"std\": 113061.8524315998,\n        \"min\": 1.0,\n        \"max\": 319795.0,\n        \"num_unique_values\": 8,\n        \"samples\": [\n          7.097074688472302,\n          7.0,\n          319795.0\n        ],\n        \"semantic_type\": \"\",\n        \"description\": \"\"\n      }\n    },\n    {\n      \"column\": \"Asthma\",\n      \"properties\": {\n        \"dtype\": \"number\",\n        \"std\": 113064.04052478149,\n        \"min\": 0.340718249406958,\n        \"max\": 319795.0,\n        \"num_unique_values\": 5,\n        \"samples\": [\n          1.8659391172469864,\n          2.0,\n          0.340718249406958\n        ],\n        \"semantic_type\": \"\",\n        \"description\": \"\"\n      }\n    },\n    {\n      \"column\": \"KidneyDisease\",\n      \"properties\": {\n        \"dtype\": \"number\",\n        \"std\": 113064.0433099919,\n        \"min\": 0.18835183645322953,\n        \"max\": 319795.0,\n        \"num_unique_values\": 5,\n        \"samples\": [\n          1.9631670288778749,\n          2.0,\n          0.18835183645322953\n        ],\n        \"semantic_type\": \"\",\n        \"description\": \"\"\n      }\n    },\n    {\n      \"column\": \"SkinCancer\",\n      \"properties\": {\n        \"dtype\": \"number\",\n        \"std\": 113064.04098585053,\n        \"min\": 0.2907746721047418,\n        \"max\": 319795.0,\n        \"num_unique_values\": 5,\n        \"samples\": [\n          1.9067558904923467,\n          2.0,\n          0.2907746721047418\n        ],\n        \"semantic_type\": \"\",\n        \"description\": \"\"\n      }\n    }\n  ]\n}"
            }
          },
          "metadata": {},
          "execution_count": 6
        }
      ]
    },
    {
      "cell_type": "code",
      "source": [
        "# Obtener el conteo de casos con y sin daños al corazón\n",
        "conteo_daños = datos['HeartDisease'].value_counts()\n",
        "\n",
        "# Convertir el conteo a un DataFrame para una mejor visualización\n",
        "tabla_conteo = conteo_daños.rename(index={1: 'Daño', 0: 'No Daño'}).reset_index()\n",
        "tabla_conteo.columns = ['Estado del Corazón', 'Total de Casos']\n",
        "\n",
        "# Mostrar la tabla\n",
        "print(tabla_conteo)"
      ],
      "metadata": {
        "colab": {
          "base_uri": "https://localhost:8080/"
        },
        "id": "1MkBch94-vbD",
        "outputId": "1f4d8ec1-7469-47a0-b69e-2c8acb8818a9"
      },
      "execution_count": 7,
      "outputs": [
        {
          "output_type": "stream",
          "name": "stdout",
          "text": [
            "  Estado del Corazón  Total de Casos\n",
            "0                 No          292422\n",
            "1                Yes           27373\n"
          ]
        }
      ]
    },
    {
      "cell_type": "code",
      "source": [
        "f_diagrama_barra(datos)"
      ],
      "metadata": {
        "colab": {
          "base_uri": "https://localhost:8080/",
          "height": 564
        },
        "id": "lu7SK7XB-ExR",
        "outputId": "127aadda-c065-456b-ade4-24641f2aec45"
      },
      "execution_count": 8,
      "outputs": [
        {
          "output_type": "display_data",
          "data": {
            "text/plain": [
              "<Figure size 800x600 with 1 Axes>"
            ],
            "image/png": "[encoded data removed]"
          },
          "metadata": {}
        }
      ]
    },
    {
      "cell_type": "markdown",
      "source": [
        "## Datos de entrenamiento y validación\n",
        "\n",
        "* 70% datos de entrenamiento: X_train\n",
        "* 30% datos de validación: X_test\n",
        "\n",
        "\n",
        "\n",
        "\n",
        "\n"
      ],
      "metadata": {
        "id": "TeVO3NTE2TQY"
      }
    },
    {
      "cell_type": "code",
      "source": [
        "\n",
        "# Asumiendo que 'HeartDisease' es el nombre de la columna de la variable objetivo\n",
        "\n",
        "# Preparar los datos para el modelo\n",
        "independientes = datos.drop(columns=['HeartDisease'])  # Solo dejar las variables independientes o predictoras\n",
        "dependiente = datos['HeartDisease']  # Variable dependiente\n",
        "\n",
        "\n",
        "# Dividir los datos en conjuntos de entrenamiento y prueba\n",
        "X_train, X_test, y_train, y_test = train_test_split(independientes, dependiente, test_size=0.3, random_state=2024)\n",
        "\n",
        "n_train = len(X_train)\n",
        "n_test = len(X_test)\n",
        "\n",
        "f_visualizar_datos(X_train.sort_index().head(20), X_test.sort_index().head(20),\n",
        "                   \"Primeros registros. Datos de entrenamiento de \"+str(n_train) + \" registros\", \"Primeros registros. Datos de validación de \"+str(n_test) + \" registros\")\n",
        "\n",
        "# Para mostrar el widget de salida\n",
        "display(visualizar)\n"
      ],
      "metadata": {
        "colab": {
          "base_uri": "https://localhost:8080/",
          "height": 1000,
          "referenced_widgets": [
            "3d25d6c1b1ab4725857ab8bb7c057921",
            "5873f69d7a654d6fa700d38af55836ae"
          ]
        },
        "id": "jTqQjfJN2cwE",
        "outputId": "a4ff4b9f-17ae-422c-b7df-a3fd88e9c7b7"
      },
      "execution_count": 9,
      "outputs": [
        {
          "output_type": "display_data",
          "data": {
            "text/plain": [
              "Output()"
            ],
            "application/vnd.jupyter.widget-view+json": {
              "version_major": 2,
              "version_minor": 0,
              "model_id": "3d25d6c1b1ab4725857ab8bb7c057921"
            }
          },
          "metadata": {}
        }
      ]
    },
    {
      "cell_type": "markdown",
      "source": [
        "## Crear el modelo de regesión logística\n",
        "\n",
        "El argumento *max_iter* en la construcción de un modelo de regresión logística especifica el número máximo de iteraciones que el algoritmo de optimización puede realizar durante el entrenamiento del modelo. En el contexto de la regresión logística, scikit-learn utiliza algoritmos de optimización, como el descenso de gradiente o métodos similares, para encontrar los coeficientes (o pesos) que minimizan una función de coste, la cual mide cuán bien el modelo se ajusta a tus datos de entrenamiento.\n",
        "\n",
        "Cuando especificas max_iter=1000, se le está indicando al algoritmo que puede realizar hasta 1000 iteraciones en el proceso de búsqueda de los mejores coeficientes para el modelo. Este límite de iteraciones es una forma de asegurar que el algoritmo no entre en un bucle infinito en caso de que no converja a una solución.\n",
        "\n",
        "En algunos casos, si el conjunto de datos es complejo o si la solución inicial está lejos del óptimo, el algoritmo de optimización podría necesitar más iteraciones para converger a una solución estable. Si max_iter está configurado demasiado bajo, el modelo podría no haber convergido cuando se alcance el límite de iteraciones, lo que resultaría en un aviso de convergencia no alcanzada. Esto significa que el modelo podría no estar completamente ajustado, y podrías mejorar el rendimiento aumentando *max_iter*.\n",
        "\n",
        "Por otro lado, un valor muy alto para *max_iter* podría no ser perjudicial, pero podría hacer que el entrenamiento sea innecesariamente largo, especialmente si el algoritmo ya ha convergido a una solución en menos iteraciones. Por lo tanto, es importante encontrar un balance adecuado para este hiperparámetro basándose en los datos específicos y en la complejidad del problema.\n",
        "[Chat GPT]\n",
        "\n"
      ],
      "metadata": {
        "id": "q1zaWb7S3iLQ"
      }
    },
    {
      "cell_type": "code",
      "source": [
        "# Marcar el tiempo de inicio\n",
        "start_time = time.time()\n",
        "\n",
        "# Crear el modelo de regresión logística\n",
        "modelo = LogisticRegression(max_iter=1000)  # Aumentar o disminuir max_iter si es necesario\n",
        "\n",
        "# Entrenar el modelo\n",
        "modelo.fit(X_train, y_train)\n",
        "\n",
        "# Marcar el tiempo de finalización\n",
        "end_time = time.time()\n",
        "\n",
        "# Calcular la duración restando el tiempo de inicio del tiempo de finalización\n",
        "duration = end_time - start_time\n",
        "\n",
        "print(f\"El tiempo de ejecución fue de {duration} segundos.\")"
      ],
      "metadata": {
        "colab": {
          "base_uri": "https://localhost:8080/"
        },
        "id": "8_EmS_P53k4I",
        "outputId": "906f8e34-2cd7-4e9a-e76e-36ff6e3c51c0"
      },
      "execution_count": 10,
      "outputs": [
        {
          "output_type": "stream",
          "name": "stdout",
          "text": [
            "El tiempo de ejecución fue de 18.944117784500122 segundos.\n"
          ]
        }
      ]
    },
    {
      "cell_type": "markdown",
      "source": [
        "## Predicciones con datos de validación\n",
        "\n"
      ],
      "metadata": {
        "id": "3ZDlHYye5KbQ"
      }
    },
    {
      "cell_type": "code",
      "source": [
        "# Predecir el conjunto de prueba\n",
        "predicciones = modelo.predict(X_test)\n",
        "\n"
      ],
      "metadata": {
        "id": "tp-nDQH65MvH"
      },
      "execution_count": 11,
      "outputs": []
    },
    {
      "cell_type": "markdown",
      "source": [
        "## Crear DataFrame para predicciones con valores reales\n",
        "\n"
      ],
      "metadata": {
        "id": "OLVBtrCE5c5S"
      }
    },
    {
      "cell_type": "code",
      "source": [
        "datos_predicciones = X_test\n",
        "datos_predicciones['HertDisease_real'] = y_test\n",
        "datos_predicciones['HertDisease_prediccion'] = predicciones\n",
        "n = len(datos_predicciones)\n",
        "f_visualizar_datos(datos_predicciones.sort_index().head(20), datos_predicciones.sort_index().tail(20), \"Primeros registros. Predicciones de \"+str(n) + \" registros\", \" Últimos registros. Predicciones de \"+str(n) + \" registros\")\n",
        "\n",
        "# Para mostrar el widget de salida\n",
        "display(visualizar)"
      ],
      "metadata": {
        "colab": {
          "base_uri": "https://localhost:8080/",
          "height": 1000,
          "referenced_widgets": [
            "3d25d6c1b1ab4725857ab8bb7c057921",
            "5873f69d7a654d6fa700d38af55836ae"
          ]
        },
        "id": "kZi4v8Gi5gnO",
        "outputId": "c884befc-3210-41ca-f226-18f9e4afeedc"
      },
      "execution_count": 12,
      "outputs": [
        {
          "output_type": "display_data",
          "data": {
            "text/plain": [
              "Output()"
            ],
            "application/vnd.jupyter.widget-view+json": {
              "version_major": 2,
              "version_minor": 0,
              "model_id": "3d25d6c1b1ab4725857ab8bb7c057921"
            }
          },
          "metadata": {}
        }
      ]
    },
    {
      "cell_type": "markdown",
      "source": [
        "## Evaluar el modelo\n",
        "\n"
      ],
      "metadata": {
        "id": "JUqggDxk5Qdv"
      }
    },
    {
      "cell_type": "code",
      "source": [
        "# Calcular la precisión\n",
        "precision = accuracy_score(y_test, predicciones)\n",
        "print(f\"La precisión del modelo es: {precision}\")\n",
        "\n",
        "# Opcional: Mostrar la matriz de confusión\n",
        "matriz_confusion = confusion_matrix(y_test, predicciones)\n",
        "print(\"Matriz de Confusión:\")\n",
        "print(matriz_confusion)\n",
        "\n",
        "# Extraer los valores de la matriz de confusión\n",
        "VP = matriz_confusion[0, 0]\n",
        "FN = matriz_confusion[0, 1]\n",
        "FP = matriz_confusion[1, 0]\n",
        "VN = matriz_confusion[1, 1]\n",
        "\n",
        "print ()\n",
        "print (\"Verdaderos Positivos. El modelo la atina (V) a los que no ('No') tienen daño al corazón: \", VP)\n",
        "print (\"Falsos Negativos. El modelo falla (F) a los que no ('No') daño, prediciendo que si ('Yes') tienen daño al corazón: \", FN)\n",
        "print (\"Falsos Positivos. El modelo falla (F) a los que si ('Yes') daño, prediciendo que no ('No) tienen daño al corazón: \", FP)\n",
        "print (\"Verdaderos Negativos. El modelo le atina (V) a los que si ('Yes') tienen daño al corazón: \", VN)"
      ],
      "metadata": {
        "colab": {
          "base_uri": "https://localhost:8080/"
        },
        "id": "89Ju9NzB5SDG",
        "outputId": "9a52d323-6419-4145-be3a-573d9b02eae1"
      },
      "execution_count": 22,
      "outputs": [
        {
          "output_type": "stream",
          "name": "stdout",
          "text": [
            "La precisión del modelo es: 0.9147270661566204\n",
            "Matriz de Confusión:\n",
            "[[86985   745]\n",
            " [ 7436   773]]\n",
            "\n",
            "Verdaderos Positivos. El modelo la atina (V) a los que no ('No') tienen daño al corazón:  86985\n",
            "Falsos Negativos. El modelo falla (F) a los que no ('No') daño, prediciendo que si ('Yes') tienen daño al corazón:  745\n",
            "Falsos Positivos. El modelo falla (F) a los que si ('Yes') daño, prediciendo que no ('No) tienen daño al corazón:  7436\n",
            "Verdaderos Negativos. El modelo le atina (V) a los que si ('Yes') tienen daño al corazón:  773\n"
          ]
        }
      ]
    },
    {
      "cell_type": "markdown",
      "source": [
        "## Comprobando"
      ],
      "metadata": {
        "id": "YGWQxGV93Mxz"
      }
    },
    {
      "cell_type": "markdown",
      "source": [
        "$$\n",
        "\\begin{array}{c|c|c}\n",
        "& \\text{Predicción Positivo. No Daño, 'No'} & \\text{Predicción Negativo. Si Daño, 'Yes'} \\\\\n",
        "\\hline\n",
        "\\text{Clase Positivo. No Daño} & 86985 & 745 \\\\\n",
        "\\text{Clase Negativo. Si Daño} & 7436 & 773 \\\\\n",
        "\\hline\n",
        "\\end{array}\n",
        "$$"
      ],
      "metadata": {
        "id": "llaAzAI0sR5R"
      }
    },
    {
      "cell_type": "code",
      "source": [
        "print (\"Accuracy = \", (VP + VN)/(VP+FN+FP+VN))"
      ],
      "metadata": {
        "colab": {
          "base_uri": "https://localhost:8080/"
        },
        "id": "cEbQuhK82cPc",
        "outputId": "09653601-76ed-4eed-ba85-2ab593b2ba36"
      },
      "execution_count": 28,
      "outputs": [
        {
          "output_type": "stream",
          "name": "stdout",
          "text": [
            "Accuracy =  0.9147270661566204\n"
          ]
        }
      ]
    },
    {
      "cell_type": "markdown",
      "source": [
        "# Interpretación\n",
        "\n",
        "Se cargaron unos datos origen con 319795 registros de los cuales aproximadamente hay 292422 que no tienen daño y 27373 que si tienen daño al corazón.\n",
        "\n",
        "Se hizo unos datos de entrenamiento al 70% y datos de validación al 30%.\n",
        "\n",
        "Con los datos de entrenamiento se construyó y entrenó el modelo de regresión logística.\n",
        "\n",
        "Con los datos de validación se hicieron predicciones.\n",
        "\n",
        "Con la matriz de confusión se obtuvo el siguiente resultado y se evalúa el modelo:\n",
        "\n",
        "* Verdaderos Positivos. El modelo la atina a los que no ('No') tienen daño al corazón 86985\n",
        "* Falsos Negativos. El modelo falla a los que no ('No') daño, prediciendo que si ('Yes') tienen daño al corazón 745\n",
        "* Falsos Positivos. El modelo falla a los que si ('Yes') daño, prediciendo que no ('No) tienen daño al corazón 86985\n",
        "* Verdaderos Negativos. El modelo le atina a los que si ('Yes') tienen daño al corazón 773\n",
        "\n",
        "\n",
        "$$\n",
        "accuracy = \\frac{VP + VN}{VP+FP+FN+VN}\n",
        "$$\n",
        "\n",
        "Sustituyendo:\n",
        "\n",
        "$$\n",
        "accuracy = \\frac{86985 + 773}{86985+745+7436+773} = \\frac{87758}{95939 } = 0.9147 ≈ 91.47\\%\n",
        "$$\n",
        "\n",
        "El modelo de regresión logística le atina al 91% de los casos, esto debido a que el estadístico calculado de *accuracy* o exactitud que arroja la matriz de confusión es de *0.9147*.\n",
        "\n",
        "El modelo supera la métrica establecida incialmente de exactitud del 70%, entonces, **el modelo de regresión logística se acepta para estos datos**.\n",
        "\n",
        "Hay que comparar este modelo con otros modelos de clasificación... ... ...\n",
        "\n",
        "Próximo caso...\n"
      ],
      "metadata": {
        "id": "YeHNbFDe8ajn"
      }
    }
  ]
}