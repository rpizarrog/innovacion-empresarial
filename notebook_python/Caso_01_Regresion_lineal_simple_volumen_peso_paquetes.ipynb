{
  "nbformat": 4,
  "nbformat_minor": 0,
  "metadata": {
    "colab": {
      "provenance": [],
      "authorship_tag": "ABX9TyN3Ww2OhW6h7RJz9ubTdA6B",
      "include_colab_link": true
    },
    "kernelspec": {
      "name": "python3",
      "display_name": "Python 3"
    },
    "language_info": {
      "name": "python"
    }
  },
  "cells": [
    {
      "cell_type": "markdown",
      "metadata": {
        "id": "view-in-github",
        "colab_type": "text"
      },
      "source": [
        "<a href=\"https://colab.research.google.com/github/rpizarrog/innovacion-empresarial/blob/main/notebook_python/Caso_01_Regresion_lineal_simple_volumen_peso_paquetes.ipynb\" target=\"_parent\"><img src=\"https://colab.research.google.com/assets/colab-badge.svg\" alt=\"Open In Colab\"/></a>"
      ]
    },
    {
      "cell_type": "markdown",
      "source": [
        "# Objetivo\n",
        "\n",
        "Construir y evaluar un modelo de regresión lineal simple con dos variables numéricas que definen una variable independiente y otra variable dependiente.\n",
        "\n",
        "Para este caso se carga un conjunto de datos con valores numéricos de:\n",
        "\n",
        "* *Volumen_Paquete_cm3* como variable independiente y\n",
        "* *Peso_Paquete_kg* como variable dependiente.\n"
      ],
      "metadata": {
        "id": "F_SfNk5uUzyp"
      }
    },
    {
      "cell_type": "markdown",
      "source": [
        "# Descripción\n",
        "\n",
        "* Cargar librerías.\n",
        "* Crear funciones.\n",
        "* Cargar datos.\n",
        "* Análisis descriptivo exploratorio.\n",
        "  * Visualizar datos.\n",
        "    * Histograma.\n",
        "    * Diagrama de caja.\n",
        "    * Dispersión de los datos.\n",
        "*  Crear modelo de regresión lineal simple.\n",
        "  * Identificar métricas *r square* con valor por encima del $50$% para aceptar el modelo y de *RMSE* cercano a 0 que deberá ser comparado con otro modelo de regresión.\n",
        "  * Partir en datos de entrenamiento y datos de validación con el $80$% y $20$%.\n",
        "  * Evaluar modelo con datos de entrenamiento con el valor *r square*.\n",
        "  * Visualizar recta de regresión con el modelo construído y los datos de entrenamiento.\n",
        "  * Realizar predicciones utilizando el modelo con los datos de validación.\n",
        "  * Evaluar el modelo con el estadístico RMSE *root mean square error*\n",
        "* Interpretar el caso.\n"
      ],
      "metadata": {
        "id": "Lw-NPFryVCqG"
      }
    },
    {
      "cell_type": "markdown",
      "source": [
        "# Dearrollo\n",
        "\n",
        "## Cargar librerías\n"
      ],
      "metadata": {
        "id": "gmk3nPRxU-G5"
      }
    },
    {
      "cell_type": "code",
      "source": [
        "import pandas as pd\n",
        "import numpy as np\n",
        "from collections import Counter as Counter\n",
        "import math\n",
        "from sklearn.linear_model import LinearRegression # Para contruir el modelo\n",
        "\n",
        "import matplotlib.pyplot as plt # Para visualizar datos\n",
        "from sklearn.model_selection import train_test_split # Para partir los datos\n",
        "\n",
        "from sklearn import metrics # Para determinar métricas.\n",
        "\n"
      ],
      "metadata": {
        "id": "_TQT8iZ8VNzl"
      },
      "execution_count": null,
      "outputs": []
    },
    {
      "cell_type": "markdown",
      "source": [
        "## Crear funciones\n",
        "\n",
        "Se crean funciones personalizadas útiles el desarrollo del caso.\n"
      ],
      "metadata": {
        "id": "uTbi_3XoWnA6"
      }
    },
    {
      "cell_type": "code",
      "source": [
        "# Esta función regresa los datos en formato csv cargados en memoria RAM\n",
        "def f_cargar_datos(ruta):\n",
        "  # Cargar datos de la carpeta sample_data\n",
        "  # datos = pd.read_csv('sample_data/estaturas_pesos.csv')\n",
        "\n",
        "  # cargar datos de github.com enlace en la nube internet\n",
        "  datos = pd.read_csv(ruta)\n",
        "  return datos\n",
        "\n",
        "# Función que devuelve estad´siticos de una variable numérica\n",
        "def f_media_moda_mediana_n(datos):\n",
        "  # Calcular la media aritmética\n",
        "  media = np.mean(datos)\n",
        "\n",
        "  # Calcular la moda\n",
        "  contador = Counter(datos)\n",
        "  moda = contador.most_common(1)[0][0]\n",
        "\n",
        "  # Calcular la mediana\n",
        "  mediana = np.median(datos)\n",
        "\n",
        "  # ¿Cuántos nnpúmeros son?\n",
        "  n = len(datos)\n",
        "  return media, moda, mediana, n\n",
        "\n",
        "# Función que devuelve las medias aritméticas y desviaciones estándar de dos variables numéricas de una muestra\n",
        "def f_medias (independiente, dependiente):\n",
        "  medias = [np.mean(independiente), np.mean(dependiente)]\n",
        "  return medias\n",
        "\n",
        "# Función que devuelve las desviaciones estándar de dos variables numéricas de una muestra\n",
        "def f_desviaciones_std (independiente, dependiente):\n",
        "  desviaciones = [np.std(independiente, ddof=1), np.std(dependiente, ddof=1)]\n",
        "  return desviaciones\n",
        "\n",
        "# Función que devuelve la covariana y correlación de Pearson y r square de dos variables numéricas de una muestra\n",
        "def f_cov_corr(independiente, dependiente):\n",
        "  covar = np.cov(independiente, dependiente, ddof=1)[0,1]\n",
        "  r = np.corrcoef(independiente, dependiente)[0,1]\n",
        "  r_square = r ** 2\n",
        "  return covar, r, r_square\n",
        "\n",
        "\n",
        "# Función que construye diagrama de dispersión\n",
        "def f_dispersion (x, y, x_nombre, y_nombre):\n",
        "  medias = f_medias(x, y)\n",
        "\n",
        "  cova, r, r_square = f_cov_corr(x, y)   # Crear el diagrama de dispersión\n",
        "  plt.scatter(x, y, s = 5)\n",
        "\n",
        "  # Etiquetas y título\n",
        "  plt.xlabel(x_nombre)\n",
        "  plt.ylabel(y_nombre)\n",
        "  plt.title(print('Diagrama de Dispersión. Corr Pearson'))\n",
        "\n",
        "  plt.axvline(x=medias[0], color='blue', linestyle='--', linewidth=0.5,\n",
        "            label=\"Media \"+ x_nombre + \":\" + str(np.round(medias[0], 2)))\n",
        "  plt.axhline(y=medias[1], color='green', linestyle='--', linewidth=0.5,\n",
        "            label=\"Media \"+ y_nombre+\":\" + str(np.round(medias[1], 2)))\n",
        "  plt.legend()\n",
        "\n",
        "  # Subtítulo debajo del gráfico\n",
        "  plt.figtext(0.5, -0.05, f'R Pearson: {np.round(r, 4)}', ha='center', fontsize=10)\n",
        "\n",
        "  # Mostrar el diagrama de dispersión\n",
        "  plt.show()\n",
        "\n",
        "# función que visualiza histograma de una variable numérica en estructira tipo lista\n",
        "# Re Utiliza la función f_media_moda_mediana_n\n",
        "def f_histograma(datos, contexto):\n",
        "  min = np.min(datos)\n",
        "  max = np.max(datos)\n",
        "\n",
        "  # Convertir a enteros\n",
        "  min= int(min)\n",
        "  max = int(max)\n",
        "\n",
        "  # Calcular el número óptimo de clases usando la regla de Sturges\n",
        "  n = len(datos)\n",
        "  k = int(round(1 + math.log2(n)))\n",
        "\n",
        "  plt.hist(datos, bins=range(min, max, k), edgecolor=\"black\")\n",
        "  plt.xlabel(contexto)\n",
        "\n",
        "  media, moda, mediana, N = f_media_moda_mediana_n(datos)\n",
        "\n",
        "  # Agregar líneas punteadas roja, azul y verde para representar media, mediana y moda\n",
        "  medias = f_media_moda_mediana_n(datos)\n",
        "  plt.axvline(x=media, color='red', linestyle='--', linewidth=2, label=f'Media: {media:.2f}')\n",
        "  plt.axvline(x=mediana, color='blue', linestyle='--', linewidth=2, label=f'Mediana: {mediana:.2f}')\n",
        "  plt.axvline(x=moda, color='yellow', linestyle='--', linewidth=2, label=f'Moda: {moda:.2f}')\n",
        "\n",
        "  plt.ylabel(\"Frecuencia\")\n",
        "  plt.title(\"Distribución de los datos: \"+contexto)\n",
        "\n",
        "  plt.legend()\n",
        "  plt.grid(False)\n",
        "  plt.show()\n",
        "\n",
        "# Calcula los cuartiles\n",
        "def f_cuartiles_quantile(datos):\n",
        "  q1 = np.percentile(datos, 25)\n",
        "  q2 = np.percentile(datos, 50)\n",
        "  q3 = np.percentile(datos, 75)\n",
        "  return q1, q2, q3\n",
        "\n",
        "# Visualiza diagrama de caja para indentificar datos extremos\n",
        "def f_diagrama_caja (datos, contexto):\n",
        "  plt.boxplot(datos, vert=False)\n",
        "  plt.xlabel(contexto)\n",
        "  plt.ylabel('Valor')\n",
        "  plt.title('Diagrama de Caja')\n",
        "\n",
        "  # Calculando cuartiles d ela funci´pn previamente creada\n",
        "  q1, q2, q3= f_cuartiles_quantile(datos)\n",
        "  # Añadir leyendas para los cuartiles\n",
        "  plt.axvline(x=q1, color='blue', linestyle='--', linewidth=1, label=f'Q1: {q1:.2f}')\n",
        "  plt.axvline(x=q2, color='blue', linestyle='--', linewidth=1, label=f'Q2:Mediana: {q2:.2f}')\n",
        "  plt.axvline(x=q3, color='blue', linestyle='--', linewidth=1, label=f'Q3: {q3:.2f}')\n",
        "\n",
        "  # Añadir leyenda adicional\n",
        "  plt.legend()\n",
        "\n",
        "  plt.show()\n",
        "\n",
        "\n",
        "# función que visualzia la recta de regesi,ón\n",
        "# Graficar los datos y la regresión lineal\n",
        "def f_regresion_linea_tendencia(modelo, x, y, x_nombre, y_nombre):\n",
        "  # Graficar los datos y la regresión lineal\n",
        "  plt.scatter(x, y, color='blue', s=5)\n",
        "  a = modelo.intercept_  # El alor de la intersección de la abcisa\n",
        "  b = modelo.coef_       # El valor de la pendiente\n",
        "\n",
        "  # Datos de cova y correlacion con los valores de entrenamiento\n",
        "  covar, r, r_square = f_cov_corr(x, y)\n",
        "\n",
        "  # Líena de tendencia\n",
        "  linea_tendencia = modelo.predict(x.reshape(-1, 1))\n",
        "  plt.plot(x.reshape(-1, 1), linea_tendencia, color='red', linewidth=0.5,\n",
        "           label=f'a = {np.round(a, 4)}; b = {np.round(b, 4)}; r={np.round(r, 4)}; r square = {np.round(r_square, 4)}')\n",
        "\n",
        "  plt.xlabel(x_nombre)\n",
        "  plt.ylabel(y_nombre)\n",
        "  plt.title('Regresión Lineal Simple. Datos de Entrenamiento')\n",
        "  plt.legend()\n",
        "  plt.grid(True)\n",
        "\n"
      ],
      "metadata": {
        "id": "KvA3asO0qBCb"
      },
      "execution_count": null,
      "outputs": []
    },
    {
      "cell_type": "markdown",
      "source": [
        "## Crear o cargar datos\n",
        "\n",
        "Se cargan los datos de la ruta *url* indicada en donde están los datos en un formato de *archivo csv* que supone contiene dos variables numéricas en donde la primera variable o columna es la variable independiente y la segunda columna es la variable dependiente.\n",
        "\n",
        "Ejemplo *Volumen_Paquete_cm3* como variable independiente y *pesos* como variable dependiente.\n"
      ],
      "metadata": {
        "id": "QLktCZXRVKra"
      }
    },
    {
      "cell_type": "code",
      "source": [
        "# https://raw.githubusercontent.com/rpizarrog/innovacion-empresarial/refs/heads/main/datos/datos_paquetes_volumen_peso_alto_r2.csv\n",
        "#\n",
        "ruta = \"https://raw.githubusercontent.com/rpizarrog/innovacion-empresarial/refs/heads/main/datos/datos_paquetes_volumen_peso_alto_r2.csv\"\n",
        "datos = f_cargar_datos(ruta)\n",
        "\n",
        "print(datos)\n",
        "\n",
        "\n"
      ],
      "metadata": {
        "colab": {
          "base_uri": "https://localhost:8080/"
        },
        "id": "GgeQNSIeU_5C",
        "outputId": "aecb4064-2558-4e29-98f8-444e9fd0cfcd"
      },
      "execution_count": null,
      "outputs": [
        {
          "output_type": "stream",
          "name": "stdout",
          "text": [
            "     Volumen_Paquete_cm3  Peso_Paquete_kg\n",
            "0              54.967142        26.617744\n",
            "1              48.617357        28.994026\n",
            "2              56.476885        23.590754\n",
            "3              65.230299        28.906966\n",
            "4              47.658466        20.063387\n",
            "..                   ...              ...\n",
            "495            55.389100        23.155640\n",
            "496            39.627538        24.839448\n",
            "497            48.096613        22.442860\n",
            "498            41.243817        17.497527\n",
            "499            36.172003        17.331715\n",
            "\n",
            "[500 rows x 2 columns]\n"
          ]
        }
      ]
    },
    {
      "cell_type": "markdown",
      "source": [
        "## Crear o cargar datos\n",
        "\n",
        "Se cargan los datos de la ruta *url* indicada en donde están los datos en un formato de *archivo csv* que supone contiene dos variables numéricas en donde la primera variable o columna es la variable independiente y la segunda columna es la variable dependiente.\n",
        "\n",
        "Ejemplo *Volumen_Paquete_cm3* como variable independiente y *Peso_Paquete_kg* como variable dependiente.\n"
      ],
      "metadata": {
        "id": "oS0aq5bs02je"
      }
    },
    {
      "cell_type": "markdown",
      "source": [
        "Mostrar la estructura del conjunto de datos conla función *info()*."
      ],
      "metadata": {
        "id": "6tDYrloA02je"
      }
    },
    {
      "cell_type": "code",
      "source": [
        "datos.info()"
      ],
      "metadata": {
        "colab": {
          "base_uri": "https://localhost:8080/"
        },
        "outputId": "1eefa527-815e-43a9-82b6-6671cabf3e09",
        "id": "qQZEMOQF02je"
      },
      "execution_count": null,
      "outputs": [
        {
          "output_type": "stream",
          "name": "stdout",
          "text": [
            "<class 'pandas.core.frame.DataFrame'>\n",
            "RangeIndex: 500 entries, 0 to 499\n",
            "Data columns (total 2 columns):\n",
            " #   Column               Non-Null Count  Dtype  \n",
            "---  ------               --------------  -----  \n",
            " 0   Volumen_Paquete_cm3  500 non-null    float64\n",
            " 1   Peso_Paquete_kg      500 non-null    float64\n",
            "dtypes: float64(2)\n",
            "memory usage: 7.9 KB\n"
          ]
        }
      ]
    },
    {
      "cell_type": "markdown",
      "source": [
        "\n",
        "## Análisis descriptivo\n",
        "\n",
        "Se presentan los estadísticos mas importantes de las variables de interés con la función *describe()*\n",
        "\n",
        "* Se define independiente = *'Volumen_Paquete_cm3'*\n",
        "* Se define dependiente = *'Peso_Paquete_kg'*\n",
        "\n",
        "### Estadísticos"
      ],
      "metadata": {
        "id": "di02XYbB02je"
      }
    },
    {
      "cell_type": "code",
      "source": [
        "# volumen y peso de paquetes\n",
        "independiente = 'Volumen_Paquete_cm3'\n",
        "dependiente = 'Peso_Paquete_kg'\n",
        "\n",
        "datos[[independiente, dependiente]].describe()"
      ],
      "metadata": {
        "colab": {
          "base_uri": "https://localhost:8080/",
          "height": 300
        },
        "outputId": "146e29a4-965f-4977-a03d-276750f6bd1f",
        "id": "2_7aAlzL02je"
      },
      "execution_count": null,
      "outputs": [
        {
          "output_type": "execute_result",
          "data": {
            "text/plain": [
              "       Volumen_Paquete_cm3  Peso_Paquete_kg\n",
              "count           500.000000       500.000000\n",
              "mean             50.068380        22.582585\n",
              "std               9.812532         4.593545\n",
              "min              17.587327        11.792315\n",
              "25%              42.996926        19.229041\n",
              "50%              50.127971        22.273932\n",
              "75%              56.367833        24.900904\n",
              "max              88.527315        43.893208"
            ],
            "text/html": [
              "\n",
              "  <div id=\"df-993f45fc-e7ad-4513-b318-6061d1f74c93\" class=\"colab-df-container\">\n",
              "    <div>\n",
              "<style scoped>\n",
              "    .dataframe tbody tr th:only-of-type {\n",
              "        vertical-align: middle;\n",
              "    }\n",
              "\n",
              "    .dataframe tbody tr th {\n",
              "        vertical-align: top;\n",
              "    }\n",
              "\n",
              "    .dataframe thead th {\n",
              "        text-align: right;\n",
              "    }\n",
              "</style>\n",
              "<table border=\"1\" class=\"dataframe\">\n",
              "  <thead>\n",
              "    <tr style=\"text-align: right;\">\n",
              "      <th></th>\n",
              "      <th>Volumen_Paquete_cm3</th>\n",
              "      <th>Peso_Paquete_kg</th>\n",
              "    </tr>\n",
              "  </thead>\n",
              "  <tbody>\n",
              "    <tr>\n",
              "      <th>count</th>\n",
              "      <td>500.000000</td>\n",
              "      <td>500.000000</td>\n",
              "    </tr>\n",
              "    <tr>\n",
              "      <th>mean</th>\n",
              "      <td>50.068380</td>\n",
              "      <td>22.582585</td>\n",
              "    </tr>\n",
              "    <tr>\n",
              "      <th>std</th>\n",
              "      <td>9.812532</td>\n",
              "      <td>4.593545</td>\n",
              "    </tr>\n",
              "    <tr>\n",
              "      <th>min</th>\n",
              "      <td>17.587327</td>\n",
              "      <td>11.792315</td>\n",
              "    </tr>\n",
              "    <tr>\n",
              "      <th>25%</th>\n",
              "      <td>42.996926</td>\n",
              "      <td>19.229041</td>\n",
              "    </tr>\n",
              "    <tr>\n",
              "      <th>50%</th>\n",
              "      <td>50.127971</td>\n",
              "      <td>22.273932</td>\n",
              "    </tr>\n",
              "    <tr>\n",
              "      <th>75%</th>\n",
              "      <td>56.367833</td>\n",
              "      <td>24.900904</td>\n",
              "    </tr>\n",
              "    <tr>\n",
              "      <th>max</th>\n",
              "      <td>88.527315</td>\n",
              "      <td>43.893208</td>\n",
              "    </tr>\n",
              "  </tbody>\n",
              "</table>\n",
              "</div>\n",
              "    <div class=\"colab-df-buttons\">\n",
              "\n",
              "  <div class=\"colab-df-container\">\n",
              "    <button class=\"colab-df-convert\" onclick=\"convertToInteractive('df-993f45fc-e7ad-4513-b318-6061d1f74c93')\"\n",
              "            title=\"Convert this dataframe to an interactive table.\"\n",
              "            style=\"display:none;\">\n",
              "\n",
              "  <svg xmlns=\"http://www.w3.org/2000/svg\" height=\"24px\" viewBox=\"0 -960 960 960\">\n",
              "    <path d=\"M120-120v-720h720v720H120Zm60-500h600v-160H180v160Zm220 220h160v-160H400v160Zm0 220h160v-160H400v160ZM180-400h160v-160H180v160Zm440 0h160v-160H620v160ZM180-180h160v-160H180v160Zm440 0h160v-160H620v160Z\"/>\n",
              "  </svg>\n",
              "    </button>\n",
              "\n",
              "  <style>\n",
              "    .colab-df-container {\n",
              "      display:flex;\n",
              "      gap: 12px;\n",
              "    }\n",
              "\n",
              "    .colab-df-convert {\n",
              "      background-color: #E8F0FE;\n",
              "      border: none;\n",
              "      border-radius: 50%;\n",
              "      cursor: pointer;\n",
              "      display: none;\n",
              "      fill: #1967D2;\n",
              "      height: 32px;\n",
              "      padding: 0 0 0 0;\n",
              "      width: 32px;\n",
              "    }\n",
              "\n",
              "    .colab-df-convert:hover {\n",
              "      background-color: #E2EBFA;\n",
              "      box-shadow: 0px 1px 2px rgba(60, 64, 67, 0.3), 0px 1px 3px 1px rgba(60, 64, 67, 0.15);\n",
              "      fill: #174EA6;\n",
              "    }\n",
              "\n",
              "    .colab-df-buttons div {\n",
              "      margin-bottom: 4px;\n",
              "    }\n",
              "\n",
              "    [theme=dark] .colab-df-convert {\n",
              "      background-color: #3B4455;\n",
              "      fill: #D2E3FC;\n",
              "    }\n",
              "\n",
              "    [theme=dark] .colab-df-convert:hover {\n",
              "      background-color: #434B5C;\n",
              "      box-shadow: 0px 1px 3px 1px rgba(0, 0, 0, 0.15);\n",
              "      filter: drop-shadow(0px 1px 2px rgba(0, 0, 0, 0.3));\n",
              "      fill: #FFFFFF;\n",
              "    }\n",
              "  </style>\n",
              "\n",
              "    <script>\n",
              "      const buttonEl =\n",
              "        document.querySelector('#df-993f45fc-e7ad-4513-b318-6061d1f74c93 button.colab-df-convert');\n",
              "      buttonEl.style.display =\n",
              "        google.colab.kernel.accessAllowed ? 'block' : 'none';\n",
              "\n",
              "      async function convertToInteractive(key) {\n",
              "        const element = document.querySelector('#df-993f45fc-e7ad-4513-b318-6061d1f74c93');\n",
              "        const dataTable =\n",
              "          await google.colab.kernel.invokeFunction('convertToInteractive',\n",
              "                                                    [key], {});\n",
              "        if (!dataTable) return;\n",
              "\n",
              "        const docLinkHtml = 'Like what you see? Visit the ' +\n",
              "          '<a target=\"_blank\" href=https://colab.research.google.com/notebooks/data_table.ipynb>data table notebook</a>'\n",
              "          + ' to learn more about interactive tables.';\n",
              "        element.innerHTML = '';\n",
              "        dataTable['output_type'] = 'display_data';\n",
              "        await google.colab.output.renderOutput(dataTable, element);\n",
              "        const docLink = document.createElement('div');\n",
              "        docLink.innerHTML = docLinkHtml;\n",
              "        element.appendChild(docLink);\n",
              "      }\n",
              "    </script>\n",
              "  </div>\n",
              "\n",
              "\n",
              "<div id=\"df-66139449-f1ee-4194-acf7-d1951a39bffa\">\n",
              "  <button class=\"colab-df-quickchart\" onclick=\"quickchart('df-66139449-f1ee-4194-acf7-d1951a39bffa')\"\n",
              "            title=\"Suggest charts\"\n",
              "            style=\"display:none;\">\n",
              "\n",
              "<svg xmlns=\"http://www.w3.org/2000/svg\" height=\"24px\"viewBox=\"0 0 24 24\"\n",
              "     width=\"24px\">\n",
              "    <g>\n",
              "        <path d=\"M19 3H5c-1.1 0-2 .9-2 2v14c0 1.1.9 2 2 2h14c1.1 0 2-.9 2-2V5c0-1.1-.9-2-2-2zM9 17H7v-7h2v7zm4 0h-2V7h2v10zm4 0h-2v-4h2v4z\"/>\n",
              "    </g>\n",
              "</svg>\n",
              "  </button>\n",
              "\n",
              "<style>\n",
              "  .colab-df-quickchart {\n",
              "      --bg-color: #E8F0FE;\n",
              "      --fill-color: #1967D2;\n",
              "      --hover-bg-color: #E2EBFA;\n",
              "      --hover-fill-color: #174EA6;\n",
              "      --disabled-fill-color: #AAA;\n",
              "      --disabled-bg-color: #DDD;\n",
              "  }\n",
              "\n",
              "  [theme=dark] .colab-df-quickchart {\n",
              "      --bg-color: #3B4455;\n",
              "      --fill-color: #D2E3FC;\n",
              "      --hover-bg-color: #434B5C;\n",
              "      --hover-fill-color: #FFFFFF;\n",
              "      --disabled-bg-color: #3B4455;\n",
              "      --disabled-fill-color: #666;\n",
              "  }\n",
              "\n",
              "  .colab-df-quickchart {\n",
              "    background-color: var(--bg-color);\n",
              "    border: none;\n",
              "    border-radius: 50%;\n",
              "    cursor: pointer;\n",
              "    display: none;\n",
              "    fill: var(--fill-color);\n",
              "    height: 32px;\n",
              "    padding: 0;\n",
              "    width: 32px;\n",
              "  }\n",
              "\n",
              "  .colab-df-quickchart:hover {\n",
              "    background-color: var(--hover-bg-color);\n",
              "    box-shadow: 0 1px 2px rgba(60, 64, 67, 0.3), 0 1px 3px 1px rgba(60, 64, 67, 0.15);\n",
              "    fill: var(--button-hover-fill-color);\n",
              "  }\n",
              "\n",
              "  .colab-df-quickchart-complete:disabled,\n",
              "  .colab-df-quickchart-complete:disabled:hover {\n",
              "    background-color: var(--disabled-bg-color);\n",
              "    fill: var(--disabled-fill-color);\n",
              "    box-shadow: none;\n",
              "  }\n",
              "\n",
              "  .colab-df-spinner {\n",
              "    border: 2px solid var(--fill-color);\n",
              "    border-color: transparent;\n",
              "    border-bottom-color: var(--fill-color);\n",
              "    animation:\n",
              "      spin 1s steps(1) infinite;\n",
              "  }\n",
              "\n",
              "  @keyframes spin {\n",
              "    0% {\n",
              "      border-color: transparent;\n",
              "      border-bottom-color: var(--fill-color);\n",
              "      border-left-color: var(--fill-color);\n",
              "    }\n",
              "    20% {\n",
              "      border-color: transparent;\n",
              "      border-left-color: var(--fill-color);\n",
              "      border-top-color: var(--fill-color);\n",
              "    }\n",
              "    30% {\n",
              "      border-color: transparent;\n",
              "      border-left-color: var(--fill-color);\n",
              "      border-top-color: var(--fill-color);\n",
              "      border-right-color: var(--fill-color);\n",
              "    }\n",
              "    40% {\n",
              "      border-color: transparent;\n",
              "      border-right-color: var(--fill-color);\n",
              "      border-top-color: var(--fill-color);\n",
              "    }\n",
              "    60% {\n",
              "      border-color: transparent;\n",
              "      border-right-color: var(--fill-color);\n",
              "    }\n",
              "    80% {\n",
              "      border-color: transparent;\n",
              "      border-right-color: var(--fill-color);\n",
              "      border-bottom-color: var(--fill-color);\n",
              "    }\n",
              "    90% {\n",
              "      border-color: transparent;\n",
              "      border-bottom-color: var(--fill-color);\n",
              "    }\n",
              "  }\n",
              "</style>\n",
              "\n",
              "  <script>\n",
              "    async function quickchart(key) {\n",
              "      const quickchartButtonEl =\n",
              "        document.querySelector('#' + key + ' button');\n",
              "      quickchartButtonEl.disabled = true;  // To prevent multiple clicks.\n",
              "      quickchartButtonEl.classList.add('colab-df-spinner');\n",
              "      try {\n",
              "        const charts = await google.colab.kernel.invokeFunction(\n",
              "            'suggestCharts', [key], {});\n",
              "      } catch (error) {\n",
              "        console.error('Error during call to suggestCharts:', error);\n",
              "      }\n",
              "      quickchartButtonEl.classList.remove('colab-df-spinner');\n",
              "      quickchartButtonEl.classList.add('colab-df-quickchart-complete');\n",
              "    }\n",
              "    (() => {\n",
              "      let quickchartButtonEl =\n",
              "        document.querySelector('#df-66139449-f1ee-4194-acf7-d1951a39bffa button');\n",
              "      quickchartButtonEl.style.display =\n",
              "        google.colab.kernel.accessAllowed ? 'block' : 'none';\n",
              "    })();\n",
              "  </script>\n",
              "</div>\n",
              "\n",
              "    </div>\n",
              "  </div>\n"
            ],
            "application/vnd.google.colaboratory.intrinsic+json": {
              "type": "dataframe",
              "summary": "{\n  \"name\": \"datos[[independiente, dependiente]]\",\n  \"rows\": 8,\n  \"fields\": [\n    {\n      \"column\": \"Volumen_Paquete_cm3\",\n      \"properties\": {\n        \"dtype\": \"number\",\n        \"std\": 162.6392884669202,\n        \"min\": 9.81253247361853,\n        \"max\": 500.0,\n        \"num_unique_values\": 8,\n        \"samples\": [\n          50.068379945886484,\n          50.12797146329851,\n          500.0\n        ],\n        \"semantic_type\": \"\",\n        \"description\": \"\"\n      }\n    },\n    {\n      \"column\": \"Peso_Paquete_kg\",\n      \"properties\": {\n        \"dtype\": \"number\",\n        \"std\": 169.61699257686467,\n        \"min\": 4.593545203454777,\n        \"max\": 500.0,\n        \"num_unique_values\": 8,\n        \"samples\": [\n          22.58258453680289,\n          22.27393178586673,\n          500.0\n        ],\n        \"semantic_type\": \"\",\n        \"description\": \"\"\n      }\n    }\n  ]\n}"
            }
          },
          "metadata": {},
          "execution_count": 42
        }
      ]
    },
    {
      "cell_type": "markdown",
      "source": [
        "### Histograma\n",
        "\n",
        "Histograma de las variables de interés volumen y pesos de paquetes."
      ],
      "metadata": {
        "id": "MboO0eZp02jf"
      }
    },
    {
      "cell_type": "code",
      "source": [
        "f_histograma(datos[independiente], \"Volumen\")\n",
        "\n",
        "f_histograma(datos[dependiente], \"Pesos en kgs\")\n"
      ],
      "metadata": {
        "colab": {
          "base_uri": "https://localhost:8080/",
          "height": 927
        },
        "outputId": "80e41bd6-38fc-4006-b0d5-56922d5ddaf6",
        "id": "9FH8APWk02jf"
      },
      "execution_count": null,
      "outputs": [
        {
          "output_type": "display_data",
          "data": {
            "text/plain": [
              "<Figure size 640x480 with 1 Axes>"
            ],
            "image/png": "[encoded data removed]"
          },
          "metadata": {}
        },
        {
          "output_type": "display_data",
          "data": {
            "text/plain": [
              "<Figure size 640x480 with 1 Axes>"
            ],
            "image/png": "[encoded data removed]"
          },
          "metadata": {}
        }
      ]
    },
    {
      "cell_type": "markdown",
      "source": [
        "### Diagramas de caja\n",
        "\n",
        "Se exploran los datos mediante el diagrama de caja de las variables de interés volumen y pesos para identifiar si hay valores atípicos."
      ],
      "metadata": {
        "id": "8BfCF_Bi02jf"
      }
    },
    {
      "cell_type": "code",
      "source": [
        "f_diagrama_caja(datos[independiente], \"Volumen\")"
      ],
      "metadata": {
        "colab": {
          "base_uri": "https://localhost:8080/",
          "height": 472
        },
        "outputId": "ad0aa840-13cd-43f2-965c-f69a3746c28a",
        "id": "6atbLeYp02jf"
      },
      "execution_count": null,
      "outputs": [
        {
          "output_type": "display_data",
          "data": {
            "text/plain": [
              "<Figure size 640x480 with 1 Axes>"
            ],
            "image/png": "[encoded data removed]"
          },
          "metadata": {}
        }
      ]
    },
    {
      "cell_type": "markdown",
      "source": [
        "Si hay valores atípicos en los valores de la variable volumen."
      ],
      "metadata": {
        "id": "FotfOLx602jf"
      }
    },
    {
      "cell_type": "code",
      "source": [
        "f_diagrama_caja(datos[dependiente], \"Pesos\")"
      ],
      "metadata": {
        "colab": {
          "base_uri": "https://localhost:8080/",
          "height": 472
        },
        "outputId": "25a48830-9c60-418c-80d9-aadd91536b0d",
        "id": "9oXlasP602jf"
      },
      "execution_count": null,
      "outputs": [
        {
          "output_type": "display_data",
          "data": {
            "text/plain": [
              "<Figure size 640x480 with 1 Axes>"
            ],
            "image/png": "[encoded data removed]"
          },
          "metadata": {}
        }
      ]
    },
    {
      "cell_type": "markdown",
      "source": [
        "Existen valores atípicos en la variable pesos por encima de 35 o más kgs, es decir por encima de $Q3 + 1.5 \\times RI$.\n",
        "\n",
        "La pregunta es, ¿qué hacer con esos dato?, verificarlo y dejarlo o modificar su valor y transformarlo a un valor numéricos veraz, viable o verificable que puede ser el valor de la media aritmética o la mediana."
      ],
      "metadata": {
        "id": "TcFAthts02jf"
      }
    },
    {
      "cell_type": "markdown",
      "source": [
        "### Dispersión de los datos\n",
        "\n"
      ],
      "metadata": {
        "id": "cdAatn5002jf"
      }
    },
    {
      "cell_type": "code",
      "source": [
        "f_dispersion(datos[independiente], datos[dependiente], independiente, dependiente)\n"
      ],
      "metadata": {
        "colab": {
          "base_uri": "https://localhost:8080/",
          "height": 503
        },
        "outputId": "68630708-9f79-4634-e9cc-5e763d38a664",
        "id": "wkluG0Gn02jg"
      },
      "execution_count": null,
      "outputs": [
        {
          "output_type": "stream",
          "name": "stdout",
          "text": [
            "Diagrama de Dispersión. Corr Pearson\n"
          ]
        },
        {
          "output_type": "display_data",
          "data": {
            "text/plain": [
              "<Figure size 640x480 with 1 Axes>"
            ],
            "image/png": "[encoded data removed]"
          },
          "metadata": {}
        }
      ]
    },
    {
      "cell_type": "markdown",
      "source": [
        "La correlación *r* resultante de los datos de *estatura*  y *peso* fue de $0.7652$ que se interpreta como una correlación positiva fuerte."
      ],
      "metadata": {
        "id": "PrtYZx4K02jg"
      }
    },
    {
      "cell_type": "markdown",
      "source": [],
      "metadata": {
        "id": "enP3R8r102jg"
      }
    },
    {
      "cell_type": "markdown",
      "source": [
        "## Crear modelo de regresión lineal simple.\n",
        "\n",
        "### Preparar datos\n",
        "\n",
        "Se extraen las variables volumen y pesos a tipo de datos listas numpy para facilitar su uso."
      ],
      "metadata": {
        "id": "yqdEIKuI02jg"
      }
    },
    {
      "cell_type": "code",
      "source": [
        "v_independiente = datos[independiente].to_numpy()\n",
        "v_dependiente = datos[dependiente].to_numpy()\n",
        "\n",
        "print (v_independiente)\n",
        "print(v_dependiente)\n",
        "\n",
        "\n"
      ],
      "metadata": {
        "colab": {
          "base_uri": "https://localhost:8080/"
        },
        "outputId": "01ad87e8-0245-4158-d383-5b670b26e35d",
        "id": "5gw_7owL02jg"
      },
      "execution_count": null,
      "outputs": [
        {
          "output_type": "stream",
          "name": "stdout",
          "text": [
            "[54.96714153 48.61735699 56.47688538 65.23029856 47.65846625 47.65863043\n",
            " 65.79212816 57.67434729 45.30525614 55.42560044 45.36582307 45.34270246\n",
            " 52.41962272 30.86719755 32.75082167 44.37712471 39.8716888  53.14247333\n",
            " 40.91975924 35.87696299 64.65648769 47.742237   50.67528205 35.75251814\n",
            " 44.55617275 51.1092259  38.49006423 53.75698018 43.9936131  47.0830625\n",
            " 43.98293388 68.52278185 49.86502775 39.42289071 58.22544912 37.7915635\n",
            " 52.08863595 30.40329876 36.71813951 51.96861236 57.3846658  51.71368281\n",
            " 48.84351718 46.98896304 35.2147801  42.80155792 45.39361229 60.57122226\n",
            " 53.4361829  32.36959845 53.24083969 46.1491772  43.23078    56.11676289\n",
            " 60.30999522 59.31280119 41.60782477 46.90787624 53.31263431 59.75545127\n",
            " 45.20825762 48.14341023 38.93665026 38.03793376 58.12525822 63.56240029\n",
            " 49.27989878 60.03532898 53.61636025 43.54880245 53.61395606 65.38036566\n",
            " 49.64173961 65.64643656 23.80254896 58.21902504 50.87047068 47.0099265\n",
            " 50.91760777 30.12431085 47.80328112 53.57112572 64.77894045 44.81729782\n",
            " 41.91506397 44.98242956 59.15402118 53.2875111  44.70239796 55.13267433\n",
            " 50.97077549 59.68644991 42.97946906 46.72337853 46.07891847 35.36485052\n",
            " 52.96120277 52.61055272 50.05113457 47.65412867 35.84629258 45.79354677\n",
            " 46.57285483 41.97722731 48.38714288 54.04050857 68.86185901 51.74577813\n",
            " 52.57550391 49.25554084 30.81228785 49.73486125 50.6023021  74.63242112\n",
            " 48.07639035 53.01547342 49.6528823  38.31321962 61.42822815 57.51933033\n",
            " 57.91031947 40.90612545 64.02794311 35.98148937 55.86857094 71.90455626\n",
            " 40.09463675 44.3370227  50.99651365 44.96524346 34.49336569 50.68562975\n",
            " 39.37696286 54.73592431 40.80575766 65.49934405 42.16746708 46.77938484\n",
            " 58.13517217 37.69135684 52.27459935 63.07142754 33.92516765 51.84633859\n",
            " 52.59882794 57.81822872 37.63049289 36.79543387 55.21941566 52.96984673\n",
            " 52.5049285  53.46448209 43.19975278 52.32253697 52.93072473 42.85648582\n",
            " 68.65774511 54.73832921 38.08696503 56.56553609 40.2531833  57.87084604\n",
            " 61.58595579 41.79317682 59.63376129 54.12780927 58.2206016  68.96792983\n",
            " 47.54611884 42.46263836 41.1048557  41.84189715 49.22898291 53.41151975\n",
            " 52.76690799 58.27183249 50.13001892 64.53534077 47.35343167 77.20169167\n",
            " 56.25667348 41.42842444 39.29107502 54.82472415 47.76537215 57.14000494\n",
            " 54.73237625 49.27171087 41.53206282 34.85152775 45.53485048 58.56398794\n",
            " 52.14093744 37.54261221 51.73180926 53.8531738  41.16142564 51.53725106\n",
            " 50.58208718 38.57029702 53.5778736  55.60784526 60.83051243 60.53802052\n",
            " 36.22330632 40.6217496  55.15035267 55.13785951 55.15047686 88.52731491\n",
            " 55.70890511 61.3556564  59.54001763 56.51391251 46.84730755 57.5896922\n",
            " 42.27174785 47.63181393 45.14636452 50.81874139 73.14658567 31.32734807\n",
            " 56.8626019  33.87284129 45.28068134 60.88950597 50.64280019 39.22255222\n",
            " 42.84696291 56.79597749 42.69633368 52.1645859  50.4557184  43.48399652\n",
            " 71.43944089 56.33919022 29.74857413 51.86454315 43.38213535 58.52433335\n",
            " 42.07479262 48.85263559 55.04987279 58.65755194 37.99703593 46.65498764\n",
            " 45.25054689 43.46670767 67.6545424  54.04981711 37.39116046 59.17861947\n",
            " 71.22156197 60.32465261 34.80630034 45.15765927 62.66911149 42.92330534\n",
            " 54.43819428 57.74634053 40.73069528 49.40474644 17.5873266  39.75612359\n",
            " 47.47431849 37.52216818 66.32411304 35.69858622 45.59955513 51.30740577\n",
            " 64.41273289 35.64137849 61.63163752 50.10233061 40.18491349 54.62103474\n",
            " 51.99059696 43.99783123 50.69802085 46.14686403 51.13517345 56.62130675\n",
            " 65.86016816 37.62184501 71.33033375 30.479122   48.48214905 55.88317206\n",
            " 52.80991868 43.7730048  47.9187775  45.06999065 44.10635243 58.49602097\n",
            " 53.57015486 43.07090405 58.99599875 53.07299521 58.12862119 56.29628842\n",
            " 41.71004989 44.3981896  57.47293605 56.10370265 49.79098406 51.17327383\n",
            " 62.77664896 44.08428611 55.47097381 47.97807348 47.82318797 60.98776852\n",
            " 58.25416349 58.13509636 63.05478807 50.21003842 56.81952971 46.89733243\n",
            " 53.24166352 48.69856946 50.96995965 55.95157025 41.81779317 70.92387276\n",
            " 39.93982619 37.85811387 61.58110874 57.91662694 56.24119817 56.28345509\n",
            " 49.87753227 41.02745629 50.75804558 43.22838288 59.75119733 48.52942618\n",
            " 41.74502803 46.78614158 54.12931454 44.36275447 41.77779604 52.43687211\n",
            " 52.44966571 44.93056825 45.28961694 52.32049937 35.51915659 35.92536226\n",
            " 42.81555779 47.86552848 53.10907566 64.75356217 58.57659623 48.4006147\n",
            " 49.80983792 39.97470635 49.81486864 47.11341361 53.2271856  41.72769056\n",
            " 55.19346514 65.32738913 48.91239852 54.01711722 56.90143992 45.98779528\n",
            " 52.24092482 50.12592401 50.97676099 42.26990216 50.24510174 54.97998291\n",
            " 64.51143608 59.59270826 71.53182458 42.32652437 58.72320637 51.83342006\n",
            " 71.89802933 41.91701715 41.60278158 44.00607355 28.76104276 44.74244978\n",
            " 42.40867338 51.50393786 53.41755976 68.76170839 59.50423838 44.23096344\n",
            " 41.01585329 54.91919172 36.79766793 68.31458766 61.79440121 45.30824348\n",
            " 32.86865471 63.53872374 48.85460155 62.37816312 34.05572341 44.00624977\n",
            " 50.052437   50.46980594 45.49934529 56.22849932 39.32379571 48.57620515\n",
            " 51.20295632 55.14438834 57.11614878 38.75357908 34.65885829 62.77676822\n",
            " 53.32314012 42.51513463 65.51151976 51.15674634 61.79297184 50.67518481\n",
            " 70.60747925 67.55340842 47.51035852 59.71570951 56.4537595  63.68631558\n",
            " 40.35076539 56.8605146  60.58424487 32.41260514 38.16741487 29.60767822\n",
            " 47.30593166 57.17542256 65.02357052 50.7409478  66.28615546 36.19898542\n",
            " 32.96617561 49.44452301 53.84065449 49.67305252 29.325579   49.1087996\n",
            " 36.95530499 56.69672549 53.66598246 40.60120214 44.86133083 39.40786478\n",
            " 49.37320903 59.55142321 40.14273954 55.04046516 44.69742382 42.07127168\n",
            " 48.9296964  39.64757678 44.46350695 38.02122107 69.64725133 50.35263552\n",
            " 43.00274492 52.13979911 48.8767195  47.790304   56.141667   57.5750771\n",
            " 44.69498852 44.24181759 47.24948303 26.98078835 34.84808938 63.66874267\n",
            " 66.44967714 47.5096396  55.76556963 53.11250155 80.78880808 61.19574911\n",
            " 48.72082409 40.44459559 33.9355368  52.03463636 42.43649255 35.7774629\n",
            " 43.53427116 39.18451996 66.87141635 58.81639757 49.92027359 64.79944139\n",
            " 50.77368308 41.38715799 65.23124077 55.38910044 39.62753846 48.09661322\n",
            " 41.24381747 36.17200269]\n",
            "[26.61774435 28.994026   23.59075415 28.90696561 20.0633865  20.06345217\n",
            " 27.31685126 24.06973892 19.12210246 23.17024017 19.49861336 19.13708099\n",
            " 21.96784909 13.34687902 14.10032867 21.52780601 18.45326146 22.25698933\n",
            " 17.3679037  18.10772081 26.86259508 21.81369576 21.27011282 17.1540006\n",
            " 18.8224691  21.44369036 16.39602569 22.50279207 18.89605775 19.833225\n",
            " 20.78613584 28.40911274 20.9460111  16.76915628 24.29017965 16.1166254\n",
            " 21.83545438 13.1613195  19.71871985 21.78744494 27.13232688 21.68547312\n",
            " 22.18642776 26.00342832 15.08591204 18.12062317 21.04280555 25.2284889\n",
            " 23.23020253 13.94783938 22.29633588 19.45967088 23.13122231 23.71880937\n",
            " 25.8120114  24.72512048 17.64312991 19.7631505  23.29731444 24.90218051\n",
            " 19.53217733 29.63436809 19.93028362 16.2151735  29.2561729  26.42496011\n",
            " 20.71195951 25.01413159 22.4465441  18.41952098 22.44558242 34.53433283\n",
            " 21.49133271 27.25857462 13.66804749 24.28761002 21.52626106 22.65829657\n",
            " 21.36704311 17.76849456 20.81379449 22.42845029 29.07548551 29.28038342\n",
            " 17.76602559 19.23407476 24.66160847 22.31500444 22.03263827 23.05306973\n",
            " 21.3883102  24.87457996 19.58668675 20.35766194 23.61926711 15.14594021\n",
            " 22.18448111 22.04422109 21.02045383 20.94815393 18.12346012 19.31741871\n",
            " 22.97717153 23.56908022 21.42203167 31.00018249 28.5447436  21.69831125\n",
            " 22.03020156 27.18243789 15.59674342 20.8939445  21.64076397 30.85296845\n",
            " 31.45931604 22.20618937 20.86115292 18.95412097 26.97633742 24.12715225\n",
            " 24.16412779 18.71979197 35.02129973 21.11969598 30.31336151 29.7618225\n",
            " 17.0378547  18.73480908 21.39860546 23.45705498 14.79734628 27.9220035\n",
            " 16.75078515 22.89436972 17.32230306 27.19973762 20.98283975 19.71175394\n",
            " 24.25406887 16.07654273 21.90983974 33.57367864 14.57006706 21.73853543\n",
            " 22.03953118 24.12729149 16.05219716 15.71817355 23.08776626 24.66897052\n",
            " 30.24675188 27.01861799 18.27990111 21.92901479 34.03908891 18.14259433\n",
            " 28.46309804 22.89533168 16.23478601 23.62621443 17.10127332 24.14833841\n",
            " 25.63438232 17.71727073 24.85350452 22.65112371 24.28824064 35.10713687\n",
            " 20.01844754 22.4425896  22.67236824 17.73675886 20.69159316 22.3646079\n",
            " 22.1067632  24.308733   21.05200757 34.57548853 23.61976463 37.23845214\n",
            " 26.11102971 17.57136977 16.71643001 24.37676247 20.10614886 26.42099413\n",
            " 22.8929505  20.70868435 20.16762497 16.16192766 19.21394019 29.22224419\n",
            " 21.85637498 18.09672292 23.65822999 22.54126952 18.09523537 21.61490042\n",
            " 24.85296997 16.42811881 22.43114944 27.48818423 25.33220497 25.21520821\n",
            " 15.48932253 19.2787496  23.06014107 30.82911471 23.06019075 43.8932078\n",
            " 23.33864938 25.54226256 24.81600705 24.60124558 19.73892302 28.55238629\n",
            " 17.90869914 20.05272557 19.05854581 21.32749656 30.79764311 13.53093923\n",
            " 23.74504076 17.26545699 19.11227254 25.35580239 21.25712008 17.42692942\n",
            " 18.13878516 23.718391   18.07853347 21.86583436 22.22355114 18.39359861\n",
            " 33.72155454 24.8986635  13.17957832 25.65927218 25.68022636 28.48158366\n",
            " 17.82991705 20.54105423 23.01994912 24.46302078 17.78710947 19.66199506\n",
            " 19.10021876 18.38668307 28.06181696 22.61992684 15.95646418 24.67144779\n",
            " 29.48862479 29.39807003 14.92252014 31.22497403 27.5342341  18.16932214\n",
            " 22.77527771 26.60008561 17.29227811 20.76189858 19.83535333 16.90244943\n",
            " 24.73609403 16.00886727 27.52964522 23.13343767 19.23982205 29.5852051\n",
            " 29.30385283 15.2565514  27.8146937  24.90370449 19.18301521 22.8484139\n",
            " 21.79623878 18.59913249 21.27920834 21.5621061  21.45406938 23.6485227\n",
            " 28.24505652 18.10166673 31.33108574 17.59555243 23.56247039 24.64916922\n",
            " 22.12396747 18.50920192 21.31560209 19.0664347  19.00043516 24.39840839\n",
            " 22.42806194 22.49412589 24.5983995  24.63670157 24.25144848 23.51851537\n",
            " 21.37543899 18.75927584 23.98917442 23.44148106 20.91639362 21.46930953\n",
            " 26.22132844 18.63371444 28.46717015 20.19122939 20.12927519 25.39510741\n",
            " 30.53655482 24.25403854 30.38113793 21.08401537 24.06306321 23.20708695\n",
            " 22.29666541 24.80682966 21.38798386 29.4273653  28.22160789 29.3695491\n",
            " 16.97593047 22.41016793 32.53030422 24.16665078 23.49647927 23.51338204\n",
            " 20.95101291 17.41098251 21.30321823 18.29135315 24.90047893 20.58284414\n",
            " 24.45051368 19.71445663 26.57333781 18.74510179 17.71111842 24.34884631\n",
            " 21.97986628 19.88427603 19.11584678 23.39045607 15.65350585 26.6466456\n",
            " 18.12622311 20.14621139 22.24363026 26.90142487 24.43063849 25.30532854\n",
            " 27.02645641 16.98988254 20.92594746 21.20244323 22.29087424 19.85573531\n",
            " 23.09200116 27.13095565 27.30248541 30.58623525 23.76057597 19.39511811\n",
            " 22.32569688 21.72265355 23.68342576 26.95898356 21.0980407  22.99199316\n",
            " 26.80457443 24.8370833  29.61272983 25.90339907 24.48928255 21.85230778\n",
            " 29.75921173 22.70877323 29.27577476 18.60242942 12.5044171  23.1177843\n",
            " 20.3729268  29.83511177 24.28666483 28.50468336 26.75496951 23.23590328\n",
            " 20.50875222 24.50404684 20.05244062 33.17231302 31.62855544 21.36684683\n",
            " 14.14746188 26.4154895  25.57438545 25.95126525 15.46565591 18.60249991\n",
            " 21.0209748  26.58018169 19.19973811 23.49139973 16.72951828 23.16174989\n",
            " 23.70860343 32.87402895 23.84645951 16.59718327 15.11046174 32.99797369\n",
            " 22.32925605 18.40116148 29.24409045 21.46269854 25.71718874 21.27007393\n",
            " 33.61115045 28.02136337 20.00414341 24.8862838  28.55673694 26.47452623\n",
            " 17.14030616 24.63026522 32.06131809 13.96504205 16.26696595 21.24885664\n",
            " 19.92237266 23.87016902 28.20950046 21.29637912 27.51446218 18.0213764\n",
            " 14.40547381 20.7778092  22.5362618  24.23150765 14.98123749 20.64351984\n",
            " 24.01530698 23.6786902  22.46639298 17.24048085 18.94453233 16.97984316\n",
            " 20.74928361 25.58084626 17.05709581 29.23500908 18.87896953 22.41498783\n",
            " 21.28550529 18.14279681 20.63423918 17.44703123 31.07251433 26.78681686\n",
            " 18.20109797 24.40093843 20.5506878  26.31670768 23.4566668  32.034733\n",
            " 18.87799541 18.69672704 19.89979321 11.79231534 18.1424535  26.46749707\n",
            " 27.57987085 20.00385584 23.30622785 22.24500062 33.31552323 28.28037293\n",
            " 23.41733043 18.30512605 14.57421472 21.81385454 17.97459702 15.31098516\n",
            " 24.93069997 20.06061944 27.74856654 24.52655903 21.01002347 26.91977656\n",
            " 21.30947323 17.55486319 27.09249631 23.15564017 24.83944802 22.44285959\n",
            " 17.49752699 17.33171498]\n"
          ]
        }
      ]
    },
    {
      "cell_type": "markdown",
      "source": [
        "## Crear datos de entrenamiento y validación\n",
        "\n",
        "* Los datos de entrenamiento serán aleatoriamente el 80% de los datos originales.\n",
        "* Los datos de validación o prueba (test) serán aleatoriamente el complemento del 20%.\n",
        "* Los datos de entrenamiento y datos de validación deben ser mutuamente excluyentes que signifia que están en un conjunto o están en el otro.\n",
        "\n",
        "Ahora que se tiene la variable independiente volumen y la variable dependiente pesos, el siguiente paso es dividir estos datos en conjuntos de entrenamiento y otro de prueba o validación.\n",
        "\n",
        "Se utiiza el método *train_test_split()* que forma parte de la librería *Scikit-Learn* para dividir los datos en entrenamiento y validación.\n",
        "\n",
        "El argumento *test_size* establece el 20% para datos de validación por lo que el $80$% pertenece a los datos de entrenamiento y el resto a datos de validación o prueba.\n",
        "\n",
        "El argumento 2025 significa semilla de aleatoriedad, pare reproducir los mismos resultaados aleatorios con el mismo conjunto de datos.\n",
        "\n",
        "Se declaran las variable *v_independiente* y *v_dependiente* que contienen los valores de volumen y peso en formato numpy.\n"
      ],
      "metadata": {
        "id": "92_49Sh-02jg"
      }
    },
    {
      "cell_type": "code",
      "source": [
        "# v_independiente y v_dependiente son los valores de volumen y peso en formato numpy\n",
        "\n",
        "v_independiente = datos[independiente].to_numpy()\n",
        "v_dependiente = datos[dependiente].to_numpy()\n",
        "\n",
        "ind_train, ind_test, dep_train, dep_test = train_test_split(v_independiente, v_dependiente,\n",
        "                                                                            test_size=0.20,\n",
        "                                                                            random_state=2025)\n",
        "\n",
        "# Crear un DataFrame con los datos de entrenamiento\n",
        "datos_entrenamiento = pd.DataFrame({independiente: ind_train, dependiente: dep_train})\n",
        "\n",
        "# Datos de entrenamiento\n",
        "print (\"Datos de entrenamiento\")\n",
        "print(datos_entrenamiento)\n",
        "\n",
        "# Crear un DataFrame con los datos de validación o test\n",
        "datos_validacion = pd.DataFrame({independiente: dep_test, dependiente: dep_test})\n",
        "\n",
        "\n",
        "# Datos de validación\n",
        "print()\n",
        "print (\"Datos de validación\")\n",
        "print(datos_validacion)\n",
        "\n"
      ],
      "metadata": {
        "colab": {
          "base_uri": "https://localhost:8080/"
        },
        "outputId": "da3a5093-9c5b-42b8-bc03-8718ae53b90b",
        "id": "tXo68Adn02jg"
      },
      "execution_count": null,
      "outputs": [
        {
          "output_type": "stream",
          "name": "stdout",
          "text": [
            "Datos de entrenamiento\n",
            "     Volumen_Paquete_cm3  Peso_Paquete_kg\n",
            "0              49.404746        20.761899\n",
            "1              50.818741        21.327497\n",
            "2              34.806300        14.922520\n",
            "3              49.865028        20.946011\n",
            "4              62.669111        27.534234\n",
            "..                   ...              ...\n",
            "395            50.870471        21.526261\n",
            "396            53.109076        22.243630\n",
            "397            56.141667        23.456667\n",
            "398            56.862602        23.745041\n",
            "399            38.936650        19.930284\n",
            "\n",
            "[400 rows x 2 columns]\n",
            "\n",
            "Datos de validación\n",
            "    Volumen_Paquete_cm3  Peso_Paquete_kg\n",
            "0             24.290180        24.290180\n",
            "1             15.465656        15.465656\n",
            "2             28.481584        28.481584\n",
            "3             32.997974        32.997974\n",
            "4             26.424960        26.424960\n",
            "..                  ...              ...\n",
            "95            24.671448        24.671448\n",
            "96            28.245057        28.245057\n",
            "97            22.256989        22.256989\n",
            "98            20.357662        20.357662\n",
            "99            30.536555        30.536555\n",
            "\n",
            "[100 rows x 2 columns]\n"
          ]
        }
      ]
    },
    {
      "cell_type": "markdown",
      "source": [
        "## Construir el modelo\n",
        "\n",
        "Se construye el modelo de regresión lineal simple y se ajusta con **los datos de entrenamiento**.\n",
        "\n",
        "La función *reshape()* significa que los valores se reciben de manera bidimensional porque así los necesita el modelo."
      ],
      "metadata": {
        "id": "iYzIgjO_02jh"
      }
    },
    {
      "cell_type": "code",
      "source": [
        "\n",
        "modelo = LinearRegression()\n",
        "modelo.fit(ind_train.reshape(-1, 1), dep_train.reshape(-1, 1))\n",
        "\n",
        "\n"
      ],
      "metadata": {
        "colab": {
          "base_uri": "https://localhost:8080/",
          "height": 80
        },
        "outputId": "cb8e038b-9021-4bbe-a886-37d3851968e6",
        "id": "nJPC906g02jh"
      },
      "execution_count": null,
      "outputs": [
        {
          "output_type": "execute_result",
          "data": {
            "text/plain": [
              "LinearRegression()"
            ],
            "text/html": [
              "<style>#sk-container-id-3 {\n",
              "  /* Definition of color scheme common for light and dark mode */\n",
              "  --sklearn-color-text: #000;\n",
              "  --sklearn-color-text-muted: #666;\n",
              "  --sklearn-color-line: gray;\n",
              "  /* Definition of color scheme for unfitted estimators */\n",
              "  --sklearn-color-unfitted-level-0: #fff5e6;\n",
              "  --sklearn-color-unfitted-level-1: #f6e4d2;\n",
              "  --sklearn-color-unfitted-level-2: #ffe0b3;\n",
              "  --sklearn-color-unfitted-level-3: chocolate;\n",
              "  /* Definition of color scheme for fitted estimators */\n",
              "  --sklearn-color-fitted-level-0: #f0f8ff;\n",
              "  --sklearn-color-fitted-level-1: #d4ebff;\n",
              "  --sklearn-color-fitted-level-2: #b3dbfd;\n",
              "  --sklearn-color-fitted-level-3: cornflowerblue;\n",
              "\n",
              "  /* Specific color for light theme */\n",
              "  --sklearn-color-text-on-default-background: var(--sg-text-color, var(--theme-code-foreground, var(--jp-content-font-color1, black)));\n",
              "  --sklearn-color-background: var(--sg-background-color, var(--theme-background, var(--jp-layout-color0, white)));\n",
              "  --sklearn-color-border-box: var(--sg-text-color, var(--theme-code-foreground, var(--jp-content-font-color1, black)));\n",
              "  --sklearn-color-icon: #696969;\n",
              "\n",
              "  @media (prefers-color-scheme: dark) {\n",
              "    /* Redefinition of color scheme for dark theme */\n",
              "    --sklearn-color-text-on-default-background: var(--sg-text-color, var(--theme-code-foreground, var(--jp-content-font-color1, white)));\n",
              "    --sklearn-color-background: var(--sg-background-color, var(--theme-background, var(--jp-layout-color0, #111)));\n",
              "    --sklearn-color-border-box: var(--sg-text-color, var(--theme-code-foreground, var(--jp-content-font-color1, white)));\n",
              "    --sklearn-color-icon: #878787;\n",
              "  }\n",
              "}\n",
              "\n",
              "#sk-container-id-3 {\n",
              "  color: var(--sklearn-color-text);\n",
              "}\n",
              "\n",
              "#sk-container-id-3 pre {\n",
              "  padding: 0;\n",
              "}\n",
              "\n",
              "#sk-container-id-3 input.sk-hidden--visually {\n",
              "  border: 0;\n",
              "  clip: rect(1px 1px 1px 1px);\n",
              "  clip: rect(1px, 1px, 1px, 1px);\n",
              "  height: 1px;\n",
              "  margin: -1px;\n",
              "  overflow: hidden;\n",
              "  padding: 0;\n",
              "  position: absolute;\n",
              "  width: 1px;\n",
              "}\n",
              "\n",
              "#sk-container-id-3 div.sk-dashed-wrapped {\n",
              "  border: 1px dashed var(--sklearn-color-line);\n",
              "  margin: 0 0.4em 0.5em 0.4em;\n",
              "  box-sizing: border-box;\n",
              "  padding-bottom: 0.4em;\n",
              "  background-color: var(--sklearn-color-background);\n",
              "}\n",
              "\n",
              "#sk-container-id-3 div.sk-container {\n",
              "  /* jupyter's `normalize.less` sets `[hidden] { display: none; }`\n",
              "     but bootstrap.min.css set `[hidden] { display: none !important; }`\n",
              "     so we also need the `!important` here to be able to override the\n",
              "     default hidden behavior on the sphinx rendered scikit-learn.org.\n",
              "     See: https://github.com/scikit-learn/scikit-learn/issues/21755 */\n",
              "  display: inline-block !important;\n",
              "  position: relative;\n",
              "}\n",
              "\n",
              "#sk-container-id-3 div.sk-text-repr-fallback {\n",
              "  display: none;\n",
              "}\n",
              "\n",
              "div.sk-parallel-item,\n",
              "div.sk-serial,\n",
              "div.sk-item {\n",
              "  /* draw centered vertical line to link estimators */\n",
              "  background-image: linear-gradient(var(--sklearn-color-text-on-default-background), var(--sklearn-color-text-on-default-background));\n",
              "  background-size: 2px 100%;\n",
              "  background-repeat: no-repeat;\n",
              "  background-position: center center;\n",
              "}\n",
              "\n",
              "/* Parallel-specific style estimator block */\n",
              "\n",
              "#sk-container-id-3 div.sk-parallel-item::after {\n",
              "  content: \"\";\n",
              "  width: 100%;\n",
              "  border-bottom: 2px solid var(--sklearn-color-text-on-default-background);\n",
              "  flex-grow: 1;\n",
              "}\n",
              "\n",
              "#sk-container-id-3 div.sk-parallel {\n",
              "  display: flex;\n",
              "  align-items: stretch;\n",
              "  justify-content: center;\n",
              "  background-color: var(--sklearn-color-background);\n",
              "  position: relative;\n",
              "}\n",
              "\n",
              "#sk-container-id-3 div.sk-parallel-item {\n",
              "  display: flex;\n",
              "  flex-direction: column;\n",
              "}\n",
              "\n",
              "#sk-container-id-3 div.sk-parallel-item:first-child::after {\n",
              "  align-self: flex-end;\n",
              "  width: 50%;\n",
              "}\n",
              "\n",
              "#sk-container-id-3 div.sk-parallel-item:last-child::after {\n",
              "  align-self: flex-start;\n",
              "  width: 50%;\n",
              "}\n",
              "\n",
              "#sk-container-id-3 div.sk-parallel-item:only-child::after {\n",
              "  width: 0;\n",
              "}\n",
              "\n",
              "/* Serial-specific style estimator block */\n",
              "\n",
              "#sk-container-id-3 div.sk-serial {\n",
              "  display: flex;\n",
              "  flex-direction: column;\n",
              "  align-items: center;\n",
              "  background-color: var(--sklearn-color-background);\n",
              "  padding-right: 1em;\n",
              "  padding-left: 1em;\n",
              "}\n",
              "\n",
              "\n",
              "/* Toggleable style: style used for estimator/Pipeline/ColumnTransformer box that is\n",
              "clickable and can be expanded/collapsed.\n",
              "- Pipeline and ColumnTransformer use this feature and define the default style\n",
              "- Estimators will overwrite some part of the style using the `sk-estimator` class\n",
              "*/\n",
              "\n",
              "/* Pipeline and ColumnTransformer style (default) */\n",
              "\n",
              "#sk-container-id-3 div.sk-toggleable {\n",
              "  /* Default theme specific background. It is overwritten whether we have a\n",
              "  specific estimator or a Pipeline/ColumnTransformer */\n",
              "  background-color: var(--sklearn-color-background);\n",
              "}\n",
              "\n",
              "/* Toggleable label */\n",
              "#sk-container-id-3 label.sk-toggleable__label {\n",
              "  cursor: pointer;\n",
              "  display: flex;\n",
              "  width: 100%;\n",
              "  margin-bottom: 0;\n",
              "  padding: 0.5em;\n",
              "  box-sizing: border-box;\n",
              "  text-align: center;\n",
              "  align-items: start;\n",
              "  justify-content: space-between;\n",
              "  gap: 0.5em;\n",
              "}\n",
              "\n",
              "#sk-container-id-3 label.sk-toggleable__label .caption {\n",
              "  font-size: 0.6rem;\n",
              "  font-weight: lighter;\n",
              "  color: var(--sklearn-color-text-muted);\n",
              "}\n",
              "\n",
              "#sk-container-id-3 label.sk-toggleable__label-arrow:before {\n",
              "  /* Arrow on the left of the label */\n",
              "  content: \"▸\";\n",
              "  float: left;\n",
              "  margin-right: 0.25em;\n",
              "  color: var(--sklearn-color-icon);\n",
              "}\n",
              "\n",
              "#sk-container-id-3 label.sk-toggleable__label-arrow:hover:before {\n",
              "  color: var(--sklearn-color-text);\n",
              "}\n",
              "\n",
              "/* Toggleable content - dropdown */\n",
              "\n",
              "#sk-container-id-3 div.sk-toggleable__content {\n",
              "  max-height: 0;\n",
              "  max-width: 0;\n",
              "  overflow: hidden;\n",
              "  text-align: left;\n",
              "  /* unfitted */\n",
              "  background-color: var(--sklearn-color-unfitted-level-0);\n",
              "}\n",
              "\n",
              "#sk-container-id-3 div.sk-toggleable__content.fitted {\n",
              "  /* fitted */\n",
              "  background-color: var(--sklearn-color-fitted-level-0);\n",
              "}\n",
              "\n",
              "#sk-container-id-3 div.sk-toggleable__content pre {\n",
              "  margin: 0.2em;\n",
              "  border-radius: 0.25em;\n",
              "  color: var(--sklearn-color-text);\n",
              "  /* unfitted */\n",
              "  background-color: var(--sklearn-color-unfitted-level-0);\n",
              "}\n",
              "\n",
              "#sk-container-id-3 div.sk-toggleable__content.fitted pre {\n",
              "  /* unfitted */\n",
              "  background-color: var(--sklearn-color-fitted-level-0);\n",
              "}\n",
              "\n",
              "#sk-container-id-3 input.sk-toggleable__control:checked~div.sk-toggleable__content {\n",
              "  /* Expand drop-down */\n",
              "  max-height: 200px;\n",
              "  max-width: 100%;\n",
              "  overflow: auto;\n",
              "}\n",
              "\n",
              "#sk-container-id-3 input.sk-toggleable__control:checked~label.sk-toggleable__label-arrow:before {\n",
              "  content: \"▾\";\n",
              "}\n",
              "\n",
              "/* Pipeline/ColumnTransformer-specific style */\n",
              "\n",
              "#sk-container-id-3 div.sk-label input.sk-toggleable__control:checked~label.sk-toggleable__label {\n",
              "  color: var(--sklearn-color-text);\n",
              "  background-color: var(--sklearn-color-unfitted-level-2);\n",
              "}\n",
              "\n",
              "#sk-container-id-3 div.sk-label.fitted input.sk-toggleable__control:checked~label.sk-toggleable__label {\n",
              "  background-color: var(--sklearn-color-fitted-level-2);\n",
              "}\n",
              "\n",
              "/* Estimator-specific style */\n",
              "\n",
              "/* Colorize estimator box */\n",
              "#sk-container-id-3 div.sk-estimator input.sk-toggleable__control:checked~label.sk-toggleable__label {\n",
              "  /* unfitted */\n",
              "  background-color: var(--sklearn-color-unfitted-level-2);\n",
              "}\n",
              "\n",
              "#sk-container-id-3 div.sk-estimator.fitted input.sk-toggleable__control:checked~label.sk-toggleable__label {\n",
              "  /* fitted */\n",
              "  background-color: var(--sklearn-color-fitted-level-2);\n",
              "}\n",
              "\n",
              "#sk-container-id-3 div.sk-label label.sk-toggleable__label,\n",
              "#sk-container-id-3 div.sk-label label {\n",
              "  /* The background is the default theme color */\n",
              "  color: var(--sklearn-color-text-on-default-background);\n",
              "}\n",
              "\n",
              "/* On hover, darken the color of the background */\n",
              "#sk-container-id-3 div.sk-label:hover label.sk-toggleable__label {\n",
              "  color: var(--sklearn-color-text);\n",
              "  background-color: var(--sklearn-color-unfitted-level-2);\n",
              "}\n",
              "\n",
              "/* Label box, darken color on hover, fitted */\n",
              "#sk-container-id-3 div.sk-label.fitted:hover label.sk-toggleable__label.fitted {\n",
              "  color: var(--sklearn-color-text);\n",
              "  background-color: var(--sklearn-color-fitted-level-2);\n",
              "}\n",
              "\n",
              "/* Estimator label */\n",
              "\n",
              "#sk-container-id-3 div.sk-label label {\n",
              "  font-family: monospace;\n",
              "  font-weight: bold;\n",
              "  display: inline-block;\n",
              "  line-height: 1.2em;\n",
              "}\n",
              "\n",
              "#sk-container-id-3 div.sk-label-container {\n",
              "  text-align: center;\n",
              "}\n",
              "\n",
              "/* Estimator-specific */\n",
              "#sk-container-id-3 div.sk-estimator {\n",
              "  font-family: monospace;\n",
              "  border: 1px dotted var(--sklearn-color-border-box);\n",
              "  border-radius: 0.25em;\n",
              "  box-sizing: border-box;\n",
              "  margin-bottom: 0.5em;\n",
              "  /* unfitted */\n",
              "  background-color: var(--sklearn-color-unfitted-level-0);\n",
              "}\n",
              "\n",
              "#sk-container-id-3 div.sk-estimator.fitted {\n",
              "  /* fitted */\n",
              "  background-color: var(--sklearn-color-fitted-level-0);\n",
              "}\n",
              "\n",
              "/* on hover */\n",
              "#sk-container-id-3 div.sk-estimator:hover {\n",
              "  /* unfitted */\n",
              "  background-color: var(--sklearn-color-unfitted-level-2);\n",
              "}\n",
              "\n",
              "#sk-container-id-3 div.sk-estimator.fitted:hover {\n",
              "  /* fitted */\n",
              "  background-color: var(--sklearn-color-fitted-level-2);\n",
              "}\n",
              "\n",
              "/* Specification for estimator info (e.g. \"i\" and \"?\") */\n",
              "\n",
              "/* Common style for \"i\" and \"?\" */\n",
              "\n",
              ".sk-estimator-doc-link,\n",
              "a:link.sk-estimator-doc-link,\n",
              "a:visited.sk-estimator-doc-link {\n",
              "  float: right;\n",
              "  font-size: smaller;\n",
              "  line-height: 1em;\n",
              "  font-family: monospace;\n",
              "  background-color: var(--sklearn-color-background);\n",
              "  border-radius: 1em;\n",
              "  height: 1em;\n",
              "  width: 1em;\n",
              "  text-decoration: none !important;\n",
              "  margin-left: 0.5em;\n",
              "  text-align: center;\n",
              "  /* unfitted */\n",
              "  border: var(--sklearn-color-unfitted-level-1) 1pt solid;\n",
              "  color: var(--sklearn-color-unfitted-level-1);\n",
              "}\n",
              "\n",
              ".sk-estimator-doc-link.fitted,\n",
              "a:link.sk-estimator-doc-link.fitted,\n",
              "a:visited.sk-estimator-doc-link.fitted {\n",
              "  /* fitted */\n",
              "  border: var(--sklearn-color-fitted-level-1) 1pt solid;\n",
              "  color: var(--sklearn-color-fitted-level-1);\n",
              "}\n",
              "\n",
              "/* On hover */\n",
              "div.sk-estimator:hover .sk-estimator-doc-link:hover,\n",
              ".sk-estimator-doc-link:hover,\n",
              "div.sk-label-container:hover .sk-estimator-doc-link:hover,\n",
              ".sk-estimator-doc-link:hover {\n",
              "  /* unfitted */\n",
              "  background-color: var(--sklearn-color-unfitted-level-3);\n",
              "  color: var(--sklearn-color-background);\n",
              "  text-decoration: none;\n",
              "}\n",
              "\n",
              "div.sk-estimator.fitted:hover .sk-estimator-doc-link.fitted:hover,\n",
              ".sk-estimator-doc-link.fitted:hover,\n",
              "div.sk-label-container:hover .sk-estimator-doc-link.fitted:hover,\n",
              ".sk-estimator-doc-link.fitted:hover {\n",
              "  /* fitted */\n",
              "  background-color: var(--sklearn-color-fitted-level-3);\n",
              "  color: var(--sklearn-color-background);\n",
              "  text-decoration: none;\n",
              "}\n",
              "\n",
              "/* Span, style for the box shown on hovering the info icon */\n",
              ".sk-estimator-doc-link span {\n",
              "  display: none;\n",
              "  z-index: 9999;\n",
              "  position: relative;\n",
              "  font-weight: normal;\n",
              "  right: .2ex;\n",
              "  padding: .5ex;\n",
              "  margin: .5ex;\n",
              "  width: min-content;\n",
              "  min-width: 20ex;\n",
              "  max-width: 50ex;\n",
              "  color: var(--sklearn-color-text);\n",
              "  box-shadow: 2pt 2pt 4pt #999;\n",
              "  /* unfitted */\n",
              "  background: var(--sklearn-color-unfitted-level-0);\n",
              "  border: .5pt solid var(--sklearn-color-unfitted-level-3);\n",
              "}\n",
              "\n",
              ".sk-estimator-doc-link.fitted span {\n",
              "  /* fitted */\n",
              "  background: var(--sklearn-color-fitted-level-0);\n",
              "  border: var(--sklearn-color-fitted-level-3);\n",
              "}\n",
              "\n",
              ".sk-estimator-doc-link:hover span {\n",
              "  display: block;\n",
              "}\n",
              "\n",
              "/* \"?\"-specific style due to the `<a>` HTML tag */\n",
              "\n",
              "#sk-container-id-3 a.estimator_doc_link {\n",
              "  float: right;\n",
              "  font-size: 1rem;\n",
              "  line-height: 1em;\n",
              "  font-family: monospace;\n",
              "  background-color: var(--sklearn-color-background);\n",
              "  border-radius: 1rem;\n",
              "  height: 1rem;\n",
              "  width: 1rem;\n",
              "  text-decoration: none;\n",
              "  /* unfitted */\n",
              "  color: var(--sklearn-color-unfitted-level-1);\n",
              "  border: var(--sklearn-color-unfitted-level-1) 1pt solid;\n",
              "}\n",
              "\n",
              "#sk-container-id-3 a.estimator_doc_link.fitted {\n",
              "  /* fitted */\n",
              "  border: var(--sklearn-color-fitted-level-1) 1pt solid;\n",
              "  color: var(--sklearn-color-fitted-level-1);\n",
              "}\n",
              "\n",
              "/* On hover */\n",
              "#sk-container-id-3 a.estimator_doc_link:hover {\n",
              "  /* unfitted */\n",
              "  background-color: var(--sklearn-color-unfitted-level-3);\n",
              "  color: var(--sklearn-color-background);\n",
              "  text-decoration: none;\n",
              "}\n",
              "\n",
              "#sk-container-id-3 a.estimator_doc_link.fitted:hover {\n",
              "  /* fitted */\n",
              "  background-color: var(--sklearn-color-fitted-level-3);\n",
              "}\n",
              "</style><div id=\"sk-container-id-3\" class=\"sk-top-container\"><div class=\"sk-text-repr-fallback\"><pre>LinearRegression()</pre><b>In a Jupyter environment, please rerun this cell to show the HTML representation or trust the notebook. <br />On GitHub, the HTML representation is unable to render, please try loading this page with nbviewer.org.</b></div><div class=\"sk-container\" hidden><div class=\"sk-item\"><div class=\"sk-estimator fitted sk-toggleable\"><input class=\"sk-toggleable__control sk-hidden--visually\" id=\"sk-estimator-id-3\" type=\"checkbox\" checked><label for=\"sk-estimator-id-3\" class=\"sk-toggleable__label fitted sk-toggleable__label-arrow\"><div><div>LinearRegression</div></div><div><a class=\"sk-estimator-doc-link fitted\" rel=\"noreferrer\" target=\"_blank\" href=\"https://scikit-learn.org/1.6/modules/generated/sklearn.linear_model.LinearRegression.html\">?<span>Documentation for LinearRegression</span></a><span class=\"sk-estimator-doc-link fitted\">i<span>Fitted</span></span></div></label><div class=\"sk-toggleable__content fitted\"><pre>LinearRegression()</pre></div> </div></div></div></div>"
            ]
          },
          "metadata": {},
          "execution_count": 49
        }
      ]
    },
    {
      "cell_type": "markdown",
      "source": [],
      "metadata": {
        "id": "usG3YfGE02jh"
      }
    },
    {
      "cell_type": "markdown",
      "source": [
        "### Coeficientes\n",
        "\n",
        "Se extraen los coeficienes $a$ y $b$ de la fórmula de mínimos cuadrados:\n",
        "\n",
        "$$\n",
        "\\text{Predicción Y = } a + b\\cdot x_i\n",
        "$$\n",
        "ó\n",
        "$$\n",
        "\\text{Predicción Y = } \\beta_0 + \\beta_1\\cdot x_i\n",
        "$$\n",
        "\n",
        "\n",
        "¿Cómo calcular $a$ y $b$ o $\\beta_0$  y $β_1$?\n",
        "\n",
        "### Calcula la pendiente b\n",
        "$$\n",
        "b = r \\cdot \\frac{s_y}{s_x}\n",
        "$$\n",
        "\n",
        "* r es la Correlación de *Pearson*\n",
        "* $S_y$ es la desviación estándar de y\n",
        "* $S_y$ es la desviación estándar de x\n",
        "\n",
        "### Cacular la abcisa a\n",
        "\n",
        "$$\n",
        "a = \\bar{y} - b \\cdot \\bar{x}\n",
        "$$\n",
        "\n",
        "* $\\bar{y}$ la media de $y$\n",
        "* $\\bar{x}$ la media de $x$\n",
        "* $b$ la pendiente previamente calculada\n"
      ],
      "metadata": {
        "id": "u3n2maMQ02jh"
      }
    },
    {
      "cell_type": "code",
      "source": [
        "a = modelo.intercept_  # El valor de la intersección o la abcisa a\n",
        "b = modelo.coef_       # El valor de la pendiente b\n",
        "print (\"Coeficiente a :\", a)\n",
        "print (\"Coeficiente b :\", b)\n",
        "\n",
        "\n",
        "\n"
      ],
      "metadata": {
        "colab": {
          "base_uri": "https://localhost:8080/"
        },
        "outputId": "2d207866-4971-4394-cf1a-93a4f3da42ed",
        "id": "ei4pkZ5U02jh"
      },
      "execution_count": null,
      "outputs": [
        {
          "output_type": "stream",
          "name": "stdout",
          "text": [
            "Coeficiente a : [3.37633869]\n",
            "Coeficiente b : [[0.38170618]]\n"
          ]
        }
      ]
    },
    {
      "cell_type": "markdown",
      "source": [
        "El modelo de regesión lineal simple arroja los valores de los coeficiente a y b de $3.37633869$ y $0.38170618$ respectivamente, habiendo particionado los datos de entrenamiento al $80$% y $20$% para los datos de validación con una semilla de aleatoriedad del $2025$.\n"
      ],
      "metadata": {
        "id": "c6S0xJdt02jh"
      }
    },
    {
      "cell_type": "markdown",
      "source": [
        "### Recta de regresión\n",
        "\n",
        "Se manda llamar la función *f_regresion_linea_tendencia()* para observar la recta de regresión."
      ],
      "metadata": {
        "id": "fCw4Cyql02jh"
      }
    },
    {
      "cell_type": "code",
      "source": [
        "\n",
        "f_regresion_linea_tendencia(modelo, v_independiente, v_dependiente, independiente, dependiente)\n",
        "\n",
        "\n",
        "\n"
      ],
      "metadata": {
        "colab": {
          "base_uri": "https://localhost:8080/",
          "height": 472
        },
        "outputId": "6f804cec-86ea-4886-9c6b-9f6691c2aab4",
        "id": "uHxsKtI702jh"
      },
      "execution_count": null,
      "outputs": [
        {
          "output_type": "display_data",
          "data": {
            "text/plain": [
              "<Figure size 640x480 with 1 Axes>"
            ],
            "image/png": "[encoded data removed]"
          },
          "metadata": {}
        }
      ]
    },
    {
      "cell_type": "markdown",
      "source": [
        "## Métricas de evaluación\n",
        "\n",
        "El modelo se acepta si el valor de *r square* sobrepasa el $50$% tanto con los datos de entrenamiento como con los datos de validación.\n",
        "\n",
        "El modelo a través de la métrica *root mean square error (RMSE)* que significa que tanto varía las predicciones con respecto a los datos reales se deberá comparar con otros modelos y los mismos datos para evalura su rendimiento.\n",
        "\n"
      ],
      "metadata": {
        "id": "EMzXEWTz02jh"
      }
    },
    {
      "cell_type": "markdown",
      "source": [
        "## Métrica r square"
      ],
      "metadata": {
        "id": "GIrd1OdZ02jh"
      }
    },
    {
      "cell_type": "code",
      "source": [
        "# Calcular el coeficiente de determinación R^2 o R square\n",
        "score = modelo.score(ind_train.reshape(-1, 1), dep_train.reshape(-1, 1))\n",
        "print(\"Coeficiente de determinación R^2:\", score)"
      ],
      "metadata": {
        "colab": {
          "base_uri": "https://localhost:8080/"
        },
        "outputId": "ec2ff191-9008-41dc-9bd4-3208baea3da7",
        "id": "7O4e9N__02ji"
      },
      "execution_count": null,
      "outputs": [
        {
          "output_type": "stream",
          "name": "stdout",
          "text": [
            "Coeficiente de determinación R^2: 0.7056013207022355\n"
          ]
        }
      ]
    },
    {
      "cell_type": "markdown",
      "source": [
        "La métrica de *r square* está por encima del $50$% por lo que el modelo SI se acepta y significa que la variable volumen de un paquete representa o explica aproximadamente n $70.56$% a la variable peso del paquete."
      ],
      "metadata": {
        "id": "9vu9jdAr02ji"
      }
    },
    {
      "cell_type": "markdown",
      "source": [
        "## Predicciones\n",
        "\n",
        "¿Cuál es la predicción para valores de acuerdo al modelo de regresión lineal simple?\n",
        "$$\n",
        "\\text{Predicción Y} = 3.37633869 + 0.38170618] \\cdot x_i\n",
        "$$\n",
        "\n",
        "Se utilizan los datos de validación de la variable pesos para hacer las predicciones\n",
        "\n"
      ],
      "metadata": {
        "id": "NYBOSlTT02ji"
      }
    },
    {
      "cell_type": "code",
      "source": [
        "predicciones = modelo.predict(ind_test.reshape(-1, 1))\n",
        "print(predicciones)"
      ],
      "metadata": {
        "colab": {
          "base_uri": "https://localhost:8080/"
        },
        "outputId": "266ba7b3-8837-44a7-ae78-7cde3eb4b31a",
        "id": "Y6OyPOUg02ji"
      },
      "execution_count": null,
      "outputs": [
        {
          "output_type": "stream",
          "name": "stdout",
          "text": [
            "[[25.60135228]\n",
            " [16.37561868]\n",
            " [25.71543823]\n",
            " [27.33861889]\n",
            " [27.6384995 ]\n",
            " [21.511336  ]\n",
            " [23.73011065]\n",
            " [18.37398472]\n",
            " [21.4975793 ]\n",
            " [19.33844865]\n",
            " [24.96775322]\n",
            " [18.333312  ]\n",
            " [18.77847509]\n",
            " [25.35310126]\n",
            " [24.66240108]\n",
            " [23.77325977]\n",
            " [21.2813648 ]\n",
            " [20.16489623]\n",
            " [21.56786964]\n",
            " [23.34739648]\n",
            " [19.43654692]\n",
            " [20.34833394]\n",
            " [24.9339147 ]\n",
            " [20.99176469]\n",
            " [23.45811164]\n",
            " [29.16189196]\n",
            " [20.61329617]\n",
            " [20.6839283 ]\n",
            " [22.17748288]\n",
            " [22.63559807]\n",
            " [20.4833781 ]\n",
            " [26.3970364 ]\n",
            " [18.81429065]\n",
            " [28.0098769 ]\n",
            " [24.54995204]\n",
            " [18.95214844]\n",
            " [23.61267237]\n",
            " [22.33684966]\n",
            " [27.96307671]\n",
            " [25.09596978]\n",
            " [20.75727238]\n",
            " [20.9649465 ]\n",
            " [25.35867993]\n",
            " [20.25957065]\n",
            " [21.56793231]\n",
            " [20.66366523]\n",
            " [24.35763614]\n",
            " [19.3231815 ]\n",
            " [25.95579397]\n",
            " [18.55149663]\n",
            " [26.96309774]\n",
            " [25.79134929]\n",
            " [20.3098761 ]\n",
            " [20.93016421]\n",
            " [25.18703153]\n",
            " [31.86399484]\n",
            " [22.71940687]\n",
            " [13.67507226]\n",
            " [23.31702238]\n",
            " [18.00073128]\n",
            " [21.43330501]\n",
            " [17.89565296]\n",
            " [20.17058264]\n",
            " [12.46191865]\n",
            " [21.15348506]\n",
            " [22.39098175]\n",
            " [21.93388416]\n",
            " [24.15573371]\n",
            " [20.52661412]\n",
            " [19.87687946]\n",
            " [25.3909933 ]\n",
            " [21.51106159]\n",
            " [29.5834241 ]\n",
            " [23.92764908]\n",
            " [23.17335517]\n",
            " [23.59195693]\n",
            " [25.61905709]\n",
            " [19.9678495 ]\n",
            " [20.60898489]\n",
            " [27.81620007]\n",
            " [24.9250874 ]\n",
            " [27.18646886]\n",
            " [19.31067375]\n",
            " [23.58032327]\n",
            " [19.81676881]\n",
            " [24.79146854]\n",
            " [24.86497972]\n",
            " [24.79645372]\n",
            " [23.63462879]\n",
            " [18.1688192 ]\n",
            " [23.34817425]\n",
            " [24.42761637]\n",
            " [19.37557751]\n",
            " [22.04650333]\n",
            " [17.88927363]\n",
            " [25.96518329]\n",
            " [28.51557169]\n",
            " [23.66114902]\n",
            " [21.21094088]\n",
            " [25.61231273]]\n"
          ]
        }
      ]
    },
    {
      "cell_type": "markdown",
      "source": [
        "\n",
        "Crear un *data.frame* llamado comparaciones a partir de la creación de un diccionario con los valores reales del conjunto de validacinión y las predicciones calculadas.\n",
        "Con la función flatten().tolist() convierte el arreglo a una lista de una dimensión."
      ],
      "metadata": {
        "id": "l6DTVpYO02ji"
      }
    },
    {
      "cell_type": "code",
      "source": [
        "\n",
        "diccionario = {independiente: ind_test.flatten().tolist(),\n",
        "                'Real' : dep_test.flatten().tolist(),\n",
        "               'Predicho' : predicciones.flatten().tolist() }\n",
        "# diccionario\n",
        "\n",
        "comparaciones = pd.DataFrame(diccionario)\n",
        "print (comparaciones)"
      ],
      "metadata": {
        "colab": {
          "base_uri": "https://localhost:8080/"
        },
        "outputId": "b507c277-6a76-40aa-be7b-1c164440daae",
        "id": "-JFJHho402ji"
      },
      "execution_count": null,
      "outputs": [
        {
          "output_type": "stream",
          "name": "stdout",
          "text": [
            "    Volumen_Paquete_cm3       Real   Predicho\n",
            "0             58.225449  24.290180  25.601352\n",
            "1             34.055723  15.465656  16.375619\n",
            "2             58.524333  28.481584  25.715438\n",
            "3             62.776768  32.997974  27.338619\n",
            "4             63.562400  26.424960  27.638500\n",
            "..                  ...        ...        ...\n",
            "95            59.178619  24.671448  25.965183\n",
            "96            65.860168  28.245057  28.515572\n",
            "97            53.142473  22.256989  23.661149\n",
            "98            46.723379  20.357662  21.210941\n",
            "99            58.254163  30.536555  25.612313\n",
            "\n",
            "[100 rows x 3 columns]\n"
          ]
        }
      ]
    },
    {
      "cell_type": "markdown",
      "source": [
        "¿Qué tanto se desvián las predicciones de los valores reales?\n",
        "\n",
        "Error estándar médio MSE\n",
        "$$\n",
        "MSE = \\frac{\\sum(predicho_i - real_i)^{2}}{n}\n",
        "$$\n",
        "\n",
        "Raiz del error estándar medio *Root Mean Square Error*\n",
        "\n",
        "$$\n",
        "RMSE = \\sqrt{\\frac{\\sum(predicho_i - real_i)^{2}}{n}}\n",
        "$$"
      ],
      "metadata": {
        "id": "dwn8pcRO02ji"
      }
    },
    {
      "cell_type": "code",
      "source": [
        "print('Mean Absolute Error: MAE', metrics.mean_absolute_error(dep_test, predicciones))\n",
        "print('Mean Squared Error: MSE', metrics.mean_squared_error(dep_test, predicciones))\n",
        "print('Root Mean Squared Error RMSE:', np.sqrt(metrics.mean_squared_error(dep_test, predicciones)))\n",
        "\n",
        "cova, r, r_square =  f_cov_corr(ind_test, dep_test)\n",
        "print (\"r square = \", r_square)\n",
        "\n"
      ],
      "metadata": {
        "colab": {
          "base_uri": "https://localhost:8080/"
        },
        "outputId": "e21f53d5-4318-4632-bb41-83ced27db8e0",
        "id": "w3P_CC8M02ji"
      },
      "execution_count": null,
      "outputs": [
        {
          "output_type": "stream",
          "name": "stdout",
          "text": [
            "Mean Absolute Error: MAE 2.2094387020952904\n",
            "Mean Squared Error: MSE 9.332739081460014\n",
            "Root Mean Squared Error RMSE: 3.0549532044632066\n",
            "r square =  0.5808635460204756\n"
          ]
        }
      ]
    },
    {
      "cell_type": "markdown",
      "source": [
        "# Interpretación\n",
        "\n",
        "Se cargó un conjunto de datos con variables de interés volumen en centimetros cuadrados y pesos en kilogramos de paquetes de una empresa de paqueteía.\n",
        "\n",
        "Se exploraron estadísticos de los datos observándose que existen algunos datos atípicos.\n",
        "\n",
        "Se construyó un modelo de regresión lineal simple con datos de entrenamiento. La variable volumen de paquete fué la variable predictora o independiente y la variable peso del paquete fue la variable predictiva, objetivo o dependiente.\n",
        "\n",
        "A partir del modelo de regresión lineal simple se extrajeron los coeficientes de la abcisa o intersección  a  y la pendiente  b  teniendo valores de  $a=3.37633869$  y  $b=0.38170618$ , que son los valores de los coeficientes que definen la recta de regresión o recta de estimación para cada valor de la variable independoiente.\n",
        "\n",
        "* Coeficiente a : [3.37633869]\n",
        "* Coeficiente b : [[0.38170618]]\n",
        "\n",
        "\n",
        "Se visualizó la dispersión de los datos con los valores de entrenamiento y se estimó la recta de regresión presentada también visualmente.\n",
        "\n",
        "Habiendo relizado una evaluación del modelo con datos de entrenamiento o datos que se utilizaron para construir el modelo con el estadístico *r square* o coeficiente de determinación se encontró que el valor del volumen representa aproximadamente un  $70.56$% al valor del peso del paquete.\n",
        "\n",
        "Se utilizaron datos de prueba o datos de validación con las mismas variables de volumen y pesos para construir predicciones.\n",
        "\n",
        "Habiendo relizado una evaluación del modelo con los datos de validación o datos de prueba con el estadístico *r square* o coeficiente de determinación se encontró que el valor del volumen representa aproximadamente un  $58$% al valor del peso del paquete.\n",
        "\n",
        "El modelo se acepta datos que el valor de *r square* como métrica establecida inicialmente sobrepasa el  $50$% tanto con los datos de entrenamiento como con los datos de validación.\n",
        "\n",
        "El valor de *RMSE* *root mean square error* o error cuadrático medio significa eu tanto el modelo es eficiente y su valor cercano a cero representa esa eficiencia. El valor fue de   $3.0549$  aproximadamente y debe ser comparado contra otro modelo para medir su eficiencia en relación con otros.\n",
        "\n",
        "Las predicciones del modelo se desvenían promedio $3.0549$ unidades de los valores reales  de acuerdo a $RMSE$.\n",
        "\n",
        "!Hasta la próxima!\n",
        "\n"
      ],
      "metadata": {
        "id": "V9c0Bbz702ji"
      }
    }
  ]
}