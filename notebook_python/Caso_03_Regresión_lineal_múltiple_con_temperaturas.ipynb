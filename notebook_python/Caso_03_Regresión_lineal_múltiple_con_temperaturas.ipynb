{
  "nbformat": 4,
  "nbformat_minor": 0,
  "metadata": {
    "colab": {
      "provenance": [],
      "authorship_tag": "ABX9TyNEBdzr/Q+BAdHyzaIVPERo",
      "include_colab_link": true
    },
    "kernelspec": {
      "name": "python3",
      "display_name": "Python 3"
    },
    "language_info": {
      "name": "python"
    },
    "widgets": {
      "application/vnd.jupyter.widget-state+json": {
        "ca76744e85284f6c8eb57bb783aa2d48": {
          "model_module": "@jupyter-widgets/output",
          "model_name": "OutputModel",
          "model_module_version": "1.0.0",
          "state": {
            "_dom_classes": [],
            "_model_module": "@jupyter-widgets/output",
            "_model_module_version": "1.0.0",
            "_model_name": "OutputModel",
            "_view_count": null,
            "_view_module": "@jupyter-widgets/output",
            "_view_module_version": "1.0.0",
            "_view_name": "OutputView",
            "layout": "IPY_MODEL_b1f06fd329ea488c99da1378e2dfb4b0",
            "msg_id": "",
            "outputs": [
              {
                "output_type": "display_data",
                "data": {
                  "text/plain": "<IPython.core.display.HTML object>",
                  "text/html": "<h2>Primeros registros. Datos de entrenamiento</h2>"
                },
                "metadata": {}
              },
              {
                "output_type": "display_data",
                "data": {
                  "text/plain": "    vel_viento  presion_atmosferica  humedad_relativa  frentes_frios  \\\n0         28.0               1010.0              41.0              1   \n1         23.0               1048.0              32.0              1   \n3         34.0               1008.0              84.0              1   \n7         31.0               1024.0              83.0              1   \n8         36.0               1046.0              70.0              1   \n9         34.0               1050.0              26.0              1   \n10        36.0               1018.0              46.0              0   \n11        31.0                962.0              53.0              0   \n12        39.0                998.0              73.0              0   \n14        37.0               1035.0              21.0              1   \n15        33.0               1036.0              39.0              0   \n16        36.0               1043.0              56.0              0   \n17        20.0                974.0              20.0              0   \n18        37.0                993.0              55.0              0   \n19        27.0                967.0              26.0              1   \n20        35.0               1004.0              57.0              1   \n22        14.0               1045.0              84.0              0   \n23        32.0                985.0              79.0              0   \n24        33.0                976.0              29.0              0   \n27        37.0               1027.0              93.0              0   \n\n    radiacion_solar  luminosidad  contaminacion_atmosferica  \n0             613.0         39.0                      178.0  \n1             180.0         85.0                      271.0  \n3             216.0         27.0                      126.0  \n7             323.0         33.0                      476.0  \n8             822.0         45.0                      156.0  \n9             609.0         99.0                      384.0  \n10            884.0         87.0                      237.0  \n11            780.0         41.0                      131.0  \n12            864.0         14.0                      247.0  \n14            147.0         88.0                      121.0  \n15            213.0         41.0                      397.0  \n16            784.0          7.0                      133.0  \n17            839.0         12.0                      283.0  \n18            894.0         15.0                      227.0  \n19            569.0         24.0                        1.0  \n20            798.0         31.0                       15.0  \n22            985.0         52.0                      468.0  \n23            486.0         64.0                      233.0  \n24            647.0         97.0                       43.0  \n27            763.0         79.0                      222.0  ",
                  "text/html": "\n  <div id=\"df-6d0d2831-04ca-4d0e-a4d5-1079e3e01754\" class=\"colab-df-container\">\n    <div>\n<style scoped>\n    .dataframe tbody tr th:only-of-type {\n        vertical-align: middle;\n    }\n\n    .dataframe tbody tr th {\n        vertical-align: top;\n    }\n\n    .dataframe thead th {\n        text-align: right;\n    }\n</style>\n<table border=\"1\" class=\"dataframe\">\n  <thead>\n    <tr style=\"text-align: right;\">\n      <th></th>\n      <th>vel_viento</th>\n      <th>presion_atmosferica</th>\n      <th>humedad_relativa</th>\n      <th>frentes_frios</th>\n      <th>radiacion_solar</th>\n      <th>luminosidad</th>\n      <th>contaminacion_atmosferica</th>\n    </tr>\n  </thead>\n  <tbody>\n    <tr>\n      <th>0</th>\n      <td>28.0</td>\n      <td>1010.0</td>\n      <td>41.0</td>\n      <td>1</td>\n      <td>613.0</td>\n      <td>39.0</td>\n      <td>178.0</td>\n    </tr>\n    <tr>\n      <th>1</th>\n      <td>23.0</td>\n      <td>1048.0</td>\n      <td>32.0</td>\n      <td>1</td>\n      <td>180.0</td>\n      <td>85.0</td>\n      <td>271.0</td>\n    </tr>\n    <tr>\n      <th>3</th>\n      <td>34.0</td>\n      <td>1008.0</td>\n      <td>84.0</td>\n      <td>1</td>\n      <td>216.0</td>\n      <td>27.0</td>\n      <td>126.0</td>\n    </tr>\n    <tr>\n      <th>7</th>\n      <td>31.0</td>\n      <td>1024.0</td>\n      <td>83.0</td>\n      <td>1</td>\n      <td>323.0</td>\n      <td>33.0</td>\n      <td>476.0</td>\n    </tr>\n    <tr>\n      <th>8</th>\n      <td>36.0</td>\n      <td>1046.0</td>\n      <td>70.0</td>\n      <td>1</td>\n      <td>822.0</td>\n      <td>45.0</td>\n      <td>156.0</td>\n    </tr>\n    <tr>\n      <th>9</th>\n      <td>34.0</td>\n      <td>1050.0</td>\n      <td>26.0</td>\n      <td>1</td>\n      <td>609.0</td>\n      <td>99.0</td>\n      <td>384.0</td>\n    </tr>\n    <tr>\n      <th>10</th>\n      <td>36.0</td>\n      <td>1018.0</td>\n      <td>46.0</td>\n      <td>0</td>\n      <td>884.0</td>\n      <td>87.0</td>\n      <td>237.0</td>\n    </tr>\n    <tr>\n      <th>11</th>\n      <td>31.0</td>\n      <td>962.0</td>\n      <td>53.0</td>\n      <td>0</td>\n      <td>780.0</td>\n      <td>41.0</td>\n      <td>131.0</td>\n    </tr>\n    <tr>\n      <th>12</th>\n      <td>39.0</td>\n      <td>998.0</td>\n      <td>73.0</td>\n      <td>0</td>\n      <td>864.0</td>\n      <td>14.0</td>\n      <td>247.0</td>\n    </tr>\n    <tr>\n      <th>14</th>\n      <td>37.0</td>\n      <td>1035.0</td>\n      <td>21.0</td>\n      <td>1</td>\n      <td>147.0</td>\n      <td>88.0</td>\n      <td>121.0</td>\n    </tr>\n    <tr>\n      <th>15</th>\n      <td>33.0</td>\n      <td>1036.0</td>\n      <td>39.0</td>\n      <td>0</td>\n      <td>213.0</td>\n      <td>41.0</td>\n      <td>397.0</td>\n    </tr>\n    <tr>\n      <th>16</th>\n      <td>36.0</td>\n      <td>1043.0</td>\n      <td>56.0</td>\n      <td>0</td>\n      <td>784.0</td>\n      <td>7.0</td>\n      <td>133.0</td>\n    </tr>\n    <tr>\n      <th>17</th>\n      <td>20.0</td>\n      <td>974.0</td>\n      <td>20.0</td>\n      <td>0</td>\n      <td>839.0</td>\n      <td>12.0</td>\n      <td>283.0</td>\n    </tr>\n    <tr>\n      <th>18</th>\n      <td>37.0</td>\n      <td>993.0</td>\n      <td>55.0</td>\n      <td>0</td>\n      <td>894.0</td>\n      <td>15.0</td>\n      <td>227.0</td>\n    </tr>\n    <tr>\n      <th>19</th>\n      <td>27.0</td>\n      <td>967.0</td>\n      <td>26.0</td>\n      <td>1</td>\n      <td>569.0</td>\n      <td>24.0</td>\n      <td>1.0</td>\n    </tr>\n    <tr>\n      <th>20</th>\n      <td>35.0</td>\n      <td>1004.0</td>\n      <td>57.0</td>\n      <td>1</td>\n      <td>798.0</td>\n      <td>31.0</td>\n      <td>15.0</td>\n    </tr>\n    <tr>\n      <th>22</th>\n      <td>14.0</td>\n      <td>1045.0</td>\n      <td>84.0</td>\n      <td>0</td>\n      <td>985.0</td>\n      <td>52.0</td>\n      <td>468.0</td>\n    </tr>\n    <tr>\n      <th>23</th>\n      <td>32.0</td>\n      <td>985.0</td>\n      <td>79.0</td>\n      <td>0</td>\n      <td>486.0</td>\n      <td>64.0</td>\n      <td>233.0</td>\n    </tr>\n    <tr>\n      <th>24</th>\n      <td>33.0</td>\n      <td>976.0</td>\n      <td>29.0</td>\n      <td>0</td>\n      <td>647.0</td>\n      <td>97.0</td>\n      <td>43.0</td>\n    </tr>\n    <tr>\n      <th>27</th>\n      <td>37.0</td>\n      <td>1027.0</td>\n      <td>93.0</td>\n      <td>0</td>\n      <td>763.0</td>\n      <td>79.0</td>\n      <td>222.0</td>\n    </tr>\n  </tbody>\n</table>\n</div>\n    <div class=\"colab-df-buttons\">\n\n  <div class=\"colab-df-container\">\n    <button class=\"colab-df-convert\" onclick=\"convertToInteractive('df-6d0d2831-04ca-4d0e-a4d5-1079e3e01754')\"\n            title=\"Convert this dataframe to an interactive table.\"\n            style=\"display:none;\">\n\n  <svg xmlns=\"http://www.w3.org/2000/svg\" height=\"24px\" viewBox=\"0 -960 960 960\">\n    <path d=\"M120-120v-720h720v720H120Zm60-500h600v-160H180v160Zm220 220h160v-160H400v160Zm0 220h160v-160H400v160ZM180-400h160v-160H180v160Zm440 0h160v-160H620v160ZM180-180h160v-160H180v160Zm440 0h160v-160H620v160Z\"/>\n  </svg>\n    </button>\n\n  <style>\n    .colab-df-container {\n      display:flex;\n      gap: 12px;\n    }\n\n    .colab-df-convert {\n      background-color: #E8F0FE;\n      border: none;\n      border-radius: 50%;\n      cursor: pointer;\n      display: none;\n      fill: #1967D2;\n      height: 32px;\n      padding: 0 0 0 0;\n      width: 32px;\n    }\n\n    .colab-df-convert:hover {\n      background-color: #E2EBFA;\n      box-shadow: 0px 1px 2px rgba(60, 64, 67, 0.3), 0px 1px 3px 1px rgba(60, 64, 67, 0.15);\n      fill: #174EA6;\n    }\n\n    .colab-df-buttons div {\n      margin-bottom: 4px;\n    }\n\n    [theme=dark] .colab-df-convert {\n      background-color: #3B4455;\n      fill: #D2E3FC;\n    }\n\n    [theme=dark] .colab-df-convert:hover {\n      background-color: #434B5C;\n      box-shadow: 0px 1px 3px 1px rgba(0, 0, 0, 0.15);\n      filter: drop-shadow(0px 1px 2px rgba(0, 0, 0, 0.3));\n      fill: #FFFFFF;\n    }\n  </style>\n\n    <script>\n      const buttonEl =\n        document.querySelector('#df-6d0d2831-04ca-4d0e-a4d5-1079e3e01754 button.colab-df-convert');\n      buttonEl.style.display =\n        google.colab.kernel.accessAllowed ? 'block' : 'none';\n\n      async function convertToInteractive(key) {\n        const element = document.querySelector('#df-6d0d2831-04ca-4d0e-a4d5-1079e3e01754');\n        const dataTable =\n          await google.colab.kernel.invokeFunction('convertToInteractive',\n                                                    [key], {});\n        if (!dataTable) return;\n\n        const docLinkHtml = 'Like what you see? Visit the ' +\n          '<a target=\"_blank\" href=https://colab.research.google.com/notebooks/data_table.ipynb>data table notebook</a>'\n          + ' to learn more about interactive tables.';\n        element.innerHTML = '';\n        dataTable['output_type'] = 'display_data';\n        await google.colab.output.renderOutput(dataTable, element);\n        const docLink = document.createElement('div');\n        docLink.innerHTML = docLinkHtml;\n        element.appendChild(docLink);\n      }\n    </script>\n  </div>\n\n\n<div id=\"df-1e0c6fbd-58d0-41f0-875f-83ce4c1dec3c\">\n  <button class=\"colab-df-quickchart\" onclick=\"quickchart('df-1e0c6fbd-58d0-41f0-875f-83ce4c1dec3c')\"\n            title=\"Suggest charts\"\n            style=\"display:none;\">\n\n<svg xmlns=\"http://www.w3.org/2000/svg\" height=\"24px\"viewBox=\"0 0 24 24\"\n     width=\"24px\">\n    <g>\n        <path d=\"M19 3H5c-1.1 0-2 .9-2 2v14c0 1.1.9 2 2 2h14c1.1 0 2-.9 2-2V5c0-1.1-.9-2-2-2zM9 17H7v-7h2v7zm4 0h-2V7h2v10zm4 0h-2v-4h2v4z\"/>\n    </g>\n</svg>\n  </button>\n\n<style>\n  .colab-df-quickchart {\n      --bg-color: #E8F0FE;\n      --fill-color: #1967D2;\n      --hover-bg-color: #E2EBFA;\n      --hover-fill-color: #174EA6;\n      --disabled-fill-color: #AAA;\n      --disabled-bg-color: #DDD;\n  }\n\n  [theme=dark] .colab-df-quickchart {\n      --bg-color: #3B4455;\n      --fill-color: #D2E3FC;\n      --hover-bg-color: #434B5C;\n      --hover-fill-color: #FFFFFF;\n      --disabled-bg-color: #3B4455;\n      --disabled-fill-color: #666;\n  }\n\n  .colab-df-quickchart {\n    background-color: var(--bg-color);\n    border: none;\n    border-radius: 50%;\n    cursor: pointer;\n    display: none;\n    fill: var(--fill-color);\n    height: 32px;\n    padding: 0;\n    width: 32px;\n  }\n\n  .colab-df-quickchart:hover {\n    background-color: var(--hover-bg-color);\n    box-shadow: 0 1px 2px rgba(60, 64, 67, 0.3), 0 1px 3px 1px rgba(60, 64, 67, 0.15);\n    fill: var(--button-hover-fill-color);\n  }\n\n  .colab-df-quickchart-complete:disabled,\n  .colab-df-quickchart-complete:disabled:hover {\n    background-color: var(--disabled-bg-color);\n    fill: var(--disabled-fill-color);\n    box-shadow: none;\n  }\n\n  .colab-df-spinner {\n    border: 2px solid var(--fill-color);\n    border-color: transparent;\n    border-bottom-color: var(--fill-color);\n    animation:\n      spin 1s steps(1) infinite;\n  }\n\n  @keyframes spin {\n    0% {\n      border-color: transparent;\n      border-bottom-color: var(--fill-color);\n      border-left-color: var(--fill-color);\n    }\n    20% {\n      border-color: transparent;\n      border-left-color: var(--fill-color);\n      border-top-color: var(--fill-color);\n    }\n    30% {\n      border-color: transparent;\n      border-left-color: var(--fill-color);\n      border-top-color: var(--fill-color);\n      border-right-color: var(--fill-color);\n    }\n    40% {\n      border-color: transparent;\n      border-right-color: var(--fill-color);\n      border-top-color: var(--fill-color);\n    }\n    60% {\n      border-color: transparent;\n      border-right-color: var(--fill-color);\n    }\n    80% {\n      border-color: transparent;\n      border-right-color: var(--fill-color);\n      border-bottom-color: var(--fill-color);\n    }\n    90% {\n      border-color: transparent;\n      border-bottom-color: var(--fill-color);\n    }\n  }\n</style>\n\n  <script>\n    async function quickchart(key) {\n      const quickchartButtonEl =\n        document.querySelector('#' + key + ' button');\n      quickchartButtonEl.disabled = true;  // To prevent multiple clicks.\n      quickchartButtonEl.classList.add('colab-df-spinner');\n      try {\n        const charts = await google.colab.kernel.invokeFunction(\n            'suggestCharts', [key], {});\n      } catch (error) {\n        console.error('Error during call to suggestCharts:', error);\n      }\n      quickchartButtonEl.classList.remove('colab-df-spinner');\n      quickchartButtonEl.classList.add('colab-df-quickchart-complete');\n    }\n    (() => {\n      let quickchartButtonEl =\n        document.querySelector('#df-1e0c6fbd-58d0-41f0-875f-83ce4c1dec3c button');\n      quickchartButtonEl.style.display =\n        google.colab.kernel.accessAllowed ? 'block' : 'none';\n    })();\n  </script>\n</div>\n    </div>\n  </div>\n",
                  "application/vnd.google.colaboratory.intrinsic+json": {
                    "type": "dataframe",
                    "summary": "{\n  \"name\": \"display(visualizar)\",\n  \"rows\": 20,\n  \"fields\": [\n    {\n      \"column\": \"vel_viento\",\n      \"properties\": {\n        \"dtype\": \"number\",\n        \"std\": 6.4094913173643056,\n        \"min\": 14.0,\n        \"max\": 39.0,\n        \"num_unique_values\": 13,\n        \"samples\": [\n          14.0,\n          27.0,\n          28.0\n        ],\n        \"semantic_type\": \"\",\n        \"description\": \"\"\n      }\n    },\n    {\n      \"column\": \"presion_atmosferica\",\n      \"properties\": {\n        \"dtype\": \"number\",\n        \"std\": 29.097793369040346,\n        \"min\": 962.0,\n        \"max\": 1050.0,\n        \"num_unique_values\": 20,\n        \"samples\": [\n          1010.0,\n          985.0,\n          1004.0\n        ],\n        \"semantic_type\": \"\",\n        \"description\": \"\"\n      }\n    },\n    {\n      \"column\": \"humedad_relativa\",\n      \"properties\": {\n        \"dtype\": \"number\",\n        \"std\": 23.83114945214616,\n        \"min\": 20.0,\n        \"max\": 93.0,\n        \"num_unique_values\": 18,\n        \"samples\": [\n          41.0,\n          32.0,\n          73.0\n        ],\n        \"semantic_type\": \"\",\n        \"description\": \"\"\n      }\n    },\n    {\n      \"column\": \"frentes_frios\",\n      \"properties\": {\n        \"dtype\": \"number\",\n        \"std\": 0,\n        \"min\": 0,\n        \"max\": 1,\n        \"num_unique_values\": 2,\n        \"samples\": [\n          0,\n          1\n        ],\n        \"semantic_type\": \"\",\n        \"description\": \"\"\n      }\n    },\n    {\n      \"column\": \"radiacion_solar\",\n      \"properties\": {\n        \"dtype\": \"number\",\n        \"std\": 270.163030701639,\n        \"min\": 147.0,\n        \"max\": 985.0,\n        \"num_unique_values\": 20,\n        \"samples\": [\n          613.0,\n          486.0\n        ],\n        \"semantic_type\": \"\",\n        \"description\": \"\"\n      }\n    },\n    {\n      \"column\": \"luminosidad\",\n      \"properties\": {\n        \"dtype\": \"number\",\n        \"std\": 30.475184037266505,\n        \"min\": 7.0,\n        \"max\": 99.0,\n        \"num_unique_values\": 19,\n        \"samples\": [\n          39.0,\n          99.0\n        ],\n        \"semantic_type\": \"\",\n        \"description\": \"\"\n      }\n    },\n    {\n      \"column\": \"contaminacion_atmosferica\",\n      \"properties\": {\n        \"dtype\": \"number\",\n        \"std\": 136.5451438747987,\n        \"min\": 1.0,\n        \"max\": 476.0,\n        \"num_unique_values\": 20,\n        \"samples\": [\n          178.0,\n          233.0\n        ],\n        \"semantic_type\": \"\",\n        \"description\": \"\"\n      }\n    }\n  ]\n}"
                  }
                },
                "metadata": {}
              },
              {
                "output_type": "display_data",
                "data": {
                  "text/plain": "<IPython.core.display.HTML object>",
                  "text/html": "<h2>Primeros registros. Datos de validación</h2>"
                },
                "metadata": {}
              },
              {
                "output_type": "display_data",
                "data": {
                  "text/plain": "    vel_viento  presion_atmosferica  humedad_relativa  frentes_frios  \\\n2         21.0               1023.0              57.0              1   \n4         34.0               1037.0              84.0              0   \n5         31.0                954.0              46.0              1   \n6         32.0                980.0              89.0              0   \n13        36.0               1036.0              26.0              0   \n21        42.0               1039.0              34.0              1   \n25        27.0               1010.0              70.0              0   \n26        34.0                952.0              70.0              0   \n32        34.0               1029.0              48.0              0   \n34        29.0                979.0              22.0              0   \n36        32.0               1045.0              22.0              0   \n41        26.0               1029.0              97.0              1   \n43        29.0               1024.0              40.0              0   \n44        29.0                994.0              82.0              1   \n45        35.0               1014.0              25.0              1   \n47        36.0               1025.0              38.0              0   \n51        31.0               1014.0              66.0              1   \n52        32.0               1017.0              30.0              0   \n53        30.0                973.0              88.0              0   \n55        30.0               1017.0              36.0              0   \n\n    radiacion_solar  luminosidad  contaminacion_atmosferica  \n2             198.0         65.0                        1.0  \n4             813.0         49.0                      241.0  \n5             780.0         82.0                       28.0  \n6             450.0         74.0                      251.0  \n13            955.0         72.0                      161.0  \n21            795.0         91.0                      494.0  \n25            625.0         47.0                      228.0  \n26            532.0         69.0                      251.0  \n32            486.0          6.0                      175.0  \n34            984.0         72.0                      252.0  \n36            415.0         43.0                      488.0  \n41            144.0          5.0                      390.0  \n43            492.0         15.0                      212.0  \n44            213.0         37.0                       62.0  \n45            963.0         22.0                      322.0  \n47            523.0          9.0                       12.0  \n51            526.0         71.0                      370.0  \n52            877.0         55.0                      262.0  \n53            125.0          9.0                      314.0  \n55            899.0         94.0                      412.0  ",
                  "text/html": "\n  <div id=\"df-fb7c5e42-c2f4-4231-b392-4ffee066d9a4\" class=\"colab-df-container\">\n    <div>\n<style scoped>\n    .dataframe tbody tr th:only-of-type {\n        vertical-align: middle;\n    }\n\n    .dataframe tbody tr th {\n        vertical-align: top;\n    }\n\n    .dataframe thead th {\n        text-align: right;\n    }\n</style>\n<table border=\"1\" class=\"dataframe\">\n  <thead>\n    <tr style=\"text-align: right;\">\n      <th></th>\n      <th>vel_viento</th>\n      <th>presion_atmosferica</th>\n      <th>humedad_relativa</th>\n      <th>frentes_frios</th>\n      <th>radiacion_solar</th>\n      <th>luminosidad</th>\n      <th>contaminacion_atmosferica</th>\n    </tr>\n  </thead>\n  <tbody>\n    <tr>\n      <th>2</th>\n      <td>21.0</td>\n      <td>1023.0</td>\n      <td>57.0</td>\n      <td>1</td>\n      <td>198.0</td>\n      <td>65.0</td>\n      <td>1.0</td>\n    </tr>\n    <tr>\n      <th>4</th>\n      <td>34.0</td>\n      <td>1037.0</td>\n      <td>84.0</td>\n      <td>0</td>\n      <td>813.0</td>\n      <td>49.0</td>\n      <td>241.0</td>\n    </tr>\n    <tr>\n      <th>5</th>\n      <td>31.0</td>\n      <td>954.0</td>\n      <td>46.0</td>\n      <td>1</td>\n      <td>780.0</td>\n      <td>82.0</td>\n      <td>28.0</td>\n    </tr>\n    <tr>\n      <th>6</th>\n      <td>32.0</td>\n      <td>980.0</td>\n      <td>89.0</td>\n      <td>0</td>\n      <td>450.0</td>\n      <td>74.0</td>\n      <td>251.0</td>\n    </tr>\n    <tr>\n      <th>13</th>\n      <td>36.0</td>\n      <td>1036.0</td>\n      <td>26.0</td>\n      <td>0</td>\n      <td>955.0</td>\n      <td>72.0</td>\n      <td>161.0</td>\n    </tr>\n    <tr>\n      <th>21</th>\n      <td>42.0</td>\n      <td>1039.0</td>\n      <td>34.0</td>\n      <td>1</td>\n      <td>795.0</td>\n      <td>91.0</td>\n      <td>494.0</td>\n    </tr>\n    <tr>\n      <th>25</th>\n      <td>27.0</td>\n      <td>1010.0</td>\n      <td>70.0</td>\n      <td>0</td>\n      <td>625.0</td>\n      <td>47.0</td>\n      <td>228.0</td>\n    </tr>\n    <tr>\n      <th>26</th>\n      <td>34.0</td>\n      <td>952.0</td>\n      <td>70.0</td>\n      <td>0</td>\n      <td>532.0</td>\n      <td>69.0</td>\n      <td>251.0</td>\n    </tr>\n    <tr>\n      <th>32</th>\n      <td>34.0</td>\n      <td>1029.0</td>\n      <td>48.0</td>\n      <td>0</td>\n      <td>486.0</td>\n      <td>6.0</td>\n      <td>175.0</td>\n    </tr>\n    <tr>\n      <th>34</th>\n      <td>29.0</td>\n      <td>979.0</td>\n      <td>22.0</td>\n      <td>0</td>\n      <td>984.0</td>\n      <td>72.0</td>\n      <td>252.0</td>\n    </tr>\n    <tr>\n      <th>36</th>\n      <td>32.0</td>\n      <td>1045.0</td>\n      <td>22.0</td>\n      <td>0</td>\n      <td>415.0</td>\n      <td>43.0</td>\n      <td>488.0</td>\n    </tr>\n    <tr>\n      <th>41</th>\n      <td>26.0</td>\n      <td>1029.0</td>\n      <td>97.0</td>\n      <td>1</td>\n      <td>144.0</td>\n      <td>5.0</td>\n      <td>390.0</td>\n    </tr>\n    <tr>\n      <th>43</th>\n      <td>29.0</td>\n      <td>1024.0</td>\n      <td>40.0</td>\n      <td>0</td>\n      <td>492.0</td>\n      <td>15.0</td>\n      <td>212.0</td>\n    </tr>\n    <tr>\n      <th>44</th>\n      <td>29.0</td>\n      <td>994.0</td>\n      <td>82.0</td>\n      <td>1</td>\n      <td>213.0</td>\n      <td>37.0</td>\n      <td>62.0</td>\n    </tr>\n    <tr>\n      <th>45</th>\n      <td>35.0</td>\n      <td>1014.0</td>\n      <td>25.0</td>\n      <td>1</td>\n      <td>963.0</td>\n      <td>22.0</td>\n      <td>322.0</td>\n    </tr>\n    <tr>\n      <th>47</th>\n      <td>36.0</td>\n      <td>1025.0</td>\n      <td>38.0</td>\n      <td>0</td>\n      <td>523.0</td>\n      <td>9.0</td>\n      <td>12.0</td>\n    </tr>\n    <tr>\n      <th>51</th>\n      <td>31.0</td>\n      <td>1014.0</td>\n      <td>66.0</td>\n      <td>1</td>\n      <td>526.0</td>\n      <td>71.0</td>\n      <td>370.0</td>\n    </tr>\n    <tr>\n      <th>52</th>\n      <td>32.0</td>\n      <td>1017.0</td>\n      <td>30.0</td>\n      <td>0</td>\n      <td>877.0</td>\n      <td>55.0</td>\n      <td>262.0</td>\n    </tr>\n    <tr>\n      <th>53</th>\n      <td>30.0</td>\n      <td>973.0</td>\n      <td>88.0</td>\n      <td>0</td>\n      <td>125.0</td>\n      <td>9.0</td>\n      <td>314.0</td>\n    </tr>\n    <tr>\n      <th>55</th>\n      <td>30.0</td>\n      <td>1017.0</td>\n      <td>36.0</td>\n      <td>0</td>\n      <td>899.0</td>\n      <td>94.0</td>\n      <td>412.0</td>\n    </tr>\n  </tbody>\n</table>\n</div>\n    <div class=\"colab-df-buttons\">\n\n  <div class=\"colab-df-container\">\n    <button class=\"colab-df-convert\" onclick=\"convertToInteractive('df-fb7c5e42-c2f4-4231-b392-4ffee066d9a4')\"\n            title=\"Convert this dataframe to an interactive table.\"\n            style=\"display:none;\">\n\n  <svg xmlns=\"http://www.w3.org/2000/svg\" height=\"24px\" viewBox=\"0 -960 960 960\">\n    <path d=\"M120-120v-720h720v720H120Zm60-500h600v-160H180v160Zm220 220h160v-160H400v160Zm0 220h160v-160H400v160ZM180-400h160v-160H180v160Zm440 0h160v-160H620v160ZM180-180h160v-160H180v160Zm440 0h160v-160H620v160Z\"/>\n  </svg>\n    </button>\n\n  <style>\n    .colab-df-container {\n      display:flex;\n      gap: 12px;\n    }\n\n    .colab-df-convert {\n      background-color: #E8F0FE;\n      border: none;\n      border-radius: 50%;\n      cursor: pointer;\n      display: none;\n      fill: #1967D2;\n      height: 32px;\n      padding: 0 0 0 0;\n      width: 32px;\n    }\n\n    .colab-df-convert:hover {\n      background-color: #E2EBFA;\n      box-shadow: 0px 1px 2px rgba(60, 64, 67, 0.3), 0px 1px 3px 1px rgba(60, 64, 67, 0.15);\n      fill: #174EA6;\n    }\n\n    .colab-df-buttons div {\n      margin-bottom: 4px;\n    }\n\n    [theme=dark] .colab-df-convert {\n      background-color: #3B4455;\n      fill: #D2E3FC;\n    }\n\n    [theme=dark] .colab-df-convert:hover {\n      background-color: #434B5C;\n      box-shadow: 0px 1px 3px 1px rgba(0, 0, 0, 0.15);\n      filter: drop-shadow(0px 1px 2px rgba(0, 0, 0, 0.3));\n      fill: #FFFFFF;\n    }\n  </style>\n\n    <script>\n      const buttonEl =\n        document.querySelector('#df-fb7c5e42-c2f4-4231-b392-4ffee066d9a4 button.colab-df-convert');\n      buttonEl.style.display =\n        google.colab.kernel.accessAllowed ? 'block' : 'none';\n\n      async function convertToInteractive(key) {\n        const element = document.querySelector('#df-fb7c5e42-c2f4-4231-b392-4ffee066d9a4');\n        const dataTable =\n          await google.colab.kernel.invokeFunction('convertToInteractive',\n                                                    [key], {});\n        if (!dataTable) return;\n\n        const docLinkHtml = 'Like what you see? Visit the ' +\n          '<a target=\"_blank\" href=https://colab.research.google.com/notebooks/data_table.ipynb>data table notebook</a>'\n          + ' to learn more about interactive tables.';\n        element.innerHTML = '';\n        dataTable['output_type'] = 'display_data';\n        await google.colab.output.renderOutput(dataTable, element);\n        const docLink = document.createElement('div');\n        docLink.innerHTML = docLinkHtml;\n        element.appendChild(docLink);\n      }\n    </script>\n  </div>\n\n\n<div id=\"df-c6f79ed2-049c-406b-891d-4ae59fee2ec8\">\n  <button class=\"colab-df-quickchart\" onclick=\"quickchart('df-c6f79ed2-049c-406b-891d-4ae59fee2ec8')\"\n            title=\"Suggest charts\"\n            style=\"display:none;\">\n\n<svg xmlns=\"http://www.w3.org/2000/svg\" height=\"24px\"viewBox=\"0 0 24 24\"\n     width=\"24px\">\n    <g>\n        <path d=\"M19 3H5c-1.1 0-2 .9-2 2v14c0 1.1.9 2 2 2h14c1.1 0 2-.9 2-2V5c0-1.1-.9-2-2-2zM9 17H7v-7h2v7zm4 0h-2V7h2v10zm4 0h-2v-4h2v4z\"/>\n    </g>\n</svg>\n  </button>\n\n<style>\n  .colab-df-quickchart {\n      --bg-color: #E8F0FE;\n      --fill-color: #1967D2;\n      --hover-bg-color: #E2EBFA;\n      --hover-fill-color: #174EA6;\n      --disabled-fill-color: #AAA;\n      --disabled-bg-color: #DDD;\n  }\n\n  [theme=dark] .colab-df-quickchart {\n      --bg-color: #3B4455;\n      --fill-color: #D2E3FC;\n      --hover-bg-color: #434B5C;\n      --hover-fill-color: #FFFFFF;\n      --disabled-bg-color: #3B4455;\n      --disabled-fill-color: #666;\n  }\n\n  .colab-df-quickchart {\n    background-color: var(--bg-color);\n    border: none;\n    border-radius: 50%;\n    cursor: pointer;\n    display: none;\n    fill: var(--fill-color);\n    height: 32px;\n    padding: 0;\n    width: 32px;\n  }\n\n  .colab-df-quickchart:hover {\n    background-color: var(--hover-bg-color);\n    box-shadow: 0 1px 2px rgba(60, 64, 67, 0.3), 0 1px 3px 1px rgba(60, 64, 67, 0.15);\n    fill: var(--button-hover-fill-color);\n  }\n\n  .colab-df-quickchart-complete:disabled,\n  .colab-df-quickchart-complete:disabled:hover {\n    background-color: var(--disabled-bg-color);\n    fill: var(--disabled-fill-color);\n    box-shadow: none;\n  }\n\n  .colab-df-spinner {\n    border: 2px solid var(--fill-color);\n    border-color: transparent;\n    border-bottom-color: var(--fill-color);\n    animation:\n      spin 1s steps(1) infinite;\n  }\n\n  @keyframes spin {\n    0% {\n      border-color: transparent;\n      border-bottom-color: var(--fill-color);\n      border-left-color: var(--fill-color);\n    }\n    20% {\n      border-color: transparent;\n      border-left-color: var(--fill-color);\n      border-top-color: var(--fill-color);\n    }\n    30% {\n      border-color: transparent;\n      border-left-color: var(--fill-color);\n      border-top-color: var(--fill-color);\n      border-right-color: var(--fill-color);\n    }\n    40% {\n      border-color: transparent;\n      border-right-color: var(--fill-color);\n      border-top-color: var(--fill-color);\n    }\n    60% {\n      border-color: transparent;\n      border-right-color: var(--fill-color);\n    }\n    80% {\n      border-color: transparent;\n      border-right-color: var(--fill-color);\n      border-bottom-color: var(--fill-color);\n    }\n    90% {\n      border-color: transparent;\n      border-bottom-color: var(--fill-color);\n    }\n  }\n</style>\n\n  <script>\n    async function quickchart(key) {\n      const quickchartButtonEl =\n        document.querySelector('#' + key + ' button');\n      quickchartButtonEl.disabled = true;  // To prevent multiple clicks.\n      quickchartButtonEl.classList.add('colab-df-spinner');\n      try {\n        const charts = await google.colab.kernel.invokeFunction(\n            'suggestCharts', [key], {});\n      } catch (error) {\n        console.error('Error during call to suggestCharts:', error);\n      }\n      quickchartButtonEl.classList.remove('colab-df-spinner');\n      quickchartButtonEl.classList.add('colab-df-quickchart-complete');\n    }\n    (() => {\n      let quickchartButtonEl =\n        document.querySelector('#df-c6f79ed2-049c-406b-891d-4ae59fee2ec8 button');\n      quickchartButtonEl.style.display =\n        google.colab.kernel.accessAllowed ? 'block' : 'none';\n    })();\n  </script>\n</div>\n    </div>\n  </div>\n",
                  "application/vnd.google.colaboratory.intrinsic+json": {
                    "type": "dataframe",
                    "summary": "{\n  \"name\": \"display(visualizar)\",\n  \"rows\": 20,\n  \"fields\": [\n    {\n      \"column\": \"vel_viento\",\n      \"properties\": {\n        \"dtype\": \"number\",\n        \"std\": 4.394973205115614,\n        \"min\": 21.0,\n        \"max\": 42.0,\n        \"num_unique_values\": 11,\n        \"samples\": [\n          42.0,\n          21.0,\n          35.0\n        ],\n        \"semantic_type\": \"\",\n        \"description\": \"\"\n      }\n    },\n    {\n      \"column\": \"presion_atmosferica\",\n      \"properties\": {\n        \"dtype\": \"number\",\n        \"std\": 27.999013140503813,\n        \"min\": 952.0,\n        \"max\": 1045.0,\n        \"num_unique_values\": 17,\n        \"samples\": [\n          1023.0,\n          1037.0,\n          1039.0\n        ],\n        \"semantic_type\": \"\",\n        \"description\": \"\"\n      }\n    },\n    {\n      \"column\": \"humedad_relativa\",\n      \"properties\": {\n        \"dtype\": \"number\",\n        \"std\": 25.234687905425154,\n        \"min\": 22.0,\n        \"max\": 97.0,\n        \"num_unique_values\": 18,\n        \"samples\": [\n          57.0,\n          84.0,\n          22.0\n        ],\n        \"semantic_type\": \"\",\n        \"description\": \"\"\n      }\n    },\n    {\n      \"column\": \"frentes_frios\",\n      \"properties\": {\n        \"dtype\": \"number\",\n        \"std\": 0,\n        \"min\": 0,\n        \"max\": 1,\n        \"num_unique_values\": 2,\n        \"samples\": [\n          0,\n          1\n        ],\n        \"semantic_type\": \"\",\n        \"description\": \"\"\n      }\n    },\n    {\n      \"column\": \"radiacion_solar\",\n      \"properties\": {\n        \"dtype\": \"number\",\n        \"std\": 283.59030400617684,\n        \"min\": 125.0,\n        \"max\": 984.0,\n        \"num_unique_values\": 20,\n        \"samples\": [\n          198.0,\n          877.0\n        ],\n        \"semantic_type\": \"\",\n        \"description\": \"\"\n      }\n    },\n    {\n      \"column\": \"luminosidad\",\n      \"properties\": {\n        \"dtype\": \"number\",\n        \"std\": 29.725542799700765,\n        \"min\": 5.0,\n        \"max\": 94.0,\n        \"num_unique_values\": 18,\n        \"samples\": [\n          65.0,\n          49.0\n        ],\n        \"semantic_type\": \"\",\n        \"description\": \"\"\n      }\n    },\n    {\n      \"column\": \"contaminacion_atmosferica\",\n      \"properties\": {\n        \"dtype\": \"number\",\n        \"std\": 145.89257042516988,\n        \"min\": 1.0,\n        \"max\": 494.0,\n        \"num_unique_values\": 19,\n        \"samples\": [\n          1.0,\n          494.0\n        ],\n        \"semantic_type\": \"\",\n        \"description\": \"\"\n      }\n    }\n  ]\n}"
                  }
                },
                "metadata": {}
              }
            ]
          }
        },
        "b1f06fd329ea488c99da1378e2dfb4b0": {
          "model_module": "@jupyter-widgets/base",
          "model_name": "LayoutModel",
          "model_module_version": "1.2.0",
          "state": {
            "_model_module": "@jupyter-widgets/base",
            "_model_module_version": "1.2.0",
            "_model_name": "LayoutModel",
            "_view_count": null,
            "_view_module": "@jupyter-widgets/base",
            "_view_module_version": "1.2.0",
            "_view_name": "LayoutView",
            "align_content": null,
            "align_items": null,
            "align_self": null,
            "border": null,
            "bottom": null,
            "display": null,
            "flex": null,
            "flex_flow": null,
            "grid_area": null,
            "grid_auto_columns": null,
            "grid_auto_flow": null,
            "grid_auto_rows": null,
            "grid_column": null,
            "grid_gap": null,
            "grid_row": null,
            "grid_template_areas": null,
            "grid_template_columns": null,
            "grid_template_rows": null,
            "height": null,
            "justify_content": null,
            "justify_items": null,
            "left": null,
            "margin": null,
            "max_height": null,
            "max_width": null,
            "min_height": null,
            "min_width": null,
            "object_fit": null,
            "object_position": null,
            "order": null,
            "overflow": null,
            "overflow_x": null,
            "overflow_y": null,
            "padding": null,
            "right": null,
            "top": null,
            "visibility": null,
            "width": null
          }
        }
      }
    }
  },
  "cells": [
    {
      "cell_type": "markdown",
      "metadata": {
        "id": "view-in-github",
        "colab_type": "text"
      },
      "source": [
        "<a href=\"https://colab.research.google.com/github/rpizarrog/innovacion-empresarial/blob/main/notebook_python/Caso_03_Regresi%C3%B3n_lineal_m%C3%BAltiple_con_temperaturas.ipynb\" target=\"_parent\"><img src=\"https://colab.research.google.com/assets/colab-badge.svg\" alt=\"Open In Colab\"/></a>"
      ]
    },
    {
      "cell_type": "markdown",
      "source": [
        "# Objetivo\n",
        "\n",
        "Crear, evaluar e intrepretar un modelo de regresión mútiple usando un conjunto de variables atmosféricas que impactan en la tempertura ambiental."
      ],
      "metadata": {
        "id": "LCb0pnw1VWDR"
      }
    },
    {
      "cell_type": "markdown",
      "source": [
        "# Descripción\n",
        "\n",
        "* Se cargan librerías\n",
        "* Se cargan funciones\n",
        "* Se cargan widgest\n",
        "* Se cargan los datos\n",
        "* Se observan los datos los primero y ultimos 20 registros de conjunto de datos\n",
        "* Se hacen datos de entrenamieto y datos de validación\n",
        "* Se construye el modelo con los datos de entrenamiento\n",
        "* Se hacen predicciones con los datos de validación\n",
        "* Se evalúa el *r squared*\n",
        "* Se evalúa el modelo con *RMSE root mean swuare error* que significa las predicciones que tanto se alejan de las realidades.\n",
        "* Se interpreta el caso\n",
        "\n",
        "## Métricas del modelo\n",
        "\n",
        "* El modelo se acepta si el valor de *r squared* está por encima del 60%*.\n",
        "* El valor de *RMSE* se compararará con otros modelos.\n",
        "\n"
      ],
      "metadata": {
        "id": "IRCjTE3PVXpn"
      }
    },
    {
      "cell_type": "markdown",
      "source": [
        "# Desarrollo\n",
        "\n"
      ],
      "metadata": {
        "id": "XcxEHpFdV5sX"
      }
    },
    {
      "cell_type": "markdown",
      "source": [
        "## Cargar librerías\n",
        "\n"
      ],
      "metadata": {
        "id": "1Er-g7s-V_Kn"
      }
    },
    {
      "cell_type": "code",
      "source": [
        "import numpy as np\n",
        "import pandas as pd\n",
        "import ipywidgets as widgets\n",
        "from IPython.display import display, HTML, clear_output\n",
        "\n",
        "# Para el modelo de regresión\n",
        "from sklearn.model_selection import train_test_split\n",
        "from sklearn.linear_model import LinearRegression\n",
        "\n",
        "from sklearn.metrics import mean_squared_error, r2_score\n",
        "\n",
        "from sklearn import metrics # Para determinar métricas.\n",
        "\n",
        "# Para determinar estadísticos ...\n",
        "import statsmodels.api as sm"
      ],
      "metadata": {
        "id": "BVRRGFBwWBFG"
      },
      "execution_count": 162,
      "outputs": []
    },
    {
      "cell_type": "markdown",
      "source": [
        "## Crear funciones\n",
        "\n"
      ],
      "metadata": {
        "id": "iULaMD2PWOSv"
      }
    },
    {
      "cell_type": "code",
      "source": [
        "# Pendientes ...\n",
        "# def f_crear_datos_entrenamiento_validacion (datos, porcentaje):\n"
      ],
      "metadata": {
        "id": "X7gBkkqxWPu5"
      },
      "execution_count": 163,
      "outputs": []
    },
    {
      "cell_type": "markdown",
      "source": [],
      "metadata": {
        "id": "5f040NAKYV-Q"
      }
    },
    {
      "cell_type": "markdown",
      "source": [
        "## Crear widgets\n",
        "\n"
      ],
      "metadata": {
        "id": "V0WD4rGGWRDP"
      }
    },
    {
      "cell_type": "code",
      "source": [
        "# Crear un widget de salida\n",
        "visualizar = widgets.Output()\n",
        "\n",
        "\n",
        "# Función para actualizar y mostrar el contenido dinámicamente en el widget de salida\n",
        "def f_visualizar_datos(datos1, datos2, titulo1, titulo2):\n",
        "    with visualizar:\n",
        "        #global titulo1, titulo2\n",
        "        #titulo1 = \"Primeros 20 registros de datos\"\n",
        "        visualizar.clear_output(wait=True)  # Limpiar el contenido anterior\n",
        "        display(HTML(f\"<h2>{titulo1}</h2>\"))  # Establecer el nuevo título\n",
        "        # Visualizar datos\n",
        "        display(datos1)\n",
        "\n",
        "        #titulo2 = \"Últimos 20 registros de datos\"\n",
        "        display(HTML(f\"<h2>{titulo2}</h2>\"))  # Establecer el nuevo título\n",
        "        # Visualizar datos\n",
        "        display(datos2)\n"
      ],
      "metadata": {
        "id": "QXIgW3zPWSwQ"
      },
      "execution_count": 164,
      "outputs": []
    },
    {
      "cell_type": "markdown",
      "source": [
        "## Cargar datos\n",
        "\n"
      ],
      "metadata": {
        "id": "pr2nFp0KWdw3"
      }
    },
    {
      "cell_type": "code",
      "source": [
        "datos = pd.read_csv(\"https://raw.githubusercontent.com/rpizarrog/innovacion-empresarial/main/datos/temperaturas.csv\")\n",
        "\n",
        "# Llamar a la función para mostrar datos de entrenamiento ordenados por índice\n",
        "f_visualizar_datos(datos.head(20), datos.tail(20), \"Primeros registros de Datos\", \"Últimos registros de Datos\")\n",
        "\n",
        "# Para mostrar el widget de salida\n",
        "display(visualizar)\n",
        "\n",
        "\n"
      ],
      "metadata": {
        "colab": {
          "base_uri": "https://localhost:8080/",
          "height": 1000,
          "referenced_widgets": [
            "ca76744e85284f6c8eb57bb783aa2d48",
            "b1f06fd329ea488c99da1378e2dfb4b0"
          ]
        },
        "id": "MHMVvMHiWfau",
        "outputId": "685255a8-6a59-4da9-8cff-dd4a044ab32b"
      },
      "execution_count": 165,
      "outputs": [
        {
          "output_type": "display_data",
          "data": {
            "text/plain": [
              "Output()"
            ],
            "application/vnd.jupyter.widget-view+json": {
              "version_major": 2,
              "version_minor": 0,
              "model_id": "ca76744e85284f6c8eb57bb783aa2d48"
            }
          },
          "metadata": {}
        }
      ]
    },
    {
      "cell_type": "markdown",
      "source": [
        "## Crear datos de entrenamiento y validación\n",
        "\n"
      ],
      "metadata": {
        "id": "zim1XMAcYW73"
      }
    },
    {
      "cell_type": "code",
      "source": [
        "# Preparar los datos para el modelo\n",
        "X = datos.drop(columns=['fecha', 'temperatura'])  # Variables independientes\n",
        "y = datos['temperatura']  # Variable dependiente\n",
        "\n",
        "# Dividir los datos en conjuntos de entrenamiento y prueba o validación\n",
        "X_train, X_test, y_train, y_test = train_test_split(X, y, test_size=0.3, random_state=2024)\n",
        "\n",
        "f_visualizar_datos(X_train.sort_index().head(20), X_test.sort_index().head(20),\n",
        "                   \"Primeros registros. Datos de entrenamiento\", \"Primeros registros. Datos de validación\")\n",
        "\n",
        "# Para mostrar el widget de salida\n",
        "display(visualizar)\n",
        "\n"
      ],
      "metadata": {
        "colab": {
          "base_uri": "https://localhost:8080/",
          "height": 1000,
          "referenced_widgets": [
            "ca76744e85284f6c8eb57bb783aa2d48",
            "b1f06fd329ea488c99da1378e2dfb4b0"
          ]
        },
        "id": "UNFK8-qZYcbw",
        "outputId": "c7621392-fe80-4d90-8e2e-067b432aebaf"
      },
      "execution_count": 166,
      "outputs": [
        {
          "output_type": "display_data",
          "data": {
            "text/plain": [
              "Output()"
            ],
            "application/vnd.jupyter.widget-view+json": {
              "version_major": 2,
              "version_minor": 0,
              "model_id": "ca76744e85284f6c8eb57bb783aa2d48"
            }
          },
          "metadata": {}
        }
      ]
    },
    {
      "cell_type": "markdown",
      "source": [
        "## Crear modelo\n",
        "\n",
        "$$\n",
        "prediccion = Y = β_0 + β_1{x_1} + β_2{x_2} + β_3{x_3}+ .....β_k{x_k }\n",
        "$$\n",
        "\n",
        "$$\n",
        "\\text{prediccion de temperatura}= Y = β_0 + β_1\\cdot \\text{vel_viento} + β_2\\cdot \\text{presion_atmosferica} + β_3\\cdot \\text{humedad_relativa} + β_4\\cdot \\text{frentes_frios} + β_5\\cdot \\text{radiacion_solar} + β_6\\cdot\\text{luminosidad}+ β_7\\cdot\\text{contaminacion_atmosferica}\n",
        "$$\n",
        "\n",
        "$$\n",
        "\\text{de donde} \\therefore\n",
        "$$\n",
        "\n",
        "\n",
        "$$\n",
        "β_0 \\text{ es el coeficiente intersección o abcisa y ...}\n",
        "$$\n",
        "\n",
        "$$\n",
        "β_1, β_2, β_3, β_4.....β_k\n",
        "$$\n",
        "\n",
        "$$\n",
        "\\text{Son los coeficienes que genera el modelo de regresión múltiple que deben multiplicarse}\n",
        "$$\n",
        "\n",
        "$$\n",
        "\\text{ por el valor de cada variable independiente para hacer las predicciones de Y.}\n",
        "$$\n",
        "\n",
        "\n",
        "\n"
      ],
      "metadata": {
        "id": "DzAMMTICnFNC"
      }
    },
    {
      "cell_type": "code",
      "source": [
        "modelo = LinearRegression()\n",
        "\n",
        "# Entrenar el modelo con los datos de entrenamiento\n",
        "modelo.fit(X_train, y_train)"
      ],
      "metadata": {
        "colab": {
          "base_uri": "https://localhost:8080/",
          "height": 75
        },
        "id": "8-QGwErKqtLT",
        "outputId": "bd033e60-0ac0-47a4-f49f-eec48643adc6"
      },
      "execution_count": 167,
      "outputs": [
        {
          "output_type": "execute_result",
          "data": {
            "text/plain": [
              "LinearRegression()"
            ],
            "text/html": [
              "<style>#sk-container-id-3 {color: black;background-color: white;}#sk-container-id-3 pre{padding: 0;}#sk-container-id-3 div.sk-toggleable {background-color: white;}#sk-container-id-3 label.sk-toggleable__label {cursor: pointer;display: block;width: 100%;margin-bottom: 0;padding: 0.3em;box-sizing: border-box;text-align: center;}#sk-container-id-3 label.sk-toggleable__label-arrow:before {content: \"▸\";float: left;margin-right: 0.25em;color: #696969;}#sk-container-id-3 label.sk-toggleable__label-arrow:hover:before {color: black;}#sk-container-id-3 div.sk-estimator:hover label.sk-toggleable__label-arrow:before {color: black;}#sk-container-id-3 div.sk-toggleable__content {max-height: 0;max-width: 0;overflow: hidden;text-align: left;background-color: #f0f8ff;}#sk-container-id-3 div.sk-toggleable__content pre {margin: 0.2em;color: black;border-radius: 0.25em;background-color: #f0f8ff;}#sk-container-id-3 input.sk-toggleable__control:checked~div.sk-toggleable__content {max-height: 200px;max-width: 100%;overflow: auto;}#sk-container-id-3 input.sk-toggleable__control:checked~label.sk-toggleable__label-arrow:before {content: \"▾\";}#sk-container-id-3 div.sk-estimator input.sk-toggleable__control:checked~label.sk-toggleable__label {background-color: #d4ebff;}#sk-container-id-3 div.sk-label input.sk-toggleable__control:checked~label.sk-toggleable__label {background-color: #d4ebff;}#sk-container-id-3 input.sk-hidden--visually {border: 0;clip: rect(1px 1px 1px 1px);clip: rect(1px, 1px, 1px, 1px);height: 1px;margin: -1px;overflow: hidden;padding: 0;position: absolute;width: 1px;}#sk-container-id-3 div.sk-estimator {font-family: monospace;background-color: #f0f8ff;border: 1px dotted black;border-radius: 0.25em;box-sizing: border-box;margin-bottom: 0.5em;}#sk-container-id-3 div.sk-estimator:hover {background-color: #d4ebff;}#sk-container-id-3 div.sk-parallel-item::after {content: \"\";width: 100%;border-bottom: 1px solid gray;flex-grow: 1;}#sk-container-id-3 div.sk-label:hover label.sk-toggleable__label {background-color: #d4ebff;}#sk-container-id-3 div.sk-serial::before {content: \"\";position: absolute;border-left: 1px solid gray;box-sizing: border-box;top: 0;bottom: 0;left: 50%;z-index: 0;}#sk-container-id-3 div.sk-serial {display: flex;flex-direction: column;align-items: center;background-color: white;padding-right: 0.2em;padding-left: 0.2em;position: relative;}#sk-container-id-3 div.sk-item {position: relative;z-index: 1;}#sk-container-id-3 div.sk-parallel {display: flex;align-items: stretch;justify-content: center;background-color: white;position: relative;}#sk-container-id-3 div.sk-item::before, #sk-container-id-3 div.sk-parallel-item::before {content: \"\";position: absolute;border-left: 1px solid gray;box-sizing: border-box;top: 0;bottom: 0;left: 50%;z-index: -1;}#sk-container-id-3 div.sk-parallel-item {display: flex;flex-direction: column;z-index: 1;position: relative;background-color: white;}#sk-container-id-3 div.sk-parallel-item:first-child::after {align-self: flex-end;width: 50%;}#sk-container-id-3 div.sk-parallel-item:last-child::after {align-self: flex-start;width: 50%;}#sk-container-id-3 div.sk-parallel-item:only-child::after {width: 0;}#sk-container-id-3 div.sk-dashed-wrapped {border: 1px dashed gray;margin: 0 0.4em 0.5em 0.4em;box-sizing: border-box;padding-bottom: 0.4em;background-color: white;}#sk-container-id-3 div.sk-label label {font-family: monospace;font-weight: bold;display: inline-block;line-height: 1.2em;}#sk-container-id-3 div.sk-label-container {text-align: center;}#sk-container-id-3 div.sk-container {/* jupyter's `normalize.less` sets `[hidden] { display: none; }` but bootstrap.min.css set `[hidden] { display: none !important; }` so we also need the `!important` here to be able to override the default hidden behavior on the sphinx rendered scikit-learn.org. See: https://github.com/scikit-learn/scikit-learn/issues/21755 */display: inline-block !important;position: relative;}#sk-container-id-3 div.sk-text-repr-fallback {display: none;}</style><div id=\"sk-container-id-3\" class=\"sk-top-container\"><div class=\"sk-text-repr-fallback\"><pre>LinearRegression()</pre><b>In a Jupyter environment, please rerun this cell to show the HTML representation or trust the notebook. <br />On GitHub, the HTML representation is unable to render, please try loading this page with nbviewer.org.</b></div><div class=\"sk-container\" hidden><div class=\"sk-item\"><div class=\"sk-estimator sk-toggleable\"><input class=\"sk-toggleable__control sk-hidden--visually\" id=\"sk-estimator-id-3\" type=\"checkbox\" checked><label for=\"sk-estimator-id-3\" class=\"sk-toggleable__label sk-toggleable__label-arrow\">LinearRegression</label><div class=\"sk-toggleable__content\"><pre>LinearRegression()</pre></div></div></div></div></div>"
            ]
          },
          "metadata": {},
          "execution_count": 167
        }
      ]
    },
    {
      "cell_type": "markdown",
      "source": [
        "## Hacer predicciones\n",
        "\n",
        "Con los datos de validación relizar las predicciones\n",
        "\n",
        "\n"
      ],
      "metadata": {
        "id": "JKwgxs1vq_uV"
      }
    },
    {
      "cell_type": "code",
      "source": [
        "# Hacer predicciones sobre el conjunto de validación\n",
        "predicciones = modelo.predict(X_test)\n",
        "\n"
      ],
      "metadata": {
        "id": "CVwSDv4-rFJ1"
      },
      "execution_count": 168,
      "outputs": []
    },
    {
      "cell_type": "markdown",
      "source": [
        "## Evaluar el modelo\n"
      ],
      "metadata": {
        "id": "mM3KpZ-irGvj"
      }
    },
    {
      "cell_type": "code",
      "source": [
        "# Calcular y mostrar el Error Cuadrático Medio (MSE) y el Coeficiente de Determinación (R^2)\n",
        "\n",
        "print('Mean Squared Error: MSE', metrics.mean_squared_error(y_test, predicciones))\n",
        "print('Root Mean Squared Error RMSE:', np.sqrt(metrics.mean_squared_error(y_test, predicciones)))\n",
        "\n",
        "r2 = r2_score(y_test, y_pred)\n",
        "\n",
        "print(f\"Coeficiente de Determinación (R^2) r squared: {r2:.2f}\")"
      ],
      "metadata": {
        "colab": {
          "base_uri": "https://localhost:8080/"
        },
        "id": "HyrluORyrInC",
        "outputId": "584bdf14-1470-42c4-92f0-caf97deef42a"
      },
      "execution_count": 171,
      "outputs": [
        {
          "output_type": "stream",
          "name": "stdout",
          "text": [
            "Mean Squared Error: MSE 29.0574858626876\n",
            "Root Mean Squared Error RMSE: 5.390499593051427\n",
            "Coeficiente de Determinación (R^2) r squared: 0.22\n"
          ]
        }
      ]
    },
    {
      "cell_type": "markdown",
      "source": [
        "## Evaluar estadísticamente los coeficientes\n"
      ],
      "metadata": {
        "id": "moaMxaISutwf"
      }
    },
    {
      "cell_type": "code",
      "source": [
        "# Añadir una constante a las variables independientes para incluir el intercepto en el modelo\n",
        "X_train_sm = sm.add_constant(X_train)\n",
        "\n",
        "# Ajustar el modelo y obtener el resumen\n",
        "modelo_sm = sm.OLS(y_train, X_train_sm).fit()\n",
        "resumen_modelo = modelo_sm.summary()\n",
        "\n",
        "print(resumen_modelo)"
      ],
      "metadata": {
        "colab": {
          "base_uri": "https://localhost:8080/"
        },
        "id": "mM_snOUauxhe",
        "outputId": "529eab31-7cc4-4340-e161-a7798a5cfd78"
      },
      "execution_count": 172,
      "outputs": [
        {
          "output_type": "stream",
          "name": "stdout",
          "text": [
            "                            OLS Regression Results                            \n",
            "==============================================================================\n",
            "Dep. Variable:            temperatura   R-squared:                       0.274\n",
            "Model:                            OLS   Adj. R-squared:                  0.271\n",
            "Method:                 Least Squares   F-statistic:                     84.26\n",
            "Date:                Fri, 23 Feb 2024   Prob (F-statistic):          4.43e-104\n",
            "Time:                        02:15:39   Log-Likelihood:                -4784.1\n",
            "No. Observations:                1571   AIC:                             9584.\n",
            "Df Residuals:                    1563   BIC:                             9627.\n",
            "Df Model:                           7                                         \n",
            "Covariance Type:            nonrobust                                         \n",
            "=============================================================================================\n",
            "                                coef    std err          t      P>|t|      [0.025      0.975]\n",
            "---------------------------------------------------------------------------------------------\n",
            "const                        22.1435      4.547      4.870      0.000      13.225      31.062\n",
            "vel_viento                   -0.2855      0.020    -14.099      0.000      -0.325      -0.246\n",
            "presion_atmosferica           0.0013      0.004      0.292      0.770      -0.007       0.010\n",
            "humedad_relativa              0.0026      0.006      0.460      0.645      -0.008       0.014\n",
            "frentes_frios                -4.0343      0.258    -15.628      0.000      -4.541      -3.528\n",
            "radiacion_solar               0.0032      0.001      6.357      0.000       0.002       0.004\n",
            "luminosidad                   0.0372      0.004      8.305      0.000       0.028       0.046\n",
            "contaminacion_atmosferica     0.0075      0.001      8.408      0.000       0.006       0.009\n",
            "==============================================================================\n",
            "Omnibus:                        4.036   Durbin-Watson:                   2.084\n",
            "Prob(Omnibus):                  0.133   Jarque-Bera (JB):                3.908\n",
            "Skew:                           0.089   Prob(JB):                        0.142\n",
            "Kurtosis:                       2.832   Cond. No.                     4.17e+04\n",
            "==============================================================================\n",
            "\n",
            "Notes:\n",
            "[1] Standard Errors assume that the covariance matrix of the errors is correctly specified.\n",
            "[2] The condition number is large, 4.17e+04. This might indicate that there are\n",
            "strong multicollinearity or other numerical problems.\n"
          ]
        }
      ]
    },
    {
      "cell_type": "markdown",
      "source": [
        "# Interpretación\n",
        "\n",
        "\n",
        "El modelo no se acepta porque tiene un 22 % de valor *r square* que significa que tan solo las variables independiente representan o explican aproximadamente el 22% a la variable dependiente temperatura.\n",
        "\n",
        "El valor de RMSE es 5.39, pero tienen que compararse con otros modelos.\n",
        "\n",
        "\n",
        "## Conclusión del chatGPT:\n",
        "\n",
        "Coeficiente de Determinación (R-squared)\n",
        "R-squared: 0.274 indica que el 27.4% de la variabilidad en la temperatura puede ser explicada por las variables independientes en el modelo. Este valor sugiere que, aunque las variables tienen alguna relación con la temperatura, hay una gran cantidad de variabilidad que no está siendo capturada por el modelo.\n",
        "\n",
        "Ajuste del Modelo (Adj. R-squared)\n",
        "Adj. R-squared: 0.271 se ajusta por el número de predictores en el modelo, proporcionando una medida más precisa de la bondad de ajuste, especialmente cuando se compara con modelos que tienen un número diferente de predictores. Este valor cercano al R-squared sugiere que la inclusión de las variables es justificable, pero aún así, el modelo podría mejorarse.\n",
        "\n",
        "F-statistic y Prob (F-statistic)\n",
        "F-statistic: 84.26 y Prob (F-statistic): 4.43e-104 indican la significancia global del modelo. Un F-statistic alto junto con un Prob (F-statistic) extremadamente bajo (prácticamente 0) sugiere que el modelo es estadísticamente significativo a nivel global, es decir, las variables independientes colectivamente tienen un efecto significativo en la variable dependiente.\n",
        "\n",
        "\n",
        "### Coeficientes del Modelo\n",
        "\n",
        "Los coeficientes del modelo muestran la contribución de cada variable independiente a la predicción de la temperatura. Por ejemplo:\n",
        "\n",
        "vel_viento tiene un coeficiente de -0.2855, significando que un aumento de una unidad en la velocidad del viento está asociado con una disminución de 0.2855 unidades en la temperatura. El *p-valor* extremadamente bajo (< 0.05) indica que esta relación es estadísticamente significativa.\n",
        "\n",
        "frentes_frios tiene un efecto notablemente negativo en la temperatura con un coeficiente de -4.0343, lo cual es significativo.\n",
        "\n",
        "Variables como presion_atmosferica y humedad_relativa tienen coeficientes pequeños y *p-valores* altos, indicando que no son estadísticamente significativas en este modelo.\n",
        "\n"
      ],
      "metadata": {
        "id": "97nZG0hEV8-2"
      }
    }
  ]
}