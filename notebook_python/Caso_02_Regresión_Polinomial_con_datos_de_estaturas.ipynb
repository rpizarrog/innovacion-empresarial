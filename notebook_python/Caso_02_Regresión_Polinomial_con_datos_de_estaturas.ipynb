{
  "nbformat": 4,
  "nbformat_minor": 0,
  "metadata": {
    "colab": {
      "provenance": [],
      "authorship_tag": "ABX9TyPudtc4EqSPUrXAdkPrcNOz",
      "include_colab_link": true
    },
    "kernelspec": {
      "name": "python3",
      "display_name": "Python 3"
    },
    "language_info": {
      "name": "python"
    }
  },
  "cells": [
    {
      "cell_type": "markdown",
      "metadata": {
        "id": "view-in-github",
        "colab_type": "text"
      },
      "source": [
        "<a href=\"https://colab.research.google.com/github/rpizarrog/innovacion-empresarial/blob/main/notebook_python/Caso_02_Regresi%C3%B3n_Polinomial_con_datos_de_estaturas.ipynb\" target=\"_parent\"><img src=\"https://colab.research.google.com/assets/colab-badge.svg\" alt=\"Open In Colab\"/></a>"
      ]
    },
    {
      "cell_type": "markdown",
      "source": [
        "# Objetivo\n",
        "\n",
        "Construir e interpretar un modelo de regresión polinomial de segundo nivel, tercer nivel y quinto nivel.\n",
        "\n",
        "\n"
      ],
      "metadata": {
        "id": "Ds4lefCnHmes"
      }
    },
    {
      "cell_type": "markdown",
      "source": [
        "# Descripción\n",
        "\n",
        "* Cargar librerías.\n",
        "* Crear funciones.\n",
        "* Cargar datos.\n",
        "* Crear modelo de regresión polinomial a la segunda potencia.\n",
        "* Identificar métricas *r square* con valor por encima del  50 % para aceptar el modelo y de RMSE cercano a 0 que deberá ser comparado con otro modelo de regresión.\n",
        "* Partir en datos de entrenamiento y datos de validación con el  70 % y  30 %.\n",
        "* Evaluar modelo con datos de entrenamiento con el valor *r square*.\n",
        "* Visualizar curva de regresión con el modelo construído y los datos de entrenamiento.\n",
        "* Realizar predicciones utilizando el modelo con los datos de validación.\n",
        "* Evaluar el modelo con el estadístico *RMSE root mean square error*\n",
        "* Interpretar el caso.\n",
        "\n"
      ],
      "metadata": {
        "id": "6cZkrj6tIbEa"
      }
    },
    {
      "cell_type": "markdown",
      "source": [
        "# Desarrollo\n",
        "\n"
      ],
      "metadata": {
        "id": "_NunzxIlHthm"
      }
    },
    {
      "cell_type": "markdown",
      "source": [
        "## Cargar librerías\n"
      ],
      "metadata": {
        "id": "n_WG5hCNHvA0"
      }
    },
    {
      "cell_type": "code",
      "source": [
        "import pandas as pd\n",
        "import numpy as np\n",
        "from sklearn import linear_model\n",
        "from sklearn.linear_model import LinearRegression\n",
        "from sklearn.preprocessing import PolynomialFeatures # Polinomial\n",
        "\n",
        "\n",
        "import matplotlib.pyplot as plt\n",
        "from sklearn.model_selection import train_test_split\n",
        "from sklearn import metrics\n",
        "from sklearn.metrics import mean_squared_error, r2_score\n",
        "#%matplotlib inline"
      ],
      "metadata": {
        "id": "V6uBll2CHxwr"
      },
      "execution_count": 1,
      "outputs": []
    },
    {
      "cell_type": "markdown",
      "source": [
        "## Crear funciones\n",
        "\n"
      ],
      "metadata": {
        "id": "H5ilw2cZsLYK"
      }
    },
    {
      "cell_type": "code",
      "source": [
        "# Función que devuelve las medias aritméticas y desviaciones estándar de dos variables numéricas de una muestra\n",
        "def f_medias (independiente, dependiente):\n",
        "  medias = [np.mean(independiente), np.mean(dependiente)]\n",
        "  return medias\n",
        "\n",
        "def f_dispersion (x, y, x_nombre, y_nombre):\n",
        "  medias = f_medias(x, y)\n",
        "\n",
        "   # Crear el diagrama de dispersión\n",
        "  plt.scatter(x, y, s = 5)\n",
        "\n",
        "  # Etiquetas y título\n",
        "  plt.xlabel(x_nombre)\n",
        "  plt.ylabel(y_nombre)\n",
        "  plt.title('Diagrama de Dispersión')\n",
        "  plt.axvline(x=medias[0], color='blue', linestyle='--', linewidth=0.5,\n",
        "            label=\"Media \"+ x_nombre + \":\" + str(np.round(medias[0], 2)))\n",
        "  plt.axhline(y=medias[1], color='green', linestyle='--', linewidth=0.5,\n",
        "            label=\"Media \"+ y_nombre+\":\" + str(np.round(medias[1], 2)))\n",
        "  plt.legend()\n",
        "  # Mostrar el diagrama de dispersión\n",
        "  plt.show()\n",
        "\n",
        "# Función que devuelve la covariana y correlación de Pearson y r square de dos variables numéricas de una muestra\n",
        "def f_cov_corr(independiente, dependiente):\n",
        "  covar = np.cov(independiente, dependiente, ddof=1)[0,1]\n",
        "  r = np.corrcoef(independiente, dependiente)[0,1]\n",
        "  r_square = r ** 2\n",
        "  return covar, r, r_square\n",
        "\n",
        "# Función que visualiza la dispersión de los datos y la curva de tendencia\n",
        "\n",
        "def f_regresion_curva_tendencia(modelo, x, y, xlabel, ylabel, grado):\n",
        "  # Obtener el término de intercepción\n",
        "  intercepto = modelo.intercept_\n",
        "  print(f\"Intercepto (β0): {intercepto}\")\n",
        "\n",
        "  # Obtener los coeficientes\n",
        "  coeficientes = modelo.coef_\n",
        "  print(f\"Coeficientes (β1, β2, ...): {coeficientes}\")\n",
        "  # Crear un rango de valores en X para la predicción de la curva de tendencia\n",
        "  x_range = np.linspace(x.min(), x.max(), 100).reshape(-1, 1)\n",
        "\n",
        "  # Transformar los valores de X_range a características polinomiales\n",
        "  poly_transformer = PolynomialFeatures(degree=grado)  # Asume que el modelo es de segundo grado\n",
        "  x_range_poly = poly_transformer.fit_transform(x_range)\n",
        "\n",
        "  # Predecir los valores de y para X_range usando el modelo\n",
        "  predicciones = modelo.predict(x_range_poly)\n",
        "\n",
        "  # Graficar los datos de entrenamiento\n",
        "  plt.scatter(x, y, color='blue', s=5, label='Datos de entrenamiento')\n",
        "\n",
        "  # Graficar la curva de tendencia\n",
        "  plt.plot(x_range, predicciones, color='red', label='Curva de tendencia')\n",
        "\n",
        "  # Añadir etiquetas y leyenda\n",
        "  plt.xlabel(xlabel)\n",
        "  plt.ylabel(ylabel)\n",
        "  plt.title('Regresión Polinomial')\n",
        "  plt.legend()\n",
        "\n",
        "  # Mostrar el gráfico\n",
        "  plt.show()"
      ],
      "metadata": {
        "id": "f1WIo580sPir"
      },
      "execution_count": 2,
      "outputs": []
    },
    {
      "cell_type": "markdown",
      "source": [
        "## Cargar los datos\n"
      ],
      "metadata": {
        "id": "aKskrALaI9Y2"
      }
    },
    {
      "cell_type": "code",
      "source": [
        "datos = datos = pd.read_csv(\"https://raw.githubusercontent.com/rpizarrog/innovacion-empresarial/main/datos/estaturas_pesos.csv\", encoding='latin1')\n",
        "print(datos)"
      ],
      "metadata": {
        "colab": {
          "base_uri": "https://localhost:8080/"
        },
        "id": "i7uH4HczI-0a",
        "outputId": "319fe8b2-43b5-4770-cbd3-79a8a6afb0dd"
      },
      "execution_count": 3,
      "outputs": [
        {
          "output_type": "stream",
          "name": "stdout",
          "text": [
            "    estaturas  pesos\n",
            "0         178     79\n",
            "1         172     75\n",
            "2         160     62\n",
            "3         192    107\n",
            "4         167     72\n",
            "..        ...    ...\n",
            "57        170     75\n",
            "58        180     85\n",
            "59        180     95\n",
            "60        170     75\n",
            "61        172     78\n",
            "\n",
            "[62 rows x 2 columns]\n"
          ]
        }
      ]
    },
    {
      "cell_type": "markdown",
      "source": [
        "## Dispersión de los datos\n",
        "\n"
      ],
      "metadata": {
        "id": "lV0Pa5fjr-ZY"
      }
    },
    {
      "cell_type": "code",
      "source": [
        "estaturas = datos['estaturas'].to_numpy()\n",
        "pesos = datos['pesos'].to_numpy()\n",
        "\n",
        "print (estaturas)\n",
        "print(pesos)\n",
        "\n",
        "f_dispersion(datos['estaturas'], datos['pesos'], \"etaturas\", \"pesos\")"
      ],
      "metadata": {
        "colab": {
          "base_uri": "https://localhost:8080/",
          "height": 614
        },
        "id": "oRedCrJWsAOK",
        "outputId": "1641505f-380c-4d88-a049-cc6b7a23a37a"
      },
      "execution_count": 4,
      "outputs": [
        {
          "output_type": "stream",
          "name": "stdout",
          "text": [
            "[178 172 160 192 167 170 185 175 180 170 180 180 170 183 161 150 162 177\n",
            " 190 165 164 183 175 168 170 175 175 178 170 160 162 166 178 170 163 165\n",
            " 170 167 159 165 181 170 172 171 178 165 162 187 189 174 160 190 155 180\n",
            " 175 170 165 170 180 180 170 172]\n",
            "[ 79  75  62 107  72  52  90  70  85  92  87  82  75  90  65  56  56  82\n",
            "  95  70  80  92  74  65  77  72  65  70  75  65  60  67  75  70  60  72\n",
            "  76  78  60  68  76  60  75  78  76  64  62  87  90  72  54  90  80  80\n",
            "  75  68  80  75  85  95  75  78]\n"
          ]
        },
        {
          "output_type": "display_data",
          "data": {
            "text/plain": [
              "<Figure size 640x480 with 1 Axes>"
            ],
            "image/png": "[encoded data removed]"
          },
          "metadata": {}
        }
      ]
    },
    {
      "cell_type": "markdown",
      "source": [
        "## Crear datos de entrenamiento y validación\n",
        "\n",
        "* Los datos de entrenamiento serán aleatoriamente el 70% de los datos originales.\n",
        "* Los datos de validación o prueba (test) serán aleatoriamente el complemento del 30%.\n",
        "* Los datos de entrenamiento y datos de validación deben\n",
        "set mutuamente excluyentes que signifia que están en uno conjunto o están en el otro.\n",
        "\n",
        "Ahora que se tiene la variable independiente estaturas y la variable dependiente pesos, el siguiente paso es dividir estos datos en conjuntos de entrenamiento y prueba o validación.\n",
        "\n",
        "Se utiiza el método *train_test_split()* que forma parte de la librería Scikit-Learn para dividir los datos en entrenamiento y validación.\n",
        "\n",
        "El argumento *test_size* establece el 30% para datos de validación por lo que el $70$% pertenece a los datos de entrenamiento y el resto a datos de validación o prueba."
      ],
      "metadata": {
        "id": "qxr8t7rbJRmC"
      }
    },
    {
      "cell_type": "code",
      "source": [
        "estaturas_train, estaturas_test, pesos_train, pesos_test = train_test_split(estaturas, pesos, test_size=0.2,\n",
        "                                                                            random_state=2025)\n",
        "\n",
        "# Crear un DataFrame con los datos de entrenamiento\n",
        "print (\"Datos de entrenamiento\")\n",
        "datos_entrenamiento = pd.DataFrame({'estaturas': estaturas_train, 'pesos': pesos_train})\n",
        "\n",
        "# Datos de entrenamiento\n",
        "print(datos_entrenamiento)\n",
        "\n",
        "# Crear un DataFrame con los datos de validación o test\n",
        "datos_validacion = pd.DataFrame({'estaturas': estaturas_test, 'pesos': pesos_test})\n",
        "\n",
        "\n",
        "# Datos de validación\n",
        "print (\"Datos de Validación\")\n",
        "print(datos_validacion)\n"
      ],
      "metadata": {
        "colab": {
          "base_uri": "https://localhost:8080/"
        },
        "id": "M9dJco_jJZGJ",
        "outputId": "65529f6d-c7ae-422d-c8f4-aea0a07867f3"
      },
      "execution_count": 5,
      "outputs": [
        {
          "output_type": "stream",
          "name": "stdout",
          "text": [
            "Datos de entrenamiento\n",
            "    estaturas  pesos\n",
            "0         180     85\n",
            "1         159     60\n",
            "2         174     72\n",
            "3         178     76\n",
            "4         171     78\n",
            "5         166     67\n",
            "6         165     64\n",
            "7         170     52\n",
            "8         183     92\n",
            "9         150     56\n",
            "10        170     77\n",
            "11        189     90\n",
            "12        167     72\n",
            "13        160     54\n",
            "14        180     80\n",
            "15        175     65\n",
            "16        170     68\n",
            "17        183     90\n",
            "18        178     70\n",
            "19        170     92\n",
            "20        170     75\n",
            "21        170     60\n",
            "22        180     82\n",
            "23        172     75\n",
            "24        177     82\n",
            "25        175     72\n",
            "26        170     76\n",
            "27        170     75\n",
            "28        178     79\n",
            "29        162     56\n",
            "30        164     80\n",
            "31        162     62\n",
            "32        168     65\n",
            "33        190     90\n",
            "34        181     76\n",
            "35        170     70\n",
            "36        161     65\n",
            "37        180     87\n",
            "38        167     78\n",
            "39        175     74\n",
            "40        178     75\n",
            "41        180     85\n",
            "42        165     70\n",
            "43        192    107\n",
            "44        165     80\n",
            "45        170     75\n",
            "46        172     78\n",
            "47        190     95\n",
            "48        162     60\n",
            "Datos de Validación\n",
            "    estaturas  pesos\n",
            "0         187     87\n",
            "1         155     80\n",
            "2         175     75\n",
            "3         165     68\n",
            "4         170     75\n",
            "5         172     75\n",
            "6         165     72\n",
            "7         163     60\n",
            "8         160     62\n",
            "9         160     65\n",
            "10        180     95\n",
            "11        185     90\n",
            "12        175     70\n"
          ]
        }
      ]
    },
    {
      "cell_type": "markdown",
      "source": [
        "## r square con los datos de entrenamiento"
      ],
      "metadata": {
        "id": "BKT4X1PP8t3W"
      }
    },
    {
      "cell_type": "code",
      "source": [
        "cova, r, r_square =  f_cov_corr(estaturas_train, pesos_train)\n",
        "print (\"Con los datos de entrenamiento; r square = \", r_square)"
      ],
      "metadata": {
        "colab": {
          "base_uri": "https://localhost:8080/"
        },
        "id": "ChKFSFOX8xuD",
        "outputId": "d57e97f9-48a2-4e78-ba94-8d440edf4c08"
      },
      "execution_count": 6,
      "outputs": [
        {
          "output_type": "stream",
          "name": "stdout",
          "text": [
            "Con los datos de entrenamiento; r square =  0.6206686345839267\n"
          ]
        }
      ]
    },
    {
      "cell_type": "markdown",
      "source": [
        "## Métricas de evaluación\n",
        "\n",
        "El modelo se acepta si el valor de *r square* sobrepasa el  50 % tanto con los datos de entrenamiento como con los datos de validación.\n",
        "\n",
        "El modelo a través de la métrica *root mean square error (RMSE)* que significa que tanto varía las predicciones con respecto a los datos reales se deberá comparar con otros modelos y los mismos datos para evalura su rendimiento."
      ],
      "metadata": {
        "id": "Ls8kjr7q6_ws"
      }
    },
    {
      "cell_type": "markdown",
      "source": [
        "## Construir el modelo polinomial de segundo nivel\n",
        "\n",
        "### Preprocesamiento de los datos\n",
        "\n",
        "Convertir las características de entrada en características polinomiales de segundo grado.\n"
      ],
      "metadata": {
        "id": "sCw_cm4dt3tA"
      }
    },
    {
      "cell_type": "code",
      "source": [
        "# Preprocesamiento - Transformar las características de entrada\n",
        "grado = 2  # Aquí modifiar el grado a tercer nivel o a quinto nivel\n",
        "poly = PolynomialFeatures(degree=grado)\n",
        "estaturas_train_poly = poly.fit_transform(estaturas_train.reshape(-1, 1))\n",
        "estaturas_test_poly = poly.transform(estaturas_test.reshape(-1, 1))"
      ],
      "metadata": {
        "id": "Un22C01luZpP"
      },
      "execution_count": 7,
      "outputs": []
    },
    {
      "cell_type": "markdown",
      "source": [
        "### Construir y entrenar el modelo de regresión lineal\n",
        "\n",
        "Utilizar las características polinomiales para entrenar el modelo.\n",
        "\n"
      ],
      "metadata": {
        "id": "LIBueXjXuMHL"
      }
    },
    {
      "cell_type": "code",
      "source": [
        "# Construir y entrenar el modelo de regresión lineal\n",
        "modelo_polinomial = LinearRegression()\n",
        "modelo_polinomial.fit(estaturas_train_poly, pesos_train)"
      ],
      "metadata": {
        "colab": {
          "base_uri": "https://localhost:8080/",
          "height": 80
        },
        "id": "tQgROJhYue92",
        "outputId": "0f4df010-3cc5-423c-c45a-e634974821d6"
      },
      "execution_count": 8,
      "outputs": [
        {
          "output_type": "execute_result",
          "data": {
            "text/plain": [
              "LinearRegression()"
            ],
            "text/html": [
              "<style>#sk-container-id-1 {\n",
              "  /* Definition of color scheme common for light and dark mode */\n",
              "  --sklearn-color-text: #000;\n",
              "  --sklearn-color-text-muted: #666;\n",
              "  --sklearn-color-line: gray;\n",
              "  /* Definition of color scheme for unfitted estimators */\n",
              "  --sklearn-color-unfitted-level-0: #fff5e6;\n",
              "  --sklearn-color-unfitted-level-1: #f6e4d2;\n",
              "  --sklearn-color-unfitted-level-2: #ffe0b3;\n",
              "  --sklearn-color-unfitted-level-3: chocolate;\n",
              "  /* Definition of color scheme for fitted estimators */\n",
              "  --sklearn-color-fitted-level-0: #f0f8ff;\n",
              "  --sklearn-color-fitted-level-1: #d4ebff;\n",
              "  --sklearn-color-fitted-level-2: #b3dbfd;\n",
              "  --sklearn-color-fitted-level-3: cornflowerblue;\n",
              "\n",
              "  /* Specific color for light theme */\n",
              "  --sklearn-color-text-on-default-background: var(--sg-text-color, var(--theme-code-foreground, var(--jp-content-font-color1, black)));\n",
              "  --sklearn-color-background: var(--sg-background-color, var(--theme-background, var(--jp-layout-color0, white)));\n",
              "  --sklearn-color-border-box: var(--sg-text-color, var(--theme-code-foreground, var(--jp-content-font-color1, black)));\n",
              "  --sklearn-color-icon: #696969;\n",
              "\n",
              "  @media (prefers-color-scheme: dark) {\n",
              "    /* Redefinition of color scheme for dark theme */\n",
              "    --sklearn-color-text-on-default-background: var(--sg-text-color, var(--theme-code-foreground, var(--jp-content-font-color1, white)));\n",
              "    --sklearn-color-background: var(--sg-background-color, var(--theme-background, var(--jp-layout-color0, #111)));\n",
              "    --sklearn-color-border-box: var(--sg-text-color, var(--theme-code-foreground, var(--jp-content-font-color1, white)));\n",
              "    --sklearn-color-icon: #878787;\n",
              "  }\n",
              "}\n",
              "\n",
              "#sk-container-id-1 {\n",
              "  color: var(--sklearn-color-text);\n",
              "}\n",
              "\n",
              "#sk-container-id-1 pre {\n",
              "  padding: 0;\n",
              "}\n",
              "\n",
              "#sk-container-id-1 input.sk-hidden--visually {\n",
              "  border: 0;\n",
              "  clip: rect(1px 1px 1px 1px);\n",
              "  clip: rect(1px, 1px, 1px, 1px);\n",
              "  height: 1px;\n",
              "  margin: -1px;\n",
              "  overflow: hidden;\n",
              "  padding: 0;\n",
              "  position: absolute;\n",
              "  width: 1px;\n",
              "}\n",
              "\n",
              "#sk-container-id-1 div.sk-dashed-wrapped {\n",
              "  border: 1px dashed var(--sklearn-color-line);\n",
              "  margin: 0 0.4em 0.5em 0.4em;\n",
              "  box-sizing: border-box;\n",
              "  padding-bottom: 0.4em;\n",
              "  background-color: var(--sklearn-color-background);\n",
              "}\n",
              "\n",
              "#sk-container-id-1 div.sk-container {\n",
              "  /* jupyter's `normalize.less` sets `[hidden] { display: none; }`\n",
              "     but bootstrap.min.css set `[hidden] { display: none !important; }`\n",
              "     so we also need the `!important` here to be able to override the\n",
              "     default hidden behavior on the sphinx rendered scikit-learn.org.\n",
              "     See: https://github.com/scikit-learn/scikit-learn/issues/21755 */\n",
              "  display: inline-block !important;\n",
              "  position: relative;\n",
              "}\n",
              "\n",
              "#sk-container-id-1 div.sk-text-repr-fallback {\n",
              "  display: none;\n",
              "}\n",
              "\n",
              "div.sk-parallel-item,\n",
              "div.sk-serial,\n",
              "div.sk-item {\n",
              "  /* draw centered vertical line to link estimators */\n",
              "  background-image: linear-gradient(var(--sklearn-color-text-on-default-background), var(--sklearn-color-text-on-default-background));\n",
              "  background-size: 2px 100%;\n",
              "  background-repeat: no-repeat;\n",
              "  background-position: center center;\n",
              "}\n",
              "\n",
              "/* Parallel-specific style estimator block */\n",
              "\n",
              "#sk-container-id-1 div.sk-parallel-item::after {\n",
              "  content: \"\";\n",
              "  width: 100%;\n",
              "  border-bottom: 2px solid var(--sklearn-color-text-on-default-background);\n",
              "  flex-grow: 1;\n",
              "}\n",
              "\n",
              "#sk-container-id-1 div.sk-parallel {\n",
              "  display: flex;\n",
              "  align-items: stretch;\n",
              "  justify-content: center;\n",
              "  background-color: var(--sklearn-color-background);\n",
              "  position: relative;\n",
              "}\n",
              "\n",
              "#sk-container-id-1 div.sk-parallel-item {\n",
              "  display: flex;\n",
              "  flex-direction: column;\n",
              "}\n",
              "\n",
              "#sk-container-id-1 div.sk-parallel-item:first-child::after {\n",
              "  align-self: flex-end;\n",
              "  width: 50%;\n",
              "}\n",
              "\n",
              "#sk-container-id-1 div.sk-parallel-item:last-child::after {\n",
              "  align-self: flex-start;\n",
              "  width: 50%;\n",
              "}\n",
              "\n",
              "#sk-container-id-1 div.sk-parallel-item:only-child::after {\n",
              "  width: 0;\n",
              "}\n",
              "\n",
              "/* Serial-specific style estimator block */\n",
              "\n",
              "#sk-container-id-1 div.sk-serial {\n",
              "  display: flex;\n",
              "  flex-direction: column;\n",
              "  align-items: center;\n",
              "  background-color: var(--sklearn-color-background);\n",
              "  padding-right: 1em;\n",
              "  padding-left: 1em;\n",
              "}\n",
              "\n",
              "\n",
              "/* Toggleable style: style used for estimator/Pipeline/ColumnTransformer box that is\n",
              "clickable and can be expanded/collapsed.\n",
              "- Pipeline and ColumnTransformer use this feature and define the default style\n",
              "- Estimators will overwrite some part of the style using the `sk-estimator` class\n",
              "*/\n",
              "\n",
              "/* Pipeline and ColumnTransformer style (default) */\n",
              "\n",
              "#sk-container-id-1 div.sk-toggleable {\n",
              "  /* Default theme specific background. It is overwritten whether we have a\n",
              "  specific estimator or a Pipeline/ColumnTransformer */\n",
              "  background-color: var(--sklearn-color-background);\n",
              "}\n",
              "\n",
              "/* Toggleable label */\n",
              "#sk-container-id-1 label.sk-toggleable__label {\n",
              "  cursor: pointer;\n",
              "  display: flex;\n",
              "  width: 100%;\n",
              "  margin-bottom: 0;\n",
              "  padding: 0.5em;\n",
              "  box-sizing: border-box;\n",
              "  text-align: center;\n",
              "  align-items: start;\n",
              "  justify-content: space-between;\n",
              "  gap: 0.5em;\n",
              "}\n",
              "\n",
              "#sk-container-id-1 label.sk-toggleable__label .caption {\n",
              "  font-size: 0.6rem;\n",
              "  font-weight: lighter;\n",
              "  color: var(--sklearn-color-text-muted);\n",
              "}\n",
              "\n",
              "#sk-container-id-1 label.sk-toggleable__label-arrow:before {\n",
              "  /* Arrow on the left of the label */\n",
              "  content: \"▸\";\n",
              "  float: left;\n",
              "  margin-right: 0.25em;\n",
              "  color: var(--sklearn-color-icon);\n",
              "}\n",
              "\n",
              "#sk-container-id-1 label.sk-toggleable__label-arrow:hover:before {\n",
              "  color: var(--sklearn-color-text);\n",
              "}\n",
              "\n",
              "/* Toggleable content - dropdown */\n",
              "\n",
              "#sk-container-id-1 div.sk-toggleable__content {\n",
              "  max-height: 0;\n",
              "  max-width: 0;\n",
              "  overflow: hidden;\n",
              "  text-align: left;\n",
              "  /* unfitted */\n",
              "  background-color: var(--sklearn-color-unfitted-level-0);\n",
              "}\n",
              "\n",
              "#sk-container-id-1 div.sk-toggleable__content.fitted {\n",
              "  /* fitted */\n",
              "  background-color: var(--sklearn-color-fitted-level-0);\n",
              "}\n",
              "\n",
              "#sk-container-id-1 div.sk-toggleable__content pre {\n",
              "  margin: 0.2em;\n",
              "  border-radius: 0.25em;\n",
              "  color: var(--sklearn-color-text);\n",
              "  /* unfitted */\n",
              "  background-color: var(--sklearn-color-unfitted-level-0);\n",
              "}\n",
              "\n",
              "#sk-container-id-1 div.sk-toggleable__content.fitted pre {\n",
              "  /* unfitted */\n",
              "  background-color: var(--sklearn-color-fitted-level-0);\n",
              "}\n",
              "\n",
              "#sk-container-id-1 input.sk-toggleable__control:checked~div.sk-toggleable__content {\n",
              "  /* Expand drop-down */\n",
              "  max-height: 200px;\n",
              "  max-width: 100%;\n",
              "  overflow: auto;\n",
              "}\n",
              "\n",
              "#sk-container-id-1 input.sk-toggleable__control:checked~label.sk-toggleable__label-arrow:before {\n",
              "  content: \"▾\";\n",
              "}\n",
              "\n",
              "/* Pipeline/ColumnTransformer-specific style */\n",
              "\n",
              "#sk-container-id-1 div.sk-label input.sk-toggleable__control:checked~label.sk-toggleable__label {\n",
              "  color: var(--sklearn-color-text);\n",
              "  background-color: var(--sklearn-color-unfitted-level-2);\n",
              "}\n",
              "\n",
              "#sk-container-id-1 div.sk-label.fitted input.sk-toggleable__control:checked~label.sk-toggleable__label {\n",
              "  background-color: var(--sklearn-color-fitted-level-2);\n",
              "}\n",
              "\n",
              "/* Estimator-specific style */\n",
              "\n",
              "/* Colorize estimator box */\n",
              "#sk-container-id-1 div.sk-estimator input.sk-toggleable__control:checked~label.sk-toggleable__label {\n",
              "  /* unfitted */\n",
              "  background-color: var(--sklearn-color-unfitted-level-2);\n",
              "}\n",
              "\n",
              "#sk-container-id-1 div.sk-estimator.fitted input.sk-toggleable__control:checked~label.sk-toggleable__label {\n",
              "  /* fitted */\n",
              "  background-color: var(--sklearn-color-fitted-level-2);\n",
              "}\n",
              "\n",
              "#sk-container-id-1 div.sk-label label.sk-toggleable__label,\n",
              "#sk-container-id-1 div.sk-label label {\n",
              "  /* The background is the default theme color */\n",
              "  color: var(--sklearn-color-text-on-default-background);\n",
              "}\n",
              "\n",
              "/* On hover, darken the color of the background */\n",
              "#sk-container-id-1 div.sk-label:hover label.sk-toggleable__label {\n",
              "  color: var(--sklearn-color-text);\n",
              "  background-color: var(--sklearn-color-unfitted-level-2);\n",
              "}\n",
              "\n",
              "/* Label box, darken color on hover, fitted */\n",
              "#sk-container-id-1 div.sk-label.fitted:hover label.sk-toggleable__label.fitted {\n",
              "  color: var(--sklearn-color-text);\n",
              "  background-color: var(--sklearn-color-fitted-level-2);\n",
              "}\n",
              "\n",
              "/* Estimator label */\n",
              "\n",
              "#sk-container-id-1 div.sk-label label {\n",
              "  font-family: monospace;\n",
              "  font-weight: bold;\n",
              "  display: inline-block;\n",
              "  line-height: 1.2em;\n",
              "}\n",
              "\n",
              "#sk-container-id-1 div.sk-label-container {\n",
              "  text-align: center;\n",
              "}\n",
              "\n",
              "/* Estimator-specific */\n",
              "#sk-container-id-1 div.sk-estimator {\n",
              "  font-family: monospace;\n",
              "  border: 1px dotted var(--sklearn-color-border-box);\n",
              "  border-radius: 0.25em;\n",
              "  box-sizing: border-box;\n",
              "  margin-bottom: 0.5em;\n",
              "  /* unfitted */\n",
              "  background-color: var(--sklearn-color-unfitted-level-0);\n",
              "}\n",
              "\n",
              "#sk-container-id-1 div.sk-estimator.fitted {\n",
              "  /* fitted */\n",
              "  background-color: var(--sklearn-color-fitted-level-0);\n",
              "}\n",
              "\n",
              "/* on hover */\n",
              "#sk-container-id-1 div.sk-estimator:hover {\n",
              "  /* unfitted */\n",
              "  background-color: var(--sklearn-color-unfitted-level-2);\n",
              "}\n",
              "\n",
              "#sk-container-id-1 div.sk-estimator.fitted:hover {\n",
              "  /* fitted */\n",
              "  background-color: var(--sklearn-color-fitted-level-2);\n",
              "}\n",
              "\n",
              "/* Specification for estimator info (e.g. \"i\" and \"?\") */\n",
              "\n",
              "/* Common style for \"i\" and \"?\" */\n",
              "\n",
              ".sk-estimator-doc-link,\n",
              "a:link.sk-estimator-doc-link,\n",
              "a:visited.sk-estimator-doc-link {\n",
              "  float: right;\n",
              "  font-size: smaller;\n",
              "  line-height: 1em;\n",
              "  font-family: monospace;\n",
              "  background-color: var(--sklearn-color-background);\n",
              "  border-radius: 1em;\n",
              "  height: 1em;\n",
              "  width: 1em;\n",
              "  text-decoration: none !important;\n",
              "  margin-left: 0.5em;\n",
              "  text-align: center;\n",
              "  /* unfitted */\n",
              "  border: var(--sklearn-color-unfitted-level-1) 1pt solid;\n",
              "  color: var(--sklearn-color-unfitted-level-1);\n",
              "}\n",
              "\n",
              ".sk-estimator-doc-link.fitted,\n",
              "a:link.sk-estimator-doc-link.fitted,\n",
              "a:visited.sk-estimator-doc-link.fitted {\n",
              "  /* fitted */\n",
              "  border: var(--sklearn-color-fitted-level-1) 1pt solid;\n",
              "  color: var(--sklearn-color-fitted-level-1);\n",
              "}\n",
              "\n",
              "/* On hover */\n",
              "div.sk-estimator:hover .sk-estimator-doc-link:hover,\n",
              ".sk-estimator-doc-link:hover,\n",
              "div.sk-label-container:hover .sk-estimator-doc-link:hover,\n",
              ".sk-estimator-doc-link:hover {\n",
              "  /* unfitted */\n",
              "  background-color: var(--sklearn-color-unfitted-level-3);\n",
              "  color: var(--sklearn-color-background);\n",
              "  text-decoration: none;\n",
              "}\n",
              "\n",
              "div.sk-estimator.fitted:hover .sk-estimator-doc-link.fitted:hover,\n",
              ".sk-estimator-doc-link.fitted:hover,\n",
              "div.sk-label-container:hover .sk-estimator-doc-link.fitted:hover,\n",
              ".sk-estimator-doc-link.fitted:hover {\n",
              "  /* fitted */\n",
              "  background-color: var(--sklearn-color-fitted-level-3);\n",
              "  color: var(--sklearn-color-background);\n",
              "  text-decoration: none;\n",
              "}\n",
              "\n",
              "/* Span, style for the box shown on hovering the info icon */\n",
              ".sk-estimator-doc-link span {\n",
              "  display: none;\n",
              "  z-index: 9999;\n",
              "  position: relative;\n",
              "  font-weight: normal;\n",
              "  right: .2ex;\n",
              "  padding: .5ex;\n",
              "  margin: .5ex;\n",
              "  width: min-content;\n",
              "  min-width: 20ex;\n",
              "  max-width: 50ex;\n",
              "  color: var(--sklearn-color-text);\n",
              "  box-shadow: 2pt 2pt 4pt #999;\n",
              "  /* unfitted */\n",
              "  background: var(--sklearn-color-unfitted-level-0);\n",
              "  border: .5pt solid var(--sklearn-color-unfitted-level-3);\n",
              "}\n",
              "\n",
              ".sk-estimator-doc-link.fitted span {\n",
              "  /* fitted */\n",
              "  background: var(--sklearn-color-fitted-level-0);\n",
              "  border: var(--sklearn-color-fitted-level-3);\n",
              "}\n",
              "\n",
              ".sk-estimator-doc-link:hover span {\n",
              "  display: block;\n",
              "}\n",
              "\n",
              "/* \"?\"-specific style due to the `<a>` HTML tag */\n",
              "\n",
              "#sk-container-id-1 a.estimator_doc_link {\n",
              "  float: right;\n",
              "  font-size: 1rem;\n",
              "  line-height: 1em;\n",
              "  font-family: monospace;\n",
              "  background-color: var(--sklearn-color-background);\n",
              "  border-radius: 1rem;\n",
              "  height: 1rem;\n",
              "  width: 1rem;\n",
              "  text-decoration: none;\n",
              "  /* unfitted */\n",
              "  color: var(--sklearn-color-unfitted-level-1);\n",
              "  border: var(--sklearn-color-unfitted-level-1) 1pt solid;\n",
              "}\n",
              "\n",
              "#sk-container-id-1 a.estimator_doc_link.fitted {\n",
              "  /* fitted */\n",
              "  border: var(--sklearn-color-fitted-level-1) 1pt solid;\n",
              "  color: var(--sklearn-color-fitted-level-1);\n",
              "}\n",
              "\n",
              "/* On hover */\n",
              "#sk-container-id-1 a.estimator_doc_link:hover {\n",
              "  /* unfitted */\n",
              "  background-color: var(--sklearn-color-unfitted-level-3);\n",
              "  color: var(--sklearn-color-background);\n",
              "  text-decoration: none;\n",
              "}\n",
              "\n",
              "#sk-container-id-1 a.estimator_doc_link.fitted:hover {\n",
              "  /* fitted */\n",
              "  background-color: var(--sklearn-color-fitted-level-3);\n",
              "}\n",
              "</style><div id=\"sk-container-id-1\" class=\"sk-top-container\"><div class=\"sk-text-repr-fallback\"><pre>LinearRegression()</pre><b>In a Jupyter environment, please rerun this cell to show the HTML representation or trust the notebook. <br />On GitHub, the HTML representation is unable to render, please try loading this page with nbviewer.org.</b></div><div class=\"sk-container\" hidden><div class=\"sk-item\"><div class=\"sk-estimator fitted sk-toggleable\"><input class=\"sk-toggleable__control sk-hidden--visually\" id=\"sk-estimator-id-1\" type=\"checkbox\" checked><label for=\"sk-estimator-id-1\" class=\"sk-toggleable__label fitted sk-toggleable__label-arrow\"><div><div>LinearRegression</div></div><div><a class=\"sk-estimator-doc-link fitted\" rel=\"noreferrer\" target=\"_blank\" href=\"https://scikit-learn.org/1.6/modules/generated/sklearn.linear_model.LinearRegression.html\">?<span>Documentation for LinearRegression</span></a><span class=\"sk-estimator-doc-link fitted\">i<span>Fitted</span></span></div></label><div class=\"sk-toggleable__content fitted\"><pre>LinearRegression()</pre></div> </div></div></div></div>"
            ]
          },
          "metadata": {},
          "execution_count": 8
        }
      ]
    },
    {
      "cell_type": "markdown",
      "source": [
        "### Mostrar la curva de tendencia\n",
        "\n",
        "Mandar llamar la función con el modelo creado\n",
        "\n",
        "\n",
        "$$\n",
        "predicciones = Y = \\beta_0 + \\beta_1\\cdot x_i+\\beta_2\\cdot x_i^2 + … \\beta_n \\cdot x_i^n\n",
        "$$\n",
        "\n",
        "* $Y$ es la predicción.\n",
        "* $β_0$ es el coeficiente de intersección de la abcisa.\n",
        "* $β_1$ y $β_2$ son los coeficientes elevados a la primera y segunda potencia respectivamente.\n",
        "* $x_i$ es el valor de $x_i$ es decir los valores de la variable independiente.\n",
        "\n"
      ],
      "metadata": {
        "id": "H1cb3-PtvgYg"
      }
    },
    {
      "cell_type": "code",
      "source": [
        "f_regresion_curva_tendencia(modelo_polinomial, estaturas_train.reshape(-1, 1),\n",
        "                            pesos_train.reshape(-1, 1),\n",
        "                             \"Estaturas cms.\", \"Pesos kgs.\", grado)\n",
        "\n"
      ],
      "metadata": {
        "colab": {
          "base_uri": "https://localhost:8080/",
          "height": 507
        },
        "id": "kiU2hm_Yvlqz",
        "outputId": "ba60520e-34fa-4696-d5e7-9edac442df63"
      },
      "execution_count": 9,
      "outputs": [
        {
          "output_type": "stream",
          "name": "stdout",
          "text": [
            "Intercepto (β0): 213.4783128008462\n",
            "Coeficientes (β1, β2, ...): [ 0.         -2.63622128  0.01059294]\n"
          ]
        },
        {
          "output_type": "display_data",
          "data": {
            "text/plain": [
              "<Figure size 640x480 with 1 Axes>"
            ],
            "image/png": "[encoded data removed]"
          },
          "metadata": {}
        }
      ]
    },
    {
      "cell_type": "markdown",
      "source": [
        "### Hacer predicciones\n",
        "\n",
        "Usar el conjunto de validación para hacer predicciones y evaluar el rendimiento del modelo.\n",
        "\n",
        "$$\n",
        "\\text{para x = 170 ¿Cual es la predicción aproximadamente?}\n",
        "$$\n",
        "\n",
        "$$\n",
        "\\text{predicción Y} =\n",
        "223.01 + (−2.6361\\times x_i) + (0.0102 \\times x_i^{2}\n",
        " )\\approx\n",
        "$$\n",
        "\n",
        "$$\n",
        "\\text{predicción Y} =\n",
        "223.01 + (−2.6361\\times 170) + (0.0102 \\times 170^{2}\n",
        " )\\approx 71.7039\n",
        "$$\n"
      ],
      "metadata": {
        "id": "-J7apeppuQXJ"
      }
    },
    {
      "cell_type": "code",
      "source": [
        "# 223.01+(−2.6361*170)+(0.0102*170**2)\n",
        "223.01097115218664 +(-2.63613353*170) + (0.01027113 * 170**2)"
      ],
      "metadata": {
        "colab": {
          "base_uri": "https://localhost:8080/"
        },
        "id": "Z7RO63OFVcxI",
        "outputId": "e51b6931-2ae4-4760-8f66-da8357fd5945"
      },
      "execution_count": 10,
      "outputs": [
        {
          "output_type": "execute_result",
          "data": {
            "text/plain": [
              "71.7039280521866"
            ]
          },
          "metadata": {},
          "execution_count": 10
        }
      ]
    },
    {
      "cell_type": "code",
      "source": [
        "# Predicciones\n",
        "print (\"Coeficiene intersección: \", modelo_polinomial.intercept_)\n",
        "print (\"Coeficientes de acuerdo a la potencia\")\n",
        "print (modelo_polinomial.coef_)\n",
        "\n",
        "# Las predicciones\n",
        "predicciones = modelo_polinomial.predict(estaturas_test_poly)\n",
        "print(predicciones)\n",
        "\n"
      ],
      "metadata": {
        "colab": {
          "base_uri": "https://localhost:8080/"
        },
        "id": "TkdlxaI2uv_h",
        "outputId": "79617458-d5d1-4157-a897-dccc5ce3e2d5"
      },
      "execution_count": 11,
      "outputs": [
        {
          "output_type": "stream",
          "name": "stdout",
          "text": [
            "Coeficiene intersección:  213.4783128008462\n",
            "Coeficientes de acuerdo a la potencia\n",
            "[ 0.         -2.63622128  0.01059294]\n",
            "[90.92931118 59.35930086 76.54825267 66.89448317 71.45654452 73.42967017\n",
            " 66.89448317 65.21795973 62.86206862 62.86206862 82.16960762 88.32060937\n",
            " 76.54825267]\n"
          ]
        }
      ]
    },
    {
      "cell_type": "markdown",
      "source": [
        "## Comparaciones\n",
        "\n",
        "Crear un data.frame llamado comparaciones a partir de la creación de un diccionario con los valores reales del conjunto de validacipon y las predicciones calculadas.\n",
        "\n",
        "Con la función flatten().tolist() convierte el arreglo a una lista de una dimensión."
      ],
      "metadata": {
        "id": "VIVG69k9742t"
      }
    },
    {
      "cell_type": "code",
      "source": [
        "diccionario = {'Estatura': estaturas_test.flatten().tolist(),\n",
        "                'Real' : pesos_test.flatten().tolist(),\n",
        "               'Predicho' : predicciones.flatten().tolist() }\n",
        "# diccionario\n",
        "\n",
        "comparaciones = pd.DataFrame(diccionario)\n",
        "print (comparaciones)"
      ],
      "metadata": {
        "colab": {
          "base_uri": "https://localhost:8080/"
        },
        "id": "D-aLvxpS72Jl",
        "outputId": "240638ae-5ffa-4fdc-c1d1-bef6fd43f253"
      },
      "execution_count": 12,
      "outputs": [
        {
          "output_type": "stream",
          "name": "stdout",
          "text": [
            "    Estatura  Real   Predicho\n",
            "0        187    87  90.929311\n",
            "1        155    80  59.359301\n",
            "2        175    75  76.548253\n",
            "3        165    68  66.894483\n",
            "4        170    75  71.456545\n",
            "5        172    75  73.429670\n",
            "6        165    72  66.894483\n",
            "7        163    60  65.217960\n",
            "8        160    62  62.862069\n",
            "9        160    65  62.862069\n",
            "10       180    95  82.169608\n",
            "11       185    90  88.320609\n",
            "12       175    70  76.548253\n"
          ]
        }
      ]
    },
    {
      "cell_type": "markdown",
      "source": [
        "## RMSE\n",
        "\n",
        "¿Qué tanto se desvián las predicciones de los valores reales?\n",
        "\n",
        "Error estándar médio MSE\n",
        "$$\n",
        "MSE = \\frac{\\sum(predicho_i - real_i)^{2}}{n}\n",
        "$$\n",
        "\n",
        "Raiz del error estándar medio\n",
        "\n",
        "$$\n",
        "RMSE = \\sqrt{\\frac{\\sum(predicho_i - real_i)^{2}}{n}}\n",
        "$$"
      ],
      "metadata": {
        "id": "Aa1bVXJD8Fkt"
      }
    },
    {
      "cell_type": "code",
      "source": [
        "print('Mean Absolute Error: MAE', metrics.mean_absolute_error(pesos_test, predicciones))\n",
        "print('Mean Squared Error: MSE', metrics.mean_squared_error(pesos_test, predicciones))\n",
        "print('Root Mean Squared Error RMSE:', np.sqrt(metrics.mean_squared_error(pesos_test, predicciones)))\n",
        "\n",
        "cova, r, r_square =  f_cov_corr(estaturas_test, pesos_test)\n",
        "print (\"Con los datos de validación; r square = \", r_square)\n",
        "\n"
      ],
      "metadata": {
        "colab": {
          "base_uri": "https://localhost:8080/"
        },
        "id": "ifrNyGME8Ijs",
        "outputId": "7ec36785-406a-41e1-a540-ff79a33e1d17"
      },
      "execution_count": 13,
      "outputs": [
        {
          "output_type": "stream",
          "name": "stdout",
          "text": [
            "Mean Absolute Error: MAE 5.132236720809989\n",
            "Mean Squared Error: MSE 56.08042052535306\n",
            "Root Mean Squared Error RMSE: 7.488686168170827\n",
            "Con los datos de validación; r square =  0.5115185155855867\n"
          ]
        }
      ]
    },
    {
      "cell_type": "markdown",
      "source": [
        "## Construir el modelo polinomial de tercer nivel:\n"
      ],
      "metadata": {
        "id": "-bixY2_cQjz4"
      }
    },
    {
      "cell_type": "code",
      "source": [
        "# Preprocesamiento - Transformar las características de entrada\n",
        "grado = 3  # Aquí modifiar el grado a tercer nivel o a quinto nivel\n",
        "poly = PolynomialFeatures(degree=grado)\n",
        "estaturas_train_poly = poly.fit_transform(estaturas_train.reshape(-1, 1))\n",
        "estaturas_test_poly = poly.transform(estaturas_test.reshape(-1, 1))\n",
        "\n",
        "# Construir y entrenar el modelo de regresión lineal\n",
        "modelo_polinomial = LinearRegression()\n",
        "modelo_polinomial.fit(estaturas_train_poly, pesos_train)\n",
        "\n",
        "f_regresion_curva_tendencia(modelo_polinomial, estaturas_train.reshape(-1, 1),\n",
        "                            pesos_train.reshape(-1, 1),\n",
        "                             \"Estaturas cms.\", \"Pesos kgs.\", grado)"
      ],
      "metadata": {
        "colab": {
          "base_uri": "https://localhost:8080/",
          "height": 507
        },
        "id": "NUaqJO9aQnv8",
        "outputId": "ee7f9b73-8b5d-44e0-b6cd-763c72a818ed"
      },
      "execution_count": 18,
      "outputs": [
        {
          "output_type": "stream",
          "name": "stdout",
          "text": [
            "Intercepto (β0): -3056.206175419271\n",
            "Coeficientes (β1, β2, ...): [ 0.00000000e+00  5.47115093e+01 -3.23820552e-01  6.48349398e-04]\n"
          ]
        },
        {
          "output_type": "display_data",
          "data": {
            "text/plain": [
              "<Figure size 640x480 with 1 Axes>"
            ],
            "image/png": "[encoded data removed]"
          },
          "metadata": {}
        }
      ]
    },
    {
      "cell_type": "markdown",
      "source": [
        "### Predicciones  TERCER NIVEL\n"
      ],
      "metadata": {
        "id": "aD4uY8CZRIpk"
      }
    },
    {
      "cell_type": "code",
      "source": [
        "# Predicciones\n",
        "print (\"Coeficiene intersección: \", modelo_polinomial.intercept_)\n",
        "print (\"Coeficientes de acuerdo a la potencia\")\n",
        "print (modelo_polinomial.coef_)\n",
        "\n",
        "# Las predicciones Y COMPARACIONES\n",
        "predicciones = modelo_polinomial.predict(estaturas_test_poly)\n",
        "print(predicciones)\n",
        "\n",
        "diccionario = {'Estatura': estaturas_test.flatten().tolist(),\n",
        "                'Real' : pesos_test.flatten().tolist(),\n",
        "               'Predicho' : predicciones.flatten().tolist() }\n",
        "# diccionario\n",
        "\n",
        "comparaciones = pd.DataFrame(diccionario)\n",
        "print (comparaciones)"
      ],
      "metadata": {
        "colab": {
          "base_uri": "https://localhost:8080/"
        },
        "id": "h4C9p19gRLw1",
        "outputId": "5a5bfa90-01de-4ea1-e92d-7a2b46fc0a11"
      },
      "execution_count": 19,
      "outputs": [
        {
          "output_type": "stream",
          "name": "stdout",
          "text": [
            "Coeficiene intersección:  -3056.206175419271\n",
            "Coeficientes de acuerdo a la potencia\n",
            "[ 0.00000000e+00  5.47115093e+01 -3.23820552e-01  6.48349398e-04]\n",
            "[90.85348859 58.66110351 76.05108346 67.64485353 71.67702748 73.35839336\n",
            " 67.64485353 66.01878822 63.46829955 63.46829955 81.25328352 87.7698897\n",
            " 76.05108346]\n",
            "    Estatura  Real   Predicho\n",
            "0        187    87  90.853489\n",
            "1        155    80  58.661104\n",
            "2        175    75  76.051083\n",
            "3        165    68  67.644854\n",
            "4        170    75  71.677027\n",
            "5        172    75  73.358393\n",
            "6        165    72  67.644854\n",
            "7        163    60  66.018788\n",
            "8        160    62  63.468300\n",
            "9        160    65  63.468300\n",
            "10       180    95  81.253284\n",
            "11       185    90  87.769890\n",
            "12       175    70  76.051083\n"
          ]
        }
      ]
    },
    {
      "cell_type": "markdown",
      "source": [
        "### RMSE Tercer nivel\n"
      ],
      "metadata": {
        "id": "DjZ4WTLuRVei"
      }
    },
    {
      "cell_type": "code",
      "source": [
        "print('Mean Absolute Error: MAE', metrics.mean_absolute_error(pesos_test, predicciones))\n",
        "print('Mean Squared Error: MSE', metrics.mean_squared_error(pesos_test, predicciones))\n",
        "print('Root Mean Squared Error RMSE:', np.sqrt(metrics.mean_squared_error(pesos_test, predicciones)))\n",
        "\n",
        "cova, r, r_square =  f_cov_corr(estaturas_test, pesos_test)\n",
        "print (\"Con los datos de validación; r square = \", r_square)"
      ],
      "metadata": {
        "colab": {
          "base_uri": "https://localhost:8080/"
        },
        "id": "sYKjqZkMRYxx",
        "outputId": "4ce31a97-d1e8-4607-f36a-2223820912ac"
      },
      "execution_count": 20,
      "outputs": [
        {
          "output_type": "stream",
          "name": "stdout",
          "text": [
            "Mean Absolute Error: MAE 5.1511568539748485\n",
            "Mean Squared Error: MSE 59.647857006926685\n",
            "Root Mean Squared Error RMSE: 7.723202509770586\n",
            "Con los datos de validación; r square =  0.5115185155855867\n"
          ]
        }
      ]
    },
    {
      "cell_type": "markdown",
      "source": [
        "* Falta el cuerto nivel\n",
        "* Falta el de quinto nivekl\n",
        "* pendientes"
      ],
      "metadata": {
        "id": "i3ZjLNiFw4J2"
      }
    },
    {
      "cell_type": "markdown",
      "source": [
        "\n",
        "\n",
        "\n",
        "# Interpretación\n",
        "\n",
        "Se cargó un conjunto de datos con variables de interés estaturas y pesos corporales de personas.\n",
        "\n",
        "Se construyó un modelo de regresión polinómica a segundo nivel con datos de entrenamiento. La variable estaturas fué la variable predictora o independiente y la variable peso fue la variable objetivo o dependiente.\n",
        "\n",
        "A partir el modelo de regresión polinómica se extrajeron los coeficientes de la abcisa o intersección y los coeficientes.\n",
        "\n",
        "Coeficiene intersección:  223.01097115218664\n",
        "Coeficientes de acuerdo a la potencia\n",
        "[ 0.         -2.63613353  0.01027113]\n",
        "\n",
        "Estos valores significan los valores para la estimación de acuerdo al modelo.\n",
        "\n",
        "Se visualizó la dispersión de los datos con los valores de entrenamiento y se estimó la curva de regresión presentada también visualmente.\n",
        "\n",
        "Habiendo relizado una evaluación del modelo con datos de entrenamiento o datos que se utilizaron para construir el modelo con el estadístico *r quare* o coeficiente de determinación se encontró que el valor de estaturas representa aproximadamente un  51  % al valor del peso corporal de una persona.\n",
        "\n",
        "Se utilizaron datos de prueba o datos de validación con las mismas variables de estaturas y pesos para construir predicciones.\n",
        "\n",
        "Habiendo relizado una evaluación del modelo con los datos de validación o datos de prueba con el estadístico *r square* o coeficiente de determinación se encontró que el valor de estatura representa aproximadamente un 81 % al valor del peso corporal de una persona.\n",
        "\n",
        "El modelo se acepta datos que el valor de *r square* como métrica establecida inicialmente sobrepasa el 50 % tanto con los datos de entrenamiento como con los datos de validación.\n",
        "\n",
        "El valor de *RMSE root mean square error* o error cuadrático medio significa que tanto el modelo es eficiente y su valor cercano a cero representa esa eficiencia.\n",
        "\n",
        "El valor del modelo polinomial egundo nivel fue de fue de  6.15  aproximadamente y debe ser comparado contra otro modelo para medir su eficiencia en relación con otros.\n",
        "\n",
        "El valor del modelo polinomial egundo nivel fue de fue de  7.33 aproximadamente y debe ser comparado contra otro modelo para medir su eficiencia en relación con otros.\n",
        "\n",
        "\n",
        "Comparado contra el modelo de regresión linel simple es mejor el modelo polinómico de segundo nivel ya que RMSE es menor\n",
        "\n",
        "!Hasta la próxima!"
      ],
      "metadata": {
        "id": "bYzyb5VV9ATq"
      }
    }
  ]
}