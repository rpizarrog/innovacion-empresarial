{
  "nbformat": 4,
  "nbformat_minor": 0,
  "metadata": {
    "colab": {
      "provenance": [],
      "authorship_tag": "ABX9TyM6EPuf0qor5JI0g7NpmLsM",
      "include_colab_link": true
    },
    "kernelspec": {
      "name": "python3",
      "display_name": "Python 3"
    },
    "language_info": {
      "name": "python"
    }
  },
  "cells": [
    {
      "cell_type": "markdown",
      "metadata": {
        "id": "view-in-github",
        "colab_type": "text"
      },
      "source": [
        "<a href=\"https://colab.research.google.com/github/rpizarrog/innovacion-empresarial/blob/main/notebook_python/Caso_02_Regresi%C3%B3n_Polinomial_con_datos_de_estaturas.ipynb\" target=\"_parent\"><img src=\"https://colab.research.google.com/assets/colab-badge.svg\" alt=\"Open In Colab\"/></a>"
      ]
    },
    {
      "cell_type": "markdown",
      "source": [
        "# Objetivo\n",
        "\n",
        "Construir e interpretar un modelo de regresión polinomial de segundo nivel\n",
        "\n",
        "\n"
      ],
      "metadata": {
        "id": "Ds4lefCnHmes"
      }
    },
    {
      "cell_type": "markdown",
      "source": [
        "# Descripción\n",
        "\n",
        "* Cargar librerías.\n",
        "* Crear funciones.\n",
        "* Cargar datos.\n",
        "* Crear modelo de regresión polinomial a la segunda potencia.\n",
        "* Identificar métricas *r square* con valor por encima del  50 % para aceptar el modelo y de RMSE cercano a 0 que deberá ser comparado con otro modelo de regresión.\n",
        "* Partir en datos de entrenamiento y datos de validación con el  70 % y  30 %.\n",
        "* Evaluar modelo con datos de entrenamiento con el valor *r square*.\n",
        "* Visualizar curva de regresión con el modelo construído y los datos de entrenamiento.\n",
        "* Realizar predicciones utilizando el modelo con los datos de validación.\n",
        "* Evaluar el modelo con el estadístico *RMSE root mean square error*\n",
        "* Interpretar el caso.\n",
        "\n"
      ],
      "metadata": {
        "id": "6cZkrj6tIbEa"
      }
    },
    {
      "cell_type": "markdown",
      "source": [
        "# Desarrollo\n",
        "\n"
      ],
      "metadata": {
        "id": "_NunzxIlHthm"
      }
    },
    {
      "cell_type": "markdown",
      "source": [
        "## Cargar librerías\n"
      ],
      "metadata": {
        "id": "n_WG5hCNHvA0"
      }
    },
    {
      "cell_type": "code",
      "source": [
        "import pandas as pd\n",
        "import numpy as np\n",
        "from sklearn import linear_model\n",
        "from sklearn.linear_model import LinearRegression\n",
        "from sklearn.preprocessing import PolynomialFeatures # Polinomial\n",
        "\n",
        "\n",
        "import matplotlib.pyplot as plt\n",
        "from sklearn.model_selection import train_test_split\n",
        "from sklearn import metrics\n",
        "from sklearn.metrics import mean_squared_error, r2_score\n",
        "#%matplotlib inline"
      ],
      "metadata": {
        "id": "V6uBll2CHxwr"
      },
      "execution_count": 131,
      "outputs": []
    },
    {
      "cell_type": "markdown",
      "source": [
        "## Crear funciones\n",
        "\n"
      ],
      "metadata": {
        "id": "H5ilw2cZsLYK"
      }
    },
    {
      "cell_type": "code",
      "source": [
        "# Función que devuelve las medias aritméticas y desviaciones estándar de dos variables numéricas de una muestra\n",
        "def f_medias (independiente, dependiente):\n",
        "  medias = [np.mean(independiente), np.mean(dependiente)]\n",
        "  return medias\n",
        "\n",
        "def f_dispersion (x, y, x_nombre, y_nombre):\n",
        "  medias = f_medias(x, y)\n",
        "\n",
        "   # Crear el diagrama de dispersión\n",
        "  plt.scatter(x, y, s = 5)\n",
        "\n",
        "  # Etiquetas y título\n",
        "  plt.xlabel(x_nombre)\n",
        "  plt.ylabel(y_nombre)\n",
        "  plt.title('Diagrama de Dispersión')\n",
        "  plt.axvline(x=medias[0], color='blue', linestyle='--', linewidth=0.5,\n",
        "            label=\"Media \"+ x_nombre + \":\" + str(np.round(medias[0], 2)))\n",
        "  plt.axhline(y=medias[1], color='green', linestyle='--', linewidth=0.5,\n",
        "            label=\"Media \"+ y_nombre+\":\" + str(np.round(medias[1], 2)))\n",
        "  plt.legend()\n",
        "  # Mostrar el diagrama de dispersión\n",
        "  plt.show()\n",
        "\n",
        "# Función que devuelve la covariana y correlación de Pearson y r square de dos variables numéricas de una muestra\n",
        "def f_cov_corr(independiente, dependiente):\n",
        "  covar = np.cov(independiente, dependiente, ddof=1)[0,1]\n",
        "  r = np.corrcoef(independiente, dependiente)[0,1]\n",
        "  r_square = r ** 2\n",
        "  return covar, r, r_square\n",
        "\n",
        "# Función que visualiza la dispersión de los datos y la curva de tendencia\n",
        "\n",
        "def f_regresion_curva_tendencia(modelo, x, y, xlabel, ylabel, grado):\n",
        "  # Obtener el término de intercepción\n",
        "  intercepto = modelo.intercept_\n",
        "  print(f\"Intercepto (β0): {intercepto}\")\n",
        "\n",
        "  # Obtener los coeficientes\n",
        "  coeficientes = modelo.coef_\n",
        "  print(f\"Coeficientes (β1, β2, ...): {coeficientes}\")\n",
        "  # Crear un rango de valores en X para la predicción de la curva de tendencia\n",
        "  x_range = np.linspace(x.min(), x.max(), 100).reshape(-1, 1)\n",
        "\n",
        "  # Transformar los valores de X_range a características polinomiales\n",
        "  poly_transformer = PolynomialFeatures(degree=grado)  # Asume que el modelo es de segundo grado\n",
        "  x_range_poly = poly_transformer.fit_transform(x_range)\n",
        "\n",
        "  # Predecir los valores de y para X_range usando el modelo\n",
        "  predicciones = modelo.predict(x_range_poly)\n",
        "\n",
        "  # Graficar los datos de entrenamiento\n",
        "  plt.scatter(x, y, color='blue', s=5, label='Datos de entrenamiento')\n",
        "\n",
        "  # Graficar la curva de tendencia\n",
        "  plt.plot(x_range, predicciones, color='red', label='Curva de tendencia')\n",
        "\n",
        "  # Añadir etiquetas y leyenda\n",
        "  plt.xlabel(xlabel)\n",
        "  plt.ylabel(ylabel)\n",
        "  plt.title('Regresión Polinomial')\n",
        "  plt.legend()\n",
        "\n",
        "  # Mostrar el gráfico\n",
        "  plt.show()"
      ],
      "metadata": {
        "id": "f1WIo580sPir"
      },
      "execution_count": 132,
      "outputs": []
    },
    {
      "cell_type": "markdown",
      "source": [
        "## Cargar los datos\n"
      ],
      "metadata": {
        "id": "aKskrALaI9Y2"
      }
    },
    {
      "cell_type": "code",
      "source": [
        "datos = datos = pd.read_csv(\"https://raw.githubusercontent.com/rpizarrog/innovacion-empresarial/main/datos/estaturas_pesos.csv\", encoding='latin1')\n",
        "print(datos)"
      ],
      "metadata": {
        "colab": {
          "base_uri": "https://localhost:8080/"
        },
        "id": "i7uH4HczI-0a",
        "outputId": "f2765580-6f46-4701-bf01-68c50653ded4"
      },
      "execution_count": 133,
      "outputs": [
        {
          "output_type": "stream",
          "name": "stdout",
          "text": [
            "    obs  estaturas  pesos\n",
            "0     1        178     79\n",
            "1     2        172     75\n",
            "2     3        160     62\n",
            "3     4        192    107\n",
            "4     5        167     72\n",
            "5     6        170     52\n",
            "6     7        185     90\n",
            "7     8        175     70\n",
            "8     9        180     85\n",
            "9    10        170     92\n",
            "10   11        180     87\n",
            "11   12        180     82\n",
            "12   13        170     75\n",
            "13   14        183     90\n",
            "14   15        161     65\n",
            "15   16        150     56\n",
            "16   17        162     56\n",
            "17   18        177     82\n",
            "18   19        190     95\n",
            "19   20        165     70\n",
            "20   21        164     80\n",
            "21   22        183     92\n",
            "22   23        175     74\n",
            "23   24        168     65\n",
            "24   25        170     77\n",
            "25   26        175     72\n",
            "26   27        175     65\n",
            "27   28        178     70\n",
            "28   29        170     75\n",
            "29   30        160     65\n",
            "30   31        162     60\n",
            "31   32        166     67\n",
            "32   33        178     75\n",
            "33   34        170     70\n",
            "34   35        163     60\n",
            "35   36        165     72\n",
            "36   37        170     76\n",
            "37   38        167     78\n",
            "38   39        159     60\n",
            "39   40        165     68\n",
            "40   41        181     76\n",
            "41   42        170     60\n",
            "42   43        172     75\n",
            "43   44        171     78\n",
            "44   45        178     76\n",
            "45   46        165     64\n",
            "46   47        162     62\n",
            "47   48        187     87\n",
            "48   49        189     90\n",
            "49   50        174     72\n"
          ]
        }
      ]
    },
    {
      "cell_type": "markdown",
      "source": [
        "## Dispersión de los datos\n",
        "\n"
      ],
      "metadata": {
        "id": "lV0Pa5fjr-ZY"
      }
    },
    {
      "cell_type": "code",
      "source": [
        "estaturas = datos['estaturas'].to_numpy()\n",
        "pesos = datos['pesos'].to_numpy()\n",
        "\n",
        "print (estaturas)\n",
        "print(pesos)\n",
        "\n",
        "f_dispersion(datos['estaturas'], datos['pesos'], \"etaturas\", \"pesos\")"
      ],
      "metadata": {
        "colab": {
          "base_uri": "https://localhost:8080/",
          "height": 582
        },
        "id": "oRedCrJWsAOK",
        "outputId": "9785057a-c7b2-477a-be4d-591d541c6e26"
      },
      "execution_count": 134,
      "outputs": [
        {
          "output_type": "stream",
          "name": "stdout",
          "text": [
            "[178 172 160 192 167 170 185 175 180 170 180 180 170 183 161 150 162 177\n",
            " 190 165 164 183 175 168 170 175 175 178 170 160 162 166 178 170 163 165\n",
            " 170 167 159 165 181 170 172 171 178 165 162 187 189 174]\n",
            "[ 79  75  62 107  72  52  90  70  85  92  87  82  75  90  65  56  56  82\n",
            "  95  70  80  92  74  65  77  72  65  70  75  65  60  67  75  70  60  72\n",
            "  76  78  60  68  76  60  75  78  76  64  62  87  90  72]\n"
          ]
        },
        {
          "output_type": "display_data",
          "data": {
            "text/plain": [
              "<Figure size 640x480 with 1 Axes>"
            ],
            "image/png": "[encoded data removed]"
          },
          "metadata": {}
        }
      ]
    },
    {
      "cell_type": "markdown",
      "source": [
        "## Crear datos de entrenamiento y validación\n",
        "\n",
        "* Los datos de entrenamiento serán aleatoriamente el 70% de los datos originales.\n",
        "* Los datos de validación o prueba (test) serán aleatoriamente el complemento del 30%.\n",
        "* Los datos de entrenamiento y datos de validación deben\n",
        "set mutuamente excluyentes que signifia que están en uno conjunto o están en el otro.\n",
        "\n",
        "Ahora que se tiene la variable independiente estaturas y la variable dependiente pesos, el siguiente paso es dividir estos datos en conjuntos de entrenamiento y prueba o validación.\n",
        "\n",
        "Se utiiza el método *train_test_split()* que forma parte de la librería Scikit-Learn para dividir los datos en entrenamiento y validación.\n",
        "\n",
        "El argumento *test_size* establece el 30% para datos de validación por lo que el $70$% pertenece a los datos de entrenamiento y el resto a datos de validación o prueba."
      ],
      "metadata": {
        "id": "qxr8t7rbJRmC"
      }
    },
    {
      "cell_type": "code",
      "source": [
        "estaturas_train, estaturas_test, pesos_train, pesos_test = train_test_split(estaturas, pesos, test_size=0.3,\n",
        "                                                                            random_state=2024)\n",
        "\n",
        "# Crear un DataFrame con los datos de entrenamiento\n",
        "print (\"Datos de entrenamiento\")\n",
        "datos_entrenamiento = pd.DataFrame({'estaturas': estaturas_train, 'pesos': pesos_train})\n",
        "\n",
        "# Datos de entrenamiento\n",
        "print(datos_entrenamiento)\n",
        "\n",
        "# Crear un DataFrame con los datos de validación o test\n",
        "datos_validacion = pd.DataFrame({'estaturas': estaturas_test, 'pesos': pesos_test})\n",
        "\n",
        "\n",
        "# Datos de validación\n",
        "print (\"Datos de Validación\")\n",
        "print(datos_validacion)\n"
      ],
      "metadata": {
        "colab": {
          "base_uri": "https://localhost:8080/"
        },
        "id": "M9dJco_jJZGJ",
        "outputId": "cf6e86ac-9aa9-4966-87a3-2e50d7cb76d3"
      },
      "execution_count": 135,
      "outputs": [
        {
          "output_type": "stream",
          "name": "stdout",
          "text": [
            "Datos de entrenamiento\n",
            "    estaturas  pesos\n",
            "0         172     75\n",
            "1         170     77\n",
            "2         170     70\n",
            "3         174     72\n",
            "4         167     72\n",
            "5         165     70\n",
            "6         170     52\n",
            "7         159     60\n",
            "8         171     78\n",
            "9         165     64\n",
            "10        164     80\n",
            "11        185     90\n",
            "12        170     92\n",
            "13        168     65\n",
            "14        190     95\n",
            "15        175     74\n",
            "16        175     70\n",
            "17        162     62\n",
            "18        170     75\n",
            "19        180     82\n",
            "20        166     67\n",
            "21        178     76\n",
            "22        162     60\n",
            "23        167     78\n",
            "24        189     90\n",
            "25        160     62\n",
            "26        180     87\n",
            "27        165     72\n",
            "28        172     75\n",
            "29        170     60\n",
            "30        170     76\n",
            "31        178     70\n",
            "32        178     79\n",
            "33        178     75\n",
            "34        180     85\n",
            "Datos de Validación\n",
            "    estaturas  pesos\n",
            "0         175     72\n",
            "1         177     82\n",
            "2         181     76\n",
            "3         165     68\n",
            "4         170     75\n",
            "5         192    107\n",
            "6         183     90\n",
            "7         175     65\n",
            "8         162     56\n",
            "9         163     60\n",
            "10        150     56\n",
            "11        161     65\n",
            "12        183     92\n",
            "13        160     65\n",
            "14        187     87\n"
          ]
        }
      ]
    },
    {
      "cell_type": "markdown",
      "source": [
        "## r square con los datos de entrenamiento"
      ],
      "metadata": {
        "id": "BKT4X1PP8t3W"
      }
    },
    {
      "cell_type": "code",
      "source": [
        "cova, r, r_square =  f_cov_corr(estaturas_train, pesos_train)\n",
        "print (\"Con los datos de entrenamiento; r square = \", r_square)"
      ],
      "metadata": {
        "colab": {
          "base_uri": "https://localhost:8080/"
        },
        "id": "ChKFSFOX8xuD",
        "outputId": "58bd0feb-aab0-4b9b-a09f-69af957ae639"
      },
      "execution_count": 136,
      "outputs": [
        {
          "output_type": "stream",
          "name": "stdout",
          "text": [
            "Con los datos de entrenamiento; r square =  0.5127646600191095\n"
          ]
        }
      ]
    },
    {
      "cell_type": "markdown",
      "source": [
        "## Métricas de evaluacuón\n",
        "\n",
        "El modelo se acepta si el valor de *r square* sobrepasa el  50 % tanto con los datos de entrenamiento como con los datos de validación.\n",
        "\n",
        "El modelo a través de la métrica *root mean square error (RMSE)* que significa que tanto varía las predicciones con respecto a los datos reales se deberá comparar con otros modelos y los mismos datos para evalura su rendimiento."
      ],
      "metadata": {
        "id": "Ls8kjr7q6_ws"
      }
    },
    {
      "cell_type": "markdown",
      "source": [
        "## Construir el modelo polinomial de segundo nivel\n",
        "\n",
        "### Preprocesamiento de los datos\n",
        "\n",
        "Convertir las características de entrada en características polinomiales de segundo grado.\n"
      ],
      "metadata": {
        "id": "sCw_cm4dt3tA"
      }
    },
    {
      "cell_type": "code",
      "source": [
        "# Preprocesamiento - Transformar las características de entrada\n",
        "grado = 2  # Aquí modifiar el grado a tercer nivel o a quinto nivel\n",
        "poly = PolynomialFeatures(degree=grado)\n",
        "estaturas_train_poly = poly.fit_transform(estaturas_train.reshape(-1, 1))\n",
        "estaturas_test_poly = poly.transform(estaturas_test.reshape(-1, 1))"
      ],
      "metadata": {
        "id": "Un22C01luZpP"
      },
      "execution_count": 143,
      "outputs": []
    },
    {
      "cell_type": "markdown",
      "source": [
        "### Construir y entrenar el modelo de regresión lineal\n",
        "\n",
        "Utilizar las características polinomiales para entrenar el modelo.\n",
        "\n"
      ],
      "metadata": {
        "id": "LIBueXjXuMHL"
      }
    },
    {
      "cell_type": "code",
      "source": [
        "# Construir y entrenar el modelo de regresión lineal\n",
        "modelo_polinomial = LinearRegression()\n",
        "modelo_polinomial.fit(estaturas_train_poly, pesos_train)"
      ],
      "metadata": {
        "colab": {
          "base_uri": "https://localhost:8080/",
          "height": 74
        },
        "id": "tQgROJhYue92",
        "outputId": "b445d68e-8f55-4b25-f3b1-24d1ae0d7d64"
      },
      "execution_count": 138,
      "outputs": [
        {
          "output_type": "execute_result",
          "data": {
            "text/plain": [
              "LinearRegression()"
            ],
            "text/html": [
              "<style>#sk-container-id-11 {color: black;background-color: white;}#sk-container-id-11 pre{padding: 0;}#sk-container-id-11 div.sk-toggleable {background-color: white;}#sk-container-id-11 label.sk-toggleable__label {cursor: pointer;display: block;width: 100%;margin-bottom: 0;padding: 0.3em;box-sizing: border-box;text-align: center;}#sk-container-id-11 label.sk-toggleable__label-arrow:before {content: \"▸\";float: left;margin-right: 0.25em;color: #696969;}#sk-container-id-11 label.sk-toggleable__label-arrow:hover:before {color: black;}#sk-container-id-11 div.sk-estimator:hover label.sk-toggleable__label-arrow:before {color: black;}#sk-container-id-11 div.sk-toggleable__content {max-height: 0;max-width: 0;overflow: hidden;text-align: left;background-color: #f0f8ff;}#sk-container-id-11 div.sk-toggleable__content pre {margin: 0.2em;color: black;border-radius: 0.25em;background-color: #f0f8ff;}#sk-container-id-11 input.sk-toggleable__control:checked~div.sk-toggleable__content {max-height: 200px;max-width: 100%;overflow: auto;}#sk-container-id-11 input.sk-toggleable__control:checked~label.sk-toggleable__label-arrow:before {content: \"▾\";}#sk-container-id-11 div.sk-estimator input.sk-toggleable__control:checked~label.sk-toggleable__label {background-color: #d4ebff;}#sk-container-id-11 div.sk-label input.sk-toggleable__control:checked~label.sk-toggleable__label {background-color: #d4ebff;}#sk-container-id-11 input.sk-hidden--visually {border: 0;clip: rect(1px 1px 1px 1px);clip: rect(1px, 1px, 1px, 1px);height: 1px;margin: -1px;overflow: hidden;padding: 0;position: absolute;width: 1px;}#sk-container-id-11 div.sk-estimator {font-family: monospace;background-color: #f0f8ff;border: 1px dotted black;border-radius: 0.25em;box-sizing: border-box;margin-bottom: 0.5em;}#sk-container-id-11 div.sk-estimator:hover {background-color: #d4ebff;}#sk-container-id-11 div.sk-parallel-item::after {content: \"\";width: 100%;border-bottom: 1px solid gray;flex-grow: 1;}#sk-container-id-11 div.sk-label:hover label.sk-toggleable__label {background-color: #d4ebff;}#sk-container-id-11 div.sk-serial::before {content: \"\";position: absolute;border-left: 1px solid gray;box-sizing: border-box;top: 0;bottom: 0;left: 50%;z-index: 0;}#sk-container-id-11 div.sk-serial {display: flex;flex-direction: column;align-items: center;background-color: white;padding-right: 0.2em;padding-left: 0.2em;position: relative;}#sk-container-id-11 div.sk-item {position: relative;z-index: 1;}#sk-container-id-11 div.sk-parallel {display: flex;align-items: stretch;justify-content: center;background-color: white;position: relative;}#sk-container-id-11 div.sk-item::before, #sk-container-id-11 div.sk-parallel-item::before {content: \"\";position: absolute;border-left: 1px solid gray;box-sizing: border-box;top: 0;bottom: 0;left: 50%;z-index: -1;}#sk-container-id-11 div.sk-parallel-item {display: flex;flex-direction: column;z-index: 1;position: relative;background-color: white;}#sk-container-id-11 div.sk-parallel-item:first-child::after {align-self: flex-end;width: 50%;}#sk-container-id-11 div.sk-parallel-item:last-child::after {align-self: flex-start;width: 50%;}#sk-container-id-11 div.sk-parallel-item:only-child::after {width: 0;}#sk-container-id-11 div.sk-dashed-wrapped {border: 1px dashed gray;margin: 0 0.4em 0.5em 0.4em;box-sizing: border-box;padding-bottom: 0.4em;background-color: white;}#sk-container-id-11 div.sk-label label {font-family: monospace;font-weight: bold;display: inline-block;line-height: 1.2em;}#sk-container-id-11 div.sk-label-container {text-align: center;}#sk-container-id-11 div.sk-container {/* jupyter's `normalize.less` sets `[hidden] { display: none; }` but bootstrap.min.css set `[hidden] { display: none !important; }` so we also need the `!important` here to be able to override the default hidden behavior on the sphinx rendered scikit-learn.org. See: https://github.com/scikit-learn/scikit-learn/issues/21755 */display: inline-block !important;position: relative;}#sk-container-id-11 div.sk-text-repr-fallback {display: none;}</style><div id=\"sk-container-id-11\" class=\"sk-top-container\"><div class=\"sk-text-repr-fallback\"><pre>LinearRegression()</pre><b>In a Jupyter environment, please rerun this cell to show the HTML representation or trust the notebook. <br />On GitHub, the HTML representation is unable to render, please try loading this page with nbviewer.org.</b></div><div class=\"sk-container\" hidden><div class=\"sk-item\"><div class=\"sk-estimator sk-toggleable\"><input class=\"sk-toggleable__control sk-hidden--visually\" id=\"sk-estimator-id-11\" type=\"checkbox\" checked><label for=\"sk-estimator-id-11\" class=\"sk-toggleable__label sk-toggleable__label-arrow\">LinearRegression</label><div class=\"sk-toggleable__content\"><pre>LinearRegression()</pre></div></div></div></div></div>"
            ]
          },
          "metadata": {},
          "execution_count": 138
        }
      ]
    },
    {
      "cell_type": "markdown",
      "source": [
        "### Mostrar la curva de tendencia\n",
        "\n",
        "Mandar llamar la función con el modelo creado\n",
        "\n",
        "\n",
        "$$\n",
        "predicciones = Y=β_0 +β_1\\cdot x_i+β_2\\cdot x_i\n",
        "$$\n",
        "\n",
        "* $Y$ es la predicción.\n",
        "* $β_0$ es el coeficiente de intersección de la abcisa.\n",
        "* $β_1$ y $β_2$ son los coeficientes elevados a la primera y segunda potencia respectivamente.\n",
        "* $x_i$ es el valor de $x_i$ es decir los valores de la variable independiente.\n",
        "\n"
      ],
      "metadata": {
        "id": "H1cb3-PtvgYg"
      }
    },
    {
      "cell_type": "code",
      "source": [
        "f_regresion_curva_tendencia(modelo_polinomial, estaturas_train.reshape(-1, 1),\n",
        "                            pesos_train.reshape(-1, 1),\n",
        "                             \"Estaturas cms.\", \"Pesos kgs.\", grado)\n",
        "\n"
      ],
      "metadata": {
        "colab": {
          "base_uri": "https://localhost:8080/",
          "height": 509
        },
        "id": "kiU2hm_Yvlqz",
        "outputId": "f44c9678-4251-4842-fbab-8f01197f3f3d"
      },
      "execution_count": 144,
      "outputs": [
        {
          "output_type": "stream",
          "name": "stdout",
          "text": [
            "Intercepto (β0): 223.01097115218664\n",
            "Coeficientes (β1, β2, ...): [ 0.         -2.63613353  0.01027113]\n"
          ]
        },
        {
          "output_type": "display_data",
          "data": {
            "text/plain": [
              "<Figure size 640x480 with 1 Axes>"
            ],
            "image/png": "[encoded data removed]"
          },
          "metadata": {}
        }
      ]
    },
    {
      "cell_type": "markdown",
      "source": [
        "### Hacer predicciones\n",
        "\n",
        "Usar el conjunto de validación para hacer predicciones y evaluar el rendimiento del modelo.\n",
        "\n",
        "$$\n",
        "\\text{para x = 170 ¿Cual es la predicción aproximadamente?}\n",
        "$$\n",
        "\n",
        "$$\n",
        "\\text{predicción Y} =\n",
        "223.01 + (−2.6361\\times x_i) + (0.0102 \\times x_i\n",
        " )\\approx 71.7039\n",
        "$$\n"
      ],
      "metadata": {
        "id": "-J7apeppuQXJ"
      }
    },
    {
      "cell_type": "code",
      "source": [
        "# Predicciones\n",
        "print (\"Coeficiene intersección: \", modelo_polinomial.intercept_)\n",
        "print (\"Coeficientes de acuerdo a la potencia\")\n",
        "print (modelo_polinomial.coef_)\n",
        "\n",
        "# Las predicciones\n",
        "predicciones = modelo_polinomial.predict(estaturas_test_poly)\n",
        "print(predicciones)\n",
        "\n"
      ],
      "metadata": {
        "colab": {
          "base_uri": "https://localhost:8080/"
        },
        "id": "TkdlxaI2uv_h",
        "outputId": "d18ce92b-ddc6-4bd0-8911-83f59530a184"
      },
      "execution_count": 140,
      "outputs": [
        {
          "output_type": "stream",
          "name": "stdout",
          "text": [
            "Coeficiene intersección:  223.01097115218664\n",
            "Coeficientes de acuerdo a la potencia\n",
            "[ 0.         -2.63613353  0.01027113]\n",
            "[76.24083502 78.19944063 82.36315886 67.68034211 71.70381042 95.50811978\n",
            " 84.56827149 76.24083502 65.51276815 66.21475055 58.69127498 64.831328\n",
            " 84.56827149 64.17043011 89.22500377]\n"
          ]
        }
      ]
    },
    {
      "cell_type": "markdown",
      "source": [
        "## Comparaciones\n",
        "\n",
        "Crear un data.frame llamado comparaciones a partir de la creación de un diccionario con los valores reales del conjunto de validacipon y las predicciones calculadas.\n",
        "\n",
        "Con la función flatten().tolist() convierte el arreglo a una lista de una dimensión."
      ],
      "metadata": {
        "id": "VIVG69k9742t"
      }
    },
    {
      "cell_type": "code",
      "source": [
        "diccionario = {'Estatura': estaturas_test.flatten().tolist(),\n",
        "                'Real' : pesos_test.flatten().tolist(),\n",
        "               'Predicho' : predicciones.flatten().tolist() }\n",
        "# diccionario\n",
        "\n",
        "comparaciones = pd.DataFrame(diccionario)\n",
        "print (comparaciones)"
      ],
      "metadata": {
        "colab": {
          "base_uri": "https://localhost:8080/"
        },
        "id": "D-aLvxpS72Jl",
        "outputId": "cccf39ef-a3f0-4f70-ae25-42291afbe578"
      },
      "execution_count": 141,
      "outputs": [
        {
          "output_type": "stream",
          "name": "stdout",
          "text": [
            "    Estatura  Real   Predicho\n",
            "0        175    72  76.240835\n",
            "1        177    82  78.199441\n",
            "2        181    76  82.363159\n",
            "3        165    68  67.680342\n",
            "4        170    75  71.703810\n",
            "5        192   107  95.508120\n",
            "6        183    90  84.568271\n",
            "7        175    65  76.240835\n",
            "8        162    56  65.512768\n",
            "9        163    60  66.214751\n",
            "10       150    56  58.691275\n",
            "11       161    65  64.831328\n",
            "12       183    92  84.568271\n",
            "13       160    65  64.170430\n",
            "14       187    87  89.225004\n"
          ]
        }
      ]
    },
    {
      "cell_type": "markdown",
      "source": [
        "## RMSE\n",
        "\n",
        "¿Qué tanto se desvián las predicciones de los valores reales?\n",
        "\n",
        "Error sstándar médio MSE\n",
        "$$\n",
        "MSE = \\frac{\\sum(predicho_i - real_i)^{2}}{n}\n",
        "$$\n",
        "\n",
        "Raiz del error estándar medio\n",
        "\n",
        "$$\n",
        "RMSE = \\sqrt{\\frac{\\sum(predicho_i - real_i)^{2}}{n}}\n",
        "$$"
      ],
      "metadata": {
        "id": "Aa1bVXJD8Fkt"
      }
    },
    {
      "cell_type": "code",
      "source": [
        "print('Mean Absolute Error: MAE', metrics.mean_absolute_error(pesos_test, predicciones))\n",
        "print('Mean Squared Error: MSE', metrics.mean_squared_error(pesos_test, predicciones))\n",
        "print('Root Mean Squared Error RMSE:', np.sqrt(metrics.mean_squared_error(pesos_test, predicciones)))\n",
        "\n",
        "cova, r, r_square =  f_cov_corr(estaturas_test, pesos_test)\n",
        "print (\"Con los datos de validación; r square = \", r_square)"
      ],
      "metadata": {
        "colab": {
          "base_uri": "https://localhost:8080/"
        },
        "id": "ifrNyGME8Ijs",
        "outputId": "6374fbba-43ab-4ca1-b9dc-106980230964"
      },
      "execution_count": 142,
      "outputs": [
        {
          "output_type": "stream",
          "name": "stdout",
          "text": [
            "Mean Absolute Error: MAE 5.017240822262355\n",
            "Mean Squared Error: MSE 37.93772257873551\n",
            "Root Mean Squared Error RMSE: 6.159360565735335\n",
            "Con los datos de validación; r square =  0.8102398802359017\n"
          ]
        }
      ]
    },
    {
      "cell_type": "markdown",
      "source": [
        "# Interpretación\n",
        "\n",
        "Se cargó un conjunto de datos con variables de interés estaturas y pesos corporales de personas.\n",
        "\n",
        "Se construyó un modelo de regresión polinómica a segundo nivel con datos de entrenamiento. La variable estaturas fué la variable predictora o independiente y la variable peso fue la variable objetivo o dependiente.\n",
        "\n",
        "A partir el modelo de regresión polinómica se extrajeron los coeficientes de la abcisa o intersección y los coeficientes.\n",
        "\n",
        "Coeficiene intersección:  223.01097115218664\n",
        "Coeficientes de acuerdo a la potencia\n",
        "[ 0.         -2.63613353  0.01027113]\n",
        "\n",
        "Estos valores significan los valores para la estimación de acuerdo al modelo.\n",
        "\n",
        "Se visualizó la dispersión de los datos con los valores de entrenamiento y se estimó la curva de regresión presentada también visualmente.\n",
        "\n",
        "Habiendo relizado una evaluación del modelo con datos de entrenamiento o datos que se utilizaron para construir el modelo con el estadístico *r quare* o coeficiente de determinación se encontró que el valor de estaturas representa aproximadamente un  51  % al valor del peso corporal de una persona.\n",
        "\n",
        "Se utilizaron datos de prueba o datos de validación con las mismas variables de estaturas y pesos para construir predicciones.\n",
        "\n",
        "Habiendo relizado una evaluación del modelo con los datos de validación o datos de prueba con el estadístico *r square* o coeficiente de determinación se encontró que el valor de estatura representa aproximadamente un 81 % al valor del peso corporal de una persona.\n",
        "\n",
        "El modelo se acepta datos que el valor de *r square* como métrica establecida inicialmente sobrepasa el 50 % tanto con los datos de entrenamiento como con los datos de validación.\n",
        "\n",
        "El valor de *RMSE root mean square error* o error cuadrático medio significa eu tanto el modelo es eficiente y su valor cercano a cero representa esa eficiencia. El valor fue de  6.15  aproximadamente y debe ser comparado contra otro modelo para medir su eficiencia en relación con otros.\n",
        "\n",
        "Comparado contra el modelo de regresión linel simple es mejor el modelo polinómico de segundo nivel ya que RMSE es menor\n",
        "\n",
        "!Hasta la próxima!"
      ],
      "metadata": {
        "id": "bYzyb5VV9ATq"
      }
    }
  ]
}