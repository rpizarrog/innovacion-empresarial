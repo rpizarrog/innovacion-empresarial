{
  "nbformat": 4,
  "nbformat_minor": 0,
  "metadata": {
    "colab": {
      "provenance": [],
      "authorship_tag": "ABX9TyOJtLTmMxO3luAfxjRjPFSj",
      "include_colab_link": true
    },
    "kernelspec": {
      "name": "python3",
      "display_name": "Python 3"
    },
    "language_info": {
      "name": "python"
    }
  },
  "cells": [
    {
      "cell_type": "markdown",
      "metadata": {
        "id": "view-in-github",
        "colab_type": "text"
      },
      "source": [
        "<a href=\"https://colab.research.google.com/github/rpizarrog/innovacion-empresarial/blob/main/notebook_python/Caso_02_Regresi%C3%B3n_Polinomial_con_datos_de_estaturas.ipynb\" target=\"_parent\"><img src=\"https://colab.research.google.com/assets/colab-badge.svg\" alt=\"Open In Colab\"/></a>"
      ]
    },
    {
      "cell_type": "markdown",
      "source": [
        "# Objetivo\n",
        "\n",
        "Construir e interpretar un modelo de regresión polinomial de segundo nivel, tercer nivel y quinto nivel.\n",
        "\n",
        "\n"
      ],
      "metadata": {
        "id": "Ds4lefCnHmes"
      }
    },
    {
      "cell_type": "markdown",
      "source": [
        "# Descripción\n",
        "\n",
        "* Cargar librerías.\n",
        "* Crear funciones.\n",
        "* Cargar datos.\n",
        "* Crear modelo de regresión polinomial a la segunda potencia.\n",
        "* Identificar métricas *r square* con valor por encima del  50 % para aceptar el modelo y de RMSE cercano a 0 que deberá ser comparado con otro modelo de regresión.\n",
        "* Partir en datos de entrenamiento y datos de validación con el  70 % y  30 %.\n",
        "* Evaluar modelo con datos de entrenamiento con el valor *r square*.\n",
        "* Visualizar curva de regresión con el modelo construído y los datos de entrenamiento.\n",
        "* Realizar predicciones utilizando el modelo con los datos de validación.\n",
        "* Evaluar el modelo con el estadístico *RMSE root mean square error*\n",
        "* Interpretar el caso.\n",
        "\n"
      ],
      "metadata": {
        "id": "6cZkrj6tIbEa"
      }
    },
    {
      "cell_type": "markdown",
      "source": [
        "# Desarrollo\n",
        "\n"
      ],
      "metadata": {
        "id": "_NunzxIlHthm"
      }
    },
    {
      "cell_type": "markdown",
      "source": [
        "## Cargar librerías\n"
      ],
      "metadata": {
        "id": "n_WG5hCNHvA0"
      }
    },
    {
      "cell_type": "code",
      "source": [
        "import pandas as pd\n",
        "import numpy as np\n",
        "from sklearn import linear_model\n",
        "\n",
        "from collections import Counter as Counter\n",
        "\n",
        "from sklearn.linear_model import LinearRegression\n",
        "from sklearn.preprocessing import PolynomialFeatures # Polinomial\n",
        "import math\n",
        "\n",
        "import matplotlib.pyplot as plt\n",
        "from sklearn.model_selection import train_test_split\n",
        "from sklearn import metrics\n",
        "from sklearn.metrics import mean_squared_error, r2_score\n",
        "#%matplotlib inline"
      ],
      "metadata": {
        "id": "V6uBll2CHxwr"
      },
      "execution_count": null,
      "outputs": []
    },
    {
      "cell_type": "markdown",
      "source": [
        "## Crear funciones\n",
        "\n"
      ],
      "metadata": {
        "id": "H5ilw2cZsLYK"
      }
    },
    {
      "cell_type": "code",
      "source": [
        "# Esta función regresa los datos en formato csv cargados en memoria RAM\n",
        "def f_cargar_datos(ruta):\n",
        "  # Cargar datos de la carpeta sample_data\n",
        "  # datos = pd.read_csv('sample_data/estaturas_pesos.csv')\n",
        "\n",
        "  # cargar datos de github.com enlace en la nube internet\n",
        "  datos = pd.read_csv(ruta)\n",
        "  return datos\n",
        "\n",
        "# Función que devuelve las medias aritméticas y desviaciones estándar de dos variables numéricas de una muestra\n",
        "def f_medias (independiente, dependiente):\n",
        "  medias = [np.mean(independiente), np.mean(dependiente)]\n",
        "  return medias\n",
        "\n",
        "# Función que construye diagrama de dispersión\n",
        "def f_dispersion (x, y, x_nombre, y_nombre):\n",
        "  medias = f_medias(x, y)\n",
        "\n",
        "  cova, r, r_square = f_cov_corr(x, y)   # Crear el diagrama de dispersión\n",
        "  plt.scatter(x, y, s = 5)\n",
        "\n",
        "  # Etiquetas y título\n",
        "  plt.xlabel(x_nombre)\n",
        "  plt.ylabel(y_nombre)\n",
        "  plt.title(print('Diagrama de Dispersión. Corr Pearson'))\n",
        "\n",
        "  plt.axvline(x=medias[0], color='blue', linestyle='--', linewidth=0.5,\n",
        "            label=\"Media \"+ x_nombre + \":\" + str(np.round(medias[0], 2)))\n",
        "  plt.axhline(y=medias[1], color='green', linestyle='--', linewidth=0.5,\n",
        "            label=\"Media \"+ y_nombre+\":\" + str(np.round(medias[1], 2)))\n",
        "  plt.legend()\n",
        "\n",
        "  # Subtítulo debajo del gráfico\n",
        "  plt.figtext(0.5, -0.05, f'R Pearson: {np.round(r, 4)}', ha='center', fontsize=10)\n",
        "\n",
        "  # Mostrar el diagrama de dispersión\n",
        "  plt.show()\n",
        "\n",
        "# Función que devuelve la covariana y correlación de Pearson y r square de dos variables numéricas de una muestra\n",
        "def f_cov_corr(independiente, dependiente):\n",
        "  covar = np.cov(independiente, dependiente, ddof=1)[0,1]\n",
        "  r = np.corrcoef(independiente, dependiente)[0,1]\n",
        "  r_square = r ** 2\n",
        "  return covar, r, r_square\n",
        "\n",
        "# Función que devuelve estad´siticos de una variable numérica\n",
        "def f_media_moda_mediana_n(datos):\n",
        "  # Calcular la media aritmética\n",
        "  media = np.mean(datos)\n",
        "\n",
        "  # Calcular la moda\n",
        "  contador = Counter(datos)\n",
        "  moda = contador.most_common(1)[0][0]\n",
        "\n",
        "  # Calcular la mediana\n",
        "  mediana = np.median(datos)\n",
        "\n",
        "  # ¿Cuántos nnpúmeros son?\n",
        "  n = len(datos)\n",
        "  return media, moda, mediana, n\n",
        "\n",
        "# función que visualiza histograma de una variable numérica en estructira tipo lista\n",
        "# Re Utiliza la función f_media_moda_mediana_n\n",
        "def f_histograma(datos, contexto):\n",
        "  min = np.min(datos)\n",
        "  max = np.max(datos)\n",
        "\n",
        "# Convertir a entero\n",
        "  min = int(min)\n",
        "  max = int(max)\n",
        "\n",
        "  # Calcular el número óptimo de clases usando la regla de Sturges\n",
        "  n = len(datos)\n",
        "  k = int(round(1 + math.log2(n)))\n",
        "\n",
        "  plt.hist(datos, bins=range(min, max, k), edgecolor=\"black\")\n",
        "  plt.xlabel(contexto)\n",
        "\n",
        "  media, moda, mediana, N = f_media_moda_mediana_n(datos)\n",
        "\n",
        "  # Agregar líneas punteadas roja, azul y verde para representar media, mediana y moda\n",
        "  medias = f_media_moda_mediana_n(datos)\n",
        "  plt.axvline(x=media, color='red', linestyle='--', linewidth=2, label=f'Media: {media:.2f}')\n",
        "  plt.axvline(x=mediana, color='blue', linestyle='--', linewidth=2, label=f'Mediana: {mediana:.2f}')\n",
        "  plt.axvline(x=moda, color='yellow', linestyle='--', linewidth=2, label=f'Moda: {moda:.2f}')\n",
        "\n",
        "  plt.ylabel(\"Frecuencia\")\n",
        "  plt.title(\"Distribución de los datos: \"+contexto)\n",
        "\n",
        "  plt.legend()\n",
        "  plt.grid(False)\n",
        "  plt.show()\n",
        "\n",
        "def f_modelo_polinomial(v_independiente, v_dependiente, grado):\n",
        "    \"\"\"\n",
        "    Ajusta un modelo de regresión polinomial.\n",
        "\n",
        "    Parámetros:\n",
        "    - v_independiente: array-like, variable independiente (X)\n",
        "    - v_dependiente: array-like, variable dependiente (y)\n",
        "    - grado: int, grado del polinomio\n",
        "\n",
        "    Retorna:\n",
        "    - modelo_polinomial: modelo de regresión ajustado\n",
        "    - poly: objeto PolynomialFeatures para transformar nuevas entradas\n",
        "    \"\"\"\n",
        "    # Transformar la variable independiente en características polinomiales\n",
        "    poly = PolynomialFeatures(degree=grado)\n",
        "    ind_train_poly = poly.fit_transform(v_independiente.reshape(-1, 1))\n",
        "\n",
        "    # Construcción y entrenamiento del modelo de regresión lineal\n",
        "    modelo_polinomial = LinearRegression()\n",
        "    modelo_polinomial.fit(ind_train_poly, v_dependiente)  # Solo la Y original\n",
        "\n",
        "    return modelo_polinomial, poly  # Devuelve también 'poly' para transformar futuras entradas\n",
        "\n",
        "\n",
        "# Función que visualiza la dispersión de los datos y la curva de tendencia\n",
        "\n",
        "def f_regresion_curva_tendencia(modelo, poly, x, y, xlabel, ylabel):\n",
        "    \"\"\"\n",
        "    Grafica la curva de regresión polinomial y los datos originales.\n",
        "\n",
        "    Parámetros:\n",
        "    - modelo: modelo de regresión polinomial entrenado.\n",
        "    - poly: objeto PolynomialFeatures utilizado para transformar los datos.\n",
        "    - x: array-like, valores de la variable independiente.\n",
        "    - y: array-like, valores de la variable dependiente.\n",
        "    - xlabel: str, etiqueta del eje X.\n",
        "    - ylabel: str, etiqueta del eje Y.\n",
        "    \"\"\"\n",
        "\n",
        "    # Obtener el término de intercepción y coeficientes\n",
        "    intercepto = modelo.intercept_\n",
        "    coeficientes = modelo.coef_\n",
        "    print(f\"Intercepto (β0): {intercepto}\")\n",
        "    print(f\"Coeficientes (β1, β2, ...): {coeficientes}\")\n",
        "\n",
        "    # Crear un rango de valores de X para visualizar la curva\n",
        "    x_range = np.linspace(x.min(), x.max(), 100).reshape(-1, 1)\n",
        "\n",
        "    # Transformar los valores de X_range con el mismo objeto `poly`\n",
        "    x_range_poly = poly.transform(x_range)\n",
        "\n",
        "    # Predecir los valores de y para X_range\n",
        "    predicciones = modelo.predict(x_range_poly)\n",
        "\n",
        "    # Graficar los datos reales\n",
        "    plt.scatter(x, y, color='blue', s=30, label='Datos originales')\n",
        "\n",
        "    # Graficar la curva de regresión polinomial\n",
        "    plt.plot(x_range, predicciones, color='red', label='Curva de tendencia')\n",
        "\n",
        "    # Configurar etiquetas y título\n",
        "    plt.xlabel(xlabel)\n",
        "    plt.ylabel(ylabel)\n",
        "    plt.title('Regresión Polinomial')\n",
        "    plt.legend()\n",
        "    plt.grid()\n",
        "\n",
        "    # Mostrar el gráfico\n",
        "    plt.show()\n",
        "\n",
        "\n"
      ],
      "metadata": {
        "id": "f1WIo580sPir"
      },
      "execution_count": null,
      "outputs": []
    },
    {
      "cell_type": "markdown",
      "source": [
        "## Cargar los datos\n"
      ],
      "metadata": {
        "id": "aKskrALaI9Y2"
      }
    },
    {
      "cell_type": "code",
      "source": [
        "# https://raw.githubusercontent.com/rpizarrog/innovacion-empresarial/refs/heads/main/datos/estaturas_pesos.csv\n",
        "ruta = \"https://raw.githubusercontent.com/rpizarrog/innovacion-empresarial/refs/heads/main/datos/estaturas_pesos.csv\"\n",
        "datos = f_cargar_datos(ruta)\n",
        "\n",
        "print(datos)"
      ],
      "metadata": {
        "id": "i7uH4HczI-0a"
      },
      "execution_count": null,
      "outputs": []
    },
    {
      "cell_type": "markdown",
      "source": [
        "## Mostrar la estructura de los datos"
      ],
      "metadata": {
        "id": "ZuRLnja4WLTK"
      }
    },
    {
      "cell_type": "code",
      "source": [
        "datos.info()"
      ],
      "metadata": {
        "id": "w1TfY1ToWN_S"
      },
      "execution_count": null,
      "outputs": []
    },
    {
      "cell_type": "markdown",
      "source": [
        "\n",
        "## Análisis descriptivo\n",
        "\n",
        "Se presentan los estadísticos mas importantes de las variables de interés con la función *describe()*\n",
        "\n",
        "* Se define independiente = 'estaturas'\n",
        "* Se define dependiente = 'pesos'\n",
        "\n",
        "### Estadísticos"
      ],
      "metadata": {
        "id": "0Kih8GQxWS4S"
      }
    },
    {
      "cell_type": "markdown",
      "source": [
        "## Dispersión de los datos\n",
        "\n"
      ],
      "metadata": {
        "id": "lV0Pa5fjr-ZY"
      }
    },
    {
      "cell_type": "code",
      "source": [
        "# estaturas pesos\n",
        "independiente = 'estaturas'\n",
        "dependiente = 'pesos'\n",
        "\n",
        "datos[[independiente, dependiente]].describe()\n"
      ],
      "metadata": {
        "id": "oRedCrJWsAOK"
      },
      "execution_count": null,
      "outputs": []
    },
    {
      "cell_type": "markdown",
      "source": [
        "## Histogramas\n"
      ],
      "metadata": {
        "id": "Ler_sYQuWgEa"
      }
    },
    {
      "cell_type": "code",
      "source": [
        "f_histograma(datos[independiente], \"Estatura\")\n",
        "\n",
        "f_histograma(datos[dependiente], \"Pesos\")"
      ],
      "metadata": {
        "id": "kpexw9xBWiFE"
      },
      "execution_count": null,
      "outputs": []
    },
    {
      "cell_type": "markdown",
      "source": [
        "## Dispersión de los datos\n"
      ],
      "metadata": {
        "id": "omFsI02NXanp"
      }
    },
    {
      "cell_type": "code",
      "source": [
        "f_dispersion(datos[independiente], datos[dependiente], \"estaturas\", \"pesos\")\n"
      ],
      "metadata": {
        "id": "-PnuavefXctF"
      },
      "execution_count": null,
      "outputs": []
    },
    {
      "cell_type": "markdown",
      "source": [
        "## Crear datos de entrenamiento y validación\n",
        "\n",
        "* Los datos de entrenamiento serán aleatoriamente el 80% de los datos originales.\n",
        "* Los datos de validación o prueba (test) serán aleatoriamente el complemento del 20%.\n",
        "* Los datos de entrenamiento y datos de validación deben\n",
        "ser mutuamente excluyentes que significa que están en uno conjunto o están en el otro.\n",
        "\n",
        "Ahora que se tiene la variable independiente estaturas y la variable dependiente pesos, el siguiente paso es dividir estos datos en conjuntos de entrenamiento y prueba o validación.\n",
        "\n",
        "Se utiiza el método *train_test_split()* que forma parte de la librería Scikit-Learn para dividir los datos en entrenamiento y validación.\n",
        "\n",
        "El argumento *test_size* establece el 20% para datos de validación por lo que el $80$% pertenece a los datos de entrenamiento y el resto a datos de validación o prueba."
      ],
      "metadata": {
        "id": "qxr8t7rbJRmC"
      }
    },
    {
      "cell_type": "code",
      "source": [
        "# Convertir a numpy arrays\n",
        "v_independiente = datos[independiente].to_numpy().reshape(-1, 1)  # Reshape para compatibilidad con sklearn\n",
        "v_dependiente = datos[dependiente].to_numpy()\n",
        "\n",
        "print (v_independiente)\n",
        "print(v_dependiente)"
      ],
      "metadata": {
        "id": "Wlmf8G6HX-yU"
      },
      "execution_count": null,
      "outputs": []
    },
    {
      "cell_type": "code",
      "source": [
        "\n",
        "\n",
        "# División de los datos en entrenamiento (80%) y validación (20%)\n",
        "ind_train, ind_test, dep_train, dep_test = train_test_split(\n",
        "    v_independiente, v_dependiente, test_size=0.20, random_state=2025\n",
        ")\n",
        "\n",
        "# Crear DataFrame con datos de entrenamiento\n",
        "datos_entrenamiento = pd.DataFrame({independiente: ind_train.flatten(), dependiente: dep_train})\n",
        "\n",
        "# Crear DataFrame con datos de validación (corregido)\n",
        "datos_validacion = pd.DataFrame({independiente: ind_test.flatten(), dependiente: dep_test})\n",
        "\n",
        "# Mostrar los primeros valores de cada conjunto\n",
        "print(\"\\nDatos de entrenamiento:\")\n",
        "print(datos_entrenamiento)\n",
        "\n",
        "print(\"\\nDatos de validación:\")\n",
        "print(datos_validacion)\n"
      ],
      "metadata": {
        "id": "M9dJco_jJZGJ"
      },
      "execution_count": null,
      "outputs": []
    },
    {
      "cell_type": "markdown",
      "source": [
        "## r square con los datos de entrenamiento"
      ],
      "metadata": {
        "id": "BKT4X1PP8t3W"
      }
    },
    {
      "cell_type": "code",
      "source": [
        "cova, r, r_square =  f_cov_corr(datos_entrenamiento[independiente], datos_entrenamiento[dependiente])\n",
        "print (\"Con los datos de entrenamiento; r square = \", r_square)"
      ],
      "metadata": {
        "id": "ChKFSFOX8xuD"
      },
      "execution_count": null,
      "outputs": []
    },
    {
      "cell_type": "markdown",
      "source": [
        "## Métricas de evaluación\n",
        "\n",
        "El modelo se acepta si el valor de *r square* sobrepasa el  50 % tanto con los datos de entrenamiento como con los datos de validación.\n",
        "\n",
        "El modelo a través de la métrica *root mean square error (RMSE)* que significa que tanto varía las predicciones con respecto a los datos reales se deberá comparar con otros modelos y los mismos datos para evalura su rendimiento."
      ],
      "metadata": {
        "id": "Ls8kjr7q6_ws"
      }
    },
    {
      "cell_type": "markdown",
      "source": [
        "## Construir el modelo polinomial de segundo nivel\n",
        "\n",
        "### Preprocesamiento de los datos segundo nivel\n",
        "\n",
        "Convertir las características de entrada en características polinomiales de segundo grado.\n"
      ],
      "metadata": {
        "id": "sCw_cm4dt3tA"
      }
    },
    {
      "cell_type": "markdown",
      "source": [
        "### Construir y entrenar el modelo de regresión polinomial segundo grado\n",
        "\n",
        "Utilizar las características polinomiales para entrenar el modelo.\n",
        "\n"
      ],
      "metadata": {
        "id": "LIBueXjXuMHL"
      }
    },
    {
      "cell_type": "markdown",
      "source": [
        "\n",
        "$$\n",
        "predicciones = Y = \\beta_0 + \\beta_1\\cdot x_i+\\beta_2\\cdot x_i^2 + … \\beta_n \\cdot x_i^n\n",
        "$$\n",
        "\n",
        "* $Y$ es la predicción.\n",
        "* $β_0$ es el coeficiente de intersección de la abcisa.\n",
        "* $β_1$ y $β_2$ son los coeficientes elevados a la primera y segunda potencia respectivamente.\n",
        "* $x_i$ es el valor de $x_i$ es decir los valores de la variable independiente.\n",
        "\n"
      ],
      "metadata": {
        "id": "H1cb3-PtvgYg"
      }
    },
    {
      "cell_type": "code",
      "source": [
        "# Ajuste del modelo polinomial de grado 2\n",
        "grado = 2\n",
        "modelo, poly = f_modelo_polinomial(ind_train, dep_train, grado=grado)\n",
        "\n",
        "# Obtener los coeficientes del modelo\n",
        "print(\"Coeficientes:\", modelo.coef_)\n",
        "print(\"Intercepto:\", modelo.intercept_)\n",
        "\n",
        "\n"
      ],
      "metadata": {
        "id": "kiU2hm_Yvlqz"
      },
      "execution_count": null,
      "outputs": []
    },
    {
      "cell_type": "markdown",
      "source": [
        "#### Curva de tendencia segundo nivel\n",
        "\n"
      ],
      "metadata": {
        "id": "YNipsOCCfQwq"
      }
    },
    {
      "cell_type": "code",
      "source": [
        "f_regresion_curva_tendencia(modelo, poly, ind_train, dep_train, xlabel=independiente, ylabel=dependiente)"
      ],
      "metadata": {
        "id": "AB7Lp6O9fS9l"
      },
      "execution_count": null,
      "outputs": []
    },
    {
      "cell_type": "markdown",
      "source": [
        "#### Hacer predicciones con 170 segundo nivel\n",
        "\n",
        "Usar el conjunto de validación para hacer predicciones y evaluar el rendimiento del modelo.\n",
        "\n",
        "$$\n",
        "\\text{para x = 170 ¿Cual es la predicción aproximadamente?}\n",
        "$$\n",
        "\n",
        "$$\n",
        "\\text{predicción Y} =\n",
        "213.4783 + (-2.6362\\times x_i) + (0.0105 \\times x_i^{2}\n",
        " )\\approx\n",
        "$$\n",
        "\n",
        "$$\n",
        "\\text{predicción Y} =\n",
        "213.4783 + (-2.6362\\times 170) + (0.0105 \\times 170^{2}\n",
        " )\\approx\n",
        "$$\n"
      ],
      "metadata": {
        "id": "-J7apeppuQXJ"
      }
    },
    {
      "cell_type": "code",
      "source": [
        "# 213.4783128008462 +(-2.63622128*170) + (0.01059294 * 170**2)\n",
        "213.4783128008462 +(-2.63622128*170) + (0.01059294 * 170**2)"
      ],
      "metadata": {
        "id": "Z7RO63OFVcxI"
      },
      "execution_count": null,
      "outputs": []
    },
    {
      "cell_type": "markdown",
      "source": [
        "#### Predicciones segundo nivel\n",
        "\n",
        "Se hacen predicciones con datos de validación"
      ],
      "metadata": {
        "id": "-YebhFOngFHA"
      }
    },
    {
      "cell_type": "code",
      "source": [
        "# Las predicciones\n",
        "# Transformar los datos de validación usando el mismo `poly` entrenado\n",
        "ind_test_poly = poly.transform(ind_test)\n",
        "\n",
        "# Realizar predicciones con el modelo polinomial\n",
        "predicciones = modelo.predict(ind_test_poly)\n",
        "\n",
        "# Mostrar las predicciones\n",
        "print(\"\\nPredicciones en los datos de validación:\")\n",
        "print(predicciones)\n",
        "\n",
        "\n"
      ],
      "metadata": {
        "id": "TkdlxaI2uv_h"
      },
      "execution_count": null,
      "outputs": []
    },
    {
      "cell_type": "markdown",
      "source": [
        "#### Comparaciones segundo nivel\n",
        "\n",
        "Crear un data.frame llamado comparaciones a partir de la creación de un diccionario con los valores reales del conjunto de validacipon y las predicciones calculadas.\n",
        "\n",
        "Con la función flatten().tolist() convierte el arreglo a una lista de una dimensión."
      ],
      "metadata": {
        "id": "VIVG69k9742t"
      }
    },
    {
      "cell_type": "code",
      "source": [
        "diccionario = {'Estatura': ind_test.flatten().tolist(),\n",
        "                'Real' : dep_test.flatten().tolist(),\n",
        "               'Predicho' : predicciones.flatten().tolist() }\n",
        "# diccionario\n",
        "\n",
        "comparaciones = pd.DataFrame(diccionario)\n",
        "print (comparaciones)"
      ],
      "metadata": {
        "id": "D-aLvxpS72Jl"
      },
      "execution_count": null,
      "outputs": []
    },
    {
      "cell_type": "markdown",
      "source": [
        "#### RMSE segundo nivel\n",
        "\n",
        "¿Qué tanto se desvián las predicciones de los valores reales?\n",
        "\n",
        "Error estándar médio MSE\n",
        "$$\n",
        "MSE = \\frac{\\sum(predicho_i - real_i)^{2}}{n}\n",
        "$$\n",
        "\n",
        "Raiz del error estándar medio\n",
        "\n",
        "$$\n",
        "RMSE = \\sqrt{\\frac{\\sum(predicho_i - real_i)^{2}}{n}}\n",
        "$$"
      ],
      "metadata": {
        "id": "Aa1bVXJD8Fkt"
      }
    },
    {
      "cell_type": "code",
      "source": [
        "print('Mean Absolute Error: MAE', metrics.mean_absolute_error(dep_test, predicciones))\n",
        "print('Mean Squared Error: MSE', metrics.mean_squared_error(dep_test, predicciones))\n",
        "print('Root Mean Squared Error RMSE:', np.sqrt(metrics.mean_squared_error(dep_test, predicciones)))\n",
        "\n",
        "cova, r, r_square =  f_cov_corr(ind_test.flatten(), dep_test.flatten())\n",
        "print (\"r square = \", r_square)\n",
        "\n"
      ],
      "metadata": {
        "id": "ifrNyGME8Ijs"
      },
      "execution_count": null,
      "outputs": []
    },
    {
      "cell_type": "markdown",
      "source": [
        "### Construir y entrenar el modelo de regresión polinomial tercer grado\n"
      ],
      "metadata": {
        "id": "-bixY2_cQjz4"
      }
    },
    {
      "cell_type": "code",
      "source": [
        "# Ajuste del modelo polinomial de grado 3\n",
        "grado = 3\n",
        "modelo, poly = f_modelo_polinomial(ind_train, dep_train, grado=grado)\n",
        "\n",
        "# Obtener los coeficientes del modelo\n",
        "print(\"Coeficientes:\", modelo.coef_)\n",
        "print(\"Intercepto:\", modelo.intercept_)"
      ],
      "metadata": {
        "id": "oV9O9euLncPg"
      },
      "execution_count": null,
      "outputs": []
    },
    {
      "cell_type": "markdown",
      "source": [
        "#### Curva de tendencia tercer grado\n"
      ],
      "metadata": {
        "id": "MN8MT3w0nlv8"
      }
    },
    {
      "cell_type": "code",
      "source": [
        "f_regresion_curva_tendencia(modelo, poly, ind_train, dep_train, xlabel=independiente, ylabel=dependiente)"
      ],
      "metadata": {
        "id": "uWYI_8kznnW8"
      },
      "execution_count": null,
      "outputs": []
    },
    {
      "cell_type": "markdown",
      "source": [
        "#### Predicciones tercer grado\n",
        "\n",
        "Se hacen predicciones con datos de validación"
      ],
      "metadata": {
        "id": "18IFhRrEnu6s"
      }
    },
    {
      "cell_type": "code",
      "source": [
        "# Las predicciones\n",
        "# Transformar los datos de validación usando el mismo `poly` entrenado\n",
        "ind_test_poly = poly.transform(ind_test)\n",
        "\n",
        "# Realizar predicciones con el modelo polinomial\n",
        "predicciones = modelo.predict(ind_test_poly)\n",
        "\n",
        "# Mostrar las predicciones\n",
        "print(\"\\nPredicciones en los datos de validación:\")\n",
        "print(predicciones)"
      ],
      "metadata": {
        "id": "DZyuvnR3nvuv"
      },
      "execution_count": null,
      "outputs": []
    },
    {
      "cell_type": "code",
      "source": [
        "diccionario = {'Estatura': ind_test.flatten().tolist(),\n",
        "                'Real' : dep_test.flatten().tolist(),\n",
        "               'Predicho' : predicciones.flatten().tolist() }\n",
        "# diccionario\n",
        "\n",
        "comparaciones = pd.DataFrame(diccionario)\n",
        "print (comparaciones)"
      ],
      "metadata": {
        "id": "-j215TxRn2kf"
      },
      "execution_count": null,
      "outputs": []
    },
    {
      "cell_type": "markdown",
      "source": [
        "#### RMSE tercer grado\n"
      ],
      "metadata": {
        "id": "xR6u0_v4n5tt"
      }
    },
    {
      "cell_type": "code",
      "source": [
        "print('Mean Absolute Error: MAE', metrics.mean_absolute_error(dep_test, predicciones))\n",
        "print('Mean Squared Error: MSE', metrics.mean_squared_error(dep_test, predicciones))\n",
        "print('Root Mean Squared Error RMSE:', np.sqrt(metrics.mean_squared_error(dep_test, predicciones)))\n",
        "\n",
        "cova, r, r_square =  f_cov_corr(ind_test.flatten(), dep_test.flatten())\n",
        "print (\"r square = \", r_square)"
      ],
      "metadata": {
        "id": "Yz1EFZPLn7V9"
      },
      "execution_count": null,
      "outputs": []
    },
    {
      "cell_type": "markdown",
      "source": [
        "### Construir y entrenar el modelo de regresión polinomial cuarto grado\n",
        "\n",
        "pendiente\n"
      ],
      "metadata": {
        "id": "yOEQlx_sqNHb"
      }
    },
    {
      "cell_type": "code",
      "source": [
        "# Ajuste del modelo polinomial de grado 3\n",
        "grado = 4\n",
        "modelo, poly = f_modelo_polinomial(ind_train, dep_train, grado=grado)\n",
        "\n",
        "# Obtener los coeficientes del modelo\n",
        "print(\"Coeficientes:\", modelo.coef_)\n",
        "print(\"Intercepto:\", modelo.intercept_)"
      ],
      "metadata": {
        "id": "SfFTyJg72rig"
      },
      "execution_count": null,
      "outputs": []
    },
    {
      "cell_type": "code",
      "source": [
        "f_regresion_curva_tendencia(modelo, poly, ind_train, dep_train, xlabel=independiente, ylabel=dependiente)"
      ],
      "metadata": {
        "id": "VUivlPFl2tco"
      },
      "execution_count": null,
      "outputs": []
    },
    {
      "cell_type": "code",
      "source": [
        "# Las predicciones\n",
        "# Transformar los datos de validación usando el mismo `poly` entrenado\n",
        "ind_test_poly = poly.transform(ind_test)\n",
        "\n",
        "# Realizar predicciones con el modelo polinomial\n",
        "predicciones = modelo.predict(ind_test_poly)\n",
        "\n",
        "# Mostrar las predicciones\n",
        "print(\"\\nPredicciones en los datos de validación:\")\n",
        "print(predicciones)"
      ],
      "metadata": {
        "id": "PgMRAlrF22aD"
      },
      "execution_count": null,
      "outputs": []
    },
    {
      "cell_type": "code",
      "source": [
        "diccionario = {'Estatura': ind_test.flatten().tolist(),\n",
        "                'Real' : dep_test.flatten().tolist(),\n",
        "               'Predicho' : predicciones.flatten().tolist() }\n",
        "# diccionario\n",
        "\n",
        "comparaciones = pd.DataFrame(diccionario)\n",
        "print (comparaciones)"
      ],
      "metadata": {
        "id": "PzUb6fGx2zcJ"
      },
      "execution_count": null,
      "outputs": []
    },
    {
      "cell_type": "code",
      "source": [
        "print('Mean Absolute Error: MAE', metrics.mean_absolute_error(dep_test, predicciones))\n",
        "print('Mean Squared Error: MSE', metrics.mean_squared_error(dep_test, predicciones))\n",
        "print('Root Mean Squared Error RMSE:', np.sqrt(metrics.mean_squared_error(dep_test, predicciones)))\n",
        "\n",
        "cova, r, r_square =  f_cov_corr(ind_test.flatten(), dep_test.flatten())\n",
        "print (\"r square = \", r_square)"
      ],
      "metadata": {
        "id": "n5pFR0jp27M4"
      },
      "execution_count": null,
      "outputs": []
    },
    {
      "cell_type": "markdown",
      "source": [
        "### Construir y entrenar el modelo de regresión polinomial quinto grado\n",
        "\n",
        "peendiente"
      ],
      "metadata": {
        "id": "-UCbS1JPqOts"
      }
    },
    {
      "cell_type": "code",
      "source": [
        "# Ajuste del modelo polinomial de grado 3\n",
        "grado = 5\n",
        "modelo, poly = f_modelo_polinomial(ind_train, dep_train, grado=grado)\n",
        "\n",
        "# Obtener los coeficientes del modelo\n",
        "print(\"Coeficientes:\", modelo.coef_)\n",
        "print(\"Intercepto:\", modelo.intercept_)"
      ],
      "metadata": {
        "colab": {
          "base_uri": "https://localhost:8080/"
        },
        "id": "8eHvxWq73N6e",
        "outputId": "442918cb-211c-412e-e385-4db6037e7ece"
      },
      "execution_count": 58,
      "outputs": [
        {
          "output_type": "stream",
          "name": "stdout",
          "text": [
            "Coeficientes: [ 0.00000000e+00 -4.17252514e-02 -3.55171998e+00  4.22736378e-02\n",
            " -1.88146297e-04  2.97137246e-07]\n",
            "Intercepto: 9986.272164522676\n"
          ]
        }
      ]
    },
    {
      "cell_type": "code",
      "source": [
        "f_regresion_curva_tendencia(modelo, poly, ind_train, dep_train, xlabel=independiente, ylabel=dependiente)"
      ],
      "metadata": {
        "colab": {
          "base_uri": "https://localhost:8080/",
          "height": 525
        },
        "id": "bZ-HbemH3N6e",
        "outputId": "1efc562c-0bed-4c49-db27-6b046bca9b86"
      },
      "execution_count": 59,
      "outputs": [
        {
          "output_type": "stream",
          "name": "stdout",
          "text": [
            "Intercepto (β0): 9986.272164522676\n",
            "Coeficientes (β1, β2, ...): [ 0.00000000e+00 -4.17252514e-02 -3.55171998e+00  4.22736378e-02\n",
            " -1.88146297e-04  2.97137246e-07]\n"
          ]
        },
        {
          "output_type": "display_data",
          "data": {
            "text/plain": [
              "<Figure size 640x480 with 1 Axes>"
            ],
            "image/png": "[encoded data removed]"
          },
          "metadata": {}
        }
      ]
    },
    {
      "cell_type": "code",
      "source": [
        "# Las predicciones\n",
        "# Transformar los datos de validación usando el mismo `poly` entrenado\n",
        "ind_test_poly = poly.transform(ind_test)\n",
        "\n",
        "# Realizar predicciones con el modelo polinomial\n",
        "predicciones = modelo.predict(ind_test_poly)\n",
        "\n",
        "# Mostrar las predicciones\n",
        "print(\"\\nPredicciones en los datos de validación:\")\n",
        "print(predicciones)"
      ],
      "metadata": {
        "colab": {
          "base_uri": "https://localhost:8080/"
        },
        "id": "FSczqBqv3N6e",
        "outputId": "fa8e1c35-67c8-49cf-852c-4e9d2eaec2ab"
      },
      "execution_count": 60,
      "outputs": [
        {
          "output_type": "stream",
          "name": "stdout",
          "text": [
            "\n",
            "Predicciones en los datos de validación:\n",
            "[89.34885854 57.02494474 76.56740573 67.44528664 72.42557441 74.16846204\n",
            " 67.44528664 65.25572228 61.92672343 61.92672343 80.53690502 86.07792861\n",
            " 76.56740573]\n"
          ]
        }
      ]
    },
    {
      "cell_type": "code",
      "source": [
        "diccionario = {'Estatura': ind_test.flatten().tolist(),\n",
        "                'Real' : dep_test.flatten().tolist(),\n",
        "               'Predicho' : predicciones.flatten().tolist() }\n",
        "# diccionario\n",
        "\n",
        "comparaciones = pd.DataFrame(diccionario)\n",
        "print (comparaciones)"
      ],
      "metadata": {
        "id": "xIl8muq73N6f"
      },
      "execution_count": null,
      "outputs": []
    },
    {
      "cell_type": "code",
      "source": [
        "print('Mean Absolute Error: MAE', metrics.mean_absolute_error(dep_test, predicciones))\n",
        "print('Mean Squared Error: MSE', metrics.mean_squared_error(dep_test, predicciones))\n",
        "print('Root Mean Squared Error RMSE:', np.sqrt(metrics.mean_squared_error(dep_test, predicciones)))\n",
        "\n",
        "cova, r, r_square =  f_cov_corr(ind_test.flatten(), dep_test.flatten())\n",
        "print (\"r square = \", r_square)"
      ],
      "metadata": {
        "colab": {
          "base_uri": "https://localhost:8080/"
        },
        "id": "TgOevNkR3N6f",
        "outputId": "80db2292-4959-415c-fb6c-77dd25ce8c80"
      },
      "execution_count": 61,
      "outputs": [
        {
          "output_type": "stream",
          "name": "stdout",
          "text": [
            "Mean Absolute Error: MAE 5.289350563727567\n",
            "Mean Squared Error: MSE 66.84360754556671\n",
            "Root Mean Squared Error RMSE: 8.175794000925336\n",
            "r square =  0.5115185155855867\n"
          ]
        }
      ]
    },
    {
      "cell_type": "markdown",
      "source": [
        "\n",
        "\n",
        "\n",
        "# Interpretación\n",
        "\n",
        "Se cargó un conjunto de datos con variables de interés estaturas y pesos corporales de personas.\n",
        "\n",
        "Se construyó un modelo de regresión polinómica a segundo nivel con datos de entrenamiento. La variable estaturas fué la variable predictora o independiente y la variable peso fue la variable objetivo o dependiente.\n",
        "\n",
        "A partir el modelo de regresión polinómica se extrajeron los coeficientes de la abcisa o intersección y los coeficientes.\n",
        "\n",
        "Coeficiene intersección:  223.01097115218664\n",
        "Coeficientes de acuerdo a la  segunda potencia\n",
        "[ 0.         -2.63613353  0.01027113]\n",
        "\n",
        "Estos valores significan los valores para la estimación de la curva de acuerdo al modelo.\n",
        "\n",
        "Se visualizó la dispersión de los datos con los valores de entrenamiento y se estimó la curva de regresión presentada también visualmente.\n",
        "\n",
        "Habiendo relizado una evaluación del modelo con datos de entrenamiento o datos que se utilizaron para construir el modelo con el estadístico *r square* o coeficiente de determinación se encontró que el valor de estaturas representa aproximadamente un  62  % al valor del peso corporal de una persona.\n",
        "\n",
        "Se utilizaron datos de prueba o datos de validación con las mismas variables de estaturas y pesos para construir predicciones.\n",
        "\n",
        "Habiendo relizado una evaluación del modelo con los datos de validación o datos de prueba con el estadístico *r square* o coeficiente de determinación se encontró que el valor de estatura representa aproximadamente un 51 % al valor del peso corporal de una persona.\n",
        "\n",
        "El modelo se acepta datos que el valor de *r square* como métrica establecida inicialmente sobrepasa el 50 % tanto con los datos de entrenamiento como con los datos de validación.\n",
        "\n",
        "El valor de *RMSE root mean square error* o error cuadrático medio significa que tanto el modelo es eficiente y su valor cercano a cero representa esa eficiencia.\n",
        "\n",
        "El valor del modelo polinomial segundo nivel fue de fue de  7.48  aproximadamente y debe ser comparado contra otro modelo para medir su eficiencia en relación con otros.\n",
        "\n",
        "El valor del modelo polinomial tercer grado de fue de  7.72 aproximadamente y debe ser comparado contra otro modelo para medir su eficiencia en relación con otros.\n",
        "\n",
        "Comparado contra el modelo de regresión linel simple es mejor el modelo polinómico de segundo nivel ya que RMSE es menor.\n",
        "\n",
        "Evaluación de modelos de regresión en datos bivariados\n",
        "\n",
        "* Se identifican los estadísticos que permiten evaluar el rendimiento de modelos de regresión que realizan predicciones de pesos de personas como variable dependiente y estaturas como variable independiente.\n",
        "* Se analizaron 62 observaciones, dos variables estaturas y pesos.\n",
        "* Se hizo una partición de datos de entrenamiento 80% y 20% para datos de validación con una semilla de 2025 para la selección aleatoria de los datos.\n",
        "* Se hizo la evaluación usando programación Python.\n",
        "\n",
        "Los resultados se muestran en la Tabla\n",
        "\n",
        "Para cada modelo se calcula *R Square con datos de entrenamiento*; \t*R Square con datos de validación* y el estadístico *RMSE*\n",
        "\n",
        "* Regresión Lineal Simple\t62%\t51%\t8.0441\n",
        "* Polinomial Segundo Grado\t62%\t51%\t7.4886\n",
        "* **Polinomial Tercer Grado\t62%\t51%\t7.7232**\n",
        "* Polinomial Cuarto Grado\t62%\t51%\t8.2320\n",
        "* Polinomial Quinto Grado\t62%\t51%\t8.1757\n",
        "\n",
        "\n",
        "El modelo mas eficiente para estos datos y de acuerdo al valor RMSE fue el de algoritmo **Polinomial de Tercer Grado.**\n",
        "\n",
        "\n",
        "!Hasta la próxima!"
      ],
      "metadata": {
        "id": "bYzyb5VV9ATq"
      }
    }
  ]
}