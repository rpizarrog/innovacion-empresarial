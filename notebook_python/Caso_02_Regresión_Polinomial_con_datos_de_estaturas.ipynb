{
  "nbformat": 4,
  "nbformat_minor": 0,
  "metadata": {
    "colab": {
      "provenance": [],
      "authorship_tag": "ABX9TyPXAcwT46umB+XBYFStrPK/",
      "include_colab_link": true
    },
    "kernelspec": {
      "name": "python3",
      "display_name": "Python 3"
    },
    "language_info": {
      "name": "python"
    }
  },
  "cells": [
    {
      "cell_type": "markdown",
      "metadata": {
        "id": "view-in-github",
        "colab_type": "text"
      },
      "source": [
        "<a href=\"https://colab.research.google.com/github/rpizarrog/innovacion-empresarial/blob/main/notebook_python/Caso_02_Regresi%C3%B3n_Polinomial_con_datos_de_estaturas.ipynb\" target=\"_parent\"><img src=\"https://colab.research.google.com/assets/colab-badge.svg\" alt=\"Open In Colab\"/></a>"
      ]
    },
    {
      "cell_type": "markdown",
      "source": [
        "# Objetivo\n",
        "\n",
        "Construir e interpretar un modelo de regresión polinomial de segundo nivel, tercer nivel y quinto nivel.\n",
        "\n",
        "\n"
      ],
      "metadata": {
        "id": "Ds4lefCnHmes"
      }
    },
    {
      "cell_type": "markdown",
      "source": [
        "# Descripción\n",
        "\n",
        "* Cargar librerías.\n",
        "* Crear funciones.\n",
        "* Cargar datos.\n",
        "* Crear modelo de regresión polinomial a la segunda potencia.\n",
        "* Identificar métricas *r square* con valor por encima del  50 % para aceptar el modelo y de RMSE cercano a 0 que deberá ser comparado con otro modelo de regresión.\n",
        "* Partir en datos de entrenamiento y datos de validación con el  70 % y  30 %.\n",
        "* Evaluar modelo con datos de entrenamiento con el valor *r square*.\n",
        "* Visualizar curva de regresión con el modelo construído y los datos de entrenamiento.\n",
        "* Realizar predicciones utilizando el modelo con los datos de validación.\n",
        "* Evaluar el modelo con el estadístico *RMSE root mean square error*\n",
        "* Interpretar el caso.\n",
        "\n"
      ],
      "metadata": {
        "id": "6cZkrj6tIbEa"
      }
    },
    {
      "cell_type": "markdown",
      "source": [
        "# Desarrollo\n",
        "\n"
      ],
      "metadata": {
        "id": "_NunzxIlHthm"
      }
    },
    {
      "cell_type": "markdown",
      "source": [
        "## Cargar librerías\n"
      ],
      "metadata": {
        "id": "n_WG5hCNHvA0"
      }
    },
    {
      "cell_type": "code",
      "source": [
        "import pandas as pd\n",
        "import numpy as np\n",
        "from sklearn import linear_model\n",
        "\n",
        "from collections import Counter as Counter\n",
        "\n",
        "from sklearn.linear_model import LinearRegression\n",
        "from sklearn.preprocessing import PolynomialFeatures # Polinomial\n",
        "import math\n",
        "\n",
        "import matplotlib.pyplot as plt\n",
        "from sklearn.model_selection import train_test_split\n",
        "from sklearn import metrics\n",
        "from sklearn.metrics import mean_squared_error, r2_score\n",
        "#%matplotlib inline"
      ],
      "metadata": {
        "id": "V6uBll2CHxwr"
      },
      "execution_count": 25,
      "outputs": []
    },
    {
      "cell_type": "markdown",
      "source": [
        "## Crear funciones\n",
        "\n"
      ],
      "metadata": {
        "id": "H5ilw2cZsLYK"
      }
    },
    {
      "cell_type": "code",
      "source": [
        "# Esta función regresa los datos en formato csv cargados en memoria RAM\n",
        "def f_cargar_datos(ruta):\n",
        "  # Cargar datos de la carpeta sample_data\n",
        "  # datos = pd.read_csv('sample_data/estaturas_pesos.csv')\n",
        "\n",
        "  # cargar datos de github.com enlace en la nube internet\n",
        "  datos = pd.read_csv(ruta)\n",
        "  return datos\n",
        "\n",
        "# Función que devuelve las medias aritméticas y desviaciones estándar de dos variables numéricas de una muestra\n",
        "def f_medias (independiente, dependiente):\n",
        "  medias = [np.mean(independiente), np.mean(dependiente)]\n",
        "  return medias\n",
        "\n",
        "# Función que construye diagrama de dispersión\n",
        "def f_dispersion (x, y, x_nombre, y_nombre):\n",
        "  medias = f_medias(x, y)\n",
        "\n",
        "  cova, r, r_square = f_cov_corr(x, y)   # Crear el diagrama de dispersión\n",
        "  plt.scatter(x, y, s = 5)\n",
        "\n",
        "  # Etiquetas y título\n",
        "  plt.xlabel(x_nombre)\n",
        "  plt.ylabel(y_nombre)\n",
        "  plt.title(print('Diagrama de Dispersión. Corr Pearson'))\n",
        "\n",
        "  plt.axvline(x=medias[0], color='blue', linestyle='--', linewidth=0.5,\n",
        "            label=\"Media \"+ x_nombre + \":\" + str(np.round(medias[0], 2)))\n",
        "  plt.axhline(y=medias[1], color='green', linestyle='--', linewidth=0.5,\n",
        "            label=\"Media \"+ y_nombre+\":\" + str(np.round(medias[1], 2)))\n",
        "  plt.legend()\n",
        "\n",
        "  # Subtítulo debajo del gráfico\n",
        "  plt.figtext(0.5, -0.05, f'R Pearson: {np.round(r, 4)}', ha='center', fontsize=10)\n",
        "\n",
        "  # Mostrar el diagrama de dispersión\n",
        "  plt.show()\n",
        "\n",
        "# Función que devuelve la covariana y correlación de Pearson y r square de dos variables numéricas de una muestra\n",
        "def f_cov_corr(independiente, dependiente):\n",
        "  covar = np.cov(independiente, dependiente, ddof=1)[0,1]\n",
        "  r = np.corrcoef(independiente, dependiente)[0,1]\n",
        "  r_square = r ** 2\n",
        "  return covar, r, r_square\n",
        "\n",
        "# Función que devuelve estad´siticos de una variable numérica\n",
        "def f_media_moda_mediana_n(datos):\n",
        "  # Calcular la media aritmética\n",
        "  media = np.mean(datos)\n",
        "\n",
        "  # Calcular la moda\n",
        "  contador = Counter(datos)\n",
        "  moda = contador.most_common(1)[0][0]\n",
        "\n",
        "  # Calcular la mediana\n",
        "  mediana = np.median(datos)\n",
        "\n",
        "  # ¿Cuántos nnpúmeros son?\n",
        "  n = len(datos)\n",
        "  return media, moda, mediana, n\n",
        "\n",
        "# función que visualiza histograma de una variable numérica en estructira tipo lista\n",
        "# Re Utiliza la función f_media_moda_mediana_n\n",
        "def f_histograma(datos, contexto):\n",
        "  min = np.min(datos)\n",
        "  max = np.max(datos)\n",
        "\n",
        "# Convertir a entero\n",
        "  min = int(min)\n",
        "  max = int(max)\n",
        "\n",
        "  # Calcular el número óptimo de clases usando la regla de Sturges\n",
        "  n = len(datos)\n",
        "  k = int(round(1 + math.log2(n)))\n",
        "\n",
        "  plt.hist(datos, bins=range(min, max, k), edgecolor=\"black\")\n",
        "  plt.xlabel(contexto)\n",
        "\n",
        "  media, moda, mediana, N = f_media_moda_mediana_n(datos)\n",
        "\n",
        "  # Agregar líneas punteadas roja, azul y verde para representar media, mediana y moda\n",
        "  medias = f_media_moda_mediana_n(datos)\n",
        "  plt.axvline(x=media, color='red', linestyle='--', linewidth=2, label=f'Media: {media:.2f}')\n",
        "  plt.axvline(x=mediana, color='blue', linestyle='--', linewidth=2, label=f'Mediana: {mediana:.2f}')\n",
        "  plt.axvline(x=moda, color='yellow', linestyle='--', linewidth=2, label=f'Moda: {moda:.2f}')\n",
        "\n",
        "  plt.ylabel(\"Frecuencia\")\n",
        "  plt.title(\"Distribución de los datos: \"+contexto)\n",
        "\n",
        "  plt.legend()\n",
        "  plt.grid(False)\n",
        "  plt.show()\n",
        "\n",
        "def f_modelo_polinomial(v_independiente, v_dependiente, grado):\n",
        "    \"\"\"\n",
        "    Ajusta un modelo de regresión polinomial.\n",
        "\n",
        "    Parámetros:\n",
        "    - v_independiente: array-like, variable independiente (X)\n",
        "    - v_dependiente: array-like, variable dependiente (y)\n",
        "    - grado: int, grado del polinomio\n",
        "\n",
        "    Retorna:\n",
        "    - modelo_polinomial: modelo de regresión ajustado\n",
        "    - poly: objeto PolynomialFeatures para transformar nuevas entradas\n",
        "    \"\"\"\n",
        "    # Transformar la variable independiente en características polinomiales\n",
        "    poly = PolynomialFeatures(degree=grado)\n",
        "    ind_train_poly = poly.fit_transform(v_independiente.reshape(-1, 1))\n",
        "\n",
        "    # Construcción y entrenamiento del modelo de regresión lineal\n",
        "    modelo_polinomial = LinearRegression()\n",
        "    modelo_polinomial.fit(ind_train_poly, v_dependiente)  # Solo la Y original\n",
        "\n",
        "    return modelo_polinomial, poly  # Devuelve también 'poly' para transformar futuras entradas\n",
        "\n",
        "\n",
        "# Función que visualiza la dispersión de los datos y la curva de tendencia\n",
        "\n",
        "def f_regresion_curva_tendencia(modelo, poly, x, y, xlabel, ylabel):\n",
        "    \"\"\"\n",
        "    Grafica la curva de regresión polinomial y los datos originales.\n",
        "\n",
        "    Parámetros:\n",
        "    - modelo: modelo de regresión polinomial entrenado.\n",
        "    - poly: objeto PolynomialFeatures utilizado para transformar los datos.\n",
        "    - x: array-like, valores de la variable independiente.\n",
        "    - y: array-like, valores de la variable dependiente.\n",
        "    - xlabel: str, etiqueta del eje X.\n",
        "    - ylabel: str, etiqueta del eje Y.\n",
        "    \"\"\"\n",
        "\n",
        "    # Obtener el término de intercepción y coeficientes\n",
        "    intercepto = modelo.intercept_\n",
        "    coeficientes = modelo.coef_\n",
        "    print(f\"Intercepto (β0): {intercepto}\")\n",
        "    print(f\"Coeficientes (β1, β2, ...): {coeficientes}\")\n",
        "\n",
        "    # Crear un rango de valores de X para visualizar la curva\n",
        "    x_range = np.linspace(x.min(), x.max(), 100).reshape(-1, 1)\n",
        "\n",
        "    # Transformar los valores de X_range con el mismo objeto `poly`\n",
        "    x_range_poly = poly.transform(x_range)\n",
        "\n",
        "    # Predecir los valores de y para X_range\n",
        "    predicciones = modelo.predict(x_range_poly)\n",
        "\n",
        "    # Graficar los datos reales\n",
        "    plt.scatter(x, y, color='blue', s=30, label='Datos originales')\n",
        "\n",
        "    # Graficar la curva de regresión polinomial\n",
        "    plt.plot(x_range, predicciones, color='red', label='Curva de tendencia')\n",
        "\n",
        "    # Configurar etiquetas y título\n",
        "    plt.xlabel(xlabel)\n",
        "    plt.ylabel(ylabel)\n",
        "    plt.title('Regresión Polinomial')\n",
        "    plt.legend()\n",
        "    plt.grid()\n",
        "\n",
        "    # Mostrar el gráfico\n",
        "    plt.show()\n",
        "\n",
        "\n"
      ],
      "metadata": {
        "id": "f1WIo580sPir"
      },
      "execution_count": 124,
      "outputs": []
    },
    {
      "cell_type": "markdown",
      "source": [
        "## Cargar los datos\n"
      ],
      "metadata": {
        "id": "aKskrALaI9Y2"
      }
    },
    {
      "cell_type": "code",
      "source": [
        "# https://raw.githubusercontent.com/rpizarrog/innovacion-empresarial/refs/heads/main/datos/estaturas_pesos.csv\n",
        "ruta = \"https://raw.githubusercontent.com/rpizarrog/innovacion-empresarial/refs/heads/main/datos/estaturas_pesos.csv\"\n",
        "datos = f_cargar_datos(ruta)\n",
        "\n",
        "print(datos)"
      ],
      "metadata": {
        "colab": {
          "base_uri": "https://localhost:8080/"
        },
        "id": "i7uH4HczI-0a",
        "outputId": "e8cbfc79-b365-4d54-e699-16faeabfc87b"
      },
      "execution_count": 9,
      "outputs": [
        {
          "output_type": "stream",
          "name": "stdout",
          "text": [
            "    estaturas  pesos\n",
            "0         178     79\n",
            "1         172     75\n",
            "2         160     62\n",
            "3         192    107\n",
            "4         167     72\n",
            "..        ...    ...\n",
            "57        170     75\n",
            "58        180     85\n",
            "59        180     95\n",
            "60        170     75\n",
            "61        172     78\n",
            "\n",
            "[62 rows x 2 columns]\n"
          ]
        }
      ]
    },
    {
      "cell_type": "markdown",
      "source": [
        "## Mostrar la estructura de los datos"
      ],
      "metadata": {
        "id": "ZuRLnja4WLTK"
      }
    },
    {
      "cell_type": "code",
      "source": [
        "datos.info()"
      ],
      "metadata": {
        "colab": {
          "base_uri": "https://localhost:8080/"
        },
        "id": "w1TfY1ToWN_S",
        "outputId": "c930b680-becb-423d-a5f3-e9341db1a98c"
      },
      "execution_count": 125,
      "outputs": [
        {
          "output_type": "stream",
          "name": "stdout",
          "text": [
            "<class 'pandas.core.frame.DataFrame'>\n",
            "RangeIndex: 62 entries, 0 to 61\n",
            "Data columns (total 2 columns):\n",
            " #   Column     Non-Null Count  Dtype\n",
            "---  ------     --------------  -----\n",
            " 0   estaturas  62 non-null     int64\n",
            " 1   pesos      62 non-null     int64\n",
            "dtypes: int64(2)\n",
            "memory usage: 1.1 KB\n"
          ]
        }
      ]
    },
    {
      "cell_type": "markdown",
      "source": [
        "\n",
        "## Análisis descriptivo\n",
        "\n",
        "Se presentan los estadísticos mas importantes de las variables de interés con la función *describe()*\n",
        "\n",
        "* Se define independiente = 'estaturas'\n",
        "* Se define dependiente = 'pesos'\n",
        "\n",
        "### Estadísticos"
      ],
      "metadata": {
        "id": "0Kih8GQxWS4S"
      }
    },
    {
      "cell_type": "markdown",
      "source": [
        "## Dispersión de los datos\n",
        "\n"
      ],
      "metadata": {
        "id": "lV0Pa5fjr-ZY"
      }
    },
    {
      "cell_type": "code",
      "source": [
        "# estaturas pesos\n",
        "independiente = 'estaturas'\n",
        "dependiente = 'pesos'\n",
        "\n",
        "datos[[independiente, dependiente]].describe()\n"
      ],
      "metadata": {
        "colab": {
          "base_uri": "https://localhost:8080/",
          "height": 300
        },
        "id": "oRedCrJWsAOK",
        "outputId": "f7892d48-c0fd-4bc2-eb08-e4cefaca93af"
      },
      "execution_count": 126,
      "outputs": [
        {
          "output_type": "execute_result",
          "data": {
            "text/plain": [
              "        estaturas       pesos\n",
              "count   62.000000   62.000000\n",
              "mean   172.032258   74.806452\n",
              "std      9.042645   11.297524\n",
              "min    150.000000   52.000000\n",
              "25%    165.000000   67.250000\n",
              "50%    170.000000   75.000000\n",
              "75%    178.000000   80.000000\n",
              "max    192.000000  107.000000"
            ],
            "text/html": [
              "\n",
              "  <div id=\"df-098edb72-ef89-4e8a-b706-39d7526dbec5\" class=\"colab-df-container\">\n",
              "    <div>\n",
              "<style scoped>\n",
              "    .dataframe tbody tr th:only-of-type {\n",
              "        vertical-align: middle;\n",
              "    }\n",
              "\n",
              "    .dataframe tbody tr th {\n",
              "        vertical-align: top;\n",
              "    }\n",
              "\n",
              "    .dataframe thead th {\n",
              "        text-align: right;\n",
              "    }\n",
              "</style>\n",
              "<table border=\"1\" class=\"dataframe\">\n",
              "  <thead>\n",
              "    <tr style=\"text-align: right;\">\n",
              "      <th></th>\n",
              "      <th>estaturas</th>\n",
              "      <th>pesos</th>\n",
              "    </tr>\n",
              "  </thead>\n",
              "  <tbody>\n",
              "    <tr>\n",
              "      <th>count</th>\n",
              "      <td>62.000000</td>\n",
              "      <td>62.000000</td>\n",
              "    </tr>\n",
              "    <tr>\n",
              "      <th>mean</th>\n",
              "      <td>172.032258</td>\n",
              "      <td>74.806452</td>\n",
              "    </tr>\n",
              "    <tr>\n",
              "      <th>std</th>\n",
              "      <td>9.042645</td>\n",
              "      <td>11.297524</td>\n",
              "    </tr>\n",
              "    <tr>\n",
              "      <th>min</th>\n",
              "      <td>150.000000</td>\n",
              "      <td>52.000000</td>\n",
              "    </tr>\n",
              "    <tr>\n",
              "      <th>25%</th>\n",
              "      <td>165.000000</td>\n",
              "      <td>67.250000</td>\n",
              "    </tr>\n",
              "    <tr>\n",
              "      <th>50%</th>\n",
              "      <td>170.000000</td>\n",
              "      <td>75.000000</td>\n",
              "    </tr>\n",
              "    <tr>\n",
              "      <th>75%</th>\n",
              "      <td>178.000000</td>\n",
              "      <td>80.000000</td>\n",
              "    </tr>\n",
              "    <tr>\n",
              "      <th>max</th>\n",
              "      <td>192.000000</td>\n",
              "      <td>107.000000</td>\n",
              "    </tr>\n",
              "  </tbody>\n",
              "</table>\n",
              "</div>\n",
              "    <div class=\"colab-df-buttons\">\n",
              "\n",
              "  <div class=\"colab-df-container\">\n",
              "    <button class=\"colab-df-convert\" onclick=\"convertToInteractive('df-098edb72-ef89-4e8a-b706-39d7526dbec5')\"\n",
              "            title=\"Convert this dataframe to an interactive table.\"\n",
              "            style=\"display:none;\">\n",
              "\n",
              "  <svg xmlns=\"http://www.w3.org/2000/svg\" height=\"24px\" viewBox=\"0 -960 960 960\">\n",
              "    <path d=\"M120-120v-720h720v720H120Zm60-500h600v-160H180v160Zm220 220h160v-160H400v160Zm0 220h160v-160H400v160ZM180-400h160v-160H180v160Zm440 0h160v-160H620v160ZM180-180h160v-160H180v160Zm440 0h160v-160H620v160Z\"/>\n",
              "  </svg>\n",
              "    </button>\n",
              "\n",
              "  <style>\n",
              "    .colab-df-container {\n",
              "      display:flex;\n",
              "      gap: 12px;\n",
              "    }\n",
              "\n",
              "    .colab-df-convert {\n",
              "      background-color: #E8F0FE;\n",
              "      border: none;\n",
              "      border-radius: 50%;\n",
              "      cursor: pointer;\n",
              "      display: none;\n",
              "      fill: #1967D2;\n",
              "      height: 32px;\n",
              "      padding: 0 0 0 0;\n",
              "      width: 32px;\n",
              "    }\n",
              "\n",
              "    .colab-df-convert:hover {\n",
              "      background-color: #E2EBFA;\n",
              "      box-shadow: 0px 1px 2px rgba(60, 64, 67, 0.3), 0px 1px 3px 1px rgba(60, 64, 67, 0.15);\n",
              "      fill: #174EA6;\n",
              "    }\n",
              "\n",
              "    .colab-df-buttons div {\n",
              "      margin-bottom: 4px;\n",
              "    }\n",
              "\n",
              "    [theme=dark] .colab-df-convert {\n",
              "      background-color: #3B4455;\n",
              "      fill: #D2E3FC;\n",
              "    }\n",
              "\n",
              "    [theme=dark] .colab-df-convert:hover {\n",
              "      background-color: #434B5C;\n",
              "      box-shadow: 0px 1px 3px 1px rgba(0, 0, 0, 0.15);\n",
              "      filter: drop-shadow(0px 1px 2px rgba(0, 0, 0, 0.3));\n",
              "      fill: #FFFFFF;\n",
              "    }\n",
              "  </style>\n",
              "\n",
              "    <script>\n",
              "      const buttonEl =\n",
              "        document.querySelector('#df-098edb72-ef89-4e8a-b706-39d7526dbec5 button.colab-df-convert');\n",
              "      buttonEl.style.display =\n",
              "        google.colab.kernel.accessAllowed ? 'block' : 'none';\n",
              "\n",
              "      async function convertToInteractive(key) {\n",
              "        const element = document.querySelector('#df-098edb72-ef89-4e8a-b706-39d7526dbec5');\n",
              "        const dataTable =\n",
              "          await google.colab.kernel.invokeFunction('convertToInteractive',\n",
              "                                                    [key], {});\n",
              "        if (!dataTable) return;\n",
              "\n",
              "        const docLinkHtml = 'Like what you see? Visit the ' +\n",
              "          '<a target=\"_blank\" href=https://colab.research.google.com/notebooks/data_table.ipynb>data table notebook</a>'\n",
              "          + ' to learn more about interactive tables.';\n",
              "        element.innerHTML = '';\n",
              "        dataTable['output_type'] = 'display_data';\n",
              "        await google.colab.output.renderOutput(dataTable, element);\n",
              "        const docLink = document.createElement('div');\n",
              "        docLink.innerHTML = docLinkHtml;\n",
              "        element.appendChild(docLink);\n",
              "      }\n",
              "    </script>\n",
              "  </div>\n",
              "\n",
              "\n",
              "<div id=\"df-49d05c4d-5c22-441f-bc69-0f19ea78a6d9\">\n",
              "  <button class=\"colab-df-quickchart\" onclick=\"quickchart('df-49d05c4d-5c22-441f-bc69-0f19ea78a6d9')\"\n",
              "            title=\"Suggest charts\"\n",
              "            style=\"display:none;\">\n",
              "\n",
              "<svg xmlns=\"http://www.w3.org/2000/svg\" height=\"24px\"viewBox=\"0 0 24 24\"\n",
              "     width=\"24px\">\n",
              "    <g>\n",
              "        <path d=\"M19 3H5c-1.1 0-2 .9-2 2v14c0 1.1.9 2 2 2h14c1.1 0 2-.9 2-2V5c0-1.1-.9-2-2-2zM9 17H7v-7h2v7zm4 0h-2V7h2v10zm4 0h-2v-4h2v4z\"/>\n",
              "    </g>\n",
              "</svg>\n",
              "  </button>\n",
              "\n",
              "<style>\n",
              "  .colab-df-quickchart {\n",
              "      --bg-color: #E8F0FE;\n",
              "      --fill-color: #1967D2;\n",
              "      --hover-bg-color: #E2EBFA;\n",
              "      --hover-fill-color: #174EA6;\n",
              "      --disabled-fill-color: #AAA;\n",
              "      --disabled-bg-color: #DDD;\n",
              "  }\n",
              "\n",
              "  [theme=dark] .colab-df-quickchart {\n",
              "      --bg-color: #3B4455;\n",
              "      --fill-color: #D2E3FC;\n",
              "      --hover-bg-color: #434B5C;\n",
              "      --hover-fill-color: #FFFFFF;\n",
              "      --disabled-bg-color: #3B4455;\n",
              "      --disabled-fill-color: #666;\n",
              "  }\n",
              "\n",
              "  .colab-df-quickchart {\n",
              "    background-color: var(--bg-color);\n",
              "    border: none;\n",
              "    border-radius: 50%;\n",
              "    cursor: pointer;\n",
              "    display: none;\n",
              "    fill: var(--fill-color);\n",
              "    height: 32px;\n",
              "    padding: 0;\n",
              "    width: 32px;\n",
              "  }\n",
              "\n",
              "  .colab-df-quickchart:hover {\n",
              "    background-color: var(--hover-bg-color);\n",
              "    box-shadow: 0 1px 2px rgba(60, 64, 67, 0.3), 0 1px 3px 1px rgba(60, 64, 67, 0.15);\n",
              "    fill: var(--button-hover-fill-color);\n",
              "  }\n",
              "\n",
              "  .colab-df-quickchart-complete:disabled,\n",
              "  .colab-df-quickchart-complete:disabled:hover {\n",
              "    background-color: var(--disabled-bg-color);\n",
              "    fill: var(--disabled-fill-color);\n",
              "    box-shadow: none;\n",
              "  }\n",
              "\n",
              "  .colab-df-spinner {\n",
              "    border: 2px solid var(--fill-color);\n",
              "    border-color: transparent;\n",
              "    border-bottom-color: var(--fill-color);\n",
              "    animation:\n",
              "      spin 1s steps(1) infinite;\n",
              "  }\n",
              "\n",
              "  @keyframes spin {\n",
              "    0% {\n",
              "      border-color: transparent;\n",
              "      border-bottom-color: var(--fill-color);\n",
              "      border-left-color: var(--fill-color);\n",
              "    }\n",
              "    20% {\n",
              "      border-color: transparent;\n",
              "      border-left-color: var(--fill-color);\n",
              "      border-top-color: var(--fill-color);\n",
              "    }\n",
              "    30% {\n",
              "      border-color: transparent;\n",
              "      border-left-color: var(--fill-color);\n",
              "      border-top-color: var(--fill-color);\n",
              "      border-right-color: var(--fill-color);\n",
              "    }\n",
              "    40% {\n",
              "      border-color: transparent;\n",
              "      border-right-color: var(--fill-color);\n",
              "      border-top-color: var(--fill-color);\n",
              "    }\n",
              "    60% {\n",
              "      border-color: transparent;\n",
              "      border-right-color: var(--fill-color);\n",
              "    }\n",
              "    80% {\n",
              "      border-color: transparent;\n",
              "      border-right-color: var(--fill-color);\n",
              "      border-bottom-color: var(--fill-color);\n",
              "    }\n",
              "    90% {\n",
              "      border-color: transparent;\n",
              "      border-bottom-color: var(--fill-color);\n",
              "    }\n",
              "  }\n",
              "</style>\n",
              "\n",
              "  <script>\n",
              "    async function quickchart(key) {\n",
              "      const quickchartButtonEl =\n",
              "        document.querySelector('#' + key + ' button');\n",
              "      quickchartButtonEl.disabled = true;  // To prevent multiple clicks.\n",
              "      quickchartButtonEl.classList.add('colab-df-spinner');\n",
              "      try {\n",
              "        const charts = await google.colab.kernel.invokeFunction(\n",
              "            'suggestCharts', [key], {});\n",
              "      } catch (error) {\n",
              "        console.error('Error during call to suggestCharts:', error);\n",
              "      }\n",
              "      quickchartButtonEl.classList.remove('colab-df-spinner');\n",
              "      quickchartButtonEl.classList.add('colab-df-quickchart-complete');\n",
              "    }\n",
              "    (() => {\n",
              "      let quickchartButtonEl =\n",
              "        document.querySelector('#df-49d05c4d-5c22-441f-bc69-0f19ea78a6d9 button');\n",
              "      quickchartButtonEl.style.display =\n",
              "        google.colab.kernel.accessAllowed ? 'block' : 'none';\n",
              "    })();\n",
              "  </script>\n",
              "</div>\n",
              "\n",
              "    </div>\n",
              "  </div>\n"
            ],
            "application/vnd.google.colaboratory.intrinsic+json": {
              "type": "dataframe",
              "summary": "{\n  \"name\": \"# f_dispersion(datos['estaturas'], datos['pesos'], \\\"etaturas\\\", \\\"pesos\\\")\",\n  \"rows\": 8,\n  \"fields\": [\n    {\n      \"column\": \"estaturas\",\n      \"properties\": {\n        \"dtype\": \"number\",\n        \"std\": 65.43568878998235,\n        \"min\": 9.042645307752547,\n        \"max\": 192.0,\n        \"num_unique_values\": 8,\n        \"samples\": [\n          172.03225806451613,\n          170.0,\n          62.0\n        ],\n        \"semantic_type\": \"\",\n        \"description\": \"\"\n      }\n    },\n    {\n      \"column\": \"pesos\",\n      \"properties\": {\n        \"dtype\": \"number\",\n        \"std\": 27.36329078410934,\n        \"min\": 11.297524333011959,\n        \"max\": 107.0,\n        \"num_unique_values\": 8,\n        \"samples\": [\n          74.80645161290323,\n          75.0,\n          62.0\n        ],\n        \"semantic_type\": \"\",\n        \"description\": \"\"\n      }\n    }\n  ]\n}"
            }
          },
          "metadata": {},
          "execution_count": 126
        }
      ]
    },
    {
      "cell_type": "markdown",
      "source": [
        "## Histogramas\n"
      ],
      "metadata": {
        "id": "Ler_sYQuWgEa"
      }
    },
    {
      "cell_type": "code",
      "source": [
        "f_histograma(datos[independiente], \"Estatura\")\n",
        "\n",
        "f_histograma(datos[dependiente], \"Pesos\")"
      ],
      "metadata": {
        "colab": {
          "base_uri": "https://localhost:8080/",
          "height": 927
        },
        "id": "kpexw9xBWiFE",
        "outputId": "2c460661-189e-461b-8b3a-e20887384fbe"
      },
      "execution_count": 127,
      "outputs": [
        {
          "output_type": "display_data",
          "data": {
            "text/plain": [
              "<Figure size 640x480 with 1 Axes>"
            ],
            "image/png": "[encoded data removed]"
          },
          "metadata": {}
        },
        {
          "output_type": "display_data",
          "data": {
            "text/plain": [
              "<Figure size 640x480 with 1 Axes>"
            ],
            "image/png": "[encoded data removed]"
          },
          "metadata": {}
        }
      ]
    },
    {
      "cell_type": "markdown",
      "source": [
        "## Dispersión de los datos\n"
      ],
      "metadata": {
        "id": "omFsI02NXanp"
      }
    },
    {
      "cell_type": "code",
      "source": [
        "f_dispersion(datos[independiente], datos[dependiente], \"estaturas\", \"pesos\")\n"
      ],
      "metadata": {
        "colab": {
          "base_uri": "https://localhost:8080/",
          "height": 504
        },
        "id": "-PnuavefXctF",
        "outputId": "33b93279-50f6-4b6e-e9a2-4d91bbed581d"
      },
      "execution_count": 128,
      "outputs": [
        {
          "output_type": "stream",
          "name": "stdout",
          "text": [
            "Diagrama de Dispersión. Corr Pearson\n"
          ]
        },
        {
          "output_type": "display_data",
          "data": {
            "text/plain": [
              "<Figure size 640x480 with 1 Axes>"
            ],
            "image/png": "[encoded data removed]"
          },
          "metadata": {}
        }
      ]
    },
    {
      "cell_type": "markdown",
      "source": [
        "## Crear datos de entrenamiento y validación\n",
        "\n",
        "* Los datos de entrenamiento serán aleatoriamente el 80% de los datos originales.\n",
        "* Los datos de validación o prueba (test) serán aleatoriamente el complemento del 20%.\n",
        "* Los datos de entrenamiento y datos de validación deben\n",
        "ser mutuamente excluyentes que significa que están en uno conjunto o están en el otro.\n",
        "\n",
        "Ahora que se tiene la variable independiente estaturas y la variable dependiente pesos, el siguiente paso es dividir estos datos en conjuntos de entrenamiento y prueba o validación.\n",
        "\n",
        "Se utiiza el método *train_test_split()* que forma parte de la librería Scikit-Learn para dividir los datos en entrenamiento y validación.\n",
        "\n",
        "El argumento *test_size* establece el 20% para datos de validación por lo que el $80$% pertenece a los datos de entrenamiento y el resto a datos de validación o prueba."
      ],
      "metadata": {
        "id": "qxr8t7rbJRmC"
      }
    },
    {
      "cell_type": "code",
      "source": [
        "# Convertir a numpy arrays\n",
        "v_independiente = datos[independiente].to_numpy().reshape(-1, 1)  # Reshape para compatibilidad con sklearn\n",
        "v_dependiente = datos[dependiente].to_numpy()\n",
        "\n",
        "print (v_independiente)\n",
        "print(v_dependiente)"
      ],
      "metadata": {
        "colab": {
          "base_uri": "https://localhost:8080/"
        },
        "id": "Wlmf8G6HX-yU",
        "outputId": "4fbbae9a-a134-4084-dad1-6d5926268cd5"
      },
      "execution_count": 129,
      "outputs": [
        {
          "output_type": "stream",
          "name": "stdout",
          "text": [
            "[[178]\n",
            " [172]\n",
            " [160]\n",
            " [192]\n",
            " [167]\n",
            " [170]\n",
            " [185]\n",
            " [175]\n",
            " [180]\n",
            " [170]\n",
            " [180]\n",
            " [180]\n",
            " [170]\n",
            " [183]\n",
            " [161]\n",
            " [150]\n",
            " [162]\n",
            " [177]\n",
            " [190]\n",
            " [165]\n",
            " [164]\n",
            " [183]\n",
            " [175]\n",
            " [168]\n",
            " [170]\n",
            " [175]\n",
            " [175]\n",
            " [178]\n",
            " [170]\n",
            " [160]\n",
            " [162]\n",
            " [166]\n",
            " [178]\n",
            " [170]\n",
            " [163]\n",
            " [165]\n",
            " [170]\n",
            " [167]\n",
            " [159]\n",
            " [165]\n",
            " [181]\n",
            " [170]\n",
            " [172]\n",
            " [171]\n",
            " [178]\n",
            " [165]\n",
            " [162]\n",
            " [187]\n",
            " [189]\n",
            " [174]\n",
            " [160]\n",
            " [190]\n",
            " [155]\n",
            " [180]\n",
            " [175]\n",
            " [170]\n",
            " [165]\n",
            " [170]\n",
            " [180]\n",
            " [180]\n",
            " [170]\n",
            " [172]]\n",
            "[ 79  75  62 107  72  52  90  70  85  92  87  82  75  90  65  56  56  82\n",
            "  95  70  80  92  74  65  77  72  65  70  75  65  60  67  75  70  60  72\n",
            "  76  78  60  68  76  60  75  78  76  64  62  87  90  72  54  90  80  80\n",
            "  75  68  80  75  85  95  75  78]\n"
          ]
        }
      ]
    },
    {
      "cell_type": "code",
      "source": [
        "\n",
        "\n",
        "# División de los datos en entrenamiento (80%) y validación (20%)\n",
        "ind_train, ind_test, dep_train, dep_test = train_test_split(\n",
        "    v_independiente, v_dependiente, test_size=0.20, random_state=2025\n",
        ")\n",
        "\n",
        "# Crear DataFrame con datos de entrenamiento\n",
        "datos_entrenamiento = pd.DataFrame({independiente: ind_train.flatten(), dependiente: dep_train})\n",
        "\n",
        "# Crear DataFrame con datos de validación (corregido)\n",
        "datos_validacion = pd.DataFrame({independiente: ind_test.flatten(), dependiente: dep_test})\n",
        "\n",
        "# Mostrar los primeros valores de cada conjunto\n",
        "print(\"\\nDatos de entrenamiento:\")\n",
        "print(datos_entrenamiento.head())\n",
        "\n",
        "print(\"\\nDatos de validación:\")\n",
        "print(datos_validacion.head())\n"
      ],
      "metadata": {
        "colab": {
          "base_uri": "https://localhost:8080/"
        },
        "id": "M9dJco_jJZGJ",
        "outputId": "27ff99d1-2a04-49b2-c901-5f9b3f0c0a3b"
      },
      "execution_count": 130,
      "outputs": [
        {
          "output_type": "stream",
          "name": "stdout",
          "text": [
            "\n",
            "Datos de entrenamiento:\n",
            "   estaturas  pesos\n",
            "0        180     85\n",
            "1        159     60\n",
            "2        174     72\n",
            "3        178     76\n",
            "4        171     78\n",
            "\n",
            "Datos de validación:\n",
            "   estaturas  pesos\n",
            "0        187     87\n",
            "1        155     80\n",
            "2        175     75\n",
            "3        165     68\n",
            "4        170     75\n"
          ]
        }
      ]
    },
    {
      "cell_type": "markdown",
      "source": [
        "## r square con los datos de entrenamiento"
      ],
      "metadata": {
        "id": "BKT4X1PP8t3W"
      }
    },
    {
      "cell_type": "code",
      "source": [
        "cova, r, r_square =  f_cov_corr(datos_entrenamiento[independiente], datos_entrenamiento[dependiente])\n",
        "print (\"Con los datos de entrenamiento; r square = \", r_square)"
      ],
      "metadata": {
        "colab": {
          "base_uri": "https://localhost:8080/"
        },
        "id": "ChKFSFOX8xuD",
        "outputId": "b34f45d1-d5e6-4a22-e599-1bed187970ad"
      },
      "execution_count": 142,
      "outputs": [
        {
          "output_type": "stream",
          "name": "stdout",
          "text": [
            "Con los datos de entrenamiento; r square =  0.6206686345839267\n"
          ]
        }
      ]
    },
    {
      "cell_type": "markdown",
      "source": [
        "## Métricas de evaluación\n",
        "\n",
        "El modelo se acepta si el valor de *r square* sobrepasa el  50 % tanto con los datos de entrenamiento como con los datos de validación.\n",
        "\n",
        "El modelo a través de la métrica *root mean square error (RMSE)* que significa que tanto varía las predicciones con respecto a los datos reales se deberá comparar con otros modelos y los mismos datos para evalura su rendimiento."
      ],
      "metadata": {
        "id": "Ls8kjr7q6_ws"
      }
    },
    {
      "cell_type": "markdown",
      "source": [
        "## Construir el modelo polinomial de segundo nivel\n",
        "\n",
        "### Preprocesamiento de los datos segundo nivel\n",
        "\n",
        "Convertir las características de entrada en características polinomiales de segundo grado.\n"
      ],
      "metadata": {
        "id": "sCw_cm4dt3tA"
      }
    },
    {
      "cell_type": "markdown",
      "source": [
        "### Construir y entrenar el modelo de regresión polinomial segundo grado\n",
        "\n",
        "Utilizar las características polinomiales para entrenar el modelo.\n",
        "\n"
      ],
      "metadata": {
        "id": "LIBueXjXuMHL"
      }
    },
    {
      "cell_type": "markdown",
      "source": [
        "\n",
        "$$\n",
        "predicciones = Y = \\beta_0 + \\beta_1\\cdot x_i+\\beta_2\\cdot x_i^2 + … \\beta_n \\cdot x_i^n\n",
        "$$\n",
        "\n",
        "* $Y$ es la predicción.\n",
        "* $β_0$ es el coeficiente de intersección de la abcisa.\n",
        "* $β_1$ y $β_2$ son los coeficientes elevados a la primera y segunda potencia respectivamente.\n",
        "* $x_i$ es el valor de $x_i$ es decir los valores de la variable independiente.\n",
        "\n"
      ],
      "metadata": {
        "id": "H1cb3-PtvgYg"
      }
    },
    {
      "cell_type": "code",
      "source": [
        "# Ajuste del modelo polinomial de grado 2\n",
        "grado = 2\n",
        "modelo, poly = f_modelo_polinomial(ind_train, dep_train, grado=grado)\n",
        "\n",
        "# Obtener los coeficientes del modelo\n",
        "print(\"Coeficientes:\", modelo.coef_)\n",
        "print(\"Intercepto:\", modelo.intercept_)\n",
        "\n",
        "\n"
      ],
      "metadata": {
        "colab": {
          "base_uri": "https://localhost:8080/"
        },
        "id": "kiU2hm_Yvlqz",
        "outputId": "6ae2242c-51a1-4515-c57b-ce139005957a"
      },
      "execution_count": 133,
      "outputs": [
        {
          "output_type": "stream",
          "name": "stdout",
          "text": [
            "Coeficientes: [ 0.         -2.63622128  0.01059294]\n",
            "Intercepto: 213.4783128008462\n"
          ]
        }
      ]
    },
    {
      "cell_type": "markdown",
      "source": [
        "#### Curva de tendencia segundo nivel\n",
        "\n"
      ],
      "metadata": {
        "id": "YNipsOCCfQwq"
      }
    },
    {
      "cell_type": "code",
      "source": [
        "f_regresion_curva_tendencia(modelo, poly, ind_train, dep_train, xlabel=independiente, ylabel=dependiente)"
      ],
      "metadata": {
        "colab": {
          "base_uri": "https://localhost:8080/",
          "height": 507
        },
        "id": "AB7Lp6O9fS9l",
        "outputId": "322e1dd7-0228-4234-e129-4d0e53072d13"
      },
      "execution_count": 134,
      "outputs": [
        {
          "output_type": "stream",
          "name": "stdout",
          "text": [
            "Intercepto (β0): 213.4783128008462\n",
            "Coeficientes (β1, β2, ...): [ 0.         -2.63622128  0.01059294]\n"
          ]
        },
        {
          "output_type": "display_data",
          "data": {
            "text/plain": [
              "<Figure size 640x480 with 1 Axes>"
            ],
            "image/png": "[encoded data removed]"
          },
          "metadata": {}
        }
      ]
    },
    {
      "cell_type": "markdown",
      "source": [
        "#### Hacer predicciones con 170 segundo nivel\n",
        "\n",
        "Usar el conjunto de validación para hacer predicciones y evaluar el rendimiento del modelo.\n",
        "\n",
        "$$\n",
        "\\text{para x = 170 ¿Cual es la predicción aproximadamente?}\n",
        "$$\n",
        "\n",
        "$$\n",
        "\\text{predicción Y} =\n",
        "213.4783 + (-2.6362\\times x_i) + (0.0105 \\times x_i^{2}\n",
        " )\\approx\n",
        "$$\n",
        "\n",
        "$$\n",
        "\\text{predicción Y} =\n",
        "213.4783 + (-2.6362\\times 170) + (0.0105 \\times 170^{2}\n",
        " )\\approx\n",
        "$$\n"
      ],
      "metadata": {
        "id": "-J7apeppuQXJ"
      }
    },
    {
      "cell_type": "code",
      "source": [
        "# 213.4783128008462 +(-2.63622128*170) + (0.01059294 * 170**2)\n",
        "213.4783128008462 +(-2.63622128*170) + (0.01059294 * 170**2)"
      ],
      "metadata": {
        "colab": {
          "base_uri": "https://localhost:8080/"
        },
        "id": "Z7RO63OFVcxI",
        "outputId": "376cd7ba-dbb1-402c-9829-ff8ae39447d5"
      },
      "execution_count": 120,
      "outputs": [
        {
          "output_type": "execute_result",
          "data": {
            "text/plain": [
              "71.45666120084621"
            ]
          },
          "metadata": {},
          "execution_count": 120
        }
      ]
    },
    {
      "cell_type": "markdown",
      "source": [
        "#### Predicciones segundo nivel\n",
        "\n",
        "Se hacen predicciones con datos de validación"
      ],
      "metadata": {
        "id": "-YebhFOngFHA"
      }
    },
    {
      "cell_type": "code",
      "source": [
        "# Las predicciones\n",
        "# Transformar los datos de validación usando el mismo `poly` entrenado\n",
        "ind_test_poly = poly.transform(ind_test)\n",
        "\n",
        "# Realizar predicciones con el modelo polinomial\n",
        "predicciones = modelo.predict(ind_test_poly)\n",
        "\n",
        "# Mostrar las predicciones\n",
        "print(\"\\nPredicciones en los datos de validación:\")\n",
        "print(predicciones)\n",
        "\n",
        "\n"
      ],
      "metadata": {
        "colab": {
          "base_uri": "https://localhost:8080/"
        },
        "id": "TkdlxaI2uv_h",
        "outputId": "b1d8e12d-0700-4a7d-edef-17dc8b9eac29"
      },
      "execution_count": 121,
      "outputs": [
        {
          "output_type": "stream",
          "name": "stdout",
          "text": [
            "\n",
            "Predicciones en los datos de validación:\n",
            "[90.92931118 59.35930086 76.54825267 66.89448317 71.45654452 73.42967017\n",
            " 66.89448317 65.21795973 62.86206862 62.86206862 82.16960762 88.32060937\n",
            " 76.54825267]\n"
          ]
        }
      ]
    },
    {
      "cell_type": "markdown",
      "source": [
        "#### Comparaciones segundo nivel\n",
        "\n",
        "Crear un data.frame llamado comparaciones a partir de la creación de un diccionario con los valores reales del conjunto de validacipon y las predicciones calculadas.\n",
        "\n",
        "Con la función flatten().tolist() convierte el arreglo a una lista de una dimensión."
      ],
      "metadata": {
        "id": "VIVG69k9742t"
      }
    },
    {
      "cell_type": "code",
      "source": [
        "diccionario = {'Estatura': estaturas_test.flatten().tolist(),\n",
        "                'Real' : pesos_test.flatten().tolist(),\n",
        "               'Predicho' : predicciones.flatten().tolist() }\n",
        "# diccionario\n",
        "\n",
        "comparaciones = pd.DataFrame(diccionario)\n",
        "print (comparaciones)"
      ],
      "metadata": {
        "colab": {
          "base_uri": "https://localhost:8080/"
        },
        "id": "D-aLvxpS72Jl",
        "outputId": "7f5a116b-48c2-4152-e51c-6b16c13dfcde"
      },
      "execution_count": 135,
      "outputs": [
        {
          "output_type": "stream",
          "name": "stdout",
          "text": [
            "    Estatura  Real   Predicho\n",
            "0        187    87  90.929311\n",
            "1        155    80  59.359301\n",
            "2        175    75  76.548253\n",
            "3        165    68  66.894483\n",
            "4        170    75  71.456545\n",
            "5        172    75  73.429670\n",
            "6        165    72  66.894483\n",
            "7        163    60  65.217960\n",
            "8        160    62  62.862069\n",
            "9        160    65  62.862069\n",
            "10       180    95  82.169608\n",
            "11       185    90  88.320609\n",
            "12       175    70  76.548253\n"
          ]
        }
      ]
    },
    {
      "cell_type": "markdown",
      "source": [
        "## RMSE segundo nivel\n",
        "\n",
        "¿Qué tanto se desvián las predicciones de los valores reales?\n",
        "\n",
        "Error estándar médio MSE\n",
        "$$\n",
        "MSE = \\frac{\\sum(predicho_i - real_i)^{2}}{n}\n",
        "$$\n",
        "\n",
        "Raiz del error estándar medio\n",
        "\n",
        "$$\n",
        "RMSE = \\sqrt{\\frac{\\sum(predicho_i - real_i)^{2}}{n}}\n",
        "$$"
      ],
      "metadata": {
        "id": "Aa1bVXJD8Fkt"
      }
    },
    {
      "cell_type": "code",
      "source": [
        "print('Mean Absolute Error: MAE', metrics.mean_absolute_error(pesos_test, predicciones))\n",
        "print('Mean Squared Error: MSE', metrics.mean_squared_error(pesos_test, predicciones))\n",
        "print('Root Mean Squared Error RMSE:', np.sqrt(metrics.mean_squared_error(pesos_test, predicciones)))\n",
        "\n",
        "cova, r, r_square =  f_cov_corr(estaturas_test, pesos_test)\n",
        "print (\"Con los datos de validación; r square = \", r_square)\n",
        "\n"
      ],
      "metadata": {
        "colab": {
          "base_uri": "https://localhost:8080/"
        },
        "id": "ifrNyGME8Ijs",
        "outputId": "98bf6639-c67e-4d02-8c66-8f291f9a2235"
      },
      "execution_count": 136,
      "outputs": [
        {
          "output_type": "stream",
          "name": "stdout",
          "text": [
            "Mean Absolute Error: MAE 5.132236720809989\n",
            "Mean Squared Error: MSE 56.08042052535306\n",
            "Root Mean Squared Error RMSE: 7.488686168170827\n",
            "Con los datos de validación; r square =  0.5115185155855867\n"
          ]
        }
      ]
    },
    {
      "cell_type": "markdown",
      "source": [
        "### Construir y entrenar el modelo de regresión polinomial tercer grado\n"
      ],
      "metadata": {
        "id": "-bixY2_cQjz4"
      }
    },
    {
      "cell_type": "code",
      "source": [
        "# Ajuste del modelo polinomial de grado 3\n",
        "grado = 3\n",
        "modelo, poly = f_modelo_polinomial(ind_train, dep_train, grado=grado)\n",
        "\n",
        "# Obtener los coeficientes del modelo\n",
        "print(\"Coeficientes:\", modelo.coef_)\n",
        "print(\"Intercepto:\", modelo.intercept_)"
      ],
      "metadata": {
        "colab": {
          "base_uri": "https://localhost:8080/"
        },
        "id": "oV9O9euLncPg",
        "outputId": "ee2703e2-90eb-48f1-d473-4145e2ddf13d"
      },
      "execution_count": 137,
      "outputs": [
        {
          "output_type": "stream",
          "name": "stdout",
          "text": [
            "Coeficientes: [ 0.00000000e+00  5.47115093e+01 -3.23820552e-01  6.48349398e-04]\n",
            "Intercepto: -3056.206175419271\n"
          ]
        }
      ]
    },
    {
      "cell_type": "markdown",
      "source": [
        "#### Curva de tendencia tercer grado\n"
      ],
      "metadata": {
        "id": "MN8MT3w0nlv8"
      }
    },
    {
      "cell_type": "code",
      "source": [
        "f_regresion_curva_tendencia(modelo, poly, ind_train, dep_train, xlabel=independiente, ylabel=dependiente)"
      ],
      "metadata": {
        "colab": {
          "base_uri": "https://localhost:8080/",
          "height": 507
        },
        "id": "uWYI_8kznnW8",
        "outputId": "05e6a818-c253-4a49-c261-8c46098456cb"
      },
      "execution_count": 138,
      "outputs": [
        {
          "output_type": "stream",
          "name": "stdout",
          "text": [
            "Intercepto (β0): -3056.206175419271\n",
            "Coeficientes (β1, β2, ...): [ 0.00000000e+00  5.47115093e+01 -3.23820552e-01  6.48349398e-04]\n"
          ]
        },
        {
          "output_type": "display_data",
          "data": {
            "text/plain": [
              "<Figure size 640x480 with 1 Axes>"
            ],
            "image/png": "[encoded data removed]"
          },
          "metadata": {}
        }
      ]
    },
    {
      "cell_type": "markdown",
      "source": [
        "#### Predicciones tercer grado\n",
        "\n",
        "Se hacen predicciones con datos de validación"
      ],
      "metadata": {
        "id": "18IFhRrEnu6s"
      }
    },
    {
      "cell_type": "code",
      "source": [
        "# Las predicciones\n",
        "# Transformar los datos de validación usando el mismo `poly` entrenado\n",
        "ind_test_poly = poly.transform(ind_test)\n",
        "\n",
        "# Realizar predicciones con el modelo polinomial\n",
        "predicciones = modelo.predict(ind_test_poly)\n",
        "\n",
        "# Mostrar las predicciones\n",
        "print(\"\\nPredicciones en los datos de validación:\")\n",
        "print(predicciones)"
      ],
      "metadata": {
        "colab": {
          "base_uri": "https://localhost:8080/"
        },
        "id": "DZyuvnR3nvuv",
        "outputId": "acbec61e-e823-478a-f2fd-fd27ec0ab8ea"
      },
      "execution_count": 139,
      "outputs": [
        {
          "output_type": "stream",
          "name": "stdout",
          "text": [
            "\n",
            "Predicciones en los datos de validación:\n",
            "[90.85348859 58.66110351 76.05108346 67.64485353 71.67702748 73.35839336\n",
            " 67.64485353 66.01878822 63.46829955 63.46829955 81.25328352 87.7698897\n",
            " 76.05108346]\n"
          ]
        }
      ]
    },
    {
      "cell_type": "code",
      "source": [
        "diccionario = {'Estatura': estaturas_test.flatten().tolist(),\n",
        "                'Real' : pesos_test.flatten().tolist(),\n",
        "               'Predicho' : predicciones.flatten().tolist() }\n",
        "# diccionario\n",
        "\n",
        "comparaciones = pd.DataFrame(diccionario)\n",
        "print (comparaciones)"
      ],
      "metadata": {
        "colab": {
          "base_uri": "https://localhost:8080/"
        },
        "id": "-j215TxRn2kf",
        "outputId": "99862dda-1fbe-4c95-e8a1-f3b53efbd742"
      },
      "execution_count": 140,
      "outputs": [
        {
          "output_type": "stream",
          "name": "stdout",
          "text": [
            "    Estatura  Real   Predicho\n",
            "0        187    87  90.853489\n",
            "1        155    80  58.661104\n",
            "2        175    75  76.051083\n",
            "3        165    68  67.644854\n",
            "4        170    75  71.677027\n",
            "5        172    75  73.358393\n",
            "6        165    72  67.644854\n",
            "7        163    60  66.018788\n",
            "8        160    62  63.468300\n",
            "9        160    65  63.468300\n",
            "10       180    95  81.253284\n",
            "11       185    90  87.769890\n",
            "12       175    70  76.051083\n"
          ]
        }
      ]
    },
    {
      "cell_type": "markdown",
      "source": [
        "#### RMSE tercer grado\n"
      ],
      "metadata": {
        "id": "xR6u0_v4n5tt"
      }
    },
    {
      "cell_type": "code",
      "source": [
        "print('Mean Absolute Error: MAE', metrics.mean_absolute_error(pesos_test, predicciones))\n",
        "print('Mean Squared Error: MSE', metrics.mean_squared_error(pesos_test, predicciones))\n",
        "print('Root Mean Squared Error RMSE:', np.sqrt(metrics.mean_squared_error(pesos_test, predicciones)))\n",
        "\n",
        "cova, r, r_square =  f_cov_corr(estaturas_test, pesos_test)\n",
        "print (\"Con los datos de validación; r square = \", r_square)"
      ],
      "metadata": {
        "colab": {
          "base_uri": "https://localhost:8080/"
        },
        "id": "Yz1EFZPLn7V9",
        "outputId": "986c21f2-7d1c-4f66-ca83-89d9291c6486"
      },
      "execution_count": 141,
      "outputs": [
        {
          "output_type": "stream",
          "name": "stdout",
          "text": [
            "Mean Absolute Error: MAE 5.1511568539748485\n",
            "Mean Squared Error: MSE 59.647857006926685\n",
            "Root Mean Squared Error RMSE: 7.723202509770586\n",
            "Con los datos de validación; r square =  0.5115185155855867\n"
          ]
        }
      ]
    },
    {
      "cell_type": "markdown",
      "source": [
        "### Construir y entrenar el modelo de regresión polinomial cuarto grado\n",
        "\n",
        "pendiente\n"
      ],
      "metadata": {
        "id": "yOEQlx_sqNHb"
      }
    },
    {
      "cell_type": "markdown",
      "source": [
        "### Construir y entrenar el modelo de regresión polinomial quinto grado\n",
        "\n",
        "peendiente"
      ],
      "metadata": {
        "id": "-UCbS1JPqOts"
      }
    },
    {
      "cell_type": "markdown",
      "source": [
        "\n",
        "\n",
        "\n",
        "# Interpretación\n",
        "\n",
        "Se cargó un conjunto de datos con variables de interés estaturas y pesos corporales de personas.\n",
        "\n",
        "Se construyó un modelo de regresión polinómica a segundo nivel con datos de entrenamiento. La variable estaturas fué la variable predictora o independiente y la variable peso fue la variable objetivo o dependiente.\n",
        "\n",
        "A partir el modelo de regresión polinómica se extrajeron los coeficientes de la abcisa o intersección y los coeficientes.\n",
        "\n",
        "Coeficiene intersección:  223.01097115218664\n",
        "Coeficientes de acuerdo a la  segunda potencia\n",
        "[ 0.         -2.63613353  0.01027113]\n",
        "\n",
        "Estos valores significan los valores para la estimación de la curva de acuerdo al modelo.\n",
        "\n",
        "Se visualizó la dispersión de los datos con los valores de entrenamiento y se estimó la curva de regresión presentada también visualmente.\n",
        "\n",
        "Habiendo relizado una evaluación del modelo con datos de entrenamiento o datos que se utilizaron para construir el modelo con el estadístico *r square* o coeficiente de determinación se encontró que el valor de estaturas representa aproximadamente un  62  % al valor del peso corporal de una persona.\n",
        "\n",
        "Se utilizaron datos de prueba o datos de validación con las mismas variables de estaturas y pesos para construir predicciones.\n",
        "\n",
        "Habiendo relizado una evaluación del modelo con los datos de validación o datos de prueba con el estadístico *r square* o coeficiente de determinación se encontró que el valor de estatura representa aproximadamente un 51 % al valor del peso corporal de una persona.\n",
        "\n",
        "El modelo se acepta datos que el valor de *r square* como métrica establecida inicialmente sobrepasa el 50 % tanto con los datos de entrenamiento como con los datos de validación.\n",
        "\n",
        "El valor de *RMSE root mean square error* o error cuadrático medio significa que tanto el modelo es eficiente y su valor cercano a cero representa esa eficiencia.\n",
        "\n",
        "El valor del modelo polinomial segundo nivel fue de fue de  7.48  aproximadamente y debe ser comparado contra otro modelo para medir su eficiencia en relación con otros.\n",
        "\n",
        "El valor del modelo polinomial tercer grado de fue de  7.72 aproximadamente y debe ser comparado contra otro modelo para medir su eficiencia en relación con otros.\n",
        "\n",
        "Falta cuarto grado pendiente\n",
        "\n",
        "Falta quinto grado pendiente\n",
        "\n",
        "\n",
        "\n",
        "Comparado contra el modelo de regresión linel simple es mejor el modelo polinómico de segundo nivel ya que RMSE es menor\n",
        "\n",
        "!Hasta la próxima!"
      ],
      "metadata": {
        "id": "bYzyb5VV9ATq"
      }
    }
  ]
}