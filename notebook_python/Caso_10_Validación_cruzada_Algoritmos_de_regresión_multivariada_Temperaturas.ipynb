{
  "nbformat": 4,
  "nbformat_minor": 0,
  "metadata": {
    "colab": {
      "provenance": [],
      "authorship_tag": "ABX9TyM0DkXr75FmJfSZqWOaHRkN",
      "include_colab_link": true
    },
    "kernelspec": {
      "name": "python3",
      "display_name": "Python 3"
    },
    "language_info": {
      "name": "python"
    },
    "widgets": {
      "application/vnd.jupyter.widget-state+json": {
        "6c94cf3e0eec45e89d8b87f56f7945b0": {
          "model_module": "@jupyter-widgets/output",
          "model_name": "OutputModel",
          "model_module_version": "1.0.0",
          "state": {
            "_dom_classes": [],
            "_model_module": "@jupyter-widgets/output",
            "_model_module_version": "1.0.0",
            "_model_name": "OutputModel",
            "_view_count": null,
            "_view_module": "@jupyter-widgets/output",
            "_view_module_version": "1.0.0",
            "_view_name": "OutputView",
            "layout": "IPY_MODEL_be20f03c89004b079e6bf40eccf11f89",
            "msg_id": "",
            "outputs": [
              {
                "output_type": "display_data",
                "data": {
                  "text/plain": "<IPython.core.display.HTML object>",
                  "text/html": "<h2>Primeros registros escalados</h2>"
                },
                "metadata": {}
              },
              {
                "output_type": "display_data",
                "data": {
                  "text/plain": "    vel_viento  presion_atmosferica  humedad_relativa  frentes_frios  \\\n0     1.906263            -0.123708         -1.405802      -0.998665   \n1     1.279909             0.717455         -1.491722      -0.998665   \n2     0.183791             0.477123          1.257728       1.001337   \n3     0.027202            -1.505619          0.269644       1.001337   \n4     1.123321             0.717455         -0.116997      -0.998665   \n5     1.906263            -0.504234         -0.761399       1.001337   \n6    -1.382093             1.017871          1.472529      -0.998665   \n7    -0.599151             0.216763         -0.890280      -0.998665   \n8     1.436498            -1.105065          0.011883       1.001337   \n9     1.123321             0.336929          0.656286      -0.998665   \n10    1.436498            -1.425508         -0.546599       1.001337   \n11    2.376028            -1.425508          1.214768      -0.998665   \n12   -0.599151            -0.984899          0.527405      -0.998665   \n13    0.966732            -0.223846         -1.405802      -0.998665   \n14    1.906263            -0.524262          0.785166      -0.998665   \n15    0.653556             0.316901         -1.019160       1.001337   \n16    0.340379             0.857649          1.042927      -0.998665   \n17    0.966732             1.178092         -1.019160       1.001337   \n18    0.810144             0.116625          0.742206       1.001337   \n19   -0.129386             0.657372         -0.159957       1.001337   \n\n    radiacion_solar  luminosidad  contaminacion_atmosferica  cobertura_nubosa  \\\n0         -1.580421     1.280731                   0.917293         -0.221035   \n1          0.818533     0.507864                  -0.018183         -0.423700   \n2         -0.472019    -0.616306                  -0.593328         -0.119703   \n3          1.221588    -1.424304                   1.700321         -2.247682   \n4          0.927048     1.175340                   0.827210         -0.018371   \n5         -1.068851     0.191691                  -0.385444          0.184294   \n6         -1.208370    -0.475785                  -0.288432          2.818935   \n7          0.043427     0.191691                  -0.530963         -0.423700   \n8         -0.196856    -0.721697                  -1.022954         -0.423700   \n9          0.093809     1.386122                   1.104388         -1.133027   \n10         0.803031     0.156561                   1.748827          0.690956   \n11         1.512253    -1.108131                  -0.232996          0.184294   \n12         1.647897     0.683516                   0.342148          1.501615   \n13         0.651885    -1.143261                  -1.036813          0.386959   \n14         0.341843     1.456383                   0.667833          0.082962   \n15         0.163568     1.315861                  -0.662622         -0.829030   \n16        -1.634678    -0.546046                  -1.431792          0.184294   \n17        -0.561156     0.226821                  -1.286273         -0.018371   \n18         1.647897     1.140210                   1.437002         -0.727697   \n19        -0.607663    -1.529695                   0.238207          0.386959   \n\n    temperatura  \n0          26.0  \n1          24.0  \n2          16.0  \n3          18.0  \n4          28.0  \n5          17.0  \n6          22.0  \n7          15.0  \n8          17.0  \n9          30.0  \n10         14.0  \n11         28.0  \n12         12.0  \n13         16.0  \n14         22.0  \n15         17.0  \n16         26.0  \n17         12.0  \n18         32.0  \n19         19.0  ",
                  "text/html": "\n  <div id=\"df-1380167b-7a2b-42c9-bb2e-9cdf90fa2dab\" class=\"colab-df-container\">\n    <div>\n<style scoped>\n    .dataframe tbody tr th:only-of-type {\n        vertical-align: middle;\n    }\n\n    .dataframe tbody tr th {\n        vertical-align: top;\n    }\n\n    .dataframe thead th {\n        text-align: right;\n    }\n</style>\n<table border=\"1\" class=\"dataframe\">\n  <thead>\n    <tr style=\"text-align: right;\">\n      <th></th>\n      <th>vel_viento</th>\n      <th>presion_atmosferica</th>\n      <th>humedad_relativa</th>\n      <th>frentes_frios</th>\n      <th>radiacion_solar</th>\n      <th>luminosidad</th>\n      <th>contaminacion_atmosferica</th>\n      <th>cobertura_nubosa</th>\n      <th>temperatura</th>\n    </tr>\n  </thead>\n  <tbody>\n    <tr>\n      <th>0</th>\n      <td>1.906263</td>\n      <td>-0.123708</td>\n      <td>-1.405802</td>\n      <td>-0.998665</td>\n      <td>-1.580421</td>\n      <td>1.280731</td>\n      <td>0.917293</td>\n      <td>-0.221035</td>\n      <td>26.0</td>\n    </tr>\n    <tr>\n      <th>1</th>\n      <td>1.279909</td>\n      <td>0.717455</td>\n      <td>-1.491722</td>\n      <td>-0.998665</td>\n      <td>0.818533</td>\n      <td>0.507864</td>\n      <td>-0.018183</td>\n      <td>-0.423700</td>\n      <td>24.0</td>\n    </tr>\n    <tr>\n      <th>2</th>\n      <td>0.183791</td>\n      <td>0.477123</td>\n      <td>1.257728</td>\n      <td>1.001337</td>\n      <td>-0.472019</td>\n      <td>-0.616306</td>\n      <td>-0.593328</td>\n      <td>-0.119703</td>\n      <td>16.0</td>\n    </tr>\n    <tr>\n      <th>3</th>\n      <td>0.027202</td>\n      <td>-1.505619</td>\n      <td>0.269644</td>\n      <td>1.001337</td>\n      <td>1.221588</td>\n      <td>-1.424304</td>\n      <td>1.700321</td>\n      <td>-2.247682</td>\n      <td>18.0</td>\n    </tr>\n    <tr>\n      <th>4</th>\n      <td>1.123321</td>\n      <td>0.717455</td>\n      <td>-0.116997</td>\n      <td>-0.998665</td>\n      <td>0.927048</td>\n      <td>1.175340</td>\n      <td>0.827210</td>\n      <td>-0.018371</td>\n      <td>28.0</td>\n    </tr>\n    <tr>\n      <th>5</th>\n      <td>1.906263</td>\n      <td>-0.504234</td>\n      <td>-0.761399</td>\n      <td>1.001337</td>\n      <td>-1.068851</td>\n      <td>0.191691</td>\n      <td>-0.385444</td>\n      <td>0.184294</td>\n      <td>17.0</td>\n    </tr>\n    <tr>\n      <th>6</th>\n      <td>-1.382093</td>\n      <td>1.017871</td>\n      <td>1.472529</td>\n      <td>-0.998665</td>\n      <td>-1.208370</td>\n      <td>-0.475785</td>\n      <td>-0.288432</td>\n      <td>2.818935</td>\n      <td>22.0</td>\n    </tr>\n    <tr>\n      <th>7</th>\n      <td>-0.599151</td>\n      <td>0.216763</td>\n      <td>-0.890280</td>\n      <td>-0.998665</td>\n      <td>0.043427</td>\n      <td>0.191691</td>\n      <td>-0.530963</td>\n      <td>-0.423700</td>\n      <td>15.0</td>\n    </tr>\n    <tr>\n      <th>8</th>\n      <td>1.436498</td>\n      <td>-1.105065</td>\n      <td>0.011883</td>\n      <td>1.001337</td>\n      <td>-0.196856</td>\n      <td>-0.721697</td>\n      <td>-1.022954</td>\n      <td>-0.423700</td>\n      <td>17.0</td>\n    </tr>\n    <tr>\n      <th>9</th>\n      <td>1.123321</td>\n      <td>0.336929</td>\n      <td>0.656286</td>\n      <td>-0.998665</td>\n      <td>0.093809</td>\n      <td>1.386122</td>\n      <td>1.104388</td>\n      <td>-1.133027</td>\n      <td>30.0</td>\n    </tr>\n    <tr>\n      <th>10</th>\n      <td>1.436498</td>\n      <td>-1.425508</td>\n      <td>-0.546599</td>\n      <td>1.001337</td>\n      <td>0.803031</td>\n      <td>0.156561</td>\n      <td>1.748827</td>\n      <td>0.690956</td>\n      <td>14.0</td>\n    </tr>\n    <tr>\n      <th>11</th>\n      <td>2.376028</td>\n      <td>-1.425508</td>\n      <td>1.214768</td>\n      <td>-0.998665</td>\n      <td>1.512253</td>\n      <td>-1.108131</td>\n      <td>-0.232996</td>\n      <td>0.184294</td>\n      <td>28.0</td>\n    </tr>\n    <tr>\n      <th>12</th>\n      <td>-0.599151</td>\n      <td>-0.984899</td>\n      <td>0.527405</td>\n      <td>-0.998665</td>\n      <td>1.647897</td>\n      <td>0.683516</td>\n      <td>0.342148</td>\n      <td>1.501615</td>\n      <td>12.0</td>\n    </tr>\n    <tr>\n      <th>13</th>\n      <td>0.966732</td>\n      <td>-0.223846</td>\n      <td>-1.405802</td>\n      <td>-0.998665</td>\n      <td>0.651885</td>\n      <td>-1.143261</td>\n      <td>-1.036813</td>\n      <td>0.386959</td>\n      <td>16.0</td>\n    </tr>\n    <tr>\n      <th>14</th>\n      <td>1.906263</td>\n      <td>-0.524262</td>\n      <td>0.785166</td>\n      <td>-0.998665</td>\n      <td>0.341843</td>\n      <td>1.456383</td>\n      <td>0.667833</td>\n      <td>0.082962</td>\n      <td>22.0</td>\n    </tr>\n    <tr>\n      <th>15</th>\n      <td>0.653556</td>\n      <td>0.316901</td>\n      <td>-1.019160</td>\n      <td>1.001337</td>\n      <td>0.163568</td>\n      <td>1.315861</td>\n      <td>-0.662622</td>\n      <td>-0.829030</td>\n      <td>17.0</td>\n    </tr>\n    <tr>\n      <th>16</th>\n      <td>0.340379</td>\n      <td>0.857649</td>\n      <td>1.042927</td>\n      <td>-0.998665</td>\n      <td>-1.634678</td>\n      <td>-0.546046</td>\n      <td>-1.431792</td>\n      <td>0.184294</td>\n      <td>26.0</td>\n    </tr>\n    <tr>\n      <th>17</th>\n      <td>0.966732</td>\n      <td>1.178092</td>\n      <td>-1.019160</td>\n      <td>1.001337</td>\n      <td>-0.561156</td>\n      <td>0.226821</td>\n      <td>-1.286273</td>\n      <td>-0.018371</td>\n      <td>12.0</td>\n    </tr>\n    <tr>\n      <th>18</th>\n      <td>0.810144</td>\n      <td>0.116625</td>\n      <td>0.742206</td>\n      <td>1.001337</td>\n      <td>1.647897</td>\n      <td>1.140210</td>\n      <td>1.437002</td>\n      <td>-0.727697</td>\n      <td>32.0</td>\n    </tr>\n    <tr>\n      <th>19</th>\n      <td>-0.129386</td>\n      <td>0.657372</td>\n      <td>-0.159957</td>\n      <td>1.001337</td>\n      <td>-0.607663</td>\n      <td>-1.529695</td>\n      <td>0.238207</td>\n      <td>0.386959</td>\n      <td>19.0</td>\n    </tr>\n  </tbody>\n</table>\n</div>\n    <div class=\"colab-df-buttons\">\n\n  <div class=\"colab-df-container\">\n    <button class=\"colab-df-convert\" onclick=\"convertToInteractive('df-1380167b-7a2b-42c9-bb2e-9cdf90fa2dab')\"\n            title=\"Convert this dataframe to an interactive table.\"\n            style=\"display:none;\">\n\n  <svg xmlns=\"http://www.w3.org/2000/svg\" height=\"24px\" viewBox=\"0 -960 960 960\">\n    <path d=\"M120-120v-720h720v720H120Zm60-500h600v-160H180v160Zm220 220h160v-160H400v160Zm0 220h160v-160H400v160ZM180-400h160v-160H180v160Zm440 0h160v-160H620v160ZM180-180h160v-160H180v160Zm440 0h160v-160H620v160Z\"/>\n  </svg>\n    </button>\n\n  <style>\n    .colab-df-container {\n      display:flex;\n      gap: 12px;\n    }\n\n    .colab-df-convert {\n      background-color: #E8F0FE;\n      border: none;\n      border-radius: 50%;\n      cursor: pointer;\n      display: none;\n      fill: #1967D2;\n      height: 32px;\n      padding: 0 0 0 0;\n      width: 32px;\n    }\n\n    .colab-df-convert:hover {\n      background-color: #E2EBFA;\n      box-shadow: 0px 1px 2px rgba(60, 64, 67, 0.3), 0px 1px 3px 1px rgba(60, 64, 67, 0.15);\n      fill: #174EA6;\n    }\n\n    .colab-df-buttons div {\n      margin-bottom: 4px;\n    }\n\n    [theme=dark] .colab-df-convert {\n      background-color: #3B4455;\n      fill: #D2E3FC;\n    }\n\n    [theme=dark] .colab-df-convert:hover {\n      background-color: #434B5C;\n      box-shadow: 0px 1px 3px 1px rgba(0, 0, 0, 0.15);\n      filter: drop-shadow(0px 1px 2px rgba(0, 0, 0, 0.3));\n      fill: #FFFFFF;\n    }\n  </style>\n\n    <script>\n      const buttonEl =\n        document.querySelector('#df-1380167b-7a2b-42c9-bb2e-9cdf90fa2dab button.colab-df-convert');\n      buttonEl.style.display =\n        google.colab.kernel.accessAllowed ? 'block' : 'none';\n\n      async function convertToInteractive(key) {\n        const element = document.querySelector('#df-1380167b-7a2b-42c9-bb2e-9cdf90fa2dab');\n        const dataTable =\n          await google.colab.kernel.invokeFunction('convertToInteractive',\n                                                    [key], {});\n        if (!dataTable) return;\n\n        const docLinkHtml = 'Like what you see? Visit the ' +\n          '<a target=\"_blank\" href=https://colab.research.google.com/notebooks/data_table.ipynb>data table notebook</a>'\n          + ' to learn more about interactive tables.';\n        element.innerHTML = '';\n        dataTable['output_type'] = 'display_data';\n        await google.colab.output.renderOutput(dataTable, element);\n        const docLink = document.createElement('div');\n        docLink.innerHTML = docLinkHtml;\n        element.appendChild(docLink);\n      }\n    </script>\n  </div>\n\n\n<div id=\"df-3e7e6800-815f-497b-b17f-3eb894c29f66\">\n  <button class=\"colab-df-quickchart\" onclick=\"quickchart('df-3e7e6800-815f-497b-b17f-3eb894c29f66')\"\n            title=\"Suggest charts\"\n            style=\"display:none;\">\n\n<svg xmlns=\"http://www.w3.org/2000/svg\" height=\"24px\"viewBox=\"0 0 24 24\"\n     width=\"24px\">\n    <g>\n        <path d=\"M19 3H5c-1.1 0-2 .9-2 2v14c0 1.1.9 2 2 2h14c1.1 0 2-.9 2-2V5c0-1.1-.9-2-2-2zM9 17H7v-7h2v7zm4 0h-2V7h2v10zm4 0h-2v-4h2v4z\"/>\n    </g>\n</svg>\n  </button>\n\n<style>\n  .colab-df-quickchart {\n      --bg-color: #E8F0FE;\n      --fill-color: #1967D2;\n      --hover-bg-color: #E2EBFA;\n      --hover-fill-color: #174EA6;\n      --disabled-fill-color: #AAA;\n      --disabled-bg-color: #DDD;\n  }\n\n  [theme=dark] .colab-df-quickchart {\n      --bg-color: #3B4455;\n      --fill-color: #D2E3FC;\n      --hover-bg-color: #434B5C;\n      --hover-fill-color: #FFFFFF;\n      --disabled-bg-color: #3B4455;\n      --disabled-fill-color: #666;\n  }\n\n  .colab-df-quickchart {\n    background-color: var(--bg-color);\n    border: none;\n    border-radius: 50%;\n    cursor: pointer;\n    display: none;\n    fill: var(--fill-color);\n    height: 32px;\n    padding: 0;\n    width: 32px;\n  }\n\n  .colab-df-quickchart:hover {\n    background-color: var(--hover-bg-color);\n    box-shadow: 0 1px 2px rgba(60, 64, 67, 0.3), 0 1px 3px 1px rgba(60, 64, 67, 0.15);\n    fill: var(--button-hover-fill-color);\n  }\n\n  .colab-df-quickchart-complete:disabled,\n  .colab-df-quickchart-complete:disabled:hover {\n    background-color: var(--disabled-bg-color);\n    fill: var(--disabled-fill-color);\n    box-shadow: none;\n  }\n\n  .colab-df-spinner {\n    border: 2px solid var(--fill-color);\n    border-color: transparent;\n    border-bottom-color: var(--fill-color);\n    animation:\n      spin 1s steps(1) infinite;\n  }\n\n  @keyframes spin {\n    0% {\n      border-color: transparent;\n      border-bottom-color: var(--fill-color);\n      border-left-color: var(--fill-color);\n    }\n    20% {\n      border-color: transparent;\n      border-left-color: var(--fill-color);\n      border-top-color: var(--fill-color);\n    }\n    30% {\n      border-color: transparent;\n      border-left-color: var(--fill-color);\n      border-top-color: var(--fill-color);\n      border-right-color: var(--fill-color);\n    }\n    40% {\n      border-color: transparent;\n      border-right-color: var(--fill-color);\n      border-top-color: var(--fill-color);\n    }\n    60% {\n      border-color: transparent;\n      border-right-color: var(--fill-color);\n    }\n    80% {\n      border-color: transparent;\n      border-right-color: var(--fill-color);\n      border-bottom-color: var(--fill-color);\n    }\n    90% {\n      border-color: transparent;\n      border-bottom-color: var(--fill-color);\n    }\n  }\n</style>\n\n  <script>\n    async function quickchart(key) {\n      const quickchartButtonEl =\n        document.querySelector('#' + key + ' button');\n      quickchartButtonEl.disabled = true;  // To prevent multiple clicks.\n      quickchartButtonEl.classList.add('colab-df-spinner');\n      try {\n        const charts = await google.colab.kernel.invokeFunction(\n            'suggestCharts', [key], {});\n      } catch (error) {\n        console.error('Error during call to suggestCharts:', error);\n      }\n      quickchartButtonEl.classList.remove('colab-df-spinner');\n      quickchartButtonEl.classList.add('colab-df-quickchart-complete');\n    }\n    (() => {\n      let quickchartButtonEl =\n        document.querySelector('#df-3e7e6800-815f-497b-b17f-3eb894c29f66 button');\n      quickchartButtonEl.style.display =\n        google.colab.kernel.accessAllowed ? 'block' : 'none';\n    })();\n  </script>\n</div>\n    </div>\n  </div>\n",
                  "application/vnd.google.colaboratory.intrinsic+json": {
                    "type": "dataframe",
                    "summary": "{\n  \"name\": \"display(visualizar)\",\n  \"rows\": 20,\n  \"fields\": [\n    {\n      \"column\": \"vel_viento\",\n      \"properties\": {\n        \"dtype\": \"number\",\n        \"std\": 0.9789161266604905,\n        \"min\": -1.382092670165645,\n        \"max\": 2.376027595720046,\n        \"num_unique_values\": 14,\n        \"samples\": [\n          0.9667324960129117,\n          0.3403791183652965,\n          1.9062625624843343\n        ],\n        \"semantic_type\": \"\",\n        \"description\": \"\"\n      }\n    },\n    {\n      \"column\": \"presion_atmosferica\",\n      \"properties\": {\n        \"dtype\": \"number\",\n        \"std\": 0.8634865676904456,\n        \"min\": -1.505618718742341,\n        \"max\": 1.1780923183921288,\n        \"num_unique_values\": 18,\n        \"samples\": [\n          -0.12370781156115881,\n          0.7174553493317347,\n          0.3369291574992353\n        ],\n        \"semantic_type\": \"\",\n        \"description\": \"\"\n      }\n    },\n    {\n      \"column\": \"humedad_relativa\",\n      \"properties\": {\n        \"dtype\": \"number\",\n        \"std\": 0.9785385079353087,\n        \"min\": -1.4917219521020397,\n        \"max\": 1.4725286186238562,\n        \"num_unique_values\": 18,\n        \"samples\": [\n          -1.4058016457041878,\n          -1.4917219521020397,\n          0.011883409860371199\n        ],\n        \"semantic_type\": \"\",\n        \"description\": \"\"\n      }\n    },\n    {\n      \"column\": \"frentes_frios\",\n      \"properties\": {\n        \"dtype\": \"number\",\n        \"std\": 1.0208364825251115,\n        \"min\": -0.9986645887654636,\n        \"max\": 1.001337196942356,\n        \"num_unique_values\": 2,\n        \"samples\": [\n          1.001337196942356,\n          -0.9986645887654636\n        ],\n        \"semantic_type\": \"\",\n        \"description\": \"\"\n      }\n    },\n    {\n      \"column\": \"radiacion_solar\",\n      \"properties\": {\n        \"dtype\": \"number\",\n        \"std\": 1.0351395758508921,\n        \"min\": -1.6346784711449167,\n        \"max\": 1.6478967093164762,\n        \"num_unique_values\": 19,\n        \"samples\": [\n          -1.580421030145555,\n          -1.0688508721515717\n        ],\n        \"semantic_type\": \"\",\n        \"description\": \"\"\n      }\n    },\n    {\n      \"column\": \"luminosidad\",\n      \"properties\": {\n        \"dtype\": \"number\",\n        \"std\": 1.001799560714337,\n        \"min\": -1.5296947869120845,\n        \"max\": 1.4563827304783155,\n        \"num_unique_values\": 19,\n        \"samples\": [\n          1.280731111808292,\n          0.19169107605414604\n        ],\n        \"semantic_type\": \"\",\n        \"description\": \"\"\n      }\n    },\n    {\n      \"column\": \"contaminacion_atmosferica\",\n      \"properties\": {\n        \"dtype\": \"number\",\n        \"std\": 0.9855129024043745,\n        \"min\": -1.4317916568869211,\n        \"max\": 1.7488272475011788,\n        \"num_unique_values\": 20,\n        \"samples\": [\n          0.9172928934127866,\n          -1.2862731449214526\n        ],\n        \"semantic_type\": \"\",\n        \"description\": \"\"\n      }\n    },\n    {\n      \"column\": \"cobertura_nubosa\",\n      \"properties\": {\n        \"dtype\": \"number\",\n        \"std\": 1.0063126527692845,\n        \"min\": -2.247682430130414,\n        \"max\": 2.8189350926548733,\n        \"num_unique_values\": 14,\n        \"samples\": [\n          1.5016145367306986,\n          0.08296163035081816\n        ],\n        \"semantic_type\": \"\",\n        \"description\": \"\"\n      }\n    },\n    {\n      \"column\": \"temperatura\",\n      \"properties\": {\n        \"dtype\": \"number\",\n        \"std\": 6.134243830206055,\n        \"min\": 12.0,\n        \"max\": 32.0,\n        \"num_unique_values\": 13,\n        \"samples\": [\n          32.0,\n          14.0\n        ],\n        \"semantic_type\": \"\",\n        \"description\": \"\"\n      }\n    }\n  ]\n}"
                  }
                },
                "metadata": {}
              },
              {
                "output_type": "display_data",
                "data": {
                  "text/plain": "<IPython.core.display.HTML object>",
                  "text/html": "<h2>Últimos registros escalados</h2>"
                },
                "metadata": {}
              },
              {
                "output_type": "display_data",
                "data": {
                  "text/plain": "      vel_viento  presion_atmosferica  humedad_relativa  frentes_frios  \\\n2225   -0.129386            -0.924816          1.730290      -0.998665   \n2226   -0.755739             0.557234         -1.706523       1.001337   \n2227    0.183791            -1.425508         -1.319881      -0.998665   \n2228    1.749674             0.376985         -1.105081       1.001337   \n2229   -1.068916             1.338314          1.601409       1.001337   \n2230    0.966732            -0.484206         -1.319881       1.001337   \n2231   -0.599151            -1.545674         -1.577642       1.001337   \n2232    0.810144            -1.625785         -0.847320      -0.998665   \n2233    0.340379             0.637345          1.257728       1.001337   \n2234    1.593086            -2.306726         -1.276921      -0.998665   \n2235    0.340379            -0.183791          1.515489      -0.998665   \n2236    1.906263            -0.884760         -0.675479      -0.998665   \n2237    1.593086             0.597289         -0.116997       1.001337   \n2238    1.436498            -0.283929          0.742206      -0.998665   \n2239    1.279909            -0.163763         -1.362841      -0.998665   \n2240    0.183791            -0.664456          0.914047       1.001337   \n2241    0.653556            -0.844705         -1.663563      -0.998665   \n2242   -1.382093            -0.824677          0.914047      -0.998665   \n2243    1.123321            -0.043597         -0.546599       1.001337   \n2244   -0.285974             0.296874         -0.245878       1.001337   \n\n      radiacion_solar  luminosidad  contaminacion_atmosferica  \\\n2225         0.272083     1.210470                  -1.064531   \n2226         0.074431    -0.897349                   1.298413   \n2227         0.721645    -1.740477                   1.055882   \n2228         1.287472    -1.318913                   1.104388   \n2229         0.942550     1.526643                   1.513226   \n2230        -1.305258     0.367343                  -1.397144   \n2231        -0.417762    -0.721697                  -1.494157   \n2232         0.101560     0.402473                  -0.600257   \n2233         0.915421    -0.581176                  -1.085319   \n2234         0.973554     0.086300                  -0.655693   \n2235        -0.673547    -1.073001                  -0.482457   \n2236         1.531631    -1.178392                   0.016464   \n2237        -1.173490     0.297082                  -0.205278   \n2238        -0.235612    -0.089352                  -0.239926   \n2239        -1.541666    -1.283783                   0.799492   \n2240        -1.444777    -1.143261                   1.374637   \n2241         1.457996    -0.616306                  -0.184490   \n2242        -1.216121     1.561774                   0.612397   \n2243        -0.735555    -1.459434                   1.624097   \n2244         1.058816     0.332212                   0.695550   \n\n      cobertura_nubosa  temperatura  \n2225          0.386959         26.0  \n2226          0.386959         16.0  \n2227         -0.525032         22.0  \n2228          0.184294         24.0  \n2229         -1.639688         20.0  \n2230         -0.626365         11.0  \n2231         -0.727697         14.0  \n2232          1.501615         14.0  \n2233         -0.322368         16.0  \n2234          1.298950         17.0  \n2235         -1.437024         24.0  \n2236          1.096285         14.0  \n2237         -0.423700         17.0  \n2238          1.704279         18.0  \n2239          1.197617         14.0  \n2240         -0.626365         12.0  \n2241         -0.829030         20.0  \n2242          1.704279         16.0  \n2243         -0.018371         18.0  \n2244          0.386959         17.0  ",
                  "text/html": "\n  <div id=\"df-78f5e29a-b000-4627-8b89-e3f2945a0095\" class=\"colab-df-container\">\n    <div>\n<style scoped>\n    .dataframe tbody tr th:only-of-type {\n        vertical-align: middle;\n    }\n\n    .dataframe tbody tr th {\n        vertical-align: top;\n    }\n\n    .dataframe thead th {\n        text-align: right;\n    }\n</style>\n<table border=\"1\" class=\"dataframe\">\n  <thead>\n    <tr style=\"text-align: right;\">\n      <th></th>\n      <th>vel_viento</th>\n      <th>presion_atmosferica</th>\n      <th>humedad_relativa</th>\n      <th>frentes_frios</th>\n      <th>radiacion_solar</th>\n      <th>luminosidad</th>\n      <th>contaminacion_atmosferica</th>\n      <th>cobertura_nubosa</th>\n      <th>temperatura</th>\n    </tr>\n  </thead>\n  <tbody>\n    <tr>\n      <th>2225</th>\n      <td>-0.129386</td>\n      <td>-0.924816</td>\n      <td>1.730290</td>\n      <td>-0.998665</td>\n      <td>0.272083</td>\n      <td>1.210470</td>\n      <td>-1.064531</td>\n      <td>0.386959</td>\n      <td>26.0</td>\n    </tr>\n    <tr>\n      <th>2226</th>\n      <td>-0.755739</td>\n      <td>0.557234</td>\n      <td>-1.706523</td>\n      <td>1.001337</td>\n      <td>0.074431</td>\n      <td>-0.897349</td>\n      <td>1.298413</td>\n      <td>0.386959</td>\n      <td>16.0</td>\n    </tr>\n    <tr>\n      <th>2227</th>\n      <td>0.183791</td>\n      <td>-1.425508</td>\n      <td>-1.319881</td>\n      <td>-0.998665</td>\n      <td>0.721645</td>\n      <td>-1.740477</td>\n      <td>1.055882</td>\n      <td>-0.525032</td>\n      <td>22.0</td>\n    </tr>\n    <tr>\n      <th>2228</th>\n      <td>1.749674</td>\n      <td>0.376985</td>\n      <td>-1.105081</td>\n      <td>1.001337</td>\n      <td>1.287472</td>\n      <td>-1.318913</td>\n      <td>1.104388</td>\n      <td>0.184294</td>\n      <td>24.0</td>\n    </tr>\n    <tr>\n      <th>2229</th>\n      <td>-1.068916</td>\n      <td>1.338314</td>\n      <td>1.601409</td>\n      <td>1.001337</td>\n      <td>0.942550</td>\n      <td>1.526643</td>\n      <td>1.513226</td>\n      <td>-1.639688</td>\n      <td>20.0</td>\n    </tr>\n    <tr>\n      <th>2230</th>\n      <td>0.966732</td>\n      <td>-0.484206</td>\n      <td>-1.319881</td>\n      <td>1.001337</td>\n      <td>-1.305258</td>\n      <td>0.367343</td>\n      <td>-1.397144</td>\n      <td>-0.626365</td>\n      <td>11.0</td>\n    </tr>\n    <tr>\n      <th>2231</th>\n      <td>-0.599151</td>\n      <td>-1.545674</td>\n      <td>-1.577642</td>\n      <td>1.001337</td>\n      <td>-0.417762</td>\n      <td>-0.721697</td>\n      <td>-1.494157</td>\n      <td>-0.727697</td>\n      <td>14.0</td>\n    </tr>\n    <tr>\n      <th>2232</th>\n      <td>0.810144</td>\n      <td>-1.625785</td>\n      <td>-0.847320</td>\n      <td>-0.998665</td>\n      <td>0.101560</td>\n      <td>0.402473</td>\n      <td>-0.600257</td>\n      <td>1.501615</td>\n      <td>14.0</td>\n    </tr>\n    <tr>\n      <th>2233</th>\n      <td>0.340379</td>\n      <td>0.637345</td>\n      <td>1.257728</td>\n      <td>1.001337</td>\n      <td>0.915421</td>\n      <td>-0.581176</td>\n      <td>-1.085319</td>\n      <td>-0.322368</td>\n      <td>16.0</td>\n    </tr>\n    <tr>\n      <th>2234</th>\n      <td>1.593086</td>\n      <td>-2.306726</td>\n      <td>-1.276921</td>\n      <td>-0.998665</td>\n      <td>0.973554</td>\n      <td>0.086300</td>\n      <td>-0.655693</td>\n      <td>1.298950</td>\n      <td>17.0</td>\n    </tr>\n    <tr>\n      <th>2235</th>\n      <td>0.340379</td>\n      <td>-0.183791</td>\n      <td>1.515489</td>\n      <td>-0.998665</td>\n      <td>-0.673547</td>\n      <td>-1.073001</td>\n      <td>-0.482457</td>\n      <td>-1.437024</td>\n      <td>24.0</td>\n    </tr>\n    <tr>\n      <th>2236</th>\n      <td>1.906263</td>\n      <td>-0.884760</td>\n      <td>-0.675479</td>\n      <td>-0.998665</td>\n      <td>1.531631</td>\n      <td>-1.178392</td>\n      <td>0.016464</td>\n      <td>1.096285</td>\n      <td>14.0</td>\n    </tr>\n    <tr>\n      <th>2237</th>\n      <td>1.593086</td>\n      <td>0.597289</td>\n      <td>-0.116997</td>\n      <td>1.001337</td>\n      <td>-1.173490</td>\n      <td>0.297082</td>\n      <td>-0.205278</td>\n      <td>-0.423700</td>\n      <td>17.0</td>\n    </tr>\n    <tr>\n      <th>2238</th>\n      <td>1.436498</td>\n      <td>-0.283929</td>\n      <td>0.742206</td>\n      <td>-0.998665</td>\n      <td>-0.235612</td>\n      <td>-0.089352</td>\n      <td>-0.239926</td>\n      <td>1.704279</td>\n      <td>18.0</td>\n    </tr>\n    <tr>\n      <th>2239</th>\n      <td>1.279909</td>\n      <td>-0.163763</td>\n      <td>-1.362841</td>\n      <td>-0.998665</td>\n      <td>-1.541666</td>\n      <td>-1.283783</td>\n      <td>0.799492</td>\n      <td>1.197617</td>\n      <td>14.0</td>\n    </tr>\n    <tr>\n      <th>2240</th>\n      <td>0.183791</td>\n      <td>-0.664456</td>\n      <td>0.914047</td>\n      <td>1.001337</td>\n      <td>-1.444777</td>\n      <td>-1.143261</td>\n      <td>1.374637</td>\n      <td>-0.626365</td>\n      <td>12.0</td>\n    </tr>\n    <tr>\n      <th>2241</th>\n      <td>0.653556</td>\n      <td>-0.844705</td>\n      <td>-1.663563</td>\n      <td>-0.998665</td>\n      <td>1.457996</td>\n      <td>-0.616306</td>\n      <td>-0.184490</td>\n      <td>-0.829030</td>\n      <td>20.0</td>\n    </tr>\n    <tr>\n      <th>2242</th>\n      <td>-1.382093</td>\n      <td>-0.824677</td>\n      <td>0.914047</td>\n      <td>-0.998665</td>\n      <td>-1.216121</td>\n      <td>1.561774</td>\n      <td>0.612397</td>\n      <td>1.704279</td>\n      <td>16.0</td>\n    </tr>\n    <tr>\n      <th>2243</th>\n      <td>1.123321</td>\n      <td>-0.043597</td>\n      <td>-0.546599</td>\n      <td>1.001337</td>\n      <td>-0.735555</td>\n      <td>-1.459434</td>\n      <td>1.624097</td>\n      <td>-0.018371</td>\n      <td>18.0</td>\n    </tr>\n    <tr>\n      <th>2244</th>\n      <td>-0.285974</td>\n      <td>0.296874</td>\n      <td>-0.245878</td>\n      <td>1.001337</td>\n      <td>1.058816</td>\n      <td>0.332212</td>\n      <td>0.695550</td>\n      <td>0.386959</td>\n      <td>17.0</td>\n    </tr>\n  </tbody>\n</table>\n</div>\n    <div class=\"colab-df-buttons\">\n\n  <div class=\"colab-df-container\">\n    <button class=\"colab-df-convert\" onclick=\"convertToInteractive('df-78f5e29a-b000-4627-8b89-e3f2945a0095')\"\n            title=\"Convert this dataframe to an interactive table.\"\n            style=\"display:none;\">\n\n  <svg xmlns=\"http://www.w3.org/2000/svg\" height=\"24px\" viewBox=\"0 -960 960 960\">\n    <path d=\"M120-120v-720h720v720H120Zm60-500h600v-160H180v160Zm220 220h160v-160H400v160Zm0 220h160v-160H400v160ZM180-400h160v-160H180v160Zm440 0h160v-160H620v160ZM180-180h160v-160H180v160Zm440 0h160v-160H620v160Z\"/>\n  </svg>\n    </button>\n\n  <style>\n    .colab-df-container {\n      display:flex;\n      gap: 12px;\n    }\n\n    .colab-df-convert {\n      background-color: #E8F0FE;\n      border: none;\n      border-radius: 50%;\n      cursor: pointer;\n      display: none;\n      fill: #1967D2;\n      height: 32px;\n      padding: 0 0 0 0;\n      width: 32px;\n    }\n\n    .colab-df-convert:hover {\n      background-color: #E2EBFA;\n      box-shadow: 0px 1px 2px rgba(60, 64, 67, 0.3), 0px 1px 3px 1px rgba(60, 64, 67, 0.15);\n      fill: #174EA6;\n    }\n\n    .colab-df-buttons div {\n      margin-bottom: 4px;\n    }\n\n    [theme=dark] .colab-df-convert {\n      background-color: #3B4455;\n      fill: #D2E3FC;\n    }\n\n    [theme=dark] .colab-df-convert:hover {\n      background-color: #434B5C;\n      box-shadow: 0px 1px 3px 1px rgba(0, 0, 0, 0.15);\n      filter: drop-shadow(0px 1px 2px rgba(0, 0, 0, 0.3));\n      fill: #FFFFFF;\n    }\n  </style>\n\n    <script>\n      const buttonEl =\n        document.querySelector('#df-78f5e29a-b000-4627-8b89-e3f2945a0095 button.colab-df-convert');\n      buttonEl.style.display =\n        google.colab.kernel.accessAllowed ? 'block' : 'none';\n\n      async function convertToInteractive(key) {\n        const element = document.querySelector('#df-78f5e29a-b000-4627-8b89-e3f2945a0095');\n        const dataTable =\n          await google.colab.kernel.invokeFunction('convertToInteractive',\n                                                    [key], {});\n        if (!dataTable) return;\n\n        const docLinkHtml = 'Like what you see? Visit the ' +\n          '<a target=\"_blank\" href=https://colab.research.google.com/notebooks/data_table.ipynb>data table notebook</a>'\n          + ' to learn more about interactive tables.';\n        element.innerHTML = '';\n        dataTable['output_type'] = 'display_data';\n        await google.colab.output.renderOutput(dataTable, element);\n        const docLink = document.createElement('div');\n        docLink.innerHTML = docLinkHtml;\n        element.appendChild(docLink);\n      }\n    </script>\n  </div>\n\n\n<div id=\"df-944d9038-f223-45fc-90ac-292670dfc309\">\n  <button class=\"colab-df-quickchart\" onclick=\"quickchart('df-944d9038-f223-45fc-90ac-292670dfc309')\"\n            title=\"Suggest charts\"\n            style=\"display:none;\">\n\n<svg xmlns=\"http://www.w3.org/2000/svg\" height=\"24px\"viewBox=\"0 0 24 24\"\n     width=\"24px\">\n    <g>\n        <path d=\"M19 3H5c-1.1 0-2 .9-2 2v14c0 1.1.9 2 2 2h14c1.1 0 2-.9 2-2V5c0-1.1-.9-2-2-2zM9 17H7v-7h2v7zm4 0h-2V7h2v10zm4 0h-2v-4h2v4z\"/>\n    </g>\n</svg>\n  </button>\n\n<style>\n  .colab-df-quickchart {\n      --bg-color: #E8F0FE;\n      --fill-color: #1967D2;\n      --hover-bg-color: #E2EBFA;\n      --hover-fill-color: #174EA6;\n      --disabled-fill-color: #AAA;\n      --disabled-bg-color: #DDD;\n  }\n\n  [theme=dark] .colab-df-quickchart {\n      --bg-color: #3B4455;\n      --fill-color: #D2E3FC;\n      --hover-bg-color: #434B5C;\n      --hover-fill-color: #FFFFFF;\n      --disabled-bg-color: #3B4455;\n      --disabled-fill-color: #666;\n  }\n\n  .colab-df-quickchart {\n    background-color: var(--bg-color);\n    border: none;\n    border-radius: 50%;\n    cursor: pointer;\n    display: none;\n    fill: var(--fill-color);\n    height: 32px;\n    padding: 0;\n    width: 32px;\n  }\n\n  .colab-df-quickchart:hover {\n    background-color: var(--hover-bg-color);\n    box-shadow: 0 1px 2px rgba(60, 64, 67, 0.3), 0 1px 3px 1px rgba(60, 64, 67, 0.15);\n    fill: var(--button-hover-fill-color);\n  }\n\n  .colab-df-quickchart-complete:disabled,\n  .colab-df-quickchart-complete:disabled:hover {\n    background-color: var(--disabled-bg-color);\n    fill: var(--disabled-fill-color);\n    box-shadow: none;\n  }\n\n  .colab-df-spinner {\n    border: 2px solid var(--fill-color);\n    border-color: transparent;\n    border-bottom-color: var(--fill-color);\n    animation:\n      spin 1s steps(1) infinite;\n  }\n\n  @keyframes spin {\n    0% {\n      border-color: transparent;\n      border-bottom-color: var(--fill-color);\n      border-left-color: var(--fill-color);\n    }\n    20% {\n      border-color: transparent;\n      border-left-color: var(--fill-color);\n      border-top-color: var(--fill-color);\n    }\n    30% {\n      border-color: transparent;\n      border-left-color: var(--fill-color);\n      border-top-color: var(--fill-color);\n      border-right-color: var(--fill-color);\n    }\n    40% {\n      border-color: transparent;\n      border-right-color: var(--fill-color);\n      border-top-color: var(--fill-color);\n    }\n    60% {\n      border-color: transparent;\n      border-right-color: var(--fill-color);\n    }\n    80% {\n      border-color: transparent;\n      border-right-color: var(--fill-color);\n      border-bottom-color: var(--fill-color);\n    }\n    90% {\n      border-color: transparent;\n      border-bottom-color: var(--fill-color);\n    }\n  }\n</style>\n\n  <script>\n    async function quickchart(key) {\n      const quickchartButtonEl =\n        document.querySelector('#' + key + ' button');\n      quickchartButtonEl.disabled = true;  // To prevent multiple clicks.\n      quickchartButtonEl.classList.add('colab-df-spinner');\n      try {\n        const charts = await google.colab.kernel.invokeFunction(\n            'suggestCharts', [key], {});\n      } catch (error) {\n        console.error('Error during call to suggestCharts:', error);\n      }\n      quickchartButtonEl.classList.remove('colab-df-spinner');\n      quickchartButtonEl.classList.add('colab-df-quickchart-complete');\n    }\n    (() => {\n      let quickchartButtonEl =\n        document.querySelector('#df-944d9038-f223-45fc-90ac-292670dfc309 button');\n      quickchartButtonEl.style.display =\n        google.colab.kernel.accessAllowed ? 'block' : 'none';\n    })();\n  </script>\n</div>\n    </div>\n  </div>\n",
                  "application/vnd.google.colaboratory.intrinsic+json": {
                    "type": "dataframe",
                    "summary": "{\n  \"name\": \"display(visualizar)\",\n  \"rows\": 20,\n  \"fields\": [\n    {\n      \"column\": \"vel_viento\",\n      \"properties\": {\n        \"dtype\": \"number\",\n        \"std\": 0.9785535223885158,\n        \"min\": -1.382092670165645,\n        \"max\": 1.9062625624843343,\n        \"num_unique_values\": 17,\n        \"samples\": [\n          -0.12938591487041484,\n          -0.75573929251803,\n          0.9667324960129117\n        ],\n        \"semantic_type\": \"\",\n        \"description\": \"\"\n      }\n    },\n    {\n      \"column\": \"presion_atmosferica\",\n      \"properties\": {\n        \"dtype\": \"number\",\n        \"std\": 0.9119368892211417,\n        \"min\": -2.3067264910212875,\n        \"max\": 1.338313872847918,\n        \"num_unique_values\": 20,\n        \"samples\": [\n          -0.9248155838401051,\n          -0.8246771123052368,\n          -0.6644555578494475\n        ],\n        \"semantic_type\": \"\",\n        \"description\": \"\"\n      }\n    },\n    {\n      \"column\": \"humedad_relativa\",\n      \"properties\": {\n        \"dtype\": \"number\",\n        \"std\": 1.21985177933606,\n        \"min\": -1.70652271809667,\n        \"max\": 1.7302895378174123,\n        \"num_unique_values\": 18,\n        \"samples\": [\n          1.7302895378174123,\n          -1.70652271809667,\n          -1.2769211861074097\n        ],\n        \"semantic_type\": \"\",\n        \"description\": \"\"\n      }\n    },\n    {\n      \"column\": \"frentes_frios\",\n      \"properties\": {\n        \"dtype\": \"number\",\n        \"std\": 1.0259792681339368,\n        \"min\": -0.9986645887654636,\n        \"max\": 1.001337196942356,\n        \"num_unique_values\": 2,\n        \"samples\": [\n          1.001337196942356,\n          -0.9986645887654636\n        ],\n        \"semantic_type\": \"\",\n        \"description\": \"\"\n      }\n    },\n    {\n      \"column\": \"radiacion_solar\",\n      \"properties\": {\n        \"dtype\": \"number\",\n        \"std\": 1.0454453266336698,\n        \"min\": -1.5416657151460107,\n        \"max\": 1.5316307643178437,\n        \"num_unique_values\": 20,\n        \"samples\": [\n          0.27208302683265745,\n          -1.2161210691498396\n        ],\n        \"semantic_type\": \"\",\n        \"description\": \"\"\n      }\n    },\n    {\n      \"column\": \"luminosidad\",\n      \"properties\": {\n        \"dtype\": \"number\",\n        \"std\": 1.0049118150373393,\n        \"min\": -1.7404767293161127,\n        \"max\": 1.5617737016803297,\n        \"num_unique_values\": 20,\n        \"samples\": [\n          1.2104704643402826,\n          1.5617737016803297\n        ],\n        \"semantic_type\": \"\",\n        \"description\": \"\"\n      }\n    },\n    {\n      \"column\": \"contaminacion_atmosferica\",\n      \"properties\": {\n        \"dtype\": \"number\",\n        \"std\": 1.016385521947433,\n        \"min\": -1.4941567334435506,\n        \"max\": 1.62409709438792,\n        \"num_unique_values\": 20,\n        \"samples\": [\n          -1.0645306504978813,\n          0.6123969635803762\n        ],\n        \"semantic_type\": \"\",\n        \"description\": \"\"\n      }\n    },\n    {\n      \"column\": \"cobertura_nubosa\",\n      \"properties\": {\n        \"dtype\": \"number\",\n        \"std\": 1.0215566443728326,\n        \"min\": -1.6396883273961795,\n        \"max\": 1.70427923764211,\n        \"num_unique_values\": 16,\n        \"samples\": [\n          0.3869586817179354,\n          -0.5250324723834163\n        ],\n        \"semantic_type\": \"\",\n        \"description\": \"\"\n      }\n    },\n    {\n      \"column\": \"temperatura\",\n      \"properties\": {\n        \"dtype\": \"number\",\n        \"std\": 4.097496026137247,\n        \"min\": 11.0,\n        \"max\": 26.0,\n        \"num_unique_values\": 10,\n        \"samples\": [\n          18.0,\n          16.0\n        ],\n        \"semantic_type\": \"\",\n        \"description\": \"\"\n      }\n    }\n  ]\n}"
                  }
                },
                "metadata": {}
              }
            ]
          }
        },
        "be20f03c89004b079e6bf40eccf11f89": {
          "model_module": "@jupyter-widgets/base",
          "model_name": "LayoutModel",
          "model_module_version": "1.2.0",
          "state": {
            "_model_module": "@jupyter-widgets/base",
            "_model_module_version": "1.2.0",
            "_model_name": "LayoutModel",
            "_view_count": null,
            "_view_module": "@jupyter-widgets/base",
            "_view_module_version": "1.2.0",
            "_view_name": "LayoutView",
            "align_content": null,
            "align_items": null,
            "align_self": null,
            "border": null,
            "bottom": null,
            "display": null,
            "flex": null,
            "flex_flow": null,
            "grid_area": null,
            "grid_auto_columns": null,
            "grid_auto_flow": null,
            "grid_auto_rows": null,
            "grid_column": null,
            "grid_gap": null,
            "grid_row": null,
            "grid_template_areas": null,
            "grid_template_columns": null,
            "grid_template_rows": null,
            "height": null,
            "justify_content": null,
            "justify_items": null,
            "left": null,
            "margin": null,
            "max_height": null,
            "max_width": null,
            "min_height": null,
            "min_width": null,
            "object_fit": null,
            "object_position": null,
            "order": null,
            "overflow": null,
            "overflow_x": null,
            "overflow_y": null,
            "padding": null,
            "right": null,
            "top": null,
            "visibility": null,
            "width": null
          }
        }
      }
    }
  },
  "cells": [
    {
      "cell_type": "markdown",
      "metadata": {
        "id": "view-in-github",
        "colab_type": "text"
      },
      "source": [
        "<a href=\"https://colab.research.google.com/github/rpizarrog/innovacion-empresarial/blob/main/notebook_python/Caso_10_Validaci%C3%B3n_cruzada_Algoritmos_de_regresi%C3%B3n_multivariada_Temperaturas.ipynb\" target=\"_parent\"><img src=\"https://colab.research.google.com/assets/colab-badge.svg\" alt=\"Open In Colab\"/></a>"
      ]
    },
    {
      "cell_type": "markdown",
      "source": [
        "# Objetivo\n",
        "\n",
        "Construir y evaluar modelos de regresión multivariada mediante técnicas de validación cruzada.\n",
        "\n"
      ],
      "metadata": {
        "id": "-ikTsFk1w6nB"
      }
    },
    {
      "cell_type": "markdown",
      "source": [
        "# Marco teórico\n",
        "\n",
        "La validación cruzada es una técnica de evaluación de modelos que se utiliza tanto en alfgortimos de  clasificación como en técnicas de regresión. Esta validación, ayuda a asegurar que el modelo sea capaz de generalizar a datos no vistos, es decir, realizar predicciones precisas en nuevos conjuntos de datos fuera del conjunto de entrenamiento.\n",
        "\n",
        "La validación cruzada es especialmente importante en la regresión, donde el objetivo es predecir un valor numérico continuo.\n",
        "\n",
        "El proceso de validación cruzada implica dividir el conjunto de datos completo en $\"k\"$ subconjuntos (o \"folds\"). El modelo se entrena en $\"k-1\"$ de estos folds y luego se prueba en el fold restante. Este proceso se repite $\"k\"$ veces, con un fold diferente utilizado como el conjunto de prueba en cada iteración, y los demás folds utilizados como conjunto de entrenamiento.\n",
        "\n",
        "Al final del proceso, se tiene $\"k\"$ resultados de evaluación del modelo (por ejemplo, el error cuadrático medio para regresión) que pueden ser promediados para obtener una estimación más precisa del rendimiento del modelo.\n",
        "\n",
        "Para qué utilizar validación cruzada?, permite estimar qué tan bien el modelo se generalizará a un conjunto de datos independiente además de un uso eficiente de datos al  distintos datos de entrenamiento y validación.  La validación cruzada aprovecha al máximo el conjunto de datos disponible, lo que es especialmente útil cuando la cantidad de datos es limitada. Además, ayuda a reducir el sobreajuste, es decir,  ayuda a identificar modelos que funcionan bien no solo en el conjunto de entrenamiento sino también en conjuntos de prueba, lo que puede ayudar a seleccionar modelos y parámetros que minimizan el sobreajuste.\n",
        "\n",
        "Como desventaja es que hay un costo de trabajo computacional, como hay que dividir el conunto d edatos en $k$ conuntos y diversas nteracciones es necesario un trbajo compuacional extra. demás hay que busar el númeo adecuado de $k$ conjuntos y $k$ iteracciones\n",
        "\n",
        "Este caso utiliza la técnica de validación cruzada con el conjunto de datos ya conocido de temperaturas para evaluar y determinar cúal es el mejor modelo de regresión de los hasta ahora vistos.\n",
        "\n",
        "# Los datos\n",
        "\n",
        "## Las variables independientes:\n",
        "\n",
        "* 1. Mes (mes): Afecta debido a las variaciones estacionales. No se considera en el modelo\n",
        "* 2. Día (dia): Puede influir ligeramente debido al cambio gradual de las temperaturas a lo largo del mes. No se considera en el modelo.\n",
        "* 3. Velocidad del viento (velocidad_viento): Velocidades más altas pueden reducir la sensación térmica. km/hr\n",
        "* 4. Presión atmosférica (presion_atmosferica): Cambios en la presión pueden indicar cambios en el clima. hpa\n",
        "* 5. Humedad relativa (humedad_relativa): Afecta la sensación térmica y puede influir en la temperatura real.\n",
        "* 6. Presencia de frentes fríos (frentes_frios): Un indicador binario (0 o 1) para la presencia de un frente frío.\n",
        "* 7. Latitud (latitud): Afecta la temperatura promedio, con temperaturas generalmente disminuyendo al alejarse del ecuador.\n",
        "* 8. Longitud (longitud): Puede tener un efecto indirecto, especialmente en grandes países donde el clima varía de costa a costa.\n",
        "* 9. Altitud (altitud): La temperatura tiende a disminuir con la altitud debido a la baja densidad del aire y la disminución de la presión atmosférica.\n",
        "* 10. Radiación Solar (radiacion_solar): La cantidad de radiación solar que llega a la superficie terrestre tiene un impacto directo en la temperatura. Esta variable puede variar según la cobertura de nubes, la hora del día y la época del año. 100 a 1000 W/m^2\n",
        "* 11. Luminosidad o Insolación (luminosidad): Estrechamente relacionada con la radiación solar, se refiere a la cantidad de luz solar que llega a la Tierra. Afecta la temperatura especialmente durante las horas diurnas. Soleado obscuro de 0 a 100\n",
        "* 12. Contaminación o Calidad del Aire (contaminacion): Partículas y gases en la atmósfera pueden atrapar el calor, contribuyendo al efecto invernadero y, por ende, a temperaturas más altas en áreas urbanas o industrializadas. Variables como el nivel de dióxido de carbono o la presencia de ozono cerca de la superficie pueden ser indicadores de contaminación. Niveles de 0 a 500, niveles altos son peligrosos.\n",
        "* 13. Cobertura de Nubes (cobertura_nubes): La cantidad de nubes en el cielo puede influir en la temperatura al bloquear la radiación solar directa durante el día y atrapar el calor durante la noche. Porcentaje de 0 a 100%\n",
        "\n",
        "## La variable dependiente\n",
        "\n",
        "* Temperatura ambiental es la cantidad de grados centígrados promedio.\n",
        "\n",
        "# Descripción\n",
        "\n",
        "* Se cargan librerías\n",
        "* Se cargan funciones\n",
        "* Se cargan widgest\n",
        "* Se cargan los datos\n",
        "* Se observa un diagrama de serie de tiempo con als fechas y temperatuas promedio por mes\n",
        "* Se observa un diagrama de correlación entre variables independientes.\n",
        "* Se observan los datos los primero y ultimos 20 registros de conjunto de datos\n",
        "* Se hacen datos de entrenamieto y datos de validación\n",
        "* Se construye el modelo con los datos de entrenamiento\n",
        "  * Modelo SVR con kernel lineal\n",
        "  * Modelo SVR con kernel polinomial\n",
        "  * Modelo SVR con kernel radial\n",
        "* Se hacen predicciones con los datos de validación\n",
        "* Se evalúa el *r squared*\n",
        "* Se evalúa el modelo con *RMSE root mean square error* que significa las predicciones que tanto se alejan de las realidades.\n",
        "* Se hace una prediccón con un nuevo registro.\n",
        "* Se interpreta el caso\n",
        "\n",
        "## Métricas del modelo\n",
        "\n",
        "* El modelo se acepta si el valor de *r squared* está por encima del 50%*.\n",
        "* El valor de *RMSE* se comparará entre si entre todos los modelos.\n",
        "\n"
      ],
      "metadata": {
        "id": "NAha8mQ9xANn"
      }
    },
    {
      "cell_type": "markdown",
      "source": [
        "# Desarrollo\n",
        "\n",
        "## Cargar librerías\n",
        "\n",
        "Se cargan todas las librerías que construye y evalúan modelos de regresión multivariable.\n",
        "\n"
      ],
      "metadata": {
        "id": "7w4mCjujy8s-"
      }
    },
    {
      "cell_type": "code",
      "source": [
        "import numpy as np\n",
        "import pandas as pd\n",
        "\n",
        "import matplotlib.pyplot as plt\n",
        "import seaborn as sns\n",
        "\n",
        "import ipywidgets as widgets\n",
        "from IPython.display import display, HTML, clear_output\n",
        "\n",
        "import time # Para medir el tiempo de ejecucón\n",
        "\n",
        "# Para árboles de regresión\n",
        "from sklearn.tree import DecisionTreeRegressor\n",
        "from sklearn.metrics import mean_squared_error, r2_score\n",
        "from sklearn.model_selection import train_test_split\n",
        "\n",
        "# Para random Forest\n",
        "from sklearn.ensemble import RandomForestRegressor\n",
        "\n",
        "from sklearn.tree import DecisionTreeRegressor, plot_tree # Para visualiar árbol\n",
        "from sklearn.tree import export_text # Para reglas de asociación\n",
        "\n",
        "\n",
        "# Para modelo polinomial\n",
        "\n",
        "from sklearn.preprocessing import PolynomialFeatures\n",
        "from sklearn.linear_model import LinearRegression\n",
        "from sklearn.model_selection import train_test_split # Para partir datos en datos entrenamieto y datos validación\n",
        "\n",
        "# Para modelo de SVR\n",
        "from sklearn.preprocessing import StandardScaler\n",
        "from sklearn.svm import SVR\n",
        "from sklearn.model_selection import train_test_split # Para partir datos en datos entrenamieto y datos validación\n",
        "\n",
        "# Para escalar datos\n",
        "from sklearn.preprocessing import StandardScaler # Para escalar datos\n",
        "\n",
        "from sklearn import metrics # Para determinar métricas.\n",
        "from sklearn.metrics import mean_squared_error, r2_score\n",
        "\n",
        "# Para determinar estadísticos ...\n",
        "import statsmodels.api as sm\n",
        "\n",
        "# Para validación cruzada\n",
        "from sklearn.model_selection import cross_val_score, KFold\n",
        "from sklearn.preprocessing import StandardScaler"
      ],
      "metadata": {
        "id": "Bcg2H1IazWBv"
      },
      "execution_count": 65,
      "outputs": []
    },
    {
      "cell_type": "markdown",
      "source": [
        "## Cagar funciones\n",
        "\n"
      ],
      "metadata": {
        "id": "qEF98E42zcD-"
      }
    },
    {
      "cell_type": "code",
      "source": [
        "def f_ver_temperaturas (fechas, temperaturas):\n",
        "    # Crear un DataFrame con las fechas y temperaturas\n",
        "    df = pd.DataFrame({'fecha': fechas, 'temperatura': temperaturas})\n",
        "\n",
        "    # Asegurarse de que 'fecha' es un tipo datetime\n",
        "    df['fecha'] = pd.to_datetime(df['fecha'])\n",
        "\n",
        "    # Establecer 'fecha' como el índice del DataFrame\n",
        "    df.set_index('fecha', inplace=True)\n",
        "\n",
        "    # Agrupar por mes y año, y calcular la temperatura promedio\n",
        "    df_resampled = df.resample('M').mean()\n",
        "\n",
        "    # Crear la visualización\n",
        "    plt.figure(figsize=(12, 6))\n",
        "    plt.plot(df_resampled.index, df_resampled['temperatura'], marker='o', linestyle='-', color='b')\n",
        "    plt.title('Temperatura promedio diario mensual por Año')\n",
        "    plt.xlabel('Fecha')\n",
        "    plt.ylabel('Temperatura Promedio (°C)')\n",
        "    plt.grid(True)\n",
        "    plt.xticks(rotation=45)\n",
        "    plt.tight_layout()\n",
        "    plt.show()\n",
        "\n",
        "def f_matriz_correlacion_variables(datos):\n",
        "  # Calcular la matriz de correlación\n",
        "  corr_matrix = datos.corr()\n",
        "\n",
        "  # Visualizar la matriz de correlación\n",
        "  plt.figure(figsize=(10, 8))\n",
        "  sns.heatmap(corr_matrix, annot=True, fmt=\".2f\")\n",
        "  plt.show()\n",
        "\n",
        "# Esta función regresa los valores de los Coeficientes\n",
        "# El intercept_0 es el coeficiene de intersección y el resto\n",
        "# son los 8 coeficiene de las 8 variables predictoras del 0 al 7 por ser un arreglo\n",
        "def f_coeficientes_modelo (modelo):\n",
        "  return modelo.intercept_, modelo.coef_[0], modelo.coef_[1], modelo.coef_[2], modelo.coef_[3], modelo.coef_[4], modelo.coef_[5], modelo.coef_[6], modelo.coef_[7]\n",
        "\n",
        "# funci´pn para ayudar a los hiperplanso, npumero de rengloes en la matriz de visualizaciones\n",
        "def f_ajustar_y_dividir(numero):\n",
        "  # Verificar si el número es impar (non)\n",
        "  if numero % 2 != 0:\n",
        "    numero += 1  # Hacerlo par incrementándolo en 1\n",
        "  return numero / 2  # Dividir el número resultante entre 2 y retornarlo\n",
        "\n",
        "# Función que deuelve interpretaciones con base en el valor w de acuerdo al hiperplano lineal\n",
        "def f_interpretar_relacion(w, nombres_variables, dependiente):\n",
        "    interpretaciones = []  # Inicializar una lista vacía para almacenar las interpretaciones\n",
        "\n",
        "    for i, coef in enumerate(w):\n",
        "        if coef > 0:\n",
        "            interpretacion = \"La relación entre la variable independiente \" + nombres_variables[i] + \" y la dependiente es ascendente. Cuando aumenta \" + nombres_variables[i] + \", aumenta la variable \" + dependiente\n",
        "        elif coef < 0:\n",
        "            interpretacion = \"La relación entre la variable independiente \" + nombres_variables[i] + \" y la dependiente es descendente. Cuando aumenta \" + nombres_variables[i] + \", disminuye la variable \" + dependiente\n",
        "        else:\n",
        "            interpretacion = \"La variable independiente \" + nombres_variables[i] + \" no tiene una relación lineal clara con la variable \"+ dependiente\n",
        "        interpretaciones.append(interpretacion)  # Añadir la interpretación actual a la lista de interpretaciones\n",
        "\n",
        "    return interpretaciones  # Devolver la lista completa de interpretaciones\n",
        "\n",
        "\n",
        "def f_hiperplanos_lineal_svr(w, b, error, nombres_variables, datos_escalados):\n",
        "  # Ajustar el número de filas para los gráficos\n",
        "  num_variables = len(nombres_variables)\n",
        "  renglones = int(f_ajustar_y_dividir(num_variables))\n",
        "  columnas = 2 if num_variables > 1 else 1\n",
        "\n",
        "  # Configura la matriz de visualizaciones para hiperplanos debe ser cuadrada\n",
        "  fig, axs = plt.subplots(renglones, 2, figsize=(15, 9))\n",
        "  if renglones * columnas == 1:\n",
        "    axs = np.array([axs]) # Asegurarse de que axs sea iterable\n",
        "\n",
        "  for i, nombre_var in enumerate(nombres_variables):\n",
        "     # Dibujando hiperplanos\n",
        "    x_values = datos_escalados[nombre_var]\n",
        "    y_hyperplano = w[0,i] * x_values + b\n",
        "    y_margen_superior = y_hyperplano + error\n",
        "    y_margen_inferior = y_hyperplano - error\n",
        "\n",
        "    # Encontrar el índice de la subfigura actual\n",
        "    fila = i // columnas\n",
        "    columna = i % columnas\n",
        "\n",
        "    axs[fila, columna].plot(x_values, y_hyperplano, 'r', label=f'Hiperplano para {nombre_var}')\n",
        "    axs[fila, columna].plot(x_values, y_margen_superior, 'b--', label='Margen superior')\n",
        "    axs[fila, columna].plot(x_values, y_margen_inferior, 'b--', label='Margen inferior')\n",
        "    axs[fila, columna].set_xlabel(nombre_var)\n",
        "    axs[fila, columna].set_ylabel('y')\n",
        "    axs[fila, columna].legend()\n",
        "\n",
        "  # Esconder gráficos vacíos si los hay\n",
        "  for j in range(i + 1, renglones * columnas):\n",
        "    fila = j // columnas\n",
        "    columna = j % columnas\n",
        "    axs[fila, columna].axis('off')\n",
        "\n",
        "  plt.tight_layout()\n",
        "  plt.show()\n",
        "\n",
        "# Función para trazar las predicciones del modelo SVR para cada variable independiente en una matriz de subgráficos.\n",
        "def f_plot_svr_predicciones(modelo, X_train, X_test, y_test, nombres_variables):\n",
        "    \"\"\"\n",
        "    Función para trazar las predicciones del modelo SVR para cada variable independiente en una matriz de subgráficos.\n",
        "\n",
        "    :param modelo: modelo SVR entrenado.\n",
        "    :param X_train: conjunto de entrenamiento (para calcular los promedios).\n",
        "    :param X_test: conjunto de prueba.\n",
        "    :param y_test: valores reales de la variable dependiente correspondientes a X_test.\n",
        "    :param nombres_variables: lista de nombres de las variables independientes.\n",
        "\n",
        "\n",
        "    \"\"\"\n",
        "\n",
        "      # Ajustar el número de filas para los gráficos\n",
        "    num_variables = len(nombres_variables)\n",
        "    renglones = int(f_ajustar_y_dividir(num_variables))\n",
        "    columnas = 4 if num_variables > 1 else 1\n",
        "\n",
        "    X_train_mean = X_train.mean().values  # Calculamos la media de X_train\n",
        "    n_vars = len(nombres_variables)\n",
        "    fig, axs = plt.subplots(renglones, columnas, figsize=(20, 10))  # Ajusta el tamaño según necesites\n",
        "    axs = axs.flatten()  # Aplanar el array de ejes para facilitar su manejo\n",
        "\n",
        "    for i, nombre_var in enumerate(nombres_variables):\n",
        "        variable_values = X_test[nombre_var].values\n",
        "        X_pred = np.tile(X_train_mean, (len(variable_values), 1))\n",
        "        indice_var = nombres_variables.index(nombre_var)\n",
        "        X_pred[:, indice_var] = variable_values\n",
        "\n",
        "        # Hacemos predicciones utilizando el modelo\n",
        "        y_pred = modelo.predict(X_pred)\n",
        "\n",
        "        # Graficar en el subgráfico correspondiente\n",
        "        axs[i].scatter(variable_values, y_test, color='red', label='Datos reales', alpha=0.5)\n",
        "        axs[i].scatter(variable_values, y_pred, color='blue', label='Predicciones del modelo', alpha=0.5)\n",
        "        axs[i].set_xlabel(nombre_var)\n",
        "        axs[i].set_ylabel('Temperatura')\n",
        "        axs[i].set_title(f'{nombre_var} vs. Temp')\n",
        "        if i == 0:  # Solo añadimos la leyenda al primer subgráfico para evitar repetición\n",
        "            axs[i].legend()\n",
        "\n",
        "    # Asegurarse de que no haya subgráficos vacíos si el número de variables es menor que el número total de subgráficos\n",
        "    for ax in axs[n_vars:]:\n",
        "        fig.delaxes(ax)\n",
        "\n",
        "    plt.tight_layout()\n",
        "    plt.show()"
      ],
      "metadata": {
        "id": "mLRZ8G5OzeoF"
      },
      "execution_count": 66,
      "outputs": []
    },
    {
      "cell_type": "markdown",
      "source": [
        "## Crear widgets\n",
        "\n"
      ],
      "metadata": {
        "id": "3BGUjHWs0EhA"
      }
    },
    {
      "cell_type": "code",
      "source": [
        "# Crear un widget de salida\n",
        "visualizar = widgets.Output()\n",
        "\n",
        "\n",
        "# Función para actualizar y mostrar el contenido dinámicamente en el widget de salida\n",
        "def f_visualizar_datos(datos1, datos2, titulo1, titulo2):\n",
        "    with visualizar:\n",
        "        #global titulo1, titulo2\n",
        "        #titulo1 = \"Primeros 20 registros de datos\"\n",
        "        visualizar.clear_output(wait=True)  # Limpiar el contenido anterior\n",
        "        display(HTML(f\"<h2>{titulo1}</h2>\"))  # Establecer el nuevo título\n",
        "        # Visualizar datos\n",
        "        display(datos1)\n",
        "\n",
        "        #titulo2 = \"Últimos 20 registros de datos\"\n",
        "        display(HTML(f\"<h2>{titulo2}</h2>\"))  # Establecer el nuevo título\n",
        "        # Visualizar datos\n",
        "        display(datos2)"
      ],
      "metadata": {
        "id": "C_HA5yAr0GHb"
      },
      "execution_count": 67,
      "outputs": []
    },
    {
      "cell_type": "markdown",
      "source": [
        "## Cargar los datos\n",
        "\n",
        "Los datos son los mismos datos de orgigen de las variables independiente que afectan a un valor continuo de temperatura y que se han estado utilizando por los algoritmos de regresión anteriores.\n",
        "\n"
      ],
      "metadata": {
        "id": "EuBnzIrO0Guw"
      }
    },
    {
      "cell_type": "code",
      "source": [
        "datos = pd.read_csv(\"https://raw.githubusercontent.com/rpizarrog/innovacion-empresarial/main/datos/temperaturas.csv\")\n",
        "\n",
        "# Llamar a la función para mostrar datos de entrenamiento ordenados por índice\n",
        "f_visualizar_datos(datos.head(20), datos.tail(20), \"Primeros registros de Datos\", \"Últimos registros de Datos\")\n",
        "\n",
        "# Para mostrar el widget de salida\n",
        "display(visualizar)"
      ],
      "metadata": {
        "colab": {
          "base_uri": "https://localhost:8080/",
          "height": 1000,
          "referenced_widgets": [
            "6c94cf3e0eec45e89d8b87f56f7945b0",
            "be20f03c89004b079e6bf40eccf11f89"
          ]
        },
        "id": "POEyYscw0IKM",
        "outputId": "de91f406-a510-47b7-81aa-0a598562d122"
      },
      "execution_count": 68,
      "outputs": [
        {
          "output_type": "display_data",
          "data": {
            "text/plain": [
              "Output()"
            ],
            "application/vnd.jupyter.widget-view+json": {
              "version_major": 2,
              "version_minor": 0,
              "model_id": "6c94cf3e0eec45e89d8b87f56f7945b0"
            }
          },
          "metadata": {}
        }
      ]
    },
    {
      "cell_type": "markdown",
      "source": [
        "## Escalar los datos\n",
        "\n",
        "Como algunos algoritmos como las máquinas de soporte de regesiín, funcionan mejor con datos escalados, se toma la decisión de que todos los valores serán escalados para que todos los algoritmos utilicen datos escaldos.\n",
        "\n",
        "Se escalan los datos excepto temperatura\n",
        "\n",
        "¿Qué significa escalar?\n",
        "\n",
        "$$\n",
        "escala = \\frac{x_i - \\bar{x}} { \\sigma}\n",
        "$$\n",
        "\n",
        "* $x_i$ Cada valor observado de la variable de interés.\n",
        "* $\\bar{x}$ La media de todos los valores observados de la variable de interés.\n",
        "* $\\sigma$ La desviación estándar de todos los valores observados de la variable de interés.\n",
        "\n",
        "Los datos originales se escalan todas las variables independiente con la función *escalar.fit_transform()* de una instancia de la función *StandardScaler()* y de la librería *StandardScaler*.\n",
        "\n",
        "Porqué escalar los datos, el modelo de *(SVR) Support Vector Regression* sugiere que se trabajen con datos escalados dado que resulta ser más eficiente el modelo al momento de construir los hiperplanos, además evita sesgos por datos distorsionados y ayuda a la estabilidad numérica entre otras cosas.\n",
        "\n",
        "La variable *datos_escalados* es el conjunto de datos con valores escalados y se utilizará para todos los modelos y la validación cruzada correspondiente.\n",
        "\n",
        "\n"
      ],
      "metadata": {
        "id": "XnZ3PjQO0jLm"
      }
    },
    {
      "cell_type": "code",
      "source": [
        "\n",
        "# Escalar las características con StandardScaler\n",
        "# Crear instancia de StandardScaler\n",
        "escalar = StandardScaler()\n",
        "\n",
        "# Escalar las características excluyendo 'temperatura'\n",
        "datos_escalados = datos.drop(columns=['fecha', 'temperatura'])\n",
        "\n",
        "datos_escalados = escalar.fit_transform(datos_escalados)\n",
        "\n",
        "# print (datos_escalados)\n",
        "\n",
        "# Nombres de columnas para dejar los mismos nombres que original sin fecha ni temperatura\n",
        "nombres_variables = ['vel_viento', 'presion_atmosferica', 'humedad_relativa', 'frentes_frios', 'radiacion_solar', 'luminosidad', 'contaminacion_atmosferica', 'cobertura_nubosa']\n",
        "\n",
        "# Convertir de nuevo a DataFrame y asignar los nombres de las columnas\n",
        "datos_escalados = pd.DataFrame(datos_escalados, columns=nombres_variables)\n",
        "\n",
        "# Añadir la columna 'temperatura' del DataFrame original\n",
        "datos_escalados['temperatura'] = datos['temperatura']\n",
        "\n",
        "# print (datos_escalados)\n",
        "\n",
        "# Llamar a la función para mostrar datos de entrenamiento ordenados por índice\n",
        "f_visualizar_datos(datos_escalados.head(20), datos_escalados.tail(20), \"Primeros registros escalados\", \"Últimos registros escalados\")\n",
        "\n",
        "# Para mostrar el widget de salida\n",
        "display(visualizar)"
      ],
      "metadata": {
        "colab": {
          "base_uri": "https://localhost:8080/",
          "height": 1000,
          "referenced_widgets": [
            "6c94cf3e0eec45e89d8b87f56f7945b0",
            "be20f03c89004b079e6bf40eccf11f89"
          ]
        },
        "id": "BCCzNd9-08RR",
        "outputId": "dc05e0b9-d7a6-4402-8622-26c2ebe9a52b"
      },
      "execution_count": 69,
      "outputs": [
        {
          "output_type": "display_data",
          "data": {
            "text/plain": [
              "Output()"
            ],
            "application/vnd.jupyter.widget-view+json": {
              "version_major": 2,
              "version_minor": 0,
              "model_id": "6c94cf3e0eec45e89d8b87f56f7945b0"
            }
          },
          "metadata": {}
        }
      ]
    },
    {
      "cell_type": "markdown",
      "source": [
        "## Construccoón de modelos\n",
        "\n",
        "Se sacan la variales independoene y dependiene siendo estas arreglos numpy.\n",
        "\n",
        "\n",
        "\n",
        "### Validación cruzada con modelo de regresión lineal múltiple\n",
        "\n"
      ],
      "metadata": {
        "id": "bPe9N1aZ1QyP"
      }
    },
    {
      "cell_type": "code",
      "source": [
        "# variables independientes\n",
        "independientes = datos_escalados.drop(columns=['temperatura']).values\n",
        "\n",
        "# Variable dependiente\n",
        "dependiente = datos_escalados['temperatura'].values\n",
        "\n",
        "n = independientes.shape[0] # Total de registros\n",
        "p = independientes.shape[1] # Total de variables\n",
        "\n",
        "print (\"Registros\", n)\n",
        "print (\"Predictoes o variable independientes\", p)"
      ],
      "metadata": {
        "colab": {
          "base_uri": "https://localhost:8080/"
        },
        "id": "mCNsvHTA42Vl",
        "outputId": "ec29d425-6edc-48d5-b197-2239a4396d3c"
      },
      "execution_count": 70,
      "outputs": [
        {
          "output_type": "stream",
          "name": "stdout",
          "text": [
            "Registros 2245\n",
            "Predictoes o variable independientes 8\n"
          ]
        }
      ]
    },
    {
      "cell_type": "markdown",
      "source": [
        "### Validación cruzada\n",
        "\n",
        "Con los datos independientes y la variable dependiente cn el total de los datos escalados, se hace validación y"
      ],
      "metadata": {
        "id": "OUsqjpyq454T"
      }
    },
    {
      "cell_type": "code",
      "source": [
        "conjuntos = 5\n",
        "\n",
        "# Definir el modelo de regresión lineal múltiple\n",
        "modelo_rl = LinearRegression()\n",
        "\n",
        "# Configurar K-Fold para la validación cruzada\n",
        "kfold = KFold(n_splits=conjuntos, shuffle=True, random_state=2024)\n",
        "\n",
        "# Calcular el puntaje de validación cruzada usando MSE como la métrica de evaluación\n",
        "# Nota: cross_val_score por defecto maximiza el score, por lo que para MSE, que es un \"menor es mejor\", se usa su negativo.\n",
        "puntajes_mse = cross_val_score(modelo_rl, independientes, dependiente, cv=kfold, scoring='neg_mean_squared_error')\n",
        "\n",
        "# Convertir los puntajes a errores cuadráticos medios positivos\n",
        "mse_scores = -puntajes_mse\n",
        "\n",
        "print(f\"Errores Cuadráticos Medios (MSE) por fold: {mse_scores}\")\n",
        "print(f\"Promedio MSE: {np.mean(mse_scores)}\")\n",
        "print(f\"Desviación estándar MSE: {np.std(mse_scores)}\")\n",
        "\n",
        "# Ya tienes calculados los MSE scores, así que calculamos el RMSE promedio\n",
        "rmse_scores = np.sqrt(mse_scores)\n",
        "promedio_rmse = np.mean(rmse_scores)\n",
        "print(f\"Promedio RMSE: {np.round(promedio_rmse, 2)}\")\n",
        "\n",
        "# Para R^2, usar cross_val_score nuevamente con scoring='r2'\n",
        "puntajes_r2 = cross_val_score(modelo_rl, independientes, dependiente, cv=kfold, scoring='r2')\n",
        "promedio_r2 = np.mean(puntajes_r2)\n",
        "\n",
        "# Calculando el R^2 ajustado promedio\n",
        "r2_ajustado = 1 - (1-promedio_r2) * ((n-1)/(n-p-1))\n",
        "\n",
        "print(f\"Promedio r squared: {promedio_r2}\")\n",
        "print(f\"r squared Ajustado Promedio: {r2_ajustado}\")"
      ],
      "metadata": {
        "colab": {
          "base_uri": "https://localhost:8080/"
        },
        "id": "b1aDynvu2V_G",
        "outputId": "7215f02a-fa2b-4bf5-e80e-f3c98328526c"
      },
      "execution_count": 71,
      "outputs": [
        {
          "output_type": "stream",
          "name": "stdout",
          "text": [
            "Errores Cuadráticos Medios (MSE) por fold: [28.19812305 27.7988259  25.50704553 27.56952428 29.27923376]\n",
            "Promedio MSE: 27.670550504314555\n",
            "Desviación estándar MSE: 1.2307403642901857\n",
            "Promedio RMSE: 5.26\n",
            "Promedio r squared: 0.3134020499189147\n",
            "r squared Ajustado Promedio: 0.3109455277361559\n"
          ]
        }
      ]
    },
    {
      "cell_type": "markdown",
      "source": [
        "### Modelo árboles de regresión\n",
        "\n"
      ],
      "metadata": {
        "id": "TAL19vvd9oBT"
      }
    },
    {
      "cell_type": "code",
      "source": [
        "conjuntos = 5\n",
        "\n",
        "# Definir el modelo de árbol de decisión para regresión\n",
        "modelo_arbol = DecisionTreeRegressor(random_state=2024, max_depth=3)\n",
        "\n",
        "# Configurar K-Fold para la validación cruzada\n",
        "kfold = KFold(n_splits=conjuntos, shuffle=True, random_state=2024)\n",
        "\n",
        "# Calcular el puntaje de validación cruzada usando MSE como la métrica de evaluación\n",
        "puntajes_mse = cross_val_score(modelo_arbol, independientes, dependiente, cv=kfold, scoring='neg_mean_squared_error')\n",
        "\n",
        "# Convertir los puntajes a errores cuadráticos medios positivos y calcular el RMSE\n",
        "mse_scores = -puntajes_mse\n",
        "rmse_scores = np.sqrt(mse_scores)\n",
        "\n",
        "print(f\"RMSE por fold: {rmse_scores}\")\n",
        "print(f\"Promedio RMSE: {np.round(np.mean(rmse_scores), 2)}\")\n",
        "print(f\"Desviación estándar RMSE: {np.std(rmse_scores)}\\n\")\n",
        "\n",
        "# Calcular R^2 como métrica de evaluación adicional\n",
        "puntajes_r2 = cross_val_score(modelo_arbol, independientes, dependiente, cv=kfold, scoring='r2')\n",
        "\n",
        "print(f\"R^2 por fold: {puntajes_r2}\")\n",
        "print(f\"Promedio R^2: {np.round(np.mean(puntajes_r2), 2)}\")\n",
        "print(f\"Desviación estándar R^2: {np.std(puntajes_r2)}\")\n"
      ],
      "metadata": {
        "colab": {
          "base_uri": "https://localhost:8080/"
        },
        "id": "G9ZWMwNC9qvZ",
        "outputId": "acaec0b0-0a5e-481f-f887-64fa354e8427"
      },
      "execution_count": 72,
      "outputs": [
        {
          "output_type": "stream",
          "name": "stdout",
          "text": [
            "RMSE por fold: [5.68925193 5.76320421 5.62520629 5.67971183 5.74598082]\n",
            "Promedio RMSE: 5.7\n",
            "Desviación estándar RMSE: 0.049452980324641564\n",
            "\n",
            "R^2 por fold: [0.19887635 0.22026438 0.14529205 0.17828991 0.22053482]\n",
            "Promedio R^2: 0.19\n",
            "Desviación estándar R^2: 0.028382642006824676\n"
          ]
        }
      ]
    },
    {
      "cell_type": "markdown",
      "source": [
        "## Modelo Random Forest\n",
        "\n"
      ],
      "metadata": {
        "id": "p7yHK9Iv_yZq"
      }
    },
    {
      "cell_type": "code",
      "source": [
        "\n",
        "# Número de conjuntos para la validación cruzada\n",
        "conjuntos = 5\n",
        "\n",
        "# Definir el modelo de Random Forest para regresión\n",
        "modelo_rf = RandomForestRegressor(random_state=2024, n_estimators=300, max_depth=3)\n",
        "\n",
        "# Configurar K-Fold para la validación cruzada\n",
        "kfold = KFold(n_splits=conjuntos, shuffle=True, random_state=2024)\n",
        "\n",
        "# Calcular el puntaje de validación cruzada usando MSE como la métrica de evaluación para Random Forest\n",
        "puntajes_mse_rf = cross_val_score(modelo_rf, independientes, dependiente, cv=kfold, scoring='neg_mean_squared_error')\n",
        "\n",
        "# Convertir los puntajes a errores cuadráticos medios positivos y calcular el RMSE para Random Forest\n",
        "mse_scores_rf = -puntajes_mse_rf\n",
        "rmse_scores_rf = np.sqrt(mse_scores_rf)\n",
        "\n",
        "print(f\"Random Forest - RMSE por fold: {rmse_scores_rf}\")\n",
        "print(f\"Random Forest - Promedio RMSE: {np.round(np.mean(rmse_scores_rf), 2)}\")\n",
        "print(f\"Random Forest - Desviación estándar RMSE: {np.std(rmse_scores_rf)}\\n\")\n",
        "\n",
        "# Calcular R^2 como métrica de evaluación adicional para Random Forest\n",
        "puntajes_r2_rf = cross_val_score(modelo_rf, independientes, dependiente, cv=kfold, scoring='r2')\n",
        "\n",
        "print(f\"Random Forest - R^2 por fold: {puntajes_r2_rf}\")\n",
        "print(f\"Random Forest - Promedio R^2: {np.round(np.mean(puntajes_r2_rf), 2)}\")\n",
        "print(f\"Random Forest - Desviación estándar R^2: {np.std(puntajes_r2_rf)}\")\n"
      ],
      "metadata": {
        "colab": {
          "base_uri": "https://localhost:8080/"
        },
        "id": "qf7fMPuX_12h",
        "outputId": "6ce9b965-ea97-4bfb-e7db-485794def11a"
      },
      "execution_count": 73,
      "outputs": [
        {
          "output_type": "stream",
          "name": "stdout",
          "text": [
            "Random Forest - RMSE por fold: [5.43192675 5.50779179 5.3848278  5.41741543 5.49734128]\n",
            "Random Forest - Promedio RMSE: 5.45\n",
            "Random Forest - Desviación estándar RMSE: 0.04731599000676723\n",
            "\n",
            "Random Forest - R^2 por fold: [0.26970718 0.28784523 0.21677873 0.2524327  0.28653319]\n",
            "Random Forest - Promedio R^2: 0.26\n",
            "Random Forest - Desviación estándar R^2: 0.026319485944286895\n"
          ]
        }
      ]
    },
    {
      "cell_type": "markdown",
      "source": [
        "### Modelo polinomial grado 2"
      ],
      "metadata": {
        "id": "le2iBTP3Eaza"
      }
    },
    {
      "cell_type": "code",
      "source": [
        "from sklearn.pipeline import Pipeline\n",
        "\n",
        "# Configuración inicial\n",
        "conjuntos = 5\n",
        "grado = 2  # Grado del polinomio\n",
        "\n",
        "# Crear una tubería (pipeline) que primero transforme las características al espacio polinomial, y luego aplique regresión lineal\n",
        "modelo_pol = Pipeline([\n",
        "    ('poly', PolynomialFeatures(degree=grado)),\n",
        "    ('linear', LinearRegression())\n",
        "])\n",
        "\n",
        "# Configurar K-Fold para la validación cruzada\n",
        "kfold = KFold(n_splits=conjuntos, shuffle=True, random_state=2024)\n",
        "\n",
        "# Ahora la validación cruzada\n",
        "\n",
        "# Calcular el puntaje de validación cruzada usando MSE como la métrica de evaluación\n",
        "puntajes_mse = cross_val_score(modelo_pol, independientes, dependiente, cv=kfold, scoring='neg_mean_squared_error')\n",
        "\n",
        "# Convertir los puntajes a errores cuadráticos medios positivos y calcular el RMSE\n",
        "mse_scores = -puntajes_mse\n",
        "rmse_scores = np.sqrt(mse_scores)\n",
        "\n",
        "print(f\"Modelo Polinomial Grado 2 - RMSE por fold: {rmse_scores}\")\n",
        "print(f\"Modelo Polinomial - Promedio RMSE: {np.mean(rmse_scores)}\")\n",
        "print(f\"Modelo Polinomial - Desviación estándar RMSE: {np.std(rmse_scores)}\\n\")\n",
        "\n",
        "# Calcular R^2 como métrica de evaluación adicional\n",
        "puntajes_r2 = cross_val_score(modelo_pol, independientes, dependiente, cv=kfold, scoring='r2')\n",
        "\n",
        "print(f\"Modelo Polinomial Grado 2 - R^2 por fold: {puntajes_r2}\")\n",
        "print(f\"Modelo Polinomial - Promedio R^2: {np.mean(puntajes_r2)}\")\n",
        "print(f\"Modelo Polinomial - Desviación estándar R^2: {np.std(puntajes_r2)}\")\n"
      ],
      "metadata": {
        "colab": {
          "base_uri": "https://localhost:8080/"
        },
        "id": "Xd8WbFXrEdqR",
        "outputId": "d43d64a6-7564-458b-c8eb-45926a39b24e"
      },
      "execution_count": 83,
      "outputs": [
        {
          "output_type": "stream",
          "name": "stdout",
          "text": [
            "Modelo Polinomial Grado 2 - RMSE por fold: [5.16303468 5.23431646 5.01876677 5.1111496  5.39344094]\n",
            "Modelo Polinomial - Promedio RMSE: 5.184141689502742\n",
            "Modelo Polinomial - Desviación estándar RMSE: 0.12605228646149685\n",
            "\n",
            "Modelo Polinomial Grado 2 - R^2 por fold: [0.34021976 0.35680996 0.31964612 0.33456874 0.31324753]\n",
            "Modelo Polinomial - Promedio R^2: 0.3328984215529053\n",
            "Modelo Polinomial - Desviación estándar R^2: 0.015426824814681859\n"
          ]
        }
      ]
    },
    {
      "cell_type": "markdown",
      "source": [
        "### Modelo SVR lineal\n",
        "\n"
      ],
      "metadata": {
        "id": "YVbxjnhfB5Y6"
      }
    },
    {
      "cell_type": "code",
      "source": [
        "# Número de conjuntos para la validación cruzada\n",
        "conjuntos = 5\n",
        "error = 0.1\n",
        "\n",
        "# Definir el modelo SVR con kernel lineal\n",
        "modelo_svr_lineal = SVR(kernel='linear', epsilon=error)\n",
        "\n",
        "# Configurar K-Fold para la validación cruzada\n",
        "kfold = KFold(n_splits=conjuntos, shuffle=True, random_state=2024)\n",
        "\n",
        "# Calcular el puntaje de validación cruzada usando MSE como la métrica de evaluación\n",
        "puntajes_mse = cross_val_score(modelo_svr_lineal, independientes, dependiente, cv=kfold, scoring='neg_mean_squared_error')\n",
        "\n",
        "# Convertir los puntajes a errores cuadráticos medios positivos y calcular el RMSE\n",
        "mse_scores = -puntajes_mse\n",
        "rmse_scores = np.sqrt(mse_scores)\n",
        "\n",
        "print(f\"SVR lineal - RMSE por fold: {rmse_scores}\")\n",
        "print(f\"SVR lineal - Promedio RMSE: {np.mean(rmse_scores)}\")\n",
        "print(f\"SVR lineal - Desviación estándar RMSE: {np.std(rmse_scores)}\\n\")\n",
        "\n",
        "# Calcular R^2 como métrica de evaluación adicional\n",
        "puntajes_r2 = cross_val_score(modelo_svr_lineal, independientes, dependiente, cv=kfold, scoring='r2')\n",
        "\n",
        "print(f\"SVR lineal - R^2 por fold: {puntajes_r2}\")\n",
        "print(f\"SVR lineal - Promedio R^2: {np.mean(puntajes_r2)}\")\n",
        "print(f\"SVR lineal - Desviación estándar R^2: {np.std(puntajes_r2)}\")"
      ],
      "metadata": {
        "colab": {
          "base_uri": "https://localhost:8080/"
        },
        "id": "0INQa55HB8Qm",
        "outputId": "67312e94-9dfb-499b-bf5c-d4fabd79080d"
      },
      "execution_count": 74,
      "outputs": [
        {
          "output_type": "stream",
          "name": "stdout",
          "text": [
            "SVR lineal - RMSE por fold: [5.32320887 5.27889431 5.07200095 5.27283253 5.40519717]\n",
            "SVR lineal - Promedio RMSE: 5.270426765328024\n",
            "SVR lineal - Desviación estándar RMSE: 0.1099084175162598\n",
            "\n",
            "SVR lineal - R^2 por fold: [0.29864768 0.34580791 0.30513652 0.29180318 0.3102504 ]\n",
            "SVR lineal - Promedio R^2: 0.3103291373909719\n",
            "SVR lineal - Desviación estándar R^2: 0.01879031675122487\n"
          ]
        }
      ]
    },
    {
      "cell_type": "markdown",
      "source": [
        "## Modelo SVR polinomial grado 3\n",
        "\n",
        "\n",
        "\n"
      ],
      "metadata": {
        "id": "ykzhaVKKAjsj"
      }
    },
    {
      "cell_type": "code",
      "source": [
        "# Número de conjuntos para la validación cruzada\n",
        "conjuntos = 5\n",
        "grado = 3\n",
        "error = 0.1\n",
        "\n",
        "# Definir el modelo SVR con kernel polinomial de grado 3\n",
        "modelo_svr_poly = SVR(kernel='poly', degree=grado, epsilon=error)\n",
        "\n",
        "# Configurar K-Fold para la validación cruzada\n",
        "kfold = KFold(n_splits=conjuntos, shuffle=True, random_state=2024)\n",
        "\n",
        "# Calcular el puntaje de validación cruzada usando MSE como la métrica de evaluación\n",
        "puntajes_mse = cross_val_score(modelo_svr_poly, independientes, dependiente, cv=kfold, scoring='neg_mean_squared_error')\n",
        "\n",
        "# Convertir los puntajes a errores cuadráticos medios positivos y calcular el RMSE\n",
        "mse_scores = -puntajes_mse\n",
        "rmse_scores = np.sqrt(mse_scores)\n",
        "\n",
        "print(f\"SVR Polinomial - RMSE por fold: {rmse_scores}\")\n",
        "print(f\"SVR Polinomial - Promedio RMSE: {np.mean(rmse_scores)}\")\n",
        "print(f\"SVR Polinomial - Desviación estándar RMSE: {np.std(rmse_scores)}\\n\")\n",
        "\n",
        "# Calcular R^2 como métrica de evaluación adicional\n",
        "puntajes_r2 = cross_val_score(modelo_svr_poly, independientes, dependiente, cv=kfold, scoring='r2')\n",
        "\n",
        "print(f\"SVR Polinomial - R^2 por fold: {puntajes_r2}\")\n",
        "print(f\"SVR Polinomial - Promedio R^2: {np.mean(puntajes_r2)}\")\n",
        "print(f\"SVR Polinomial - Desviación estándar R^2: {np.std(puntajes_r2)}\")\n"
      ],
      "metadata": {
        "colab": {
          "base_uri": "https://localhost:8080/"
        },
        "id": "5vlm7j_SAnYp",
        "outputId": "3563cf5a-3a40-4cc9-d355-75a6655f4c5b"
      },
      "execution_count": 75,
      "outputs": [
        {
          "output_type": "stream",
          "name": "stdout",
          "text": [
            "SVR Polinomial - RMSE por fold: [5.59707373 5.67716553 5.27274414 5.46767702 5.58969274]\n",
            "SVR Polinomial - Promedio RMSE: 5.5208706331888155\n",
            "SVR Polinomial - Desviación estándar RMSE: 0.1409736206033706\n",
            "\n",
            "SVR Polinomial - R^2 por fold: [0.22462592 0.24337189 0.24904445 0.23849682 0.26236036]\n",
            "SVR Polinomial - Promedio R^2: 0.2435798879623058\n",
            "SVR Polinomial - Desviación estándar R^2: 0.012391135847759702\n"
          ]
        }
      ]
    },
    {
      "cell_type": "markdown",
      "source": [
        "### Modelo SVR kernel radial\n",
        "\n"
      ],
      "metadata": {
        "id": "sMFZ8RN2DMQd"
      }
    },
    {
      "cell_type": "code",
      "source": [
        "# Número de conjuntos para la validación cruzada\n",
        "conjuntos = 5\n",
        "grado = 3\n",
        "error = 0.1\n",
        "\n",
        "# Definir el modelo SVR con kernel Radial de grado 3\n",
        "modelo_svr_radial = SVR(kernel='rbf', epsilon=error)\n",
        "\n",
        "# Configurar K-Fold para la validación cruzada\n",
        "kfold = KFold(n_splits=conjuntos, shuffle=True, random_state=2024)\n",
        "\n",
        "# Calcular el puntaje de validación cruzada usando MSE como la métrica de evaluación\n",
        "puntajes_mse = cross_val_score(modelo_svr_radial, independientes, dependiente, cv=kfold, scoring='neg_mean_squared_error')\n",
        "\n",
        "# Convertir los puntajes a errores cuadráticos medios positivos y calcular el RMSE\n",
        "mse_scores = -puntajes_mse\n",
        "rmse_scores = np.sqrt(mse_scores)\n",
        "\n",
        "print(f\"SVR Radial - RMSE por fold: {rmse_scores}\")\n",
        "print(f\"SVR Radial - Promedio RMSE: {np.mean(rmse_scores)}\")\n",
        "print(f\"SVR Radial - Desviación estándar RMSE: {np.std(rmse_scores)}\\n\")\n",
        "\n",
        "# Calcular R^2 como métrica de evaluación adicional\n",
        "puntajes_r2 = cross_val_score(modelo_svr_radial, independientes, dependiente, cv=kfold, scoring='r2')\n",
        "\n",
        "print(f\"SVR Radial - R^2 por fold: {puntajes_r2}\")\n",
        "print(f\"SVR Radial - Promedio R^2: {np.mean(puntajes_r2)}\")\n",
        "print(f\"SVR Radial - Desviación estándar R^2: {np.std(puntajes_r2)}\")"
      ],
      "metadata": {
        "colab": {
          "base_uri": "https://localhost:8080/"
        },
        "id": "dkPQbnSQDPi5",
        "outputId": "6d2fc140-fa2d-4bd8-9ab2-4cd4263d6a28"
      },
      "execution_count": 76,
      "outputs": [
        {
          "output_type": "stream",
          "name": "stdout",
          "text": [
            "SVR Radial - RMSE por fold: [5.25521513 5.33958348 5.11372752 5.17356895 5.33561778]\n",
            "SVR Radial - Promedio RMSE: 5.243542573278189\n",
            "SVR Radial - Desviación estándar RMSE: 0.08897887873904997\n",
            "\n",
            "SVR Radial - R^2 por fold: [0.3164501  0.33067951 0.29365642 0.31821648 0.32789396]\n",
            "SVR Radial - Promedio R^2: 0.3173792951713844\n",
            "SVR Radial - Desviación estándar R^2: 0.01305214902647569\n"
          ]
        }
      ]
    },
    {
      "cell_type": "markdown",
      "source": [
        "# Intrepretación del caso\n",
        "\n",
        "Se hizo una validación cruzada al conjunto de datos *temperaturas* y se obtuvieron los siguientes resultados:\n",
        "\n",
        "## Para modelo de regresion lineal múltiple\n",
        "* Se ubtuvo un valor promedio *RMSE: 5.26*; *Promedio r squared: 0.31* y *r squared ajustado Promedio: 0.31*.\n",
        "\n",
        "## Para modelo de árbol de regresión\n",
        "\n",
        "* Se ubtuvo un valor promedio *RMSE: 5.7*; *Promedio r squared: 0.19*.\n",
        "\n",
        "## Para random forest\n",
        "\n",
        "* Con 300 estimadores o arboles, se ubtuvo un valor promedio *RMSE: 5.25*; *Promedio r squared: 0.26*.\n",
        "\n",
        "## Para regresión polinomial\n",
        "\n",
        "* Con el modelo polinomila de grado 2, se ubtuvo un valor promedio *RMSE: 5.18* y *r squared: 0.33*\n",
        "\n",
        "## Para máqinas de soporte de regresión (SVR) kernel lineal\n",
        "\n",
        "*  Para el modelo de SVR kernel lineal, se ubtuvo un valor promedio *RMSE: 5.27*; *Promedio r squared: 0.31*.\n",
        "\n",
        "## Para máquinas de soporte de regresión (SVR) kernel polinomial\n",
        "\n",
        "* Para el modelo de regresión SVR polinomial de grado 3 se ubtuvo un valor promedio *RMSE: 5.52*; *Promedio r squared: 0.24*.\n",
        "\n",
        "## Para máquinas de soporte de regresión (SVR) kernel radial\n",
        "\n",
        "* Para el modelo de regresión SVR radil se ubtuvo un valor promedio *RMSE: 5.24*; *Promedio r squared: 0.31*.\n",
        "\n",
        "Usando la técnica de validación cruaada el mejor modelo fue: **Regresión polinomial multivariable de grado 2**\n",
        "\n",
        "\n",
        "\n",
        "\n"
      ],
      "metadata": {
        "id": "NULpL8Mq8am9"
      }
    }
  ]
}