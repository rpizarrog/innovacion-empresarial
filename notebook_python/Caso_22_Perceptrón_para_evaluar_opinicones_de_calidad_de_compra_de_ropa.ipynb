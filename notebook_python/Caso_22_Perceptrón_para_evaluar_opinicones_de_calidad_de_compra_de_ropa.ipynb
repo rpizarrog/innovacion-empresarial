{
  "nbformat": 4,
  "nbformat_minor": 0,
  "metadata": {
    "colab": {
      "provenance": [],
      "authorship_tag": "ABX9TyOe5D1+v+yqYtUjnkDYu2lx",
      "include_colab_link": true
    },
    "kernelspec": {
      "name": "python3",
      "display_name": "Python 3"
    },
    "language_info": {
      "name": "python"
    },
    "widgets": {
      "application/vnd.jupyter.widget-state+json": {
        "d7c0cf02fd5145ce8bf9582231dadcbb": {
          "model_module": "@jupyter-widgets/output",
          "model_name": "OutputModel",
          "model_module_version": "1.0.0",
          "state": {
            "_dom_classes": [],
            "_model_module": "@jupyter-widgets/output",
            "_model_module_version": "1.0.0",
            "_model_name": "OutputModel",
            "_view_count": null,
            "_view_module": "@jupyter-widgets/output",
            "_view_module_version": "1.0.0",
            "_view_name": "OutputView",
            "layout": "IPY_MODEL_b6fc2b64896c4791a9d11b6c4e21a838",
            "msg_id": "",
            "outputs": [
              {
                "output_type": "display_data",
                "data": {
                  "text/plain": "<IPython.core.display.HTML object>",
                  "text/html": "<h2>Primeros registros. Datos de entrenamiento de 3500 registros</h2>"
                },
                "metadata": {}
              },
              {
                "output_type": "display_data",
                "data": {
                  "text/plain": "    Tipo_Prenda  Género  Color  Estilo  Marca  Precio  Género_Incluyente  \\\n2             1       0      1       0      3    1169                  2   \n3             3       0      1       0      0    2906                  0   \n4             2       0      1       1      2    4054                  2   \n5             4       1      4       0      3     373                  2   \n7             0       1      1       2      3    4097                  0   \n8             1       0      0       0      2    2704                  1   \n9             0       1      1       1      2    3057                  2   \n10            0       1      4       1      2    3691                  0   \n11            3       1      4       0      1    2328                  2   \n12            2       1      0       2      0    4721                  1   \n14            3       1      4       1      3    2400                  2   \n15            2       0      0       1      3    3465                  0   \n18            3       0      0       1      2    3847                  0   \n19            0       0      4       2      2    4332                  0   \n21            0       0      3       0      0    3576                  0   \n22            4       0      1       1      0    1833                  2   \n23            4       0      1       2      0    3048                  0   \n24            3       0      1       1      2    4610                  2   \n25            2       0      2       2      0     504                  0   \n27            1       1      2       2      3      82                  1   \n\n    Profesión  \n2           1  \n3           0  \n4           5  \n5           4  \n7           5  \n8           5  \n9           2  \n10          5  \n11          4  \n12          1  \n14          0  \n15          2  \n18          0  \n19          0  \n21          5  \n22          3  \n23          4  \n24          0  \n25          5  \n27          1  ",
                  "text/html": "\n  <div id=\"df-5938e318-3197-4cef-92a5-ae0e35154c07\" class=\"colab-df-container\">\n    <div>\n<style scoped>\n    .dataframe tbody tr th:only-of-type {\n        vertical-align: middle;\n    }\n\n    .dataframe tbody tr th {\n        vertical-align: top;\n    }\n\n    .dataframe thead th {\n        text-align: right;\n    }\n</style>\n<table border=\"1\" class=\"dataframe\">\n  <thead>\n    <tr style=\"text-align: right;\">\n      <th></th>\n      <th>Tipo_Prenda</th>\n      <th>Género</th>\n      <th>Color</th>\n      <th>Estilo</th>\n      <th>Marca</th>\n      <th>Precio</th>\n      <th>Género_Incluyente</th>\n      <th>Profesión</th>\n    </tr>\n  </thead>\n  <tbody>\n    <tr>\n      <th>2</th>\n      <td>1</td>\n      <td>0</td>\n      <td>1</td>\n      <td>0</td>\n      <td>3</td>\n      <td>1169</td>\n      <td>2</td>\n      <td>1</td>\n    </tr>\n    <tr>\n      <th>3</th>\n      <td>3</td>\n      <td>0</td>\n      <td>1</td>\n      <td>0</td>\n      <td>0</td>\n      <td>2906</td>\n      <td>0</td>\n      <td>0</td>\n    </tr>\n    <tr>\n      <th>4</th>\n      <td>2</td>\n      <td>0</td>\n      <td>1</td>\n      <td>1</td>\n      <td>2</td>\n      <td>4054</td>\n      <td>2</td>\n      <td>5</td>\n    </tr>\n    <tr>\n      <th>5</th>\n      <td>4</td>\n      <td>1</td>\n      <td>4</td>\n      <td>0</td>\n      <td>3</td>\n      <td>373</td>\n      <td>2</td>\n      <td>4</td>\n    </tr>\n    <tr>\n      <th>7</th>\n      <td>0</td>\n      <td>1</td>\n      <td>1</td>\n      <td>2</td>\n      <td>3</td>\n      <td>4097</td>\n      <td>0</td>\n      <td>5</td>\n    </tr>\n    <tr>\n      <th>8</th>\n      <td>1</td>\n      <td>0</td>\n      <td>0</td>\n      <td>0</td>\n      <td>2</td>\n      <td>2704</td>\n      <td>1</td>\n      <td>5</td>\n    </tr>\n    <tr>\n      <th>9</th>\n      <td>0</td>\n      <td>1</td>\n      <td>1</td>\n      <td>1</td>\n      <td>2</td>\n      <td>3057</td>\n      <td>2</td>\n      <td>2</td>\n    </tr>\n    <tr>\n      <th>10</th>\n      <td>0</td>\n      <td>1</td>\n      <td>4</td>\n      <td>1</td>\n      <td>2</td>\n      <td>3691</td>\n      <td>0</td>\n      <td>5</td>\n    </tr>\n    <tr>\n      <th>11</th>\n      <td>3</td>\n      <td>1</td>\n      <td>4</td>\n      <td>0</td>\n      <td>1</td>\n      <td>2328</td>\n      <td>2</td>\n      <td>4</td>\n    </tr>\n    <tr>\n      <th>12</th>\n      <td>2</td>\n      <td>1</td>\n      <td>0</td>\n      <td>2</td>\n      <td>0</td>\n      <td>4721</td>\n      <td>1</td>\n      <td>1</td>\n    </tr>\n    <tr>\n      <th>14</th>\n      <td>3</td>\n      <td>1</td>\n      <td>4</td>\n      <td>1</td>\n      <td>3</td>\n      <td>2400</td>\n      <td>2</td>\n      <td>0</td>\n    </tr>\n    <tr>\n      <th>15</th>\n      <td>2</td>\n      <td>0</td>\n      <td>0</td>\n      <td>1</td>\n      <td>3</td>\n      <td>3465</td>\n      <td>0</td>\n      <td>2</td>\n    </tr>\n    <tr>\n      <th>18</th>\n      <td>3</td>\n      <td>0</td>\n      <td>0</td>\n      <td>1</td>\n      <td>2</td>\n      <td>3847</td>\n      <td>0</td>\n      <td>0</td>\n    </tr>\n    <tr>\n      <th>19</th>\n      <td>0</td>\n      <td>0</td>\n      <td>4</td>\n      <td>2</td>\n      <td>2</td>\n      <td>4332</td>\n      <td>0</td>\n      <td>0</td>\n    </tr>\n    <tr>\n      <th>21</th>\n      <td>0</td>\n      <td>0</td>\n      <td>3</td>\n      <td>0</td>\n      <td>0</td>\n      <td>3576</td>\n      <td>0</td>\n      <td>5</td>\n    </tr>\n    <tr>\n      <th>22</th>\n      <td>4</td>\n      <td>0</td>\n      <td>1</td>\n      <td>1</td>\n      <td>0</td>\n      <td>1833</td>\n      <td>2</td>\n      <td>3</td>\n    </tr>\n    <tr>\n      <th>23</th>\n      <td>4</td>\n      <td>0</td>\n      <td>1</td>\n      <td>2</td>\n      <td>0</td>\n      <td>3048</td>\n      <td>0</td>\n      <td>4</td>\n    </tr>\n    <tr>\n      <th>24</th>\n      <td>3</td>\n      <td>0</td>\n      <td>1</td>\n      <td>1</td>\n      <td>2</td>\n      <td>4610</td>\n      <td>2</td>\n      <td>0</td>\n    </tr>\n    <tr>\n      <th>25</th>\n      <td>2</td>\n      <td>0</td>\n      <td>2</td>\n      <td>2</td>\n      <td>0</td>\n      <td>504</td>\n      <td>0</td>\n      <td>5</td>\n    </tr>\n    <tr>\n      <th>27</th>\n      <td>1</td>\n      <td>1</td>\n      <td>2</td>\n      <td>2</td>\n      <td>3</td>\n      <td>82</td>\n      <td>1</td>\n      <td>1</td>\n    </tr>\n  </tbody>\n</table>\n</div>\n    <div class=\"colab-df-buttons\">\n\n  <div class=\"colab-df-container\">\n    <button class=\"colab-df-convert\" onclick=\"convertToInteractive('df-5938e318-3197-4cef-92a5-ae0e35154c07')\"\n            title=\"Convert this dataframe to an interactive table.\"\n            style=\"display:none;\">\n\n  <svg xmlns=\"http://www.w3.org/2000/svg\" height=\"24px\" viewBox=\"0 -960 960 960\">\n    <path d=\"M120-120v-720h720v720H120Zm60-500h600v-160H180v160Zm220 220h160v-160H400v160Zm0 220h160v-160H400v160ZM180-400h160v-160H180v160Zm440 0h160v-160H620v160ZM180-180h160v-160H180v160Zm440 0h160v-160H620v160Z\"/>\n  </svg>\n    </button>\n\n  <style>\n    .colab-df-container {\n      display:flex;\n      gap: 12px;\n    }\n\n    .colab-df-convert {\n      background-color: #E8F0FE;\n      border: none;\n      border-radius: 50%;\n      cursor: pointer;\n      display: none;\n      fill: #1967D2;\n      height: 32px;\n      padding: 0 0 0 0;\n      width: 32px;\n    }\n\n    .colab-df-convert:hover {\n      background-color: #E2EBFA;\n      box-shadow: 0px 1px 2px rgba(60, 64, 67, 0.3), 0px 1px 3px 1px rgba(60, 64, 67, 0.15);\n      fill: #174EA6;\n    }\n\n    .colab-df-buttons div {\n      margin-bottom: 4px;\n    }\n\n    [theme=dark] .colab-df-convert {\n      background-color: #3B4455;\n      fill: #D2E3FC;\n    }\n\n    [theme=dark] .colab-df-convert:hover {\n      background-color: #434B5C;\n      box-shadow: 0px 1px 3px 1px rgba(0, 0, 0, 0.15);\n      filter: drop-shadow(0px 1px 2px rgba(0, 0, 0, 0.3));\n      fill: #FFFFFF;\n    }\n  </style>\n\n    <script>\n      const buttonEl =\n        document.querySelector('#df-5938e318-3197-4cef-92a5-ae0e35154c07 button.colab-df-convert');\n      buttonEl.style.display =\n        google.colab.kernel.accessAllowed ? 'block' : 'none';\n\n      async function convertToInteractive(key) {\n        const element = document.querySelector('#df-5938e318-3197-4cef-92a5-ae0e35154c07');\n        const dataTable =\n          await google.colab.kernel.invokeFunction('convertToInteractive',\n                                                    [key], {});\n        if (!dataTable) return;\n\n        const docLinkHtml = 'Like what you see? Visit the ' +\n          '<a target=\"_blank\" href=https://colab.research.google.com/notebooks/data_table.ipynb>data table notebook</a>'\n          + ' to learn more about interactive tables.';\n        element.innerHTML = '';\n        dataTable['output_type'] = 'display_data';\n        await google.colab.output.renderOutput(dataTable, element);\n        const docLink = document.createElement('div');\n        docLink.innerHTML = docLinkHtml;\n        element.appendChild(docLink);\n      }\n    </script>\n  </div>\n\n\n<div id=\"df-0fa3b11f-2962-489b-a82b-da4bc3f03a18\">\n  <button class=\"colab-df-quickchart\" onclick=\"quickchart('df-0fa3b11f-2962-489b-a82b-da4bc3f03a18')\"\n            title=\"Suggest charts\"\n            style=\"display:none;\">\n\n<svg xmlns=\"http://www.w3.org/2000/svg\" height=\"24px\"viewBox=\"0 0 24 24\"\n     width=\"24px\">\n    <g>\n        <path d=\"M19 3H5c-1.1 0-2 .9-2 2v14c0 1.1.9 2 2 2h14c1.1 0 2-.9 2-2V5c0-1.1-.9-2-2-2zM9 17H7v-7h2v7zm4 0h-2V7h2v10zm4 0h-2v-4h2v4z\"/>\n    </g>\n</svg>\n  </button>\n\n<style>\n  .colab-df-quickchart {\n      --bg-color: #E8F0FE;\n      --fill-color: #1967D2;\n      --hover-bg-color: #E2EBFA;\n      --hover-fill-color: #174EA6;\n      --disabled-fill-color: #AAA;\n      --disabled-bg-color: #DDD;\n  }\n\n  [theme=dark] .colab-df-quickchart {\n      --bg-color: #3B4455;\n      --fill-color: #D2E3FC;\n      --hover-bg-color: #434B5C;\n      --hover-fill-color: #FFFFFF;\n      --disabled-bg-color: #3B4455;\n      --disabled-fill-color: #666;\n  }\n\n  .colab-df-quickchart {\n    background-color: var(--bg-color);\n    border: none;\n    border-radius: 50%;\n    cursor: pointer;\n    display: none;\n    fill: var(--fill-color);\n    height: 32px;\n    padding: 0;\n    width: 32px;\n  }\n\n  .colab-df-quickchart:hover {\n    background-color: var(--hover-bg-color);\n    box-shadow: 0 1px 2px rgba(60, 64, 67, 0.3), 0 1px 3px 1px rgba(60, 64, 67, 0.15);\n    fill: var(--button-hover-fill-color);\n  }\n\n  .colab-df-quickchart-complete:disabled,\n  .colab-df-quickchart-complete:disabled:hover {\n    background-color: var(--disabled-bg-color);\n    fill: var(--disabled-fill-color);\n    box-shadow: none;\n  }\n\n  .colab-df-spinner {\n    border: 2px solid var(--fill-color);\n    border-color: transparent;\n    border-bottom-color: var(--fill-color);\n    animation:\n      spin 1s steps(1) infinite;\n  }\n\n  @keyframes spin {\n    0% {\n      border-color: transparent;\n      border-bottom-color: var(--fill-color);\n      border-left-color: var(--fill-color);\n    }\n    20% {\n      border-color: transparent;\n      border-left-color: var(--fill-color);\n      border-top-color: var(--fill-color);\n    }\n    30% {\n      border-color: transparent;\n      border-left-color: var(--fill-color);\n      border-top-color: var(--fill-color);\n      border-right-color: var(--fill-color);\n    }\n    40% {\n      border-color: transparent;\n      border-right-color: var(--fill-color);\n      border-top-color: var(--fill-color);\n    }\n    60% {\n      border-color: transparent;\n      border-right-color: var(--fill-color);\n    }\n    80% {\n      border-color: transparent;\n      border-right-color: var(--fill-color);\n      border-bottom-color: var(--fill-color);\n    }\n    90% {\n      border-color: transparent;\n      border-bottom-color: var(--fill-color);\n    }\n  }\n</style>\n\n  <script>\n    async function quickchart(key) {\n      const quickchartButtonEl =\n        document.querySelector('#' + key + ' button');\n      quickchartButtonEl.disabled = true;  // To prevent multiple clicks.\n      quickchartButtonEl.classList.add('colab-df-spinner');\n      try {\n        const charts = await google.colab.kernel.invokeFunction(\n            'suggestCharts', [key], {});\n      } catch (error) {\n        console.error('Error during call to suggestCharts:', error);\n      }\n      quickchartButtonEl.classList.remove('colab-df-spinner');\n      quickchartButtonEl.classList.add('colab-df-quickchart-complete');\n    }\n    (() => {\n      let quickchartButtonEl =\n        document.querySelector('#df-0fa3b11f-2962-489b-a82b-da4bc3f03a18 button');\n      quickchartButtonEl.style.display =\n        google.colab.kernel.accessAllowed ? 'block' : 'none';\n    })();\n  </script>\n</div>\n    </div>\n  </div>\n",
                  "application/vnd.google.colaboratory.intrinsic+json": {
                    "type": "dataframe",
                    "summary": "{\n  \"name\": \"display(visualizar)\",\n  \"rows\": 20,\n  \"fields\": [\n    {\n      \"column\": \"Tipo_Prenda\",\n      \"properties\": {\n        \"dtype\": \"number\",\n        \"std\": 1,\n        \"min\": 0,\n        \"max\": 4,\n        \"num_unique_values\": 5,\n        \"samples\": [\n          3,\n          0,\n          2\n        ],\n        \"semantic_type\": \"\",\n        \"description\": \"\"\n      }\n    },\n    {\n      \"column\": \"G\\u00e9nero\",\n      \"properties\": {\n        \"dtype\": \"number\",\n        \"std\": 0,\n        \"min\": 0,\n        \"max\": 1,\n        \"num_unique_values\": 2,\n        \"samples\": [\n          1,\n          0\n        ],\n        \"semantic_type\": \"\",\n        \"description\": \"\"\n      }\n    },\n    {\n      \"column\": \"Color\",\n      \"properties\": {\n        \"dtype\": \"number\",\n        \"std\": 1,\n        \"min\": 0,\n        \"max\": 4,\n        \"num_unique_values\": 5,\n        \"samples\": [\n          4,\n          2\n        ],\n        \"semantic_type\": \"\",\n        \"description\": \"\"\n      }\n    },\n    {\n      \"column\": \"Estilo\",\n      \"properties\": {\n        \"dtype\": \"number\",\n        \"std\": 0,\n        \"min\": 0,\n        \"max\": 2,\n        \"num_unique_values\": 3,\n        \"samples\": [\n          0,\n          1\n        ],\n        \"semantic_type\": \"\",\n        \"description\": \"\"\n      }\n    },\n    {\n      \"column\": \"Marca\",\n      \"properties\": {\n        \"dtype\": \"number\",\n        \"std\": 1,\n        \"min\": 0,\n        \"max\": 3,\n        \"num_unique_values\": 4,\n        \"samples\": [\n          0,\n          1\n        ],\n        \"semantic_type\": \"\",\n        \"description\": \"\"\n      }\n    },\n    {\n      \"column\": \"Precio\",\n      \"properties\": {\n        \"dtype\": \"number\",\n        \"std\": 1416,\n        \"min\": 82,\n        \"max\": 4721,\n        \"num_unique_values\": 20,\n        \"samples\": [\n          1169,\n          4610\n        ],\n        \"semantic_type\": \"\",\n        \"description\": \"\"\n      }\n    },\n    {\n      \"column\": \"G\\u00e9nero_Incluyente\",\n      \"properties\": {\n        \"dtype\": \"number\",\n        \"std\": 0,\n        \"min\": 0,\n        \"max\": 2,\n        \"num_unique_values\": 3,\n        \"samples\": [\n          2,\n          0\n        ],\n        \"semantic_type\": \"\",\n        \"description\": \"\"\n      }\n    },\n    {\n      \"column\": \"Profesi\\u00f3n\",\n      \"properties\": {\n        \"dtype\": \"number\",\n        \"std\": 2,\n        \"min\": 0,\n        \"max\": 5,\n        \"num_unique_values\": 6,\n        \"samples\": [\n          1,\n          0\n        ],\n        \"semantic_type\": \"\",\n        \"description\": \"\"\n      }\n    }\n  ]\n}"
                  }
                },
                "metadata": {}
              },
              {
                "output_type": "display_data",
                "data": {
                  "text/plain": "<IPython.core.display.HTML object>",
                  "text/html": "<h2>Primeros registros. Datos de validación de 1500 registros</h2>"
                },
                "metadata": {}
              },
              {
                "output_type": "display_data",
                "data": {
                  "text/plain": "    Tipo_Prenda  Género  Color  Estilo  Marca  Precio  Género_Incluyente  \\\n0             3       0      3       2      2    3510                  1   \n1             4       1      1       0      2    2843                  1   \n6             1       1      4       2      2     281                  2   \n13            2       1      3       2      3    2359                  0   \n16            0       1      0       0      1    4841                  2   \n17            3       0      2       1      2    3762                  2   \n20            4       1      3       0      0    4284                  0   \n26            2       1      1       2      0    3104                  0   \n28            1       0      3       0      2    2127                  2   \n30            0       0      3       2      2    2384                  2   \n33            0       1      1       0      2    3970                  2   \n38            2       0      2       2      2    4885                  2   \n41            3       0      0       2      1    2788                  0   \n45            3       0      1       2      3     393                  2   \n48            2       0      2       1      1    2132                  2   \n51            4       1      0       0      0    2209                  1   \n55            1       0      3       1      2    2496                  0   \n56            3       0      4       0      0    2752                  2   \n69            2       1      4       1      0    4837                  2   \n71            2       1      4       1      3    1117                  1   \n\n    Profesión  \n0           1  \n1           1  \n6           4  \n13          5  \n16          4  \n17          5  \n20          0  \n26          5  \n28          0  \n30          4  \n33          5  \n38          1  \n41          3  \n45          3  \n48          5  \n51          4  \n55          1  \n56          3  \n69          2  \n71          0  ",
                  "text/html": "\n  <div id=\"df-87b0b706-72f9-4072-8b79-e371a032a3d9\" class=\"colab-df-container\">\n    <div>\n<style scoped>\n    .dataframe tbody tr th:only-of-type {\n        vertical-align: middle;\n    }\n\n    .dataframe tbody tr th {\n        vertical-align: top;\n    }\n\n    .dataframe thead th {\n        text-align: right;\n    }\n</style>\n<table border=\"1\" class=\"dataframe\">\n  <thead>\n    <tr style=\"text-align: right;\">\n      <th></th>\n      <th>Tipo_Prenda</th>\n      <th>Género</th>\n      <th>Color</th>\n      <th>Estilo</th>\n      <th>Marca</th>\n      <th>Precio</th>\n      <th>Género_Incluyente</th>\n      <th>Profesión</th>\n    </tr>\n  </thead>\n  <tbody>\n    <tr>\n      <th>0</th>\n      <td>3</td>\n      <td>0</td>\n      <td>3</td>\n      <td>2</td>\n      <td>2</td>\n      <td>3510</td>\n      <td>1</td>\n      <td>1</td>\n    </tr>\n    <tr>\n      <th>1</th>\n      <td>4</td>\n      <td>1</td>\n      <td>1</td>\n      <td>0</td>\n      <td>2</td>\n      <td>2843</td>\n      <td>1</td>\n      <td>1</td>\n    </tr>\n    <tr>\n      <th>6</th>\n      <td>1</td>\n      <td>1</td>\n      <td>4</td>\n      <td>2</td>\n      <td>2</td>\n      <td>281</td>\n      <td>2</td>\n      <td>4</td>\n    </tr>\n    <tr>\n      <th>13</th>\n      <td>2</td>\n      <td>1</td>\n      <td>3</td>\n      <td>2</td>\n      <td>3</td>\n      <td>2359</td>\n      <td>0</td>\n      <td>5</td>\n    </tr>\n    <tr>\n      <th>16</th>\n      <td>0</td>\n      <td>1</td>\n      <td>0</td>\n      <td>0</td>\n      <td>1</td>\n      <td>4841</td>\n      <td>2</td>\n      <td>4</td>\n    </tr>\n    <tr>\n      <th>17</th>\n      <td>3</td>\n      <td>0</td>\n      <td>2</td>\n      <td>1</td>\n      <td>2</td>\n      <td>3762</td>\n      <td>2</td>\n      <td>5</td>\n    </tr>\n    <tr>\n      <th>20</th>\n      <td>4</td>\n      <td>1</td>\n      <td>3</td>\n      <td>0</td>\n      <td>0</td>\n      <td>4284</td>\n      <td>0</td>\n      <td>0</td>\n    </tr>\n    <tr>\n      <th>26</th>\n      <td>2</td>\n      <td>1</td>\n      <td>1</td>\n      <td>2</td>\n      <td>0</td>\n      <td>3104</td>\n      <td>0</td>\n      <td>5</td>\n    </tr>\n    <tr>\n      <th>28</th>\n      <td>1</td>\n      <td>0</td>\n      <td>3</td>\n      <td>0</td>\n      <td>2</td>\n      <td>2127</td>\n      <td>2</td>\n      <td>0</td>\n    </tr>\n    <tr>\n      <th>30</th>\n      <td>0</td>\n      <td>0</td>\n      <td>3</td>\n      <td>2</td>\n      <td>2</td>\n      <td>2384</td>\n      <td>2</td>\n      <td>4</td>\n    </tr>\n    <tr>\n      <th>33</th>\n      <td>0</td>\n      <td>1</td>\n      <td>1</td>\n      <td>0</td>\n      <td>2</td>\n      <td>3970</td>\n      <td>2</td>\n      <td>5</td>\n    </tr>\n    <tr>\n      <th>38</th>\n      <td>2</td>\n      <td>0</td>\n      <td>2</td>\n      <td>2</td>\n      <td>2</td>\n      <td>4885</td>\n      <td>2</td>\n      <td>1</td>\n    </tr>\n    <tr>\n      <th>41</th>\n      <td>3</td>\n      <td>0</td>\n      <td>0</td>\n      <td>2</td>\n      <td>1</td>\n      <td>2788</td>\n      <td>0</td>\n      <td>3</td>\n    </tr>\n    <tr>\n      <th>45</th>\n      <td>3</td>\n      <td>0</td>\n      <td>1</td>\n      <td>2</td>\n      <td>3</td>\n      <td>393</td>\n      <td>2</td>\n      <td>3</td>\n    </tr>\n    <tr>\n      <th>48</th>\n      <td>2</td>\n      <td>0</td>\n      <td>2</td>\n      <td>1</td>\n      <td>1</td>\n      <td>2132</td>\n      <td>2</td>\n      <td>5</td>\n    </tr>\n    <tr>\n      <th>51</th>\n      <td>4</td>\n      <td>1</td>\n      <td>0</td>\n      <td>0</td>\n      <td>0</td>\n      <td>2209</td>\n      <td>1</td>\n      <td>4</td>\n    </tr>\n    <tr>\n      <th>55</th>\n      <td>1</td>\n      <td>0</td>\n      <td>3</td>\n      <td>1</td>\n      <td>2</td>\n      <td>2496</td>\n      <td>0</td>\n      <td>1</td>\n    </tr>\n    <tr>\n      <th>56</th>\n      <td>3</td>\n      <td>0</td>\n      <td>4</td>\n      <td>0</td>\n      <td>0</td>\n      <td>2752</td>\n      <td>2</td>\n      <td>3</td>\n    </tr>\n    <tr>\n      <th>69</th>\n      <td>2</td>\n      <td>1</td>\n      <td>4</td>\n      <td>1</td>\n      <td>0</td>\n      <td>4837</td>\n      <td>2</td>\n      <td>2</td>\n    </tr>\n    <tr>\n      <th>71</th>\n      <td>2</td>\n      <td>1</td>\n      <td>4</td>\n      <td>1</td>\n      <td>3</td>\n      <td>1117</td>\n      <td>1</td>\n      <td>0</td>\n    </tr>\n  </tbody>\n</table>\n</div>\n    <div class=\"colab-df-buttons\">\n\n  <div class=\"colab-df-container\">\n    <button class=\"colab-df-convert\" onclick=\"convertToInteractive('df-87b0b706-72f9-4072-8b79-e371a032a3d9')\"\n            title=\"Convert this dataframe to an interactive table.\"\n            style=\"display:none;\">\n\n  <svg xmlns=\"http://www.w3.org/2000/svg\" height=\"24px\" viewBox=\"0 -960 960 960\">\n    <path d=\"M120-120v-720h720v720H120Zm60-500h600v-160H180v160Zm220 220h160v-160H400v160Zm0 220h160v-160H400v160ZM180-400h160v-160H180v160Zm440 0h160v-160H620v160ZM180-180h160v-160H180v160Zm440 0h160v-160H620v160Z\"/>\n  </svg>\n    </button>\n\n  <style>\n    .colab-df-container {\n      display:flex;\n      gap: 12px;\n    }\n\n    .colab-df-convert {\n      background-color: #E8F0FE;\n      border: none;\n      border-radius: 50%;\n      cursor: pointer;\n      display: none;\n      fill: #1967D2;\n      height: 32px;\n      padding: 0 0 0 0;\n      width: 32px;\n    }\n\n    .colab-df-convert:hover {\n      background-color: #E2EBFA;\n      box-shadow: 0px 1px 2px rgba(60, 64, 67, 0.3), 0px 1px 3px 1px rgba(60, 64, 67, 0.15);\n      fill: #174EA6;\n    }\n\n    .colab-df-buttons div {\n      margin-bottom: 4px;\n    }\n\n    [theme=dark] .colab-df-convert {\n      background-color: #3B4455;\n      fill: #D2E3FC;\n    }\n\n    [theme=dark] .colab-df-convert:hover {\n      background-color: #434B5C;\n      box-shadow: 0px 1px 3px 1px rgba(0, 0, 0, 0.15);\n      filter: drop-shadow(0px 1px 2px rgba(0, 0, 0, 0.3));\n      fill: #FFFFFF;\n    }\n  </style>\n\n    <script>\n      const buttonEl =\n        document.querySelector('#df-87b0b706-72f9-4072-8b79-e371a032a3d9 button.colab-df-convert');\n      buttonEl.style.display =\n        google.colab.kernel.accessAllowed ? 'block' : 'none';\n\n      async function convertToInteractive(key) {\n        const element = document.querySelector('#df-87b0b706-72f9-4072-8b79-e371a032a3d9');\n        const dataTable =\n          await google.colab.kernel.invokeFunction('convertToInteractive',\n                                                    [key], {});\n        if (!dataTable) return;\n\n        const docLinkHtml = 'Like what you see? Visit the ' +\n          '<a target=\"_blank\" href=https://colab.research.google.com/notebooks/data_table.ipynb>data table notebook</a>'\n          + ' to learn more about interactive tables.';\n        element.innerHTML = '';\n        dataTable['output_type'] = 'display_data';\n        await google.colab.output.renderOutput(dataTable, element);\n        const docLink = document.createElement('div');\n        docLink.innerHTML = docLinkHtml;\n        element.appendChild(docLink);\n      }\n    </script>\n  </div>\n\n\n<div id=\"df-f25eb0b6-811b-4af5-8fd0-48b7158b9522\">\n  <button class=\"colab-df-quickchart\" onclick=\"quickchart('df-f25eb0b6-811b-4af5-8fd0-48b7158b9522')\"\n            title=\"Suggest charts\"\n            style=\"display:none;\">\n\n<svg xmlns=\"http://www.w3.org/2000/svg\" height=\"24px\"viewBox=\"0 0 24 24\"\n     width=\"24px\">\n    <g>\n        <path d=\"M19 3H5c-1.1 0-2 .9-2 2v14c0 1.1.9 2 2 2h14c1.1 0 2-.9 2-2V5c0-1.1-.9-2-2-2zM9 17H7v-7h2v7zm4 0h-2V7h2v10zm4 0h-2v-4h2v4z\"/>\n    </g>\n</svg>\n  </button>\n\n<style>\n  .colab-df-quickchart {\n      --bg-color: #E8F0FE;\n      --fill-color: #1967D2;\n      --hover-bg-color: #E2EBFA;\n      --hover-fill-color: #174EA6;\n      --disabled-fill-color: #AAA;\n      --disabled-bg-color: #DDD;\n  }\n\n  [theme=dark] .colab-df-quickchart {\n      --bg-color: #3B4455;\n      --fill-color: #D2E3FC;\n      --hover-bg-color: #434B5C;\n      --hover-fill-color: #FFFFFF;\n      --disabled-bg-color: #3B4455;\n      --disabled-fill-color: #666;\n  }\n\n  .colab-df-quickchart {\n    background-color: var(--bg-color);\n    border: none;\n    border-radius: 50%;\n    cursor: pointer;\n    display: none;\n    fill: var(--fill-color);\n    height: 32px;\n    padding: 0;\n    width: 32px;\n  }\n\n  .colab-df-quickchart:hover {\n    background-color: var(--hover-bg-color);\n    box-shadow: 0 1px 2px rgba(60, 64, 67, 0.3), 0 1px 3px 1px rgba(60, 64, 67, 0.15);\n    fill: var(--button-hover-fill-color);\n  }\n\n  .colab-df-quickchart-complete:disabled,\n  .colab-df-quickchart-complete:disabled:hover {\n    background-color: var(--disabled-bg-color);\n    fill: var(--disabled-fill-color);\n    box-shadow: none;\n  }\n\n  .colab-df-spinner {\n    border: 2px solid var(--fill-color);\n    border-color: transparent;\n    border-bottom-color: var(--fill-color);\n    animation:\n      spin 1s steps(1) infinite;\n  }\n\n  @keyframes spin {\n    0% {\n      border-color: transparent;\n      border-bottom-color: var(--fill-color);\n      border-left-color: var(--fill-color);\n    }\n    20% {\n      border-color: transparent;\n      border-left-color: var(--fill-color);\n      border-top-color: var(--fill-color);\n    }\n    30% {\n      border-color: transparent;\n      border-left-color: var(--fill-color);\n      border-top-color: var(--fill-color);\n      border-right-color: var(--fill-color);\n    }\n    40% {\n      border-color: transparent;\n      border-right-color: var(--fill-color);\n      border-top-color: var(--fill-color);\n    }\n    60% {\n      border-color: transparent;\n      border-right-color: var(--fill-color);\n    }\n    80% {\n      border-color: transparent;\n      border-right-color: var(--fill-color);\n      border-bottom-color: var(--fill-color);\n    }\n    90% {\n      border-color: transparent;\n      border-bottom-color: var(--fill-color);\n    }\n  }\n</style>\n\n  <script>\n    async function quickchart(key) {\n      const quickchartButtonEl =\n        document.querySelector('#' + key + ' button');\n      quickchartButtonEl.disabled = true;  // To prevent multiple clicks.\n      quickchartButtonEl.classList.add('colab-df-spinner');\n      try {\n        const charts = await google.colab.kernel.invokeFunction(\n            'suggestCharts', [key], {});\n      } catch (error) {\n        console.error('Error during call to suggestCharts:', error);\n      }\n      quickchartButtonEl.classList.remove('colab-df-spinner');\n      quickchartButtonEl.classList.add('colab-df-quickchart-complete');\n    }\n    (() => {\n      let quickchartButtonEl =\n        document.querySelector('#df-f25eb0b6-811b-4af5-8fd0-48b7158b9522 button');\n      quickchartButtonEl.style.display =\n        google.colab.kernel.accessAllowed ? 'block' : 'none';\n    })();\n  </script>\n</div>\n    </div>\n  </div>\n",
                  "application/vnd.google.colaboratory.intrinsic+json": {
                    "type": "dataframe",
                    "summary": "{\n  \"name\": \"display(visualizar)\",\n  \"rows\": 20,\n  \"fields\": [\n    {\n      \"column\": \"Tipo_Prenda\",\n      \"properties\": {\n        \"dtype\": \"number\",\n        \"std\": 1,\n        \"min\": 0,\n        \"max\": 4,\n        \"num_unique_values\": 5,\n        \"samples\": [\n          4,\n          0,\n          1\n        ],\n        \"semantic_type\": \"\",\n        \"description\": \"\"\n      }\n    },\n    {\n      \"column\": \"G\\u00e9nero\",\n      \"properties\": {\n        \"dtype\": \"number\",\n        \"std\": 0,\n        \"min\": 0,\n        \"max\": 1,\n        \"num_unique_values\": 2,\n        \"samples\": [\n          1,\n          0\n        ],\n        \"semantic_type\": \"\",\n        \"description\": \"\"\n      }\n    },\n    {\n      \"column\": \"Color\",\n      \"properties\": {\n        \"dtype\": \"number\",\n        \"std\": 1,\n        \"min\": 0,\n        \"max\": 4,\n        \"num_unique_values\": 5,\n        \"samples\": [\n          1,\n          2\n        ],\n        \"semantic_type\": \"\",\n        \"description\": \"\"\n      }\n    },\n    {\n      \"column\": \"Estilo\",\n      \"properties\": {\n        \"dtype\": \"number\",\n        \"std\": 0,\n        \"min\": 0,\n        \"max\": 2,\n        \"num_unique_values\": 3,\n        \"samples\": [\n          2,\n          0\n        ],\n        \"semantic_type\": \"\",\n        \"description\": \"\"\n      }\n    },\n    {\n      \"column\": \"Marca\",\n      \"properties\": {\n        \"dtype\": \"number\",\n        \"std\": 1,\n        \"min\": 0,\n        \"max\": 3,\n        \"num_unique_values\": 4,\n        \"samples\": [\n          3,\n          0\n        ],\n        \"semantic_type\": \"\",\n        \"description\": \"\"\n      }\n    },\n    {\n      \"column\": \"Precio\",\n      \"properties\": {\n        \"dtype\": \"number\",\n        \"std\": 1345,\n        \"min\": 281,\n        \"max\": 4885,\n        \"num_unique_values\": 20,\n        \"samples\": [\n          3510,\n          2752\n        ],\n        \"semantic_type\": \"\",\n        \"description\": \"\"\n      }\n    },\n    {\n      \"column\": \"G\\u00e9nero_Incluyente\",\n      \"properties\": {\n        \"dtype\": \"number\",\n        \"std\": 0,\n        \"min\": 0,\n        \"max\": 2,\n        \"num_unique_values\": 3,\n        \"samples\": [\n          1,\n          2\n        ],\n        \"semantic_type\": \"\",\n        \"description\": \"\"\n      }\n    },\n    {\n      \"column\": \"Profesi\\u00f3n\",\n      \"properties\": {\n        \"dtype\": \"number\",\n        \"std\": 1,\n        \"min\": 0,\n        \"max\": 5,\n        \"num_unique_values\": 6,\n        \"samples\": [\n          1,\n          4\n        ],\n        \"semantic_type\": \"\",\n        \"description\": \"\"\n      }\n    }\n  ]\n}"
                  }
                },
                "metadata": {}
              }
            ]
          }
        },
        "b6fc2b64896c4791a9d11b6c4e21a838": {
          "model_module": "@jupyter-widgets/base",
          "model_name": "LayoutModel",
          "model_module_version": "1.2.0",
          "state": {
            "_model_module": "@jupyter-widgets/base",
            "_model_module_version": "1.2.0",
            "_model_name": "LayoutModel",
            "_view_count": null,
            "_view_module": "@jupyter-widgets/base",
            "_view_module_version": "1.2.0",
            "_view_name": "LayoutView",
            "align_content": null,
            "align_items": null,
            "align_self": null,
            "border": null,
            "bottom": null,
            "display": null,
            "flex": null,
            "flex_flow": null,
            "grid_area": null,
            "grid_auto_columns": null,
            "grid_auto_flow": null,
            "grid_auto_rows": null,
            "grid_column": null,
            "grid_gap": null,
            "grid_row": null,
            "grid_template_areas": null,
            "grid_template_columns": null,
            "grid_template_rows": null,
            "height": null,
            "justify_content": null,
            "justify_items": null,
            "left": null,
            "margin": null,
            "max_height": null,
            "max_width": null,
            "min_height": null,
            "min_width": null,
            "object_fit": null,
            "object_position": null,
            "order": null,
            "overflow": null,
            "overflow_x": null,
            "overflow_y": null,
            "padding": null,
            "right": null,
            "top": null,
            "visibility": null,
            "width": null
          }
        }
      }
    }
  },
  "cells": [
    {
      "cell_type": "markdown",
      "metadata": {
        "id": "view-in-github",
        "colab_type": "text"
      },
      "source": [
        "<a href=\"https://colab.research.google.com/github/rpizarrog/innovacion-empresarial/blob/main/notebook_python/Caso_22_Perceptr%C3%B3n_para_evaluar_opinicones_de_calidad_de_compra_de_ropa.ipynb\" target=\"_parent\"><img src=\"https://colab.research.google.com/assets/colab-badge.svg\" alt=\"Open In Colab\"/></a>"
      ]
    },
    {
      "cell_type": "code",
      "execution_count": null,
      "metadata": {
        "id": "LtXFkHIVh0u8"
      },
      "outputs": [],
      "source": []
    },
    {
      "cell_type": "markdown",
      "source": [
        "\n",
        "# Objetivo\n",
        "\n",
        "Crear y entrenar un modelo basado en el algoritmo de un perceptrón utilizando librería Scikit-learn para evaluar la exactitud de opinones de calidad por parte de los clientes en la compra de ropa.\n"
      ],
      "metadata": {
        "id": "2YDs_3mWiPCB"
      }
    },
    {
      "cell_type": "markdown",
      "source": [
        "# Fundamento teórico\n",
        "\n",
        "Pendiente ...\n"
      ],
      "metadata": {
        "id": "SLE84uMRiaZk"
      }
    },
    {
      "cell_type": "markdown",
      "source": [
        "# Desarrollo\n",
        "\n"
      ],
      "metadata": {
        "id": "aaHT1iEXiwMU"
      }
    },
    {
      "cell_type": "markdown",
      "source": [
        "## Cargar librerías\n",
        "\n"
      ],
      "metadata": {
        "id": "xlCc4FL3ix4r"
      }
    },
    {
      "cell_type": "code",
      "source": [
        "import pandas as pd\n",
        "\n",
        "import numpy as np\n",
        "from sklearn.model_selection import train_test_split # PAra partir datos de entrenamiento y validación\n",
        "\n",
        "\n",
        "from sklearn.linear_model import Perceptron\n",
        "from sklearn.datasets import make_classification\n",
        "from sklearn.metrics import accuracy_score\n",
        "from sklearn.metrics import accuracy_score, confusion_matrix # Para matiz de confusión...\n",
        "\n",
        "from sklearn.preprocessing import LabelEncoder\n",
        "from sklearn.preprocessing import OneHotEncoder\n",
        "\n",
        "import ipywidgets as widgets\n",
        "from IPython.display import display, HTML, clear_output\n",
        "\n",
        "\n",
        "import time # Para medir el tiempo de ejecución\n",
        "\n",
        "import matplotlib.pyplot as plt"
      ],
      "metadata": {
        "id": "th0iYp_AizWU"
      },
      "execution_count": 14,
      "outputs": []
    },
    {
      "cell_type": "markdown",
      "source": [
        "## Crear funciones\n",
        "\n",
        "pendientes"
      ],
      "metadata": {
        "id": "vtpHdvaqjKx8"
      }
    },
    {
      "cell_type": "code",
      "source": [
        "def f_diagrama_barra(datos):\n",
        "    conteo = datos['Calidad'].value_counts()\n",
        "    colores = ['green', 'yellow', 'red']  # Colores para las barras\n",
        "\n",
        "    # Crear el gráfico de barras con colores específicos\n",
        "    plt.figure(figsize=(8, 6))\n",
        "    barras = plt.bar(conteo.index, conteo.values, color=colores)\n",
        "\n",
        "    # Añadir etiquetas con la frecuencia en cada barra\n",
        "    for barra in barras:\n",
        "        yval = barra.get_height()\n",
        "        plt.text(barra.get_x() + barra.get_width()/2, yval, int(yval), ha='center', va='bottom')\n",
        "\n",
        "    plt.title('Total de opiniones sobre calidad')\n",
        "    plt.xlabel('Daño al Corazón (1: Buena, 2: Regular, 3: Mala)')\n",
        "    plt.ylabel('Total de Casos')\n",
        "    plt.xticks(ticks=[1, 2, 3], labels=['Buena', 'Regular', 'Mala'], rotation=0)\n",
        "    plt.show()\n",
        "\n",
        "# Esta función recibe el modelo, los datos de validación y la variable objetivo;\n",
        "# presenta la matriz de confusión así como\n",
        "# el estadísitico accuracy que sirve para evaluar la exactitud del modelo de clasificación\n",
        "def f_evaluar_modelo(predicciones, y_test):\n",
        "\n",
        "  # Hay que hacer predicciones\n",
        "  # predicciones = modelo.predict(datos_validacion)\n",
        "\n",
        "  # Calcular la precisión\n",
        "  precision = accuracy_score(y_test, predicciones)\n",
        "  print(f\"La exactitud del modelo es: {precision}\")\n",
        "\n",
        "  # Opcional: Mostrar la matriz de confusión\n",
        "  matriz_confusion = confusion_matrix(y_test, predicciones)\n",
        "  print(\"Matriz de Confusión:\")\n",
        "  print(matriz_confusion)\n",
        "\n",
        "  # Extraer los valores de la matriz de confusión\n",
        "  VP = matriz_confusion[0, 0]\n",
        "  FN = matriz_confusion[0, 1]\n",
        "  FP = matriz_confusion[1, 0]\n",
        "  VN = matriz_confusion[1, 1]\n",
        "\n",
        "  print ()\n",
        "  print (\"VP: Verdaderos Positivos. El modelo la atina (V) a los que no ('No') tienen daño al corazón: \", VP)\n",
        "  print (\"FN: Falsos Negativos. El modelo falla (F) a los que no ('No') daño, prediciendo que si ('Yes') tienen daño al corazón: \", FN)\n",
        "  print (\"FP: Falsos Positivos. El modelo falla (F) a los que si ('Yes') daño, prediciendo que no ('No) tienen daño al corazón: \", FP)\n",
        "  print (\"VN: Verdaderos Negativos. El modelo le atina (V) a los que si ('Yes') tienen daño al corazón: \", VN)\n",
        "\n",
        "  print (\"Compronando\")\n",
        "  print (\"Accuracy = (VP + VN)/(VP + FN + FP + VN)\",\n",
        "         \"(\",VP, \"+\", VN,\") / (\",VP,\"+\",FN,\"+\",FP,\"+\",VN,\") = \", (VP + VN)/(VP + FN + FP + VN))\n"
      ],
      "metadata": {
        "id": "bPKUMX8nm5ml"
      },
      "execution_count": 28,
      "outputs": []
    },
    {
      "cell_type": "markdown",
      "source": [
        "## Crear widgets\n",
        "\n"
      ],
      "metadata": {
        "id": "2W1ruyIXjM_B"
      }
    },
    {
      "cell_type": "code",
      "source": [
        "visualizar = widgets.Output()\n",
        "\n",
        "\n",
        "# Función para actualizar y mostrar el contenido dinámicamente en el widget de salida\n",
        "def f_visualizar_datos(datos1, datos2, titulo1, titulo2):\n",
        "    with visualizar:\n",
        "        #global titulo1, titulo2\n",
        "        #titulo1 = \"Primeros 20 registros de datos\"\n",
        "        visualizar.clear_output(wait=True)  # Limpiar el contenido anterior\n",
        "        display(HTML(f\"<h2>{titulo1}</h2>\"))  # Establecer el nuevo título\n",
        "        # Visualizar datos\n",
        "        display(datos1)\n",
        "\n",
        "        #titulo2 = \"Últimos 20 registros de datos\"\n",
        "        display(HTML(f\"<h2>{titulo2}</h2>\"))  # Establecer el nuevo título\n",
        "        # Visualizar datos\n",
        "        display(datos2)"
      ],
      "metadata": {
        "id": "fXVW5AqijO58"
      },
      "execution_count": 11,
      "outputs": []
    },
    {
      "cell_type": "markdown",
      "source": [
        "## Cargar datos\n",
        "\n",
        "## Las variables de interés\n",
        "\n",
        "Se carga un conjunto de datos que contiene oiniones de calidad que se resumen en una clasificación de tres tipos \"Buena\", \"Regular y \"Mala\"\n",
        "\n",
        "Las variables independientes son:\n",
        "\n",
        "* Tipo_Prenda: Pantalón Vestido, Falda, Camisa, otros...\n",
        "* Género: Caballero o Dama\n",
        "* Color: Algún color de prenda; Roho, Blanco, Verde Azul...\n",
        "* Estilo: Foral, Casua, Deportivo\n",
        "* Marca: Marca A, B, C, D\n",
        "* Precio. Valor económico de la prenda $$$\n",
        "Talla\t: Valor numérico; 38, 40, 29, 43, ...\n",
        "Cantidad_Lavados: Número de lavadas que ha tenido la prenda desues de compra que el cliente sabe. Valor numérico\n",
        "* Edad: Edad del cliente\n",
        "* Profesión: Profesión del cliente; Ciencias Sociales y Humanidades, Ingeniería, Artes, ...\n",
        "* Género_Incluyente\t: HombreMujer, Hombre, Mujer\n",
        "\n",
        "La variable dependiente es\n",
        "* Calidad: Buena, Regular, Mala"
      ],
      "metadata": {
        "id": "iCg-sUwbjSfD"
      }
    },
    {
      "cell_type": "code",
      "source": [
        "# Carga el archivo CSV\n",
        "ruta = 'https://raw.githubusercontent.com/rpizarrog/innovacion-empresarial/main/datos/opiniones_calidad_prendas_ropa_equidad.csv'  # Actualiza con la ruta correcta\n",
        "datos = pd.read_csv(ruta)\n",
        "\n",
        "# Tamaño de la muestra deseado, por ejemplo, 1000 registros\n",
        "# n = 2500 # Mitad de los datos\n",
        "# muestra = datos.sample(n=n, random_state=2024)\n",
        "\n",
        "# Llamar a la función para mostrar datos de entrenamiento ordenados por índice\n",
        "f_visualizar_datos(datos.head(20), datos.tail(20), \"Primeros registros de Datos\", \"Últimos registros de Datos\")\n",
        "\n",
        "# Para mostrar el widget de salida\n",
        "display(visualizar)"
      ],
      "metadata": {
        "colab": {
          "base_uri": "https://localhost:8080/",
          "height": 1000,
          "referenced_widgets": [
            "d7c0cf02fd5145ce8bf9582231dadcbb",
            "b6fc2b64896c4791a9d11b6c4e21a838"
          ]
        },
        "id": "hRtldjwfjTuj",
        "outputId": "fd964081-403e-49e6-e234-bdbfcd2b57ff"
      },
      "execution_count": 18,
      "outputs": [
        {
          "output_type": "display_data",
          "data": {
            "text/plain": [
              "Output()"
            ],
            "application/vnd.jupyter.widget-view+json": {
              "version_major": 2,
              "version_minor": 0,
              "model_id": "d7c0cf02fd5145ce8bf9582231dadcbb"
            }
          },
          "metadata": {}
        }
      ]
    },
    {
      "cell_type": "markdown",
      "source": [
        "## Descripción de datos\n",
        "\n"
      ],
      "metadata": {
        "id": "prMILulUnBZi"
      }
    },
    {
      "cell_type": "code",
      "source": [
        "# Obtener el conteo de casos con y sin daños al corazón\n",
        "conteo_calidad = datos['Calidad'].value_counts()\n",
        "\n",
        "# Convertir el conteo a un DataFrame para una mejor visualización\n",
        "tabla_conteo = conteo_calidad.rename(index={1: 'Buena', 2: 'Regular', 3: 'Mala'}).reset_index()\n",
        "tabla_conteo.columns = ['Calidad', 'Total de Casos']\n",
        "\n",
        "# Mostrar la tabla\n",
        "print(tabla_conteo)"
      ],
      "metadata": {
        "colab": {
          "base_uri": "https://localhost:8080/"
        },
        "id": "5ZyKClC2nEBD",
        "outputId": "bf6de665-b1d5-43d4-e0bc-6956562cb517"
      },
      "execution_count": 26,
      "outputs": [
        {
          "output_type": "stream",
          "name": "stdout",
          "text": [
            "   Calidad  Total de Casos\n",
            "0    Buena            2522\n",
            "1  Regular            1467\n",
            "2     Mala            1011\n"
          ]
        }
      ]
    },
    {
      "cell_type": "code",
      "source": [
        "f_diagrama_barra(datos)"
      ],
      "metadata": {
        "colab": {
          "base_uri": "https://localhost:8080/",
          "height": 565
        },
        "id": "TKdY-QvhnXKT",
        "outputId": "99e9ba0d-51b9-4a8e-8ada-48efc78215bf"
      },
      "execution_count": 27,
      "outputs": [
        {
          "output_type": "display_data",
          "data": {
            "text/plain": [
              "<Figure size 800x600 with 1 Axes>"
            ],
            "image/png": "[encoded data removed]"
          },
          "metadata": {}
        }
      ]
    },
    {
      "cell_type": "markdown",
      "source": [
        "## Preparando los datos\n",
        "\n",
        "Convertir las variables cualitativas a valores codificados, y dejar todo el conjunto de datos en un solo llamado datos_preparados"
      ],
      "metadata": {
        "id": "NsaJ_kHMlTiH"
      }
    },
    {
      "cell_type": "code",
      "source": [
        "# Preprocesamiento: Codificación de variables categóricas\n",
        "encoder = OneHotEncoder(sparse=False)\n",
        "# Instanciar un LabelEncoder\n",
        "encoder = LabelEncoder()\n",
        "\n",
        "datos_preparados = pd.DataFrame()\n",
        "# Aplicar Label Encoding a cada columna categórica y guardar en el mismo DataFrame\n",
        "datos_preparados['Tipo_Prenda'] = encoder.fit_transform(datos['Tipo_Prenda'])\n",
        "datos_preparados['Género'] = encoder.fit_transform(datos['Género'])\n",
        "datos_preparados['Color'] = encoder.fit_transform(datos['Color'])\n",
        "datos_preparados['Estilo'] = encoder.fit_transform(datos['Estilo'])\n",
        "datos_preparados['Marca'] = encoder.fit_transform(datos['Marca'])\n",
        "datos_preparados['Precio'] = encoder.fit_transform(datos['Precio'])\n",
        "datos_preparados['Género_Incluyente'] = encoder.fit_transform(datos['Género_Incluyente'])\n",
        "datos_preparados['Profesión'] = encoder.fit_transform(datos['Profesión'])\n",
        "datos_preparados['Calidad'] = encoder.fit_transform(datos['Calidad'])\n",
        "\n",
        "\n",
        "# Llamar a la función para mostrar datos\n",
        "f_visualizar_datos(datos_preparados.head(20), datos_preparados.tail(20), \"Primeros registros de Datos Preparados\", \"Últimos registros de Datos Preparados\")\n",
        "\n",
        "# Para mostrar el widget de salida\n",
        "display(visualizar)"
      ],
      "metadata": {
        "colab": {
          "base_uri": "https://localhost:8080/",
          "height": 1000,
          "referenced_widgets": [
            "d7c0cf02fd5145ce8bf9582231dadcbb",
            "b6fc2b64896c4791a9d11b6c4e21a838"
          ]
        },
        "id": "E2Q5gEn6iP1B",
        "outputId": "ceb09d3d-a5b5-4c12-fc74-a1f2513ead51"
      },
      "execution_count": 29,
      "outputs": [
        {
          "output_type": "display_data",
          "data": {
            "text/plain": [
              "Output()"
            ],
            "application/vnd.jupyter.widget-view+json": {
              "version_major": 2,
              "version_minor": 0,
              "model_id": "d7c0cf02fd5145ce8bf9582231dadcbb"
            }
          },
          "metadata": {}
        }
      ]
    },
    {
      "cell_type": "markdown",
      "source": [
        "## Datos de entrenamiento y validación\n",
        "\n"
      ],
      "metadata": {
        "id": "IS4CndVloN1O"
      }
    },
    {
      "cell_type": "code",
      "source": [
        "# Divide los datos en características y variable objetivo\n",
        "independientes = datos_preparados.drop('Calidad', axis=1)\n",
        "dependiente = datos_preparados['Calidad']"
      ],
      "metadata": {
        "id": "2erhyUypoSXs"
      },
      "execution_count": 30,
      "outputs": []
    },
    {
      "cell_type": "code",
      "source": [
        "# Dividir los datos en conjuntos de entrenamiento y prueba\n",
        "entrenamiento, validacion, y_train, y_test = train_test_split(independientes, dependiente, test_size=0.3, random_state=2024)\n",
        "X_train = entrenamiento.copy()\n",
        "X_test = validacion.copy()\n",
        "n_train = len(X_train)\n",
        "n_test = len(X_test)\n",
        "\n",
        "f_visualizar_datos(X_train.sort_index().head(20), X_test.sort_index().head(20),\n",
        "                   \"Primeros registros. Datos de entrenamiento de \"+str(n_train) + \" registros\", \"Primeros registros. Datos de validación de \"+str(n_test) + \" registros\")\n",
        "\n",
        "# Para mostrar el widget de salida\n",
        "display(visualizar)"
      ],
      "metadata": {
        "colab": {
          "base_uri": "https://localhost:8080/",
          "height": 1000,
          "referenced_widgets": [
            "d7c0cf02fd5145ce8bf9582231dadcbb",
            "b6fc2b64896c4791a9d11b6c4e21a838"
          ]
        },
        "id": "2Jt47h91oP2C",
        "outputId": "19167337-785b-4606-8981-2cc22a541d83"
      },
      "execution_count": 31,
      "outputs": [
        {
          "output_type": "display_data",
          "data": {
            "text/plain": [
              "Output()"
            ],
            "application/vnd.jupyter.widget-view+json": {
              "version_major": 2,
              "version_minor": 0,
              "model_id": "d7c0cf02fd5145ce8bf9582231dadcbb"
            }
          },
          "metadata": {}
        }
      ]
    },
    {
      "cell_type": "markdown",
      "source": [
        "## Aplicar modelo del perceptron\n",
        "\n"
      ],
      "metadata": {
        "id": "jTSX7KtuofSC"
      }
    },
    {
      "cell_type": "code",
      "source": [
        "# Marcar el tiempo de inicio\n",
        "start_time = time.time()\n",
        "\n",
        "# Crear y entrenar el modelo de perceptrón con datos de entrenamiento\n",
        "# Crear y entrenar el perceptrón\n",
        "perceptron = Perceptron(max_iter=1000, random_state=2024)\n",
        "perceptron.fit(X_train, y_train)\n",
        "\n",
        "# Marcar el tiempo de finalización\n",
        "end_time = time.time()\n",
        "\n",
        "# Calcular la duración restando el tiempo de inicio del tiempo de finalización\n",
        "duration = end_time - start_time\n",
        "\n",
        "print(f\"El tiempo de ejecución fue de {duration} segundos.\")"
      ],
      "metadata": {
        "colab": {
          "base_uri": "https://localhost:8080/"
        },
        "id": "YwdsJ7jRohZs",
        "outputId": "41880f15-4e9e-4f0a-c6ae-5a053073137a"
      },
      "execution_count": 32,
      "outputs": [
        {
          "output_type": "stream",
          "name": "stdout",
          "text": [
            "El tiempo de ejecución fue de 0.04355335235595703 segundos.\n"
          ]
        }
      ]
    },
    {
      "cell_type": "markdown",
      "source": [
        "## Hacer predicciones con datos de validación\n",
        "\n",
        "\n"
      ],
      "metadata": {
        "id": "y9cjsO7yov_u"
      }
    },
    {
      "cell_type": "code",
      "source": [
        "# Hacer predicciones en los datos de entrenamiento\n",
        "predicciones = perceptron.predict(X_test)"
      ],
      "metadata": {
        "id": "50wIpcWzozcD"
      },
      "execution_count": 34,
      "outputs": []
    },
    {
      "cell_type": "markdown",
      "source": [
        "## Evaluar el modelo\n",
        "\n"
      ],
      "metadata": {
        "id": "Q0o_zCZio4rT"
      }
    },
    {
      "cell_type": "code",
      "source": [
        "# Calcular la precisión del modelo en los datos de entrenamiento\n",
        "precision_train = accuracy_score(predicciones, y_test)\n",
        "print(\"Precisión en datos de entrenamiento:\", precision_train)\n",
        "\n",
        "f_evaluar_modelo(predicciones, y_test)"
      ],
      "metadata": {
        "colab": {
          "base_uri": "https://localhost:8080/"
        },
        "id": "qsTgPeP0o6Cs",
        "outputId": "82663f3f-d486-4273-ccb0-50b208992cec"
      },
      "execution_count": 35,
      "outputs": [
        {
          "output_type": "stream",
          "name": "stdout",
          "text": [
            "Precisión en datos de entrenamiento: 0.2826666666666667\n",
            "La exactitud del modelo es: 0.2826666666666667\n",
            "Matriz de Confusión:\n",
            "[[  0   0 778]\n",
            " [  2   0 294]\n",
            " [  2   0 424]]\n",
            "\n",
            "VP: Verdaderos Positivos. El modelo la atina (V) a los que no ('No') tienen daño al corazón:  0\n",
            "FN: Falsos Negativos. El modelo falla (F) a los que no ('No') daño, prediciendo que si ('Yes') tienen daño al corazón:  0\n",
            "FP: Falsos Positivos. El modelo falla (F) a los que si ('Yes') daño, prediciendo que no ('No) tienen daño al corazón:  2\n",
            "VN: Verdaderos Negativos. El modelo le atina (V) a los que si ('Yes') tienen daño al corazón:  0\n",
            "Compronando\n",
            "Accuracy = (VP + VN)/(VP + FN + FP + VN) ( 0 + 0 ) / ( 0 + 0 + 2 + 0 ) =  0.0\n"
          ]
        }
      ]
    },
    {
      "cell_type": "markdown",
      "source": [
        "# Interpretación\n",
        "\n",
        "La exactitud del perceptrón es del 28% aproximadamente, si se tuviera una mpetrica del al menos 30% el modelo usando este perceptrón es ineficiente.\n",
        "\n",
        "\n",
        "\n"
      ],
      "metadata": {
        "id": "QytC5Ec_pFrC"
      }
    }
  ]
}