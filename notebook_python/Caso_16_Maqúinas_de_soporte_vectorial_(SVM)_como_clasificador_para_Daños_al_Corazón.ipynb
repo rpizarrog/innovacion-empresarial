{
  "nbformat": 4,
  "nbformat_minor": 0,
  "metadata": {
    "colab": {
      "provenance": [],
      "authorship_tag": "ABX9TyOhRimTFG/lOuInC3HA49YU",
      "include_colab_link": true
    },
    "kernelspec": {
      "name": "python3",
      "display_name": "Python 3"
    },
    "language_info": {
      "name": "python"
    },
    "widgets": {
      "application/vnd.jupyter.widget-state+json": {
        "c6812e6a735e46b698431c422d8c0a41": {
          "model_module": "@jupyter-widgets/output",
          "model_name": "OutputModel",
          "model_module_version": "1.0.0",
          "state": {
            "_dom_classes": [],
            "_model_module": "@jupyter-widgets/output",
            "_model_module_version": "1.0.0",
            "_model_name": "OutputModel",
            "_view_count": null,
            "_view_module": "@jupyter-widgets/output",
            "_view_module_version": "1.0.0",
            "_view_name": "OutputView",
            "layout": "IPY_MODEL_cbc17093232c40a9aae5b7206bafbf7f",
            "msg_id": "",
            "outputs": [
              {
                "output_type": "display_data",
                "data": {
                  "text/plain": "<IPython.core.display.HTML object>",
                  "text/html": "<h2>Primeros registros. Datos de entrenamiento escalados de 159897 registros</h2>"
                },
                "metadata": {}
              },
              {
                "output_type": "display_data",
                "data": {
                  "text/plain": "         BMI   Smoking  AlcoholDrinking    Stroke  PhysicalHealth  \\\n0  -1.293846 -1.188862         0.269900  0.199223       -0.174541   \n1   0.964091 -1.188862        -3.705071  0.199223       -0.425321   \n2   1.008148 -1.188862         0.269900  0.199223       -0.425321   \n3   2.092272  0.841140        -3.705071  0.199223        0.201629   \n4   0.855521 -1.188862         0.269900  0.199223        0.828580   \n5   0.149031  0.841140         0.269900  0.199223       -0.425321   \n6   0.109694  0.841140         0.269900  0.199223       -0.425321   \n7   0.562855 -1.188862         0.269900  0.199223       -0.425321   \n8  -0.552739 -1.188862         0.269900  0.199223       -0.425321   \n9  -0.148356 -1.188862        -3.705071  0.199223       -0.425321   \n10 -1.153807  0.841140         0.269900  0.199223       -0.425321   \n11  0.396066  0.841140         0.269900  0.199223       -0.425321   \n12 -0.406406  0.841140         0.269900 -5.019507       -0.425321   \n13  0.657263  0.841140         0.269900  0.199223       -0.425321   \n14  1.281933  0.841140         0.269900  0.199223        3.336382   \n15  0.090812  0.841140         0.269900  0.199223       -0.425321   \n16 -0.264793 -1.188862         0.269900  0.199223       -0.425321   \n17 -0.425288  0.841140         0.269900  0.199223       -0.425321   \n18 -0.496094  0.841140         0.269900  0.199223       -0.425321   \n19 -0.481933  0.841140         0.269900  0.199223       -0.425321   \n\n    MentalHealth  DiffWalking       Sex  AgeCategory      Race  Diabetic  \\\n0       0.769895     0.401001  1.051395    -1.264871  2.710120  0.214339   \n1       3.290196     0.401001  1.051395     0.136184 -0.469961  0.214339   \n2      -0.490255     0.401001  1.051395     0.416396 -0.469961  0.214339   \n3       3.290196     0.401001 -0.951117    -1.545082 -0.469961  0.214339   \n4       3.290196     0.401001  1.051395    -0.144027 -0.469961  0.214339   \n5      -0.490255     0.401001  1.051395    -0.984660  2.710120  0.214339   \n6       1.399970     0.401001  1.051395    -0.424238  2.710120  2.616708   \n7      -0.238225     0.401001 -0.951117     0.416396  2.074103  0.214339   \n8      -0.490255     0.401001 -0.951117     0.696607 -0.469961  0.214339   \n9       0.391850     0.401001 -0.951117    -0.984660 -0.469961  0.214339   \n10     -0.490255     0.401001 -0.951117     1.537240 -0.469961  0.214339   \n11     -0.490255     0.401001 -0.951117     1.257029 -0.469961  0.214339   \n12     -0.490255     0.401001  1.051395    -1.825293 -0.469961  0.214339   \n13     -0.364240     0.401001  1.051395    -1.264871  0.166055  0.214339   \n14     -0.490255    -2.493757  1.051395     0.136184  0.166055  0.214339   \n15      3.290196    -2.493757  1.051395     0.696607 -0.469961  0.214339   \n16     -0.490255     0.401001  1.051395     0.696607 -0.469961  0.214339   \n17     -0.490255     0.401001 -0.951117    -0.984660 -0.469961  0.214339   \n18     -0.490255     0.401001  1.051395     1.257029 -0.469961  0.214339   \n19     -0.490255     0.401001  1.051395    -1.825293 -0.469961  0.214339   \n\n    PhysicalActivity  GenHealth  SleepTime    Asthma  KidneyDisease  \\\n0          -0.537126  -1.103881  -0.763119  0.394579       0.196080   \n1          -0.537126  -1.103881   2.023070  0.394579       0.196080   \n2          -0.537126   0.051664  -0.066572  0.394579       0.196080   \n3           1.861759   1.207210  -2.156214 -2.534347       0.196080   \n4          -0.537126   1.207210  -0.066572  0.394579       0.196080   \n5          -0.537126   1.207210   3.416165  0.394579       0.196080   \n6          -0.537126  -1.103881  -0.763119  0.394579       0.196080   \n7          -0.537126  -1.103881  -0.763119  0.394579       0.196080   \n8          -0.537126   1.207210   0.629976  0.394579       0.196080   \n9          -0.537126   0.051664   0.629976  0.394579       0.196080   \n10         -0.537126  -1.103881  -2.156214  0.394579       0.196080   \n11         -0.537126   1.207210  -0.066572  0.394579       0.196080   \n12         -0.537126   1.207210  -0.066572 -2.534347      -5.099964   \n13         -0.537126   1.207210  -0.763119  0.394579       0.196080   \n14          1.861759  -1.103881  -2.156214  0.394579       0.196080   \n15          1.861759   0.051664   1.326523  0.394579       0.196080   \n16         -0.537126  -1.103881   0.629976  0.394579       0.196080   \n17         -0.537126   1.207210  -0.763119  0.394579       0.196080   \n18         -0.537126   1.207210   0.629976  0.394579       0.196080   \n19         -0.537126   1.207210  -0.066572  0.394579       0.196080   \n\n    SkinCancer  \n0     0.319138  \n1     0.319138  \n2     0.319138  \n3     0.319138  \n4     0.319138  \n5     0.319138  \n6     0.319138  \n7     0.319138  \n8     0.319138  \n9     0.319138  \n10   -3.133444  \n11   -3.133444  \n12    0.319138  \n13    0.319138  \n14    0.319138  \n15    0.319138  \n16    0.319138  \n17    0.319138  \n18    0.319138  \n19    0.319138  ",
                  "text/html": "\n  <div id=\"df-16059396-dbc4-456d-a61b-7f83dd5520e1\" class=\"colab-df-container\">\n    <div>\n<style scoped>\n    .dataframe tbody tr th:only-of-type {\n        vertical-align: middle;\n    }\n\n    .dataframe tbody tr th {\n        vertical-align: top;\n    }\n\n    .dataframe thead th {\n        text-align: right;\n    }\n</style>\n<table border=\"1\" class=\"dataframe\">\n  <thead>\n    <tr style=\"text-align: right;\">\n      <th></th>\n      <th>BMI</th>\n      <th>Smoking</th>\n      <th>AlcoholDrinking</th>\n      <th>Stroke</th>\n      <th>PhysicalHealth</th>\n      <th>MentalHealth</th>\n      <th>DiffWalking</th>\n      <th>Sex</th>\n      <th>AgeCategory</th>\n      <th>Race</th>\n      <th>Diabetic</th>\n      <th>PhysicalActivity</th>\n      <th>GenHealth</th>\n      <th>SleepTime</th>\n      <th>Asthma</th>\n      <th>KidneyDisease</th>\n      <th>SkinCancer</th>\n    </tr>\n  </thead>\n  <tbody>\n    <tr>\n      <th>0</th>\n      <td>-1.293846</td>\n      <td>-1.188862</td>\n      <td>0.269900</td>\n      <td>0.199223</td>\n      <td>-0.174541</td>\n      <td>0.769895</td>\n      <td>0.401001</td>\n      <td>1.051395</td>\n      <td>-1.264871</td>\n      <td>2.710120</td>\n      <td>0.214339</td>\n      <td>-0.537126</td>\n      <td>-1.103881</td>\n      <td>-0.763119</td>\n      <td>0.394579</td>\n      <td>0.196080</td>\n      <td>0.319138</td>\n    </tr>\n    <tr>\n      <th>1</th>\n      <td>0.964091</td>\n      <td>-1.188862</td>\n      <td>-3.705071</td>\n      <td>0.199223</td>\n      <td>-0.425321</td>\n      <td>3.290196</td>\n      <td>0.401001</td>\n      <td>1.051395</td>\n      <td>0.136184</td>\n      <td>-0.469961</td>\n      <td>0.214339</td>\n      <td>-0.537126</td>\n      <td>-1.103881</td>\n      <td>2.023070</td>\n      <td>0.394579</td>\n      <td>0.196080</td>\n      <td>0.319138</td>\n    </tr>\n    <tr>\n      <th>2</th>\n      <td>1.008148</td>\n      <td>-1.188862</td>\n      <td>0.269900</td>\n      <td>0.199223</td>\n      <td>-0.425321</td>\n      <td>-0.490255</td>\n      <td>0.401001</td>\n      <td>1.051395</td>\n      <td>0.416396</td>\n      <td>-0.469961</td>\n      <td>0.214339</td>\n      <td>-0.537126</td>\n      <td>0.051664</td>\n      <td>-0.066572</td>\n      <td>0.394579</td>\n      <td>0.196080</td>\n      <td>0.319138</td>\n    </tr>\n    <tr>\n      <th>3</th>\n      <td>2.092272</td>\n      <td>0.841140</td>\n      <td>-3.705071</td>\n      <td>0.199223</td>\n      <td>0.201629</td>\n      <td>3.290196</td>\n      <td>0.401001</td>\n      <td>-0.951117</td>\n      <td>-1.545082</td>\n      <td>-0.469961</td>\n      <td>0.214339</td>\n      <td>1.861759</td>\n      <td>1.207210</td>\n      <td>-2.156214</td>\n      <td>-2.534347</td>\n      <td>0.196080</td>\n      <td>0.319138</td>\n    </tr>\n    <tr>\n      <th>4</th>\n      <td>0.855521</td>\n      <td>-1.188862</td>\n      <td>0.269900</td>\n      <td>0.199223</td>\n      <td>0.828580</td>\n      <td>3.290196</td>\n      <td>0.401001</td>\n      <td>1.051395</td>\n      <td>-0.144027</td>\n      <td>-0.469961</td>\n      <td>0.214339</td>\n      <td>-0.537126</td>\n      <td>1.207210</td>\n      <td>-0.066572</td>\n      <td>0.394579</td>\n      <td>0.196080</td>\n      <td>0.319138</td>\n    </tr>\n    <tr>\n      <th>5</th>\n      <td>0.149031</td>\n      <td>0.841140</td>\n      <td>0.269900</td>\n      <td>0.199223</td>\n      <td>-0.425321</td>\n      <td>-0.490255</td>\n      <td>0.401001</td>\n      <td>1.051395</td>\n      <td>-0.984660</td>\n      <td>2.710120</td>\n      <td>0.214339</td>\n      <td>-0.537126</td>\n      <td>1.207210</td>\n      <td>3.416165</td>\n      <td>0.394579</td>\n      <td>0.196080</td>\n      <td>0.319138</td>\n    </tr>\n    <tr>\n      <th>6</th>\n      <td>0.109694</td>\n      <td>0.841140</td>\n      <td>0.269900</td>\n      <td>0.199223</td>\n      <td>-0.425321</td>\n      <td>1.399970</td>\n      <td>0.401001</td>\n      <td>1.051395</td>\n      <td>-0.424238</td>\n      <td>2.710120</td>\n      <td>2.616708</td>\n      <td>-0.537126</td>\n      <td>-1.103881</td>\n      <td>-0.763119</td>\n      <td>0.394579</td>\n      <td>0.196080</td>\n      <td>0.319138</td>\n    </tr>\n    <tr>\n      <th>7</th>\n      <td>0.562855</td>\n      <td>-1.188862</td>\n      <td>0.269900</td>\n      <td>0.199223</td>\n      <td>-0.425321</td>\n      <td>-0.238225</td>\n      <td>0.401001</td>\n      <td>-0.951117</td>\n      <td>0.416396</td>\n      <td>2.074103</td>\n      <td>0.214339</td>\n      <td>-0.537126</td>\n      <td>-1.103881</td>\n      <td>-0.763119</td>\n      <td>0.394579</td>\n      <td>0.196080</td>\n      <td>0.319138</td>\n    </tr>\n    <tr>\n      <th>8</th>\n      <td>-0.552739</td>\n      <td>-1.188862</td>\n      <td>0.269900</td>\n      <td>0.199223</td>\n      <td>-0.425321</td>\n      <td>-0.490255</td>\n      <td>0.401001</td>\n      <td>-0.951117</td>\n      <td>0.696607</td>\n      <td>-0.469961</td>\n      <td>0.214339</td>\n      <td>-0.537126</td>\n      <td>1.207210</td>\n      <td>0.629976</td>\n      <td>0.394579</td>\n      <td>0.196080</td>\n      <td>0.319138</td>\n    </tr>\n    <tr>\n      <th>9</th>\n      <td>-0.148356</td>\n      <td>-1.188862</td>\n      <td>-3.705071</td>\n      <td>0.199223</td>\n      <td>-0.425321</td>\n      <td>0.391850</td>\n      <td>0.401001</td>\n      <td>-0.951117</td>\n      <td>-0.984660</td>\n      <td>-0.469961</td>\n      <td>0.214339</td>\n      <td>-0.537126</td>\n      <td>0.051664</td>\n      <td>0.629976</td>\n      <td>0.394579</td>\n      <td>0.196080</td>\n      <td>0.319138</td>\n    </tr>\n    <tr>\n      <th>10</th>\n      <td>-1.153807</td>\n      <td>0.841140</td>\n      <td>0.269900</td>\n      <td>0.199223</td>\n      <td>-0.425321</td>\n      <td>-0.490255</td>\n      <td>0.401001</td>\n      <td>-0.951117</td>\n      <td>1.537240</td>\n      <td>-0.469961</td>\n      <td>0.214339</td>\n      <td>-0.537126</td>\n      <td>-1.103881</td>\n      <td>-2.156214</td>\n      <td>0.394579</td>\n      <td>0.196080</td>\n      <td>-3.133444</td>\n    </tr>\n    <tr>\n      <th>11</th>\n      <td>0.396066</td>\n      <td>0.841140</td>\n      <td>0.269900</td>\n      <td>0.199223</td>\n      <td>-0.425321</td>\n      <td>-0.490255</td>\n      <td>0.401001</td>\n      <td>-0.951117</td>\n      <td>1.257029</td>\n      <td>-0.469961</td>\n      <td>0.214339</td>\n      <td>-0.537126</td>\n      <td>1.207210</td>\n      <td>-0.066572</td>\n      <td>0.394579</td>\n      <td>0.196080</td>\n      <td>-3.133444</td>\n    </tr>\n    <tr>\n      <th>12</th>\n      <td>-0.406406</td>\n      <td>0.841140</td>\n      <td>0.269900</td>\n      <td>-5.019507</td>\n      <td>-0.425321</td>\n      <td>-0.490255</td>\n      <td>0.401001</td>\n      <td>1.051395</td>\n      <td>-1.825293</td>\n      <td>-0.469961</td>\n      <td>0.214339</td>\n      <td>-0.537126</td>\n      <td>1.207210</td>\n      <td>-0.066572</td>\n      <td>-2.534347</td>\n      <td>-5.099964</td>\n      <td>0.319138</td>\n    </tr>\n    <tr>\n      <th>13</th>\n      <td>0.657263</td>\n      <td>0.841140</td>\n      <td>0.269900</td>\n      <td>0.199223</td>\n      <td>-0.425321</td>\n      <td>-0.364240</td>\n      <td>0.401001</td>\n      <td>1.051395</td>\n      <td>-1.264871</td>\n      <td>0.166055</td>\n      <td>0.214339</td>\n      <td>-0.537126</td>\n      <td>1.207210</td>\n      <td>-0.763119</td>\n      <td>0.394579</td>\n      <td>0.196080</td>\n      <td>0.319138</td>\n    </tr>\n    <tr>\n      <th>14</th>\n      <td>1.281933</td>\n      <td>0.841140</td>\n      <td>0.269900</td>\n      <td>0.199223</td>\n      <td>3.336382</td>\n      <td>-0.490255</td>\n      <td>-2.493757</td>\n      <td>1.051395</td>\n      <td>0.136184</td>\n      <td>0.166055</td>\n      <td>0.214339</td>\n      <td>1.861759</td>\n      <td>-1.103881</td>\n      <td>-2.156214</td>\n      <td>0.394579</td>\n      <td>0.196080</td>\n      <td>0.319138</td>\n    </tr>\n    <tr>\n      <th>15</th>\n      <td>0.090812</td>\n      <td>0.841140</td>\n      <td>0.269900</td>\n      <td>0.199223</td>\n      <td>-0.425321</td>\n      <td>3.290196</td>\n      <td>-2.493757</td>\n      <td>1.051395</td>\n      <td>0.696607</td>\n      <td>-0.469961</td>\n      <td>0.214339</td>\n      <td>1.861759</td>\n      <td>0.051664</td>\n      <td>1.326523</td>\n      <td>0.394579</td>\n      <td>0.196080</td>\n      <td>0.319138</td>\n    </tr>\n    <tr>\n      <th>16</th>\n      <td>-0.264793</td>\n      <td>-1.188862</td>\n      <td>0.269900</td>\n      <td>0.199223</td>\n      <td>-0.425321</td>\n      <td>-0.490255</td>\n      <td>0.401001</td>\n      <td>1.051395</td>\n      <td>0.696607</td>\n      <td>-0.469961</td>\n      <td>0.214339</td>\n      <td>-0.537126</td>\n      <td>-1.103881</td>\n      <td>0.629976</td>\n      <td>0.394579</td>\n      <td>0.196080</td>\n      <td>0.319138</td>\n    </tr>\n    <tr>\n      <th>17</th>\n      <td>-0.425288</td>\n      <td>0.841140</td>\n      <td>0.269900</td>\n      <td>0.199223</td>\n      <td>-0.425321</td>\n      <td>-0.490255</td>\n      <td>0.401001</td>\n      <td>-0.951117</td>\n      <td>-0.984660</td>\n      <td>-0.469961</td>\n      <td>0.214339</td>\n      <td>-0.537126</td>\n      <td>1.207210</td>\n      <td>-0.763119</td>\n      <td>0.394579</td>\n      <td>0.196080</td>\n      <td>0.319138</td>\n    </tr>\n    <tr>\n      <th>18</th>\n      <td>-0.496094</td>\n      <td>0.841140</td>\n      <td>0.269900</td>\n      <td>0.199223</td>\n      <td>-0.425321</td>\n      <td>-0.490255</td>\n      <td>0.401001</td>\n      <td>1.051395</td>\n      <td>1.257029</td>\n      <td>-0.469961</td>\n      <td>0.214339</td>\n      <td>-0.537126</td>\n      <td>1.207210</td>\n      <td>0.629976</td>\n      <td>0.394579</td>\n      <td>0.196080</td>\n      <td>0.319138</td>\n    </tr>\n    <tr>\n      <th>19</th>\n      <td>-0.481933</td>\n      <td>0.841140</td>\n      <td>0.269900</td>\n      <td>0.199223</td>\n      <td>-0.425321</td>\n      <td>-0.490255</td>\n      <td>0.401001</td>\n      <td>1.051395</td>\n      <td>-1.825293</td>\n      <td>-0.469961</td>\n      <td>0.214339</td>\n      <td>-0.537126</td>\n      <td>1.207210</td>\n      <td>-0.066572</td>\n      <td>0.394579</td>\n      <td>0.196080</td>\n      <td>0.319138</td>\n    </tr>\n  </tbody>\n</table>\n</div>\n    <div class=\"colab-df-buttons\">\n\n  <div class=\"colab-df-container\">\n    <button class=\"colab-df-convert\" onclick=\"convertToInteractive('df-16059396-dbc4-456d-a61b-7f83dd5520e1')\"\n            title=\"Convert this dataframe to an interactive table.\"\n            style=\"display:none;\">\n\n  <svg xmlns=\"http://www.w3.org/2000/svg\" height=\"24px\" viewBox=\"0 -960 960 960\">\n    <path d=\"M120-120v-720h720v720H120Zm60-500h600v-160H180v160Zm220 220h160v-160H400v160Zm0 220h160v-160H400v160ZM180-400h160v-160H180v160Zm440 0h160v-160H620v160ZM180-180h160v-160H180v160Zm440 0h160v-160H620v160Z\"/>\n  </svg>\n    </button>\n\n  <style>\n    .colab-df-container {\n      display:flex;\n      gap: 12px;\n    }\n\n    .colab-df-convert {\n      background-color: #E8F0FE;\n      border: none;\n      border-radius: 50%;\n      cursor: pointer;\n      display: none;\n      fill: #1967D2;\n      height: 32px;\n      padding: 0 0 0 0;\n      width: 32px;\n    }\n\n    .colab-df-convert:hover {\n      background-color: #E2EBFA;\n      box-shadow: 0px 1px 2px rgba(60, 64, 67, 0.3), 0px 1px 3px 1px rgba(60, 64, 67, 0.15);\n      fill: #174EA6;\n    }\n\n    .colab-df-buttons div {\n      margin-bottom: 4px;\n    }\n\n    [theme=dark] .colab-df-convert {\n      background-color: #3B4455;\n      fill: #D2E3FC;\n    }\n\n    [theme=dark] .colab-df-convert:hover {\n      background-color: #434B5C;\n      box-shadow: 0px 1px 3px 1px rgba(0, 0, 0, 0.15);\n      filter: drop-shadow(0px 1px 2px rgba(0, 0, 0, 0.3));\n      fill: #FFFFFF;\n    }\n  </style>\n\n    <script>\n      const buttonEl =\n        document.querySelector('#df-16059396-dbc4-456d-a61b-7f83dd5520e1 button.colab-df-convert');\n      buttonEl.style.display =\n        google.colab.kernel.accessAllowed ? 'block' : 'none';\n\n      async function convertToInteractive(key) {\n        const element = document.querySelector('#df-16059396-dbc4-456d-a61b-7f83dd5520e1');\n        const dataTable =\n          await google.colab.kernel.invokeFunction('convertToInteractive',\n                                                    [key], {});\n        if (!dataTable) return;\n\n        const docLinkHtml = 'Like what you see? Visit the ' +\n          '<a target=\"_blank\" href=https://colab.research.google.com/notebooks/data_table.ipynb>data table notebook</a>'\n          + ' to learn more about interactive tables.';\n        element.innerHTML = '';\n        dataTable['output_type'] = 'display_data';\n        await google.colab.output.renderOutput(dataTable, element);\n        const docLink = document.createElement('div');\n        docLink.innerHTML = docLinkHtml;\n        element.appendChild(docLink);\n      }\n    </script>\n  </div>\n\n\n<div id=\"df-9d95b428-4676-4ff0-a887-925927ffefd7\">\n  <button class=\"colab-df-quickchart\" onclick=\"quickchart('df-9d95b428-4676-4ff0-a887-925927ffefd7')\"\n            title=\"Suggest charts\"\n            style=\"display:none;\">\n\n<svg xmlns=\"http://www.w3.org/2000/svg\" height=\"24px\"viewBox=\"0 0 24 24\"\n     width=\"24px\">\n    <g>\n        <path d=\"M19 3H5c-1.1 0-2 .9-2 2v14c0 1.1.9 2 2 2h14c1.1 0 2-.9 2-2V5c0-1.1-.9-2-2-2zM9 17H7v-7h2v7zm4 0h-2V7h2v10zm4 0h-2v-4h2v4z\"/>\n    </g>\n</svg>\n  </button>\n\n<style>\n  .colab-df-quickchart {\n      --bg-color: #E8F0FE;\n      --fill-color: #1967D2;\n      --hover-bg-color: #E2EBFA;\n      --hover-fill-color: #174EA6;\n      --disabled-fill-color: #AAA;\n      --disabled-bg-color: #DDD;\n  }\n\n  [theme=dark] .colab-df-quickchart {\n      --bg-color: #3B4455;\n      --fill-color: #D2E3FC;\n      --hover-bg-color: #434B5C;\n      --hover-fill-color: #FFFFFF;\n      --disabled-bg-color: #3B4455;\n      --disabled-fill-color: #666;\n  }\n\n  .colab-df-quickchart {\n    background-color: var(--bg-color);\n    border: none;\n    border-radius: 50%;\n    cursor: pointer;\n    display: none;\n    fill: var(--fill-color);\n    height: 32px;\n    padding: 0;\n    width: 32px;\n  }\n\n  .colab-df-quickchart:hover {\n    background-color: var(--hover-bg-color);\n    box-shadow: 0 1px 2px rgba(60, 64, 67, 0.3), 0 1px 3px 1px rgba(60, 64, 67, 0.15);\n    fill: var(--button-hover-fill-color);\n  }\n\n  .colab-df-quickchart-complete:disabled,\n  .colab-df-quickchart-complete:disabled:hover {\n    background-color: var(--disabled-bg-color);\n    fill: var(--disabled-fill-color);\n    box-shadow: none;\n  }\n\n  .colab-df-spinner {\n    border: 2px solid var(--fill-color);\n    border-color: transparent;\n    border-bottom-color: var(--fill-color);\n    animation:\n      spin 1s steps(1) infinite;\n  }\n\n  @keyframes spin {\n    0% {\n      border-color: transparent;\n      border-bottom-color: var(--fill-color);\n      border-left-color: var(--fill-color);\n    }\n    20% {\n      border-color: transparent;\n      border-left-color: var(--fill-color);\n      border-top-color: var(--fill-color);\n    }\n    30% {\n      border-color: transparent;\n      border-left-color: var(--fill-color);\n      border-top-color: var(--fill-color);\n      border-right-color: var(--fill-color);\n    }\n    40% {\n      border-color: transparent;\n      border-right-color: var(--fill-color);\n      border-top-color: var(--fill-color);\n    }\n    60% {\n      border-color: transparent;\n      border-right-color: var(--fill-color);\n    }\n    80% {\n      border-color: transparent;\n      border-right-color: var(--fill-color);\n      border-bottom-color: var(--fill-color);\n    }\n    90% {\n      border-color: transparent;\n      border-bottom-color: var(--fill-color);\n    }\n  }\n</style>\n\n  <script>\n    async function quickchart(key) {\n      const quickchartButtonEl =\n        document.querySelector('#' + key + ' button');\n      quickchartButtonEl.disabled = true;  // To prevent multiple clicks.\n      quickchartButtonEl.classList.add('colab-df-spinner');\n      try {\n        const charts = await google.colab.kernel.invokeFunction(\n            'suggestCharts', [key], {});\n      } catch (error) {\n        console.error('Error during call to suggestCharts:', error);\n      }\n      quickchartButtonEl.classList.remove('colab-df-spinner');\n      quickchartButtonEl.classList.add('colab-df-quickchart-complete');\n    }\n    (() => {\n      let quickchartButtonEl =\n        document.querySelector('#df-9d95b428-4676-4ff0-a887-925927ffefd7 button');\n      quickchartButtonEl.style.display =\n        google.colab.kernel.accessAllowed ? 'block' : 'none';\n    })();\n  </script>\n</div>\n    </div>\n  </div>\n",
                  "application/vnd.google.colaboratory.intrinsic+json": {
                    "type": "dataframe",
                    "summary": "{\n  \"name\": \"display(visualizar)\",\n  \"rows\": 20,\n  \"fields\": [\n    {\n      \"column\": \"BMI\",\n      \"properties\": {\n        \"dtype\": \"number\",\n        \"std\": 0.841075156683483,\n        \"min\": -1.2938461611254515,\n        \"max\": 2.0922724709963645,\n        \"num_unique_values\": 20,\n        \"samples\": [\n          -1.2938461611254515,\n          -0.425287850283796,\n          0.0908120155786371\n        ],\n        \"semantic_type\": \"\",\n        \"description\": \"\"\n      }\n    },\n    {\n      \"column\": \"Smoking\",\n      \"properties\": {\n        \"dtype\": \"number\",\n        \"std\": 1.0203294519571329,\n        \"min\": -1.1888624429648411,\n        \"max\": 0.8411402058476614,\n        \"num_unique_values\": 2,\n        \"samples\": [\n          0.8411402058476614,\n          -1.1888624429648411\n        ],\n        \"semantic_type\": \"\",\n        \"description\": \"\"\n      }\n    },\n    {\n      \"column\": \"AlcoholDrinking\",\n      \"properties\": {\n        \"dtype\": \"number\",\n        \"std\": 1.456220918739602,\n        \"min\": -3.7050707208767264,\n        \"max\": 0.2699003812168451,\n        \"num_unique_values\": 2,\n        \"samples\": [\n          -3.7050707208767264,\n          0.2699003812168451\n        ],\n        \"semantic_type\": \"\",\n        \"description\": \"\"\n      }\n    },\n    {\n      \"column\": \"Stroke\",\n      \"properties\": {\n        \"dtype\": \"number\",\n        \"std\": 1.1669433431455059,\n        \"min\": -5.019506510548267,\n        \"max\": 0.19922277178016265,\n        \"num_unique_values\": 2,\n        \"samples\": [\n          -5.019506510548267,\n          0.19922277178016265\n        ],\n        \"semantic_type\": \"\",\n        \"description\": \"\"\n      }\n    },\n    {\n      \"column\": \"PhysicalHealth\",\n      \"properties\": {\n        \"dtype\": \"number\",\n        \"std\": 0.8718422224838047,\n        \"min\": -0.42532120911839294,\n        \"max\": 3.3363822122341023,\n        \"num_unique_values\": 5,\n        \"samples\": [\n          -0.42532120911839294,\n          3.3363822122341023\n        ],\n        \"semantic_type\": \"\",\n        \"description\": \"\"\n      }\n    },\n    {\n      \"column\": \"MentalHealth\",\n      \"properties\": {\n        \"dtype\": \"number\",\n        \"std\": 1.523674176865165,\n        \"min\": -0.4902549300537957,\n        \"max\": 3.290195816765061,\n        \"num_unique_values\": 7,\n        \"samples\": [\n          0.7698953188858233,\n          3.290195816765061\n        ],\n        \"semantic_type\": \"\",\n        \"description\": \"\"\n      }\n    },\n    {\n      \"column\": \"DiffWalking\",\n      \"properties\": {\n        \"dtype\": \"number\",\n        \"std\": 0.890987944375484,\n        \"min\": -2.4937574431170293,\n        \"max\": 0.4010013093936142,\n        \"num_unique_values\": 2,\n        \"samples\": [\n          -2.4937574431170293,\n          0.4010013093936142\n        ],\n        \"semantic_type\": \"\",\n        \"description\": \"\"\n      }\n    },\n    {\n      \"column\": \"Sex\",\n      \"properties\": {\n        \"dtype\": \"number\",\n        \"std\": 0.9799504050586282,\n        \"min\": -0.9511172750495365,\n        \"max\": 1.0513950553026359,\n        \"num_unique_values\": 2,\n        \"samples\": [\n          -0.9511172750495365,\n          1.0513950553026359\n        ],\n        \"semantic_type\": \"\",\n        \"description\": \"\"\n      }\n    },\n    {\n      \"column\": \"AgeCategory\",\n      \"properties\": {\n        \"dtype\": \"number\",\n        \"std\": 1.0741531859798494,\n        \"min\": -1.825293164835267,\n        \"max\": 1.537239875861045,\n        \"num_unique_values\": 11,\n        \"samples\": [\n          -0.984659904661189,\n          -1.2648709913858815\n        ],\n        \"semantic_type\": \"\",\n        \"description\": \"\"\n      }\n    },\n    {\n      \"column\": \"Race\",\n      \"properties\": {\n        \"dtype\": \"number\",\n        \"std\": 1.2290440871757091,\n        \"min\": -0.4699606250920419,\n        \"max\": 2.710119530233486,\n        \"num_unique_values\": 4,\n        \"samples\": [\n          -0.4699606250920419,\n          0.1660554059730637\n        ],\n        \"semantic_type\": \"\",\n        \"description\": \"\"\n      }\n    },\n    {\n      \"column\": \"Diabetic\",\n      \"properties\": {\n        \"dtype\": \"number\",\n        \"std\": 0.5371859014907268,\n        \"min\": 0.21433915191876454,\n        \"max\": 2.6167075364943058,\n        \"num_unique_values\": 2,\n        \"samples\": [\n          2.6167075364943058,\n          0.21433915191876454\n        ],\n        \"semantic_type\": \"\",\n        \"description\": \"\"\n      }\n    },\n    {\n      \"column\": \"PhysicalActivity\",\n      \"properties\": {\n        \"dtype\": \"number\",\n        \"std\": 0.8788258431393826,\n        \"min\": -0.5371264046459373,\n        \"max\": 1.8617591526880517,\n        \"num_unique_values\": 2,\n        \"samples\": [\n          1.8617591526880517,\n          -0.5371264046459373\n        ],\n        \"semantic_type\": \"\",\n        \"description\": \"\"\n      }\n    },\n    {\n      \"column\": \"GenHealth\",\n      \"properties\": {\n        \"dtype\": \"number\",\n        \"std\": 1.0784732266429997,\n        \"min\": -1.1038813257939573,\n        \"max\": 1.2072103068359485,\n        \"num_unique_values\": 3,\n        \"samples\": [\n          -1.1038813257939573,\n          0.051664490520995594\n        ],\n        \"semantic_type\": \"\",\n        \"description\": \"\"\n      }\n    },\n    {\n      \"column\": \"SleepTime\",\n      \"properties\": {\n        \"dtype\": \"number\",\n        \"std\": 1.3746423038803288,\n        \"min\": -2.1562138906948176,\n        \"max\": 3.416164925611191,\n        \"num_unique_values\": 7,\n        \"samples\": [\n          -0.7631191866183155,\n          2.023070221534689\n        ],\n        \"semantic_type\": \"\",\n        \"description\": \"\"\n      }\n    },\n    {\n      \"column\": \"Asthma\",\n      \"properties\": {\n        \"dtype\": \"number\",\n        \"std\": 0.9015043744588852,\n        \"min\": -2.534346945906668,\n        \"max\": 0.3945789670254669,\n        \"num_unique_values\": 2,\n        \"samples\": [\n          -2.534346945906668,\n          0.3945789670254669\n        ],\n        \"semantic_type\": \"\",\n        \"description\": \"\"\n      }\n    },\n    {\n      \"column\": \"KidneyDisease\",\n      \"properties\": {\n        \"dtype\": \"number\",\n        \"std\": 1.1842313050867477,\n        \"min\": -5.0999635663775456,\n        \"max\": 0.19607983213697508,\n        \"num_unique_values\": 2,\n        \"samples\": [\n          -5.0999635663775456,\n          0.19607983213697508\n        ],\n        \"semantic_type\": \"\",\n        \"description\": \"\"\n      }\n    },\n    {\n      \"column\": \"SkinCancer\",\n      \"properties\": {\n        \"dtype\": \"number\",\n        \"std\": 1.062682196572356,\n        \"min\": -3.1334439370492304,\n        \"max\": 0.3191376709109729,\n        \"num_unique_values\": 2,\n        \"samples\": [\n          -3.1334439370492304,\n          0.3191376709109729\n        ],\n        \"semantic_type\": \"\",\n        \"description\": \"\"\n      }\n    }\n  ]\n}"
                  }
                },
                "metadata": {}
              },
              {
                "output_type": "display_data",
                "data": {
                  "text/plain": "<IPython.core.display.HTML object>",
                  "text/html": "<h2>Primeros registros. Datos de validación escalados de 159898 registros</h2>"
                },
                "metadata": {}
              },
              {
                "output_type": "display_data",
                "data": {
                  "text/plain": "         BMI   Smoking  AlcoholDrinking    Stroke  PhysicalHealth  \\\n0  -0.134195  0.841140         0.269900  0.199223       -0.425321   \n1  -0.590503 -1.188862         0.269900  0.199223        3.336382   \n2  -0.914639 -1.188862         0.269900  0.199223       -0.425321   \n3  -0.496094 -1.188862         0.269900  0.199223       -0.425321   \n4   0.842933  0.841140         0.269900  0.199223       -0.425321   \n5   1.420399  0.841140         0.269900  0.199223       -0.049151   \n6   2.353469 -1.188862         0.269900  0.199223        3.336382   \n7  -1.822534  0.841140         0.269900  0.199223       -0.174541   \n8  -0.684911  0.841140         0.269900  0.199223       -0.425321   \n9   0.301658  0.841140         0.269900  0.199223       -0.425321   \n10 -0.127901 -1.188862        -3.705071  0.199223       -0.425321   \n11  0.496769 -1.188862         0.269900  0.199223       -0.425321   \n12 -0.684911  0.841140         0.269900  0.199223       -0.425321   \n13 -0.395392 -1.188862         0.269900  0.199223        0.828580   \n14  0.737510  0.841140         0.269900  0.199223       -0.425321   \n15 -1.293846 -1.188862         0.269900  0.199223       -0.425321   \n16  0.907446 -1.188862         0.269900  0.199223       -0.425321   \n17  0.449564 -1.188862         0.269900  0.199223       -0.425321   \n18 -0.134195  0.841140        -3.705071  0.199223       -0.425321   \n19  0.570722  0.841140         0.269900  0.199223       -0.425321   \n\n    MentalHealth  DiffWalking       Sex  AgeCategory      Race  Diabetic  \\\n0       3.290196     0.401001 -0.951117     0.416396 -0.469961  0.214339   \n1       2.030046     0.401001 -0.951117    -0.424238  2.710120  0.214339   \n2      -0.490255     0.401001  1.051395     1.257029 -0.469961  0.214339   \n3      -0.490255     0.401001  1.051395    -1.264871 -0.469961  0.214339   \n4       0.013805     0.401001 -0.951117    -1.545082  0.166055  0.214339   \n5      -0.490255     0.401001  1.051395     1.257029 -0.469961  2.616708   \n6       1.399970     0.401001 -0.951117    -0.424238  0.166055  0.214339   \n7       0.139820     0.401001 -0.951117    -1.545082  0.802071  0.214339   \n8       3.290196     0.401001 -0.951117     0.976818 -0.469961  0.214339   \n9       0.391850     0.401001 -0.951117     0.416396 -0.469961  0.214339   \n10     -0.490255     0.401001  1.051395    -1.264871 -0.469961  0.214339   \n11     -0.490255     0.401001  1.051395     0.696607 -0.469961  0.214339   \n12     -0.238225     0.401001 -0.951117    -0.704449 -0.469961  0.214339   \n13     -0.490255     0.401001  1.051395     0.136184  2.074103  0.214339   \n14     -0.490255     0.401001  1.051395     0.416396 -0.469961  2.616708   \n15     -0.490255     0.401001  1.051395     0.696607 -0.469961  0.214339   \n16     -0.490255     0.401001  1.051395    -0.704449 -0.469961  0.214339   \n17     -0.490255     0.401001  1.051395    -0.424238 -0.469961  0.214339   \n18     -0.490255     0.401001 -0.951117     0.976818 -0.469961  0.214339   \n19     -0.490255     0.401001  1.051395     1.257029 -0.469961  0.214339   \n\n    PhysicalActivity  GenHealth  SleepTime    Asthma  KidneyDisease  \\\n0          -0.537126  -1.103881  -0.763119  0.394579        0.19608   \n1          -0.537126  -1.103881   0.629976  0.394579        0.19608   \n2          -0.537126   0.051664   1.326523  0.394579        0.19608   \n3          -0.537126  -1.103881  -1.459667  0.394579        0.19608   \n4          -0.537126   0.051664  -0.763119  0.394579        0.19608   \n5          -0.537126  -1.103881  -0.763119  0.394579        0.19608   \n6           1.861759   1.207210   0.629976  0.394579        0.19608   \n7           1.861759   0.051664  -0.066572  0.394579        0.19608   \n8          -0.537126   1.207210   1.326523  0.394579        0.19608   \n9          -0.537126   0.051664   0.629976  0.394579        0.19608   \n10         -0.537126  -1.103881  -0.066572  0.394579        0.19608   \n11         -0.537126   0.051664   0.629976  0.394579        0.19608   \n12         -0.537126   1.207210  -0.066572  0.394579        0.19608   \n13          1.861759   1.207210  -2.852761 -2.534347        0.19608   \n14         -0.537126   0.051664   0.629976  0.394579        0.19608   \n15         -0.537126   1.207210  -1.459667  0.394579        0.19608   \n16         -0.537126  -1.103881  -1.459667  0.394579        0.19608   \n17         -0.537126   0.051664  -1.459667  0.394579        0.19608   \n18         -0.537126   0.051664   0.629976  0.394579        0.19608   \n19         -0.537126   1.207210   0.629976  0.394579        0.19608   \n\n    SkinCancer  \n0     0.319138  \n1     0.319138  \n2     0.319138  \n3     0.319138  \n4     0.319138  \n5     0.319138  \n6     0.319138  \n7     0.319138  \n8     0.319138  \n9     0.319138  \n10    0.319138  \n11    0.319138  \n12    0.319138  \n13    0.319138  \n14    0.319138  \n15    0.319138  \n16    0.319138  \n17    0.319138  \n18    0.319138  \n19    0.319138  ",
                  "text/html": "\n  <div id=\"df-e2baf2e4-fd13-401a-b3da-0ffc7b24761f\" class=\"colab-df-container\">\n    <div>\n<style scoped>\n    .dataframe tbody tr th:only-of-type {\n        vertical-align: middle;\n    }\n\n    .dataframe tbody tr th {\n        vertical-align: top;\n    }\n\n    .dataframe thead th {\n        text-align: right;\n    }\n</style>\n<table border=\"1\" class=\"dataframe\">\n  <thead>\n    <tr style=\"text-align: right;\">\n      <th></th>\n      <th>BMI</th>\n      <th>Smoking</th>\n      <th>AlcoholDrinking</th>\n      <th>Stroke</th>\n      <th>PhysicalHealth</th>\n      <th>MentalHealth</th>\n      <th>DiffWalking</th>\n      <th>Sex</th>\n      <th>AgeCategory</th>\n      <th>Race</th>\n      <th>Diabetic</th>\n      <th>PhysicalActivity</th>\n      <th>GenHealth</th>\n      <th>SleepTime</th>\n      <th>Asthma</th>\n      <th>KidneyDisease</th>\n      <th>SkinCancer</th>\n    </tr>\n  </thead>\n  <tbody>\n    <tr>\n      <th>0</th>\n      <td>-0.134195</td>\n      <td>0.841140</td>\n      <td>0.269900</td>\n      <td>0.199223</td>\n      <td>-0.425321</td>\n      <td>3.290196</td>\n      <td>0.401001</td>\n      <td>-0.951117</td>\n      <td>0.416396</td>\n      <td>-0.469961</td>\n      <td>0.214339</td>\n      <td>-0.537126</td>\n      <td>-1.103881</td>\n      <td>-0.763119</td>\n      <td>0.394579</td>\n      <td>0.19608</td>\n      <td>0.319138</td>\n    </tr>\n    <tr>\n      <th>1</th>\n      <td>-0.590503</td>\n      <td>-1.188862</td>\n      <td>0.269900</td>\n      <td>0.199223</td>\n      <td>3.336382</td>\n      <td>2.030046</td>\n      <td>0.401001</td>\n      <td>-0.951117</td>\n      <td>-0.424238</td>\n      <td>2.710120</td>\n      <td>0.214339</td>\n      <td>-0.537126</td>\n      <td>-1.103881</td>\n      <td>0.629976</td>\n      <td>0.394579</td>\n      <td>0.19608</td>\n      <td>0.319138</td>\n    </tr>\n    <tr>\n      <th>2</th>\n      <td>-0.914639</td>\n      <td>-1.188862</td>\n      <td>0.269900</td>\n      <td>0.199223</td>\n      <td>-0.425321</td>\n      <td>-0.490255</td>\n      <td>0.401001</td>\n      <td>1.051395</td>\n      <td>1.257029</td>\n      <td>-0.469961</td>\n      <td>0.214339</td>\n      <td>-0.537126</td>\n      <td>0.051664</td>\n      <td>1.326523</td>\n      <td>0.394579</td>\n      <td>0.19608</td>\n      <td>0.319138</td>\n    </tr>\n    <tr>\n      <th>3</th>\n      <td>-0.496094</td>\n      <td>-1.188862</td>\n      <td>0.269900</td>\n      <td>0.199223</td>\n      <td>-0.425321</td>\n      <td>-0.490255</td>\n      <td>0.401001</td>\n      <td>1.051395</td>\n      <td>-1.264871</td>\n      <td>-0.469961</td>\n      <td>0.214339</td>\n      <td>-0.537126</td>\n      <td>-1.103881</td>\n      <td>-1.459667</td>\n      <td>0.394579</td>\n      <td>0.19608</td>\n      <td>0.319138</td>\n    </tr>\n    <tr>\n      <th>4</th>\n      <td>0.842933</td>\n      <td>0.841140</td>\n      <td>0.269900</td>\n      <td>0.199223</td>\n      <td>-0.425321</td>\n      <td>0.013805</td>\n      <td>0.401001</td>\n      <td>-0.951117</td>\n      <td>-1.545082</td>\n      <td>0.166055</td>\n      <td>0.214339</td>\n      <td>-0.537126</td>\n      <td>0.051664</td>\n      <td>-0.763119</td>\n      <td>0.394579</td>\n      <td>0.19608</td>\n      <td>0.319138</td>\n    </tr>\n    <tr>\n      <th>5</th>\n      <td>1.420399</td>\n      <td>0.841140</td>\n      <td>0.269900</td>\n      <td>0.199223</td>\n      <td>-0.049151</td>\n      <td>-0.490255</td>\n      <td>0.401001</td>\n      <td>1.051395</td>\n      <td>1.257029</td>\n      <td>-0.469961</td>\n      <td>2.616708</td>\n      <td>-0.537126</td>\n      <td>-1.103881</td>\n      <td>-0.763119</td>\n      <td>0.394579</td>\n      <td>0.19608</td>\n      <td>0.319138</td>\n    </tr>\n    <tr>\n      <th>6</th>\n      <td>2.353469</td>\n      <td>-1.188862</td>\n      <td>0.269900</td>\n      <td>0.199223</td>\n      <td>3.336382</td>\n      <td>1.399970</td>\n      <td>0.401001</td>\n      <td>-0.951117</td>\n      <td>-0.424238</td>\n      <td>0.166055</td>\n      <td>0.214339</td>\n      <td>1.861759</td>\n      <td>1.207210</td>\n      <td>0.629976</td>\n      <td>0.394579</td>\n      <td>0.19608</td>\n      <td>0.319138</td>\n    </tr>\n    <tr>\n      <th>7</th>\n      <td>-1.822534</td>\n      <td>0.841140</td>\n      <td>0.269900</td>\n      <td>0.199223</td>\n      <td>-0.174541</td>\n      <td>0.139820</td>\n      <td>0.401001</td>\n      <td>-0.951117</td>\n      <td>-1.545082</td>\n      <td>0.802071</td>\n      <td>0.214339</td>\n      <td>1.861759</td>\n      <td>0.051664</td>\n      <td>-0.066572</td>\n      <td>0.394579</td>\n      <td>0.19608</td>\n      <td>0.319138</td>\n    </tr>\n    <tr>\n      <th>8</th>\n      <td>-0.684911</td>\n      <td>0.841140</td>\n      <td>0.269900</td>\n      <td>0.199223</td>\n      <td>-0.425321</td>\n      <td>3.290196</td>\n      <td>0.401001</td>\n      <td>-0.951117</td>\n      <td>0.976818</td>\n      <td>-0.469961</td>\n      <td>0.214339</td>\n      <td>-0.537126</td>\n      <td>1.207210</td>\n      <td>1.326523</td>\n      <td>0.394579</td>\n      <td>0.19608</td>\n      <td>0.319138</td>\n    </tr>\n    <tr>\n      <th>9</th>\n      <td>0.301658</td>\n      <td>0.841140</td>\n      <td>0.269900</td>\n      <td>0.199223</td>\n      <td>-0.425321</td>\n      <td>0.391850</td>\n      <td>0.401001</td>\n      <td>-0.951117</td>\n      <td>0.416396</td>\n      <td>-0.469961</td>\n      <td>0.214339</td>\n      <td>-0.537126</td>\n      <td>0.051664</td>\n      <td>0.629976</td>\n      <td>0.394579</td>\n      <td>0.19608</td>\n      <td>0.319138</td>\n    </tr>\n    <tr>\n      <th>10</th>\n      <td>-0.127901</td>\n      <td>-1.188862</td>\n      <td>-3.705071</td>\n      <td>0.199223</td>\n      <td>-0.425321</td>\n      <td>-0.490255</td>\n      <td>0.401001</td>\n      <td>1.051395</td>\n      <td>-1.264871</td>\n      <td>-0.469961</td>\n      <td>0.214339</td>\n      <td>-0.537126</td>\n      <td>-1.103881</td>\n      <td>-0.066572</td>\n      <td>0.394579</td>\n      <td>0.19608</td>\n      <td>0.319138</td>\n    </tr>\n    <tr>\n      <th>11</th>\n      <td>0.496769</td>\n      <td>-1.188862</td>\n      <td>0.269900</td>\n      <td>0.199223</td>\n      <td>-0.425321</td>\n      <td>-0.490255</td>\n      <td>0.401001</td>\n      <td>1.051395</td>\n      <td>0.696607</td>\n      <td>-0.469961</td>\n      <td>0.214339</td>\n      <td>-0.537126</td>\n      <td>0.051664</td>\n      <td>0.629976</td>\n      <td>0.394579</td>\n      <td>0.19608</td>\n      <td>0.319138</td>\n    </tr>\n    <tr>\n      <th>12</th>\n      <td>-0.684911</td>\n      <td>0.841140</td>\n      <td>0.269900</td>\n      <td>0.199223</td>\n      <td>-0.425321</td>\n      <td>-0.238225</td>\n      <td>0.401001</td>\n      <td>-0.951117</td>\n      <td>-0.704449</td>\n      <td>-0.469961</td>\n      <td>0.214339</td>\n      <td>-0.537126</td>\n      <td>1.207210</td>\n      <td>-0.066572</td>\n      <td>0.394579</td>\n      <td>0.19608</td>\n      <td>0.319138</td>\n    </tr>\n    <tr>\n      <th>13</th>\n      <td>-0.395392</td>\n      <td>-1.188862</td>\n      <td>0.269900</td>\n      <td>0.199223</td>\n      <td>0.828580</td>\n      <td>-0.490255</td>\n      <td>0.401001</td>\n      <td>1.051395</td>\n      <td>0.136184</td>\n      <td>2.074103</td>\n      <td>0.214339</td>\n      <td>1.861759</td>\n      <td>1.207210</td>\n      <td>-2.852761</td>\n      <td>-2.534347</td>\n      <td>0.19608</td>\n      <td>0.319138</td>\n    </tr>\n    <tr>\n      <th>14</th>\n      <td>0.737510</td>\n      <td>0.841140</td>\n      <td>0.269900</td>\n      <td>0.199223</td>\n      <td>-0.425321</td>\n      <td>-0.490255</td>\n      <td>0.401001</td>\n      <td>1.051395</td>\n      <td>0.416396</td>\n      <td>-0.469961</td>\n      <td>2.616708</td>\n      <td>-0.537126</td>\n      <td>0.051664</td>\n      <td>0.629976</td>\n      <td>0.394579</td>\n      <td>0.19608</td>\n      <td>0.319138</td>\n    </tr>\n    <tr>\n      <th>15</th>\n      <td>-1.293846</td>\n      <td>-1.188862</td>\n      <td>0.269900</td>\n      <td>0.199223</td>\n      <td>-0.425321</td>\n      <td>-0.490255</td>\n      <td>0.401001</td>\n      <td>1.051395</td>\n      <td>0.696607</td>\n      <td>-0.469961</td>\n      <td>0.214339</td>\n      <td>-0.537126</td>\n      <td>1.207210</td>\n      <td>-1.459667</td>\n      <td>0.394579</td>\n      <td>0.19608</td>\n      <td>0.319138</td>\n    </tr>\n    <tr>\n      <th>16</th>\n      <td>0.907446</td>\n      <td>-1.188862</td>\n      <td>0.269900</td>\n      <td>0.199223</td>\n      <td>-0.425321</td>\n      <td>-0.490255</td>\n      <td>0.401001</td>\n      <td>1.051395</td>\n      <td>-0.704449</td>\n      <td>-0.469961</td>\n      <td>0.214339</td>\n      <td>-0.537126</td>\n      <td>-1.103881</td>\n      <td>-1.459667</td>\n      <td>0.394579</td>\n      <td>0.19608</td>\n      <td>0.319138</td>\n    </tr>\n    <tr>\n      <th>17</th>\n      <td>0.449564</td>\n      <td>-1.188862</td>\n      <td>0.269900</td>\n      <td>0.199223</td>\n      <td>-0.425321</td>\n      <td>-0.490255</td>\n      <td>0.401001</td>\n      <td>1.051395</td>\n      <td>-0.424238</td>\n      <td>-0.469961</td>\n      <td>0.214339</td>\n      <td>-0.537126</td>\n      <td>0.051664</td>\n      <td>-1.459667</td>\n      <td>0.394579</td>\n      <td>0.19608</td>\n      <td>0.319138</td>\n    </tr>\n    <tr>\n      <th>18</th>\n      <td>-0.134195</td>\n      <td>0.841140</td>\n      <td>-3.705071</td>\n      <td>0.199223</td>\n      <td>-0.425321</td>\n      <td>-0.490255</td>\n      <td>0.401001</td>\n      <td>-0.951117</td>\n      <td>0.976818</td>\n      <td>-0.469961</td>\n      <td>0.214339</td>\n      <td>-0.537126</td>\n      <td>0.051664</td>\n      <td>0.629976</td>\n      <td>0.394579</td>\n      <td>0.19608</td>\n      <td>0.319138</td>\n    </tr>\n    <tr>\n      <th>19</th>\n      <td>0.570722</td>\n      <td>0.841140</td>\n      <td>0.269900</td>\n      <td>0.199223</td>\n      <td>-0.425321</td>\n      <td>-0.490255</td>\n      <td>0.401001</td>\n      <td>1.051395</td>\n      <td>1.257029</td>\n      <td>-0.469961</td>\n      <td>0.214339</td>\n      <td>-0.537126</td>\n      <td>1.207210</td>\n      <td>0.629976</td>\n      <td>0.394579</td>\n      <td>0.19608</td>\n      <td>0.319138</td>\n    </tr>\n  </tbody>\n</table>\n</div>\n    <div class=\"colab-df-buttons\">\n\n  <div class=\"colab-df-container\">\n    <button class=\"colab-df-convert\" onclick=\"convertToInteractive('df-e2baf2e4-fd13-401a-b3da-0ffc7b24761f')\"\n            title=\"Convert this dataframe to an interactive table.\"\n            style=\"display:none;\">\n\n  <svg xmlns=\"http://www.w3.org/2000/svg\" height=\"24px\" viewBox=\"0 -960 960 960\">\n    <path d=\"M120-120v-720h720v720H120Zm60-500h600v-160H180v160Zm220 220h160v-160H400v160Zm0 220h160v-160H400v160ZM180-400h160v-160H180v160Zm440 0h160v-160H620v160ZM180-180h160v-160H180v160Zm440 0h160v-160H620v160Z\"/>\n  </svg>\n    </button>\n\n  <style>\n    .colab-df-container {\n      display:flex;\n      gap: 12px;\n    }\n\n    .colab-df-convert {\n      background-color: #E8F0FE;\n      border: none;\n      border-radius: 50%;\n      cursor: pointer;\n      display: none;\n      fill: #1967D2;\n      height: 32px;\n      padding: 0 0 0 0;\n      width: 32px;\n    }\n\n    .colab-df-convert:hover {\n      background-color: #E2EBFA;\n      box-shadow: 0px 1px 2px rgba(60, 64, 67, 0.3), 0px 1px 3px 1px rgba(60, 64, 67, 0.15);\n      fill: #174EA6;\n    }\n\n    .colab-df-buttons div {\n      margin-bottom: 4px;\n    }\n\n    [theme=dark] .colab-df-convert {\n      background-color: #3B4455;\n      fill: #D2E3FC;\n    }\n\n    [theme=dark] .colab-df-convert:hover {\n      background-color: #434B5C;\n      box-shadow: 0px 1px 3px 1px rgba(0, 0, 0, 0.15);\n      filter: drop-shadow(0px 1px 2px rgba(0, 0, 0, 0.3));\n      fill: #FFFFFF;\n    }\n  </style>\n\n    <script>\n      const buttonEl =\n        document.querySelector('#df-e2baf2e4-fd13-401a-b3da-0ffc7b24761f button.colab-df-convert');\n      buttonEl.style.display =\n        google.colab.kernel.accessAllowed ? 'block' : 'none';\n\n      async function convertToInteractive(key) {\n        const element = document.querySelector('#df-e2baf2e4-fd13-401a-b3da-0ffc7b24761f');\n        const dataTable =\n          await google.colab.kernel.invokeFunction('convertToInteractive',\n                                                    [key], {});\n        if (!dataTable) return;\n\n        const docLinkHtml = 'Like what you see? Visit the ' +\n          '<a target=\"_blank\" href=https://colab.research.google.com/notebooks/data_table.ipynb>data table notebook</a>'\n          + ' to learn more about interactive tables.';\n        element.innerHTML = '';\n        dataTable['output_type'] = 'display_data';\n        await google.colab.output.renderOutput(dataTable, element);\n        const docLink = document.createElement('div');\n        docLink.innerHTML = docLinkHtml;\n        element.appendChild(docLink);\n      }\n    </script>\n  </div>\n\n\n<div id=\"df-bc441649-6ce8-4bad-9031-233e02db1990\">\n  <button class=\"colab-df-quickchart\" onclick=\"quickchart('df-bc441649-6ce8-4bad-9031-233e02db1990')\"\n            title=\"Suggest charts\"\n            style=\"display:none;\">\n\n<svg xmlns=\"http://www.w3.org/2000/svg\" height=\"24px\"viewBox=\"0 0 24 24\"\n     width=\"24px\">\n    <g>\n        <path d=\"M19 3H5c-1.1 0-2 .9-2 2v14c0 1.1.9 2 2 2h14c1.1 0 2-.9 2-2V5c0-1.1-.9-2-2-2zM9 17H7v-7h2v7zm4 0h-2V7h2v10zm4 0h-2v-4h2v4z\"/>\n    </g>\n</svg>\n  </button>\n\n<style>\n  .colab-df-quickchart {\n      --bg-color: #E8F0FE;\n      --fill-color: #1967D2;\n      --hover-bg-color: #E2EBFA;\n      --hover-fill-color: #174EA6;\n      --disabled-fill-color: #AAA;\n      --disabled-bg-color: #DDD;\n  }\n\n  [theme=dark] .colab-df-quickchart {\n      --bg-color: #3B4455;\n      --fill-color: #D2E3FC;\n      --hover-bg-color: #434B5C;\n      --hover-fill-color: #FFFFFF;\n      --disabled-bg-color: #3B4455;\n      --disabled-fill-color: #666;\n  }\n\n  .colab-df-quickchart {\n    background-color: var(--bg-color);\n    border: none;\n    border-radius: 50%;\n    cursor: pointer;\n    display: none;\n    fill: var(--fill-color);\n    height: 32px;\n    padding: 0;\n    width: 32px;\n  }\n\n  .colab-df-quickchart:hover {\n    background-color: var(--hover-bg-color);\n    box-shadow: 0 1px 2px rgba(60, 64, 67, 0.3), 0 1px 3px 1px rgba(60, 64, 67, 0.15);\n    fill: var(--button-hover-fill-color);\n  }\n\n  .colab-df-quickchart-complete:disabled,\n  .colab-df-quickchart-complete:disabled:hover {\n    background-color: var(--disabled-bg-color);\n    fill: var(--disabled-fill-color);\n    box-shadow: none;\n  }\n\n  .colab-df-spinner {\n    border: 2px solid var(--fill-color);\n    border-color: transparent;\n    border-bottom-color: var(--fill-color);\n    animation:\n      spin 1s steps(1) infinite;\n  }\n\n  @keyframes spin {\n    0% {\n      border-color: transparent;\n      border-bottom-color: var(--fill-color);\n      border-left-color: var(--fill-color);\n    }\n    20% {\n      border-color: transparent;\n      border-left-color: var(--fill-color);\n      border-top-color: var(--fill-color);\n    }\n    30% {\n      border-color: transparent;\n      border-left-color: var(--fill-color);\n      border-top-color: var(--fill-color);\n      border-right-color: var(--fill-color);\n    }\n    40% {\n      border-color: transparent;\n      border-right-color: var(--fill-color);\n      border-top-color: var(--fill-color);\n    }\n    60% {\n      border-color: transparent;\n      border-right-color: var(--fill-color);\n    }\n    80% {\n      border-color: transparent;\n      border-right-color: var(--fill-color);\n      border-bottom-color: var(--fill-color);\n    }\n    90% {\n      border-color: transparent;\n      border-bottom-color: var(--fill-color);\n    }\n  }\n</style>\n\n  <script>\n    async function quickchart(key) {\n      const quickchartButtonEl =\n        document.querySelector('#' + key + ' button');\n      quickchartButtonEl.disabled = true;  // To prevent multiple clicks.\n      quickchartButtonEl.classList.add('colab-df-spinner');\n      try {\n        const charts = await google.colab.kernel.invokeFunction(\n            'suggestCharts', [key], {});\n      } catch (error) {\n        console.error('Error during call to suggestCharts:', error);\n      }\n      quickchartButtonEl.classList.remove('colab-df-spinner');\n      quickchartButtonEl.classList.add('colab-df-quickchart-complete');\n    }\n    (() => {\n      let quickchartButtonEl =\n        document.querySelector('#df-bc441649-6ce8-4bad-9031-233e02db1990 button');\n      quickchartButtonEl.style.display =\n        google.colab.kernel.accessAllowed ? 'block' : 'none';\n    })();\n  </script>\n</div>\n    </div>\n  </div>\n",
                  "application/vnd.google.colaboratory.intrinsic+json": {
                    "type": "dataframe",
                    "summary": "{\n  \"name\": \"display(visualizar)\",\n  \"rows\": 20,\n  \"fields\": [\n    {\n      \"column\": \"BMI\",\n      \"properties\": {\n        \"dtype\": \"number\",\n        \"std\": 0.974455762002908,\n        \"min\": -1.822533828594285,\n        \"max\": 2.353469354329182,\n        \"num_unique_values\": 18,\n        \"samples\": [\n          -0.1341949381357772,\n          -0.5905027463678066,\n          -0.6849112584158124\n        ],\n        \"semantic_type\": \"\",\n        \"description\": \"\"\n      }\n    },\n    {\n      \"column\": \"Smoking\",\n      \"properties\": {\n        \"dtype\": \"number\",\n        \"std\": 1.0413693861785744,\n        \"min\": -1.1888624429648411,\n        \"max\": 0.8411402058476614,\n        \"num_unique_values\": 2,\n        \"samples\": [\n          -1.1888624429648411,\n          0.8411402058476614\n        ],\n        \"semantic_type\": \"\",\n        \"description\": \"\"\n      }\n    },\n    {\n      \"column\": \"AlcoholDrinking\",\n      \"properties\": {\n        \"dtype\": \"number\",\n        \"std\": 1.2234702902736214,\n        \"min\": -3.7050707208767264,\n        \"max\": 0.2699003812168451,\n        \"num_unique_values\": 2,\n        \"samples\": [\n          -3.7050707208767264,\n          0.2699003812168451\n        ],\n        \"semantic_type\": \"\",\n        \"description\": \"\"\n      }\n    },\n    {\n      \"column\": \"Stroke\",\n      \"properties\": {\n        \"dtype\": \"number\",\n        \"std\": 0.0,\n        \"min\": 0.19922277178016265,\n        \"max\": 0.19922277178016265,\n        \"num_unique_values\": 1,\n        \"samples\": [\n          0.19922277178016265\n        ],\n        \"semantic_type\": \"\",\n        \"description\": \"\"\n      }\n    },\n    {\n      \"column\": \"PhysicalHealth\",\n      \"properties\": {\n        \"dtype\": \"number\",\n        \"std\": 1.1620192097473425,\n        \"min\": -0.42532120911839294,\n        \"max\": 3.3363822122341023,\n        \"num_unique_values\": 5,\n        \"samples\": [\n          3.3363822122341023\n        ],\n        \"semantic_type\": \"\",\n        \"description\": \"\"\n      }\n    },\n    {\n      \"column\": \"MentalHealth\",\n      \"properties\": {\n        \"dtype\": \"number\",\n        \"std\": 1.2536836774868696,\n        \"min\": -0.4902549300537957,\n        \"max\": 3.290195816765061,\n        \"num_unique_values\": 8,\n        \"samples\": [\n          2.030045567825442\n        ],\n        \"semantic_type\": \"\",\n        \"description\": \"\"\n      }\n    },\n    {\n      \"column\": \"DiffWalking\",\n      \"properties\": {\n        \"dtype\": \"number\",\n        \"std\": 1.1390647892519134e-16,\n        \"min\": 0.4010013093936142,\n        \"max\": 0.4010013093936142,\n        \"num_unique_values\": 1,\n        \"samples\": [\n          0.4010013093936142\n        ],\n        \"semantic_type\": \"\",\n        \"description\": \"\"\n      }\n    },\n    {\n      \"column\": \"Sex\",\n      \"properties\": {\n        \"dtype\": \"number\",\n        \"std\": 1.0221179091629666,\n        \"min\": -0.9511172750495365,\n        \"max\": 1.0513950553026359,\n        \"num_unique_values\": 2,\n        \"samples\": [\n          1.0513950553026359\n        ],\n        \"semantic_type\": \"\",\n        \"description\": \"\"\n      }\n    },\n    {\n      \"column\": \"AgeCategory\",\n      \"properties\": {\n        \"dtype\": \"number\",\n        \"std\": 0.9641653341544014,\n        \"min\": -1.5450820781105743,\n        \"max\": 1.2570287891363523,\n        \"num_unique_values\": 9,\n        \"samples\": [\n          -0.7044488179364963\n        ],\n        \"semantic_type\": \"\",\n        \"description\": \"\"\n      }\n    },\n    {\n      \"column\": \"Race\",\n      \"properties\": {\n        \"dtype\": \"number\",\n        \"std\": 0.9059483807417462,\n        \"min\": -0.4699606250920419,\n        \"max\": 2.710119530233486,\n        \"num_unique_values\": 5,\n        \"samples\": [\n          2.710119530233486\n        ],\n        \"semantic_type\": \"\",\n        \"description\": \"\"\n      }\n    },\n    {\n      \"column\": \"Diabetic\",\n      \"properties\": {\n        \"dtype\": \"number\",\n        \"std\": 0.7394333868924864,\n        \"min\": 0.21433915191876454,\n        \"max\": 2.6167075364943058,\n        \"num_unique_values\": 2,\n        \"samples\": [\n          2.6167075364943058\n        ],\n        \"semantic_type\": \"\",\n        \"description\": \"\"\n      }\n    },\n    {\n      \"column\": \"PhysicalActivity\",\n      \"properties\": {\n        \"dtype\": \"number\",\n        \"std\": 0.8788258431393826,\n        \"min\": -0.5371264046459373,\n        \"max\": 1.8617591526880517,\n        \"num_unique_values\": 2,\n        \"samples\": [\n          1.8617591526880517\n        ],\n        \"semantic_type\": \"\",\n        \"description\": \"\"\n      }\n    },\n    {\n      \"column\": \"GenHealth\",\n      \"properties\": {\n        \"dtype\": \"number\",\n        \"std\": 0.9183346942681768,\n        \"min\": -1.1038813257939573,\n        \"max\": 1.2072103068359485,\n        \"num_unique_values\": 3,\n        \"samples\": [\n          -1.1038813257939573\n        ],\n        \"semantic_type\": \"\",\n        \"description\": \"\"\n      }\n    },\n    {\n      \"column\": \"SleepTime\",\n      \"properties\": {\n        \"dtype\": \"number\",\n        \"std\": 1.12087297065771,\n        \"min\": -2.852761242733069,\n        \"max\": 1.3265228694964377,\n        \"num_unique_values\": 6,\n        \"samples\": [\n          -0.7631191866183155\n        ],\n        \"semantic_type\": \"\",\n        \"description\": \"\"\n      }\n    },\n    {\n      \"column\": \"Asthma\",\n      \"properties\": {\n        \"dtype\": \"number\",\n        \"std\": 0.6549277442376882,\n        \"min\": -2.534346945906668,\n        \"max\": 0.3945789670254669,\n        \"num_unique_values\": 2,\n        \"samples\": [\n          -2.534346945906668\n        ],\n        \"semantic_type\": \"\",\n        \"description\": \"\"\n      }\n    },\n    {\n      \"column\": \"KidneyDisease\",\n      \"properties\": {\n        \"dtype\": \"number\",\n        \"std\": 2.8476619731297836e-17,\n        \"min\": 0.19607983213697508,\n        \"max\": 0.19607983213697508,\n        \"num_unique_values\": 1,\n        \"samples\": [\n          0.19607983213697508\n        ],\n        \"semantic_type\": \"\",\n        \"description\": \"\"\n      }\n    },\n    {\n      \"column\": \"SkinCancer\",\n      \"properties\": {\n        \"dtype\": \"number\",\n        \"std\": 5.695323946259567e-17,\n        \"min\": 0.3191376709109729,\n        \"max\": 0.3191376709109729,\n        \"num_unique_values\": 1,\n        \"samples\": [\n          0.3191376709109729\n        ],\n        \"semantic_type\": \"\",\n        \"description\": \"\"\n      }\n    }\n  ]\n}"
                  }
                },
                "metadata": {}
              }
            ]
          }
        },
        "cbc17093232c40a9aae5b7206bafbf7f": {
          "model_module": "@jupyter-widgets/base",
          "model_name": "LayoutModel",
          "model_module_version": "1.2.0",
          "state": {
            "_model_module": "@jupyter-widgets/base",
            "_model_module_version": "1.2.0",
            "_model_name": "LayoutModel",
            "_view_count": null,
            "_view_module": "@jupyter-widgets/base",
            "_view_module_version": "1.2.0",
            "_view_name": "LayoutView",
            "align_content": null,
            "align_items": null,
            "align_self": null,
            "border": null,
            "bottom": null,
            "display": null,
            "flex": null,
            "flex_flow": null,
            "grid_area": null,
            "grid_auto_columns": null,
            "grid_auto_flow": null,
            "grid_auto_rows": null,
            "grid_column": null,
            "grid_gap": null,
            "grid_row": null,
            "grid_template_areas": null,
            "grid_template_columns": null,
            "grid_template_rows": null,
            "height": null,
            "justify_content": null,
            "justify_items": null,
            "left": null,
            "margin": null,
            "max_height": null,
            "max_width": null,
            "min_height": null,
            "min_width": null,
            "object_fit": null,
            "object_position": null,
            "order": null,
            "overflow": null,
            "overflow_x": null,
            "overflow_y": null,
            "padding": null,
            "right": null,
            "top": null,
            "visibility": null,
            "width": null
          }
        },
        "f5097377cca04177880f95615a3d3172": {
          "model_module": "@jupyter-widgets/output",
          "model_name": "OutputModel",
          "model_module_version": "1.0.0",
          "state": {
            "_dom_classes": [],
            "_model_module": "@jupyter-widgets/output",
            "_model_module_version": "1.0.0",
            "_model_name": "OutputModel",
            "_view_count": null,
            "_view_module": "@jupyter-widgets/output",
            "_view_module_version": "1.0.0",
            "_view_name": "OutputView",
            "layout": "IPY_MODEL_9c950ee01959462994d5302cf37c0370",
            "msg_id": "",
            "outputs": [
              {
                "output_type": "display_data",
                "data": {
                  "text/plain": "<IPython.core.display.HTML object>",
                  "text/html": "<h2>Primeros registros. Predicciones de 159898 registros</h2>"
                },
                "metadata": {}
              },
              {
                "output_type": "display_data",
                "data": {
                  "text/plain": "         BMI   Smoking  AlcoholDrinking    Stroke  PhysicalHealth  \\\n0  -0.134195  0.841140         0.269900  0.199223       -0.425321   \n1  -0.590503 -1.188862         0.269900  0.199223        3.336382   \n2  -0.914639 -1.188862         0.269900  0.199223       -0.425321   \n3  -0.496094 -1.188862         0.269900  0.199223       -0.425321   \n4   0.842933  0.841140         0.269900  0.199223       -0.425321   \n5   1.420399  0.841140         0.269900  0.199223       -0.049151   \n6   2.353469 -1.188862         0.269900  0.199223        3.336382   \n7  -1.822534  0.841140         0.269900  0.199223       -0.174541   \n8  -0.684911  0.841140         0.269900  0.199223       -0.425321   \n9   0.301658  0.841140         0.269900  0.199223       -0.425321   \n10 -0.127901 -1.188862        -3.705071  0.199223       -0.425321   \n11  0.496769 -1.188862         0.269900  0.199223       -0.425321   \n12 -0.684911  0.841140         0.269900  0.199223       -0.425321   \n13 -0.395392 -1.188862         0.269900  0.199223        0.828580   \n14  0.737510  0.841140         0.269900  0.199223       -0.425321   \n15 -1.293846 -1.188862         0.269900  0.199223       -0.425321   \n16  0.907446 -1.188862         0.269900  0.199223       -0.425321   \n17  0.449564 -1.188862         0.269900  0.199223       -0.425321   \n18 -0.134195  0.841140        -3.705071  0.199223       -0.425321   \n19  0.570722  0.841140         0.269900  0.199223       -0.425321   \n\n    MentalHealth  DiffWalking       Sex  AgeCategory      Race  Diabetic  \\\n0       3.290196     0.401001 -0.951117     0.416396 -0.469961  0.214339   \n1       2.030046     0.401001 -0.951117    -0.424238  2.710120  0.214339   \n2      -0.490255     0.401001  1.051395     1.257029 -0.469961  0.214339   \n3      -0.490255     0.401001  1.051395    -1.264871 -0.469961  0.214339   \n4       0.013805     0.401001 -0.951117    -1.545082  0.166055  0.214339   \n5      -0.490255     0.401001  1.051395     1.257029 -0.469961  2.616708   \n6       1.399970     0.401001 -0.951117    -0.424238  0.166055  0.214339   \n7       0.139820     0.401001 -0.951117    -1.545082  0.802071  0.214339   \n8       3.290196     0.401001 -0.951117     0.976818 -0.469961  0.214339   \n9       0.391850     0.401001 -0.951117     0.416396 -0.469961  0.214339   \n10     -0.490255     0.401001  1.051395    -1.264871 -0.469961  0.214339   \n11     -0.490255     0.401001  1.051395     0.696607 -0.469961  0.214339   \n12     -0.238225     0.401001 -0.951117    -0.704449 -0.469961  0.214339   \n13     -0.490255     0.401001  1.051395     0.136184  2.074103  0.214339   \n14     -0.490255     0.401001  1.051395     0.416396 -0.469961  2.616708   \n15     -0.490255     0.401001  1.051395     0.696607 -0.469961  0.214339   \n16     -0.490255     0.401001  1.051395    -0.704449 -0.469961  0.214339   \n17     -0.490255     0.401001  1.051395    -0.424238 -0.469961  0.214339   \n18     -0.490255     0.401001 -0.951117     0.976818 -0.469961  0.214339   \n19     -0.490255     0.401001  1.051395     1.257029 -0.469961  0.214339   \n\n    PhysicalActivity  GenHealth  SleepTime    Asthma  KidneyDisease  \\\n0          -0.537126  -1.103881  -0.763119  0.394579        0.19608   \n1          -0.537126  -1.103881   0.629976  0.394579        0.19608   \n2          -0.537126   0.051664   1.326523  0.394579        0.19608   \n3          -0.537126  -1.103881  -1.459667  0.394579        0.19608   \n4          -0.537126   0.051664  -0.763119  0.394579        0.19608   \n5          -0.537126  -1.103881  -0.763119  0.394579        0.19608   \n6           1.861759   1.207210   0.629976  0.394579        0.19608   \n7           1.861759   0.051664  -0.066572  0.394579        0.19608   \n8          -0.537126   1.207210   1.326523  0.394579        0.19608   \n9          -0.537126   0.051664   0.629976  0.394579        0.19608   \n10         -0.537126  -1.103881  -0.066572  0.394579        0.19608   \n11         -0.537126   0.051664   0.629976  0.394579        0.19608   \n12         -0.537126   1.207210  -0.066572  0.394579        0.19608   \n13          1.861759   1.207210  -2.852761 -2.534347        0.19608   \n14         -0.537126   0.051664   0.629976  0.394579        0.19608   \n15         -0.537126   1.207210  -1.459667  0.394579        0.19608   \n16         -0.537126  -1.103881  -1.459667  0.394579        0.19608   \n17         -0.537126   0.051664  -1.459667  0.394579        0.19608   \n18         -0.537126   0.051664   0.629976  0.394579        0.19608   \n19         -0.537126   1.207210   0.629976  0.394579        0.19608   \n\n    SkinCancer HertDisease_real HertDisease_prediccion  \n0     0.319138              NaN                     No  \n1     0.319138              NaN                     No  \n2     0.319138              NaN                     No  \n3     0.319138              NaN                     No  \n4     0.319138               No                     No  \n5     0.319138              Yes                     No  \n6     0.319138               No                     No  \n7     0.319138               No                     No  \n8     0.319138               No                     No  \n9     0.319138              NaN                     No  \n10    0.319138              NaN                     No  \n11    0.319138              NaN                     No  \n12    0.319138              NaN                     No  \n13    0.319138               No                     No  \n14    0.319138              NaN                     No  \n15    0.319138               No                     No  \n16    0.319138              NaN                     No  \n17    0.319138               No                     No  \n18    0.319138               No                     No  \n19    0.319138              NaN                     No  ",
                  "text/html": "\n  <div id=\"df-db896b2c-e370-4797-9083-2efa3ddd7f80\" class=\"colab-df-container\">\n    <div>\n<style scoped>\n    .dataframe tbody tr th:only-of-type {\n        vertical-align: middle;\n    }\n\n    .dataframe tbody tr th {\n        vertical-align: top;\n    }\n\n    .dataframe thead th {\n        text-align: right;\n    }\n</style>\n<table border=\"1\" class=\"dataframe\">\n  <thead>\n    <tr style=\"text-align: right;\">\n      <th></th>\n      <th>BMI</th>\n      <th>Smoking</th>\n      <th>AlcoholDrinking</th>\n      <th>Stroke</th>\n      <th>PhysicalHealth</th>\n      <th>MentalHealth</th>\n      <th>DiffWalking</th>\n      <th>Sex</th>\n      <th>AgeCategory</th>\n      <th>Race</th>\n      <th>Diabetic</th>\n      <th>PhysicalActivity</th>\n      <th>GenHealth</th>\n      <th>SleepTime</th>\n      <th>Asthma</th>\n      <th>KidneyDisease</th>\n      <th>SkinCancer</th>\n      <th>HertDisease_real</th>\n      <th>HertDisease_prediccion</th>\n    </tr>\n  </thead>\n  <tbody>\n    <tr>\n      <th>0</th>\n      <td>-0.134195</td>\n      <td>0.841140</td>\n      <td>0.269900</td>\n      <td>0.199223</td>\n      <td>-0.425321</td>\n      <td>3.290196</td>\n      <td>0.401001</td>\n      <td>-0.951117</td>\n      <td>0.416396</td>\n      <td>-0.469961</td>\n      <td>0.214339</td>\n      <td>-0.537126</td>\n      <td>-1.103881</td>\n      <td>-0.763119</td>\n      <td>0.394579</td>\n      <td>0.19608</td>\n      <td>0.319138</td>\n      <td>NaN</td>\n      <td>No</td>\n    </tr>\n    <tr>\n      <th>1</th>\n      <td>-0.590503</td>\n      <td>-1.188862</td>\n      <td>0.269900</td>\n      <td>0.199223</td>\n      <td>3.336382</td>\n      <td>2.030046</td>\n      <td>0.401001</td>\n      <td>-0.951117</td>\n      <td>-0.424238</td>\n      <td>2.710120</td>\n      <td>0.214339</td>\n      <td>-0.537126</td>\n      <td>-1.103881</td>\n      <td>0.629976</td>\n      <td>0.394579</td>\n      <td>0.19608</td>\n      <td>0.319138</td>\n      <td>NaN</td>\n      <td>No</td>\n    </tr>\n    <tr>\n      <th>2</th>\n      <td>-0.914639</td>\n      <td>-1.188862</td>\n      <td>0.269900</td>\n      <td>0.199223</td>\n      <td>-0.425321</td>\n      <td>-0.490255</td>\n      <td>0.401001</td>\n      <td>1.051395</td>\n      <td>1.257029</td>\n      <td>-0.469961</td>\n      <td>0.214339</td>\n      <td>-0.537126</td>\n      <td>0.051664</td>\n      <td>1.326523</td>\n      <td>0.394579</td>\n      <td>0.19608</td>\n      <td>0.319138</td>\n      <td>NaN</td>\n      <td>No</td>\n    </tr>\n    <tr>\n      <th>3</th>\n      <td>-0.496094</td>\n      <td>-1.188862</td>\n      <td>0.269900</td>\n      <td>0.199223</td>\n      <td>-0.425321</td>\n      <td>-0.490255</td>\n      <td>0.401001</td>\n      <td>1.051395</td>\n      <td>-1.264871</td>\n      <td>-0.469961</td>\n      <td>0.214339</td>\n      <td>-0.537126</td>\n      <td>-1.103881</td>\n      <td>-1.459667</td>\n      <td>0.394579</td>\n      <td>0.19608</td>\n      <td>0.319138</td>\n      <td>NaN</td>\n      <td>No</td>\n    </tr>\n    <tr>\n      <th>4</th>\n      <td>0.842933</td>\n      <td>0.841140</td>\n      <td>0.269900</td>\n      <td>0.199223</td>\n      <td>-0.425321</td>\n      <td>0.013805</td>\n      <td>0.401001</td>\n      <td>-0.951117</td>\n      <td>-1.545082</td>\n      <td>0.166055</td>\n      <td>0.214339</td>\n      <td>-0.537126</td>\n      <td>0.051664</td>\n      <td>-0.763119</td>\n      <td>0.394579</td>\n      <td>0.19608</td>\n      <td>0.319138</td>\n      <td>No</td>\n      <td>No</td>\n    </tr>\n    <tr>\n      <th>5</th>\n      <td>1.420399</td>\n      <td>0.841140</td>\n      <td>0.269900</td>\n      <td>0.199223</td>\n      <td>-0.049151</td>\n      <td>-0.490255</td>\n      <td>0.401001</td>\n      <td>1.051395</td>\n      <td>1.257029</td>\n      <td>-0.469961</td>\n      <td>2.616708</td>\n      <td>-0.537126</td>\n      <td>-1.103881</td>\n      <td>-0.763119</td>\n      <td>0.394579</td>\n      <td>0.19608</td>\n      <td>0.319138</td>\n      <td>Yes</td>\n      <td>No</td>\n    </tr>\n    <tr>\n      <th>6</th>\n      <td>2.353469</td>\n      <td>-1.188862</td>\n      <td>0.269900</td>\n      <td>0.199223</td>\n      <td>3.336382</td>\n      <td>1.399970</td>\n      <td>0.401001</td>\n      <td>-0.951117</td>\n      <td>-0.424238</td>\n      <td>0.166055</td>\n      <td>0.214339</td>\n      <td>1.861759</td>\n      <td>1.207210</td>\n      <td>0.629976</td>\n      <td>0.394579</td>\n      <td>0.19608</td>\n      <td>0.319138</td>\n      <td>No</td>\n      <td>No</td>\n    </tr>\n    <tr>\n      <th>7</th>\n      <td>-1.822534</td>\n      <td>0.841140</td>\n      <td>0.269900</td>\n      <td>0.199223</td>\n      <td>-0.174541</td>\n      <td>0.139820</td>\n      <td>0.401001</td>\n      <td>-0.951117</td>\n      <td>-1.545082</td>\n      <td>0.802071</td>\n      <td>0.214339</td>\n      <td>1.861759</td>\n      <td>0.051664</td>\n      <td>-0.066572</td>\n      <td>0.394579</td>\n      <td>0.19608</td>\n      <td>0.319138</td>\n      <td>No</td>\n      <td>No</td>\n    </tr>\n    <tr>\n      <th>8</th>\n      <td>-0.684911</td>\n      <td>0.841140</td>\n      <td>0.269900</td>\n      <td>0.199223</td>\n      <td>-0.425321</td>\n      <td>3.290196</td>\n      <td>0.401001</td>\n      <td>-0.951117</td>\n      <td>0.976818</td>\n      <td>-0.469961</td>\n      <td>0.214339</td>\n      <td>-0.537126</td>\n      <td>1.207210</td>\n      <td>1.326523</td>\n      <td>0.394579</td>\n      <td>0.19608</td>\n      <td>0.319138</td>\n      <td>No</td>\n      <td>No</td>\n    </tr>\n    <tr>\n      <th>9</th>\n      <td>0.301658</td>\n      <td>0.841140</td>\n      <td>0.269900</td>\n      <td>0.199223</td>\n      <td>-0.425321</td>\n      <td>0.391850</td>\n      <td>0.401001</td>\n      <td>-0.951117</td>\n      <td>0.416396</td>\n      <td>-0.469961</td>\n      <td>0.214339</td>\n      <td>-0.537126</td>\n      <td>0.051664</td>\n      <td>0.629976</td>\n      <td>0.394579</td>\n      <td>0.19608</td>\n      <td>0.319138</td>\n      <td>NaN</td>\n      <td>No</td>\n    </tr>\n    <tr>\n      <th>10</th>\n      <td>-0.127901</td>\n      <td>-1.188862</td>\n      <td>-3.705071</td>\n      <td>0.199223</td>\n      <td>-0.425321</td>\n      <td>-0.490255</td>\n      <td>0.401001</td>\n      <td>1.051395</td>\n      <td>-1.264871</td>\n      <td>-0.469961</td>\n      <td>0.214339</td>\n      <td>-0.537126</td>\n      <td>-1.103881</td>\n      <td>-0.066572</td>\n      <td>0.394579</td>\n      <td>0.19608</td>\n      <td>0.319138</td>\n      <td>NaN</td>\n      <td>No</td>\n    </tr>\n    <tr>\n      <th>11</th>\n      <td>0.496769</td>\n      <td>-1.188862</td>\n      <td>0.269900</td>\n      <td>0.199223</td>\n      <td>-0.425321</td>\n      <td>-0.490255</td>\n      <td>0.401001</td>\n      <td>1.051395</td>\n      <td>0.696607</td>\n      <td>-0.469961</td>\n      <td>0.214339</td>\n      <td>-0.537126</td>\n      <td>0.051664</td>\n      <td>0.629976</td>\n      <td>0.394579</td>\n      <td>0.19608</td>\n      <td>0.319138</td>\n      <td>NaN</td>\n      <td>No</td>\n    </tr>\n    <tr>\n      <th>12</th>\n      <td>-0.684911</td>\n      <td>0.841140</td>\n      <td>0.269900</td>\n      <td>0.199223</td>\n      <td>-0.425321</td>\n      <td>-0.238225</td>\n      <td>0.401001</td>\n      <td>-0.951117</td>\n      <td>-0.704449</td>\n      <td>-0.469961</td>\n      <td>0.214339</td>\n      <td>-0.537126</td>\n      <td>1.207210</td>\n      <td>-0.066572</td>\n      <td>0.394579</td>\n      <td>0.19608</td>\n      <td>0.319138</td>\n      <td>NaN</td>\n      <td>No</td>\n    </tr>\n    <tr>\n      <th>13</th>\n      <td>-0.395392</td>\n      <td>-1.188862</td>\n      <td>0.269900</td>\n      <td>0.199223</td>\n      <td>0.828580</td>\n      <td>-0.490255</td>\n      <td>0.401001</td>\n      <td>1.051395</td>\n      <td>0.136184</td>\n      <td>2.074103</td>\n      <td>0.214339</td>\n      <td>1.861759</td>\n      <td>1.207210</td>\n      <td>-2.852761</td>\n      <td>-2.534347</td>\n      <td>0.19608</td>\n      <td>0.319138</td>\n      <td>No</td>\n      <td>No</td>\n    </tr>\n    <tr>\n      <th>14</th>\n      <td>0.737510</td>\n      <td>0.841140</td>\n      <td>0.269900</td>\n      <td>0.199223</td>\n      <td>-0.425321</td>\n      <td>-0.490255</td>\n      <td>0.401001</td>\n      <td>1.051395</td>\n      <td>0.416396</td>\n      <td>-0.469961</td>\n      <td>2.616708</td>\n      <td>-0.537126</td>\n      <td>0.051664</td>\n      <td>0.629976</td>\n      <td>0.394579</td>\n      <td>0.19608</td>\n      <td>0.319138</td>\n      <td>NaN</td>\n      <td>No</td>\n    </tr>\n    <tr>\n      <th>15</th>\n      <td>-1.293846</td>\n      <td>-1.188862</td>\n      <td>0.269900</td>\n      <td>0.199223</td>\n      <td>-0.425321</td>\n      <td>-0.490255</td>\n      <td>0.401001</td>\n      <td>1.051395</td>\n      <td>0.696607</td>\n      <td>-0.469961</td>\n      <td>0.214339</td>\n      <td>-0.537126</td>\n      <td>1.207210</td>\n      <td>-1.459667</td>\n      <td>0.394579</td>\n      <td>0.19608</td>\n      <td>0.319138</td>\n      <td>No</td>\n      <td>No</td>\n    </tr>\n    <tr>\n      <th>16</th>\n      <td>0.907446</td>\n      <td>-1.188862</td>\n      <td>0.269900</td>\n      <td>0.199223</td>\n      <td>-0.425321</td>\n      <td>-0.490255</td>\n      <td>0.401001</td>\n      <td>1.051395</td>\n      <td>-0.704449</td>\n      <td>-0.469961</td>\n      <td>0.214339</td>\n      <td>-0.537126</td>\n      <td>-1.103881</td>\n      <td>-1.459667</td>\n      <td>0.394579</td>\n      <td>0.19608</td>\n      <td>0.319138</td>\n      <td>NaN</td>\n      <td>No</td>\n    </tr>\n    <tr>\n      <th>17</th>\n      <td>0.449564</td>\n      <td>-1.188862</td>\n      <td>0.269900</td>\n      <td>0.199223</td>\n      <td>-0.425321</td>\n      <td>-0.490255</td>\n      <td>0.401001</td>\n      <td>1.051395</td>\n      <td>-0.424238</td>\n      <td>-0.469961</td>\n      <td>0.214339</td>\n      <td>-0.537126</td>\n      <td>0.051664</td>\n      <td>-1.459667</td>\n      <td>0.394579</td>\n      <td>0.19608</td>\n      <td>0.319138</td>\n      <td>No</td>\n      <td>No</td>\n    </tr>\n    <tr>\n      <th>18</th>\n      <td>-0.134195</td>\n      <td>0.841140</td>\n      <td>-3.705071</td>\n      <td>0.199223</td>\n      <td>-0.425321</td>\n      <td>-0.490255</td>\n      <td>0.401001</td>\n      <td>-0.951117</td>\n      <td>0.976818</td>\n      <td>-0.469961</td>\n      <td>0.214339</td>\n      <td>-0.537126</td>\n      <td>0.051664</td>\n      <td>0.629976</td>\n      <td>0.394579</td>\n      <td>0.19608</td>\n      <td>0.319138</td>\n      <td>No</td>\n      <td>No</td>\n    </tr>\n    <tr>\n      <th>19</th>\n      <td>0.570722</td>\n      <td>0.841140</td>\n      <td>0.269900</td>\n      <td>0.199223</td>\n      <td>-0.425321</td>\n      <td>-0.490255</td>\n      <td>0.401001</td>\n      <td>1.051395</td>\n      <td>1.257029</td>\n      <td>-0.469961</td>\n      <td>0.214339</td>\n      <td>-0.537126</td>\n      <td>1.207210</td>\n      <td>0.629976</td>\n      <td>0.394579</td>\n      <td>0.19608</td>\n      <td>0.319138</td>\n      <td>NaN</td>\n      <td>No</td>\n    </tr>\n  </tbody>\n</table>\n</div>\n    <div class=\"colab-df-buttons\">\n\n  <div class=\"colab-df-container\">\n    <button class=\"colab-df-convert\" onclick=\"convertToInteractive('df-db896b2c-e370-4797-9083-2efa3ddd7f80')\"\n            title=\"Convert this dataframe to an interactive table.\"\n            style=\"display:none;\">\n\n  <svg xmlns=\"http://www.w3.org/2000/svg\" height=\"24px\" viewBox=\"0 -960 960 960\">\n    <path d=\"M120-120v-720h720v720H120Zm60-500h600v-160H180v160Zm220 220h160v-160H400v160Zm0 220h160v-160H400v160ZM180-400h160v-160H180v160Zm440 0h160v-160H620v160ZM180-180h160v-160H180v160Zm440 0h160v-160H620v160Z\"/>\n  </svg>\n    </button>\n\n  <style>\n    .colab-df-container {\n      display:flex;\n      gap: 12px;\n    }\n\n    .colab-df-convert {\n      background-color: #E8F0FE;\n      border: none;\n      border-radius: 50%;\n      cursor: pointer;\n      display: none;\n      fill: #1967D2;\n      height: 32px;\n      padding: 0 0 0 0;\n      width: 32px;\n    }\n\n    .colab-df-convert:hover {\n      background-color: #E2EBFA;\n      box-shadow: 0px 1px 2px rgba(60, 64, 67, 0.3), 0px 1px 3px 1px rgba(60, 64, 67, 0.15);\n      fill: #174EA6;\n    }\n\n    .colab-df-buttons div {\n      margin-bottom: 4px;\n    }\n\n    [theme=dark] .colab-df-convert {\n      background-color: #3B4455;\n      fill: #D2E3FC;\n    }\n\n    [theme=dark] .colab-df-convert:hover {\n      background-color: #434B5C;\n      box-shadow: 0px 1px 3px 1px rgba(0, 0, 0, 0.15);\n      filter: drop-shadow(0px 1px 2px rgba(0, 0, 0, 0.3));\n      fill: #FFFFFF;\n    }\n  </style>\n\n    <script>\n      const buttonEl =\n        document.querySelector('#df-db896b2c-e370-4797-9083-2efa3ddd7f80 button.colab-df-convert');\n      buttonEl.style.display =\n        google.colab.kernel.accessAllowed ? 'block' : 'none';\n\n      async function convertToInteractive(key) {\n        const element = document.querySelector('#df-db896b2c-e370-4797-9083-2efa3ddd7f80');\n        const dataTable =\n          await google.colab.kernel.invokeFunction('convertToInteractive',\n                                                    [key], {});\n        if (!dataTable) return;\n\n        const docLinkHtml = 'Like what you see? Visit the ' +\n          '<a target=\"_blank\" href=https://colab.research.google.com/notebooks/data_table.ipynb>data table notebook</a>'\n          + ' to learn more about interactive tables.';\n        element.innerHTML = '';\n        dataTable['output_type'] = 'display_data';\n        await google.colab.output.renderOutput(dataTable, element);\n        const docLink = document.createElement('div');\n        docLink.innerHTML = docLinkHtml;\n        element.appendChild(docLink);\n      }\n    </script>\n  </div>\n\n\n<div id=\"df-1bf619f6-8515-4ff0-a042-d6f4f6b79159\">\n  <button class=\"colab-df-quickchart\" onclick=\"quickchart('df-1bf619f6-8515-4ff0-a042-d6f4f6b79159')\"\n            title=\"Suggest charts\"\n            style=\"display:none;\">\n\n<svg xmlns=\"http://www.w3.org/2000/svg\" height=\"24px\"viewBox=\"0 0 24 24\"\n     width=\"24px\">\n    <g>\n        <path d=\"M19 3H5c-1.1 0-2 .9-2 2v14c0 1.1.9 2 2 2h14c1.1 0 2-.9 2-2V5c0-1.1-.9-2-2-2zM9 17H7v-7h2v7zm4 0h-2V7h2v10zm4 0h-2v-4h2v4z\"/>\n    </g>\n</svg>\n  </button>\n\n<style>\n  .colab-df-quickchart {\n      --bg-color: #E8F0FE;\n      --fill-color: #1967D2;\n      --hover-bg-color: #E2EBFA;\n      --hover-fill-color: #174EA6;\n      --disabled-fill-color: #AAA;\n      --disabled-bg-color: #DDD;\n  }\n\n  [theme=dark] .colab-df-quickchart {\n      --bg-color: #3B4455;\n      --fill-color: #D2E3FC;\n      --hover-bg-color: #434B5C;\n      --hover-fill-color: #FFFFFF;\n      --disabled-bg-color: #3B4455;\n      --disabled-fill-color: #666;\n  }\n\n  .colab-df-quickchart {\n    background-color: var(--bg-color);\n    border: none;\n    border-radius: 50%;\n    cursor: pointer;\n    display: none;\n    fill: var(--fill-color);\n    height: 32px;\n    padding: 0;\n    width: 32px;\n  }\n\n  .colab-df-quickchart:hover {\n    background-color: var(--hover-bg-color);\n    box-shadow: 0 1px 2px rgba(60, 64, 67, 0.3), 0 1px 3px 1px rgba(60, 64, 67, 0.15);\n    fill: var(--button-hover-fill-color);\n  }\n\n  .colab-df-quickchart-complete:disabled,\n  .colab-df-quickchart-complete:disabled:hover {\n    background-color: var(--disabled-bg-color);\n    fill: var(--disabled-fill-color);\n    box-shadow: none;\n  }\n\n  .colab-df-spinner {\n    border: 2px solid var(--fill-color);\n    border-color: transparent;\n    border-bottom-color: var(--fill-color);\n    animation:\n      spin 1s steps(1) infinite;\n  }\n\n  @keyframes spin {\n    0% {\n      border-color: transparent;\n      border-bottom-color: var(--fill-color);\n      border-left-color: var(--fill-color);\n    }\n    20% {\n      border-color: transparent;\n      border-left-color: var(--fill-color);\n      border-top-color: var(--fill-color);\n    }\n    30% {\n      border-color: transparent;\n      border-left-color: var(--fill-color);\n      border-top-color: var(--fill-color);\n      border-right-color: var(--fill-color);\n    }\n    40% {\n      border-color: transparent;\n      border-right-color: var(--fill-color);\n      border-top-color: var(--fill-color);\n    }\n    60% {\n      border-color: transparent;\n      border-right-color: var(--fill-color);\n    }\n    80% {\n      border-color: transparent;\n      border-right-color: var(--fill-color);\n      border-bottom-color: var(--fill-color);\n    }\n    90% {\n      border-color: transparent;\n      border-bottom-color: var(--fill-color);\n    }\n  }\n</style>\n\n  <script>\n    async function quickchart(key) {\n      const quickchartButtonEl =\n        document.querySelector('#' + key + ' button');\n      quickchartButtonEl.disabled = true;  // To prevent multiple clicks.\n      quickchartButtonEl.classList.add('colab-df-spinner');\n      try {\n        const charts = await google.colab.kernel.invokeFunction(\n            'suggestCharts', [key], {});\n      } catch (error) {\n        console.error('Error during call to suggestCharts:', error);\n      }\n      quickchartButtonEl.classList.remove('colab-df-spinner');\n      quickchartButtonEl.classList.add('colab-df-quickchart-complete');\n    }\n    (() => {\n      let quickchartButtonEl =\n        document.querySelector('#df-1bf619f6-8515-4ff0-a042-d6f4f6b79159 button');\n      quickchartButtonEl.style.display =\n        google.colab.kernel.accessAllowed ? 'block' : 'none';\n    })();\n  </script>\n</div>\n    </div>\n  </div>\n",
                  "application/vnd.google.colaboratory.intrinsic+json": {
                    "type": "dataframe",
                    "summary": "{\n  \"name\": \"display(visualizar)\",\n  \"rows\": 20,\n  \"fields\": [\n    {\n      \"column\": \"BMI\",\n      \"properties\": {\n        \"dtype\": \"number\",\n        \"std\": 0.974455762002908,\n        \"min\": -1.822533828594285,\n        \"max\": 2.353469354329182,\n        \"num_unique_values\": 18,\n        \"samples\": [\n          -0.1341949381357772,\n          -0.5905027463678066,\n          -0.6849112584158124\n        ],\n        \"semantic_type\": \"\",\n        \"description\": \"\"\n      }\n    },\n    {\n      \"column\": \"Smoking\",\n      \"properties\": {\n        \"dtype\": \"number\",\n        \"std\": 1.0413693861785744,\n        \"min\": -1.1888624429648411,\n        \"max\": 0.8411402058476614,\n        \"num_unique_values\": 2,\n        \"samples\": [\n          -1.1888624429648411,\n          0.8411402058476614\n        ],\n        \"semantic_type\": \"\",\n        \"description\": \"\"\n      }\n    },\n    {\n      \"column\": \"AlcoholDrinking\",\n      \"properties\": {\n        \"dtype\": \"number\",\n        \"std\": 1.2234702902736214,\n        \"min\": -3.7050707208767264,\n        \"max\": 0.2699003812168451,\n        \"num_unique_values\": 2,\n        \"samples\": [\n          -3.7050707208767264,\n          0.2699003812168451\n        ],\n        \"semantic_type\": \"\",\n        \"description\": \"\"\n      }\n    },\n    {\n      \"column\": \"Stroke\",\n      \"properties\": {\n        \"dtype\": \"number\",\n        \"std\": 0.0,\n        \"min\": 0.19922277178016265,\n        \"max\": 0.19922277178016265,\n        \"num_unique_values\": 1,\n        \"samples\": [\n          0.19922277178016265\n        ],\n        \"semantic_type\": \"\",\n        \"description\": \"\"\n      }\n    },\n    {\n      \"column\": \"PhysicalHealth\",\n      \"properties\": {\n        \"dtype\": \"number\",\n        \"std\": 1.1620192097473425,\n        \"min\": -0.42532120911839294,\n        \"max\": 3.3363822122341023,\n        \"num_unique_values\": 5,\n        \"samples\": [\n          3.3363822122341023\n        ],\n        \"semantic_type\": \"\",\n        \"description\": \"\"\n      }\n    },\n    {\n      \"column\": \"MentalHealth\",\n      \"properties\": {\n        \"dtype\": \"number\",\n        \"std\": 1.2536836774868696,\n        \"min\": -0.4902549300537957,\n        \"max\": 3.290195816765061,\n        \"num_unique_values\": 8,\n        \"samples\": [\n          2.030045567825442\n        ],\n        \"semantic_type\": \"\",\n        \"description\": \"\"\n      }\n    },\n    {\n      \"column\": \"DiffWalking\",\n      \"properties\": {\n        \"dtype\": \"number\",\n        \"std\": 1.1390647892519134e-16,\n        \"min\": 0.4010013093936142,\n        \"max\": 0.4010013093936142,\n        \"num_unique_values\": 1,\n        \"samples\": [\n          0.4010013093936142\n        ],\n        \"semantic_type\": \"\",\n        \"description\": \"\"\n      }\n    },\n    {\n      \"column\": \"Sex\",\n      \"properties\": {\n        \"dtype\": \"number\",\n        \"std\": 1.0221179091629666,\n        \"min\": -0.9511172750495365,\n        \"max\": 1.0513950553026359,\n        \"num_unique_values\": 2,\n        \"samples\": [\n          1.0513950553026359\n        ],\n        \"semantic_type\": \"\",\n        \"description\": \"\"\n      }\n    },\n    {\n      \"column\": \"AgeCategory\",\n      \"properties\": {\n        \"dtype\": \"number\",\n        \"std\": 0.9641653341544014,\n        \"min\": -1.5450820781105743,\n        \"max\": 1.2570287891363523,\n        \"num_unique_values\": 9,\n        \"samples\": [\n          -0.7044488179364963\n        ],\n        \"semantic_type\": \"\",\n        \"description\": \"\"\n      }\n    },\n    {\n      \"column\": \"Race\",\n      \"properties\": {\n        \"dtype\": \"number\",\n        \"std\": 0.9059483807417462,\n        \"min\": -0.4699606250920419,\n        \"max\": 2.710119530233486,\n        \"num_unique_values\": 5,\n        \"samples\": [\n          2.710119530233486\n        ],\n        \"semantic_type\": \"\",\n        \"description\": \"\"\n      }\n    },\n    {\n      \"column\": \"Diabetic\",\n      \"properties\": {\n        \"dtype\": \"number\",\n        \"std\": 0.7394333868924864,\n        \"min\": 0.21433915191876454,\n        \"max\": 2.6167075364943058,\n        \"num_unique_values\": 2,\n        \"samples\": [\n          2.6167075364943058\n        ],\n        \"semantic_type\": \"\",\n        \"description\": \"\"\n      }\n    },\n    {\n      \"column\": \"PhysicalActivity\",\n      \"properties\": {\n        \"dtype\": \"number\",\n        \"std\": 0.8788258431393826,\n        \"min\": -0.5371264046459373,\n        \"max\": 1.8617591526880517,\n        \"num_unique_values\": 2,\n        \"samples\": [\n          1.8617591526880517\n        ],\n        \"semantic_type\": \"\",\n        \"description\": \"\"\n      }\n    },\n    {\n      \"column\": \"GenHealth\",\n      \"properties\": {\n        \"dtype\": \"number\",\n        \"std\": 0.9183346942681768,\n        \"min\": -1.1038813257939573,\n        \"max\": 1.2072103068359485,\n        \"num_unique_values\": 3,\n        \"samples\": [\n          -1.1038813257939573\n        ],\n        \"semantic_type\": \"\",\n        \"description\": \"\"\n      }\n    },\n    {\n      \"column\": \"SleepTime\",\n      \"properties\": {\n        \"dtype\": \"number\",\n        \"std\": 1.12087297065771,\n        \"min\": -2.852761242733069,\n        \"max\": 1.3265228694964377,\n        \"num_unique_values\": 6,\n        \"samples\": [\n          -0.7631191866183155\n        ],\n        \"semantic_type\": \"\",\n        \"description\": \"\"\n      }\n    },\n    {\n      \"column\": \"Asthma\",\n      \"properties\": {\n        \"dtype\": \"number\",\n        \"std\": 0.6549277442376882,\n        \"min\": -2.534346945906668,\n        \"max\": 0.3945789670254669,\n        \"num_unique_values\": 2,\n        \"samples\": [\n          -2.534346945906668\n        ],\n        \"semantic_type\": \"\",\n        \"description\": \"\"\n      }\n    },\n    {\n      \"column\": \"KidneyDisease\",\n      \"properties\": {\n        \"dtype\": \"number\",\n        \"std\": 2.8476619731297836e-17,\n        \"min\": 0.19607983213697508,\n        \"max\": 0.19607983213697508,\n        \"num_unique_values\": 1,\n        \"samples\": [\n          0.19607983213697508\n        ],\n        \"semantic_type\": \"\",\n        \"description\": \"\"\n      }\n    },\n    {\n      \"column\": \"SkinCancer\",\n      \"properties\": {\n        \"dtype\": \"number\",\n        \"std\": 5.695323946259567e-17,\n        \"min\": 0.3191376709109729,\n        \"max\": 0.3191376709109729,\n        \"num_unique_values\": 1,\n        \"samples\": [\n          0.3191376709109729\n        ],\n        \"semantic_type\": \"\",\n        \"description\": \"\"\n      }\n    },\n    {\n      \"column\": \"HertDisease_real\",\n      \"properties\": {\n        \"dtype\": \"category\",\n        \"num_unique_values\": 2,\n        \"samples\": [\n          \"Yes\"\n        ],\n        \"semantic_type\": \"\",\n        \"description\": \"\"\n      }\n    },\n    {\n      \"column\": \"HertDisease_prediccion\",\n      \"properties\": {\n        \"dtype\": \"category\",\n        \"num_unique_values\": 1,\n        \"samples\": [\n          \"No\"\n        ],\n        \"semantic_type\": \"\",\n        \"description\": \"\"\n      }\n    }\n  ]\n}"
                  }
                },
                "metadata": {}
              },
              {
                "output_type": "display_data",
                "data": {
                  "text/plain": "<IPython.core.display.HTML object>",
                  "text/html": "<h2> Últimos registros. Predicciones de 159898 registros</h2>"
                },
                "metadata": {}
              },
              {
                "output_type": "display_data",
                "data": {
                  "text/plain": "             BMI   Smoking  AlcoholDrinking    Stroke  PhysicalHealth  \\\n159878 -0.721101 -1.188862         0.269900  0.199223       -0.425321   \n159879 -0.403259  0.841140         0.269900  0.199223       -0.425321   \n159880  0.657263  0.841140         0.269900  0.199223       -0.425321   \n159881  0.452711  0.841140         0.269900  0.199223       -0.425321   \n159882  0.149031  0.841140         0.269900  0.199223       -0.425321   \n159883 -0.857994  0.841140        -3.705071  0.199223       -0.425321   \n159884 -0.455184  0.841140         0.269900  0.199223       -0.425321   \n159885  0.540826 -1.188862         0.269900  0.199223       -0.425321   \n159886  0.526665  0.841140         0.269900  0.199223       -0.425321   \n159887  0.136443  0.841140        -3.705071  0.199223       -0.425321   \n159888 -0.527564  0.841140         0.269900  0.199223       -0.425321   \n159889 -0.264793  0.841140         0.269900  0.199223       -0.425321   \n159890  1.357460 -1.188862         0.269900  0.199223       -0.425321   \n159891 -0.164091  0.841140         0.269900  0.199223        3.336382   \n159892  0.520371 -1.188862         0.269900  0.199223       -0.425321   \n159893  2.787749  0.841140         0.269900  0.199223       -0.425321   \n159894 -0.906771  0.841140         0.269900  0.199223       -0.425321   \n159895 -0.551166 -1.188862         0.269900  0.199223       -0.425321   \n159896 -0.721101 -1.188862         0.269900  0.199223       -0.425321   \n159897 -1.577072  0.841140         0.269900  0.199223       -0.425321   \n\n        MentalHealth  DiffWalking       Sex  AgeCategory      Race  Diabetic  \\\n159878     -0.490255     0.401001  1.051395     1.257029 -0.469961  0.214339   \n159879      0.769895     0.401001 -0.951117    -0.704449 -0.469961  0.214339   \n159880     -0.490255     0.401001 -0.951117     0.696607 -0.469961 -2.188029   \n159881     -0.490255     0.401001  1.051395     0.976818 -0.469961  0.214339   \n159882     -0.490255     0.401001 -0.951117     1.537240  0.166055  0.214339   \n159883      1.399970     0.401001 -0.951117    -0.984660 -0.469961  0.214339   \n159884      0.391850     0.401001  1.051395    -1.264871 -0.469961  0.214339   \n159885      0.769895     0.401001 -0.951117    -0.424238 -0.469961  0.214339   \n159886     -0.490255     0.401001  1.051395     1.257029 -0.469961  0.214339   \n159887     -0.490255     0.401001 -0.951117     1.257029 -0.469961  2.616708   \n159888     -0.490255    -2.493757  1.051395     1.537240 -0.469961  0.214339   \n159889      0.013805     0.401001  1.051395     1.537240 -0.469961  0.214339   \n159890     -0.490255     0.401001  1.051395     0.696607 -0.469961 -2.188029   \n159891     -0.490255    -2.493757 -0.951117     1.537240  2.710120  0.214339   \n159892     -0.490255     0.401001 -0.951117     0.976818 -0.469961  0.214339   \n159893     -0.490255     0.401001  1.051395     0.696607 -0.469961  0.214339   \n159894     -0.490255     0.401001 -0.951117     1.257029 -0.469961  0.214339   \n159895     -0.238225     0.401001 -0.951117    -0.144027 -0.469961  2.616708   \n159896     -0.490255     0.401001 -0.951117    -1.264871  1.438087  2.616708   \n159897     -0.364240     0.401001 -0.951117    -0.984660 -0.469961  5.019076   \n\n        PhysicalActivity  GenHealth  SleepTime    Asthma  KidneyDisease  \\\n159878         -0.537126  -1.103881  -0.763119  0.394579        0.19608   \n159879         -0.537126   0.051664  -0.066572  0.394579        0.19608   \n159880         -0.537126  -1.103881   0.629976  0.394579        0.19608   \n159881         -0.537126   0.051664   0.629976  0.394579        0.19608   \n159882          1.861759  -1.103881   0.629976  0.394579        0.19608   \n159883         -0.537126   1.207210  -1.459667  0.394579        0.19608   \n159884         -0.537126   0.051664   0.629976  0.394579        0.19608   \n159885         -0.537126  -1.103881  -0.763119  0.394579        0.19608   \n159886         -0.537126   1.207210  -0.763119  0.394579        0.19608   \n159887         -0.537126  -1.103881  -0.066572  0.394579        0.19608   \n159888          1.861759  -2.259427   3.416165  0.394579        0.19608   \n159889         -0.537126   0.051664  -0.066572 -2.534347        0.19608   \n159890         -0.537126  -1.103881  -0.763119 -2.534347        0.19608   \n159891          1.861759  -2.259427  -2.852761 -2.534347        0.19608   \n159892         -0.537126   1.207210   0.629976  0.394579        0.19608   \n159893         -0.537126   0.051664   0.629976  0.394579        0.19608   \n159894         -0.537126   0.051664  -0.066572  0.394579        0.19608   \n159895         -0.537126   0.051664   1.326523  0.394579        0.19608   \n159896         -0.537126   1.207210  -0.066572  0.394579        0.19608   \n159897         -0.537126   0.051664  -0.066572  0.394579        0.19608   \n\n        SkinCancer HertDisease_real HertDisease_prediccion  \n159878    0.319138              NaN                     No  \n159879    0.319138               No                     No  \n159880    0.319138               No                     No  \n159881    0.319138              NaN                     No  \n159882    0.319138               No                     No  \n159883    0.319138              NaN                     No  \n159884    0.319138               No                     No  \n159885    0.319138              NaN                     No  \n159886   -3.133444              NaN                     No  \n159887    0.319138               No                     No  \n159888   -3.133444               No                     No  \n159889    0.319138               No                     No  \n159890    0.319138               No                     No  \n159891    0.319138              NaN                     No  \n159892    0.319138               No                     No  \n159893    0.319138              NaN                     No  \n159894    0.319138               No                     No  \n159895    0.319138               No                     No  \n159896    0.319138              NaN                     No  \n159897    0.319138              NaN                     No  ",
                  "text/html": "\n  <div id=\"df-bfa7b823-2a10-4d3c-8b94-1ca757a2193e\" class=\"colab-df-container\">\n    <div>\n<style scoped>\n    .dataframe tbody tr th:only-of-type {\n        vertical-align: middle;\n    }\n\n    .dataframe tbody tr th {\n        vertical-align: top;\n    }\n\n    .dataframe thead th {\n        text-align: right;\n    }\n</style>\n<table border=\"1\" class=\"dataframe\">\n  <thead>\n    <tr style=\"text-align: right;\">\n      <th></th>\n      <th>BMI</th>\n      <th>Smoking</th>\n      <th>AlcoholDrinking</th>\n      <th>Stroke</th>\n      <th>PhysicalHealth</th>\n      <th>MentalHealth</th>\n      <th>DiffWalking</th>\n      <th>Sex</th>\n      <th>AgeCategory</th>\n      <th>Race</th>\n      <th>Diabetic</th>\n      <th>PhysicalActivity</th>\n      <th>GenHealth</th>\n      <th>SleepTime</th>\n      <th>Asthma</th>\n      <th>KidneyDisease</th>\n      <th>SkinCancer</th>\n      <th>HertDisease_real</th>\n      <th>HertDisease_prediccion</th>\n    </tr>\n  </thead>\n  <tbody>\n    <tr>\n      <th>159878</th>\n      <td>-0.721101</td>\n      <td>-1.188862</td>\n      <td>0.269900</td>\n      <td>0.199223</td>\n      <td>-0.425321</td>\n      <td>-0.490255</td>\n      <td>0.401001</td>\n      <td>1.051395</td>\n      <td>1.257029</td>\n      <td>-0.469961</td>\n      <td>0.214339</td>\n      <td>-0.537126</td>\n      <td>-1.103881</td>\n      <td>-0.763119</td>\n      <td>0.394579</td>\n      <td>0.19608</td>\n      <td>0.319138</td>\n      <td>NaN</td>\n      <td>No</td>\n    </tr>\n    <tr>\n      <th>159879</th>\n      <td>-0.403259</td>\n      <td>0.841140</td>\n      <td>0.269900</td>\n      <td>0.199223</td>\n      <td>-0.425321</td>\n      <td>0.769895</td>\n      <td>0.401001</td>\n      <td>-0.951117</td>\n      <td>-0.704449</td>\n      <td>-0.469961</td>\n      <td>0.214339</td>\n      <td>-0.537126</td>\n      <td>0.051664</td>\n      <td>-0.066572</td>\n      <td>0.394579</td>\n      <td>0.19608</td>\n      <td>0.319138</td>\n      <td>No</td>\n      <td>No</td>\n    </tr>\n    <tr>\n      <th>159880</th>\n      <td>0.657263</td>\n      <td>0.841140</td>\n      <td>0.269900</td>\n      <td>0.199223</td>\n      <td>-0.425321</td>\n      <td>-0.490255</td>\n      <td>0.401001</td>\n      <td>-0.951117</td>\n      <td>0.696607</td>\n      <td>-0.469961</td>\n      <td>-2.188029</td>\n      <td>-0.537126</td>\n      <td>-1.103881</td>\n      <td>0.629976</td>\n      <td>0.394579</td>\n      <td>0.19608</td>\n      <td>0.319138</td>\n      <td>No</td>\n      <td>No</td>\n    </tr>\n    <tr>\n      <th>159881</th>\n      <td>0.452711</td>\n      <td>0.841140</td>\n      <td>0.269900</td>\n      <td>0.199223</td>\n      <td>-0.425321</td>\n      <td>-0.490255</td>\n      <td>0.401001</td>\n      <td>1.051395</td>\n      <td>0.976818</td>\n      <td>-0.469961</td>\n      <td>0.214339</td>\n      <td>-0.537126</td>\n      <td>0.051664</td>\n      <td>0.629976</td>\n      <td>0.394579</td>\n      <td>0.19608</td>\n      <td>0.319138</td>\n      <td>NaN</td>\n      <td>No</td>\n    </tr>\n    <tr>\n      <th>159882</th>\n      <td>0.149031</td>\n      <td>0.841140</td>\n      <td>0.269900</td>\n      <td>0.199223</td>\n      <td>-0.425321</td>\n      <td>-0.490255</td>\n      <td>0.401001</td>\n      <td>-0.951117</td>\n      <td>1.537240</td>\n      <td>0.166055</td>\n      <td>0.214339</td>\n      <td>1.861759</td>\n      <td>-1.103881</td>\n      <td>0.629976</td>\n      <td>0.394579</td>\n      <td>0.19608</td>\n      <td>0.319138</td>\n      <td>No</td>\n      <td>No</td>\n    </tr>\n    <tr>\n      <th>159883</th>\n      <td>-0.857994</td>\n      <td>0.841140</td>\n      <td>-3.705071</td>\n      <td>0.199223</td>\n      <td>-0.425321</td>\n      <td>1.399970</td>\n      <td>0.401001</td>\n      <td>-0.951117</td>\n      <td>-0.984660</td>\n      <td>-0.469961</td>\n      <td>0.214339</td>\n      <td>-0.537126</td>\n      <td>1.207210</td>\n      <td>-1.459667</td>\n      <td>0.394579</td>\n      <td>0.19608</td>\n      <td>0.319138</td>\n      <td>NaN</td>\n      <td>No</td>\n    </tr>\n    <tr>\n      <th>159884</th>\n      <td>-0.455184</td>\n      <td>0.841140</td>\n      <td>0.269900</td>\n      <td>0.199223</td>\n      <td>-0.425321</td>\n      <td>0.391850</td>\n      <td>0.401001</td>\n      <td>1.051395</td>\n      <td>-1.264871</td>\n      <td>-0.469961</td>\n      <td>0.214339</td>\n      <td>-0.537126</td>\n      <td>0.051664</td>\n      <td>0.629976</td>\n      <td>0.394579</td>\n      <td>0.19608</td>\n      <td>0.319138</td>\n      <td>No</td>\n      <td>No</td>\n    </tr>\n    <tr>\n      <th>159885</th>\n      <td>0.540826</td>\n      <td>-1.188862</td>\n      <td>0.269900</td>\n      <td>0.199223</td>\n      <td>-0.425321</td>\n      <td>0.769895</td>\n      <td>0.401001</td>\n      <td>-0.951117</td>\n      <td>-0.424238</td>\n      <td>-0.469961</td>\n      <td>0.214339</td>\n      <td>-0.537126</td>\n      <td>-1.103881</td>\n      <td>-0.763119</td>\n      <td>0.394579</td>\n      <td>0.19608</td>\n      <td>0.319138</td>\n      <td>NaN</td>\n      <td>No</td>\n    </tr>\n    <tr>\n      <th>159886</th>\n      <td>0.526665</td>\n      <td>0.841140</td>\n      <td>0.269900</td>\n      <td>0.199223</td>\n      <td>-0.425321</td>\n      <td>-0.490255</td>\n      <td>0.401001</td>\n      <td>1.051395</td>\n      <td>1.257029</td>\n      <td>-0.469961</td>\n      <td>0.214339</td>\n      <td>-0.537126</td>\n      <td>1.207210</td>\n      <td>-0.763119</td>\n      <td>0.394579</td>\n      <td>0.19608</td>\n      <td>-3.133444</td>\n      <td>NaN</td>\n      <td>No</td>\n    </tr>\n    <tr>\n      <th>159887</th>\n      <td>0.136443</td>\n      <td>0.841140</td>\n      <td>-3.705071</td>\n      <td>0.199223</td>\n      <td>-0.425321</td>\n      <td>-0.490255</td>\n      <td>0.401001</td>\n      <td>-0.951117</td>\n      <td>1.257029</td>\n      <td>-0.469961</td>\n      <td>2.616708</td>\n      <td>-0.537126</td>\n      <td>-1.103881</td>\n      <td>-0.066572</td>\n      <td>0.394579</td>\n      <td>0.19608</td>\n      <td>0.319138</td>\n      <td>No</td>\n      <td>No</td>\n    </tr>\n    <tr>\n      <th>159888</th>\n      <td>-0.527564</td>\n      <td>0.841140</td>\n      <td>0.269900</td>\n      <td>0.199223</td>\n      <td>-0.425321</td>\n      <td>-0.490255</td>\n      <td>-2.493757</td>\n      <td>1.051395</td>\n      <td>1.537240</td>\n      <td>-0.469961</td>\n      <td>0.214339</td>\n      <td>1.861759</td>\n      <td>-2.259427</td>\n      <td>3.416165</td>\n      <td>0.394579</td>\n      <td>0.19608</td>\n      <td>-3.133444</td>\n      <td>No</td>\n      <td>No</td>\n    </tr>\n    <tr>\n      <th>159889</th>\n      <td>-0.264793</td>\n      <td>0.841140</td>\n      <td>0.269900</td>\n      <td>0.199223</td>\n      <td>-0.425321</td>\n      <td>0.013805</td>\n      <td>0.401001</td>\n      <td>1.051395</td>\n      <td>1.537240</td>\n      <td>-0.469961</td>\n      <td>0.214339</td>\n      <td>-0.537126</td>\n      <td>0.051664</td>\n      <td>-0.066572</td>\n      <td>-2.534347</td>\n      <td>0.19608</td>\n      <td>0.319138</td>\n      <td>No</td>\n      <td>No</td>\n    </tr>\n    <tr>\n      <th>159890</th>\n      <td>1.357460</td>\n      <td>-1.188862</td>\n      <td>0.269900</td>\n      <td>0.199223</td>\n      <td>-0.425321</td>\n      <td>-0.490255</td>\n      <td>0.401001</td>\n      <td>1.051395</td>\n      <td>0.696607</td>\n      <td>-0.469961</td>\n      <td>-2.188029</td>\n      <td>-0.537126</td>\n      <td>-1.103881</td>\n      <td>-0.763119</td>\n      <td>-2.534347</td>\n      <td>0.19608</td>\n      <td>0.319138</td>\n      <td>No</td>\n      <td>No</td>\n    </tr>\n    <tr>\n      <th>159891</th>\n      <td>-0.164091</td>\n      <td>0.841140</td>\n      <td>0.269900</td>\n      <td>0.199223</td>\n      <td>3.336382</td>\n      <td>-0.490255</td>\n      <td>-2.493757</td>\n      <td>-0.951117</td>\n      <td>1.537240</td>\n      <td>2.710120</td>\n      <td>0.214339</td>\n      <td>1.861759</td>\n      <td>-2.259427</td>\n      <td>-2.852761</td>\n      <td>-2.534347</td>\n      <td>0.19608</td>\n      <td>0.319138</td>\n      <td>NaN</td>\n      <td>No</td>\n    </tr>\n    <tr>\n      <th>159892</th>\n      <td>0.520371</td>\n      <td>-1.188862</td>\n      <td>0.269900</td>\n      <td>0.199223</td>\n      <td>-0.425321</td>\n      <td>-0.490255</td>\n      <td>0.401001</td>\n      <td>-0.951117</td>\n      <td>0.976818</td>\n      <td>-0.469961</td>\n      <td>0.214339</td>\n      <td>-0.537126</td>\n      <td>1.207210</td>\n      <td>0.629976</td>\n      <td>0.394579</td>\n      <td>0.19608</td>\n      <td>0.319138</td>\n      <td>No</td>\n      <td>No</td>\n    </tr>\n    <tr>\n      <th>159893</th>\n      <td>2.787749</td>\n      <td>0.841140</td>\n      <td>0.269900</td>\n      <td>0.199223</td>\n      <td>-0.425321</td>\n      <td>-0.490255</td>\n      <td>0.401001</td>\n      <td>1.051395</td>\n      <td>0.696607</td>\n      <td>-0.469961</td>\n      <td>0.214339</td>\n      <td>-0.537126</td>\n      <td>0.051664</td>\n      <td>0.629976</td>\n      <td>0.394579</td>\n      <td>0.19608</td>\n      <td>0.319138</td>\n      <td>NaN</td>\n      <td>No</td>\n    </tr>\n    <tr>\n      <th>159894</th>\n      <td>-0.906771</td>\n      <td>0.841140</td>\n      <td>0.269900</td>\n      <td>0.199223</td>\n      <td>-0.425321</td>\n      <td>-0.490255</td>\n      <td>0.401001</td>\n      <td>-0.951117</td>\n      <td>1.257029</td>\n      <td>-0.469961</td>\n      <td>0.214339</td>\n      <td>-0.537126</td>\n      <td>0.051664</td>\n      <td>-0.066572</td>\n      <td>0.394579</td>\n      <td>0.19608</td>\n      <td>0.319138</td>\n      <td>No</td>\n      <td>No</td>\n    </tr>\n    <tr>\n      <th>159895</th>\n      <td>-0.551166</td>\n      <td>-1.188862</td>\n      <td>0.269900</td>\n      <td>0.199223</td>\n      <td>-0.425321</td>\n      <td>-0.238225</td>\n      <td>0.401001</td>\n      <td>-0.951117</td>\n      <td>-0.144027</td>\n      <td>-0.469961</td>\n      <td>2.616708</td>\n      <td>-0.537126</td>\n      <td>0.051664</td>\n      <td>1.326523</td>\n      <td>0.394579</td>\n      <td>0.19608</td>\n      <td>0.319138</td>\n      <td>No</td>\n      <td>No</td>\n    </tr>\n    <tr>\n      <th>159896</th>\n      <td>-0.721101</td>\n      <td>-1.188862</td>\n      <td>0.269900</td>\n      <td>0.199223</td>\n      <td>-0.425321</td>\n      <td>-0.490255</td>\n      <td>0.401001</td>\n      <td>-0.951117</td>\n      <td>-1.264871</td>\n      <td>1.438087</td>\n      <td>2.616708</td>\n      <td>-0.537126</td>\n      <td>1.207210</td>\n      <td>-0.066572</td>\n      <td>0.394579</td>\n      <td>0.19608</td>\n      <td>0.319138</td>\n      <td>NaN</td>\n      <td>No</td>\n    </tr>\n    <tr>\n      <th>159897</th>\n      <td>-1.577072</td>\n      <td>0.841140</td>\n      <td>0.269900</td>\n      <td>0.199223</td>\n      <td>-0.425321</td>\n      <td>-0.364240</td>\n      <td>0.401001</td>\n      <td>-0.951117</td>\n      <td>-0.984660</td>\n      <td>-0.469961</td>\n      <td>5.019076</td>\n      <td>-0.537126</td>\n      <td>0.051664</td>\n      <td>-0.066572</td>\n      <td>0.394579</td>\n      <td>0.19608</td>\n      <td>0.319138</td>\n      <td>NaN</td>\n      <td>No</td>\n    </tr>\n  </tbody>\n</table>\n</div>\n    <div class=\"colab-df-buttons\">\n\n  <div class=\"colab-df-container\">\n    <button class=\"colab-df-convert\" onclick=\"convertToInteractive('df-bfa7b823-2a10-4d3c-8b94-1ca757a2193e')\"\n            title=\"Convert this dataframe to an interactive table.\"\n            style=\"display:none;\">\n\n  <svg xmlns=\"http://www.w3.org/2000/svg\" height=\"24px\" viewBox=\"0 -960 960 960\">\n    <path d=\"M120-120v-720h720v720H120Zm60-500h600v-160H180v160Zm220 220h160v-160H400v160Zm0 220h160v-160H400v160ZM180-400h160v-160H180v160Zm440 0h160v-160H620v160ZM180-180h160v-160H180v160Zm440 0h160v-160H620v160Z\"/>\n  </svg>\n    </button>\n\n  <style>\n    .colab-df-container {\n      display:flex;\n      gap: 12px;\n    }\n\n    .colab-df-convert {\n      background-color: #E8F0FE;\n      border: none;\n      border-radius: 50%;\n      cursor: pointer;\n      display: none;\n      fill: #1967D2;\n      height: 32px;\n      padding: 0 0 0 0;\n      width: 32px;\n    }\n\n    .colab-df-convert:hover {\n      background-color: #E2EBFA;\n      box-shadow: 0px 1px 2px rgba(60, 64, 67, 0.3), 0px 1px 3px 1px rgba(60, 64, 67, 0.15);\n      fill: #174EA6;\n    }\n\n    .colab-df-buttons div {\n      margin-bottom: 4px;\n    }\n\n    [theme=dark] .colab-df-convert {\n      background-color: #3B4455;\n      fill: #D2E3FC;\n    }\n\n    [theme=dark] .colab-df-convert:hover {\n      background-color: #434B5C;\n      box-shadow: 0px 1px 3px 1px rgba(0, 0, 0, 0.15);\n      filter: drop-shadow(0px 1px 2px rgba(0, 0, 0, 0.3));\n      fill: #FFFFFF;\n    }\n  </style>\n\n    <script>\n      const buttonEl =\n        document.querySelector('#df-bfa7b823-2a10-4d3c-8b94-1ca757a2193e button.colab-df-convert');\n      buttonEl.style.display =\n        google.colab.kernel.accessAllowed ? 'block' : 'none';\n\n      async function convertToInteractive(key) {\n        const element = document.querySelector('#df-bfa7b823-2a10-4d3c-8b94-1ca757a2193e');\n        const dataTable =\n          await google.colab.kernel.invokeFunction('convertToInteractive',\n                                                    [key], {});\n        if (!dataTable) return;\n\n        const docLinkHtml = 'Like what you see? Visit the ' +\n          '<a target=\"_blank\" href=https://colab.research.google.com/notebooks/data_table.ipynb>data table notebook</a>'\n          + ' to learn more about interactive tables.';\n        element.innerHTML = '';\n        dataTable['output_type'] = 'display_data';\n        await google.colab.output.renderOutput(dataTable, element);\n        const docLink = document.createElement('div');\n        docLink.innerHTML = docLinkHtml;\n        element.appendChild(docLink);\n      }\n    </script>\n  </div>\n\n\n<div id=\"df-f5ce8a45-9674-4aeb-b526-af9964e5f975\">\n  <button class=\"colab-df-quickchart\" onclick=\"quickchart('df-f5ce8a45-9674-4aeb-b526-af9964e5f975')\"\n            title=\"Suggest charts\"\n            style=\"display:none;\">\n\n<svg xmlns=\"http://www.w3.org/2000/svg\" height=\"24px\"viewBox=\"0 0 24 24\"\n     width=\"24px\">\n    <g>\n        <path d=\"M19 3H5c-1.1 0-2 .9-2 2v14c0 1.1.9 2 2 2h14c1.1 0 2-.9 2-2V5c0-1.1-.9-2-2-2zM9 17H7v-7h2v7zm4 0h-2V7h2v10zm4 0h-2v-4h2v4z\"/>\n    </g>\n</svg>\n  </button>\n\n<style>\n  .colab-df-quickchart {\n      --bg-color: #E8F0FE;\n      --fill-color: #1967D2;\n      --hover-bg-color: #E2EBFA;\n      --hover-fill-color: #174EA6;\n      --disabled-fill-color: #AAA;\n      --disabled-bg-color: #DDD;\n  }\n\n  [theme=dark] .colab-df-quickchart {\n      --bg-color: #3B4455;\n      --fill-color: #D2E3FC;\n      --hover-bg-color: #434B5C;\n      --hover-fill-color: #FFFFFF;\n      --disabled-bg-color: #3B4455;\n      --disabled-fill-color: #666;\n  }\n\n  .colab-df-quickchart {\n    background-color: var(--bg-color);\n    border: none;\n    border-radius: 50%;\n    cursor: pointer;\n    display: none;\n    fill: var(--fill-color);\n    height: 32px;\n    padding: 0;\n    width: 32px;\n  }\n\n  .colab-df-quickchart:hover {\n    background-color: var(--hover-bg-color);\n    box-shadow: 0 1px 2px rgba(60, 64, 67, 0.3), 0 1px 3px 1px rgba(60, 64, 67, 0.15);\n    fill: var(--button-hover-fill-color);\n  }\n\n  .colab-df-quickchart-complete:disabled,\n  .colab-df-quickchart-complete:disabled:hover {\n    background-color: var(--disabled-bg-color);\n    fill: var(--disabled-fill-color);\n    box-shadow: none;\n  }\n\n  .colab-df-spinner {\n    border: 2px solid var(--fill-color);\n    border-color: transparent;\n    border-bottom-color: var(--fill-color);\n    animation:\n      spin 1s steps(1) infinite;\n  }\n\n  @keyframes spin {\n    0% {\n      border-color: transparent;\n      border-bottom-color: var(--fill-color);\n      border-left-color: var(--fill-color);\n    }\n    20% {\n      border-color: transparent;\n      border-left-color: var(--fill-color);\n      border-top-color: var(--fill-color);\n    }\n    30% {\n      border-color: transparent;\n      border-left-color: var(--fill-color);\n      border-top-color: var(--fill-color);\n      border-right-color: var(--fill-color);\n    }\n    40% {\n      border-color: transparent;\n      border-right-color: var(--fill-color);\n      border-top-color: var(--fill-color);\n    }\n    60% {\n      border-color: transparent;\n      border-right-color: var(--fill-color);\n    }\n    80% {\n      border-color: transparent;\n      border-right-color: var(--fill-color);\n      border-bottom-color: var(--fill-color);\n    }\n    90% {\n      border-color: transparent;\n      border-bottom-color: var(--fill-color);\n    }\n  }\n</style>\n\n  <script>\n    async function quickchart(key) {\n      const quickchartButtonEl =\n        document.querySelector('#' + key + ' button');\n      quickchartButtonEl.disabled = true;  // To prevent multiple clicks.\n      quickchartButtonEl.classList.add('colab-df-spinner');\n      try {\n        const charts = await google.colab.kernel.invokeFunction(\n            'suggestCharts', [key], {});\n      } catch (error) {\n        console.error('Error during call to suggestCharts:', error);\n      }\n      quickchartButtonEl.classList.remove('colab-df-spinner');\n      quickchartButtonEl.classList.add('colab-df-quickchart-complete');\n    }\n    (() => {\n      let quickchartButtonEl =\n        document.querySelector('#df-f5ce8a45-9674-4aeb-b526-af9964e5f975 button');\n      quickchartButtonEl.style.display =\n        google.colab.kernel.accessAllowed ? 'block' : 'none';\n    })();\n  </script>\n</div>\n    </div>\n  </div>\n",
                  "application/vnd.google.colaboratory.intrinsic+json": {
                    "type": "dataframe",
                    "summary": "{\n  \"name\": \"display(visualizar)\",\n  \"rows\": 20,\n  \"fields\": [\n    {\n      \"column\": \"BMI\",\n      \"properties\": {\n        \"dtype\": \"number\",\n        \"std\": 0.953307622559357,\n        \"min\": -1.5770716972694696,\n        \"max\": 2.7877485097500094,\n        \"num_unique_values\": 19,\n        \"samples\": [\n          -0.7211011880342147,\n          -0.8579935305038237,\n          -0.2647933798021858\n        ],\n        \"semantic_type\": \"\",\n        \"description\": \"\"\n      }\n    },\n    {\n      \"column\": \"Smoking\",\n      \"properties\": {\n        \"dtype\": \"number\",\n        \"std\": 0.9544308077146035,\n        \"min\": -1.1888624429648411,\n        \"max\": 0.8411402058476614,\n        \"num_unique_values\": 2,\n        \"samples\": [\n          0.8411402058476614,\n          -1.1888624429648411\n        ],\n        \"semantic_type\": \"\",\n        \"description\": \"\"\n      }\n    },\n    {\n      \"column\": \"AlcoholDrinking\",\n      \"properties\": {\n        \"dtype\": \"number\",\n        \"std\": 1.2234702902736214,\n        \"min\": -3.7050707208767264,\n        \"max\": 0.2699003812168451,\n        \"num_unique_values\": 2,\n        \"samples\": [\n          -3.7050707208767264,\n          0.2699003812168451\n        ],\n        \"semantic_type\": \"\",\n        \"description\": \"\"\n      }\n    },\n    {\n      \"column\": \"Stroke\",\n      \"properties\": {\n        \"dtype\": \"number\",\n        \"std\": 0.0,\n        \"min\": 0.19922277178016265,\n        \"max\": 0.19922277178016265,\n        \"num_unique_values\": 1,\n        \"samples\": [\n          0.19922277178016265\n        ],\n        \"semantic_type\": \"\",\n        \"description\": \"\"\n      }\n    },\n    {\n      \"column\": \"PhysicalHealth\",\n      \"properties\": {\n        \"dtype\": \"number\",\n        \"std\": 0.8411424561337714,\n        \"min\": -0.42532120911839294,\n        \"max\": 3.3363822122341023,\n        \"num_unique_values\": 2,\n        \"samples\": [\n          3.3363822122341023\n        ],\n        \"semantic_type\": \"\",\n        \"description\": \"\"\n      }\n    },\n    {\n      \"column\": \"MentalHealth\",\n      \"properties\": {\n        \"dtype\": \"number\",\n        \"std\": 0.5597991156519659,\n        \"min\": -0.4902549300537957,\n        \"max\": 1.3999704433556328,\n        \"num_unique_values\": 7,\n        \"samples\": [\n          -0.4902549300537957\n        ],\n        \"semantic_type\": \"\",\n        \"description\": \"\"\n      }\n    },\n    {\n      \"column\": \"DiffWalking\",\n      \"properties\": {\n        \"dtype\": \"number\",\n        \"std\": 0.890987944375484,\n        \"min\": -2.4937574431170293,\n        \"max\": 0.4010013093936142,\n        \"num_unique_values\": 2,\n        \"samples\": [\n          -2.4937574431170293\n        ],\n        \"semantic_type\": \"\",\n        \"description\": \"\"\n      }\n    },\n    {\n      \"column\": \"Sex\",\n      \"properties\": {\n        \"dtype\": \"number\",\n        \"std\": 1.0065121391643816,\n        \"min\": -0.9511172750495365,\n        \"max\": 1.0513950553026359,\n        \"num_unique_values\": 2,\n        \"samples\": [\n          -0.9511172750495365\n        ],\n        \"semantic_type\": \"\",\n        \"description\": \"\"\n      }\n    },\n    {\n      \"column\": \"AgeCategory\",\n      \"properties\": {\n        \"dtype\": \"number\",\n        \"std\": 1.0389510832879973,\n        \"min\": -1.2648709913858815,\n        \"max\": 1.537239875861045,\n        \"num_unique_values\": 9,\n        \"samples\": [\n          -0.42423773121180364\n        ],\n        \"semantic_type\": \"\",\n        \"description\": \"\"\n      }\n    },\n    {\n      \"column\": \"Race\",\n      \"properties\": {\n        \"dtype\": \"number\",\n        \"std\": 0.8117486753052748,\n        \"min\": -0.4699606250920419,\n        \"max\": 2.710119530233486,\n        \"num_unique_values\": 4,\n        \"samples\": [\n          0.1660554059730637\n        ],\n        \"semantic_type\": \"\",\n        \"description\": \"\"\n      }\n    },\n    {\n      \"column\": \"Diabetic\",\n      \"properties\": {\n        \"dtype\": \"number\",\n        \"std\": 1.6115577044721803,\n        \"min\": -2.1880292326567767,\n        \"max\": 5.019075921069846,\n        \"num_unique_values\": 4,\n        \"samples\": [\n          -2.1880292326567767\n        ],\n        \"semantic_type\": \"\",\n        \"description\": \"\"\n      }\n    },\n    {\n      \"column\": \"PhysicalActivity\",\n      \"properties\": {\n        \"dtype\": \"number\",\n        \"std\": 0.8788258431393826,\n        \"min\": -0.5371264046459373,\n        \"max\": 1.8617591526880517,\n        \"num_unique_values\": 2,\n        \"samples\": [\n          1.8617591526880517\n        ],\n        \"semantic_type\": \"\",\n        \"description\": \"\"\n      }\n    },\n    {\n      \"column\": \"GenHealth\",\n      \"properties\": {\n        \"dtype\": \"number\",\n        \"std\": 1.0670084931435386,\n        \"min\": -2.25942714210891,\n        \"max\": 1.2072103068359485,\n        \"num_unique_values\": 4,\n        \"samples\": [\n          0.051664490520995594\n        ],\n        \"semantic_type\": \"\",\n        \"description\": \"\"\n      }\n    },\n    {\n      \"column\": \"SleepTime\",\n      \"properties\": {\n        \"dtype\": \"number\",\n        \"std\": 1.2227489394183282,\n        \"min\": -2.852761242733069,\n        \"max\": 3.416164925611191,\n        \"num_unique_values\": 7,\n        \"samples\": [\n          -0.7631191866183155\n        ],\n        \"semantic_type\": \"\",\n        \"description\": \"\"\n      }\n    },\n    {\n      \"column\": \"Asthma\",\n      \"properties\": {\n        \"dtype\": \"number\",\n        \"std\": 1.0730048280360704,\n        \"min\": -2.534346945906668,\n        \"max\": 0.3945789670254669,\n        \"num_unique_values\": 2,\n        \"samples\": [\n          -2.534346945906668\n        ],\n        \"semantic_type\": \"\",\n        \"description\": \"\"\n      }\n    },\n    {\n      \"column\": \"KidneyDisease\",\n      \"properties\": {\n        \"dtype\": \"number\",\n        \"std\": 2.8476619731297836e-17,\n        \"min\": 0.19607983213697508,\n        \"max\": 0.19607983213697508,\n        \"num_unique_values\": 1,\n        \"samples\": [\n          0.19607983213697508\n        ],\n        \"semantic_type\": \"\",\n        \"description\": \"\"\n      }\n    },\n    {\n      \"column\": \"SkinCancer\",\n      \"properties\": {\n        \"dtype\": \"number\",\n        \"std\": 1.062682196572356,\n        \"min\": -3.1334439370492304,\n        \"max\": 0.3191376709109729,\n        \"num_unique_values\": 2,\n        \"samples\": [\n          -3.1334439370492304\n        ],\n        \"semantic_type\": \"\",\n        \"description\": \"\"\n      }\n    },\n    {\n      \"column\": \"HertDisease_real\",\n      \"properties\": {\n        \"dtype\": \"category\",\n        \"num_unique_values\": 1,\n        \"samples\": [\n          \"No\"\n        ],\n        \"semantic_type\": \"\",\n        \"description\": \"\"\n      }\n    },\n    {\n      \"column\": \"HertDisease_prediccion\",\n      \"properties\": {\n        \"dtype\": \"category\",\n        \"num_unique_values\": 1,\n        \"samples\": [\n          \"No\"\n        ],\n        \"semantic_type\": \"\",\n        \"description\": \"\"\n      }\n    }\n  ]\n}"
                  }
                },
                "metadata": {}
              }
            ]
          }
        },
        "9c950ee01959462994d5302cf37c0370": {
          "model_module": "@jupyter-widgets/base",
          "model_name": "LayoutModel",
          "model_module_version": "1.2.0",
          "state": {
            "_model_module": "@jupyter-widgets/base",
            "_model_module_version": "1.2.0",
            "_model_name": "LayoutModel",
            "_view_count": null,
            "_view_module": "@jupyter-widgets/base",
            "_view_module_version": "1.2.0",
            "_view_name": "LayoutView",
            "align_content": null,
            "align_items": null,
            "align_self": null,
            "border": null,
            "bottom": null,
            "display": null,
            "flex": null,
            "flex_flow": null,
            "grid_area": null,
            "grid_auto_columns": null,
            "grid_auto_flow": null,
            "grid_auto_rows": null,
            "grid_column": null,
            "grid_gap": null,
            "grid_row": null,
            "grid_template_areas": null,
            "grid_template_columns": null,
            "grid_template_rows": null,
            "height": null,
            "justify_content": null,
            "justify_items": null,
            "left": null,
            "margin": null,
            "max_height": null,
            "max_width": null,
            "min_height": null,
            "min_width": null,
            "object_fit": null,
            "object_position": null,
            "order": null,
            "overflow": null,
            "overflow_x": null,
            "overflow_y": null,
            "padding": null,
            "right": null,
            "top": null,
            "visibility": null,
            "width": null
          }
        }
      }
    }
  },
  "cells": [
    {
      "cell_type": "markdown",
      "metadata": {
        "id": "view-in-github",
        "colab_type": "text"
      },
      "source": [
        "<a href=\"https://colab.research.google.com/github/rpizarrog/innovacion-empresarial/blob/main/notebook_python/Caso_16_Maq%C3%BAinas_de_soporte_vectorial_(SVM)_como_clasificador_para_Da%C3%B1os_al_Coraz%C3%B3n.ipynb\" target=\"_parent\"><img src=\"https://colab.research.google.com/assets/colab-badge.svg\" alt=\"Open In Colab\"/></a>"
      ]
    },
    {
      "cell_type": "markdown",
      "source": [
        "# Objetivo\n",
        "\n",
        "Construir, evaluar e interpretar el modelo *máquinas de soporte vectorial (SVM)* como algoritmo de clasificación para predicción de daños al corazón."
      ],
      "metadata": {
        "id": "dGLHmAgoiSGe"
      }
    },
    {
      "cell_type": "markdown",
      "source": [
        "# Fundamento teórico\n",
        "\n",
        "Por sus siglas en inglés: *Support Vector Machines (SVM)* son un conjunto de métodos de aprendizaje supervisado utilizados tanto para clasificación como para regresión. Sin embargo, su aplicación más común es en problemas de clasificación.\n",
        "\n",
        "La idea principal detrás de *SVM* es encontrar el hiperplano óptimo que mejor separa las clases en el espacio de características. Este hiperplano se define como el que maximiza el margen entre las clases, donde el margen es la distancia entre el hiperplano y los puntos de datos más cercanos de cada clase, que se denominan vectores de soporte.\n",
        "\n",
        "Aspectos claves de algoritmos SVM en el contexto de la clasificación:\n",
        "\n",
        "* Clasificación lineal: En su forma más simple, SVM busca un hiperplano lineal que pueda separar dos clases de datos. Si los datos no son linealmente separables en el espacio de características original, SVM puede mapear los datos a un espacio de características de mayor dimensión utilizando una función kernel para hacerlos separables.\n",
        "\n",
        "* Función de decisión: Una vez que se encuentra el hiperplano óptimo, la función de decisión de SVM clasifica nuevas muestras asignándolas a una clase según su posición con respecto al hiperplano.\n",
        "\n",
        "* Regularización: SVM utiliza la regularización para controlar la complejidad del modelo y evitar el sobreajuste. Esto se logra mediante la introducción de un parámetro de regularización (C) que controla el equilibrio entre maximizar el margen y minimizar el error de clasificación.\n",
        "\n",
        "* Kernel Trick: SVM permite el uso de funciones kernel, como el kernel lineal, polinomial, radial (RBF), entre otros. Esto permite la clasificación no lineal al mapear los datos a un espacio de características de mayor dimensión donde las clases son linealmente separables.\n",
        "\n",
        "* Clasificación multiclase: SVM puede manejar problemas de clasificación multiclase utilizando estrategias como la clasificación uno contra todos (one-vs-rest) o la clasificación uno contra uno (one-vs-one).\n",
        "\n",
        "* Robustez: SVM es robusto frente a datos de alta dimensionalidad y a la presencia de ruido en los datos.\n",
        "\n",
        "[Chat Gpt 2024].\n",
        "\n",
        "Los algoritmos de *SVM* son poderosos métodos de aprendizaje supervisado utilizados para la clasificación, que buscan encontrar el hiperplano óptimo que mejor separa las clases en el espacio de características, utilizando técnicas como el kernel trick para manejar problemas no lineales."
      ],
      "metadata": {
        "id": "AJzn2t-tjDQb"
      }
    },
    {
      "cell_type": "markdown",
      "source": [
        "# Descripción\n",
        "\n",
        "Se cargan librerías y se descargan los datos:\n",
        "\n",
        "Los datos están relacionados con aspectos médicos y son valores numéricos de varias variables que caracterizan el estado de salud de 319,795 personas.\n",
        "\n",
        "Se pretende construir un modelo utilizando **algoritmos supervisados** para resolver la **tarea de predicción** mediante el modelo **SVM** para predecir e identificar si una persona padece del corazón o no.\n",
        "\n",
        "Se construyen datos de entrenamiento y validación al 70% y 30% cada uno.\n",
        "\n",
        "Se desarrollan los modelos de:\n",
        "\n",
        "-   Regresión Logística binaria\n",
        "-   Árbol de Clasificación tipo *class\n",
        "-   Random forest para clasificación**\n",
        "-   K Means\n",
        "-   **Máquinas de soporte vecorial (SVM) kernel lineal**\n",
        "-   Máquinas de soporte vecorial (SVM) kernel polinomial\n",
        "-   Máquinas de soporte vecorial (SVM) kernel radial\n",
        "\n",
        "El modelo se evalúa mediante la téncica de matriz de confusión por medio del estadístico de exactitud *accuracy*.\n",
        "\n",
        "Los modelo se aceptan si tienen un valor de **exactitud (\"*Accuracy*\") por encima del 70%**.\n",
        "El modelo se construye con funciones de librerías de *python*."
      ],
      "metadata": {
        "id": "QNEpJ3sgA-HW"
      }
    },
    {
      "cell_type": "markdown",
      "source": [
        "## Los datos\n",
        "\n",
        "### Las variables de interés\n",
        "\n",
        "Todas las variables de entrada o variables independientes:\n",
        "\n",
        "-   \"*BMI*\": Indice de masa corporal con valores entre 12.02 y 94.85.\n",
        "\n",
        "-   \"*Smoking*\": Si la persona es fumadora o no con valores categóritos de 'Yes' o 'No'. Ya con datos previamente transformados: [1 Yes | 2 No]\n",
        "\n",
        "-   \"*AlcoholDrinking*\" : Si consume alcohol o no, con valores categóricos de 'Yes' o 'No'. Ya con datos previamente transformados: [1 Yes | 2 No]\n",
        "\n",
        "-   \"*Stroke*\": Si padece alguna anomalía cerebrovascular, apoplejia o algo similar, con valores categóricos de 'Yes' o 'No'. Ya con datos previamente transformados: [1 Yes | 2 No]\n",
        "\n",
        "-   \"*PhysicalHealth*\" Estado físico en lo general con valores entre 0 y 30.\n",
        "\n",
        "-   \"*MentalHealth*\". Estado mental en lo general con valores entre 0 y 30.\n",
        "\n",
        "-   \"*DiffWalking*\" . Que si se le dificulta caminar o tiene algún padecimiento al caminar, con valores categóritoc de 'Yes' o 'No'. Ya con datos previamente transformados: [1 Yes | 2 No]\n",
        "\n",
        "-   \"*Sex*\": Género de la persona, con valores de 'Female' y 'Male' para distinguir al género femenino y masculino respectivamente. Ya con datos previamente transformados: [1 Female | 2 Male]\n",
        "\n",
        "-   \"*AgeCategory*\": Una clasificación de la edad de la persona de entre 18 y 80 años. La primera categoría con un rango de edad entre 18-24, a partir de 25 con rangos de 5 en 5 hasta la clase de 75-80 y una última categoría mayores de 80 años. Ya con datos previamente transformados: [1 - 13].\n",
        "\n",
        "-   \"*Race*\". Raza u origen de la persona con valores categóricos de '*American Indian/Alaskan Native', 'Asian','Black', 'Hispanic', 'Other'* y'*White'.*.Ya con datos previamente transformados: [1 - 6]\n",
        "\n",
        "-   \"*Diabetic*\". Si padece o ha padecido de diabetes en cuatro condiciones siendo Yes y No para si o no: 'No', 'borderline diabetes' condición antes de detectarse diabetes tipo 2, 'Yes', y 'Yes (during pregnancy)' durante embarazo. Ya con datos previamente transformados: [1 - 4]\n",
        "\n",
        "-   \"*PhysicalActivity*\" que si realiza actividad física, con valores categóricos de 'Yes' o 'No'. Ya con datos previamente transformados: [1 Yes | 2 No]\n",
        "\n",
        "-   \"*GenHealth*\": EStado general de salud de la persona con valores categóricos de 'Excellent', 'Very good', 'Good', 'Fair' y 'Poor' con significado en español de excelente, muy buena, buena, regular y pobre o deficiente. Ya con datos previamente transformados: [1 - 5]\n",
        "\n",
        "-   \"*SleepTime*\": valor numérico de las horas de sueño u horas que duerme la persona con valores en un rango entre 1 y 24.\n",
        "\n",
        "-   \"*Asthma*\": si padece de asma o no, con valores categóricos de 'Yes' o 'No'. Ya con datos previamente transformados: [1 Yes | 2 No]\n",
        "\n",
        "-   \"*KidneyDisease*\": si tiene algún padecimiento en los riñones, con valores categóricos de 'Yes' o 'No'. Ya con datos previamente transformados: [1 Yes | 2 No]\n",
        "\n",
        "-   \"*SkinCancer*\": si padece algún tipo de cáncer de piel, con valores categóricos de 'Yes' o 'No'. Ya con datos previamente transformados: [1 Yes | 2 No]\n",
        "\n",
        "La variable de interés como dependiente o variable de salida es la de daño al corazón (*HeartDisease*), con valores categóricos de 'Yes' o 'No'.*\n",
        "\n",
        "Nuevamente la descripción de variables y ahora son 319795 observaciones y 18 variables"
      ],
      "metadata": {
        "id": "kinCLIMNBGOE"
      }
    },
    {
      "cell_type": "markdown",
      "source": [
        "## Matriz de confusión\n",
        "\n",
        "Una matriz de confusión es una herramienta que permite evaluación de un modelo de clasificación.\n",
        "\n",
        "Cada columna de la matriz representa el número de predicciones de cada clase, mientras que cada fila representa a las instancias en la clase real.\n",
        "\n",
        "Uno de los beneficios de las matrices de confusión es que facilitan ver si el sistema está confundiendo las diferentes clases o resultados o lo que es lo mismo en cuantas ocasiones le atina un modelo de clasificación para una tarea de predecir una clase.\n",
        "\n",
        "Hay que encontrar a cuantos casos se le atinaron utilizando los datos de validación y con ello encontrar el porcentaje de aciertos.\n",
        "\n",
        "Se puede evaluar el modelo con la matriz de confusión interpretando algunos estadísticos. Se evalúa el modelo de acuerdo a estas condiciones:\n",
        "\n",
        "* Accuracy o exactitud\n",
        "$$\n",
        "accuracy = \\frac{VP + VN}{VP+FP+FN+VN}\n",
        "$$\n",
        "\n",
        "$$\n",
        "n = \\text{total de datos que participaron en el modelo = } {VP+FP+FN+VN}\n",
        "$$\n",
        "\n",
        "* Precision o precisión\n",
        "$$\n",
        "precision = \\frac{VP}{VP + FP}\n",
        "$$\n",
        "\n",
        "* Recall o recuperación\n",
        "$$\n",
        "recall = \\frac{VP}{VP + FN}\n",
        "$$\n",
        "\n",
        "* Especificity o especificidad (tasa de verdaderos negativos)\n",
        "\n",
        "$$\n",
        "especificity = \\frac{VN}{VN + FP}\n",
        "$$\n",
        "\n",
        "$$\n",
        "\\therefore \\text{de dónde ... ...}\n",
        "$$\n",
        "\n",
        "* VP = Verdaderos Positivos. Le atinó\n",
        "* FP = Falsos Positivos No acertó\n",
        "* FN = Falsos Negativos. No acertó\n",
        "* VN = Verdaderos Negativos. Le atinó.\n",
        "\n",
        "Ahora lo que falta es dentro del contexto que significa positivo y negativo:\n",
        "* positivo es que NO está enfermo del corazón *(HeartDisease='No')* y\n",
        "* negativo es que SI está enfermo del corazón*(HeartDisease='Yes')*.\n",
        "\n",
        "Y que significa verdadero y falso:\n",
        "\n",
        "* Verdadero significa que la prediccón si le atina ya sea a lo positivo o al negativo\n",
        "* False significa que la predicción no le atina ya sea positivo o negativo.\n",
        "\n",
        "## Matriz:\n",
        "\n",
        "$$\n",
        "\\begin{array}{c|c|c}\n",
        "& \\text{Predicción Positiva. No Daño} & \\text{Predicción Negativa.Si Daño} \\\\\n",
        "\\hline\n",
        "\\text{Clase Positiva. No Daño} & VP & FN \\\\\n",
        "\\text{Clase Negativa. Si Daño} & FP & VN \\\\\n",
        "\\hline\n",
        "\\end{array}\n",
        "$$"
      ],
      "metadata": {
        "id": "xR8KJUQtBLBd"
      }
    },
    {
      "cell_type": "markdown",
      "source": [
        "# Desarrollo\n",
        "\n",
        "## Cargar librerías\n",
        "\n",
        "\n",
        "\n"
      ],
      "metadata": {
        "id": "MxqhEvUgj3if"
      }
    },
    {
      "cell_type": "code",
      "source": [
        "import pandas as pd\n",
        "from sklearn.model_selection import train_test_split\n",
        "from sklearn.preprocessing import StandardScaler, LabelEncoder\n",
        "from sklearn.svm import SVC\n",
        "from sklearn.metrics import accuracy_score, classification_report, confusion_matrix\n",
        "\n",
        "\n",
        "import ipywidgets as widgets\n",
        "from IPython.display import display, HTML, clear_output\n",
        "\n",
        "\n",
        "import time # Para medir el tiempo de ejecución\n",
        "\n",
        "import matplotlib.pyplot as plt"
      ],
      "metadata": {
        "id": "49CLoPY0kgVY"
      },
      "execution_count": 1,
      "outputs": []
    },
    {
      "cell_type": "markdown",
      "source": [
        "## Cargar funciones\n"
      ],
      "metadata": {
        "id": "7fdNQHtCkkR3"
      }
    },
    {
      "cell_type": "code",
      "source": [
        "def f_diagrama_barra(datos):\n",
        "    conteo = datos['HeartDisease'].value_counts()\n",
        "    colores = ['green', 'red']  # Colores para las barras\n",
        "\n",
        "    # Crear el gráfico de barras con colores específicos\n",
        "    plt.figure(figsize=(8, 6))\n",
        "    barras = plt.bar(conteo.index, conteo.values, color=colores)\n",
        "\n",
        "    # Añadir etiquetas con la frecuencia en cada barra\n",
        "    for barra in barras:\n",
        "        yval = barra.get_height()\n",
        "        plt.text(barra.get_x() + barra.get_width()/2, yval, int(yval), ha='center', va='bottom')\n",
        "\n",
        "    plt.title('Total de Daños al Corazón vs No Daños')\n",
        "    plt.xlabel('Daño al Corazón (1 = Daño, 0 = No Daño)')\n",
        "    plt.ylabel('Total de Casos')\n",
        "    plt.xticks(ticks=[0, 1], labels=['No Daño', 'Daño'], rotation=0)\n",
        "    plt.show()\n",
        "\n",
        "# Esta función recibe el modelo, los datos de validación y la variable objetivo;\n",
        "# presenta la matriz de confusión así como\n",
        "# el estadísitico accuracy que sirve para evaluar la exactitud del modelo de clasificación\n",
        "def f_evaluar_modelo(predicciones, y_test):\n",
        "\n",
        "  # Hay que hacer predicciones\n",
        "  # predicciones = modelo.predict(datos_validacion)\n",
        "\n",
        "  # Calcular la precisión\n",
        "  precision = accuracy_score(y_test, predicciones)\n",
        "  print(f\"La exactitud del modelo es: {precision}\")\n",
        "\n",
        "  # Opcional: Mostrar la matriz de confusión\n",
        "  matriz_confusion = confusion_matrix(y_test, predicciones)\n",
        "  print(\"Matriz de Confusión:\")\n",
        "  print(matriz_confusion)\n",
        "\n",
        "  # Extraer los valores de la matriz de confusión\n",
        "  VP = matriz_confusion[0, 0]\n",
        "  FN = matriz_confusion[0, 1]\n",
        "  FP = matriz_confusion[1, 0]\n",
        "  VN = matriz_confusion[1, 1]\n",
        "\n",
        "  print ()\n",
        "  print (\"VP: Verdaderos Positivos. El modelo la atina (V) a los que no ('No') tienen daño al corazón: \", VP)\n",
        "  print (\"FN: Falsos Negativos. El modelo falla (F) a los que no ('No') daño, prediciendo que si ('Yes') tienen daño al corazón: \", FN)\n",
        "  print (\"FP: Falsos Positivos. El modelo falla (F) a los que si ('Yes') daño, prediciendo que no ('No) tienen daño al corazón: \", FP)\n",
        "  print (\"VN: Verdaderos Negativos. El modelo le atina (V) a los que si ('Yes') tienen daño al corazón: \", VN)\n",
        "\n",
        "  print (\"Compronando\")\n",
        "  print (\"Accuracy = (VP + VN)/(VP + FN + FP + VN)\",\n",
        "         \"(\",VP, \"+\", VN,\") / (\",VP,\"+\",FN,\"+\",FP,\"+\",VN,\") = \", (VP + VN)/(VP + FN + FP + VN))"
      ],
      "metadata": {
        "id": "y_oxLGoSkmW_"
      },
      "execution_count": 2,
      "outputs": []
    },
    {
      "cell_type": "markdown",
      "source": [
        "## Cargar widgest\n",
        "\n"
      ],
      "metadata": {
        "id": "2PRB55S6kqLP"
      }
    },
    {
      "cell_type": "code",
      "source": [
        "visualizar = widgets.Output()\n",
        "\n",
        "\n",
        "# Función para actualizar y mostrar el contenido dinámicamente en el widget de salida\n",
        "def f_visualizar_datos(datos1, datos2, titulo1, titulo2):\n",
        "    with visualizar:\n",
        "        #global titulo1, titulo2\n",
        "        #titulo1 = \"Primeros 20 registros de datos\"\n",
        "        visualizar.clear_output(wait=True)  # Limpiar el contenido anterior\n",
        "        display(HTML(f\"<h2>{titulo1}</h2>\"))  # Establecer el nuevo título\n",
        "        # Visualizar datos\n",
        "        display(datos1)\n",
        "\n",
        "        #titulo2 = \"Últimos 20 registros de datos\"\n",
        "        display(HTML(f\"<h2>{titulo2}</h2>\"))  # Establecer el nuevo título\n",
        "        # Visualizar datos\n",
        "        display(datos2)"
      ],
      "metadata": {
        "id": "tRGFwxVLktbG"
      },
      "execution_count": 3,
      "outputs": []
    },
    {
      "cell_type": "markdown",
      "source": [
        "## Cargar datos\n",
        "\n"
      ],
      "metadata": {
        "id": "MBl9W3m4k1qQ"
      }
    },
    {
      "cell_type": "code",
      "source": [
        "# Cargar los datos desde la URL\n",
        "url = \"https://raw.githubusercontent.com/rpizarrog/innovacion-empresarial/main/datos/danios%20al%20corazon%20numericos%20limpios.csv\"\n",
        "datos = pd.read_csv(url)\n",
        "\n",
        "# Llamar a la función para mostrar datos de entrenamiento ordenados por índice\n",
        "f_visualizar_datos(datos.head(20), datos.tail(20), \"Primeros registros de Datos\", \"Últimos registros de Datos\")\n",
        "\n",
        "# Para mostrar el widget de salida\n",
        "display(visualizar)"
      ],
      "metadata": {
        "colab": {
          "base_uri": "https://localhost:8080/",
          "height": 1000,
          "referenced_widgets": [
            "c6812e6a735e46b698431c422d8c0a41",
            "cbc17093232c40a9aae5b7206bafbf7f"
          ]
        },
        "id": "Djk-4iyqk3K3",
        "outputId": "77b7dd0c-8141-411d-8598-8d84aa7077ab"
      },
      "execution_count": 4,
      "outputs": [
        {
          "output_type": "display_data",
          "data": {
            "text/plain": [
              "Output()"
            ],
            "application/vnd.jupyter.widget-view+json": {
              "version_major": 2,
              "version_minor": 0,
              "model_id": "c6812e6a735e46b698431c422d8c0a41"
            }
          },
          "metadata": {}
        }
      ]
    },
    {
      "cell_type": "markdown",
      "source": [
        "## Estadísticos\n",
        "\n"
      ],
      "metadata": {
        "id": "CKkH_iVGk-Du"
      }
    },
    {
      "cell_type": "code",
      "source": [
        "datos.describe()"
      ],
      "metadata": {
        "colab": {
          "base_uri": "https://localhost:8080/",
          "height": 320
        },
        "id": "jre5RjAxk_sj",
        "outputId": "24255449-989a-494a-9a37-0055a2283121"
      },
      "execution_count": 5,
      "outputs": [
        {
          "output_type": "execute_result",
          "data": {
            "text/plain": [
              "                 BMI        Smoking  AlcoholDrinking         Stroke  \\\n",
              "count  319795.000000  319795.000000    319795.000000  319795.000000   \n",
              "mean       28.325399       1.587523         1.931903       1.962260   \n",
              "std         6.356100       0.492281         0.251912       0.190567   \n",
              "min        12.020000       1.000000         1.000000       1.000000   \n",
              "25%        24.030000       1.000000         2.000000       2.000000   \n",
              "50%        27.340000       2.000000         2.000000       2.000000   \n",
              "75%        31.420000       2.000000         2.000000       2.000000   \n",
              "max        94.850000       2.000000         2.000000       2.000000   \n",
              "\n",
              "       PhysicalHealth   MentalHealth    DiffWalking            Sex  \\\n",
              "count    319795.00000  319795.000000  319795.000000  319795.000000   \n",
              "mean          3.37171       3.898366       1.861130       1.475273   \n",
              "std           7.95085       7.955235       0.345812       0.499389   \n",
              "min           0.00000       0.000000       1.000000       1.000000   \n",
              "25%           0.00000       0.000000       2.000000       1.000000   \n",
              "50%           0.00000       0.000000       2.000000       1.000000   \n",
              "75%           2.00000       3.000000       2.000000       2.000000   \n",
              "max          30.00000      30.000000       2.000000       2.000000   \n",
              "\n",
              "         AgeCategory           Race      Diabetic  PhysicalActivity  \\\n",
              "count  319795.000000  319795.000000  319795.00000     319795.000000   \n",
              "mean        7.514536       1.736794       1.90962          1.224638   \n",
              "std         3.564759       1.571156       0.41549          0.417344   \n",
              "min         1.000000       1.000000       1.00000          1.000000   \n",
              "25%         5.000000       1.000000       2.00000          1.000000   \n",
              "50%         8.000000       1.000000       2.00000          1.000000   \n",
              "75%        10.000000       1.000000       2.00000          1.000000   \n",
              "max        13.000000       6.000000       4.00000          2.000000   \n",
              "\n",
              "           GenHealth      SleepTime         Asthma  KidneyDisease  \\\n",
              "count  319795.000000  319795.000000  319795.000000  319795.000000   \n",
              "mean        3.955634       7.097075       1.865939       1.963167   \n",
              "std         0.864813       1.436007       0.340718       0.188352   \n",
              "min         2.000000       1.000000       1.000000       1.000000   \n",
              "25%         3.000000       6.000000       2.000000       2.000000   \n",
              "50%         4.000000       7.000000       2.000000       2.000000   \n",
              "75%         5.000000       8.000000       2.000000       2.000000   \n",
              "max         5.000000      24.000000       2.000000       2.000000   \n",
              "\n",
              "          SkinCancer  \n",
              "count  319795.000000  \n",
              "mean        1.906756  \n",
              "std         0.290775  \n",
              "min         1.000000  \n",
              "25%         2.000000  \n",
              "50%         2.000000  \n",
              "75%         2.000000  \n",
              "max         2.000000  "
            ],
            "text/html": [
              "\n",
              "  <div id=\"df-82b22ead-b85f-41f9-97d4-a20d3c33e412\" class=\"colab-df-container\">\n",
              "    <div>\n",
              "<style scoped>\n",
              "    .dataframe tbody tr th:only-of-type {\n",
              "        vertical-align: middle;\n",
              "    }\n",
              "\n",
              "    .dataframe tbody tr th {\n",
              "        vertical-align: top;\n",
              "    }\n",
              "\n",
              "    .dataframe thead th {\n",
              "        text-align: right;\n",
              "    }\n",
              "</style>\n",
              "<table border=\"1\" class=\"dataframe\">\n",
              "  <thead>\n",
              "    <tr style=\"text-align: right;\">\n",
              "      <th></th>\n",
              "      <th>BMI</th>\n",
              "      <th>Smoking</th>\n",
              "      <th>AlcoholDrinking</th>\n",
              "      <th>Stroke</th>\n",
              "      <th>PhysicalHealth</th>\n",
              "      <th>MentalHealth</th>\n",
              "      <th>DiffWalking</th>\n",
              "      <th>Sex</th>\n",
              "      <th>AgeCategory</th>\n",
              "      <th>Race</th>\n",
              "      <th>Diabetic</th>\n",
              "      <th>PhysicalActivity</th>\n",
              "      <th>GenHealth</th>\n",
              "      <th>SleepTime</th>\n",
              "      <th>Asthma</th>\n",
              "      <th>KidneyDisease</th>\n",
              "      <th>SkinCancer</th>\n",
              "    </tr>\n",
              "  </thead>\n",
              "  <tbody>\n",
              "    <tr>\n",
              "      <th>count</th>\n",
              "      <td>319795.000000</td>\n",
              "      <td>319795.000000</td>\n",
              "      <td>319795.000000</td>\n",
              "      <td>319795.000000</td>\n",
              "      <td>319795.00000</td>\n",
              "      <td>319795.000000</td>\n",
              "      <td>319795.000000</td>\n",
              "      <td>319795.000000</td>\n",
              "      <td>319795.000000</td>\n",
              "      <td>319795.000000</td>\n",
              "      <td>319795.00000</td>\n",
              "      <td>319795.000000</td>\n",
              "      <td>319795.000000</td>\n",
              "      <td>319795.000000</td>\n",
              "      <td>319795.000000</td>\n",
              "      <td>319795.000000</td>\n",
              "      <td>319795.000000</td>\n",
              "    </tr>\n",
              "    <tr>\n",
              "      <th>mean</th>\n",
              "      <td>28.325399</td>\n",
              "      <td>1.587523</td>\n",
              "      <td>1.931903</td>\n",
              "      <td>1.962260</td>\n",
              "      <td>3.37171</td>\n",
              "      <td>3.898366</td>\n",
              "      <td>1.861130</td>\n",
              "      <td>1.475273</td>\n",
              "      <td>7.514536</td>\n",
              "      <td>1.736794</td>\n",
              "      <td>1.90962</td>\n",
              "      <td>1.224638</td>\n",
              "      <td>3.955634</td>\n",
              "      <td>7.097075</td>\n",
              "      <td>1.865939</td>\n",
              "      <td>1.963167</td>\n",
              "      <td>1.906756</td>\n",
              "    </tr>\n",
              "    <tr>\n",
              "      <th>std</th>\n",
              "      <td>6.356100</td>\n",
              "      <td>0.492281</td>\n",
              "      <td>0.251912</td>\n",
              "      <td>0.190567</td>\n",
              "      <td>7.95085</td>\n",
              "      <td>7.955235</td>\n",
              "      <td>0.345812</td>\n",
              "      <td>0.499389</td>\n",
              "      <td>3.564759</td>\n",
              "      <td>1.571156</td>\n",
              "      <td>0.41549</td>\n",
              "      <td>0.417344</td>\n",
              "      <td>0.864813</td>\n",
              "      <td>1.436007</td>\n",
              "      <td>0.340718</td>\n",
              "      <td>0.188352</td>\n",
              "      <td>0.290775</td>\n",
              "    </tr>\n",
              "    <tr>\n",
              "      <th>min</th>\n",
              "      <td>12.020000</td>\n",
              "      <td>1.000000</td>\n",
              "      <td>1.000000</td>\n",
              "      <td>1.000000</td>\n",
              "      <td>0.00000</td>\n",
              "      <td>0.000000</td>\n",
              "      <td>1.000000</td>\n",
              "      <td>1.000000</td>\n",
              "      <td>1.000000</td>\n",
              "      <td>1.000000</td>\n",
              "      <td>1.00000</td>\n",
              "      <td>1.000000</td>\n",
              "      <td>2.000000</td>\n",
              "      <td>1.000000</td>\n",
              "      <td>1.000000</td>\n",
              "      <td>1.000000</td>\n",
              "      <td>1.000000</td>\n",
              "    </tr>\n",
              "    <tr>\n",
              "      <th>25%</th>\n",
              "      <td>24.030000</td>\n",
              "      <td>1.000000</td>\n",
              "      <td>2.000000</td>\n",
              "      <td>2.000000</td>\n",
              "      <td>0.00000</td>\n",
              "      <td>0.000000</td>\n",
              "      <td>2.000000</td>\n",
              "      <td>1.000000</td>\n",
              "      <td>5.000000</td>\n",
              "      <td>1.000000</td>\n",
              "      <td>2.00000</td>\n",
              "      <td>1.000000</td>\n",
              "      <td>3.000000</td>\n",
              "      <td>6.000000</td>\n",
              "      <td>2.000000</td>\n",
              "      <td>2.000000</td>\n",
              "      <td>2.000000</td>\n",
              "    </tr>\n",
              "    <tr>\n",
              "      <th>50%</th>\n",
              "      <td>27.340000</td>\n",
              "      <td>2.000000</td>\n",
              "      <td>2.000000</td>\n",
              "      <td>2.000000</td>\n",
              "      <td>0.00000</td>\n",
              "      <td>0.000000</td>\n",
              "      <td>2.000000</td>\n",
              "      <td>1.000000</td>\n",
              "      <td>8.000000</td>\n",
              "      <td>1.000000</td>\n",
              "      <td>2.00000</td>\n",
              "      <td>1.000000</td>\n",
              "      <td>4.000000</td>\n",
              "      <td>7.000000</td>\n",
              "      <td>2.000000</td>\n",
              "      <td>2.000000</td>\n",
              "      <td>2.000000</td>\n",
              "    </tr>\n",
              "    <tr>\n",
              "      <th>75%</th>\n",
              "      <td>31.420000</td>\n",
              "      <td>2.000000</td>\n",
              "      <td>2.000000</td>\n",
              "      <td>2.000000</td>\n",
              "      <td>2.00000</td>\n",
              "      <td>3.000000</td>\n",
              "      <td>2.000000</td>\n",
              "      <td>2.000000</td>\n",
              "      <td>10.000000</td>\n",
              "      <td>1.000000</td>\n",
              "      <td>2.00000</td>\n",
              "      <td>1.000000</td>\n",
              "      <td>5.000000</td>\n",
              "      <td>8.000000</td>\n",
              "      <td>2.000000</td>\n",
              "      <td>2.000000</td>\n",
              "      <td>2.000000</td>\n",
              "    </tr>\n",
              "    <tr>\n",
              "      <th>max</th>\n",
              "      <td>94.850000</td>\n",
              "      <td>2.000000</td>\n",
              "      <td>2.000000</td>\n",
              "      <td>2.000000</td>\n",
              "      <td>30.00000</td>\n",
              "      <td>30.000000</td>\n",
              "      <td>2.000000</td>\n",
              "      <td>2.000000</td>\n",
              "      <td>13.000000</td>\n",
              "      <td>6.000000</td>\n",
              "      <td>4.00000</td>\n",
              "      <td>2.000000</td>\n",
              "      <td>5.000000</td>\n",
              "      <td>24.000000</td>\n",
              "      <td>2.000000</td>\n",
              "      <td>2.000000</td>\n",
              "      <td>2.000000</td>\n",
              "    </tr>\n",
              "  </tbody>\n",
              "</table>\n",
              "</div>\n",
              "    <div class=\"colab-df-buttons\">\n",
              "\n",
              "  <div class=\"colab-df-container\">\n",
              "    <button class=\"colab-df-convert\" onclick=\"convertToInteractive('df-82b22ead-b85f-41f9-97d4-a20d3c33e412')\"\n",
              "            title=\"Convert this dataframe to an interactive table.\"\n",
              "            style=\"display:none;\">\n",
              "\n",
              "  <svg xmlns=\"http://www.w3.org/2000/svg\" height=\"24px\" viewBox=\"0 -960 960 960\">\n",
              "    <path d=\"M120-120v-720h720v720H120Zm60-500h600v-160H180v160Zm220 220h160v-160H400v160Zm0 220h160v-160H400v160ZM180-400h160v-160H180v160Zm440 0h160v-160H620v160ZM180-180h160v-160H180v160Zm440 0h160v-160H620v160Z\"/>\n",
              "  </svg>\n",
              "    </button>\n",
              "\n",
              "  <style>\n",
              "    .colab-df-container {\n",
              "      display:flex;\n",
              "      gap: 12px;\n",
              "    }\n",
              "\n",
              "    .colab-df-convert {\n",
              "      background-color: #E8F0FE;\n",
              "      border: none;\n",
              "      border-radius: 50%;\n",
              "      cursor: pointer;\n",
              "      display: none;\n",
              "      fill: #1967D2;\n",
              "      height: 32px;\n",
              "      padding: 0 0 0 0;\n",
              "      width: 32px;\n",
              "    }\n",
              "\n",
              "    .colab-df-convert:hover {\n",
              "      background-color: #E2EBFA;\n",
              "      box-shadow: 0px 1px 2px rgba(60, 64, 67, 0.3), 0px 1px 3px 1px rgba(60, 64, 67, 0.15);\n",
              "      fill: #174EA6;\n",
              "    }\n",
              "\n",
              "    .colab-df-buttons div {\n",
              "      margin-bottom: 4px;\n",
              "    }\n",
              "\n",
              "    [theme=dark] .colab-df-convert {\n",
              "      background-color: #3B4455;\n",
              "      fill: #D2E3FC;\n",
              "    }\n",
              "\n",
              "    [theme=dark] .colab-df-convert:hover {\n",
              "      background-color: #434B5C;\n",
              "      box-shadow: 0px 1px 3px 1px rgba(0, 0, 0, 0.15);\n",
              "      filter: drop-shadow(0px 1px 2px rgba(0, 0, 0, 0.3));\n",
              "      fill: #FFFFFF;\n",
              "    }\n",
              "  </style>\n",
              "\n",
              "    <script>\n",
              "      const buttonEl =\n",
              "        document.querySelector('#df-82b22ead-b85f-41f9-97d4-a20d3c33e412 button.colab-df-convert');\n",
              "      buttonEl.style.display =\n",
              "        google.colab.kernel.accessAllowed ? 'block' : 'none';\n",
              "\n",
              "      async function convertToInteractive(key) {\n",
              "        const element = document.querySelector('#df-82b22ead-b85f-41f9-97d4-a20d3c33e412');\n",
              "        const dataTable =\n",
              "          await google.colab.kernel.invokeFunction('convertToInteractive',\n",
              "                                                    [key], {});\n",
              "        if (!dataTable) return;\n",
              "\n",
              "        const docLinkHtml = 'Like what you see? Visit the ' +\n",
              "          '<a target=\"_blank\" href=https://colab.research.google.com/notebooks/data_table.ipynb>data table notebook</a>'\n",
              "          + ' to learn more about interactive tables.';\n",
              "        element.innerHTML = '';\n",
              "        dataTable['output_type'] = 'display_data';\n",
              "        await google.colab.output.renderOutput(dataTable, element);\n",
              "        const docLink = document.createElement('div');\n",
              "        docLink.innerHTML = docLinkHtml;\n",
              "        element.appendChild(docLink);\n",
              "      }\n",
              "    </script>\n",
              "  </div>\n",
              "\n",
              "\n",
              "<div id=\"df-ba6171fc-6f0e-492d-80fe-16f175036004\">\n",
              "  <button class=\"colab-df-quickchart\" onclick=\"quickchart('df-ba6171fc-6f0e-492d-80fe-16f175036004')\"\n",
              "            title=\"Suggest charts\"\n",
              "            style=\"display:none;\">\n",
              "\n",
              "<svg xmlns=\"http://www.w3.org/2000/svg\" height=\"24px\"viewBox=\"0 0 24 24\"\n",
              "     width=\"24px\">\n",
              "    <g>\n",
              "        <path d=\"M19 3H5c-1.1 0-2 .9-2 2v14c0 1.1.9 2 2 2h14c1.1 0 2-.9 2-2V5c0-1.1-.9-2-2-2zM9 17H7v-7h2v7zm4 0h-2V7h2v10zm4 0h-2v-4h2v4z\"/>\n",
              "    </g>\n",
              "</svg>\n",
              "  </button>\n",
              "\n",
              "<style>\n",
              "  .colab-df-quickchart {\n",
              "      --bg-color: #E8F0FE;\n",
              "      --fill-color: #1967D2;\n",
              "      --hover-bg-color: #E2EBFA;\n",
              "      --hover-fill-color: #174EA6;\n",
              "      --disabled-fill-color: #AAA;\n",
              "      --disabled-bg-color: #DDD;\n",
              "  }\n",
              "\n",
              "  [theme=dark] .colab-df-quickchart {\n",
              "      --bg-color: #3B4455;\n",
              "      --fill-color: #D2E3FC;\n",
              "      --hover-bg-color: #434B5C;\n",
              "      --hover-fill-color: #FFFFFF;\n",
              "      --disabled-bg-color: #3B4455;\n",
              "      --disabled-fill-color: #666;\n",
              "  }\n",
              "\n",
              "  .colab-df-quickchart {\n",
              "    background-color: var(--bg-color);\n",
              "    border: none;\n",
              "    border-radius: 50%;\n",
              "    cursor: pointer;\n",
              "    display: none;\n",
              "    fill: var(--fill-color);\n",
              "    height: 32px;\n",
              "    padding: 0;\n",
              "    width: 32px;\n",
              "  }\n",
              "\n",
              "  .colab-df-quickchart:hover {\n",
              "    background-color: var(--hover-bg-color);\n",
              "    box-shadow: 0 1px 2px rgba(60, 64, 67, 0.3), 0 1px 3px 1px rgba(60, 64, 67, 0.15);\n",
              "    fill: var(--button-hover-fill-color);\n",
              "  }\n",
              "\n",
              "  .colab-df-quickchart-complete:disabled,\n",
              "  .colab-df-quickchart-complete:disabled:hover {\n",
              "    background-color: var(--disabled-bg-color);\n",
              "    fill: var(--disabled-fill-color);\n",
              "    box-shadow: none;\n",
              "  }\n",
              "\n",
              "  .colab-df-spinner {\n",
              "    border: 2px solid var(--fill-color);\n",
              "    border-color: transparent;\n",
              "    border-bottom-color: var(--fill-color);\n",
              "    animation:\n",
              "      spin 1s steps(1) infinite;\n",
              "  }\n",
              "\n",
              "  @keyframes spin {\n",
              "    0% {\n",
              "      border-color: transparent;\n",
              "      border-bottom-color: var(--fill-color);\n",
              "      border-left-color: var(--fill-color);\n",
              "    }\n",
              "    20% {\n",
              "      border-color: transparent;\n",
              "      border-left-color: var(--fill-color);\n",
              "      border-top-color: var(--fill-color);\n",
              "    }\n",
              "    30% {\n",
              "      border-color: transparent;\n",
              "      border-left-color: var(--fill-color);\n",
              "      border-top-color: var(--fill-color);\n",
              "      border-right-color: var(--fill-color);\n",
              "    }\n",
              "    40% {\n",
              "      border-color: transparent;\n",
              "      border-right-color: var(--fill-color);\n",
              "      border-top-color: var(--fill-color);\n",
              "    }\n",
              "    60% {\n",
              "      border-color: transparent;\n",
              "      border-right-color: var(--fill-color);\n",
              "    }\n",
              "    80% {\n",
              "      border-color: transparent;\n",
              "      border-right-color: var(--fill-color);\n",
              "      border-bottom-color: var(--fill-color);\n",
              "    }\n",
              "    90% {\n",
              "      border-color: transparent;\n",
              "      border-bottom-color: var(--fill-color);\n",
              "    }\n",
              "  }\n",
              "</style>\n",
              "\n",
              "  <script>\n",
              "    async function quickchart(key) {\n",
              "      const quickchartButtonEl =\n",
              "        document.querySelector('#' + key + ' button');\n",
              "      quickchartButtonEl.disabled = true;  // To prevent multiple clicks.\n",
              "      quickchartButtonEl.classList.add('colab-df-spinner');\n",
              "      try {\n",
              "        const charts = await google.colab.kernel.invokeFunction(\n",
              "            'suggestCharts', [key], {});\n",
              "      } catch (error) {\n",
              "        console.error('Error during call to suggestCharts:', error);\n",
              "      }\n",
              "      quickchartButtonEl.classList.remove('colab-df-spinner');\n",
              "      quickchartButtonEl.classList.add('colab-df-quickchart-complete');\n",
              "    }\n",
              "    (() => {\n",
              "      let quickchartButtonEl =\n",
              "        document.querySelector('#df-ba6171fc-6f0e-492d-80fe-16f175036004 button');\n",
              "      quickchartButtonEl.style.display =\n",
              "        google.colab.kernel.accessAllowed ? 'block' : 'none';\n",
              "    })();\n",
              "  </script>\n",
              "</div>\n",
              "    </div>\n",
              "  </div>\n"
            ],
            "application/vnd.google.colaboratory.intrinsic+json": {
              "type": "dataframe",
              "summary": "{\n  \"name\": \"datos\",\n  \"rows\": 8,\n  \"fields\": [\n    {\n      \"column\": \"BMI\",\n      \"properties\": {\n        \"dtype\": \"number\",\n        \"std\": 113053.2788140205,\n        \"min\": 6.356100200470739,\n        \"max\": 319795.0,\n        \"num_unique_values\": 8,\n        \"samples\": [\n          28.325398520927465,\n          27.34,\n          319795.0\n        ],\n        \"semantic_type\": \"\",\n        \"description\": \"\"\n      }\n    },\n    {\n      \"column\": \"Smoking\",\n      \"properties\": {\n        \"dtype\": \"number\",\n        \"std\": 113064.09743920766,\n        \"min\": 0.4922808520227957,\n        \"max\": 319795.0,\n        \"num_unique_values\": 5,\n        \"samples\": [\n          1.5875232570865712,\n          2.0,\n          0.4922808520227957\n        ],\n        \"semantic_type\": \"\",\n        \"description\": \"\"\n      }\n    },\n    {\n      \"column\": \"AlcoholDrinking\",\n      \"properties\": {\n        \"dtype\": \"number\",\n        \"std\": 113064.04167864124,\n        \"min\": 0.2519122478747605,\n        \"max\": 319795.0,\n        \"num_unique_values\": 5,\n        \"samples\": [\n          1.9319032505198643,\n          2.0,\n          0.2519122478747605\n        ],\n        \"semantic_type\": \"\",\n        \"description\": \"\"\n      }\n    },\n    {\n      \"column\": \"Stroke\",\n      \"properties\": {\n        \"dtype\": \"number\",\n        \"std\": 113064.0432439278,\n        \"min\": 0.19056658405970656,\n        \"max\": 319795.0,\n        \"num_unique_values\": 5,\n        \"samples\": [\n          1.9622601979393048,\n          2.0,\n          0.19056658405970656\n        ],\n        \"semantic_type\": \"\",\n        \"description\": \"\"\n      }\n    },\n    {\n      \"column\": \"PhysicalHealth\",\n      \"properties\": {\n        \"dtype\": \"number\",\n        \"std\": 113062.41887389991,\n        \"min\": 0.0,\n        \"max\": 319795.0,\n        \"num_unique_values\": 6,\n        \"samples\": [\n          319795.0,\n          3.3717100017198516,\n          30.0\n        ],\n        \"semantic_type\": \"\",\n        \"description\": \"\"\n      }\n    },\n    {\n      \"column\": \"MentalHealth\",\n      \"properties\": {\n        \"dtype\": \"number\",\n        \"std\": 113062.34153808093,\n        \"min\": 0.0,\n        \"max\": 319795.0,\n        \"num_unique_values\": 6,\n        \"samples\": [\n          319795.0,\n          3.898366140808956,\n          30.0\n        ],\n        \"semantic_type\": \"\",\n        \"description\": \"\"\n      }\n    },\n    {\n      \"column\": \"DiffWalking\",\n      \"properties\": {\n        \"dtype\": \"number\",\n        \"std\": 113064.04051042747,\n        \"min\": 0.3458115836894246,\n        \"max\": 319795.0,\n        \"num_unique_values\": 5,\n        \"samples\": [\n          1.8611297862693288,\n          2.0,\n          0.3458115836894246\n        ],\n        \"semantic_type\": \"\",\n        \"description\": \"\"\n      }\n    },\n    {\n      \"column\": \"Sex\",\n      \"properties\": {\n        \"dtype\": \"number\",\n        \"std\": 113064.15325709495,\n        \"min\": 0.4993889929569271,\n        \"max\": 319795.0,\n        \"num_unique_values\": 5,\n        \"samples\": [\n          1.4752732219077846,\n          2.0,\n          0.4993889929569271\n        ],\n        \"semantic_type\": \"\",\n        \"description\": \"\"\n      }\n    },\n    {\n      \"column\": \"AgeCategory\",\n      \"properties\": {\n        \"dtype\": \"number\",\n        \"std\": 113062.17823553375,\n        \"min\": 1.0,\n        \"max\": 319795.0,\n        \"num_unique_values\": 8,\n        \"samples\": [\n          7.51453587454463,\n          8.0,\n          319795.0\n        ],\n        \"semantic_type\": \"\",\n        \"description\": \"\"\n      }\n    },\n    {\n      \"column\": \"Race\",\n      \"properties\": {\n        \"dtype\": \"number\",\n        \"std\": 113063.93440455812,\n        \"min\": 1.0,\n        \"max\": 319795.0,\n        \"num_unique_values\": 5,\n        \"samples\": [\n          1.7367938835816694,\n          6.0,\n          1.5711559559790143\n        ],\n        \"semantic_type\": \"\",\n        \"description\": \"\"\n      }\n    },\n    {\n      \"column\": \"Diabetic\",\n      \"properties\": {\n        \"dtype\": \"number\",\n        \"std\": 113063.9335297669,\n        \"min\": 0.41549035645043947,\n        \"max\": 319795.0,\n        \"num_unique_values\": 6,\n        \"samples\": [\n          319795.0,\n          1.9096202254569334,\n          4.0\n        ],\n        \"semantic_type\": \"\",\n        \"description\": \"\"\n      }\n    },\n    {\n      \"column\": \"PhysicalActivity\",\n      \"properties\": {\n        \"dtype\": \"number\",\n        \"std\": 113064.22056724927,\n        \"min\": 0.4173441332197359,\n        \"max\": 319795.0,\n        \"num_unique_values\": 5,\n        \"samples\": [\n          1.2246376584999765,\n          2.0,\n          0.4173441332197359\n        ],\n        \"semantic_type\": \"\",\n        \"description\": \"\"\n      }\n    },\n    {\n      \"column\": \"GenHealth\",\n      \"properties\": {\n        \"dtype\": \"number\",\n        \"std\": 113063.40343956073,\n        \"min\": 0.8648132097610356,\n        \"max\": 319795.0,\n        \"num_unique_values\": 7,\n        \"samples\": [\n          319795.0,\n          3.9556340780812707,\n          4.0\n        ],\n        \"semantic_type\": \"\",\n        \"description\": \"\"\n      }\n    },\n    {\n      \"column\": \"SleepTime\",\n      \"properties\": {\n        \"dtype\": \"number\",\n        \"std\": 113061.8524315998,\n        \"min\": 1.0,\n        \"max\": 319795.0,\n        \"num_unique_values\": 8,\n        \"samples\": [\n          7.097074688472302,\n          7.0,\n          319795.0\n        ],\n        \"semantic_type\": \"\",\n        \"description\": \"\"\n      }\n    },\n    {\n      \"column\": \"Asthma\",\n      \"properties\": {\n        \"dtype\": \"number\",\n        \"std\": 113064.04052478149,\n        \"min\": 0.340718249406958,\n        \"max\": 319795.0,\n        \"num_unique_values\": 5,\n        \"samples\": [\n          1.8659391172469864,\n          2.0,\n          0.340718249406958\n        ],\n        \"semantic_type\": \"\",\n        \"description\": \"\"\n      }\n    },\n    {\n      \"column\": \"KidneyDisease\",\n      \"properties\": {\n        \"dtype\": \"number\",\n        \"std\": 113064.0433099919,\n        \"min\": 0.18835183645322953,\n        \"max\": 319795.0,\n        \"num_unique_values\": 5,\n        \"samples\": [\n          1.9631670288778749,\n          2.0,\n          0.18835183645322953\n        ],\n        \"semantic_type\": \"\",\n        \"description\": \"\"\n      }\n    },\n    {\n      \"column\": \"SkinCancer\",\n      \"properties\": {\n        \"dtype\": \"number\",\n        \"std\": 113064.04098585053,\n        \"min\": 0.2907746721047418,\n        \"max\": 319795.0,\n        \"num_unique_values\": 5,\n        \"samples\": [\n          1.9067558904923467,\n          2.0,\n          0.2907746721047418\n        ],\n        \"semantic_type\": \"\",\n        \"description\": \"\"\n      }\n    }\n  ]\n}"
            }
          },
          "metadata": {},
          "execution_count": 5
        }
      ]
    },
    {
      "cell_type": "code",
      "source": [
        "# Obtener el conteo de casos con y sin daños al corazón\n",
        "conteo_daños = datos['HeartDisease'].value_counts()\n",
        "\n",
        "# Convertir el conteo a un DataFrame para una mejor visualización\n",
        "tabla_conteo = conteo_daños.rename(index={1: 'Daño', 0: 'No Daño'}).reset_index()\n",
        "tabla_conteo.columns = ['Estado del Corazón', 'Total de Casos']\n",
        "\n",
        "# Mostrar la tabla\n",
        "print(tabla_conteo)"
      ],
      "metadata": {
        "colab": {
          "base_uri": "https://localhost:8080/"
        },
        "id": "iVGhMTvElAsT",
        "outputId": "fee49e1f-5364-4dd2-a310-fbc8f27bb8fd"
      },
      "execution_count": 6,
      "outputs": [
        {
          "output_type": "stream",
          "name": "stdout",
          "text": [
            "  Estado del Corazón  Total de Casos\n",
            "0                 No          292422\n",
            "1                Yes           27373\n"
          ]
        }
      ]
    },
    {
      "cell_type": "code",
      "source": [
        "f_diagrama_barra(datos)"
      ],
      "metadata": {
        "colab": {
          "base_uri": "https://localhost:8080/",
          "height": 564
        },
        "id": "3jfdt4-3lDz0",
        "outputId": "b523f7d7-8f3e-4d0e-982d-66a3cb5fb45b"
      },
      "execution_count": 40,
      "outputs": [
        {
          "output_type": "display_data",
          "data": {
            "text/plain": [
              "<Figure size 800x600 with 1 Axes>"
            ],
            "image/png": "[encoded data removed]"
          },
          "metadata": {}
        }
      ]
    },
    {
      "cell_type": "markdown",
      "source": [
        "## Datos de entrenamiento y validación\n",
        "\n",
        "* 50% datos de entrenamiento: X_train\n",
        "* 50% datos de validación: X_test"
      ],
      "metadata": {
        "id": "IjhU17rmlOiE"
      }
    },
    {
      "cell_type": "code",
      "source": [
        "# Asumiendo que 'HeartDisease' es el nombre de la columna de la variable objetivo\n",
        "\n",
        "# Preparar los datos para el modelo\n",
        "independientes = datos.drop(columns=['HeartDisease'])  # Solo dejar las variables independientes o predictoras\n",
        "dependiente = datos['HeartDisease']  # Variable dependiente\n",
        "\n",
        "\n",
        "# Dividir los datos en conjuntos de entrenamiento y prueba\n",
        "entrenamiento, validacion, y_train, y_test = train_test_split(independientes, dependiente, test_size=0.5, random_state=2024)\n",
        "X_train = entrenamiento.copy()\n",
        "X_test = validacion.copy()\n",
        "n_train = len(X_train)\n",
        "n_test = len(X_test)\n",
        "\n",
        "f_visualizar_datos(X_train.sort_index().head(20), X_test.sort_index().head(20),\n",
        "                   \"Primeros registros. Datos de entrenamiento de \"+str(n_train) + \" registros\", \"Primeros registros. Datos de validación de \"+str(n_test) + \" registros\")\n",
        "\n",
        "# Para mostrar el widget de salida\n",
        "display(visualizar)"
      ],
      "metadata": {
        "colab": {
          "base_uri": "https://localhost:8080/",
          "height": 1000,
          "referenced_widgets": [
            "c6812e6a735e46b698431c422d8c0a41",
            "cbc17093232c40a9aae5b7206bafbf7f"
          ]
        },
        "id": "NDLGo-ljlRge",
        "outputId": "106aabc9-857b-471e-9385-4251344c820a"
      },
      "execution_count": 7,
      "outputs": [
        {
          "output_type": "display_data",
          "data": {
            "text/plain": [
              "Output()"
            ],
            "application/vnd.jupyter.widget-view+json": {
              "version_major": 2,
              "version_minor": 0,
              "model_id": "c6812e6a735e46b698431c422d8c0a41"
            }
          },
          "metadata": {}
        }
      ]
    },
    {
      "cell_type": "markdown",
      "source": [
        "## Codificar variable dependiente y\n",
        "\n"
      ],
      "metadata": {
        "id": "5VGA043c-Fln"
      }
    },
    {
      "cell_type": "code",
      "source": [
        "from sklearn.preprocessing import LabelEncoder\n",
        "\n",
        "# Instanciando el LabelEncoder\n",
        "codificar = LabelEncoder()\n",
        "\n",
        "# Ajustando el encoder a las etiquetas del connto de entrenamiento y_train transformándolas a numéricas\n",
        "y_codificada_train = codificar.fit_transform(y_train)  # y_train contiene etiquetas originales ('No', 'Yes')\n",
        "print(codificar.classes_[0], '=', 0, codificar.classes_[1], '=', 1)  # Mostrará las clases en orden alfabético\n",
        "\n",
        "y_codificada_test = codificar.fit_transform(y_test)  # y_train contiene etiquetas originales ('No', 'Yes')\n",
        "print(codificar.classes_[0], '=', 0, codificar.classes_[1], '=', 1)  # Mostrará las clases en orden alfabético\n",
        "\n",
        "print(y_codificada_train)\n",
        "print(y_codificada_test)"
      ],
      "metadata": {
        "colab": {
          "base_uri": "https://localhost:8080/"
        },
        "id": "TbuU9cvj-IAq",
        "outputId": "5d8d08fd-52e1-4399-9c56-3f4b3e4655cf"
      },
      "execution_count": 8,
      "outputs": [
        {
          "output_type": "stream",
          "name": "stdout",
          "text": [
            "No = 0 Yes = 1\n",
            "No = 0 Yes = 1\n",
            "[0 0 0 ... 0 0 0]\n",
            "[0 0 1 ... 0 0 0]\n"
          ]
        }
      ]
    },
    {
      "cell_type": "markdown",
      "source": [
        "## Escalar datos numéricos\n",
        "\n",
        "Para estos algoritmos de *SVM* se recomienda escalar las variables que son numéricas.\n",
        "\n"
      ],
      "metadata": {
        "id": "e44bSCePlpgG"
      }
    },
    {
      "cell_type": "code",
      "source": [
        "# Normalizar características numéricas\n",
        "escalar = StandardScaler()\n",
        "\n",
        "\n",
        "# ['BMI',\t'Smoking',\t'AlcoholDrinking',\t'Stroke',\t'PhysicalHealth',\t'MentalHealth',\t'DiffWalking',\t'Sex',\t'AgeCategory',\t'Race',\t'Diabetic',\t'PhysicalActivity',\t'GenHealth',\t'SleepTime',\t'Asthma',\t'KidneyDisease',\t'SkinCancer']\n",
        "nombres_variables = ['BMI',\t'Smoking',\t'AlcoholDrinking',\t'Stroke',\t'PhysicalHealth',\t'MentalHealth',\t'DiffWalking',\t'Sex',\t'AgeCategory',\t'Race',\t'Diabetic',\t'PhysicalActivity',\t'GenHealth',\t'SleepTime',\t'Asthma',\t'KidneyDisease',\t'SkinCancer']\n",
        "\n",
        "\n",
        "X_train_scaled = pd.DataFrame(escalar.fit_transform(X_train), columns=nombres_variables)\n",
        "X_test_scaled = pd.DataFrame(escalar.transform(X_test), columns=nombres_variables)\n",
        "\n",
        "# HeartDisease\tBMI\tSmoking\tAlcoholDrinking\tStroke\tPhysicalHealth\tMentalHealth\t\tSex\tAgeCategory\tRace\tDiabetic\tPhysicalActivity\tGenHealth\tSleepTime\tAsthma\tKidneyDisease\tSkinCancer\n",
        "\n",
        "\n",
        "f_visualizar_datos(X_train_scaled.sort_index().head(20), X_test_scaled.sort_index().head(20),\n",
        "                   \"Primeros registros. Datos de entrenamiento escalados de \"+str(n_train) + \" registros\", \"Primeros registros. Datos de validación escalados de \"+str(n_test) + \" registros\")\n",
        "\n",
        "# Para mostrar el widget de salida\n",
        "display(visualizar)\n"
      ],
      "metadata": {
        "colab": {
          "base_uri": "https://localhost:8080/",
          "height": 1000,
          "referenced_widgets": [
            "c6812e6a735e46b698431c422d8c0a41",
            "cbc17093232c40a9aae5b7206bafbf7f"
          ]
        },
        "id": "BbzDNfEQlytr",
        "outputId": "98084b2b-b655-4ec1-93f0-910d590c85fb"
      },
      "execution_count": 9,
      "outputs": [
        {
          "output_type": "display_data",
          "data": {
            "text/plain": [
              "Output()"
            ],
            "application/vnd.jupyter.widget-view+json": {
              "version_major": 2,
              "version_minor": 0,
              "model_id": "c6812e6a735e46b698431c422d8c0a41"
            }
          },
          "metadata": {}
        }
      ]
    },
    {
      "cell_type": "markdown",
      "source": [
        "## Construir el SVM modelo kernel lineal\n",
        "\n",
        "Se construye el modelo con los datos de entrenamiento escalados.\n",
        "\n"
      ],
      "metadata": {
        "id": "AJtYMgakq47e"
      }
    },
    {
      "cell_type": "code",
      "source": [
        "# Entrenar el clasificador SVM\n",
        "# Marcar el tiempo de inicio\n",
        "start_time = time.time()\n",
        "\n",
        "modelo_lineal = SVC(kernel='linear', random_state=2024, C=0.5)  # Kernel lineal\n",
        "modelo_lineal.fit(X_train_scaled, y_train)\n",
        "\n",
        "# Marcar el tiempo de finalización\n",
        "end_time = time.time()\n",
        "\n",
        "# Calcular la duración restando el tiempo de inicio del tiempo de finalización\n",
        "duration = end_time - start_time\n",
        "\n",
        "print(f\"El tiempo de ejecución fue de {duration} segundos.\")"
      ],
      "metadata": {
        "id": "bwKmxghTq7Wu"
      },
      "execution_count": null,
      "outputs": []
    },
    {
      "cell_type": "markdown",
      "source": [
        "Usando el 70% datos de entrenamiento, se tarda bastante tiempo aproximadamente 10 minutos (596.7339 segundos) en construir el modelo. Modificando con C = 0.5 y usando sólo el 50% datos de entrenamiento, el tiempo de construcción del modelo es de 465.88 segundos (apoximadamente 8 minutos), menor tiempo pero no significativo."
      ],
      "metadata": {
        "id": "RlvV1p7Os5zq"
      }
    },
    {
      "cell_type": "markdown",
      "source": [
        "## Predicciones\n",
        "\n",
        "Las predicciones se hacen con los datos de validación escalados."
      ],
      "metadata": {
        "id": "jzPUVzOPsgss"
      }
    },
    {
      "cell_type": "code",
      "source": [
        "# Marcar el tiempo de inicio\n",
        "start_time = time.time()\n",
        "\n",
        "# Predecir el conjunto de prueba\n",
        "predicciones_codificadas = modelo_lineal.predict(X_test_scaled)\n",
        "\n",
        "# Marcar el tiempo de finalización\n",
        "end_time = time.time()\n",
        "\n",
        "# Calcular la duración restando el tiempo de inicio del tiempo de finalización\n",
        "duration = end_time - start_time\n",
        "\n",
        "print(f\"El tiempo de ejecución fue de {duration} segundos.\")"
      ],
      "metadata": {
        "colab": {
          "base_uri": "https://localhost:8080/"
        },
        "id": "e9SentxFsh8O",
        "outputId": "c4777beb-6407-4597-82e6-cea8867541cb"
      },
      "execution_count": 44,
      "outputs": [
        {
          "output_type": "stream",
          "name": "stdout",
          "text": [
            "El tiempo de ejecución fue de 123.35989785194397 segundos.\n"
          ]
        }
      ]
    },
    {
      "cell_type": "markdown",
      "source": [
        "De manera similar el tiempo para hacer prediccones es mucho aproximadamente 3 minutos."
      ],
      "metadata": {
        "id": "4thH3zbjSJl1"
      }
    },
    {
      "cell_type": "markdown",
      "source": [
        "Construir una *DataFrame* llamado *datos_predicciones* con las predicciones que se identifican en las últimas dos columnas, el valor real confrontado con el valor de la predicción."
      ],
      "metadata": {
        "id": "KiSumFrAskbD"
      }
    },
    {
      "cell_type": "code",
      "source": [
        "# Se tiene el LabelEncoder (llamado aquí 'codificar') que se usó para codificar 'y_train',\n",
        "# hay que decodificar (ainversa) las predicciones si necesitas las etiquetas en su forma original:\n",
        "predicciones = codificar.inverse_transform(predicciones_codificadas)\n",
        "\n",
        "\n",
        "datos_predicciones = pd.DataFrame(X_test_scaled)\n",
        "datos_predicciones['HertDisease_real'] = y_test\n",
        "datos_predicciones['HertDisease_prediccion'] = predicciones\n",
        "n = len(datos_predicciones)\n",
        "f_visualizar_datos(datos_predicciones.sort_index().head(20), datos_predicciones.sort_index().tail(20), \"Primeros registros. Predicciones de \"+str(n) + \" registros\", \" Últimos registros. Predicciones de \"+str(n) + \" registros\")\n",
        "\n",
        "# Para mostrar el widget de salida\n",
        "display(visualizar)"
      ],
      "metadata": {
        "colab": {
          "base_uri": "https://localhost:8080/",
          "height": 1000,
          "referenced_widgets": [
            "f5097377cca04177880f95615a3d3172",
            "9c950ee01959462994d5302cf37c0370"
          ]
        },
        "id": "Lo2rY2Tssa7e",
        "outputId": "8b3dcc8c-d399-4333-e347-5f955973cb38"
      },
      "execution_count": 45,
      "outputs": [
        {
          "output_type": "display_data",
          "data": {
            "text/plain": [
              "Output()"
            ],
            "application/vnd.jupyter.widget-view+json": {
              "version_major": 2,
              "version_minor": 0,
              "model_id": "f5097377cca04177880f95615a3d3172"
            }
          },
          "metadata": {}
        }
      ]
    },
    {
      "cell_type": "markdown",
      "source": [
        "## Evaluar el modelo\n",
        "\n"
      ],
      "metadata": {
        "id": "NGl38yd7VH9b"
      }
    },
    {
      "cell_type": "code",
      "source": [
        "f_evaluar_modelo(predicciones, y_test)"
      ],
      "metadata": {
        "colab": {
          "base_uri": "https://localhost:8080/"
        },
        "id": "VuffodDkVJvN",
        "outputId": "ace040e2-77d8-434c-fe27-16e4e576dc3c"
      },
      "execution_count": 46,
      "outputs": [
        {
          "output_type": "stream",
          "name": "stdout",
          "text": [
            "La exactitud del modelo es: 0.9142203154511\n",
            "Matriz de Confusión:\n",
            "[[146182      0]\n",
            " [ 13716      0]]\n",
            "\n",
            "VP: Verdaderos Positivos. El modelo la atina (V) a los que no ('No') tienen daño al corazón:  146182\n",
            "FN: Falsos Negativos. El modelo falla (F) a los que no ('No') daño, prediciendo que si ('Yes') tienen daño al corazón:  0\n",
            "FP: Falsos Positivos. El modelo falla (F) a los que si ('Yes') daño, prediciendo que no ('No) tienen daño al corazón:  13716\n",
            "VN: Verdaderos Negativos. El modelo le atina (V) a los que si ('Yes') tienen daño al corazón:  0\n",
            "Compronando\n",
            "Accuracy = (VP + VN)/(VP + FN + FP + VN) ( 146182 + 0 ) / ( 146182 + 0 + 13716 + 0 ) =  0.9142203154511\n"
          ]
        }
      ]
    },
    {
      "cell_type": "markdown",
      "source": [
        "# Interpretación\n",
        "\n",
        "Al construir el modelo *SVM* tipo lineal se tarda demasiado tiempo.  Tal vez no sea este algoritmo de clasificación el más adecuado por la gran cantidad de datos, se tienen aproximadamente de 223856 registros y 17 variables independientes en los datos de entrenamiento.\n",
        "\n",
        "Se probó con 70% y finalmente con 50% datos de entrenamiento el tiempo de ejecución para construir el modelo es mucho, muy lento el algoritmo.\n",
        "\n",
        "\n",
        "Se usó modelo de SVM con kernel lineal: *modelo_lineal = SVC(kernel='linear', random_state=2024, C=0.5)  # Kernel lineal*\n",
        "\n",
        "Para estos datos no es recomendable este modelo SVM de tipo lineal.\n",
        "\n",
        "¿Que se puede y debería de hacer para mejorar el tiempo de construcción del modelo SVM?\n",
        "\n",
        "* Reducir la dimensionalidad de los datos: Si el tiempo de entrenamiento es excesivamente largo debido a la alta dimensionalidad de los datos, habrá que considerar aplicar técnicas de reducción de dimensionalidad, como Análisis de Componentes Principales (PCA) o Selección de Características, para reducir el número de características sin perder demasiada información.\n",
        "\n",
        "* Optimizar los hiperparámetros: Se puede ajustar los hiperparámetros del clasificador *SVM*, como el parámetro de regularización (C), utilizando técnicas de búsqueda de hiperparámetros, como búsqueda grid o búsqueda aleatoria, para encontrar la combinación de hiperparámetros que maximice el rendimiento del modelo sin aumentar demasiado el tiempo de entrenamiento.\n",
        "\n",
        "* Muestreo de datos: Si el conjunto de datos es muy grande y el tiempo de entrenamiento es demasiado largo, considera muestrear una parte del conjunto de datos para entrenar el modelo. Sin embargo, hay que tener en cuenta que esto puede afectar la precisión y efectividad del modelo, especialmente si el conjunto de datos no es representativo de la población completa.\n",
        "\n",
        "* Paralelización del entrenamiento: Algunas implementaciones de SVM, como la proporcionada por *scikit-learn*, admiten la paralelización del entrenamiento, lo que significa que puedes entrenar el modelo en múltiples núcleos de *CPU* o incluso en múltiples máquinas si tienes acceso a un clúster de computación.\n",
        "\n",
        "* Considerar modelos más rápidos: Si el tiempo de entrenamiento sigue siendo un problema incluso después de aplicar las sugerencias anteriores, puedes considerar utilizar otros modelos de aprendizaje automático que sean más rápidos de entrenar en conjuntos de datos grandes, como Bosques Aleatorios *(Random Forest)* o *Gradient Boosting Machines*."
      ],
      "metadata": {
        "id": "HcUQ1_nZvoUC"
      }
    }
  ]
}