{
  "nbformat": 4,
  "nbformat_minor": 0,
  "metadata": {
    "colab": {
      "provenance": [],
      "authorship_tag": "ABX9TyNgdktuByP7SlirWUZYQwUy",
      "include_colab_link": true
    },
    "kernelspec": {
      "name": "python3",
      "display_name": "Python 3"
    },
    "language_info": {
      "name": "python"
    },
    "widgets": {
      "application/vnd.jupyter.widget-state+json": {
        "6fa72fd8aee14aa7b3429bcebfeda645": {
          "model_module": "@jupyter-widgets/output",
          "model_name": "OutputModel",
          "model_module_version": "1.0.0",
          "state": {
            "_dom_classes": [],
            "_model_module": "@jupyter-widgets/output",
            "_model_module_version": "1.0.0",
            "_model_name": "OutputModel",
            "_view_count": null,
            "_view_module": "@jupyter-widgets/output",
            "_view_module_version": "1.0.0",
            "_view_name": "OutputView",
            "layout": "IPY_MODEL_d1a49c7afe7e4273975260d5071826b8",
            "msg_id": "",
            "outputs": [
              {
                "output_type": "display_data",
                "data": {
                  "text/plain": "<IPython.core.display.HTML object>",
                  "text/html": "<h2>Primeros registros. Datos de entrenamiento escalados de 223856 registros</h2>"
                },
                "metadata": {}
              },
              {
                "output_type": "display_data",
                "data": {
                  "text/plain": "         BMI   Smoking  AlcoholDrinking   Stroke  PhysicalHealth  \\\n0  -0.972425 -1.191753         0.270283  0.19839       -0.173096   \n1  -0.389977 -1.191753         0.270283  0.19839       -0.424521   \n2   1.428206  0.839100         0.270283  0.19839        0.078329   \n3  -1.002334 -1.191753         0.270283  0.19839       -0.424521   \n4   1.947687  0.839100         0.270283  0.19839       -0.424521   \n5  -0.029489 -1.191753         0.270283  0.19839       -0.424521   \n6  -0.615085  0.839100         0.270283  0.19839       -0.424521   \n7  -0.397848  0.839100         0.270283  0.19839       -0.424521   \n8  -0.388403  0.839100         0.270283  0.19839       -0.424521   \n9   0.241271  0.839100         0.270283  0.19839       -0.424521   \n10 -0.389977 -1.191753        -3.699826  0.19839       -0.424521   \n11  0.389244 -1.191753         0.270283  0.19839        3.346855   \n12 -0.528505  0.839100         0.270283  0.19839       -0.424521   \n13  0.028756 -1.191753         0.270283  0.19839       -0.424521   \n14 -0.153849  0.839100         0.270283  0.19839       -0.424521   \n15  0.047646  0.839100         0.270283  0.19839       -0.424521   \n16  1.802862  0.839100         0.270283  0.19839       -0.424521   \n17  3.413252  0.839100         0.270283  0.19839       -0.424521   \n18  3.400658  0.839100         0.270283  0.19839        3.346855   \n19 -0.268765 -1.191753        -3.699826  0.19839        0.204041   \n\n    MentalHealth  DiffWalking       Sex  AgeCategory      Race  Diabetic  \\\n0      -0.489914     0.400235 -0.951423     1.258438 -0.469571  0.215309   \n1      -0.489914     0.400235  1.051057    -0.703938  2.711104  0.215309   \n2      -0.489914     0.400235 -0.951423    -0.703938  2.711104  2.621011   \n3      -0.489914     0.400235 -0.951423    -0.143259  2.711104  2.621011   \n4      -0.489914     0.400235  1.051057    -1.264617 -0.469571  0.215309   \n5      -0.489914     0.400235  1.051057     0.978098 -0.469571  0.215309   \n6      -0.489914     0.400235  1.051057     0.978098 -0.469571  0.215309   \n7      -0.489914     0.400235 -0.951423    -0.423599  0.166564  0.215309   \n8      -0.489914     0.400235  1.051057     0.137080  0.166564  0.215309   \n9      -0.237896     0.400235  1.051057     0.978098 -0.469571 -2.190393   \n10      2.912336     0.400235 -0.951423    -0.423599 -0.469571  0.215309   \n11     -0.489914     0.400235 -0.951423    -0.984277  0.166564  0.215309   \n12      0.014123     0.400235 -0.951423    -0.423599 -0.469571  0.215309   \n13     -0.489914     0.400235  1.051057     1.258438 -0.469571 -2.190393   \n14      0.392150     0.400235 -0.951423     1.258438 -0.469571  0.215309   \n15     -0.489914     0.400235 -0.951423    -0.423599 -0.469571  0.215309   \n16     -0.111887    -2.498531 -0.951423     0.978098 -0.469571 -2.190393   \n17     -0.111887    -2.498531  1.051057     0.137080  2.711104 -2.190393   \n18     -0.489914    -2.498531 -0.951423     1.538777 -0.469571 -2.190393   \n19      0.140132     0.400235 -0.951423     0.137080 -0.469571  0.215309   \n\n    PhysicalActivity  GenHealth  SleepTime    Asthma  KidneyDisease  \\\n0          -0.536644   0.052284  -2.160362  0.393411       0.196215   \n1          -0.536644   0.052284  -0.766217  0.393411       0.196215   \n2          -0.536644  -1.104704   0.627928  0.393411       0.196215   \n3           1.863432   1.209272   1.325000  0.393411       0.196215   \n4           1.863432   1.209272  -0.766217  0.393411       0.196215   \n5           1.863432  -1.104704  -0.766217  0.393411       0.196215   \n6          -0.536644  -1.104704   0.627928  0.393411       0.196215   \n7          -0.536644   1.209272  -0.766217  0.393411       0.196215   \n8          -0.536644   0.052284  -0.069145  0.393411       0.196215   \n9          -0.536644   0.052284  -0.069145  0.393411       0.196215   \n10         -0.536644   0.052284  -0.069145  0.393411       0.196215   \n11         -0.536644   0.052284   0.627928  0.393411       0.196215   \n12         -0.536644   0.052284   0.627928  0.393411       0.196215   \n13          1.863432  -1.104704   0.627928  0.393411       0.196215   \n14         -0.536644   1.209272   0.627928  0.393411       0.196215   \n15         -0.536644   1.209272  -0.069145  0.393411       0.196215   \n16          1.863432   1.209272  -0.766217 -2.541873       0.196215   \n17         -0.536644   1.209272   0.627928  0.393411      -5.096455   \n18          1.863432  -2.261691  -0.766217  0.393411      -5.096455   \n19         -0.536644  -1.104704  -0.766217 -2.541873       0.196215   \n\n    SkinCancer  \n0     0.319469  \n1     0.319469  \n2     0.319469  \n3     0.319469  \n4     0.319469  \n5    -3.130196  \n6     0.319469  \n7     0.319469  \n8     0.319469  \n9     0.319469  \n10    0.319469  \n11    0.319469  \n12    0.319469  \n13    0.319469  \n14    0.319469  \n15    0.319469  \n16   -3.130196  \n17    0.319469  \n18    0.319469  \n19    0.319469  ",
                  "text/html": "\n  <div id=\"df-dd6266c9-6de3-42a9-9e30-5e49c2eea524\" class=\"colab-df-container\">\n    <div>\n<style scoped>\n    .dataframe tbody tr th:only-of-type {\n        vertical-align: middle;\n    }\n\n    .dataframe tbody tr th {\n        vertical-align: top;\n    }\n\n    .dataframe thead th {\n        text-align: right;\n    }\n</style>\n<table border=\"1\" class=\"dataframe\">\n  <thead>\n    <tr style=\"text-align: right;\">\n      <th></th>\n      <th>BMI</th>\n      <th>Smoking</th>\n      <th>AlcoholDrinking</th>\n      <th>Stroke</th>\n      <th>PhysicalHealth</th>\n      <th>MentalHealth</th>\n      <th>DiffWalking</th>\n      <th>Sex</th>\n      <th>AgeCategory</th>\n      <th>Race</th>\n      <th>Diabetic</th>\n      <th>PhysicalActivity</th>\n      <th>GenHealth</th>\n      <th>SleepTime</th>\n      <th>Asthma</th>\n      <th>KidneyDisease</th>\n      <th>SkinCancer</th>\n    </tr>\n  </thead>\n  <tbody>\n    <tr>\n      <th>0</th>\n      <td>-0.972425</td>\n      <td>-1.191753</td>\n      <td>0.270283</td>\n      <td>0.19839</td>\n      <td>-0.173096</td>\n      <td>-0.489914</td>\n      <td>0.400235</td>\n      <td>-0.951423</td>\n      <td>1.258438</td>\n      <td>-0.469571</td>\n      <td>0.215309</td>\n      <td>-0.536644</td>\n      <td>0.052284</td>\n      <td>-2.160362</td>\n      <td>0.393411</td>\n      <td>0.196215</td>\n      <td>0.319469</td>\n    </tr>\n    <tr>\n      <th>1</th>\n      <td>-0.389977</td>\n      <td>-1.191753</td>\n      <td>0.270283</td>\n      <td>0.19839</td>\n      <td>-0.424521</td>\n      <td>-0.489914</td>\n      <td>0.400235</td>\n      <td>1.051057</td>\n      <td>-0.703938</td>\n      <td>2.711104</td>\n      <td>0.215309</td>\n      <td>-0.536644</td>\n      <td>0.052284</td>\n      <td>-0.766217</td>\n      <td>0.393411</td>\n      <td>0.196215</td>\n      <td>0.319469</td>\n    </tr>\n    <tr>\n      <th>2</th>\n      <td>1.428206</td>\n      <td>0.839100</td>\n      <td>0.270283</td>\n      <td>0.19839</td>\n      <td>0.078329</td>\n      <td>-0.489914</td>\n      <td>0.400235</td>\n      <td>-0.951423</td>\n      <td>-0.703938</td>\n      <td>2.711104</td>\n      <td>2.621011</td>\n      <td>-0.536644</td>\n      <td>-1.104704</td>\n      <td>0.627928</td>\n      <td>0.393411</td>\n      <td>0.196215</td>\n      <td>0.319469</td>\n    </tr>\n    <tr>\n      <th>3</th>\n      <td>-1.002334</td>\n      <td>-1.191753</td>\n      <td>0.270283</td>\n      <td>0.19839</td>\n      <td>-0.424521</td>\n      <td>-0.489914</td>\n      <td>0.400235</td>\n      <td>-0.951423</td>\n      <td>-0.143259</td>\n      <td>2.711104</td>\n      <td>2.621011</td>\n      <td>1.863432</td>\n      <td>1.209272</td>\n      <td>1.325000</td>\n      <td>0.393411</td>\n      <td>0.196215</td>\n      <td>0.319469</td>\n    </tr>\n    <tr>\n      <th>4</th>\n      <td>1.947687</td>\n      <td>0.839100</td>\n      <td>0.270283</td>\n      <td>0.19839</td>\n      <td>-0.424521</td>\n      <td>-0.489914</td>\n      <td>0.400235</td>\n      <td>1.051057</td>\n      <td>-1.264617</td>\n      <td>-0.469571</td>\n      <td>0.215309</td>\n      <td>1.863432</td>\n      <td>1.209272</td>\n      <td>-0.766217</td>\n      <td>0.393411</td>\n      <td>0.196215</td>\n      <td>0.319469</td>\n    </tr>\n    <tr>\n      <th>5</th>\n      <td>-0.029489</td>\n      <td>-1.191753</td>\n      <td>0.270283</td>\n      <td>0.19839</td>\n      <td>-0.424521</td>\n      <td>-0.489914</td>\n      <td>0.400235</td>\n      <td>1.051057</td>\n      <td>0.978098</td>\n      <td>-0.469571</td>\n      <td>0.215309</td>\n      <td>1.863432</td>\n      <td>-1.104704</td>\n      <td>-0.766217</td>\n      <td>0.393411</td>\n      <td>0.196215</td>\n      <td>-3.130196</td>\n    </tr>\n    <tr>\n      <th>6</th>\n      <td>-0.615085</td>\n      <td>0.839100</td>\n      <td>0.270283</td>\n      <td>0.19839</td>\n      <td>-0.424521</td>\n      <td>-0.489914</td>\n      <td>0.400235</td>\n      <td>1.051057</td>\n      <td>0.978098</td>\n      <td>-0.469571</td>\n      <td>0.215309</td>\n      <td>-0.536644</td>\n      <td>-1.104704</td>\n      <td>0.627928</td>\n      <td>0.393411</td>\n      <td>0.196215</td>\n      <td>0.319469</td>\n    </tr>\n    <tr>\n      <th>7</th>\n      <td>-0.397848</td>\n      <td>0.839100</td>\n      <td>0.270283</td>\n      <td>0.19839</td>\n      <td>-0.424521</td>\n      <td>-0.489914</td>\n      <td>0.400235</td>\n      <td>-0.951423</td>\n      <td>-0.423599</td>\n      <td>0.166564</td>\n      <td>0.215309</td>\n      <td>-0.536644</td>\n      <td>1.209272</td>\n      <td>-0.766217</td>\n      <td>0.393411</td>\n      <td>0.196215</td>\n      <td>0.319469</td>\n    </tr>\n    <tr>\n      <th>8</th>\n      <td>-0.388403</td>\n      <td>0.839100</td>\n      <td>0.270283</td>\n      <td>0.19839</td>\n      <td>-0.424521</td>\n      <td>-0.489914</td>\n      <td>0.400235</td>\n      <td>1.051057</td>\n      <td>0.137080</td>\n      <td>0.166564</td>\n      <td>0.215309</td>\n      <td>-0.536644</td>\n      <td>0.052284</td>\n      <td>-0.069145</td>\n      <td>0.393411</td>\n      <td>0.196215</td>\n      <td>0.319469</td>\n    </tr>\n    <tr>\n      <th>9</th>\n      <td>0.241271</td>\n      <td>0.839100</td>\n      <td>0.270283</td>\n      <td>0.19839</td>\n      <td>-0.424521</td>\n      <td>-0.237896</td>\n      <td>0.400235</td>\n      <td>1.051057</td>\n      <td>0.978098</td>\n      <td>-0.469571</td>\n      <td>-2.190393</td>\n      <td>-0.536644</td>\n      <td>0.052284</td>\n      <td>-0.069145</td>\n      <td>0.393411</td>\n      <td>0.196215</td>\n      <td>0.319469</td>\n    </tr>\n    <tr>\n      <th>10</th>\n      <td>-0.389977</td>\n      <td>-1.191753</td>\n      <td>-3.699826</td>\n      <td>0.19839</td>\n      <td>-0.424521</td>\n      <td>2.912336</td>\n      <td>0.400235</td>\n      <td>-0.951423</td>\n      <td>-0.423599</td>\n      <td>-0.469571</td>\n      <td>0.215309</td>\n      <td>-0.536644</td>\n      <td>0.052284</td>\n      <td>-0.069145</td>\n      <td>0.393411</td>\n      <td>0.196215</td>\n      <td>0.319469</td>\n    </tr>\n    <tr>\n      <th>11</th>\n      <td>0.389244</td>\n      <td>-1.191753</td>\n      <td>0.270283</td>\n      <td>0.19839</td>\n      <td>3.346855</td>\n      <td>-0.489914</td>\n      <td>0.400235</td>\n      <td>-0.951423</td>\n      <td>-0.984277</td>\n      <td>0.166564</td>\n      <td>0.215309</td>\n      <td>-0.536644</td>\n      <td>0.052284</td>\n      <td>0.627928</td>\n      <td>0.393411</td>\n      <td>0.196215</td>\n      <td>0.319469</td>\n    </tr>\n    <tr>\n      <th>12</th>\n      <td>-0.528505</td>\n      <td>0.839100</td>\n      <td>0.270283</td>\n      <td>0.19839</td>\n      <td>-0.424521</td>\n      <td>0.014123</td>\n      <td>0.400235</td>\n      <td>-0.951423</td>\n      <td>-0.423599</td>\n      <td>-0.469571</td>\n      <td>0.215309</td>\n      <td>-0.536644</td>\n      <td>0.052284</td>\n      <td>0.627928</td>\n      <td>0.393411</td>\n      <td>0.196215</td>\n      <td>0.319469</td>\n    </tr>\n    <tr>\n      <th>13</th>\n      <td>0.028756</td>\n      <td>-1.191753</td>\n      <td>0.270283</td>\n      <td>0.19839</td>\n      <td>-0.424521</td>\n      <td>-0.489914</td>\n      <td>0.400235</td>\n      <td>1.051057</td>\n      <td>1.258438</td>\n      <td>-0.469571</td>\n      <td>-2.190393</td>\n      <td>1.863432</td>\n      <td>-1.104704</td>\n      <td>0.627928</td>\n      <td>0.393411</td>\n      <td>0.196215</td>\n      <td>0.319469</td>\n    </tr>\n    <tr>\n      <th>14</th>\n      <td>-0.153849</td>\n      <td>0.839100</td>\n      <td>0.270283</td>\n      <td>0.19839</td>\n      <td>-0.424521</td>\n      <td>0.392150</td>\n      <td>0.400235</td>\n      <td>-0.951423</td>\n      <td>1.258438</td>\n      <td>-0.469571</td>\n      <td>0.215309</td>\n      <td>-0.536644</td>\n      <td>1.209272</td>\n      <td>0.627928</td>\n      <td>0.393411</td>\n      <td>0.196215</td>\n      <td>0.319469</td>\n    </tr>\n    <tr>\n      <th>15</th>\n      <td>0.047646</td>\n      <td>0.839100</td>\n      <td>0.270283</td>\n      <td>0.19839</td>\n      <td>-0.424521</td>\n      <td>-0.489914</td>\n      <td>0.400235</td>\n      <td>-0.951423</td>\n      <td>-0.423599</td>\n      <td>-0.469571</td>\n      <td>0.215309</td>\n      <td>-0.536644</td>\n      <td>1.209272</td>\n      <td>-0.069145</td>\n      <td>0.393411</td>\n      <td>0.196215</td>\n      <td>0.319469</td>\n    </tr>\n    <tr>\n      <th>16</th>\n      <td>1.802862</td>\n      <td>0.839100</td>\n      <td>0.270283</td>\n      <td>0.19839</td>\n      <td>-0.424521</td>\n      <td>-0.111887</td>\n      <td>-2.498531</td>\n      <td>-0.951423</td>\n      <td>0.978098</td>\n      <td>-0.469571</td>\n      <td>-2.190393</td>\n      <td>1.863432</td>\n      <td>1.209272</td>\n      <td>-0.766217</td>\n      <td>-2.541873</td>\n      <td>0.196215</td>\n      <td>-3.130196</td>\n    </tr>\n    <tr>\n      <th>17</th>\n      <td>3.413252</td>\n      <td>0.839100</td>\n      <td>0.270283</td>\n      <td>0.19839</td>\n      <td>-0.424521</td>\n      <td>-0.111887</td>\n      <td>-2.498531</td>\n      <td>1.051057</td>\n      <td>0.137080</td>\n      <td>2.711104</td>\n      <td>-2.190393</td>\n      <td>-0.536644</td>\n      <td>1.209272</td>\n      <td>0.627928</td>\n      <td>0.393411</td>\n      <td>-5.096455</td>\n      <td>0.319469</td>\n    </tr>\n    <tr>\n      <th>18</th>\n      <td>3.400658</td>\n      <td>0.839100</td>\n      <td>0.270283</td>\n      <td>0.19839</td>\n      <td>3.346855</td>\n      <td>-0.489914</td>\n      <td>-2.498531</td>\n      <td>-0.951423</td>\n      <td>1.538777</td>\n      <td>-0.469571</td>\n      <td>-2.190393</td>\n      <td>1.863432</td>\n      <td>-2.261691</td>\n      <td>-0.766217</td>\n      <td>0.393411</td>\n      <td>-5.096455</td>\n      <td>0.319469</td>\n    </tr>\n    <tr>\n      <th>19</th>\n      <td>-0.268765</td>\n      <td>-1.191753</td>\n      <td>-3.699826</td>\n      <td>0.19839</td>\n      <td>0.204041</td>\n      <td>0.140132</td>\n      <td>0.400235</td>\n      <td>-0.951423</td>\n      <td>0.137080</td>\n      <td>-0.469571</td>\n      <td>0.215309</td>\n      <td>-0.536644</td>\n      <td>-1.104704</td>\n      <td>-0.766217</td>\n      <td>-2.541873</td>\n      <td>0.196215</td>\n      <td>0.319469</td>\n    </tr>\n  </tbody>\n</table>\n</div>\n    <div class=\"colab-df-buttons\">\n\n  <div class=\"colab-df-container\">\n    <button class=\"colab-df-convert\" onclick=\"convertToInteractive('df-dd6266c9-6de3-42a9-9e30-5e49c2eea524')\"\n            title=\"Convert this dataframe to an interactive table.\"\n            style=\"display:none;\">\n\n  <svg xmlns=\"http://www.w3.org/2000/svg\" height=\"24px\" viewBox=\"0 -960 960 960\">\n    <path d=\"M120-120v-720h720v720H120Zm60-500h600v-160H180v160Zm220 220h160v-160H400v160Zm0 220h160v-160H400v160ZM180-400h160v-160H180v160Zm440 0h160v-160H620v160ZM180-180h160v-160H180v160Zm440 0h160v-160H620v160Z\"/>\n  </svg>\n    </button>\n\n  <style>\n    .colab-df-container {\n      display:flex;\n      gap: 12px;\n    }\n\n    .colab-df-convert {\n      background-color: #E8F0FE;\n      border: none;\n      border-radius: 50%;\n      cursor: pointer;\n      display: none;\n      fill: #1967D2;\n      height: 32px;\n      padding: 0 0 0 0;\n      width: 32px;\n    }\n\n    .colab-df-convert:hover {\n      background-color: #E2EBFA;\n      box-shadow: 0px 1px 2px rgba(60, 64, 67, 0.3), 0px 1px 3px 1px rgba(60, 64, 67, 0.15);\n      fill: #174EA6;\n    }\n\n    .colab-df-buttons div {\n      margin-bottom: 4px;\n    }\n\n    [theme=dark] .colab-df-convert {\n      background-color: #3B4455;\n      fill: #D2E3FC;\n    }\n\n    [theme=dark] .colab-df-convert:hover {\n      background-color: #434B5C;\n      box-shadow: 0px 1px 3px 1px rgba(0, 0, 0, 0.15);\n      filter: drop-shadow(0px 1px 2px rgba(0, 0, 0, 0.3));\n      fill: #FFFFFF;\n    }\n  </style>\n\n    <script>\n      const buttonEl =\n        document.querySelector('#df-dd6266c9-6de3-42a9-9e30-5e49c2eea524 button.colab-df-convert');\n      buttonEl.style.display =\n        google.colab.kernel.accessAllowed ? 'block' : 'none';\n\n      async function convertToInteractive(key) {\n        const element = document.querySelector('#df-dd6266c9-6de3-42a9-9e30-5e49c2eea524');\n        const dataTable =\n          await google.colab.kernel.invokeFunction('convertToInteractive',\n                                                    [key], {});\n        if (!dataTable) return;\n\n        const docLinkHtml = 'Like what you see? Visit the ' +\n          '<a target=\"_blank\" href=https://colab.research.google.com/notebooks/data_table.ipynb>data table notebook</a>'\n          + ' to learn more about interactive tables.';\n        element.innerHTML = '';\n        dataTable['output_type'] = 'display_data';\n        await google.colab.output.renderOutput(dataTable, element);\n        const docLink = document.createElement('div');\n        docLink.innerHTML = docLinkHtml;\n        element.appendChild(docLink);\n      }\n    </script>\n  </div>\n\n\n<div id=\"df-44afc4e0-cf47-4f96-8e6b-051247a86a9d\">\n  <button class=\"colab-df-quickchart\" onclick=\"quickchart('df-44afc4e0-cf47-4f96-8e6b-051247a86a9d')\"\n            title=\"Suggest charts\"\n            style=\"display:none;\">\n\n<svg xmlns=\"http://www.w3.org/2000/svg\" height=\"24px\"viewBox=\"0 0 24 24\"\n     width=\"24px\">\n    <g>\n        <path d=\"M19 3H5c-1.1 0-2 .9-2 2v14c0 1.1.9 2 2 2h14c1.1 0 2-.9 2-2V5c0-1.1-.9-2-2-2zM9 17H7v-7h2v7zm4 0h-2V7h2v10zm4 0h-2v-4h2v4z\"/>\n    </g>\n</svg>\n  </button>\n\n<style>\n  .colab-df-quickchart {\n      --bg-color: #E8F0FE;\n      --fill-color: #1967D2;\n      --hover-bg-color: #E2EBFA;\n      --hover-fill-color: #174EA6;\n      --disabled-fill-color: #AAA;\n      --disabled-bg-color: #DDD;\n  }\n\n  [theme=dark] .colab-df-quickchart {\n      --bg-color: #3B4455;\n      --fill-color: #D2E3FC;\n      --hover-bg-color: #434B5C;\n      --hover-fill-color: #FFFFFF;\n      --disabled-bg-color: #3B4455;\n      --disabled-fill-color: #666;\n  }\n\n  .colab-df-quickchart {\n    background-color: var(--bg-color);\n    border: none;\n    border-radius: 50%;\n    cursor: pointer;\n    display: none;\n    fill: var(--fill-color);\n    height: 32px;\n    padding: 0;\n    width: 32px;\n  }\n\n  .colab-df-quickchart:hover {\n    background-color: var(--hover-bg-color);\n    box-shadow: 0 1px 2px rgba(60, 64, 67, 0.3), 0 1px 3px 1px rgba(60, 64, 67, 0.15);\n    fill: var(--button-hover-fill-color);\n  }\n\n  .colab-df-quickchart-complete:disabled,\n  .colab-df-quickchart-complete:disabled:hover {\n    background-color: var(--disabled-bg-color);\n    fill: var(--disabled-fill-color);\n    box-shadow: none;\n  }\n\n  .colab-df-spinner {\n    border: 2px solid var(--fill-color);\n    border-color: transparent;\n    border-bottom-color: var(--fill-color);\n    animation:\n      spin 1s steps(1) infinite;\n  }\n\n  @keyframes spin {\n    0% {\n      border-color: transparent;\n      border-bottom-color: var(--fill-color);\n      border-left-color: var(--fill-color);\n    }\n    20% {\n      border-color: transparent;\n      border-left-color: var(--fill-color);\n      border-top-color: var(--fill-color);\n    }\n    30% {\n      border-color: transparent;\n      border-left-color: var(--fill-color);\n      border-top-color: var(--fill-color);\n      border-right-color: var(--fill-color);\n    }\n    40% {\n      border-color: transparent;\n      border-right-color: var(--fill-color);\n      border-top-color: var(--fill-color);\n    }\n    60% {\n      border-color: transparent;\n      border-right-color: var(--fill-color);\n    }\n    80% {\n      border-color: transparent;\n      border-right-color: var(--fill-color);\n      border-bottom-color: var(--fill-color);\n    }\n    90% {\n      border-color: transparent;\n      border-bottom-color: var(--fill-color);\n    }\n  }\n</style>\n\n  <script>\n    async function quickchart(key) {\n      const quickchartButtonEl =\n        document.querySelector('#' + key + ' button');\n      quickchartButtonEl.disabled = true;  // To prevent multiple clicks.\n      quickchartButtonEl.classList.add('colab-df-spinner');\n      try {\n        const charts = await google.colab.kernel.invokeFunction(\n            'suggestCharts', [key], {});\n      } catch (error) {\n        console.error('Error during call to suggestCharts:', error);\n      }\n      quickchartButtonEl.classList.remove('colab-df-spinner');\n      quickchartButtonEl.classList.add('colab-df-quickchart-complete');\n    }\n    (() => {\n      let quickchartButtonEl =\n        document.querySelector('#df-44afc4e0-cf47-4f96-8e6b-051247a86a9d button');\n      quickchartButtonEl.style.display =\n        google.colab.kernel.accessAllowed ? 'block' : 'none';\n    })();\n  </script>\n</div>\n    </div>\n  </div>\n",
                  "application/vnd.google.colaboratory.intrinsic+json": {
                    "type": "dataframe",
                    "summary": "{\n  \"name\": \"display(visualizar)\",\n  \"rows\": 20,\n  \"fields\": [\n    {\n      \"column\": \"BMI\",\n      \"properties\": {\n        \"dtype\": \"number\",\n        \"std\": 1.3172792090312966,\n        \"min\": -1.0023343080529252,\n        \"max\": 3.4132519403993844,\n        \"num_unique_values\": 19,\n        \"samples\": [\n          -0.9724248111828382,\n          -0.029488567752202616,\n          -0.5285049102689161\n        ],\n        \"semantic_type\": \"\",\n        \"description\": \"\"\n      }\n    },\n    {\n      \"column\": \"Smoking\",\n      \"properties\": {\n        \"dtype\": \"number\",\n        \"std\": 1.0207568197005,\n        \"min\": -1.1917525690660522,\n        \"max\": 0.8391003518319884,\n        \"num_unique_values\": 2,\n        \"samples\": [\n          0.8391003518319884,\n          -1.1917525690660522\n        ],\n        \"semantic_type\": \"\",\n        \"description\": \"\"\n      }\n    },\n    {\n      \"column\": \"AlcoholDrinking\",\n      \"properties\": {\n        \"dtype\": \"number\",\n        \"std\": 1.2219738180221271,\n        \"min\": -3.699826200074965,\n        \"max\": 0.27028296625926357,\n        \"num_unique_values\": 2,\n        \"samples\": [\n          -3.699826200074965,\n          0.27028296625926357\n        ],\n        \"semantic_type\": \"\",\n        \"description\": \"\"\n      }\n    },\n    {\n      \"column\": \"Stroke\",\n      \"properties\": {\n        \"dtype\": \"number\",\n        \"std\": 2.8476619731297836e-17,\n        \"min\": 0.1983898337440781,\n        \"max\": 0.1983898337440781,\n        \"num_unique_values\": 1,\n        \"samples\": [\n          0.1983898337440781\n        ],\n        \"semantic_type\": \"\",\n        \"description\": \"\"\n      }\n    },\n    {\n      \"column\": \"PhysicalHealth\",\n      \"properties\": {\n        \"dtype\": \"number\",\n        \"std\": 1.1510730407714862,\n        \"min\": -0.4245213101781533,\n        \"max\": 3.346854972108922,\n        \"num_unique_values\": 5,\n        \"samples\": [\n          -0.4245213101781533\n        ],\n        \"semantic_type\": \"\",\n        \"description\": \"\"\n      }\n    },\n    {\n      \"column\": \"MentalHealth\",\n      \"properties\": {\n        \"dtype\": \"number\",\n        \"std\": 0.7708061765544547,\n        \"min\": -0.48991435707911246,\n        \"max\": 2.912335632400971,\n        \"num_unique_values\": 7,\n        \"samples\": [\n          -0.48991435707911246\n        ],\n        \"semantic_type\": \"\",\n        \"description\": \"\"\n      }\n    },\n    {\n      \"column\": \"DiffWalking\",\n      \"properties\": {\n        \"dtype\": \"number\",\n        \"std\": 1.061955788652079,\n        \"min\": -2.498530692855231,\n        \"max\": 0.4002352273916781,\n        \"num_unique_values\": 2,\n        \"samples\": [\n          -2.498530692855231\n        ],\n        \"semantic_type\": \"\",\n        \"description\": \"\"\n      }\n    },\n    {\n      \"column\": \"Sex\",\n      \"properties\": {\n        \"dtype\": \"number\",\n        \"std\": 1.0064959825082582,\n        \"min\": -0.951423192048767,\n        \"max\": 1.051056993730234,\n        \"num_unique_values\": 2,\n        \"samples\": [\n          1.051056993730234\n        ],\n        \"semantic_type\": \"\",\n        \"description\": \"\"\n      }\n    },\n    {\n      \"column\": \"AgeCategory\",\n      \"properties\": {\n        \"dtype\": \"number\",\n        \"std\": 0.8718082961847583,\n        \"min\": -1.2646167291134478,\n        \"max\": 1.5387771713025669,\n        \"num_unique_values\": 9,\n        \"samples\": [\n          -0.9842773390718462\n        ],\n        \"semantic_type\": \"\",\n        \"description\": \"\"\n      }\n    },\n    {\n      \"column\": \"Race\",\n      \"properties\": {\n        \"dtype\": \"number\",\n        \"std\": 1.2768653872461657,\n        \"min\": -0.4695707332275659,\n        \"max\": 2.7111044600462386,\n        \"num_unique_values\": 3,\n        \"samples\": [\n          -0.4695707332275659\n        ],\n        \"semantic_type\": \"\",\n        \"description\": \"\"\n      }\n    },\n    {\n      \"column\": \"Diabetic\",\n      \"properties\": {\n        \"dtype\": \"number\",\n        \"std\": 1.4124909502876841,\n        \"min\": -2.1903928506271058,\n        \"max\": 2.621011096659792,\n        \"num_unique_values\": 3,\n        \"samples\": [\n          0.21530912301634314\n        ],\n        \"semantic_type\": \"\",\n        \"description\": \"\"\n      }\n    },\n    {\n      \"column\": \"PhysicalActivity\",\n      \"properties\": {\n        \"dtype\": \"number\",\n        \"std\": 1.1284255043209215,\n        \"min\": -0.5366441779779643,\n        \"max\": 1.8634321232514364,\n        \"num_unique_values\": 2,\n        \"samples\": [\n          1.8634321232514364\n        ],\n        \"semantic_type\": \"\",\n        \"description\": \"\"\n      }\n    },\n    {\n      \"column\": \"GenHealth\",\n      \"properties\": {\n        \"dtype\": \"number\",\n        \"std\": 1.0617247599568396,\n        \"min\": -2.261691463637848,\n        \"max\": 1.2092717372422843,\n        \"num_unique_values\": 4,\n        \"samples\": [\n          -1.104703730011137\n        ],\n        \"semantic_type\": \"\",\n        \"description\": \"\"\n      }\n    },\n    {\n      \"column\": \"SleepTime\",\n      \"properties\": {\n        \"dtype\": \"number\",\n        \"std\": 0.8301957018244357,\n        \"min\": -2.160362107323749,\n        \"max\": 1.3249999628134945,\n        \"num_unique_values\": 5,\n        \"samples\": [\n          -0.7662172792688516\n        ],\n        \"semantic_type\": \"\",\n        \"description\": \"\"\n      }\n    },\n    {\n      \"column\": \"Asthma\",\n      \"properties\": {\n        \"dtype\": \"number\",\n        \"std\": 0.9034613685546659,\n        \"min\": -2.541873434026801,\n        \"max\": 0.3934106185671935,\n        \"num_unique_values\": 2,\n        \"samples\": [\n          -2.541873434026801\n        ],\n        \"semantic_type\": \"\",\n        \"description\": \"\"\n      }\n    },\n    {\n      \"column\": \"KidneyDisease\",\n      \"properties\": {\n        \"dtype\": \"number\",\n        \"std\": 1.6290493603696552,\n        \"min\": -5.096454872885463,\n        \"max\": 0.19621482480307526,\n        \"num_unique_values\": 2,\n        \"samples\": [\n          -5.096454872885463\n        ],\n        \"semantic_type\": \"\",\n        \"description\": \"\"\n      }\n    },\n    {\n      \"column\": \"SkinCancer\",\n      \"properties\": {\n        \"dtype\": \"number\",\n        \"std\": 1.061784488143158,\n        \"min\": -3.1301962249568125,\n        \"max\": 0.319468789856392,\n        \"num_unique_values\": 2,\n        \"samples\": [\n          -3.1301962249568125\n        ],\n        \"semantic_type\": \"\",\n        \"description\": \"\"\n      }\n    }\n  ]\n}"
                  }
                },
                "metadata": {}
              },
              {
                "output_type": "display_data",
                "data": {
                  "text/plain": "<IPython.core.display.HTML object>",
                  "text/html": "<h2>Primeros registros. Datos de validación escalados de 95939 registros</h2>"
                },
                "metadata": {}
              },
              {
                "output_type": "display_data",
                "data": {
                  "text/plain": "         BMI   Smoking  AlcoholDrinking   Stroke  PhysicalHealth  \\\n0  -0.134959  0.839100         0.270283  0.19839       -0.424521   \n1  -0.591472 -1.191753         0.270283  0.19839        3.346855   \n2  -0.915754 -1.191753         0.270283  0.19839       -0.424521   \n3  -0.497021 -1.191753         0.270283  0.19839       -0.424521   \n4   0.842609  0.839100         0.270283  0.19839       -0.424521   \n5   1.420335  0.839100         0.270283  0.19839       -0.047384   \n6   2.353826 -1.191753         0.270283  0.19839        3.346855   \n7  -1.824058  0.839100         0.270283  0.19839       -0.173096   \n8  -0.685923  0.839100         0.270283  0.19839       -0.424521   \n9   0.301090  0.839100         0.270283  0.19839       -0.424521   \n10 -0.128662 -1.191753        -3.699826  0.19839       -0.424521   \n11  0.496289 -1.191753         0.270283  0.19839       -0.424521   \n12 -0.685923  0.839100         0.270283  0.19839       -0.424521   \n13 -0.396273 -1.191753         0.270283  0.19839        0.832604   \n14  0.737139  0.839100         0.270283  0.19839       -0.424521   \n15 -1.295133 -1.191753         0.270283  0.19839       -0.424521   \n16  0.907151 -1.191753         0.270283  0.19839       -0.424521   \n17  0.449063 -1.191753         0.270283  0.19839       -0.424521   \n18 -0.134959  0.839100        -3.699826  0.19839       -0.424521   \n19  0.570276  0.839100         0.270283  0.19839       -0.424521   \n\n    MentalHealth  DiffWalking       Sex  AgeCategory      Race  Diabetic  \\\n0       3.290363     0.400235 -0.951423     0.417420 -0.469571  0.215309   \n1       2.030271     0.400235 -0.951423    -0.423599  2.711104  0.215309   \n2      -0.489914     0.400235  1.051057     1.258438 -0.469571  0.215309   \n3      -0.489914     0.400235  1.051057    -1.264617 -0.469571  0.215309   \n4       0.014123     0.400235 -0.951423    -1.544956  0.166564  0.215309   \n5      -0.489914     0.400235  1.051057     1.258438 -0.469571  2.621011   \n6       1.400225     0.400235 -0.951423    -0.423599  0.166564  0.215309   \n7       0.140132     0.400235 -0.951423    -1.544956  0.802699  0.215309   \n8       3.290363     0.400235 -0.951423     0.978098 -0.469571  0.215309   \n9       0.392150     0.400235 -0.951423     0.417420 -0.469571  0.215309   \n10     -0.489914     0.400235  1.051057    -1.264617 -0.469571  0.215309   \n11     -0.489914     0.400235  1.051057     0.697759 -0.469571  0.215309   \n12     -0.237896     0.400235 -0.951423    -0.703938 -0.469571  0.215309   \n13     -0.489914     0.400235  1.051057     0.137080  2.074969  0.215309   \n14     -0.489914     0.400235  1.051057     0.417420 -0.469571  2.621011   \n15     -0.489914     0.400235  1.051057     0.697759 -0.469571  0.215309   \n16     -0.489914     0.400235  1.051057    -0.703938 -0.469571  0.215309   \n17     -0.489914     0.400235  1.051057    -0.423599 -0.469571  0.215309   \n18     -0.489914     0.400235 -0.951423     0.978098 -0.469571  0.215309   \n19     -0.489914     0.400235  1.051057     1.258438 -0.469571  0.215309   \n\n    PhysicalActivity  GenHealth  SleepTime    Asthma  KidneyDisease  \\\n0          -0.536644  -1.104704  -0.766217  0.393411       0.196215   \n1          -0.536644  -1.104704   0.627928  0.393411       0.196215   \n2          -0.536644   0.052284   1.325000  0.393411       0.196215   \n3          -0.536644  -1.104704  -1.463290  0.393411       0.196215   \n4          -0.536644   0.052284  -0.766217  0.393411       0.196215   \n5          -0.536644  -1.104704  -0.766217  0.393411       0.196215   \n6           1.863432   1.209272   0.627928  0.393411       0.196215   \n7           1.863432   0.052284  -0.069145  0.393411       0.196215   \n8          -0.536644   1.209272   1.325000  0.393411       0.196215   \n9          -0.536644   0.052284   0.627928  0.393411       0.196215   \n10         -0.536644  -1.104704  -0.069145  0.393411       0.196215   \n11         -0.536644   0.052284   0.627928  0.393411       0.196215   \n12         -0.536644   1.209272  -0.069145  0.393411       0.196215   \n13          1.863432   1.209272  -2.857435 -2.541873       0.196215   \n14         -0.536644   0.052284   0.627928  0.393411       0.196215   \n15         -0.536644   1.209272  -1.463290  0.393411       0.196215   \n16         -0.536644  -1.104704  -1.463290  0.393411       0.196215   \n17         -0.536644   0.052284  -1.463290  0.393411       0.196215   \n18         -0.536644   0.052284   0.627928  0.393411       0.196215   \n19         -0.536644   1.209272   0.627928  0.393411       0.196215   \n\n    SkinCancer  \n0     0.319469  \n1     0.319469  \n2     0.319469  \n3     0.319469  \n4     0.319469  \n5     0.319469  \n6     0.319469  \n7     0.319469  \n8     0.319469  \n9     0.319469  \n10    0.319469  \n11    0.319469  \n12    0.319469  \n13    0.319469  \n14    0.319469  \n15    0.319469  \n16    0.319469  \n17    0.319469  \n18    0.319469  \n19    0.319469  ",
                  "text/html": "\n  <div id=\"df-ebcfda48-1581-4c1c-be7c-d44a62ba9872\" class=\"colab-df-container\">\n    <div>\n<style scoped>\n    .dataframe tbody tr th:only-of-type {\n        vertical-align: middle;\n    }\n\n    .dataframe tbody tr th {\n        vertical-align: top;\n    }\n\n    .dataframe thead th {\n        text-align: right;\n    }\n</style>\n<table border=\"1\" class=\"dataframe\">\n  <thead>\n    <tr style=\"text-align: right;\">\n      <th></th>\n      <th>BMI</th>\n      <th>Smoking</th>\n      <th>AlcoholDrinking</th>\n      <th>Stroke</th>\n      <th>PhysicalHealth</th>\n      <th>MentalHealth</th>\n      <th>DiffWalking</th>\n      <th>Sex</th>\n      <th>AgeCategory</th>\n      <th>Race</th>\n      <th>Diabetic</th>\n      <th>PhysicalActivity</th>\n      <th>GenHealth</th>\n      <th>SleepTime</th>\n      <th>Asthma</th>\n      <th>KidneyDisease</th>\n      <th>SkinCancer</th>\n    </tr>\n  </thead>\n  <tbody>\n    <tr>\n      <th>0</th>\n      <td>-0.134959</td>\n      <td>0.839100</td>\n      <td>0.270283</td>\n      <td>0.19839</td>\n      <td>-0.424521</td>\n      <td>3.290363</td>\n      <td>0.400235</td>\n      <td>-0.951423</td>\n      <td>0.417420</td>\n      <td>-0.469571</td>\n      <td>0.215309</td>\n      <td>-0.536644</td>\n      <td>-1.104704</td>\n      <td>-0.766217</td>\n      <td>0.393411</td>\n      <td>0.196215</td>\n      <td>0.319469</td>\n    </tr>\n    <tr>\n      <th>1</th>\n      <td>-0.591472</td>\n      <td>-1.191753</td>\n      <td>0.270283</td>\n      <td>0.19839</td>\n      <td>3.346855</td>\n      <td>2.030271</td>\n      <td>0.400235</td>\n      <td>-0.951423</td>\n      <td>-0.423599</td>\n      <td>2.711104</td>\n      <td>0.215309</td>\n      <td>-0.536644</td>\n      <td>-1.104704</td>\n      <td>0.627928</td>\n      <td>0.393411</td>\n      <td>0.196215</td>\n      <td>0.319469</td>\n    </tr>\n    <tr>\n      <th>2</th>\n      <td>-0.915754</td>\n      <td>-1.191753</td>\n      <td>0.270283</td>\n      <td>0.19839</td>\n      <td>-0.424521</td>\n      <td>-0.489914</td>\n      <td>0.400235</td>\n      <td>1.051057</td>\n      <td>1.258438</td>\n      <td>-0.469571</td>\n      <td>0.215309</td>\n      <td>-0.536644</td>\n      <td>0.052284</td>\n      <td>1.325000</td>\n      <td>0.393411</td>\n      <td>0.196215</td>\n      <td>0.319469</td>\n    </tr>\n    <tr>\n      <th>3</th>\n      <td>-0.497021</td>\n      <td>-1.191753</td>\n      <td>0.270283</td>\n      <td>0.19839</td>\n      <td>-0.424521</td>\n      <td>-0.489914</td>\n      <td>0.400235</td>\n      <td>1.051057</td>\n      <td>-1.264617</td>\n      <td>-0.469571</td>\n      <td>0.215309</td>\n      <td>-0.536644</td>\n      <td>-1.104704</td>\n      <td>-1.463290</td>\n      <td>0.393411</td>\n      <td>0.196215</td>\n      <td>0.319469</td>\n    </tr>\n    <tr>\n      <th>4</th>\n      <td>0.842609</td>\n      <td>0.839100</td>\n      <td>0.270283</td>\n      <td>0.19839</td>\n      <td>-0.424521</td>\n      <td>0.014123</td>\n      <td>0.400235</td>\n      <td>-0.951423</td>\n      <td>-1.544956</td>\n      <td>0.166564</td>\n      <td>0.215309</td>\n      <td>-0.536644</td>\n      <td>0.052284</td>\n      <td>-0.766217</td>\n      <td>0.393411</td>\n      <td>0.196215</td>\n      <td>0.319469</td>\n    </tr>\n    <tr>\n      <th>5</th>\n      <td>1.420335</td>\n      <td>0.839100</td>\n      <td>0.270283</td>\n      <td>0.19839</td>\n      <td>-0.047384</td>\n      <td>-0.489914</td>\n      <td>0.400235</td>\n      <td>1.051057</td>\n      <td>1.258438</td>\n      <td>-0.469571</td>\n      <td>2.621011</td>\n      <td>-0.536644</td>\n      <td>-1.104704</td>\n      <td>-0.766217</td>\n      <td>0.393411</td>\n      <td>0.196215</td>\n      <td>0.319469</td>\n    </tr>\n    <tr>\n      <th>6</th>\n      <td>2.353826</td>\n      <td>-1.191753</td>\n      <td>0.270283</td>\n      <td>0.19839</td>\n      <td>3.346855</td>\n      <td>1.400225</td>\n      <td>0.400235</td>\n      <td>-0.951423</td>\n      <td>-0.423599</td>\n      <td>0.166564</td>\n      <td>0.215309</td>\n      <td>1.863432</td>\n      <td>1.209272</td>\n      <td>0.627928</td>\n      <td>0.393411</td>\n      <td>0.196215</td>\n      <td>0.319469</td>\n    </tr>\n    <tr>\n      <th>7</th>\n      <td>-1.824058</td>\n      <td>0.839100</td>\n      <td>0.270283</td>\n      <td>0.19839</td>\n      <td>-0.173096</td>\n      <td>0.140132</td>\n      <td>0.400235</td>\n      <td>-0.951423</td>\n      <td>-1.544956</td>\n      <td>0.802699</td>\n      <td>0.215309</td>\n      <td>1.863432</td>\n      <td>0.052284</td>\n      <td>-0.069145</td>\n      <td>0.393411</td>\n      <td>0.196215</td>\n      <td>0.319469</td>\n    </tr>\n    <tr>\n      <th>8</th>\n      <td>-0.685923</td>\n      <td>0.839100</td>\n      <td>0.270283</td>\n      <td>0.19839</td>\n      <td>-0.424521</td>\n      <td>3.290363</td>\n      <td>0.400235</td>\n      <td>-0.951423</td>\n      <td>0.978098</td>\n      <td>-0.469571</td>\n      <td>0.215309</td>\n      <td>-0.536644</td>\n      <td>1.209272</td>\n      <td>1.325000</td>\n      <td>0.393411</td>\n      <td>0.196215</td>\n      <td>0.319469</td>\n    </tr>\n    <tr>\n      <th>9</th>\n      <td>0.301090</td>\n      <td>0.839100</td>\n      <td>0.270283</td>\n      <td>0.19839</td>\n      <td>-0.424521</td>\n      <td>0.392150</td>\n      <td>0.400235</td>\n      <td>-0.951423</td>\n      <td>0.417420</td>\n      <td>-0.469571</td>\n      <td>0.215309</td>\n      <td>-0.536644</td>\n      <td>0.052284</td>\n      <td>0.627928</td>\n      <td>0.393411</td>\n      <td>0.196215</td>\n      <td>0.319469</td>\n    </tr>\n    <tr>\n      <th>10</th>\n      <td>-0.128662</td>\n      <td>-1.191753</td>\n      <td>-3.699826</td>\n      <td>0.19839</td>\n      <td>-0.424521</td>\n      <td>-0.489914</td>\n      <td>0.400235</td>\n      <td>1.051057</td>\n      <td>-1.264617</td>\n      <td>-0.469571</td>\n      <td>0.215309</td>\n      <td>-0.536644</td>\n      <td>-1.104704</td>\n      <td>-0.069145</td>\n      <td>0.393411</td>\n      <td>0.196215</td>\n      <td>0.319469</td>\n    </tr>\n    <tr>\n      <th>11</th>\n      <td>0.496289</td>\n      <td>-1.191753</td>\n      <td>0.270283</td>\n      <td>0.19839</td>\n      <td>-0.424521</td>\n      <td>-0.489914</td>\n      <td>0.400235</td>\n      <td>1.051057</td>\n      <td>0.697759</td>\n      <td>-0.469571</td>\n      <td>0.215309</td>\n      <td>-0.536644</td>\n      <td>0.052284</td>\n      <td>0.627928</td>\n      <td>0.393411</td>\n      <td>0.196215</td>\n      <td>0.319469</td>\n    </tr>\n    <tr>\n      <th>12</th>\n      <td>-0.685923</td>\n      <td>0.839100</td>\n      <td>0.270283</td>\n      <td>0.19839</td>\n      <td>-0.424521</td>\n      <td>-0.237896</td>\n      <td>0.400235</td>\n      <td>-0.951423</td>\n      <td>-0.703938</td>\n      <td>-0.469571</td>\n      <td>0.215309</td>\n      <td>-0.536644</td>\n      <td>1.209272</td>\n      <td>-0.069145</td>\n      <td>0.393411</td>\n      <td>0.196215</td>\n      <td>0.319469</td>\n    </tr>\n    <tr>\n      <th>13</th>\n      <td>-0.396273</td>\n      <td>-1.191753</td>\n      <td>0.270283</td>\n      <td>0.19839</td>\n      <td>0.832604</td>\n      <td>-0.489914</td>\n      <td>0.400235</td>\n      <td>1.051057</td>\n      <td>0.137080</td>\n      <td>2.074969</td>\n      <td>0.215309</td>\n      <td>1.863432</td>\n      <td>1.209272</td>\n      <td>-2.857435</td>\n      <td>-2.541873</td>\n      <td>0.196215</td>\n      <td>0.319469</td>\n    </tr>\n    <tr>\n      <th>14</th>\n      <td>0.737139</td>\n      <td>0.839100</td>\n      <td>0.270283</td>\n      <td>0.19839</td>\n      <td>-0.424521</td>\n      <td>-0.489914</td>\n      <td>0.400235</td>\n      <td>1.051057</td>\n      <td>0.417420</td>\n      <td>-0.469571</td>\n      <td>2.621011</td>\n      <td>-0.536644</td>\n      <td>0.052284</td>\n      <td>0.627928</td>\n      <td>0.393411</td>\n      <td>0.196215</td>\n      <td>0.319469</td>\n    </tr>\n    <tr>\n      <th>15</th>\n      <td>-1.295133</td>\n      <td>-1.191753</td>\n      <td>0.270283</td>\n      <td>0.19839</td>\n      <td>-0.424521</td>\n      <td>-0.489914</td>\n      <td>0.400235</td>\n      <td>1.051057</td>\n      <td>0.697759</td>\n      <td>-0.469571</td>\n      <td>0.215309</td>\n      <td>-0.536644</td>\n      <td>1.209272</td>\n      <td>-1.463290</td>\n      <td>0.393411</td>\n      <td>0.196215</td>\n      <td>0.319469</td>\n    </tr>\n    <tr>\n      <th>16</th>\n      <td>0.907151</td>\n      <td>-1.191753</td>\n      <td>0.270283</td>\n      <td>0.19839</td>\n      <td>-0.424521</td>\n      <td>-0.489914</td>\n      <td>0.400235</td>\n      <td>1.051057</td>\n      <td>-0.703938</td>\n      <td>-0.469571</td>\n      <td>0.215309</td>\n      <td>-0.536644</td>\n      <td>-1.104704</td>\n      <td>-1.463290</td>\n      <td>0.393411</td>\n      <td>0.196215</td>\n      <td>0.319469</td>\n    </tr>\n    <tr>\n      <th>17</th>\n      <td>0.449063</td>\n      <td>-1.191753</td>\n      <td>0.270283</td>\n      <td>0.19839</td>\n      <td>-0.424521</td>\n      <td>-0.489914</td>\n      <td>0.400235</td>\n      <td>1.051057</td>\n      <td>-0.423599</td>\n      <td>-0.469571</td>\n      <td>0.215309</td>\n      <td>-0.536644</td>\n      <td>0.052284</td>\n      <td>-1.463290</td>\n      <td>0.393411</td>\n      <td>0.196215</td>\n      <td>0.319469</td>\n    </tr>\n    <tr>\n      <th>18</th>\n      <td>-0.134959</td>\n      <td>0.839100</td>\n      <td>-3.699826</td>\n      <td>0.19839</td>\n      <td>-0.424521</td>\n      <td>-0.489914</td>\n      <td>0.400235</td>\n      <td>-0.951423</td>\n      <td>0.978098</td>\n      <td>-0.469571</td>\n      <td>0.215309</td>\n      <td>-0.536644</td>\n      <td>0.052284</td>\n      <td>0.627928</td>\n      <td>0.393411</td>\n      <td>0.196215</td>\n      <td>0.319469</td>\n    </tr>\n    <tr>\n      <th>19</th>\n      <td>0.570276</td>\n      <td>0.839100</td>\n      <td>0.270283</td>\n      <td>0.19839</td>\n      <td>-0.424521</td>\n      <td>-0.489914</td>\n      <td>0.400235</td>\n      <td>1.051057</td>\n      <td>1.258438</td>\n      <td>-0.469571</td>\n      <td>0.215309</td>\n      <td>-0.536644</td>\n      <td>1.209272</td>\n      <td>0.627928</td>\n      <td>0.393411</td>\n      <td>0.196215</td>\n      <td>0.319469</td>\n    </tr>\n  </tbody>\n</table>\n</div>\n    <div class=\"colab-df-buttons\">\n\n  <div class=\"colab-df-container\">\n    <button class=\"colab-df-convert\" onclick=\"convertToInteractive('df-ebcfda48-1581-4c1c-be7c-d44a62ba9872')\"\n            title=\"Convert this dataframe to an interactive table.\"\n            style=\"display:none;\">\n\n  <svg xmlns=\"http://www.w3.org/2000/svg\" height=\"24px\" viewBox=\"0 -960 960 960\">\n    <path d=\"M120-120v-720h720v720H120Zm60-500h600v-160H180v160Zm220 220h160v-160H400v160Zm0 220h160v-160H400v160ZM180-400h160v-160H180v160Zm440 0h160v-160H620v160ZM180-180h160v-160H180v160Zm440 0h160v-160H620v160Z\"/>\n  </svg>\n    </button>\n\n  <style>\n    .colab-df-container {\n      display:flex;\n      gap: 12px;\n    }\n\n    .colab-df-convert {\n      background-color: #E8F0FE;\n      border: none;\n      border-radius: 50%;\n      cursor: pointer;\n      display: none;\n      fill: #1967D2;\n      height: 32px;\n      padding: 0 0 0 0;\n      width: 32px;\n    }\n\n    .colab-df-convert:hover {\n      background-color: #E2EBFA;\n      box-shadow: 0px 1px 2px rgba(60, 64, 67, 0.3), 0px 1px 3px 1px rgba(60, 64, 67, 0.15);\n      fill: #174EA6;\n    }\n\n    .colab-df-buttons div {\n      margin-bottom: 4px;\n    }\n\n    [theme=dark] .colab-df-convert {\n      background-color: #3B4455;\n      fill: #D2E3FC;\n    }\n\n    [theme=dark] .colab-df-convert:hover {\n      background-color: #434B5C;\n      box-shadow: 0px 1px 3px 1px rgba(0, 0, 0, 0.15);\n      filter: drop-shadow(0px 1px 2px rgba(0, 0, 0, 0.3));\n      fill: #FFFFFF;\n    }\n  </style>\n\n    <script>\n      const buttonEl =\n        document.querySelector('#df-ebcfda48-1581-4c1c-be7c-d44a62ba9872 button.colab-df-convert');\n      buttonEl.style.display =\n        google.colab.kernel.accessAllowed ? 'block' : 'none';\n\n      async function convertToInteractive(key) {\n        const element = document.querySelector('#df-ebcfda48-1581-4c1c-be7c-d44a62ba9872');\n        const dataTable =\n          await google.colab.kernel.invokeFunction('convertToInteractive',\n                                                    [key], {});\n        if (!dataTable) return;\n\n        const docLinkHtml = 'Like what you see? Visit the ' +\n          '<a target=\"_blank\" href=https://colab.research.google.com/notebooks/data_table.ipynb>data table notebook</a>'\n          + ' to learn more about interactive tables.';\n        element.innerHTML = '';\n        dataTable['output_type'] = 'display_data';\n        await google.colab.output.renderOutput(dataTable, element);\n        const docLink = document.createElement('div');\n        docLink.innerHTML = docLinkHtml;\n        element.appendChild(docLink);\n      }\n    </script>\n  </div>\n\n\n<div id=\"df-378b6974-5297-44a1-a57d-fac745569054\">\n  <button class=\"colab-df-quickchart\" onclick=\"quickchart('df-378b6974-5297-44a1-a57d-fac745569054')\"\n            title=\"Suggest charts\"\n            style=\"display:none;\">\n\n<svg xmlns=\"http://www.w3.org/2000/svg\" height=\"24px\"viewBox=\"0 0 24 24\"\n     width=\"24px\">\n    <g>\n        <path d=\"M19 3H5c-1.1 0-2 .9-2 2v14c0 1.1.9 2 2 2h14c1.1 0 2-.9 2-2V5c0-1.1-.9-2-2-2zM9 17H7v-7h2v7zm4 0h-2V7h2v10zm4 0h-2v-4h2v4z\"/>\n    </g>\n</svg>\n  </button>\n\n<style>\n  .colab-df-quickchart {\n      --bg-color: #E8F0FE;\n      --fill-color: #1967D2;\n      --hover-bg-color: #E2EBFA;\n      --hover-fill-color: #174EA6;\n      --disabled-fill-color: #AAA;\n      --disabled-bg-color: #DDD;\n  }\n\n  [theme=dark] .colab-df-quickchart {\n      --bg-color: #3B4455;\n      --fill-color: #D2E3FC;\n      --hover-bg-color: #434B5C;\n      --hover-fill-color: #FFFFFF;\n      --disabled-bg-color: #3B4455;\n      --disabled-fill-color: #666;\n  }\n\n  .colab-df-quickchart {\n    background-color: var(--bg-color);\n    border: none;\n    border-radius: 50%;\n    cursor: pointer;\n    display: none;\n    fill: var(--fill-color);\n    height: 32px;\n    padding: 0;\n    width: 32px;\n  }\n\n  .colab-df-quickchart:hover {\n    background-color: var(--hover-bg-color);\n    box-shadow: 0 1px 2px rgba(60, 64, 67, 0.3), 0 1px 3px 1px rgba(60, 64, 67, 0.15);\n    fill: var(--button-hover-fill-color);\n  }\n\n  .colab-df-quickchart-complete:disabled,\n  .colab-df-quickchart-complete:disabled:hover {\n    background-color: var(--disabled-bg-color);\n    fill: var(--disabled-fill-color);\n    box-shadow: none;\n  }\n\n  .colab-df-spinner {\n    border: 2px solid var(--fill-color);\n    border-color: transparent;\n    border-bottom-color: var(--fill-color);\n    animation:\n      spin 1s steps(1) infinite;\n  }\n\n  @keyframes spin {\n    0% {\n      border-color: transparent;\n      border-bottom-color: var(--fill-color);\n      border-left-color: var(--fill-color);\n    }\n    20% {\n      border-color: transparent;\n      border-left-color: var(--fill-color);\n      border-top-color: var(--fill-color);\n    }\n    30% {\n      border-color: transparent;\n      border-left-color: var(--fill-color);\n      border-top-color: var(--fill-color);\n      border-right-color: var(--fill-color);\n    }\n    40% {\n      border-color: transparent;\n      border-right-color: var(--fill-color);\n      border-top-color: var(--fill-color);\n    }\n    60% {\n      border-color: transparent;\n      border-right-color: var(--fill-color);\n    }\n    80% {\n      border-color: transparent;\n      border-right-color: var(--fill-color);\n      border-bottom-color: var(--fill-color);\n    }\n    90% {\n      border-color: transparent;\n      border-bottom-color: var(--fill-color);\n    }\n  }\n</style>\n\n  <script>\n    async function quickchart(key) {\n      const quickchartButtonEl =\n        document.querySelector('#' + key + ' button');\n      quickchartButtonEl.disabled = true;  // To prevent multiple clicks.\n      quickchartButtonEl.classList.add('colab-df-spinner');\n      try {\n        const charts = await google.colab.kernel.invokeFunction(\n            'suggestCharts', [key], {});\n      } catch (error) {\n        console.error('Error during call to suggestCharts:', error);\n      }\n      quickchartButtonEl.classList.remove('colab-df-spinner');\n      quickchartButtonEl.classList.add('colab-df-quickchart-complete');\n    }\n    (() => {\n      let quickchartButtonEl =\n        document.querySelector('#df-378b6974-5297-44a1-a57d-fac745569054 button');\n      quickchartButtonEl.style.display =\n        google.colab.kernel.accessAllowed ? 'block' : 'none';\n    })();\n  </script>\n</div>\n    </div>\n  </div>\n",
                  "application/vnd.google.colaboratory.intrinsic+json": {
                    "type": "dataframe",
                    "summary": "{\n  \"name\": \"display(visualizar)\",\n  \"rows\": 20,\n  \"fields\": [\n    {\n      \"column\": \"BMI\",\n      \"properties\": {\n        \"dtype\": \"number\",\n        \"std\": 0.974894750865503,\n        \"min\": -1.824058379957419,\n        \"max\": 2.3538260775799893,\n        \"num_unique_values\": 18,\n        \"samples\": [\n          -0.13495889882040366,\n          -0.5914722721006784,\n          -0.685923314848321\n        ],\n        \"semantic_type\": \"\",\n        \"description\": \"\"\n      }\n    },\n    {\n      \"column\": \"Smoking\",\n      \"properties\": {\n        \"dtype\": \"number\",\n        \"std\": 1.0418055665551467,\n        \"min\": -1.1917525690660522,\n        \"max\": 0.8391003518319884,\n        \"num_unique_values\": 2,\n        \"samples\": [\n          -1.1917525690660522,\n          0.8391003518319884\n        ],\n        \"semantic_type\": \"\",\n        \"description\": \"\"\n      }\n    },\n    {\n      \"column\": \"AlcoholDrinking\",\n      \"properties\": {\n        \"dtype\": \"number\",\n        \"std\": 1.2219738180221271,\n        \"min\": -3.699826200074965,\n        \"max\": 0.27028296625926357,\n        \"num_unique_values\": 2,\n        \"samples\": [\n          -3.699826200074965,\n          0.27028296625926357\n        ],\n        \"semantic_type\": \"\",\n        \"description\": \"\"\n      }\n    },\n    {\n      \"column\": \"Stroke\",\n      \"properties\": {\n        \"dtype\": \"number\",\n        \"std\": 2.8476619731297836e-17,\n        \"min\": 0.1983898337440781,\n        \"max\": 0.1983898337440781,\n        \"num_unique_values\": 1,\n        \"samples\": [\n          0.1983898337440781\n        ],\n        \"semantic_type\": \"\",\n        \"description\": \"\"\n      }\n    },\n    {\n      \"column\": \"PhysicalHealth\",\n      \"properties\": {\n        \"dtype\": \"number\",\n        \"std\": 1.1650072311196267,\n        \"min\": -0.4245213101781533,\n        \"max\": 3.346854972108922,\n        \"num_unique_values\": 5,\n        \"samples\": [\n          3.346854972108922\n        ],\n        \"semantic_type\": \"\",\n        \"description\": \"\"\n      }\n    },\n    {\n      \"column\": \"MentalHealth\",\n      \"properties\": {\n        \"dtype\": \"number\",\n        \"std\": 1.2536263131321703,\n        \"min\": -0.48991435707911246,\n        \"max\": 3.2903634090098692,\n        \"num_unique_values\": 8,\n        \"samples\": [\n          2.030270820313542\n        ],\n        \"semantic_type\": \"\",\n        \"description\": \"\"\n      }\n    },\n    {\n      \"column\": \"DiffWalking\",\n      \"properties\": {\n        \"dtype\": \"number\",\n        \"std\": 0.0,\n        \"min\": 0.4002352273916781,\n        \"max\": 0.4002352273916781,\n        \"num_unique_values\": 1,\n        \"samples\": [\n          0.4002352273916781\n        ],\n        \"semantic_type\": \"\",\n        \"description\": \"\"\n      }\n    },\n    {\n      \"column\": \"Sex\",\n      \"properties\": {\n        \"dtype\": \"number\",\n        \"std\": 1.0221015020011117,\n        \"min\": -0.951423192048767,\n        \"max\": 1.051056993730234,\n        \"num_unique_values\": 2,\n        \"samples\": [\n          1.051056993730234\n        ],\n        \"semantic_type\": \"\",\n        \"description\": \"\"\n      }\n    },\n    {\n      \"column\": \"AgeCategory\",\n      \"properties\": {\n        \"dtype\": \"number\",\n        \"std\": 0.9646068070877762,\n        \"min\": -1.5449561191550492,\n        \"max\": 1.2584377812609655,\n        \"num_unique_values\": 9,\n        \"samples\": [\n          -0.7039379490302448\n        ],\n        \"semantic_type\": \"\",\n        \"description\": \"\"\n      }\n    },\n    {\n      \"column\": \"Race\",\n      \"properties\": {\n        \"dtype\": \"number\",\n        \"std\": 0.9061178964895862,\n        \"min\": -0.4695707332275659,\n        \"max\": 2.7111044600462386,\n        \"num_unique_values\": 5,\n        \"samples\": [\n          2.7111044600462386\n        ],\n        \"semantic_type\": \"\",\n        \"description\": \"\"\n      }\n    },\n    {\n      \"column\": \"Diabetic\",\n      \"properties\": {\n        \"dtype\": \"number\",\n        \"std\": 0.7404594439580126,\n        \"min\": 0.21530912301634314,\n        \"max\": 2.621011096659792,\n        \"num_unique_values\": 2,\n        \"samples\": [\n          2.621011096659792\n        ],\n        \"semantic_type\": \"\",\n        \"description\": \"\"\n      }\n    },\n    {\n      \"column\": \"PhysicalActivity\",\n      \"properties\": {\n        \"dtype\": \"number\",\n        \"std\": 0.8792620692463967,\n        \"min\": -0.5366441779779643,\n        \"max\": 1.8634321232514364,\n        \"num_unique_values\": 2,\n        \"samples\": [\n          1.8634321232514364\n        ],\n        \"semantic_type\": \"\",\n        \"description\": \"\"\n      }\n    },\n    {\n      \"column\": \"GenHealth\",\n      \"properties\": {\n        \"dtype\": \"number\",\n        \"std\": 0.9194806139495582,\n        \"min\": -1.104703730011137,\n        \"max\": 1.2092717372422843,\n        \"num_unique_values\": 3,\n        \"samples\": [\n          -1.104703730011137\n        ],\n        \"semantic_type\": \"\",\n        \"description\": \"\"\n      }\n    },\n    {\n      \"column\": \"SleepTime\",\n      \"properties\": {\n        \"dtype\": \"number\",\n        \"std\": 1.1217178920975654,\n        \"min\": -2.857434521351198,\n        \"max\": 1.3249999628134945,\n        \"num_unique_values\": 6,\n        \"samples\": [\n          -0.7662172792688516\n        ],\n        \"semantic_type\": \"\",\n        \"description\": \"\"\n      }\n    },\n    {\n      \"column\": \"Asthma\",\n      \"properties\": {\n        \"dtype\": \"number\",\n        \"std\": 0.6563494674871239,\n        \"min\": -2.541873434026801,\n        \"max\": 0.3934106185671935,\n        \"num_unique_values\": 2,\n        \"samples\": [\n          -2.541873434026801\n        ],\n        \"semantic_type\": \"\",\n        \"description\": \"\"\n      }\n    },\n    {\n      \"column\": \"KidneyDisease\",\n      \"properties\": {\n        \"dtype\": \"number\",\n        \"std\": 2.8476619731297836e-17,\n        \"min\": 0.19621482480307526,\n        \"max\": 0.19621482480307526,\n        \"num_unique_values\": 1,\n        \"samples\": [\n          0.19621482480307526\n        ],\n        \"semantic_type\": \"\",\n        \"description\": \"\"\n      }\n    },\n    {\n      \"column\": \"SkinCancer\",\n      \"properties\": {\n        \"dtype\": \"number\",\n        \"std\": 5.695323946259567e-17,\n        \"min\": 0.319468789856392,\n        \"max\": 0.319468789856392,\n        \"num_unique_values\": 1,\n        \"samples\": [\n          0.319468789856392\n        ],\n        \"semantic_type\": \"\",\n        \"description\": \"\"\n      }\n    }\n  ]\n}"
                  }
                },
                "metadata": {}
              }
            ]
          }
        },
        "d1a49c7afe7e4273975260d5071826b8": {
          "model_module": "@jupyter-widgets/base",
          "model_name": "LayoutModel",
          "model_module_version": "1.2.0",
          "state": {
            "_model_module": "@jupyter-widgets/base",
            "_model_module_version": "1.2.0",
            "_model_name": "LayoutModel",
            "_view_count": null,
            "_view_module": "@jupyter-widgets/base",
            "_view_module_version": "1.2.0",
            "_view_name": "LayoutView",
            "align_content": null,
            "align_items": null,
            "align_self": null,
            "border": null,
            "bottom": null,
            "display": null,
            "flex": null,
            "flex_flow": null,
            "grid_area": null,
            "grid_auto_columns": null,
            "grid_auto_flow": null,
            "grid_auto_rows": null,
            "grid_column": null,
            "grid_gap": null,
            "grid_row": null,
            "grid_template_areas": null,
            "grid_template_columns": null,
            "grid_template_rows": null,
            "height": null,
            "justify_content": null,
            "justify_items": null,
            "left": null,
            "margin": null,
            "max_height": null,
            "max_width": null,
            "min_height": null,
            "min_width": null,
            "object_fit": null,
            "object_position": null,
            "order": null,
            "overflow": null,
            "overflow_x": null,
            "overflow_y": null,
            "padding": null,
            "right": null,
            "top": null,
            "visibility": null,
            "width": null
          }
        }
      }
    }
  },
  "cells": [
    {
      "cell_type": "markdown",
      "metadata": {
        "id": "view-in-github",
        "colab_type": "text"
      },
      "source": [
        "<a href=\"https://colab.research.google.com/github/rpizarrog/innovacion-empresarial/blob/main/notebook_python/Caso_16_Maq%C3%BAinas_de_soporte_vectorial_(SVM)_como_clasificador_para_Da%C3%B1os_al_Coraz%C3%B3n.ipynb\" target=\"_parent\"><img src=\"https://colab.research.google.com/assets/colab-badge.svg\" alt=\"Open In Colab\"/></a>"
      ]
    },
    {
      "cell_type": "markdown",
      "source": [
        "# Objetivo\n",
        "\n",
        "Construir, evaluar e interpretar el modelo *máquinas de soporte vectorial (SVM)* como algoritmo de clasificación para predicción de daños al corazón."
      ],
      "metadata": {
        "id": "dGLHmAgoiSGe"
      }
    },
    {
      "cell_type": "markdown",
      "source": [
        "# Fundamento teórico\n",
        "\n",
        "Por sus siglas en inglés: *Support Vector Machines (SVM)* son un conjunto de métodos de aprendizaje supervisado utilizados tanto para clasificación como para regresión. Sin embargo, su aplicación más común es en problemas de clasificación.\n",
        "\n",
        "La idea principal detrás de *SVM* es encontrar el hiperplano óptimo que mejor separa las clases en el espacio de características. Este hiperplano se define como el que maximiza el margen entre las clases, donde el margen es la distancia entre el hiperplano y los puntos de datos más cercanos de cada clase, que se denominan vectores de soporte.\n",
        "\n",
        "Aspectos claves de algoritmos SVM en el contexto de la clasificación:\n",
        "\n",
        "* Clasificación lineal: En su forma más simple, SVM busca un hiperplano lineal que pueda separar dos clases de datos. Si los datos no son linealmente separables en el espacio de características original, SVM puede mapear los datos a un espacio de características de mayor dimensión utilizando una función kernel para hacerlos separables.\n",
        "\n",
        "* Función de decisión: Una vez que se encuentra el hiperplano óptimo, la función de decisión de SVM clasifica nuevas muestras asignándolas a una clase según su posición con respecto al hiperplano.\n",
        "\n",
        "* Regularización: SVM utiliza la regularización para controlar la complejidad del modelo y evitar el sobreajuste. Esto se logra mediante la introducción de un parámetro de regularización (C) que controla el equilibrio entre maximizar el margen y minimizar el error de clasificación.\n",
        "\n",
        "* Kernel Trick: SVM permite el uso de funciones kernel, como el kernel lineal, polinomial, radial (RBF), entre otros. Esto permite la clasificación no lineal al mapear los datos a un espacio de características de mayor dimensión donde las clases son linealmente separables.\n",
        "\n",
        "* Clasificación multiclase: SVM puede manejar problemas de clasificación multiclase utilizando estrategias como la clasificación uno contra todos (one-vs-rest) o la clasificación uno contra uno (one-vs-one).\n",
        "\n",
        "* Robustez: SVM es robusto frente a datos de alta dimensionalidad y a la presencia de ruido en los datos.\n",
        "\n",
        "[Chat Gpt 2024].\n",
        "\n",
        "Los algoritmos de *SVM* son poderosos métodos de aprendizaje supervisado utilizados para la clasificación, que buscan encontrar el hiperplano óptimo que mejor separa las clases en el espacio de características, utilizando técnicas como el kernel trick para manejar problemas no lineales."
      ],
      "metadata": {
        "id": "AJzn2t-tjDQb"
      }
    },
    {
      "cell_type": "markdown",
      "source": [
        "# Descripción\n",
        "\n",
        "Se cargan librerías y se descargan los datos:\n",
        "\n",
        "Los datos están relacionados con aspectos médicos y son valores numéricos de varias variables que caracterizan el estado de salud de 319,795 personas.\n",
        "\n",
        "Se pretende construir un modelo utilizando **algoritmos supervisados** para resolver la **tarea de predicción** mediante el modelo **SVM** para predecir e identificar si una persona padece del corazón o no.\n",
        "\n",
        "Se construyen datos de entrenamiento y validación al 70% y 30% cada uno.\n",
        "\n",
        "Se desarrollan los modelos de:\n",
        "\n",
        "-   Regresión Logística binaria\n",
        "-   Árbol de Clasificación tipo *class\n",
        "-   Random forest para clasificación**\n",
        "-   K Means\n",
        "-   **Máquinas de soporte vecorial (SVM) kernel lineal**\n",
        "-   Máquinas de soporte vecorial (SVM) kernel polinomial\n",
        "-   Máquinas de soporte vecorial (SVM) kernel radial\n",
        "\n",
        "El modelo se evalúa mediante la téncica de matriz de confusión por medio del estadístico de exactitud *accuracy*.\n",
        "\n",
        "Los modelo se aceptan si tienen un valor de **exactitud (\"*Accuracy*\") por encima del 70%**.\n",
        "El modelo se construye con funciones de librerías de *python*."
      ],
      "metadata": {
        "id": "QNEpJ3sgA-HW"
      }
    },
    {
      "cell_type": "markdown",
      "source": [
        "## Los datos\n",
        "\n",
        "### Las variables de interés\n",
        "\n",
        "Todas las variables de entrada o variables independientes:\n",
        "\n",
        "-   \"*BMI*\": Indice de masa corporal con valores entre 12.02 y 94.85.\n",
        "\n",
        "-   \"*Smoking*\": Si la persona es fumadora o no con valores categóritos de 'Yes' o 'No'. Ya con datos previamente transformados: [1 Yes | 2 No]\n",
        "\n",
        "-   \"*AlcoholDrinking*\" : Si consume alcohol o no, con valores categóricos de 'Yes' o 'No'. Ya con datos previamente transformados: [1 Yes | 2 No]\n",
        "\n",
        "-   \"*Stroke*\": Si padece alguna anomalía cerebrovascular, apoplejia o algo similar, con valores categóricos de 'Yes' o 'No'. Ya con datos previamente transformados: [1 Yes | 2 No]\n",
        "\n",
        "-   \"*PhysicalHealth*\" Estado físico en lo general con valores entre 0 y 30.\n",
        "\n",
        "-   \"*MentalHealth*\". Estado mental en lo general con valores entre 0 y 30.\n",
        "\n",
        "-   \"*DiffWalking*\" . Que si se le dificulta caminar o tiene algún padecimiento al caminar, con valores categóritoc de 'Yes' o 'No'. Ya con datos previamente transformados: [1 Yes | 2 No]\n",
        "\n",
        "-   \"*Sex*\": Género de la persona, con valores de 'Female' y 'Male' para distinguir al género femenino y masculino respectivamente. Ya con datos previamente transformados: [1 Female | 2 Male]\n",
        "\n",
        "-   \"*AgeCategory*\": Una clasificación de la edad de la persona de entre 18 y 80 años. La primera categoría con un rango de edad entre 18-24, a partir de 25 con rangos de 5 en 5 hasta la clase de 75-80 y una última categoría mayores de 80 años. Ya con datos previamente transformados: [1 - 13].\n",
        "\n",
        "-   \"*Race*\". Raza u origen de la persona con valores categóricos de '*American Indian/Alaskan Native', 'Asian','Black', 'Hispanic', 'Other'* y'*White'.*.Ya con datos previamente transformados: [1 - 6]\n",
        "\n",
        "-   \"*Diabetic*\". Si padece o ha padecido de diabetes en cuatro condiciones siendo Yes y No para si o no: 'No', 'borderline diabetes' condición antes de detectarse diabetes tipo 2, 'Yes', y 'Yes (during pregnancy)' durante embarazo. Ya con datos previamente transformados: [1 - 4]\n",
        "\n",
        "-   \"*PhysicalActivity*\" que si realiza actividad física, con valores categóricos de 'Yes' o 'No'. Ya con datos previamente transformados: [1 Yes | 2 No]\n",
        "\n",
        "-   \"*GenHealth*\": EStado general de salud de la persona con valores categóricos de 'Excellent', 'Very good', 'Good', 'Fair' y 'Poor' con significado en español de excelente, muy buena, buena, regular y pobre o deficiente. Ya con datos previamente transformados: [1 - 5]\n",
        "\n",
        "-   \"*SleepTime*\": valor numérico de las horas de sueño u horas que duerme la persona con valores en un rango entre 1 y 24.\n",
        "\n",
        "-   \"*Asthma*\": si padece de asma o no, con valores categóricos de 'Yes' o 'No'. Ya con datos previamente transformados: [1 Yes | 2 No]\n",
        "\n",
        "-   \"*KidneyDisease*\": si tiene algún padecimiento en los riñones, con valores categóricos de 'Yes' o 'No'. Ya con datos previamente transformados: [1 Yes | 2 No]\n",
        "\n",
        "-   \"*SkinCancer*\": si padece algún tipo de cáncer de piel, con valores categóricos de 'Yes' o 'No'. Ya con datos previamente transformados: [1 Yes | 2 No]\n",
        "\n",
        "La variable de interés como dependiente o variable de salida es la de daño al corazón (*HeartDisease*), con valores categóricos de 'Yes' o 'No'.*\n",
        "\n",
        "Nuevamente la descripción de variables y ahora son 319795 observaciones y 18 variables"
      ],
      "metadata": {
        "id": "kinCLIMNBGOE"
      }
    },
    {
      "cell_type": "markdown",
      "source": [
        "## Matriz de confusión\n",
        "\n",
        "Una matriz de confusión es una herramienta que permite evaluación de un modelo de clasificación.\n",
        "\n",
        "Cada columna de la matriz representa el número de predicciones de cada clase, mientras que cada fila representa a las instancias en la clase real.\n",
        "\n",
        "Uno de los beneficios de las matrices de confusión es que facilitan ver si el sistema está confundiendo las diferentes clases o resultados o lo que es lo mismo en cuantas ocasiones le atina un modelo de clasificación para una tarea de predecir una clase.\n",
        "\n",
        "Hay que encontrar a cuantos casos se le atinaron utilizando los datos de validación y con ello encontrar el porcentaje de aciertos.\n",
        "\n",
        "Se puede evaluar el modelo con la matriz de confusión interpretando algunos estadísticos. Se evalúa el modelo de acuerdo a estas condiciones:\n",
        "\n",
        "* Accuracy o exactitud\n",
        "$$\n",
        "accuracy = \\frac{VP + VN}{VP+FP+FN+VN}\n",
        "$$\n",
        "\n",
        "$$\n",
        "n = \\text{total de datos que participaron en el modelo = } {VP+FP+FN+VN}\n",
        "$$\n",
        "\n",
        "* Precision o precisión\n",
        "$$\n",
        "precision = \\frac{VP}{VP + FP}\n",
        "$$\n",
        "\n",
        "* Recall o recuperación\n",
        "$$\n",
        "recall = \\frac{VP}{VP + FN}\n",
        "$$\n",
        "\n",
        "* Especificity o especificidad (tasa de verdaderos negativos)\n",
        "\n",
        "$$\n",
        "especificity = \\frac{VN}{VN + FP}\n",
        "$$\n",
        "\n",
        "$$\n",
        "\\therefore \\text{de dónde ... ...}\n",
        "$$\n",
        "\n",
        "* VP = Verdaderos Positivos. Le atinó\n",
        "* FP = Falsos Positivos No acertó\n",
        "* FN = Falsos Negativos. No acertó\n",
        "* VN = Verdaderos Negativos. Le atinó.\n",
        "\n",
        "Ahora lo que falta es dentro del contexto que significa positivo y negativo:\n",
        "* positivo es que NO está enfermo del corazón *(HeartDisease='No')* y\n",
        "* negativo es que SI está enfermo del corazón*(HeartDisease='Yes')*.\n",
        "\n",
        "Y que significa verdadero y falso:\n",
        "\n",
        "* Verdadero significa que la prediccón si le atina ya sea a lo positivo o al negativo\n",
        "* False significa que la predicción no le atina ya sea positivo o negativo.\n",
        "\n",
        "## Matriz:\n",
        "\n",
        "$$\n",
        "\\begin{array}{c|c|c}\n",
        "& \\text{Predicción Positiva. No Daño} & \\text{Predicción Negativa.Si Daño} \\\\\n",
        "\\hline\n",
        "\\text{Clase Positiva. No Daño} & VP & FN \\\\\n",
        "\\text{Clase Negativa. Si Daño} & FP & VN \\\\\n",
        "\\hline\n",
        "\\end{array}\n",
        "$$"
      ],
      "metadata": {
        "id": "xR8KJUQtBLBd"
      }
    },
    {
      "cell_type": "markdown",
      "source": [
        "# Desarrollo\n",
        "\n",
        "## Cargar librerías\n",
        "\n",
        "\n",
        "\n"
      ],
      "metadata": {
        "id": "MxqhEvUgj3if"
      }
    },
    {
      "cell_type": "code",
      "source": [
        "import pandas as pd\n",
        "from sklearn.model_selection import train_test_split\n",
        "from sklearn.preprocessing import StandardScaler, LabelEncoder\n",
        "from sklearn.svm import SVC\n",
        "from sklearn.metrics import accuracy_score, classification_report, confusion_matrix\n",
        "\n",
        "\n",
        "import ipywidgets as widgets\n",
        "from IPython.display import display, HTML, clear_output\n",
        "\n",
        "\n",
        "import time # Para medir el tiempo de ejecución\n",
        "\n",
        "import matplotlib.pyplot as plt"
      ],
      "metadata": {
        "id": "49CLoPY0kgVY"
      },
      "execution_count": 4,
      "outputs": []
    },
    {
      "cell_type": "markdown",
      "source": [
        "## Cargar funciones\n"
      ],
      "metadata": {
        "id": "7fdNQHtCkkR3"
      }
    },
    {
      "cell_type": "code",
      "source": [
        "def f_diagrama_barra(datos):\n",
        "    conteo = datos['HeartDisease'].value_counts()\n",
        "    colores = ['green', 'red']  # Colores para las barras\n",
        "\n",
        "    # Crear el gráfico de barras con colores específicos\n",
        "    plt.figure(figsize=(8, 6))\n",
        "    barras = plt.bar(conteo.index, conteo.values, color=colores)\n",
        "\n",
        "    # Añadir etiquetas con la frecuencia en cada barra\n",
        "    for barra in barras:\n",
        "        yval = barra.get_height()\n",
        "        plt.text(barra.get_x() + barra.get_width()/2, yval, int(yval), ha='center', va='bottom')\n",
        "\n",
        "    plt.title('Total de Daños al Corazón vs No Daños')\n",
        "    plt.xlabel('Daño al Corazón (1 = Daño, 0 = No Daño)')\n",
        "    plt.ylabel('Total de Casos')\n",
        "    plt.xticks(ticks=[0, 1], labels=['No Daño', 'Daño'], rotation=0)\n",
        "    plt.show()\n",
        "\n",
        "# Esta función recibe el modelo, los datos de validación y la variable objetivo;\n",
        "# presenta la matriz de confusión así como\n",
        "# el estadísitico accuracy que sirve para evaluar la exactitud del modelo de clasificación\n",
        "def f_evaluar_modelo(predicciones, y_test):\n",
        "\n",
        "  # Hay que hacer predicciones\n",
        "  # predicciones = modelo.predict(datos_validacion)\n",
        "\n",
        "  # Calcular la precisión\n",
        "  precision = accuracy_score(y_test, predicciones)\n",
        "  print(f\"La exactitud del modelo es: {precision}\")\n",
        "\n",
        "  # Opcional: Mostrar la matriz de confusión\n",
        "  matriz_confusion = confusion_matrix(y_test, predicciones)\n",
        "  print(\"Matriz de Confusión:\")\n",
        "  print(matriz_confusion)\n",
        "\n",
        "  # Extraer los valores de la matriz de confusión\n",
        "  VP = matriz_confusion[0, 0]\n",
        "  FN = matriz_confusion[0, 1]\n",
        "  FP = matriz_confusion[1, 0]\n",
        "  VN = matriz_confusion[1, 1]\n",
        "\n",
        "  print ()\n",
        "  print (\"VP: Verdaderos Positivos. El modelo la atina (V) a los que no ('No') tienen daño al corazón: \", VP)\n",
        "  print (\"FN: Falsos Negativos. El modelo falla (F) a los que no ('No') daño, prediciendo que si ('Yes') tienen daño al corazón: \", FN)\n",
        "  print (\"FP: Falsos Positivos. El modelo falla (F) a los que si ('Yes') daño, prediciendo que no ('No) tienen daño al corazón: \", FP)\n",
        "  print (\"VN: Verdaderos Negativos. El modelo le atina (V) a los que si ('Yes') tienen daño al corazón: \", VN)\n",
        "\n",
        "  print (\"Compronando\")\n",
        "  print (\"Accuracy = (VP + VN)/(VP + FN + FP + VN)\",\n",
        "         \"(\",VP, \"+\", VN,\") / (\",VP,\"+\",FN,\"+\",FP,\"+\",VN,\") = \", (VP + VN)/(VP + FN + FP + VN))"
      ],
      "metadata": {
        "id": "y_oxLGoSkmW_"
      },
      "execution_count": 14,
      "outputs": []
    },
    {
      "cell_type": "markdown",
      "source": [
        "## Cargar widgest\n",
        "\n"
      ],
      "metadata": {
        "id": "2PRB55S6kqLP"
      }
    },
    {
      "cell_type": "code",
      "source": [
        "visualizar = widgets.Output()\n",
        "\n",
        "\n",
        "# Función para actualizar y mostrar el contenido dinámicamente en el widget de salida\n",
        "def f_visualizar_datos(datos1, datos2, titulo1, titulo2):\n",
        "    with visualizar:\n",
        "        #global titulo1, titulo2\n",
        "        #titulo1 = \"Primeros 20 registros de datos\"\n",
        "        visualizar.clear_output(wait=True)  # Limpiar el contenido anterior\n",
        "        display(HTML(f\"<h2>{titulo1}</h2>\"))  # Establecer el nuevo título\n",
        "        # Visualizar datos\n",
        "        display(datos1)\n",
        "\n",
        "        #titulo2 = \"Últimos 20 registros de datos\"\n",
        "        display(HTML(f\"<h2>{titulo2}</h2>\"))  # Establecer el nuevo título\n",
        "        # Visualizar datos\n",
        "        display(datos2)"
      ],
      "metadata": {
        "id": "tRGFwxVLktbG"
      },
      "execution_count": 6,
      "outputs": []
    },
    {
      "cell_type": "markdown",
      "source": [
        "## Cargar datos\n",
        "\n"
      ],
      "metadata": {
        "id": "MBl9W3m4k1qQ"
      }
    },
    {
      "cell_type": "code",
      "source": [
        "# Cargar los datos desde la URL\n",
        "url = \"https://raw.githubusercontent.com/rpizarrog/innovacion-empresarial/main/datos/danios%20al%20corazon%20numericos%20limpios.csv\"\n",
        "datos = pd.read_csv(url)\n",
        "\n",
        "# Llamar a la función para mostrar datos de entrenamiento ordenados por índice\n",
        "f_visualizar_datos(datos.head(20), datos.tail(20), \"Primeros registros de Datos\", \"Últimos registros de Datos\")\n",
        "\n",
        "# Para mostrar el widget de salida\n",
        "display(visualizar)"
      ],
      "metadata": {
        "colab": {
          "base_uri": "https://localhost:8080/",
          "height": 1000,
          "referenced_widgets": [
            "6fa72fd8aee14aa7b3429bcebfeda645",
            "d1a49c7afe7e4273975260d5071826b8"
          ]
        },
        "id": "Djk-4iyqk3K3",
        "outputId": "8d5534b0-b6c7-49df-ff14-b708d957e180"
      },
      "execution_count": 15,
      "outputs": [
        {
          "output_type": "display_data",
          "data": {
            "text/plain": [
              "Output()"
            ],
            "application/vnd.jupyter.widget-view+json": {
              "version_major": 2,
              "version_minor": 0,
              "model_id": "6fa72fd8aee14aa7b3429bcebfeda645"
            }
          },
          "metadata": {}
        }
      ]
    },
    {
      "cell_type": "markdown",
      "source": [
        "## Estadísticos\n",
        "\n"
      ],
      "metadata": {
        "id": "CKkH_iVGk-Du"
      }
    },
    {
      "cell_type": "code",
      "source": [
        "datos.describe()"
      ],
      "metadata": {
        "colab": {
          "base_uri": "https://localhost:8080/",
          "height": 320
        },
        "id": "jre5RjAxk_sj",
        "outputId": "0277c1be-0c72-43d7-c33b-5dac91f8f7d1"
      },
      "execution_count": 16,
      "outputs": [
        {
          "output_type": "execute_result",
          "data": {
            "text/plain": [
              "                 BMI        Smoking  AlcoholDrinking         Stroke  \\\n",
              "count  319795.000000  319795.000000    319795.000000  319795.000000   \n",
              "mean       28.325399       1.587523         1.931903       1.962260   \n",
              "std         6.356100       0.492281         0.251912       0.190567   \n",
              "min        12.020000       1.000000         1.000000       1.000000   \n",
              "25%        24.030000       1.000000         2.000000       2.000000   \n",
              "50%        27.340000       2.000000         2.000000       2.000000   \n",
              "75%        31.420000       2.000000         2.000000       2.000000   \n",
              "max        94.850000       2.000000         2.000000       2.000000   \n",
              "\n",
              "       PhysicalHealth   MentalHealth    DiffWalking            Sex  \\\n",
              "count    319795.00000  319795.000000  319795.000000  319795.000000   \n",
              "mean          3.37171       3.898366       1.861130       1.475273   \n",
              "std           7.95085       7.955235       0.345812       0.499389   \n",
              "min           0.00000       0.000000       1.000000       1.000000   \n",
              "25%           0.00000       0.000000       2.000000       1.000000   \n",
              "50%           0.00000       0.000000       2.000000       1.000000   \n",
              "75%           2.00000       3.000000       2.000000       2.000000   \n",
              "max          30.00000      30.000000       2.000000       2.000000   \n",
              "\n",
              "         AgeCategory           Race      Diabetic  PhysicalActivity  \\\n",
              "count  319795.000000  319795.000000  319795.00000     319795.000000   \n",
              "mean        7.514536       1.736794       1.90962          1.224638   \n",
              "std         3.564759       1.571156       0.41549          0.417344   \n",
              "min         1.000000       1.000000       1.00000          1.000000   \n",
              "25%         5.000000       1.000000       2.00000          1.000000   \n",
              "50%         8.000000       1.000000       2.00000          1.000000   \n",
              "75%        10.000000       1.000000       2.00000          1.000000   \n",
              "max        13.000000       6.000000       4.00000          2.000000   \n",
              "\n",
              "           GenHealth      SleepTime         Asthma  KidneyDisease  \\\n",
              "count  319795.000000  319795.000000  319795.000000  319795.000000   \n",
              "mean        3.955634       7.097075       1.865939       1.963167   \n",
              "std         0.864813       1.436007       0.340718       0.188352   \n",
              "min         2.000000       1.000000       1.000000       1.000000   \n",
              "25%         3.000000       6.000000       2.000000       2.000000   \n",
              "50%         4.000000       7.000000       2.000000       2.000000   \n",
              "75%         5.000000       8.000000       2.000000       2.000000   \n",
              "max         5.000000      24.000000       2.000000       2.000000   \n",
              "\n",
              "          SkinCancer  \n",
              "count  319795.000000  \n",
              "mean        1.906756  \n",
              "std         0.290775  \n",
              "min         1.000000  \n",
              "25%         2.000000  \n",
              "50%         2.000000  \n",
              "75%         2.000000  \n",
              "max         2.000000  "
            ],
            "text/html": [
              "\n",
              "  <div id=\"df-ec96279d-6ecb-4cad-93b5-aa84d6a09533\" class=\"colab-df-container\">\n",
              "    <div>\n",
              "<style scoped>\n",
              "    .dataframe tbody tr th:only-of-type {\n",
              "        vertical-align: middle;\n",
              "    }\n",
              "\n",
              "    .dataframe tbody tr th {\n",
              "        vertical-align: top;\n",
              "    }\n",
              "\n",
              "    .dataframe thead th {\n",
              "        text-align: right;\n",
              "    }\n",
              "</style>\n",
              "<table border=\"1\" class=\"dataframe\">\n",
              "  <thead>\n",
              "    <tr style=\"text-align: right;\">\n",
              "      <th></th>\n",
              "      <th>BMI</th>\n",
              "      <th>Smoking</th>\n",
              "      <th>AlcoholDrinking</th>\n",
              "      <th>Stroke</th>\n",
              "      <th>PhysicalHealth</th>\n",
              "      <th>MentalHealth</th>\n",
              "      <th>DiffWalking</th>\n",
              "      <th>Sex</th>\n",
              "      <th>AgeCategory</th>\n",
              "      <th>Race</th>\n",
              "      <th>Diabetic</th>\n",
              "      <th>PhysicalActivity</th>\n",
              "      <th>GenHealth</th>\n",
              "      <th>SleepTime</th>\n",
              "      <th>Asthma</th>\n",
              "      <th>KidneyDisease</th>\n",
              "      <th>SkinCancer</th>\n",
              "    </tr>\n",
              "  </thead>\n",
              "  <tbody>\n",
              "    <tr>\n",
              "      <th>count</th>\n",
              "      <td>319795.000000</td>\n",
              "      <td>319795.000000</td>\n",
              "      <td>319795.000000</td>\n",
              "      <td>319795.000000</td>\n",
              "      <td>319795.00000</td>\n",
              "      <td>319795.000000</td>\n",
              "      <td>319795.000000</td>\n",
              "      <td>319795.000000</td>\n",
              "      <td>319795.000000</td>\n",
              "      <td>319795.000000</td>\n",
              "      <td>319795.00000</td>\n",
              "      <td>319795.000000</td>\n",
              "      <td>319795.000000</td>\n",
              "      <td>319795.000000</td>\n",
              "      <td>319795.000000</td>\n",
              "      <td>319795.000000</td>\n",
              "      <td>319795.000000</td>\n",
              "    </tr>\n",
              "    <tr>\n",
              "      <th>mean</th>\n",
              "      <td>28.325399</td>\n",
              "      <td>1.587523</td>\n",
              "      <td>1.931903</td>\n",
              "      <td>1.962260</td>\n",
              "      <td>3.37171</td>\n",
              "      <td>3.898366</td>\n",
              "      <td>1.861130</td>\n",
              "      <td>1.475273</td>\n",
              "      <td>7.514536</td>\n",
              "      <td>1.736794</td>\n",
              "      <td>1.90962</td>\n",
              "      <td>1.224638</td>\n",
              "      <td>3.955634</td>\n",
              "      <td>7.097075</td>\n",
              "      <td>1.865939</td>\n",
              "      <td>1.963167</td>\n",
              "      <td>1.906756</td>\n",
              "    </tr>\n",
              "    <tr>\n",
              "      <th>std</th>\n",
              "      <td>6.356100</td>\n",
              "      <td>0.492281</td>\n",
              "      <td>0.251912</td>\n",
              "      <td>0.190567</td>\n",
              "      <td>7.95085</td>\n",
              "      <td>7.955235</td>\n",
              "      <td>0.345812</td>\n",
              "      <td>0.499389</td>\n",
              "      <td>3.564759</td>\n",
              "      <td>1.571156</td>\n",
              "      <td>0.41549</td>\n",
              "      <td>0.417344</td>\n",
              "      <td>0.864813</td>\n",
              "      <td>1.436007</td>\n",
              "      <td>0.340718</td>\n",
              "      <td>0.188352</td>\n",
              "      <td>0.290775</td>\n",
              "    </tr>\n",
              "    <tr>\n",
              "      <th>min</th>\n",
              "      <td>12.020000</td>\n",
              "      <td>1.000000</td>\n",
              "      <td>1.000000</td>\n",
              "      <td>1.000000</td>\n",
              "      <td>0.00000</td>\n",
              "      <td>0.000000</td>\n",
              "      <td>1.000000</td>\n",
              "      <td>1.000000</td>\n",
              "      <td>1.000000</td>\n",
              "      <td>1.000000</td>\n",
              "      <td>1.00000</td>\n",
              "      <td>1.000000</td>\n",
              "      <td>2.000000</td>\n",
              "      <td>1.000000</td>\n",
              "      <td>1.000000</td>\n",
              "      <td>1.000000</td>\n",
              "      <td>1.000000</td>\n",
              "    </tr>\n",
              "    <tr>\n",
              "      <th>25%</th>\n",
              "      <td>24.030000</td>\n",
              "      <td>1.000000</td>\n",
              "      <td>2.000000</td>\n",
              "      <td>2.000000</td>\n",
              "      <td>0.00000</td>\n",
              "      <td>0.000000</td>\n",
              "      <td>2.000000</td>\n",
              "      <td>1.000000</td>\n",
              "      <td>5.000000</td>\n",
              "      <td>1.000000</td>\n",
              "      <td>2.00000</td>\n",
              "      <td>1.000000</td>\n",
              "      <td>3.000000</td>\n",
              "      <td>6.000000</td>\n",
              "      <td>2.000000</td>\n",
              "      <td>2.000000</td>\n",
              "      <td>2.000000</td>\n",
              "    </tr>\n",
              "    <tr>\n",
              "      <th>50%</th>\n",
              "      <td>27.340000</td>\n",
              "      <td>2.000000</td>\n",
              "      <td>2.000000</td>\n",
              "      <td>2.000000</td>\n",
              "      <td>0.00000</td>\n",
              "      <td>0.000000</td>\n",
              "      <td>2.000000</td>\n",
              "      <td>1.000000</td>\n",
              "      <td>8.000000</td>\n",
              "      <td>1.000000</td>\n",
              "      <td>2.00000</td>\n",
              "      <td>1.000000</td>\n",
              "      <td>4.000000</td>\n",
              "      <td>7.000000</td>\n",
              "      <td>2.000000</td>\n",
              "      <td>2.000000</td>\n",
              "      <td>2.000000</td>\n",
              "    </tr>\n",
              "    <tr>\n",
              "      <th>75%</th>\n",
              "      <td>31.420000</td>\n",
              "      <td>2.000000</td>\n",
              "      <td>2.000000</td>\n",
              "      <td>2.000000</td>\n",
              "      <td>2.00000</td>\n",
              "      <td>3.000000</td>\n",
              "      <td>2.000000</td>\n",
              "      <td>2.000000</td>\n",
              "      <td>10.000000</td>\n",
              "      <td>1.000000</td>\n",
              "      <td>2.00000</td>\n",
              "      <td>1.000000</td>\n",
              "      <td>5.000000</td>\n",
              "      <td>8.000000</td>\n",
              "      <td>2.000000</td>\n",
              "      <td>2.000000</td>\n",
              "      <td>2.000000</td>\n",
              "    </tr>\n",
              "    <tr>\n",
              "      <th>max</th>\n",
              "      <td>94.850000</td>\n",
              "      <td>2.000000</td>\n",
              "      <td>2.000000</td>\n",
              "      <td>2.000000</td>\n",
              "      <td>30.00000</td>\n",
              "      <td>30.000000</td>\n",
              "      <td>2.000000</td>\n",
              "      <td>2.000000</td>\n",
              "      <td>13.000000</td>\n",
              "      <td>6.000000</td>\n",
              "      <td>4.00000</td>\n",
              "      <td>2.000000</td>\n",
              "      <td>5.000000</td>\n",
              "      <td>24.000000</td>\n",
              "      <td>2.000000</td>\n",
              "      <td>2.000000</td>\n",
              "      <td>2.000000</td>\n",
              "    </tr>\n",
              "  </tbody>\n",
              "</table>\n",
              "</div>\n",
              "    <div class=\"colab-df-buttons\">\n",
              "\n",
              "  <div class=\"colab-df-container\">\n",
              "    <button class=\"colab-df-convert\" onclick=\"convertToInteractive('df-ec96279d-6ecb-4cad-93b5-aa84d6a09533')\"\n",
              "            title=\"Convert this dataframe to an interactive table.\"\n",
              "            style=\"display:none;\">\n",
              "\n",
              "  <svg xmlns=\"http://www.w3.org/2000/svg\" height=\"24px\" viewBox=\"0 -960 960 960\">\n",
              "    <path d=\"M120-120v-720h720v720H120Zm60-500h600v-160H180v160Zm220 220h160v-160H400v160Zm0 220h160v-160H400v160ZM180-400h160v-160H180v160Zm440 0h160v-160H620v160ZM180-180h160v-160H180v160Zm440 0h160v-160H620v160Z\"/>\n",
              "  </svg>\n",
              "    </button>\n",
              "\n",
              "  <style>\n",
              "    .colab-df-container {\n",
              "      display:flex;\n",
              "      gap: 12px;\n",
              "    }\n",
              "\n",
              "    .colab-df-convert {\n",
              "      background-color: #E8F0FE;\n",
              "      border: none;\n",
              "      border-radius: 50%;\n",
              "      cursor: pointer;\n",
              "      display: none;\n",
              "      fill: #1967D2;\n",
              "      height: 32px;\n",
              "      padding: 0 0 0 0;\n",
              "      width: 32px;\n",
              "    }\n",
              "\n",
              "    .colab-df-convert:hover {\n",
              "      background-color: #E2EBFA;\n",
              "      box-shadow: 0px 1px 2px rgba(60, 64, 67, 0.3), 0px 1px 3px 1px rgba(60, 64, 67, 0.15);\n",
              "      fill: #174EA6;\n",
              "    }\n",
              "\n",
              "    .colab-df-buttons div {\n",
              "      margin-bottom: 4px;\n",
              "    }\n",
              "\n",
              "    [theme=dark] .colab-df-convert {\n",
              "      background-color: #3B4455;\n",
              "      fill: #D2E3FC;\n",
              "    }\n",
              "\n",
              "    [theme=dark] .colab-df-convert:hover {\n",
              "      background-color: #434B5C;\n",
              "      box-shadow: 0px 1px 3px 1px rgba(0, 0, 0, 0.15);\n",
              "      filter: drop-shadow(0px 1px 2px rgba(0, 0, 0, 0.3));\n",
              "      fill: #FFFFFF;\n",
              "    }\n",
              "  </style>\n",
              "\n",
              "    <script>\n",
              "      const buttonEl =\n",
              "        document.querySelector('#df-ec96279d-6ecb-4cad-93b5-aa84d6a09533 button.colab-df-convert');\n",
              "      buttonEl.style.display =\n",
              "        google.colab.kernel.accessAllowed ? 'block' : 'none';\n",
              "\n",
              "      async function convertToInteractive(key) {\n",
              "        const element = document.querySelector('#df-ec96279d-6ecb-4cad-93b5-aa84d6a09533');\n",
              "        const dataTable =\n",
              "          await google.colab.kernel.invokeFunction('convertToInteractive',\n",
              "                                                    [key], {});\n",
              "        if (!dataTable) return;\n",
              "\n",
              "        const docLinkHtml = 'Like what you see? Visit the ' +\n",
              "          '<a target=\"_blank\" href=https://colab.research.google.com/notebooks/data_table.ipynb>data table notebook</a>'\n",
              "          + ' to learn more about interactive tables.';\n",
              "        element.innerHTML = '';\n",
              "        dataTable['output_type'] = 'display_data';\n",
              "        await google.colab.output.renderOutput(dataTable, element);\n",
              "        const docLink = document.createElement('div');\n",
              "        docLink.innerHTML = docLinkHtml;\n",
              "        element.appendChild(docLink);\n",
              "      }\n",
              "    </script>\n",
              "  </div>\n",
              "\n",
              "\n",
              "<div id=\"df-7f6a9619-531d-4ebd-8162-6ec3fc544735\">\n",
              "  <button class=\"colab-df-quickchart\" onclick=\"quickchart('df-7f6a9619-531d-4ebd-8162-6ec3fc544735')\"\n",
              "            title=\"Suggest charts\"\n",
              "            style=\"display:none;\">\n",
              "\n",
              "<svg xmlns=\"http://www.w3.org/2000/svg\" height=\"24px\"viewBox=\"0 0 24 24\"\n",
              "     width=\"24px\">\n",
              "    <g>\n",
              "        <path d=\"M19 3H5c-1.1 0-2 .9-2 2v14c0 1.1.9 2 2 2h14c1.1 0 2-.9 2-2V5c0-1.1-.9-2-2-2zM9 17H7v-7h2v7zm4 0h-2V7h2v10zm4 0h-2v-4h2v4z\"/>\n",
              "    </g>\n",
              "</svg>\n",
              "  </button>\n",
              "\n",
              "<style>\n",
              "  .colab-df-quickchart {\n",
              "      --bg-color: #E8F0FE;\n",
              "      --fill-color: #1967D2;\n",
              "      --hover-bg-color: #E2EBFA;\n",
              "      --hover-fill-color: #174EA6;\n",
              "      --disabled-fill-color: #AAA;\n",
              "      --disabled-bg-color: #DDD;\n",
              "  }\n",
              "\n",
              "  [theme=dark] .colab-df-quickchart {\n",
              "      --bg-color: #3B4455;\n",
              "      --fill-color: #D2E3FC;\n",
              "      --hover-bg-color: #434B5C;\n",
              "      --hover-fill-color: #FFFFFF;\n",
              "      --disabled-bg-color: #3B4455;\n",
              "      --disabled-fill-color: #666;\n",
              "  }\n",
              "\n",
              "  .colab-df-quickchart {\n",
              "    background-color: var(--bg-color);\n",
              "    border: none;\n",
              "    border-radius: 50%;\n",
              "    cursor: pointer;\n",
              "    display: none;\n",
              "    fill: var(--fill-color);\n",
              "    height: 32px;\n",
              "    padding: 0;\n",
              "    width: 32px;\n",
              "  }\n",
              "\n",
              "  .colab-df-quickchart:hover {\n",
              "    background-color: var(--hover-bg-color);\n",
              "    box-shadow: 0 1px 2px rgba(60, 64, 67, 0.3), 0 1px 3px 1px rgba(60, 64, 67, 0.15);\n",
              "    fill: var(--button-hover-fill-color);\n",
              "  }\n",
              "\n",
              "  .colab-df-quickchart-complete:disabled,\n",
              "  .colab-df-quickchart-complete:disabled:hover {\n",
              "    background-color: var(--disabled-bg-color);\n",
              "    fill: var(--disabled-fill-color);\n",
              "    box-shadow: none;\n",
              "  }\n",
              "\n",
              "  .colab-df-spinner {\n",
              "    border: 2px solid var(--fill-color);\n",
              "    border-color: transparent;\n",
              "    border-bottom-color: var(--fill-color);\n",
              "    animation:\n",
              "      spin 1s steps(1) infinite;\n",
              "  }\n",
              "\n",
              "  @keyframes spin {\n",
              "    0% {\n",
              "      border-color: transparent;\n",
              "      border-bottom-color: var(--fill-color);\n",
              "      border-left-color: var(--fill-color);\n",
              "    }\n",
              "    20% {\n",
              "      border-color: transparent;\n",
              "      border-left-color: var(--fill-color);\n",
              "      border-top-color: var(--fill-color);\n",
              "    }\n",
              "    30% {\n",
              "      border-color: transparent;\n",
              "      border-left-color: var(--fill-color);\n",
              "      border-top-color: var(--fill-color);\n",
              "      border-right-color: var(--fill-color);\n",
              "    }\n",
              "    40% {\n",
              "      border-color: transparent;\n",
              "      border-right-color: var(--fill-color);\n",
              "      border-top-color: var(--fill-color);\n",
              "    }\n",
              "    60% {\n",
              "      border-color: transparent;\n",
              "      border-right-color: var(--fill-color);\n",
              "    }\n",
              "    80% {\n",
              "      border-color: transparent;\n",
              "      border-right-color: var(--fill-color);\n",
              "      border-bottom-color: var(--fill-color);\n",
              "    }\n",
              "    90% {\n",
              "      border-color: transparent;\n",
              "      border-bottom-color: var(--fill-color);\n",
              "    }\n",
              "  }\n",
              "</style>\n",
              "\n",
              "  <script>\n",
              "    async function quickchart(key) {\n",
              "      const quickchartButtonEl =\n",
              "        document.querySelector('#' + key + ' button');\n",
              "      quickchartButtonEl.disabled = true;  // To prevent multiple clicks.\n",
              "      quickchartButtonEl.classList.add('colab-df-spinner');\n",
              "      try {\n",
              "        const charts = await google.colab.kernel.invokeFunction(\n",
              "            'suggestCharts', [key], {});\n",
              "      } catch (error) {\n",
              "        console.error('Error during call to suggestCharts:', error);\n",
              "      }\n",
              "      quickchartButtonEl.classList.remove('colab-df-spinner');\n",
              "      quickchartButtonEl.classList.add('colab-df-quickchart-complete');\n",
              "    }\n",
              "    (() => {\n",
              "      let quickchartButtonEl =\n",
              "        document.querySelector('#df-7f6a9619-531d-4ebd-8162-6ec3fc544735 button');\n",
              "      quickchartButtonEl.style.display =\n",
              "        google.colab.kernel.accessAllowed ? 'block' : 'none';\n",
              "    })();\n",
              "  </script>\n",
              "</div>\n",
              "    </div>\n",
              "  </div>\n"
            ],
            "application/vnd.google.colaboratory.intrinsic+json": {
              "type": "dataframe",
              "summary": "{\n  \"name\": \"datos\",\n  \"rows\": 8,\n  \"fields\": [\n    {\n      \"column\": \"BMI\",\n      \"properties\": {\n        \"dtype\": \"number\",\n        \"std\": 113053.2788140205,\n        \"min\": 6.356100200470739,\n        \"max\": 319795.0,\n        \"num_unique_values\": 8,\n        \"samples\": [\n          28.325398520927465,\n          27.34,\n          319795.0\n        ],\n        \"semantic_type\": \"\",\n        \"description\": \"\"\n      }\n    },\n    {\n      \"column\": \"Smoking\",\n      \"properties\": {\n        \"dtype\": \"number\",\n        \"std\": 113064.09743920766,\n        \"min\": 0.4922808520227957,\n        \"max\": 319795.0,\n        \"num_unique_values\": 5,\n        \"samples\": [\n          1.5875232570865712,\n          2.0,\n          0.4922808520227957\n        ],\n        \"semantic_type\": \"\",\n        \"description\": \"\"\n      }\n    },\n    {\n      \"column\": \"AlcoholDrinking\",\n      \"properties\": {\n        \"dtype\": \"number\",\n        \"std\": 113064.04167864124,\n        \"min\": 0.2519122478747605,\n        \"max\": 319795.0,\n        \"num_unique_values\": 5,\n        \"samples\": [\n          1.9319032505198643,\n          2.0,\n          0.2519122478747605\n        ],\n        \"semantic_type\": \"\",\n        \"description\": \"\"\n      }\n    },\n    {\n      \"column\": \"Stroke\",\n      \"properties\": {\n        \"dtype\": \"number\",\n        \"std\": 113064.0432439278,\n        \"min\": 0.19056658405970656,\n        \"max\": 319795.0,\n        \"num_unique_values\": 5,\n        \"samples\": [\n          1.9622601979393048,\n          2.0,\n          0.19056658405970656\n        ],\n        \"semantic_type\": \"\",\n        \"description\": \"\"\n      }\n    },\n    {\n      \"column\": \"PhysicalHealth\",\n      \"properties\": {\n        \"dtype\": \"number\",\n        \"std\": 113062.41887389991,\n        \"min\": 0.0,\n        \"max\": 319795.0,\n        \"num_unique_values\": 6,\n        \"samples\": [\n          319795.0,\n          3.3717100017198516,\n          30.0\n        ],\n        \"semantic_type\": \"\",\n        \"description\": \"\"\n      }\n    },\n    {\n      \"column\": \"MentalHealth\",\n      \"properties\": {\n        \"dtype\": \"number\",\n        \"std\": 113062.34153808093,\n        \"min\": 0.0,\n        \"max\": 319795.0,\n        \"num_unique_values\": 6,\n        \"samples\": [\n          319795.0,\n          3.898366140808956,\n          30.0\n        ],\n        \"semantic_type\": \"\",\n        \"description\": \"\"\n      }\n    },\n    {\n      \"column\": \"DiffWalking\",\n      \"properties\": {\n        \"dtype\": \"number\",\n        \"std\": 113064.04051042747,\n        \"min\": 0.3458115836894246,\n        \"max\": 319795.0,\n        \"num_unique_values\": 5,\n        \"samples\": [\n          1.8611297862693288,\n          2.0,\n          0.3458115836894246\n        ],\n        \"semantic_type\": \"\",\n        \"description\": \"\"\n      }\n    },\n    {\n      \"column\": \"Sex\",\n      \"properties\": {\n        \"dtype\": \"number\",\n        \"std\": 113064.15325709495,\n        \"min\": 0.4993889929569271,\n        \"max\": 319795.0,\n        \"num_unique_values\": 5,\n        \"samples\": [\n          1.4752732219077846,\n          2.0,\n          0.4993889929569271\n        ],\n        \"semantic_type\": \"\",\n        \"description\": \"\"\n      }\n    },\n    {\n      \"column\": \"AgeCategory\",\n      \"properties\": {\n        \"dtype\": \"number\",\n        \"std\": 113062.17823553375,\n        \"min\": 1.0,\n        \"max\": 319795.0,\n        \"num_unique_values\": 8,\n        \"samples\": [\n          7.51453587454463,\n          8.0,\n          319795.0\n        ],\n        \"semantic_type\": \"\",\n        \"description\": \"\"\n      }\n    },\n    {\n      \"column\": \"Race\",\n      \"properties\": {\n        \"dtype\": \"number\",\n        \"std\": 113063.93440455812,\n        \"min\": 1.0,\n        \"max\": 319795.0,\n        \"num_unique_values\": 5,\n        \"samples\": [\n          1.7367938835816694,\n          6.0,\n          1.5711559559790143\n        ],\n        \"semantic_type\": \"\",\n        \"description\": \"\"\n      }\n    },\n    {\n      \"column\": \"Diabetic\",\n      \"properties\": {\n        \"dtype\": \"number\",\n        \"std\": 113063.9335297669,\n        \"min\": 0.41549035645043947,\n        \"max\": 319795.0,\n        \"num_unique_values\": 6,\n        \"samples\": [\n          319795.0,\n          1.9096202254569334,\n          4.0\n        ],\n        \"semantic_type\": \"\",\n        \"description\": \"\"\n      }\n    },\n    {\n      \"column\": \"PhysicalActivity\",\n      \"properties\": {\n        \"dtype\": \"number\",\n        \"std\": 113064.22056724927,\n        \"min\": 0.4173441332197359,\n        \"max\": 319795.0,\n        \"num_unique_values\": 5,\n        \"samples\": [\n          1.2246376584999765,\n          2.0,\n          0.4173441332197359\n        ],\n        \"semantic_type\": \"\",\n        \"description\": \"\"\n      }\n    },\n    {\n      \"column\": \"GenHealth\",\n      \"properties\": {\n        \"dtype\": \"number\",\n        \"std\": 113063.40343956073,\n        \"min\": 0.8648132097610356,\n        \"max\": 319795.0,\n        \"num_unique_values\": 7,\n        \"samples\": [\n          319795.0,\n          3.9556340780812707,\n          4.0\n        ],\n        \"semantic_type\": \"\",\n        \"description\": \"\"\n      }\n    },\n    {\n      \"column\": \"SleepTime\",\n      \"properties\": {\n        \"dtype\": \"number\",\n        \"std\": 113061.8524315998,\n        \"min\": 1.0,\n        \"max\": 319795.0,\n        \"num_unique_values\": 8,\n        \"samples\": [\n          7.097074688472302,\n          7.0,\n          319795.0\n        ],\n        \"semantic_type\": \"\",\n        \"description\": \"\"\n      }\n    },\n    {\n      \"column\": \"Asthma\",\n      \"properties\": {\n        \"dtype\": \"number\",\n        \"std\": 113064.04052478149,\n        \"min\": 0.340718249406958,\n        \"max\": 319795.0,\n        \"num_unique_values\": 5,\n        \"samples\": [\n          1.8659391172469864,\n          2.0,\n          0.340718249406958\n        ],\n        \"semantic_type\": \"\",\n        \"description\": \"\"\n      }\n    },\n    {\n      \"column\": \"KidneyDisease\",\n      \"properties\": {\n        \"dtype\": \"number\",\n        \"std\": 113064.0433099919,\n        \"min\": 0.18835183645322953,\n        \"max\": 319795.0,\n        \"num_unique_values\": 5,\n        \"samples\": [\n          1.9631670288778749,\n          2.0,\n          0.18835183645322953\n        ],\n        \"semantic_type\": \"\",\n        \"description\": \"\"\n      }\n    },\n    {\n      \"column\": \"SkinCancer\",\n      \"properties\": {\n        \"dtype\": \"number\",\n        \"std\": 113064.04098585053,\n        \"min\": 0.2907746721047418,\n        \"max\": 319795.0,\n        \"num_unique_values\": 5,\n        \"samples\": [\n          1.9067558904923467,\n          2.0,\n          0.2907746721047418\n        ],\n        \"semantic_type\": \"\",\n        \"description\": \"\"\n      }\n    }\n  ]\n}"
            }
          },
          "metadata": {},
          "execution_count": 16
        }
      ]
    },
    {
      "cell_type": "code",
      "source": [
        "# Obtener el conteo de casos con y sin daños al corazón\n",
        "conteo_daños = datos['HeartDisease'].value_counts()\n",
        "\n",
        "# Convertir el conteo a un DataFrame para una mejor visualización\n",
        "tabla_conteo = conteo_daños.rename(index={1: 'Daño', 0: 'No Daño'}).reset_index()\n",
        "tabla_conteo.columns = ['Estado del Corazón', 'Total de Casos']\n",
        "\n",
        "# Mostrar la tabla\n",
        "print(tabla_conteo)"
      ],
      "metadata": {
        "colab": {
          "base_uri": "https://localhost:8080/"
        },
        "id": "iVGhMTvElAsT",
        "outputId": "a3a08687-5869-41d8-b2d2-b7a676d9f75d"
      },
      "execution_count": 17,
      "outputs": [
        {
          "output_type": "stream",
          "name": "stdout",
          "text": [
            "  Estado del Corazón  Total de Casos\n",
            "0                 No          292422\n",
            "1                Yes           27373\n"
          ]
        }
      ]
    },
    {
      "cell_type": "code",
      "source": [
        "f_diagrama_barra(datos)"
      ],
      "metadata": {
        "colab": {
          "base_uri": "https://localhost:8080/",
          "height": 564
        },
        "id": "3jfdt4-3lDz0",
        "outputId": "d39e8a1d-7ed0-4480-d2bb-3a76c8be0f71"
      },
      "execution_count": 10,
      "outputs": [
        {
          "output_type": "display_data",
          "data": {
            "text/plain": [
              "<Figure size 800x600 with 1 Axes>"
            ],
            "image/png": "[encoded data removed]"
          },
          "metadata": {}
        }
      ]
    },
    {
      "cell_type": "markdown",
      "source": [
        "## Datos de entrenamiento y validación\n",
        "\n",
        "* 70% datos de entrenamiento: X_train\n",
        "* 30% datos de validación: X_test"
      ],
      "metadata": {
        "id": "IjhU17rmlOiE"
      }
    },
    {
      "cell_type": "code",
      "source": [
        "# Asumiendo que 'HeartDisease' es el nombre de la columna de la variable objetivo\n",
        "\n",
        "# Preparar los datos para el modelo\n",
        "independientes = datos.drop(columns=['HeartDisease'])  # Solo dejar las variables independientes o predictoras\n",
        "dependiente = datos['HeartDisease']  # Variable dependiente\n",
        "\n",
        "\n",
        "# Dividir los datos en conjuntos de entrenamiento y prueba\n",
        "entrenamiento, validacion, y_train, y_test = train_test_split(independientes, dependiente, test_size=0.3, random_state=2024)\n",
        "X_train = entrenamiento.copy()\n",
        "X_test = validacion.copy()\n",
        "n_train = len(X_train)\n",
        "n_test = len(X_test)\n",
        "\n",
        "f_visualizar_datos(X_train.sort_index().head(20), X_test.sort_index().head(20),\n",
        "                   \"Primeros registros. Datos de entrenamiento de \"+str(n_train) + \" registros\", \"Primeros registros. Datos de validación de \"+str(n_test) + \" registros\")\n",
        "\n",
        "# Para mostrar el widget de salida\n",
        "display(visualizar)"
      ],
      "metadata": {
        "colab": {
          "base_uri": "https://localhost:8080/",
          "height": 1000,
          "referenced_widgets": [
            "6fa72fd8aee14aa7b3429bcebfeda645",
            "d1a49c7afe7e4273975260d5071826b8"
          ]
        },
        "id": "NDLGo-ljlRge",
        "outputId": "38c8a3a1-33d6-40dc-dca8-011de2ee362f"
      },
      "execution_count": 18,
      "outputs": [
        {
          "output_type": "display_data",
          "data": {
            "text/plain": [
              "Output()"
            ],
            "application/vnd.jupyter.widget-view+json": {
              "version_major": 2,
              "version_minor": 0,
              "model_id": "6fa72fd8aee14aa7b3429bcebfeda645"
            }
          },
          "metadata": {}
        }
      ]
    },
    {
      "cell_type": "markdown",
      "source": [
        "## Escalar datos numéricos\n",
        "\n",
        "Para estos algoritmos de *SVM* se recomienda escalar las variables que son numéricas.\n",
        "\n"
      ],
      "metadata": {
        "id": "e44bSCePlpgG"
      }
    },
    {
      "cell_type": "code",
      "source": [
        "# Normalizar características numéricas\n",
        "escalar = StandardScaler()\n",
        "\n",
        "\n",
        "# ['BMI',\t'Smoking',\t'AlcoholDrinking',\t'Stroke',\t'PhysicalHealth',\t'MentalHealth',\t'DiffWalking',\t'Sex',\t'AgeCategory',\t'Race',\t'Diabetic',\t'PhysicalActivity',\t'GenHealth',\t'SleepTime',\t'Asthma',\t'KidneyDisease',\t'SkinCancer']\n",
        "nombres_variables = ['BMI',\t'Smoking',\t'AlcoholDrinking',\t'Stroke',\t'PhysicalHealth',\t'MentalHealth',\t'DiffWalking',\t'Sex',\t'AgeCategory',\t'Race',\t'Diabetic',\t'PhysicalActivity',\t'GenHealth',\t'SleepTime',\t'Asthma',\t'KidneyDisease',\t'SkinCancer']\n",
        "\n",
        "\n",
        "X_train_scaled = pd.DataFrame(escalar.fit_transform(X_train), columns=nombres_variables)\n",
        "X_test_scaled = pd.DataFrame(escalar.transform(X_test), columns=nombres_variables)\n",
        "\n",
        "# HeartDisease\tBMI\tSmoking\tAlcoholDrinking\tStroke\tPhysicalHealth\tMentalHealth\t\tSex\tAgeCategory\tRace\tDiabetic\tPhysicalActivity\tGenHealth\tSleepTime\tAsthma\tKidneyDisease\tSkinCancer\n",
        "\n",
        "\n",
        "\n",
        "f_visualizar_datos(X_train_scaled.sort_index().head(20), X_test_scaled.sort_index().head(20),\n",
        "                   \"Primeros registros. Datos de entrenamiento escalados de \"+str(n_train) + \" registros\", \"Primeros registros. Datos de validación escalados de \"+str(n_test) + \" registros\")\n",
        "\n",
        "# Para mostrar el widget de salida\n",
        "display(visualizar)\n"
      ],
      "metadata": {
        "colab": {
          "base_uri": "https://localhost:8080/",
          "height": 1000,
          "referenced_widgets": [
            "6fa72fd8aee14aa7b3429bcebfeda645",
            "d1a49c7afe7e4273975260d5071826b8"
          ]
        },
        "id": "BbzDNfEQlytr",
        "outputId": "a543c722-275d-4457-9af0-3e626760b55c"
      },
      "execution_count": 19,
      "outputs": [
        {
          "output_type": "display_data",
          "data": {
            "text/plain": [
              "Output()"
            ],
            "application/vnd.jupyter.widget-view+json": {
              "version_major": 2,
              "version_minor": 0,
              "model_id": "6fa72fd8aee14aa7b3429bcebfeda645"
            }
          },
          "metadata": {}
        }
      ]
    },
    {
      "cell_type": "markdown",
      "source": [
        "## Construir el SVM modelo kernel lineal\n",
        "\n"
      ],
      "metadata": {
        "id": "AJtYMgakq47e"
      }
    },
    {
      "cell_type": "code",
      "source": [
        "# Entrenar el clasificador SVM\n",
        "# Marcar el tiempo de inicio\n",
        "start_time = time.time()\n",
        "\n",
        "modelo_lineal = SVC(kernel='linear', random_state=2024)  # Kernel lineal\n",
        "modelo_lineal.fit(X_train_scaled, y_train)\n",
        "\n",
        "# Marcar el tiempo de finalización\n",
        "end_time = time.time()\n",
        "\n",
        "# Calcular la duración restando el tiempo de inicio del tiempo de finalización\n",
        "duration = end_time - start_time\n",
        "\n",
        "print(f\"El tiempo de ejecución fue de {duration} segundos.\")"
      ],
      "metadata": {
        "id": "bwKmxghTq7Wu"
      },
      "execution_count": null,
      "outputs": []
    },
    {
      "cell_type": "markdown",
      "source": [
        "Se tarda bastante tiempo en construir el modelo ... ... ..."
      ],
      "metadata": {
        "id": "RlvV1p7Os5zq"
      }
    },
    {
      "cell_type": "markdown",
      "source": [
        "## Predicciones\n",
        "\n"
      ],
      "metadata": {
        "id": "jzPUVzOPsgss"
      }
    },
    {
      "cell_type": "code",
      "source": [
        "# Marcar el tiempo de inicio\n",
        "start_time = time.time()\n",
        "\n",
        "# Predecir el conjunto de prueba\n",
        "predicciones = modelo.predict(X_test)\n",
        "\n",
        "# Marcar el tiempo de finalización\n",
        "end_time = time.time()\n",
        "\n",
        "# Calcular la duración restando el tiempo de inicio del tiempo de finalización\n",
        "duration = end_time - start_time\n",
        "\n",
        "print(f\"El tiempo de ejecución fue de {duration} segundos.\")"
      ],
      "metadata": {
        "id": "e9SentxFsh8O"
      },
      "execution_count": null,
      "outputs": []
    },
    {
      "cell_type": "markdown",
      "source": [
        "Construir una *DataFrame* llamado *datos_predicciones* con las predicciones que se identifican en las últimas dos columnas, el valor real confrontado con el valor de la predicción."
      ],
      "metadata": {
        "id": "KiSumFrAskbD"
      }
    },
    {
      "cell_type": "code",
      "source": [
        "datos_predicciones = pd.DataFrame(X_test)\n",
        "datos_predicciones['HertDisease_real'] = y_test\n",
        "datos_predicciones['HertDisease_prediccion'] = predicciones\n",
        "n = len(datos_predicciones)\n",
        "f_visualizar_datos(datos_predicciones.sort_index().head(20), datos_predicciones.sort_index().tail(20), \"Primeros registros. Predicciones de \"+str(n) + \" registros\", \" Últimos registros. Predicciones de \"+str(n) + \" registros\")\n",
        "\n",
        "# Para mostrar el widget de salida\n",
        "display(visualizar)"
      ],
      "metadata": {
        "id": "Lo2rY2Tssa7e"
      },
      "execution_count": null,
      "outputs": []
    }
  ]
}