{
  "nbformat": 4,
  "nbformat_minor": 0,
  "metadata": {
    "colab": {
      "provenance": [],
      "authorship_tag": "ABX9TyPllOfQAsZFVXkn/y3cHrlg",
      "include_colab_link": true
    },
    "kernelspec": {
      "name": "python3",
      "display_name": "Python 3"
    },
    "language_info": {
      "name": "python"
    }
  },
  "cells": [
    {
      "cell_type": "markdown",
      "metadata": {
        "id": "view-in-github",
        "colab_type": "text"
      },
      "source": [
        "<a href=\"https://colab.research.google.com/github/rpizarrog/innovacion-empresarial/blob/main/notebook_python/Regresi%C3%B3n_Lineal_Simple_Interactivo.ipynb\" target=\"_parent\"><img src=\"https://colab.research.google.com/assets/colab-badge.svg\" alt=\"Open In Colab\"/></a>"
      ]
    },
    {
      "cell_type": "markdown",
      "source": [
        "# Regresión lineal simple\n",
        "\n",
        "$$\n",
        "Y = a + b \\cdot x\n",
        "$$\n",
        "\n",
        "# Proceso:\n",
        "\n",
        "* Cargar archivo\n",
        "* Seleccionar variables independiente y dependiente\n",
        "* Particionar los datos\n",
        "* Crear el modelo\n",
        "* Describir interpretación\n"
      ],
      "metadata": {
        "id": "FOleEESdNblZ"
      }
    },
    {
      "cell_type": "markdown",
      "source": [
        "# Objetivo\n",
        "\n",
        "Aplicar e interpretar modelos de regresión lineal importando datos dinámicos con variables independiente y dependiente.\n",
        "\n",
        "\n"
      ],
      "metadata": {
        "id": "AgYZiF5kgCd7"
      }
    },
    {
      "cell_type": "markdown",
      "source": [
        "# Desarrollo\n",
        "\n"
      ],
      "metadata": {
        "id": "CKPWb6dtghwz"
      }
    },
    {
      "cell_type": "markdown",
      "source": [
        "## Cargar librerías\n"
      ],
      "metadata": {
        "id": "aGF9-kDEgjIj"
      }
    },
    {
      "cell_type": "code",
      "source": [
        "import io\n",
        "import pandas as pd\n",
        "import ipywidgets as widgets\n",
        "from IPython.display import display\n",
        "from sklearn.model_selection import train_test_split\n",
        "from sklearn.linear_model import LinearRegression\n",
        "from sklearn.metrics import r2_score, mean_squared_error\n",
        "import numpy as np\n",
        "import matplotlib.pyplot as plt"
      ],
      "metadata": {
        "id": "xPMLmfckgq_F"
      },
      "execution_count": 9,
      "outputs": []
    },
    {
      "cell_type": "markdown",
      "source": [
        "## Cargar funciones\n"
      ],
      "metadata": {
        "id": "Q5Ib-hWfglhN"
      }
    },
    {
      "cell_type": "code",
      "source": [
        "\n",
        "# Paraa variabes globales\n",
        "df = None  # Declarar df como una variable global inicialmente\n",
        "df_entrenamiento = None  # Declarar df_entrenamiento como una variable global inicialmente\n",
        "df_validacion = None  # Declarar df_validacion como una variable global inicialmente\n",
        "modelo = None  # Declarar modelo como una variable global inicialmente\n",
        "\n",
        "r_squared = None\n",
        "coef_a = None\n",
        "coef_b = None\n",
        "rmse = None\n",
        "\n",
        "# Función para cargar el archivo CSV\n",
        "def cargar_archivo(boton):\n",
        "    global df  # Acceder a la variable global df\n",
        "    try:\n",
        "        nombre_archivo = list(cargar_archivo_selector.value.keys())[0]\n",
        "        contenido_archivo = cargar_archivo_selector.value[nombre_archivo]['content']\n",
        "        df = pd.read_csv(io.BytesIO(contenido_archivo))\n",
        "        # Actualizar las opciones de las variables\n",
        "        variables_independientes.options = list(df.columns)\n",
        "        variable_dependiente.options = list(df.columns)\n",
        "        # Mostrar las primeras y últimas filas del conjunto de datos\n",
        "        display(df.head(10))\n",
        "        display(df.tail(10))\n",
        "    except Exception as e:\n",
        "        print(\"Error al cargar el archivo:\", e)\n",
        "\n",
        "# Función para particionar el conjunto de datos\n",
        "def particionar_entrenamiento_validacion(boton):\n",
        "    global df, df_entrenamiento, df_validacion  # Acceder a las variables globales df, df_entrenamiento y df_validacion\n",
        "    try:\n",
        "        porcentaje = porcentaje_slider.value / 100.0  # Convertir porcentaje a decimal\n",
        "        if porcentaje <= 0 or porcentaje >= 1:\n",
        "            print(\"El porcentaje debe estar entre 0 y 100\")\n",
        "            return\n",
        "        X = df[variables_independientes.value]\n",
        "        y = df[variable_dependiente.value]\n",
        "        X_train, X_valid, y_train, y_valid = train_test_split(X, y, test_size=1 - porcentaje, random_state=42)\n",
        "        # Ordenar los datos de entrenamiento y validación por el índice\n",
        "        df_entrenamiento = pd.concat([X_train, y_train], axis=1).sort_index()\n",
        "        df_validacion = pd.concat([X_valid, y_valid], axis=1).sort_index()\n",
        "        print(\"Conjunto de datos de entrenamiento ordenado por el índice:\")\n",
        "        display(df_entrenamiento.head(10))\n",
        "        print(\"Conjunto de datos de validación ordenado por el índice:\")\n",
        "        display(df_validacion.head(10))\n",
        "    except Exception as e:\n",
        "        print(\"Error al particionar los datos:\", e)\n",
        "\n",
        "# Función para construir el modelo de regresión lineal\n",
        "def construir_modelo(boton):\n",
        "    global df, df_entrenamiento, df_validacion, modelo  # Acceder a las variables globales df, df_entrenamiento, df_validacion y modelo\n",
        "    try:\n",
        "        if df_entrenamiento is None or df_validacion is None:\n",
        "            print(\"Primero debe particionar los datos de entrenamiento y validación\")\n",
        "            return\n",
        "\n",
        "        X_train = df_entrenamiento[variables_independientes.value].values.reshape(-1, 1)\n",
        "        y_train = df_entrenamiento[variable_dependiente.value]\n",
        "\n",
        "        modelo = LinearRegression()\n",
        "        modelo.fit(X_train, y_train)\n",
        "\n",
        "        # Mostrar la recta de regresión\n",
        "        plt.scatter(X_train, y_train, color='blue')\n",
        "        plt.plot(X_train, modelo.predict(X_train), color='red')\n",
        "        plt.xlabel(variables_independientes.value)\n",
        "        plt.ylabel(variable_dependiente.value)\n",
        "        plt.title('Recta de Regresión')\n",
        "        plt.grid(True)\n",
        "        plt.show()\n",
        "        # Calcular R²\n",
        "        y_pred_train = modelo.predict(X_train)\n",
        "        r_squared = r2_score(y_train, y_pred_train)\n",
        "        print(\"R² (Coeficiente de determinación):\", r_squared)\n",
        "        # Mostrar los coeficientes de la ecuación de regresión\n",
        "        coef_a = modelo.intercept_\n",
        "        coef_b = modelo.coef_[0]\n",
        "        print(\"Coeficiente 'a':\", coef_a)\n",
        "        print(\"Coeficiente 'b':\", coef_b)\n",
        "        # Calcular RMSE en los datos de validación\n",
        "        if df is None:\n",
        "            print(\"Primero debe cargar un archivo CSV\")\n",
        "            return\n",
        "        X_valid = df_validacion[variables_independientes.value].values.reshape(-1, 1)\n",
        "        y_valid = df_validacion[variable_dependiente.value]\n",
        "        y_pred_valid = modelo.predict(X_valid)\n",
        "        rmse = np.sqrt(mean_squared_error(y_valid, y_pred_valid))\n",
        "        print(\"RMSE (Root Mean Squared Error):\", rmse)\n",
        "\n",
        "        # Mandar llamar la función directamente\n",
        "        mostrar_resultados(r_squared, coef_a, coef_b, rmse)\n",
        "\n",
        "    except Exception as e:\n",
        "        print(\"Error al construir el modelo:\", e)\n",
        "\n",
        "# Función para mostrar los resultados del modelo\n",
        "def mostrar_resultados(r_squared, coef_a, coef_b, rmse):\n",
        "    # Crear widgets de texto para mostrar los resultados\n",
        "    descripcion_widget = widgets.HTML(value=f\"<b>R² (Coeficiente de determinación):</b> El valor de R² es aproximadamente {r_squared:.2f}, lo que significa que alrededor del {r_squared * 100:.0f}% de la variabilidad en el peso puede ser explicada por la variabilidad en la estatura. Un valor de R² más alto indica que el modelo ajustado explica una mayor proporción de la variabilidad en los datos observados.<br>\")\n",
        "    coef_a_widget = widgets.HTML(value=f\"<b>Coeficiente 'a':</b> El coeficiente 'a' es aproximadamente {coef_a:.2f}. Este coeficiente representa la ordenada al origen en la ecuación de regresión lineal. Indica el valor esperado del peso cuando la estatura es cero. Sin embargo, en este contexto, la interpretación de este coeficiente puede no ser significativa ya que es poco probable que haya personas con estatura cero en el conjunto de datos.<br>\")\n",
        "    coef_b_widget = widgets.HTML(value=f\"<b>Coeficiente 'b':</b> El coeficiente 'b' es aproximadamente {coef_b:.2f}. Este coeficiente representa la pendiente de la recta de regresión. Indica el cambio esperado en el peso por cada unidad de cambio en la estatura. En este caso, el coeficiente positivo sugiere que a medida que la estatura aumenta, también lo hace el peso.<br>\")\n",
        "    rmse_widget = widgets.HTML(value=f\"<b>RMSE (Root Mean Squared Error):</b> El valor del RMSE es aproximadamente {rmse:.2f} kg. El RMSE es una medida de qué tan bien se ajustan las predicciones del modelo a los valores reales de peso. Cuanto menor sea el RMSE, mejor será el ajuste del modelo a los datos observados. En este caso, un RMSE de {rmse:.2f} kg indica que, en promedio, las predicciones del modelo están a unas {rmse:.2f} kg de los valores reales de peso.<br>\")\n",
        "\n",
        "    # Mostrar los widgets\n",
        "    display(widgets.VBox([descripcion_widget, coef_a_widget, coef_b_widget, rmse_widget]))\n",
        "\n",
        "\n",
        "\n",
        "\n"
      ],
      "metadata": {
        "id": "s5DDcMtFNd_o"
      },
      "execution_count": 11,
      "outputs": []
    },
    {
      "cell_type": "markdown",
      "source": [
        "## Resultados e Interpretación del modelo\n"
      ],
      "metadata": {
        "id": "wswCTzTQhOc6"
      }
    },
    {
      "cell_type": "markdown",
      "source": [
        "## Crear y ejecutar widgets\n",
        "\n",
        "Se ejecutan componentes básicos la interfazinterfaz .\n"
      ],
      "metadata": {
        "id": "Th3WUjiKgz-6"
      }
    },
    {
      "cell_type": "code",
      "source": [
        "# Crear widgets\n",
        "cargar_archivo_selector = widgets.FileUpload(accept='.csv')\n",
        "boton_cargar = widgets.Button(description=\"Cargar archivo\")\n",
        "boton_cargar.on_click(cargar_archivo)\n",
        "variables_independientes = widgets.Dropdown(description=\"Independiente:\")\n",
        "variable_dependiente = widgets.Dropdown(description=\"Dependiente:\")\n",
        "porcentaje_slider = widgets.IntSlider(description=\"Porcentaje:\", min=50, max=100, step=5, value=70)\n",
        "boton_particionar = widgets.Button(description=\"Entrenamiento-Validación\")\n",
        "boton_particionar.on_click(particionar_entrenamiento_validacion)\n",
        "boton_construir_modelo = widgets.Button(description=\"Construir modelo\")\n",
        "boton_construir_modelo.on_click(construir_modelo)\n",
        "# Crear botón para la interpretación\n",
        "#boton_interpretacion = widgets.Button(description=\"Interpretación\")\n",
        "#boton_interpretacion.on_click(lambda _: mostrar_resultados(r_squared, coef_a, coef_b, rmse))\n",
        "\n",
        "\n",
        "# Mostrar widgets\n",
        "display(cargar_archivo_selector)\n",
        "display(boton_cargar)\n",
        "display(variables_independientes)\n",
        "display(variable_dependiente)\n",
        "display(porcentaje_slider)\n",
        "display(boton_particionar)\n",
        "display(boton_construir_modelo)\n",
        "\n",
        "# Mostrar widgets\n",
        "# display(boton_interpretacion)"
      ],
      "metadata": {
        "id": "wz3Ax4DAhIBo"
      },
      "execution_count": null,
      "outputs": []
    },
    {
      "cell_type": "code",
      "source": [],
      "metadata": {
        "id": "cjwA5pn9gyz7"
      },
      "execution_count": null,
      "outputs": []
    }
  ]
}