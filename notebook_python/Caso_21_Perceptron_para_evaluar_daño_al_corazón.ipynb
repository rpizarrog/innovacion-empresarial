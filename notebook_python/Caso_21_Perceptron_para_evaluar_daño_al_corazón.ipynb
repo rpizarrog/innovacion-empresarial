{
  "nbformat": 4,
  "nbformat_minor": 0,
  "metadata": {
    "colab": {
      "provenance": [],
      "authorship_tag": "ABX9TyN1Jn//WaQsGw52sRHAvwqH",
      "include_colab_link": true
    },
    "kernelspec": {
      "name": "python3",
      "display_name": "Python 3"
    },
    "language_info": {
      "name": "python"
    },
    "widgets": {
      "application/vnd.jupyter.widget-state+json": {
        "943da8917f1e4cf886a48332f4d72827": {
          "model_module": "@jupyter-widgets/output",
          "model_name": "OutputModel",
          "model_module_version": "1.0.0",
          "state": {
            "_dom_classes": [],
            "_model_module": "@jupyter-widgets/output",
            "_model_module_version": "1.0.0",
            "_model_name": "OutputModel",
            "_view_count": null,
            "_view_module": "@jupyter-widgets/output",
            "_view_module_version": "1.0.0",
            "_view_name": "OutputView",
            "layout": "IPY_MODEL_f53c14a003a645f9b0b4eca6458b792c",
            "msg_id": "",
            "outputs": [
              {
                "output_type": "display_data",
                "data": {
                  "text/plain": "<IPython.core.display.HTML object>",
                  "text/html": "<h2>Primeros registros. Datos de entrenamiento de 223856 registros</h2>"
                },
                "metadata": {}
              },
              {
                "output_type": "display_data",
                "data": {
                  "text/plain": "      BMI  Smoking  AlcoholDrinking  Stroke  PhysicalHealth  MentalHealth  \\\n0   16.60        1                2       2               3            30   \n1   20.34        2                2       1               0             0   \n2   26.58        1                2       2              20            30   \n3   24.21        2                2       2               0             0   \n5   28.87        1                2       2               6             0   \n9   40.69        2                2       2               0             0   \n10  34.30        1                2       2              30             0   \n11  28.71        1                2       2               0             0   \n12  28.37        1                2       2               0             0   \n14  29.29        1                2       2               0            30   \n15  29.18        2                2       2               1             0   \n16  26.26        2                2       2               5             2   \n17  22.59        1                2       2               0            30   \n19  18.13        2                2       2               0             0   \n21  28.90        2                2       2               2             5   \n23  25.82        1                2       2               0            30   \n24  25.75        2                2       2               0             0   \n25  29.18        1                2       2              30            30   \n26  34.34        1                2       2              21             8   \n27  31.66        1                2       2               5             0   \n\n    DiffWalking  Sex  AgeCategory  Race  Diabetic  PhysicalActivity  \\\n0             2    1            8     1         1                 1   \n1             2    1           13     1         2                 1   \n2             2    2           10     1         1                 1   \n3             2    1           12     1         2                 2   \n5             1    1           12     2         2                 2   \n9             1    2           10     1         2                 1   \n10            1    2            9     1         1                 2   \n11            2    1            8     1         2                 1   \n12            1    2           12     1         1                 1   \n14            1    1            9     1         2                 2   \n15            2    1            7     1         2                 1   \n16            2    1           11     1         2                 2   \n17            1    2           11     1         3                 1   \n19            2    2           13     1         2                 1   \n21            2    1           11     1         1                 2   \n23            2    2           13     1         1                 1   \n24            2    1           13     1         2                 1   \n25            1    1            9     1         2                 2   \n26            1    1           10     1         2                 1   \n27            2    2            9     1         2                 1   \n\n    GenHealth  SleepTime  Asthma  KidneyDisease  SkinCancer  \n0           4          5       1              2           1  \n1           4          7       2              2           2  \n2           5          8       1              2           2  \n3           3          6       2              2           1  \n5           5         12       2              2           2  \n9           3         10       2              2           2  \n10          2         15       1              2           2  \n11          4          5       2              2           2  \n12          4          8       2              2           2  \n14          3          5       2              2           2  \n15          4          6       2              2           2  \n16          4         10       2              2           2  \n17          3          8       2              2           2  \n19          5          8       2              2           1  \n21          4          7       2              2           2  \n23          5          8       2              2           2  \n24          4          6       2              2           1  \n25          2          6       1              2           2  \n26          5          9       2              2           2  \n27          4          5       2              2           2  ",
                  "text/html": "\n  <div id=\"df-70691e37-602d-4025-af16-448f77b49f0d\" class=\"colab-df-container\">\n    <div>\n<style scoped>\n    .dataframe tbody tr th:only-of-type {\n        vertical-align: middle;\n    }\n\n    .dataframe tbody tr th {\n        vertical-align: top;\n    }\n\n    .dataframe thead th {\n        text-align: right;\n    }\n</style>\n<table border=\"1\" class=\"dataframe\">\n  <thead>\n    <tr style=\"text-align: right;\">\n      <th></th>\n      <th>BMI</th>\n      <th>Smoking</th>\n      <th>AlcoholDrinking</th>\n      <th>Stroke</th>\n      <th>PhysicalHealth</th>\n      <th>MentalHealth</th>\n      <th>DiffWalking</th>\n      <th>Sex</th>\n      <th>AgeCategory</th>\n      <th>Race</th>\n      <th>Diabetic</th>\n      <th>PhysicalActivity</th>\n      <th>GenHealth</th>\n      <th>SleepTime</th>\n      <th>Asthma</th>\n      <th>KidneyDisease</th>\n      <th>SkinCancer</th>\n    </tr>\n  </thead>\n  <tbody>\n    <tr>\n      <th>0</th>\n      <td>16.60</td>\n      <td>1</td>\n      <td>2</td>\n      <td>2</td>\n      <td>3</td>\n      <td>30</td>\n      <td>2</td>\n      <td>1</td>\n      <td>8</td>\n      <td>1</td>\n      <td>1</td>\n      <td>1</td>\n      <td>4</td>\n      <td>5</td>\n      <td>1</td>\n      <td>2</td>\n      <td>1</td>\n    </tr>\n    <tr>\n      <th>1</th>\n      <td>20.34</td>\n      <td>2</td>\n      <td>2</td>\n      <td>1</td>\n      <td>0</td>\n      <td>0</td>\n      <td>2</td>\n      <td>1</td>\n      <td>13</td>\n      <td>1</td>\n      <td>2</td>\n      <td>1</td>\n      <td>4</td>\n      <td>7</td>\n      <td>2</td>\n      <td>2</td>\n      <td>2</td>\n    </tr>\n    <tr>\n      <th>2</th>\n      <td>26.58</td>\n      <td>1</td>\n      <td>2</td>\n      <td>2</td>\n      <td>20</td>\n      <td>30</td>\n      <td>2</td>\n      <td>2</td>\n      <td>10</td>\n      <td>1</td>\n      <td>1</td>\n      <td>1</td>\n      <td>5</td>\n      <td>8</td>\n      <td>1</td>\n      <td>2</td>\n      <td>2</td>\n    </tr>\n    <tr>\n      <th>3</th>\n      <td>24.21</td>\n      <td>2</td>\n      <td>2</td>\n      <td>2</td>\n      <td>0</td>\n      <td>0</td>\n      <td>2</td>\n      <td>1</td>\n      <td>12</td>\n      <td>1</td>\n      <td>2</td>\n      <td>2</td>\n      <td>3</td>\n      <td>6</td>\n      <td>2</td>\n      <td>2</td>\n      <td>1</td>\n    </tr>\n    <tr>\n      <th>5</th>\n      <td>28.87</td>\n      <td>1</td>\n      <td>2</td>\n      <td>2</td>\n      <td>6</td>\n      <td>0</td>\n      <td>1</td>\n      <td>1</td>\n      <td>12</td>\n      <td>2</td>\n      <td>2</td>\n      <td>2</td>\n      <td>5</td>\n      <td>12</td>\n      <td>2</td>\n      <td>2</td>\n      <td>2</td>\n    </tr>\n    <tr>\n      <th>9</th>\n      <td>40.69</td>\n      <td>2</td>\n      <td>2</td>\n      <td>2</td>\n      <td>0</td>\n      <td>0</td>\n      <td>1</td>\n      <td>2</td>\n      <td>10</td>\n      <td>1</td>\n      <td>2</td>\n      <td>1</td>\n      <td>3</td>\n      <td>10</td>\n      <td>2</td>\n      <td>2</td>\n      <td>2</td>\n    </tr>\n    <tr>\n      <th>10</th>\n      <td>34.30</td>\n      <td>1</td>\n      <td>2</td>\n      <td>2</td>\n      <td>30</td>\n      <td>0</td>\n      <td>1</td>\n      <td>2</td>\n      <td>9</td>\n      <td>1</td>\n      <td>1</td>\n      <td>2</td>\n      <td>2</td>\n      <td>15</td>\n      <td>1</td>\n      <td>2</td>\n      <td>2</td>\n    </tr>\n    <tr>\n      <th>11</th>\n      <td>28.71</td>\n      <td>1</td>\n      <td>2</td>\n      <td>2</td>\n      <td>0</td>\n      <td>0</td>\n      <td>2</td>\n      <td>1</td>\n      <td>8</td>\n      <td>1</td>\n      <td>2</td>\n      <td>1</td>\n      <td>4</td>\n      <td>5</td>\n      <td>2</td>\n      <td>2</td>\n      <td>2</td>\n    </tr>\n    <tr>\n      <th>12</th>\n      <td>28.37</td>\n      <td>1</td>\n      <td>2</td>\n      <td>2</td>\n      <td>0</td>\n      <td>0</td>\n      <td>1</td>\n      <td>2</td>\n      <td>12</td>\n      <td>1</td>\n      <td>1</td>\n      <td>1</td>\n      <td>4</td>\n      <td>8</td>\n      <td>2</td>\n      <td>2</td>\n      <td>2</td>\n    </tr>\n    <tr>\n      <th>14</th>\n      <td>29.29</td>\n      <td>1</td>\n      <td>2</td>\n      <td>2</td>\n      <td>0</td>\n      <td>30</td>\n      <td>1</td>\n      <td>1</td>\n      <td>9</td>\n      <td>1</td>\n      <td>2</td>\n      <td>2</td>\n      <td>3</td>\n      <td>5</td>\n      <td>2</td>\n      <td>2</td>\n      <td>2</td>\n    </tr>\n    <tr>\n      <th>15</th>\n      <td>29.18</td>\n      <td>2</td>\n      <td>2</td>\n      <td>2</td>\n      <td>1</td>\n      <td>0</td>\n      <td>2</td>\n      <td>1</td>\n      <td>7</td>\n      <td>1</td>\n      <td>2</td>\n      <td>1</td>\n      <td>4</td>\n      <td>6</td>\n      <td>2</td>\n      <td>2</td>\n      <td>2</td>\n    </tr>\n    <tr>\n      <th>16</th>\n      <td>26.26</td>\n      <td>2</td>\n      <td>2</td>\n      <td>2</td>\n      <td>5</td>\n      <td>2</td>\n      <td>2</td>\n      <td>1</td>\n      <td>11</td>\n      <td>1</td>\n      <td>2</td>\n      <td>2</td>\n      <td>4</td>\n      <td>10</td>\n      <td>2</td>\n      <td>2</td>\n      <td>2</td>\n    </tr>\n    <tr>\n      <th>17</th>\n      <td>22.59</td>\n      <td>1</td>\n      <td>2</td>\n      <td>2</td>\n      <td>0</td>\n      <td>30</td>\n      <td>1</td>\n      <td>2</td>\n      <td>11</td>\n      <td>1</td>\n      <td>3</td>\n      <td>1</td>\n      <td>3</td>\n      <td>8</td>\n      <td>2</td>\n      <td>2</td>\n      <td>2</td>\n    </tr>\n    <tr>\n      <th>19</th>\n      <td>18.13</td>\n      <td>2</td>\n      <td>2</td>\n      <td>2</td>\n      <td>0</td>\n      <td>0</td>\n      <td>2</td>\n      <td>2</td>\n      <td>13</td>\n      <td>1</td>\n      <td>2</td>\n      <td>1</td>\n      <td>5</td>\n      <td>8</td>\n      <td>2</td>\n      <td>2</td>\n      <td>1</td>\n    </tr>\n    <tr>\n      <th>21</th>\n      <td>28.90</td>\n      <td>2</td>\n      <td>2</td>\n      <td>2</td>\n      <td>2</td>\n      <td>5</td>\n      <td>2</td>\n      <td>1</td>\n      <td>11</td>\n      <td>1</td>\n      <td>1</td>\n      <td>2</td>\n      <td>4</td>\n      <td>7</td>\n      <td>2</td>\n      <td>2</td>\n      <td>2</td>\n    </tr>\n    <tr>\n      <th>23</th>\n      <td>25.82</td>\n      <td>1</td>\n      <td>2</td>\n      <td>2</td>\n      <td>0</td>\n      <td>30</td>\n      <td>2</td>\n      <td>2</td>\n      <td>13</td>\n      <td>1</td>\n      <td>1</td>\n      <td>1</td>\n      <td>5</td>\n      <td>8</td>\n      <td>2</td>\n      <td>2</td>\n      <td>2</td>\n    </tr>\n    <tr>\n      <th>24</th>\n      <td>25.75</td>\n      <td>2</td>\n      <td>2</td>\n      <td>2</td>\n      <td>0</td>\n      <td>0</td>\n      <td>2</td>\n      <td>1</td>\n      <td>13</td>\n      <td>1</td>\n      <td>2</td>\n      <td>1</td>\n      <td>4</td>\n      <td>6</td>\n      <td>2</td>\n      <td>2</td>\n      <td>1</td>\n    </tr>\n    <tr>\n      <th>25</th>\n      <td>29.18</td>\n      <td>1</td>\n      <td>2</td>\n      <td>2</td>\n      <td>30</td>\n      <td>30</td>\n      <td>1</td>\n      <td>1</td>\n      <td>9</td>\n      <td>1</td>\n      <td>2</td>\n      <td>2</td>\n      <td>2</td>\n      <td>6</td>\n      <td>1</td>\n      <td>2</td>\n      <td>2</td>\n    </tr>\n    <tr>\n      <th>26</th>\n      <td>34.34</td>\n      <td>1</td>\n      <td>2</td>\n      <td>2</td>\n      <td>21</td>\n      <td>8</td>\n      <td>1</td>\n      <td>1</td>\n      <td>10</td>\n      <td>1</td>\n      <td>2</td>\n      <td>1</td>\n      <td>5</td>\n      <td>9</td>\n      <td>2</td>\n      <td>2</td>\n      <td>2</td>\n    </tr>\n    <tr>\n      <th>27</th>\n      <td>31.66</td>\n      <td>1</td>\n      <td>2</td>\n      <td>2</td>\n      <td>5</td>\n      <td>0</td>\n      <td>2</td>\n      <td>2</td>\n      <td>9</td>\n      <td>1</td>\n      <td>2</td>\n      <td>1</td>\n      <td>4</td>\n      <td>5</td>\n      <td>2</td>\n      <td>2</td>\n      <td>2</td>\n    </tr>\n  </tbody>\n</table>\n</div>\n    <div class=\"colab-df-buttons\">\n\n  <div class=\"colab-df-container\">\n    <button class=\"colab-df-convert\" onclick=\"convertToInteractive('df-70691e37-602d-4025-af16-448f77b49f0d')\"\n            title=\"Convert this dataframe to an interactive table.\"\n            style=\"display:none;\">\n\n  <svg xmlns=\"http://www.w3.org/2000/svg\" height=\"24px\" viewBox=\"0 -960 960 960\">\n    <path d=\"M120-120v-720h720v720H120Zm60-500h600v-160H180v160Zm220 220h160v-160H400v160Zm0 220h160v-160H400v160ZM180-400h160v-160H180v160Zm440 0h160v-160H620v160ZM180-180h160v-160H180v160Zm440 0h160v-160H620v160Z\"/>\n  </svg>\n    </button>\n\n  <style>\n    .colab-df-container {\n      display:flex;\n      gap: 12px;\n    }\n\n    .colab-df-convert {\n      background-color: #E8F0FE;\n      border: none;\n      border-radius: 50%;\n      cursor: pointer;\n      display: none;\n      fill: #1967D2;\n      height: 32px;\n      padding: 0 0 0 0;\n      width: 32px;\n    }\n\n    .colab-df-convert:hover {\n      background-color: #E2EBFA;\n      box-shadow: 0px 1px 2px rgba(60, 64, 67, 0.3), 0px 1px 3px 1px rgba(60, 64, 67, 0.15);\n      fill: #174EA6;\n    }\n\n    .colab-df-buttons div {\n      margin-bottom: 4px;\n    }\n\n    [theme=dark] .colab-df-convert {\n      background-color: #3B4455;\n      fill: #D2E3FC;\n    }\n\n    [theme=dark] .colab-df-convert:hover {\n      background-color: #434B5C;\n      box-shadow: 0px 1px 3px 1px rgba(0, 0, 0, 0.15);\n      filter: drop-shadow(0px 1px 2px rgba(0, 0, 0, 0.3));\n      fill: #FFFFFF;\n    }\n  </style>\n\n    <script>\n      const buttonEl =\n        document.querySelector('#df-70691e37-602d-4025-af16-448f77b49f0d button.colab-df-convert');\n      buttonEl.style.display =\n        google.colab.kernel.accessAllowed ? 'block' : 'none';\n\n      async function convertToInteractive(key) {\n        const element = document.querySelector('#df-70691e37-602d-4025-af16-448f77b49f0d');\n        const dataTable =\n          await google.colab.kernel.invokeFunction('convertToInteractive',\n                                                    [key], {});\n        if (!dataTable) return;\n\n        const docLinkHtml = 'Like what you see? Visit the ' +\n          '<a target=\"_blank\" href=https://colab.research.google.com/notebooks/data_table.ipynb>data table notebook</a>'\n          + ' to learn more about interactive tables.';\n        element.innerHTML = '';\n        dataTable['output_type'] = 'display_data';\n        await google.colab.output.renderOutput(dataTable, element);\n        const docLink = document.createElement('div');\n        docLink.innerHTML = docLinkHtml;\n        element.appendChild(docLink);\n      }\n    </script>\n  </div>\n\n\n<div id=\"df-e166ec4f-bf34-404a-8da1-f83c14724d59\">\n  <button class=\"colab-df-quickchart\" onclick=\"quickchart('df-e166ec4f-bf34-404a-8da1-f83c14724d59')\"\n            title=\"Suggest charts\"\n            style=\"display:none;\">\n\n<svg xmlns=\"http://www.w3.org/2000/svg\" height=\"24px\"viewBox=\"0 0 24 24\"\n     width=\"24px\">\n    <g>\n        <path d=\"M19 3H5c-1.1 0-2 .9-2 2v14c0 1.1.9 2 2 2h14c1.1 0 2-.9 2-2V5c0-1.1-.9-2-2-2zM9 17H7v-7h2v7zm4 0h-2V7h2v10zm4 0h-2v-4h2v4z\"/>\n    </g>\n</svg>\n  </button>\n\n<style>\n  .colab-df-quickchart {\n      --bg-color: #E8F0FE;\n      --fill-color: #1967D2;\n      --hover-bg-color: #E2EBFA;\n      --hover-fill-color: #174EA6;\n      --disabled-fill-color: #AAA;\n      --disabled-bg-color: #DDD;\n  }\n\n  [theme=dark] .colab-df-quickchart {\n      --bg-color: #3B4455;\n      --fill-color: #D2E3FC;\n      --hover-bg-color: #434B5C;\n      --hover-fill-color: #FFFFFF;\n      --disabled-bg-color: #3B4455;\n      --disabled-fill-color: #666;\n  }\n\n  .colab-df-quickchart {\n    background-color: var(--bg-color);\n    border: none;\n    border-radius: 50%;\n    cursor: pointer;\n    display: none;\n    fill: var(--fill-color);\n    height: 32px;\n    padding: 0;\n    width: 32px;\n  }\n\n  .colab-df-quickchart:hover {\n    background-color: var(--hover-bg-color);\n    box-shadow: 0 1px 2px rgba(60, 64, 67, 0.3), 0 1px 3px 1px rgba(60, 64, 67, 0.15);\n    fill: var(--button-hover-fill-color);\n  }\n\n  .colab-df-quickchart-complete:disabled,\n  .colab-df-quickchart-complete:disabled:hover {\n    background-color: var(--disabled-bg-color);\n    fill: var(--disabled-fill-color);\n    box-shadow: none;\n  }\n\n  .colab-df-spinner {\n    border: 2px solid var(--fill-color);\n    border-color: transparent;\n    border-bottom-color: var(--fill-color);\n    animation:\n      spin 1s steps(1) infinite;\n  }\n\n  @keyframes spin {\n    0% {\n      border-color: transparent;\n      border-bottom-color: var(--fill-color);\n      border-left-color: var(--fill-color);\n    }\n    20% {\n      border-color: transparent;\n      border-left-color: var(--fill-color);\n      border-top-color: var(--fill-color);\n    }\n    30% {\n      border-color: transparent;\n      border-left-color: var(--fill-color);\n      border-top-color: var(--fill-color);\n      border-right-color: var(--fill-color);\n    }\n    40% {\n      border-color: transparent;\n      border-right-color: var(--fill-color);\n      border-top-color: var(--fill-color);\n    }\n    60% {\n      border-color: transparent;\n      border-right-color: var(--fill-color);\n    }\n    80% {\n      border-color: transparent;\n      border-right-color: var(--fill-color);\n      border-bottom-color: var(--fill-color);\n    }\n    90% {\n      border-color: transparent;\n      border-bottom-color: var(--fill-color);\n    }\n  }\n</style>\n\n  <script>\n    async function quickchart(key) {\n      const quickchartButtonEl =\n        document.querySelector('#' + key + ' button');\n      quickchartButtonEl.disabled = true;  // To prevent multiple clicks.\n      quickchartButtonEl.classList.add('colab-df-spinner');\n      try {\n        const charts = await google.colab.kernel.invokeFunction(\n            'suggestCharts', [key], {});\n      } catch (error) {\n        console.error('Error during call to suggestCharts:', error);\n      }\n      quickchartButtonEl.classList.remove('colab-df-spinner');\n      quickchartButtonEl.classList.add('colab-df-quickchart-complete');\n    }\n    (() => {\n      let quickchartButtonEl =\n        document.querySelector('#df-e166ec4f-bf34-404a-8da1-f83c14724d59 button');\n      quickchartButtonEl.style.display =\n        google.colab.kernel.accessAllowed ? 'block' : 'none';\n    })();\n  </script>\n</div>\n    </div>\n  </div>\n",
                  "application/vnd.google.colaboratory.intrinsic+json": {
                    "type": "dataframe",
                    "summary": "{\n  \"name\": \"display(visualizar)\",\n  \"rows\": 20,\n  \"fields\": [\n    {\n      \"column\": \"BMI\",\n      \"properties\": {\n        \"dtype\": \"number\",\n        \"std\": 5.62084960332136,\n        \"min\": 16.6,\n        \"max\": 40.69,\n        \"num_unique_values\": 19,\n        \"samples\": [\n          16.6,\n          40.69,\n          26.26\n        ],\n        \"semantic_type\": \"\",\n        \"description\": \"\"\n      }\n    },\n    {\n      \"column\": \"Smoking\",\n      \"properties\": {\n        \"dtype\": \"number\",\n        \"std\": 0,\n        \"min\": 1,\n        \"max\": 2,\n        \"num_unique_values\": 2,\n        \"samples\": [\n          2,\n          1\n        ],\n        \"semantic_type\": \"\",\n        \"description\": \"\"\n      }\n    },\n    {\n      \"column\": \"AlcoholDrinking\",\n      \"properties\": {\n        \"dtype\": \"number\",\n        \"std\": 0,\n        \"min\": 2,\n        \"max\": 2,\n        \"num_unique_values\": 1,\n        \"samples\": [\n          2\n        ],\n        \"semantic_type\": \"\",\n        \"description\": \"\"\n      }\n    },\n    {\n      \"column\": \"Stroke\",\n      \"properties\": {\n        \"dtype\": \"number\",\n        \"std\": 0,\n        \"min\": 1,\n        \"max\": 2,\n        \"num_unique_values\": 2,\n        \"samples\": [\n          1\n        ],\n        \"semantic_type\": \"\",\n        \"description\": \"\"\n      }\n    },\n    {\n      \"column\": \"PhysicalHealth\",\n      \"properties\": {\n        \"dtype\": \"number\",\n        \"std\": 10,\n        \"min\": 0,\n        \"max\": 30,\n        \"num_unique_values\": 9,\n        \"samples\": [\n          2\n        ],\n        \"semantic_type\": \"\",\n        \"description\": \"\"\n      }\n    },\n    {\n      \"column\": \"MentalHealth\",\n      \"properties\": {\n        \"dtype\": \"number\",\n        \"std\": 13,\n        \"min\": 0,\n        \"max\": 30,\n        \"num_unique_values\": 5,\n        \"samples\": [\n          0\n        ],\n        \"semantic_type\": \"\",\n        \"description\": \"\"\n      }\n    },\n    {\n      \"column\": \"DiffWalking\",\n      \"properties\": {\n        \"dtype\": \"number\",\n        \"std\": 0,\n        \"min\": 1,\n        \"max\": 2,\n        \"num_unique_values\": 2,\n        \"samples\": [\n          1\n        ],\n        \"semantic_type\": \"\",\n        \"description\": \"\"\n      }\n    },\n    {\n      \"column\": \"Sex\",\n      \"properties\": {\n        \"dtype\": \"number\",\n        \"std\": 0,\n        \"min\": 1,\n        \"max\": 2,\n        \"num_unique_values\": 2,\n        \"samples\": [\n          2\n        ],\n        \"semantic_type\": \"\",\n        \"description\": \"\"\n      }\n    },\n    {\n      \"column\": \"AgeCategory\",\n      \"properties\": {\n        \"dtype\": \"number\",\n        \"std\": 1,\n        \"min\": 7,\n        \"max\": 13,\n        \"num_unique_values\": 7,\n        \"samples\": [\n          8\n        ],\n        \"semantic_type\": \"\",\n        \"description\": \"\"\n      }\n    },\n    {\n      \"column\": \"Race\",\n      \"properties\": {\n        \"dtype\": \"number\",\n        \"std\": 0,\n        \"min\": 1,\n        \"max\": 2,\n        \"num_unique_values\": 2,\n        \"samples\": [\n          2\n        ],\n        \"semantic_type\": \"\",\n        \"description\": \"\"\n      }\n    },\n    {\n      \"column\": \"Diabetic\",\n      \"properties\": {\n        \"dtype\": \"number\",\n        \"std\": 0,\n        \"min\": 1,\n        \"max\": 3,\n        \"num_unique_values\": 3,\n        \"samples\": [\n          1\n        ],\n        \"semantic_type\": \"\",\n        \"description\": \"\"\n      }\n    },\n    {\n      \"column\": \"PhysicalActivity\",\n      \"properties\": {\n        \"dtype\": \"number\",\n        \"std\": 0,\n        \"min\": 1,\n        \"max\": 2,\n        \"num_unique_values\": 2,\n        \"samples\": [\n          2\n        ],\n        \"semantic_type\": \"\",\n        \"description\": \"\"\n      }\n    },\n    {\n      \"column\": \"GenHealth\",\n      \"properties\": {\n        \"dtype\": \"number\",\n        \"std\": 0,\n        \"min\": 2,\n        \"max\": 5,\n        \"num_unique_values\": 4,\n        \"samples\": [\n          5\n        ],\n        \"semantic_type\": \"\",\n        \"description\": \"\"\n      }\n    },\n    {\n      \"column\": \"SleepTime\",\n      \"properties\": {\n        \"dtype\": \"number\",\n        \"std\": 2,\n        \"min\": 5,\n        \"max\": 15,\n        \"num_unique_values\": 8,\n        \"samples\": [\n          7\n        ],\n        \"semantic_type\": \"\",\n        \"description\": \"\"\n      }\n    },\n    {\n      \"column\": \"Asthma\",\n      \"properties\": {\n        \"dtype\": \"number\",\n        \"std\": 0,\n        \"min\": 1,\n        \"max\": 2,\n        \"num_unique_values\": 2,\n        \"samples\": [\n          2\n        ],\n        \"semantic_type\": \"\",\n        \"description\": \"\"\n      }\n    },\n    {\n      \"column\": \"KidneyDisease\",\n      \"properties\": {\n        \"dtype\": \"number\",\n        \"std\": 0,\n        \"min\": 2,\n        \"max\": 2,\n        \"num_unique_values\": 1,\n        \"samples\": [\n          2\n        ],\n        \"semantic_type\": \"\",\n        \"description\": \"\"\n      }\n    },\n    {\n      \"column\": \"SkinCancer\",\n      \"properties\": {\n        \"dtype\": \"number\",\n        \"std\": 0,\n        \"min\": 1,\n        \"max\": 2,\n        \"num_unique_values\": 2,\n        \"samples\": [\n          2\n        ],\n        \"semantic_type\": \"\",\n        \"description\": \"\"\n      }\n    }\n  ]\n}"
                  }
                },
                "metadata": {}
              },
              {
                "output_type": "display_data",
                "data": {
                  "text/plain": "<IPython.core.display.HTML object>",
                  "text/html": "<h2>Primeros registros. Datos de validación de 95939 registros</h2>"
                },
                "metadata": {}
              },
              {
                "output_type": "display_data",
                "data": {
                  "text/plain": "      BMI  Smoking  AlcoholDrinking  Stroke  PhysicalHealth  MentalHealth  \\\n4   23.71        2                2       2              28             0   \n6   21.63        2                2       2              15             0   \n7   31.64        1                2       2               5             0   \n8   26.45        2                2       2               0             0   \n13  28.15        2                2       2               7             0   \n18  29.86        1                2       2               0             0   \n20  21.16        2                2       2               0             0   \n22  26.17        1                2       2               0            15   \n29  36.58        2                2       2               0             0   \n34  38.97        2                2       2               0             0   \n37  20.43        1                2       2               3             3   \n45  20.37        1                2       2               3             0   \n46  33.23        2                2       2               0             0   \n47  25.11        2                2       2               5             5   \n48  20.12        2                2       2               0             0   \n49  27.46        1                2       1              15             0   \n50  26.61        2                2       2               0             0   \n55  24.02        2                1       2               7             0   \n57  46.52        1                2       2              30             0   \n58  29.55        2                2       2               0             0   \n\n    DiffWalking  Sex  AgeCategory  Race  Diabetic  PhysicalActivity  \\\n4             1    1            5     1         2                 1   \n6             2    1           11     1         2                 1   \n7             1    1           13     1         1                 2   \n8             2    1           13     1         3                 2   \n13            1    1           13     1         2                 2   \n18            1    1           12     2         1                 2   \n20            2    1           13     2         3                 2   \n22            2    1            6     1         2                 1   \n29            2    1            9     1         1                 2   \n34            1    1           11     2         2                 2   \n37            2    1           10     1         2                 1   \n45            2    1           11     1         2                 2   \n46            2    2           10     1         1                 1   \n47            2    1           10     2         2                 1   \n48            1    1           13     1         2                 2   \n49            2    2           12     1         2                 1   \n50            2    1           10     1         2                 1   \n55            2    1            9     1         2                 1   \n57            2    2           10     1         1                 2   \n58            2    2           11     1         1                 1   \n\n    GenHealth  SleepTime  Asthma  KidneyDisease  SkinCancer  \n4           4          8       2              2           2  \n6           5          4       1              2           1  \n7           3          9       1              2           2  \n8           5          5       2              1           2  \n13          3          7       2              2           2  \n18          5          5       2              1           2  \n20          3          8       2              2           2  \n22          4          6       2              2           2  \n29          3          5       2              2           1  \n34          3          6       2              2           2  \n37          5          5       1              2           1  \n45          2         10       2              2           2  \n46          4          8       2              2           2  \n47          3          7       2              2           2  \n48          5          7       2              2           1  \n49          2          8       2              2           2  \n50          3         12       1              2           2  \n55          5          6       2              2           2  \n57          2          8       1              2           2  \n58          3          7       2              2           2  ",
                  "text/html": "\n  <div id=\"df-277a1bc0-8495-4131-9370-37e7d7f73a2a\" class=\"colab-df-container\">\n    <div>\n<style scoped>\n    .dataframe tbody tr th:only-of-type {\n        vertical-align: middle;\n    }\n\n    .dataframe tbody tr th {\n        vertical-align: top;\n    }\n\n    .dataframe thead th {\n        text-align: right;\n    }\n</style>\n<table border=\"1\" class=\"dataframe\">\n  <thead>\n    <tr style=\"text-align: right;\">\n      <th></th>\n      <th>BMI</th>\n      <th>Smoking</th>\n      <th>AlcoholDrinking</th>\n      <th>Stroke</th>\n      <th>PhysicalHealth</th>\n      <th>MentalHealth</th>\n      <th>DiffWalking</th>\n      <th>Sex</th>\n      <th>AgeCategory</th>\n      <th>Race</th>\n      <th>Diabetic</th>\n      <th>PhysicalActivity</th>\n      <th>GenHealth</th>\n      <th>SleepTime</th>\n      <th>Asthma</th>\n      <th>KidneyDisease</th>\n      <th>SkinCancer</th>\n    </tr>\n  </thead>\n  <tbody>\n    <tr>\n      <th>4</th>\n      <td>23.71</td>\n      <td>2</td>\n      <td>2</td>\n      <td>2</td>\n      <td>28</td>\n      <td>0</td>\n      <td>1</td>\n      <td>1</td>\n      <td>5</td>\n      <td>1</td>\n      <td>2</td>\n      <td>1</td>\n      <td>4</td>\n      <td>8</td>\n      <td>2</td>\n      <td>2</td>\n      <td>2</td>\n    </tr>\n    <tr>\n      <th>6</th>\n      <td>21.63</td>\n      <td>2</td>\n      <td>2</td>\n      <td>2</td>\n      <td>15</td>\n      <td>0</td>\n      <td>2</td>\n      <td>1</td>\n      <td>11</td>\n      <td>1</td>\n      <td>2</td>\n      <td>1</td>\n      <td>5</td>\n      <td>4</td>\n      <td>1</td>\n      <td>2</td>\n      <td>1</td>\n    </tr>\n    <tr>\n      <th>7</th>\n      <td>31.64</td>\n      <td>1</td>\n      <td>2</td>\n      <td>2</td>\n      <td>5</td>\n      <td>0</td>\n      <td>1</td>\n      <td>1</td>\n      <td>13</td>\n      <td>1</td>\n      <td>1</td>\n      <td>2</td>\n      <td>3</td>\n      <td>9</td>\n      <td>1</td>\n      <td>2</td>\n      <td>2</td>\n    </tr>\n    <tr>\n      <th>8</th>\n      <td>26.45</td>\n      <td>2</td>\n      <td>2</td>\n      <td>2</td>\n      <td>0</td>\n      <td>0</td>\n      <td>2</td>\n      <td>1</td>\n      <td>13</td>\n      <td>1</td>\n      <td>3</td>\n      <td>2</td>\n      <td>5</td>\n      <td>5</td>\n      <td>2</td>\n      <td>1</td>\n      <td>2</td>\n    </tr>\n    <tr>\n      <th>13</th>\n      <td>28.15</td>\n      <td>2</td>\n      <td>2</td>\n      <td>2</td>\n      <td>7</td>\n      <td>0</td>\n      <td>1</td>\n      <td>1</td>\n      <td>13</td>\n      <td>1</td>\n      <td>2</td>\n      <td>2</td>\n      <td>3</td>\n      <td>7</td>\n      <td>2</td>\n      <td>2</td>\n      <td>2</td>\n    </tr>\n    <tr>\n      <th>18</th>\n      <td>29.86</td>\n      <td>1</td>\n      <td>2</td>\n      <td>2</td>\n      <td>0</td>\n      <td>0</td>\n      <td>1</td>\n      <td>1</td>\n      <td>12</td>\n      <td>2</td>\n      <td>1</td>\n      <td>2</td>\n      <td>5</td>\n      <td>5</td>\n      <td>2</td>\n      <td>1</td>\n      <td>2</td>\n    </tr>\n    <tr>\n      <th>20</th>\n      <td>21.16</td>\n      <td>2</td>\n      <td>2</td>\n      <td>2</td>\n      <td>0</td>\n      <td>0</td>\n      <td>2</td>\n      <td>1</td>\n      <td>13</td>\n      <td>2</td>\n      <td>3</td>\n      <td>2</td>\n      <td>3</td>\n      <td>8</td>\n      <td>2</td>\n      <td>2</td>\n      <td>2</td>\n    </tr>\n    <tr>\n      <th>22</th>\n      <td>26.17</td>\n      <td>1</td>\n      <td>2</td>\n      <td>2</td>\n      <td>0</td>\n      <td>15</td>\n      <td>2</td>\n      <td>1</td>\n      <td>6</td>\n      <td>1</td>\n      <td>2</td>\n      <td>1</td>\n      <td>4</td>\n      <td>6</td>\n      <td>2</td>\n      <td>2</td>\n      <td>2</td>\n    </tr>\n    <tr>\n      <th>29</th>\n      <td>36.58</td>\n      <td>2</td>\n      <td>2</td>\n      <td>2</td>\n      <td>0</td>\n      <td>0</td>\n      <td>2</td>\n      <td>1</td>\n      <td>9</td>\n      <td>1</td>\n      <td>1</td>\n      <td>2</td>\n      <td>3</td>\n      <td>5</td>\n      <td>2</td>\n      <td>2</td>\n      <td>1</td>\n    </tr>\n    <tr>\n      <th>34</th>\n      <td>38.97</td>\n      <td>2</td>\n      <td>2</td>\n      <td>2</td>\n      <td>0</td>\n      <td>0</td>\n      <td>1</td>\n      <td>1</td>\n      <td>11</td>\n      <td>2</td>\n      <td>2</td>\n      <td>2</td>\n      <td>3</td>\n      <td>6</td>\n      <td>2</td>\n      <td>2</td>\n      <td>2</td>\n    </tr>\n    <tr>\n      <th>37</th>\n      <td>20.43</td>\n      <td>1</td>\n      <td>2</td>\n      <td>2</td>\n      <td>3</td>\n      <td>3</td>\n      <td>2</td>\n      <td>1</td>\n      <td>10</td>\n      <td>1</td>\n      <td>2</td>\n      <td>1</td>\n      <td>5</td>\n      <td>5</td>\n      <td>1</td>\n      <td>2</td>\n      <td>1</td>\n    </tr>\n    <tr>\n      <th>45</th>\n      <td>20.37</td>\n      <td>1</td>\n      <td>2</td>\n      <td>2</td>\n      <td>3</td>\n      <td>0</td>\n      <td>2</td>\n      <td>1</td>\n      <td>11</td>\n      <td>1</td>\n      <td>2</td>\n      <td>2</td>\n      <td>2</td>\n      <td>10</td>\n      <td>2</td>\n      <td>2</td>\n      <td>2</td>\n    </tr>\n    <tr>\n      <th>46</th>\n      <td>33.23</td>\n      <td>2</td>\n      <td>2</td>\n      <td>2</td>\n      <td>0</td>\n      <td>0</td>\n      <td>2</td>\n      <td>2</td>\n      <td>10</td>\n      <td>1</td>\n      <td>1</td>\n      <td>1</td>\n      <td>4</td>\n      <td>8</td>\n      <td>2</td>\n      <td>2</td>\n      <td>2</td>\n    </tr>\n    <tr>\n      <th>47</th>\n      <td>25.11</td>\n      <td>2</td>\n      <td>2</td>\n      <td>2</td>\n      <td>5</td>\n      <td>5</td>\n      <td>2</td>\n      <td>1</td>\n      <td>10</td>\n      <td>2</td>\n      <td>2</td>\n      <td>1</td>\n      <td>3</td>\n      <td>7</td>\n      <td>2</td>\n      <td>2</td>\n      <td>2</td>\n    </tr>\n    <tr>\n      <th>48</th>\n      <td>20.12</td>\n      <td>2</td>\n      <td>2</td>\n      <td>2</td>\n      <td>0</td>\n      <td>0</td>\n      <td>1</td>\n      <td>1</td>\n      <td>13</td>\n      <td>1</td>\n      <td>2</td>\n      <td>2</td>\n      <td>5</td>\n      <td>7</td>\n      <td>2</td>\n      <td>2</td>\n      <td>1</td>\n    </tr>\n    <tr>\n      <th>49</th>\n      <td>27.46</td>\n      <td>1</td>\n      <td>2</td>\n      <td>1</td>\n      <td>15</td>\n      <td>0</td>\n      <td>2</td>\n      <td>2</td>\n      <td>12</td>\n      <td>1</td>\n      <td>2</td>\n      <td>1</td>\n      <td>2</td>\n      <td>8</td>\n      <td>2</td>\n      <td>2</td>\n      <td>2</td>\n    </tr>\n    <tr>\n      <th>50</th>\n      <td>26.61</td>\n      <td>2</td>\n      <td>2</td>\n      <td>2</td>\n      <td>0</td>\n      <td>0</td>\n      <td>2</td>\n      <td>1</td>\n      <td>10</td>\n      <td>1</td>\n      <td>2</td>\n      <td>1</td>\n      <td>3</td>\n      <td>12</td>\n      <td>1</td>\n      <td>2</td>\n      <td>2</td>\n    </tr>\n    <tr>\n      <th>55</th>\n      <td>24.02</td>\n      <td>2</td>\n      <td>1</td>\n      <td>2</td>\n      <td>7</td>\n      <td>0</td>\n      <td>2</td>\n      <td>1</td>\n      <td>9</td>\n      <td>1</td>\n      <td>2</td>\n      <td>1</td>\n      <td>5</td>\n      <td>6</td>\n      <td>2</td>\n      <td>2</td>\n      <td>2</td>\n    </tr>\n    <tr>\n      <th>57</th>\n      <td>46.52</td>\n      <td>1</td>\n      <td>2</td>\n      <td>2</td>\n      <td>30</td>\n      <td>0</td>\n      <td>2</td>\n      <td>2</td>\n      <td>10</td>\n      <td>1</td>\n      <td>1</td>\n      <td>2</td>\n      <td>2</td>\n      <td>8</td>\n      <td>1</td>\n      <td>2</td>\n      <td>2</td>\n    </tr>\n    <tr>\n      <th>58</th>\n      <td>29.55</td>\n      <td>2</td>\n      <td>2</td>\n      <td>2</td>\n      <td>0</td>\n      <td>0</td>\n      <td>2</td>\n      <td>2</td>\n      <td>11</td>\n      <td>1</td>\n      <td>1</td>\n      <td>1</td>\n      <td>3</td>\n      <td>7</td>\n      <td>2</td>\n      <td>2</td>\n      <td>2</td>\n    </tr>\n  </tbody>\n</table>\n</div>\n    <div class=\"colab-df-buttons\">\n\n  <div class=\"colab-df-container\">\n    <button class=\"colab-df-convert\" onclick=\"convertToInteractive('df-277a1bc0-8495-4131-9370-37e7d7f73a2a')\"\n            title=\"Convert this dataframe to an interactive table.\"\n            style=\"display:none;\">\n\n  <svg xmlns=\"http://www.w3.org/2000/svg\" height=\"24px\" viewBox=\"0 -960 960 960\">\n    <path d=\"M120-120v-720h720v720H120Zm60-500h600v-160H180v160Zm220 220h160v-160H400v160Zm0 220h160v-160H400v160ZM180-400h160v-160H180v160Zm440 0h160v-160H620v160ZM180-180h160v-160H180v160Zm440 0h160v-160H620v160Z\"/>\n  </svg>\n    </button>\n\n  <style>\n    .colab-df-container {\n      display:flex;\n      gap: 12px;\n    }\n\n    .colab-df-convert {\n      background-color: #E8F0FE;\n      border: none;\n      border-radius: 50%;\n      cursor: pointer;\n      display: none;\n      fill: #1967D2;\n      height: 32px;\n      padding: 0 0 0 0;\n      width: 32px;\n    }\n\n    .colab-df-convert:hover {\n      background-color: #E2EBFA;\n      box-shadow: 0px 1px 2px rgba(60, 64, 67, 0.3), 0px 1px 3px 1px rgba(60, 64, 67, 0.15);\n      fill: #174EA6;\n    }\n\n    .colab-df-buttons div {\n      margin-bottom: 4px;\n    }\n\n    [theme=dark] .colab-df-convert {\n      background-color: #3B4455;\n      fill: #D2E3FC;\n    }\n\n    [theme=dark] .colab-df-convert:hover {\n      background-color: #434B5C;\n      box-shadow: 0px 1px 3px 1px rgba(0, 0, 0, 0.15);\n      filter: drop-shadow(0px 1px 2px rgba(0, 0, 0, 0.3));\n      fill: #FFFFFF;\n    }\n  </style>\n\n    <script>\n      const buttonEl =\n        document.querySelector('#df-277a1bc0-8495-4131-9370-37e7d7f73a2a button.colab-df-convert');\n      buttonEl.style.display =\n        google.colab.kernel.accessAllowed ? 'block' : 'none';\n\n      async function convertToInteractive(key) {\n        const element = document.querySelector('#df-277a1bc0-8495-4131-9370-37e7d7f73a2a');\n        const dataTable =\n          await google.colab.kernel.invokeFunction('convertToInteractive',\n                                                    [key], {});\n        if (!dataTable) return;\n\n        const docLinkHtml = 'Like what you see? Visit the ' +\n          '<a target=\"_blank\" href=https://colab.research.google.com/notebooks/data_table.ipynb>data table notebook</a>'\n          + ' to learn more about interactive tables.';\n        element.innerHTML = '';\n        dataTable['output_type'] = 'display_data';\n        await google.colab.output.renderOutput(dataTable, element);\n        const docLink = document.createElement('div');\n        docLink.innerHTML = docLinkHtml;\n        element.appendChild(docLink);\n      }\n    </script>\n  </div>\n\n\n<div id=\"df-da6e4682-c5b2-4cde-8890-998e97644014\">\n  <button class=\"colab-df-quickchart\" onclick=\"quickchart('df-da6e4682-c5b2-4cde-8890-998e97644014')\"\n            title=\"Suggest charts\"\n            style=\"display:none;\">\n\n<svg xmlns=\"http://www.w3.org/2000/svg\" height=\"24px\"viewBox=\"0 0 24 24\"\n     width=\"24px\">\n    <g>\n        <path d=\"M19 3H5c-1.1 0-2 .9-2 2v14c0 1.1.9 2 2 2h14c1.1 0 2-.9 2-2V5c0-1.1-.9-2-2-2zM9 17H7v-7h2v7zm4 0h-2V7h2v10zm4 0h-2v-4h2v4z\"/>\n    </g>\n</svg>\n  </button>\n\n<style>\n  .colab-df-quickchart {\n      --bg-color: #E8F0FE;\n      --fill-color: #1967D2;\n      --hover-bg-color: #E2EBFA;\n      --hover-fill-color: #174EA6;\n      --disabled-fill-color: #AAA;\n      --disabled-bg-color: #DDD;\n  }\n\n  [theme=dark] .colab-df-quickchart {\n      --bg-color: #3B4455;\n      --fill-color: #D2E3FC;\n      --hover-bg-color: #434B5C;\n      --hover-fill-color: #FFFFFF;\n      --disabled-bg-color: #3B4455;\n      --disabled-fill-color: #666;\n  }\n\n  .colab-df-quickchart {\n    background-color: var(--bg-color);\n    border: none;\n    border-radius: 50%;\n    cursor: pointer;\n    display: none;\n    fill: var(--fill-color);\n    height: 32px;\n    padding: 0;\n    width: 32px;\n  }\n\n  .colab-df-quickchart:hover {\n    background-color: var(--hover-bg-color);\n    box-shadow: 0 1px 2px rgba(60, 64, 67, 0.3), 0 1px 3px 1px rgba(60, 64, 67, 0.15);\n    fill: var(--button-hover-fill-color);\n  }\n\n  .colab-df-quickchart-complete:disabled,\n  .colab-df-quickchart-complete:disabled:hover {\n    background-color: var(--disabled-bg-color);\n    fill: var(--disabled-fill-color);\n    box-shadow: none;\n  }\n\n  .colab-df-spinner {\n    border: 2px solid var(--fill-color);\n    border-color: transparent;\n    border-bottom-color: var(--fill-color);\n    animation:\n      spin 1s steps(1) infinite;\n  }\n\n  @keyframes spin {\n    0% {\n      border-color: transparent;\n      border-bottom-color: var(--fill-color);\n      border-left-color: var(--fill-color);\n    }\n    20% {\n      border-color: transparent;\n      border-left-color: var(--fill-color);\n      border-top-color: var(--fill-color);\n    }\n    30% {\n      border-color: transparent;\n      border-left-color: var(--fill-color);\n      border-top-color: var(--fill-color);\n      border-right-color: var(--fill-color);\n    }\n    40% {\n      border-color: transparent;\n      border-right-color: var(--fill-color);\n      border-top-color: var(--fill-color);\n    }\n    60% {\n      border-color: transparent;\n      border-right-color: var(--fill-color);\n    }\n    80% {\n      border-color: transparent;\n      border-right-color: var(--fill-color);\n      border-bottom-color: var(--fill-color);\n    }\n    90% {\n      border-color: transparent;\n      border-bottom-color: var(--fill-color);\n    }\n  }\n</style>\n\n  <script>\n    async function quickchart(key) {\n      const quickchartButtonEl =\n        document.querySelector('#' + key + ' button');\n      quickchartButtonEl.disabled = true;  // To prevent multiple clicks.\n      quickchartButtonEl.classList.add('colab-df-spinner');\n      try {\n        const charts = await google.colab.kernel.invokeFunction(\n            'suggestCharts', [key], {});\n      } catch (error) {\n        console.error('Error during call to suggestCharts:', error);\n      }\n      quickchartButtonEl.classList.remove('colab-df-spinner');\n      quickchartButtonEl.classList.add('colab-df-quickchart-complete');\n    }\n    (() => {\n      let quickchartButtonEl =\n        document.querySelector('#df-da6e4682-c5b2-4cde-8890-998e97644014 button');\n      quickchartButtonEl.style.display =\n        google.colab.kernel.accessAllowed ? 'block' : 'none';\n    })();\n  </script>\n</div>\n    </div>\n  </div>\n",
                  "application/vnd.google.colaboratory.intrinsic+json": {
                    "type": "dataframe",
                    "summary": "{\n  \"name\": \"display(visualizar)\",\n  \"rows\": 20,\n  \"fields\": [\n    {\n      \"column\": \"BMI\",\n      \"properties\": {\n        \"dtype\": \"number\",\n        \"std\": 6.877613646729817,\n        \"min\": 20.12,\n        \"max\": 46.52,\n        \"num_unique_values\": 20,\n        \"samples\": [\n          23.71,\n          24.02,\n          27.46\n        ],\n        \"semantic_type\": \"\",\n        \"description\": \"\"\n      }\n    },\n    {\n      \"column\": \"Smoking\",\n      \"properties\": {\n        \"dtype\": \"number\",\n        \"std\": 0,\n        \"min\": 1,\n        \"max\": 2,\n        \"num_unique_values\": 2,\n        \"samples\": [\n          1,\n          2\n        ],\n        \"semantic_type\": \"\",\n        \"description\": \"\"\n      }\n    },\n    {\n      \"column\": \"AlcoholDrinking\",\n      \"properties\": {\n        \"dtype\": \"number\",\n        \"std\": 0,\n        \"min\": 1,\n        \"max\": 2,\n        \"num_unique_values\": 2,\n        \"samples\": [\n          1,\n          2\n        ],\n        \"semantic_type\": \"\",\n        \"description\": \"\"\n      }\n    },\n    {\n      \"column\": \"Stroke\",\n      \"properties\": {\n        \"dtype\": \"number\",\n        \"std\": 0,\n        \"min\": 1,\n        \"max\": 2,\n        \"num_unique_values\": 2,\n        \"samples\": [\n          1,\n          2\n        ],\n        \"semantic_type\": \"\",\n        \"description\": \"\"\n      }\n    },\n    {\n      \"column\": \"PhysicalHealth\",\n      \"properties\": {\n        \"dtype\": \"number\",\n        \"std\": 9,\n        \"min\": 0,\n        \"max\": 30,\n        \"num_unique_values\": 7,\n        \"samples\": [\n          28,\n          15\n        ],\n        \"semantic_type\": \"\",\n        \"description\": \"\"\n      }\n    },\n    {\n      \"column\": \"MentalHealth\",\n      \"properties\": {\n        \"dtype\": \"number\",\n        \"std\": 3,\n        \"min\": 0,\n        \"max\": 15,\n        \"num_unique_values\": 4,\n        \"samples\": [\n          15,\n          5\n        ],\n        \"semantic_type\": \"\",\n        \"description\": \"\"\n      }\n    },\n    {\n      \"column\": \"DiffWalking\",\n      \"properties\": {\n        \"dtype\": \"number\",\n        \"std\": 0,\n        \"min\": 1,\n        \"max\": 2,\n        \"num_unique_values\": 2,\n        \"samples\": [\n          2,\n          1\n        ],\n        \"semantic_type\": \"\",\n        \"description\": \"\"\n      }\n    },\n    {\n      \"column\": \"Sex\",\n      \"properties\": {\n        \"dtype\": \"number\",\n        \"std\": 0,\n        \"min\": 1,\n        \"max\": 2,\n        \"num_unique_values\": 2,\n        \"samples\": [\n          2,\n          1\n        ],\n        \"semantic_type\": \"\",\n        \"description\": \"\"\n      }\n    },\n    {\n      \"column\": \"AgeCategory\",\n      \"properties\": {\n        \"dtype\": \"number\",\n        \"std\": 2,\n        \"min\": 5,\n        \"max\": 13,\n        \"num_unique_values\": 7,\n        \"samples\": [\n          5,\n          11\n        ],\n        \"semantic_type\": \"\",\n        \"description\": \"\"\n      }\n    },\n    {\n      \"column\": \"Race\",\n      \"properties\": {\n        \"dtype\": \"number\",\n        \"std\": 0,\n        \"min\": 1,\n        \"max\": 2,\n        \"num_unique_values\": 2,\n        \"samples\": [\n          2,\n          1\n        ],\n        \"semantic_type\": \"\",\n        \"description\": \"\"\n      }\n    },\n    {\n      \"column\": \"Diabetic\",\n      \"properties\": {\n        \"dtype\": \"number\",\n        \"std\": 0,\n        \"min\": 1,\n        \"max\": 3,\n        \"num_unique_values\": 3,\n        \"samples\": [\n          2,\n          1\n        ],\n        \"semantic_type\": \"\",\n        \"description\": \"\"\n      }\n    },\n    {\n      \"column\": \"PhysicalActivity\",\n      \"properties\": {\n        \"dtype\": \"number\",\n        \"std\": 0,\n        \"min\": 1,\n        \"max\": 2,\n        \"num_unique_values\": 2,\n        \"samples\": [\n          2,\n          1\n        ],\n        \"semantic_type\": \"\",\n        \"description\": \"\"\n      }\n    },\n    {\n      \"column\": \"GenHealth\",\n      \"properties\": {\n        \"dtype\": \"number\",\n        \"std\": 1,\n        \"min\": 2,\n        \"max\": 5,\n        \"num_unique_values\": 4,\n        \"samples\": [\n          5,\n          2\n        ],\n        \"semantic_type\": \"\",\n        \"description\": \"\"\n      }\n    },\n    {\n      \"column\": \"SleepTime\",\n      \"properties\": {\n        \"dtype\": \"number\",\n        \"std\": 1,\n        \"min\": 4,\n        \"max\": 12,\n        \"num_unique_values\": 8,\n        \"samples\": [\n          4,\n          6\n        ],\n        \"semantic_type\": \"\",\n        \"description\": \"\"\n      }\n    },\n    {\n      \"column\": \"Asthma\",\n      \"properties\": {\n        \"dtype\": \"number\",\n        \"std\": 0,\n        \"min\": 1,\n        \"max\": 2,\n        \"num_unique_values\": 2,\n        \"samples\": [\n          1,\n          2\n        ],\n        \"semantic_type\": \"\",\n        \"description\": \"\"\n      }\n    },\n    {\n      \"column\": \"KidneyDisease\",\n      \"properties\": {\n        \"dtype\": \"number\",\n        \"std\": 0,\n        \"min\": 1,\n        \"max\": 2,\n        \"num_unique_values\": 2,\n        \"samples\": [\n          1,\n          2\n        ],\n        \"semantic_type\": \"\",\n        \"description\": \"\"\n      }\n    },\n    {\n      \"column\": \"SkinCancer\",\n      \"properties\": {\n        \"dtype\": \"number\",\n        \"std\": 0,\n        \"min\": 1,\n        \"max\": 2,\n        \"num_unique_values\": 2,\n        \"samples\": [\n          1,\n          2\n        ],\n        \"semantic_type\": \"\",\n        \"description\": \"\"\n      }\n    }\n  ]\n}"
                  }
                },
                "metadata": {}
              }
            ]
          }
        },
        "f53c14a003a645f9b0b4eca6458b792c": {
          "model_module": "@jupyter-widgets/base",
          "model_name": "LayoutModel",
          "model_module_version": "1.2.0",
          "state": {
            "_model_module": "@jupyter-widgets/base",
            "_model_module_version": "1.2.0",
            "_model_name": "LayoutModel",
            "_view_count": null,
            "_view_module": "@jupyter-widgets/base",
            "_view_module_version": "1.2.0",
            "_view_name": "LayoutView",
            "align_content": null,
            "align_items": null,
            "align_self": null,
            "border": null,
            "bottom": null,
            "display": null,
            "flex": null,
            "flex_flow": null,
            "grid_area": null,
            "grid_auto_columns": null,
            "grid_auto_flow": null,
            "grid_auto_rows": null,
            "grid_column": null,
            "grid_gap": null,
            "grid_row": null,
            "grid_template_areas": null,
            "grid_template_columns": null,
            "grid_template_rows": null,
            "height": null,
            "justify_content": null,
            "justify_items": null,
            "left": null,
            "margin": null,
            "max_height": null,
            "max_width": null,
            "min_height": null,
            "min_width": null,
            "object_fit": null,
            "object_position": null,
            "order": null,
            "overflow": null,
            "overflow_x": null,
            "overflow_y": null,
            "padding": null,
            "right": null,
            "top": null,
            "visibility": null,
            "width": null
          }
        }
      }
    }
  },
  "cells": [
    {
      "cell_type": "markdown",
      "metadata": {
        "id": "view-in-github",
        "colab_type": "text"
      },
      "source": [
        "<a href=\"https://colab.research.google.com/github/rpizarrog/innovacion-empresarial/blob/main/notebook_python/Caso_21_Perceptron_para_evaluar_da%C3%B1o_al_coraz%C3%B3n.ipynb\" target=\"_parent\"><img src=\"https://colab.research.google.com/assets/colab-badge.svg\" alt=\"Open In Colab\"/></a>"
      ]
    },
    {
      "cell_type": "markdown",
      "source": [
        "# Objetivo\n",
        "\n",
        "Crear y entrenar un modelo basado en el algoritmo de un perceptrón utilizando librería *Scikit-learn* para evaluar la exactitud con datos daños al corazón.\n",
        "\n",
        "\n",
        "\n"
      ],
      "metadata": {
        "id": "Zirps-zDI79n"
      }
    },
    {
      "cell_type": "markdown",
      "source": [
        "# Fundamento teórico\n",
        "\n"
      ],
      "metadata": {
        "id": "H9VtKQwzJKgW"
      }
    },
    {
      "cell_type": "markdown",
      "source": [
        "# Desarrollo\n"
      ],
      "metadata": {
        "id": "dA1XHl4GJN7d"
      }
    },
    {
      "cell_type": "markdown",
      "source": [
        "## Los datos\n",
        "\n",
        "# Descripcón\n",
        "\n",
        "## Los datos\n",
        "\n",
        "Las variables de interés\n",
        "\n",
        "Las variables de entrada o variables independientes:\n",
        "\n",
        "* 1. \"BMI\": Indice de masa corporal con valores entre 12.02 y 94.85.\n",
        "\n",
        "* 2. \"Smoking\": Si la persona es fumadora o no con valores categóritos de 'Yes' o 'No'. Ya con datos previamente transformados: [1 Yes | 2 No]\n",
        "\n",
        "* 3. \"AlcoholDrinking\" : Si consume alcohol o no, con valores categóricos de 'Yes' o 'No'. Ya con datos previamente transformados: [1 Yes | 2 No]\n",
        "\n",
        "* 4. \"Stroke\": Si padece alguna anomalía cerebrovascular, apoplejia o algo similar, con valores categóricos de 'Yes' o 'No'. Ya con datos previamente transformados: [1 Yes | 2 No]\n",
        "\n",
        "* 5. \"PhysicalHealth\" Estado físico en lo general con valores entre 0 y 30.\n",
        "\n",
        "* 6. \"MentalHealth\". Estado mental en lo general con valores entre 0 y 30.\n",
        "\n",
        "* 7. \"DiffWalking\" . Que si se le dificulta caminar o tiene algún padecimiento al caminar, con valores categóritoc de 'Yes' o 'No'. Ya con datos previamente transformados: [1 Yes | 2 No]\n",
        "\n",
        "* 8. \"Sex\": Género de la persona, con valores de 'Female' y 'Male' para distinguir al género femenino y masculino respectivamente. Ya con datos previamente transformados: [1 Female | 2 Male]\n",
        "\n",
        "* 9. \"AgeCategory\": Una clasificación de la edad de la persona de entre 18 y 80 años. La primera categoría con un rango de edad entre 18-24, a partir de 25 con rangos de 5 en 5 hasta la clase de 75-80 y una última categoría mayores de 80 años. Ya con datos previamente transformados: [1 - 13].\n",
        "\n",
        "* 10. \"Race\". Raza u origen de la persona con valores categóricos de 'American Indian/Alaskan Native', 'Asian','Black', 'Hispanic', 'Other' y'White'..Ya con datos previamente transformados: [1 - 6]\n",
        "\n",
        "* 11. \"Diabetic\". Si padece o ha padecido de diabetes en cuatro condiciones siendo Yes y No para si o no: 'No', 'borderline diabetes' condición antes de detectarse diabetes tipo 2, 'Yes', y 'Yes (during pregnancy)' durante embarazo. Ya con datos previamente transformados: [1 - 4]\n",
        "\n",
        "* 12. \"PhysicalActivity\" que si realiza actividad física, con valores categóricos de 'Yes' o 'No'. Ya con datos previamente transformados: [1 Yes | 2 No]\n",
        "\n",
        "* 13. \"GenHealth\": EStado general de salud de la persona con valores categóricos de 'Excellent', 'Very good', 'Good', 'Fair' y 'Poor' con significado en español de excelente, muy buena, buena, regular y pobre o deficiente. Ya con datos previamente transformados: [1 - 5]\n",
        "\n",
        "* 14. \"SleepTime\": valor numérico de las horas de sueño u horas que duerme la persona con valores en un rango entre 1 y 24.\n",
        "\n",
        "* 15. \"Asthma\": si padece de asma o no, con valores categóricos de 'Yes' o 'No'. Ya con datos previamente transformados: [1 Yes | 2 No]\n",
        "\n",
        "* 16. \"KidneyDisease\": si tiene algún padecimiento en los riñones, con valores categóricos de 'Yes' o 'No'. Ya con datos previamente transformados: [1 Yes | 2 No]\n",
        "\n",
        "* 17. \"SkinCancer\": si padece algún tipo de cáncer de piel, con valores categóricos de 'Yes' o 'No'. Ya con datos previamente transformados: [1 Yes | 2 No]\n",
        "\n",
        "La variable de interés como dependiente o variable de salida es la de daño al corazón (HeartDisease), con valores categóricos de *1 = 'Yes' o 0 = 'No'.* [1 Yes | 0 No]\n",
        "\n",
        "* 18. HeartDisease\n",
        "\n",
        "Son 319795 observaciones y 18 variables"
      ],
      "metadata": {
        "id": "NO_O8YnpJMAm"
      }
    },
    {
      "cell_type": "markdown",
      "source": [
        "## Cargar librerpias\n",
        "\n"
      ],
      "metadata": {
        "id": "fFy0tY3HJi6N"
      }
    },
    {
      "cell_type": "code",
      "source": [
        "import pandas as pd\n",
        "\n",
        "import numpy as np\n",
        "from sklearn.model_selection import train_test_split # PAra partir datos de entrenamiento y validación\n",
        "\n",
        "from sklearn.linear_model import Perceptron\n",
        "from sklearn.metrics import accuracy_score\n",
        "from sklearn.metrics import accuracy_score, confusion_matrix # Para matiz de confusión...\n",
        "\n",
        "\n",
        "import ipywidgets as widgets\n",
        "from IPython.display import display, HTML, clear_output\n",
        "\n",
        "\n",
        "import time # Para medir el tiempo de ejecución\n",
        "\n",
        "import matplotlib.pyplot as plt\n"
      ],
      "metadata": {
        "id": "6vkjVbgTnta-"
      },
      "execution_count": 36,
      "outputs": []
    },
    {
      "cell_type": "markdown",
      "source": [
        "## Crear funciones\n",
        "\n",
        "\n"
      ],
      "metadata": {
        "id": "SKKhx94ZJt-0"
      }
    },
    {
      "cell_type": "code",
      "source": [
        "def f_diagrama_barra(datos):\n",
        "    conteo = datos['HeartDisease01'].value_counts()\n",
        "    colores = ['blue', 'red']  # Colores para las barras\n",
        "\n",
        "    # Crear el gráfico de barras con colores específicos\n",
        "    plt.figure(figsize=(8, 6))\n",
        "    barras = plt.bar(conteo.index, conteo.values, color=colores)\n",
        "\n",
        "    # Añadir etiquetas con la frecuencia en cada barra\n",
        "    for barra in barras:\n",
        "        yval = barra.get_height()\n",
        "        plt.text(barra.get_x() + barra.get_width()/2, yval, int(yval), ha='center', va='bottom')\n",
        "\n",
        "    plt.title('Total de Daños al Corazón vs No Daños')\n",
        "    plt.xlabel('Daño al Corazón (1 = Daño, 0 = No Daño)')\n",
        "    plt.ylabel('Total de Casos')\n",
        "    plt.xticks(ticks=[0, 1], labels=['No Daño', 'Daño'], rotation=0)\n",
        "    plt.show()\n",
        "\n",
        "# Esta función recibe el modelo, los datos de validación y la variable objetivo;\n",
        "# presenta la matriz de confusión así como\n",
        "# el estadísitico accuracy que sirve para evaluar la exactitud del modelo de clasificación\n",
        "def f_evaluar_modelo(predicciones, y_test):\n",
        "\n",
        "  # Hay que hacer predicciones\n",
        "  # predicciones = modelo.predict(datos_validacion)\n",
        "\n",
        "  # Calcular la precisión\n",
        "  precision = accuracy_score(y_test, predicciones)\n",
        "  print(f\"La exactitud del modelo es: {precision}\")\n",
        "\n",
        "  # Opcional: Mostrar la matriz de confusión\n",
        "  matriz_confusion = confusion_matrix(y_test, predicciones)\n",
        "  print(\"Matriz de Confusión:\")\n",
        "  print(matriz_confusion)\n",
        "\n",
        "  # Extraer los valores de la matriz de confusión\n",
        "  VP = matriz_confusion[0, 0]\n",
        "  FN = matriz_confusion[0, 1]\n",
        "  FP = matriz_confusion[1, 0]\n",
        "  VN = matriz_confusion[1, 1]\n",
        "\n",
        "  print ()\n",
        "  print (\"VP: Verdaderos Positivos. El modelo la atina (V) a los que no ('No') tienen daño al corazón: \", VP)\n",
        "  print (\"FN: Falsos Negativos. El modelo falla (F) a los que no ('No') daño, prediciendo que si ('Yes') tienen daño al corazón: \", FN)\n",
        "  print (\"FP: Falsos Positivos. El modelo falla (F) a los que si ('Yes') daño, prediciendo que no ('No) tienen daño al corazón: \", FP)\n",
        "  print (\"VN: Verdaderos Negativos. El modelo le atina (V) a los que si ('Yes') tienen daño al corazón: \", VN)\n",
        "\n",
        "  print (\"Compronando\")\n",
        "  print (\"Accuracy = (VP + VN)/(VP + FN + FP + VN)\",\n",
        "         \"(\",VP, \"+\", VN,\") / (\",VP,\"+\",FN,\"+\",FP,\"+\",VN,\") = \", (VP + VN)/(VP + FN + FP + VN))\n"
      ],
      "metadata": {
        "id": "rg4rbssqqKBM"
      },
      "execution_count": 37,
      "outputs": []
    },
    {
      "cell_type": "markdown",
      "source": [
        "## Visualizar widgets\n",
        "\n"
      ],
      "metadata": {
        "id": "ld6K7idXJ0dX"
      }
    },
    {
      "cell_type": "code",
      "source": [
        "visualizar = widgets.Output()\n",
        "\n",
        "\n",
        "# Función para actualizar y mostrar el contenido dinámicamente en el widget de salida\n",
        "def f_visualizar_datos(datos1, datos2, titulo1, titulo2):\n",
        "    with visualizar:\n",
        "        #global titulo1, titulo2\n",
        "        #titulo1 = \"Primeros 20 registros de datos\"\n",
        "        visualizar.clear_output(wait=True)  # Limpiar el contenido anterior\n",
        "        display(HTML(f\"<h2>{titulo1}</h2>\"))  # Establecer el nuevo título\n",
        "        # Visualizar datos\n",
        "        display(datos1)\n",
        "\n",
        "        #titulo2 = \"Últimos 20 registros de datos\"\n",
        "        display(HTML(f\"<h2>{titulo2}</h2>\"))  # Establecer el nuevo título\n",
        "        # Visualizar datos\n",
        "        display(datos2)"
      ],
      "metadata": {
        "id": "rnFo3diXJ2Ez"
      },
      "execution_count": 38,
      "outputs": []
    },
    {
      "cell_type": "markdown",
      "source": [
        "## Cargar dtos\n",
        "\n"
      ],
      "metadata": {
        "id": "n75vwRt_KM1G"
      }
    },
    {
      "cell_type": "code",
      "source": [
        "# Carga el archivo CSV\n",
        "ruta = 'https://raw.githubusercontent.com/rpizarrog/innovacion-empresarial/main/datos/danios%20al%20corazon%20numericos%20limpios01.csv'  # Actualiza con la ruta correcta\n",
        "datos = pd.read_csv(ruta)\n",
        "\n",
        "# Tamaño de la muestra deseado, por ejemplo, 1000 registros\n",
        "#n = 566 # raiz de todos los registros aproximadamente 319765 aprox..\n",
        "#muestra = datos.sample(n=n, random_state=2024)\n",
        "\n",
        "# Llamar a la función para mostrar datos de entrenamiento ordenados por índice\n",
        "f_visualizar_datos(datos.head(20), datos.tail(20), \"Primeros registros de Muestra\", \"Últimos registros de Muestra\")\n",
        "\n",
        "# Para mostrar el widget de salida\n",
        "display(visualizar)"
      ],
      "metadata": {
        "colab": {
          "base_uri": "https://localhost:8080/",
          "height": 1000,
          "referenced_widgets": [
            "943da8917f1e4cf886a48332f4d72827",
            "f53c14a003a645f9b0b4eca6458b792c"
          ]
        },
        "id": "rg6hc74PKOBu",
        "outputId": "99c96180-b886-47ac-d21e-0bc13b90a72d"
      },
      "execution_count": 39,
      "outputs": [
        {
          "output_type": "display_data",
          "data": {
            "text/plain": [
              "Output()"
            ],
            "application/vnd.jupyter.widget-view+json": {
              "version_major": 2,
              "version_minor": 0,
              "model_id": "943da8917f1e4cf886a48332f4d72827"
            }
          },
          "metadata": {}
        }
      ]
    },
    {
      "cell_type": "markdown",
      "source": [
        "## Análisis descriptivo\n",
        "\n"
      ],
      "metadata": {
        "id": "JeVmACyQMC4O"
      }
    },
    {
      "cell_type": "code",
      "source": [
        "datos.describe()"
      ],
      "metadata": {
        "colab": {
          "base_uri": "https://localhost:8080/",
          "height": 320
        },
        "id": "bSLek3fKMFuv",
        "outputId": "7a44191c-7b7d-4407-c7ba-26b7f22c3d8d"
      },
      "execution_count": 40,
      "outputs": [
        {
          "output_type": "execute_result",
          "data": {
            "text/plain": [
              "                 BMI        Smoking  AlcoholDrinking         Stroke  \\\n",
              "count  319795.000000  319795.000000    319795.000000  319795.000000   \n",
              "mean       28.325399       1.587523         1.931903       1.962260   \n",
              "std         6.356100       0.492281         0.251912       0.190567   \n",
              "min        12.020000       1.000000         1.000000       1.000000   \n",
              "25%        24.030000       1.000000         2.000000       2.000000   \n",
              "50%        27.340000       2.000000         2.000000       2.000000   \n",
              "75%        31.420000       2.000000         2.000000       2.000000   \n",
              "max        94.850000       2.000000         2.000000       2.000000   \n",
              "\n",
              "       PhysicalHealth   MentalHealth    DiffWalking            Sex  \\\n",
              "count    319795.00000  319795.000000  319795.000000  319795.000000   \n",
              "mean          3.37171       3.898366       1.861130       1.475273   \n",
              "std           7.95085       7.955235       0.345812       0.499389   \n",
              "min           0.00000       0.000000       1.000000       1.000000   \n",
              "25%           0.00000       0.000000       2.000000       1.000000   \n",
              "50%           0.00000       0.000000       2.000000       1.000000   \n",
              "75%           2.00000       3.000000       2.000000       2.000000   \n",
              "max          30.00000      30.000000       2.000000       2.000000   \n",
              "\n",
              "         AgeCategory           Race      Diabetic  PhysicalActivity  \\\n",
              "count  319795.000000  319795.000000  319795.00000     319795.000000   \n",
              "mean        7.514536       1.736794       1.90962          1.224638   \n",
              "std         3.564759       1.571156       0.41549          0.417344   \n",
              "min         1.000000       1.000000       1.00000          1.000000   \n",
              "25%         5.000000       1.000000       2.00000          1.000000   \n",
              "50%         8.000000       1.000000       2.00000          1.000000   \n",
              "75%        10.000000       1.000000       2.00000          1.000000   \n",
              "max        13.000000       6.000000       4.00000          2.000000   \n",
              "\n",
              "           GenHealth      SleepTime         Asthma  KidneyDisease  \\\n",
              "count  319795.000000  319795.000000  319795.000000  319795.000000   \n",
              "mean        3.955634       7.097075       1.865939       1.963167   \n",
              "std         0.864813       1.436007       0.340718       0.188352   \n",
              "min         2.000000       1.000000       1.000000       1.000000   \n",
              "25%         3.000000       6.000000       2.000000       2.000000   \n",
              "50%         4.000000       7.000000       2.000000       2.000000   \n",
              "75%         5.000000       8.000000       2.000000       2.000000   \n",
              "max         5.000000      24.000000       2.000000       2.000000   \n",
              "\n",
              "          SkinCancer  HeartDisease01  \n",
              "count  319795.000000   319795.000000  \n",
              "mean        1.906756        0.085595  \n",
              "std         0.290775        0.279766  \n",
              "min         1.000000        0.000000  \n",
              "25%         2.000000        0.000000  \n",
              "50%         2.000000        0.000000  \n",
              "75%         2.000000        0.000000  \n",
              "max         2.000000        1.000000  "
            ],
            "text/html": [
              "\n",
              "  <div id=\"df-0de8bf26-31cf-4b8b-9a11-cf5479973707\" class=\"colab-df-container\">\n",
              "    <div>\n",
              "<style scoped>\n",
              "    .dataframe tbody tr th:only-of-type {\n",
              "        vertical-align: middle;\n",
              "    }\n",
              "\n",
              "    .dataframe tbody tr th {\n",
              "        vertical-align: top;\n",
              "    }\n",
              "\n",
              "    .dataframe thead th {\n",
              "        text-align: right;\n",
              "    }\n",
              "</style>\n",
              "<table border=\"1\" class=\"dataframe\">\n",
              "  <thead>\n",
              "    <tr style=\"text-align: right;\">\n",
              "      <th></th>\n",
              "      <th>BMI</th>\n",
              "      <th>Smoking</th>\n",
              "      <th>AlcoholDrinking</th>\n",
              "      <th>Stroke</th>\n",
              "      <th>PhysicalHealth</th>\n",
              "      <th>MentalHealth</th>\n",
              "      <th>DiffWalking</th>\n",
              "      <th>Sex</th>\n",
              "      <th>AgeCategory</th>\n",
              "      <th>Race</th>\n",
              "      <th>Diabetic</th>\n",
              "      <th>PhysicalActivity</th>\n",
              "      <th>GenHealth</th>\n",
              "      <th>SleepTime</th>\n",
              "      <th>Asthma</th>\n",
              "      <th>KidneyDisease</th>\n",
              "      <th>SkinCancer</th>\n",
              "      <th>HeartDisease01</th>\n",
              "    </tr>\n",
              "  </thead>\n",
              "  <tbody>\n",
              "    <tr>\n",
              "      <th>count</th>\n",
              "      <td>319795.000000</td>\n",
              "      <td>319795.000000</td>\n",
              "      <td>319795.000000</td>\n",
              "      <td>319795.000000</td>\n",
              "      <td>319795.00000</td>\n",
              "      <td>319795.000000</td>\n",
              "      <td>319795.000000</td>\n",
              "      <td>319795.000000</td>\n",
              "      <td>319795.000000</td>\n",
              "      <td>319795.000000</td>\n",
              "      <td>319795.00000</td>\n",
              "      <td>319795.000000</td>\n",
              "      <td>319795.000000</td>\n",
              "      <td>319795.000000</td>\n",
              "      <td>319795.000000</td>\n",
              "      <td>319795.000000</td>\n",
              "      <td>319795.000000</td>\n",
              "      <td>319795.000000</td>\n",
              "    </tr>\n",
              "    <tr>\n",
              "      <th>mean</th>\n",
              "      <td>28.325399</td>\n",
              "      <td>1.587523</td>\n",
              "      <td>1.931903</td>\n",
              "      <td>1.962260</td>\n",
              "      <td>3.37171</td>\n",
              "      <td>3.898366</td>\n",
              "      <td>1.861130</td>\n",
              "      <td>1.475273</td>\n",
              "      <td>7.514536</td>\n",
              "      <td>1.736794</td>\n",
              "      <td>1.90962</td>\n",
              "      <td>1.224638</td>\n",
              "      <td>3.955634</td>\n",
              "      <td>7.097075</td>\n",
              "      <td>1.865939</td>\n",
              "      <td>1.963167</td>\n",
              "      <td>1.906756</td>\n",
              "      <td>0.085595</td>\n",
              "    </tr>\n",
              "    <tr>\n",
              "      <th>std</th>\n",
              "      <td>6.356100</td>\n",
              "      <td>0.492281</td>\n",
              "      <td>0.251912</td>\n",
              "      <td>0.190567</td>\n",
              "      <td>7.95085</td>\n",
              "      <td>7.955235</td>\n",
              "      <td>0.345812</td>\n",
              "      <td>0.499389</td>\n",
              "      <td>3.564759</td>\n",
              "      <td>1.571156</td>\n",
              "      <td>0.41549</td>\n",
              "      <td>0.417344</td>\n",
              "      <td>0.864813</td>\n",
              "      <td>1.436007</td>\n",
              "      <td>0.340718</td>\n",
              "      <td>0.188352</td>\n",
              "      <td>0.290775</td>\n",
              "      <td>0.279766</td>\n",
              "    </tr>\n",
              "    <tr>\n",
              "      <th>min</th>\n",
              "      <td>12.020000</td>\n",
              "      <td>1.000000</td>\n",
              "      <td>1.000000</td>\n",
              "      <td>1.000000</td>\n",
              "      <td>0.00000</td>\n",
              "      <td>0.000000</td>\n",
              "      <td>1.000000</td>\n",
              "      <td>1.000000</td>\n",
              "      <td>1.000000</td>\n",
              "      <td>1.000000</td>\n",
              "      <td>1.00000</td>\n",
              "      <td>1.000000</td>\n",
              "      <td>2.000000</td>\n",
              "      <td>1.000000</td>\n",
              "      <td>1.000000</td>\n",
              "      <td>1.000000</td>\n",
              "      <td>1.000000</td>\n",
              "      <td>0.000000</td>\n",
              "    </tr>\n",
              "    <tr>\n",
              "      <th>25%</th>\n",
              "      <td>24.030000</td>\n",
              "      <td>1.000000</td>\n",
              "      <td>2.000000</td>\n",
              "      <td>2.000000</td>\n",
              "      <td>0.00000</td>\n",
              "      <td>0.000000</td>\n",
              "      <td>2.000000</td>\n",
              "      <td>1.000000</td>\n",
              "      <td>5.000000</td>\n",
              "      <td>1.000000</td>\n",
              "      <td>2.00000</td>\n",
              "      <td>1.000000</td>\n",
              "      <td>3.000000</td>\n",
              "      <td>6.000000</td>\n",
              "      <td>2.000000</td>\n",
              "      <td>2.000000</td>\n",
              "      <td>2.000000</td>\n",
              "      <td>0.000000</td>\n",
              "    </tr>\n",
              "    <tr>\n",
              "      <th>50%</th>\n",
              "      <td>27.340000</td>\n",
              "      <td>2.000000</td>\n",
              "      <td>2.000000</td>\n",
              "      <td>2.000000</td>\n",
              "      <td>0.00000</td>\n",
              "      <td>0.000000</td>\n",
              "      <td>2.000000</td>\n",
              "      <td>1.000000</td>\n",
              "      <td>8.000000</td>\n",
              "      <td>1.000000</td>\n",
              "      <td>2.00000</td>\n",
              "      <td>1.000000</td>\n",
              "      <td>4.000000</td>\n",
              "      <td>7.000000</td>\n",
              "      <td>2.000000</td>\n",
              "      <td>2.000000</td>\n",
              "      <td>2.000000</td>\n",
              "      <td>0.000000</td>\n",
              "    </tr>\n",
              "    <tr>\n",
              "      <th>75%</th>\n",
              "      <td>31.420000</td>\n",
              "      <td>2.000000</td>\n",
              "      <td>2.000000</td>\n",
              "      <td>2.000000</td>\n",
              "      <td>2.00000</td>\n",
              "      <td>3.000000</td>\n",
              "      <td>2.000000</td>\n",
              "      <td>2.000000</td>\n",
              "      <td>10.000000</td>\n",
              "      <td>1.000000</td>\n",
              "      <td>2.00000</td>\n",
              "      <td>1.000000</td>\n",
              "      <td>5.000000</td>\n",
              "      <td>8.000000</td>\n",
              "      <td>2.000000</td>\n",
              "      <td>2.000000</td>\n",
              "      <td>2.000000</td>\n",
              "      <td>0.000000</td>\n",
              "    </tr>\n",
              "    <tr>\n",
              "      <th>max</th>\n",
              "      <td>94.850000</td>\n",
              "      <td>2.000000</td>\n",
              "      <td>2.000000</td>\n",
              "      <td>2.000000</td>\n",
              "      <td>30.00000</td>\n",
              "      <td>30.000000</td>\n",
              "      <td>2.000000</td>\n",
              "      <td>2.000000</td>\n",
              "      <td>13.000000</td>\n",
              "      <td>6.000000</td>\n",
              "      <td>4.00000</td>\n",
              "      <td>2.000000</td>\n",
              "      <td>5.000000</td>\n",
              "      <td>24.000000</td>\n",
              "      <td>2.000000</td>\n",
              "      <td>2.000000</td>\n",
              "      <td>2.000000</td>\n",
              "      <td>1.000000</td>\n",
              "    </tr>\n",
              "  </tbody>\n",
              "</table>\n",
              "</div>\n",
              "    <div class=\"colab-df-buttons\">\n",
              "\n",
              "  <div class=\"colab-df-container\">\n",
              "    <button class=\"colab-df-convert\" onclick=\"convertToInteractive('df-0de8bf26-31cf-4b8b-9a11-cf5479973707')\"\n",
              "            title=\"Convert this dataframe to an interactive table.\"\n",
              "            style=\"display:none;\">\n",
              "\n",
              "  <svg xmlns=\"http://www.w3.org/2000/svg\" height=\"24px\" viewBox=\"0 -960 960 960\">\n",
              "    <path d=\"M120-120v-720h720v720H120Zm60-500h600v-160H180v160Zm220 220h160v-160H400v160Zm0 220h160v-160H400v160ZM180-400h160v-160H180v160Zm440 0h160v-160H620v160ZM180-180h160v-160H180v160Zm440 0h160v-160H620v160Z\"/>\n",
              "  </svg>\n",
              "    </button>\n",
              "\n",
              "  <style>\n",
              "    .colab-df-container {\n",
              "      display:flex;\n",
              "      gap: 12px;\n",
              "    }\n",
              "\n",
              "    .colab-df-convert {\n",
              "      background-color: #E8F0FE;\n",
              "      border: none;\n",
              "      border-radius: 50%;\n",
              "      cursor: pointer;\n",
              "      display: none;\n",
              "      fill: #1967D2;\n",
              "      height: 32px;\n",
              "      padding: 0 0 0 0;\n",
              "      width: 32px;\n",
              "    }\n",
              "\n",
              "    .colab-df-convert:hover {\n",
              "      background-color: #E2EBFA;\n",
              "      box-shadow: 0px 1px 2px rgba(60, 64, 67, 0.3), 0px 1px 3px 1px rgba(60, 64, 67, 0.15);\n",
              "      fill: #174EA6;\n",
              "    }\n",
              "\n",
              "    .colab-df-buttons div {\n",
              "      margin-bottom: 4px;\n",
              "    }\n",
              "\n",
              "    [theme=dark] .colab-df-convert {\n",
              "      background-color: #3B4455;\n",
              "      fill: #D2E3FC;\n",
              "    }\n",
              "\n",
              "    [theme=dark] .colab-df-convert:hover {\n",
              "      background-color: #434B5C;\n",
              "      box-shadow: 0px 1px 3px 1px rgba(0, 0, 0, 0.15);\n",
              "      filter: drop-shadow(0px 1px 2px rgba(0, 0, 0, 0.3));\n",
              "      fill: #FFFFFF;\n",
              "    }\n",
              "  </style>\n",
              "\n",
              "    <script>\n",
              "      const buttonEl =\n",
              "        document.querySelector('#df-0de8bf26-31cf-4b8b-9a11-cf5479973707 button.colab-df-convert');\n",
              "      buttonEl.style.display =\n",
              "        google.colab.kernel.accessAllowed ? 'block' : 'none';\n",
              "\n",
              "      async function convertToInteractive(key) {\n",
              "        const element = document.querySelector('#df-0de8bf26-31cf-4b8b-9a11-cf5479973707');\n",
              "        const dataTable =\n",
              "          await google.colab.kernel.invokeFunction('convertToInteractive',\n",
              "                                                    [key], {});\n",
              "        if (!dataTable) return;\n",
              "\n",
              "        const docLinkHtml = 'Like what you see? Visit the ' +\n",
              "          '<a target=\"_blank\" href=https://colab.research.google.com/notebooks/data_table.ipynb>data table notebook</a>'\n",
              "          + ' to learn more about interactive tables.';\n",
              "        element.innerHTML = '';\n",
              "        dataTable['output_type'] = 'display_data';\n",
              "        await google.colab.output.renderOutput(dataTable, element);\n",
              "        const docLink = document.createElement('div');\n",
              "        docLink.innerHTML = docLinkHtml;\n",
              "        element.appendChild(docLink);\n",
              "      }\n",
              "    </script>\n",
              "  </div>\n",
              "\n",
              "\n",
              "<div id=\"df-7d320348-e869-44b2-8a98-f94e4cde9f34\">\n",
              "  <button class=\"colab-df-quickchart\" onclick=\"quickchart('df-7d320348-e869-44b2-8a98-f94e4cde9f34')\"\n",
              "            title=\"Suggest charts\"\n",
              "            style=\"display:none;\">\n",
              "\n",
              "<svg xmlns=\"http://www.w3.org/2000/svg\" height=\"24px\"viewBox=\"0 0 24 24\"\n",
              "     width=\"24px\">\n",
              "    <g>\n",
              "        <path d=\"M19 3H5c-1.1 0-2 .9-2 2v14c0 1.1.9 2 2 2h14c1.1 0 2-.9 2-2V5c0-1.1-.9-2-2-2zM9 17H7v-7h2v7zm4 0h-2V7h2v10zm4 0h-2v-4h2v4z\"/>\n",
              "    </g>\n",
              "</svg>\n",
              "  </button>\n",
              "\n",
              "<style>\n",
              "  .colab-df-quickchart {\n",
              "      --bg-color: #E8F0FE;\n",
              "      --fill-color: #1967D2;\n",
              "      --hover-bg-color: #E2EBFA;\n",
              "      --hover-fill-color: #174EA6;\n",
              "      --disabled-fill-color: #AAA;\n",
              "      --disabled-bg-color: #DDD;\n",
              "  }\n",
              "\n",
              "  [theme=dark] .colab-df-quickchart {\n",
              "      --bg-color: #3B4455;\n",
              "      --fill-color: #D2E3FC;\n",
              "      --hover-bg-color: #434B5C;\n",
              "      --hover-fill-color: #FFFFFF;\n",
              "      --disabled-bg-color: #3B4455;\n",
              "      --disabled-fill-color: #666;\n",
              "  }\n",
              "\n",
              "  .colab-df-quickchart {\n",
              "    background-color: var(--bg-color);\n",
              "    border: none;\n",
              "    border-radius: 50%;\n",
              "    cursor: pointer;\n",
              "    display: none;\n",
              "    fill: var(--fill-color);\n",
              "    height: 32px;\n",
              "    padding: 0;\n",
              "    width: 32px;\n",
              "  }\n",
              "\n",
              "  .colab-df-quickchart:hover {\n",
              "    background-color: var(--hover-bg-color);\n",
              "    box-shadow: 0 1px 2px rgba(60, 64, 67, 0.3), 0 1px 3px 1px rgba(60, 64, 67, 0.15);\n",
              "    fill: var(--button-hover-fill-color);\n",
              "  }\n",
              "\n",
              "  .colab-df-quickchart-complete:disabled,\n",
              "  .colab-df-quickchart-complete:disabled:hover {\n",
              "    background-color: var(--disabled-bg-color);\n",
              "    fill: var(--disabled-fill-color);\n",
              "    box-shadow: none;\n",
              "  }\n",
              "\n",
              "  .colab-df-spinner {\n",
              "    border: 2px solid var(--fill-color);\n",
              "    border-color: transparent;\n",
              "    border-bottom-color: var(--fill-color);\n",
              "    animation:\n",
              "      spin 1s steps(1) infinite;\n",
              "  }\n",
              "\n",
              "  @keyframes spin {\n",
              "    0% {\n",
              "      border-color: transparent;\n",
              "      border-bottom-color: var(--fill-color);\n",
              "      border-left-color: var(--fill-color);\n",
              "    }\n",
              "    20% {\n",
              "      border-color: transparent;\n",
              "      border-left-color: var(--fill-color);\n",
              "      border-top-color: var(--fill-color);\n",
              "    }\n",
              "    30% {\n",
              "      border-color: transparent;\n",
              "      border-left-color: var(--fill-color);\n",
              "      border-top-color: var(--fill-color);\n",
              "      border-right-color: var(--fill-color);\n",
              "    }\n",
              "    40% {\n",
              "      border-color: transparent;\n",
              "      border-right-color: var(--fill-color);\n",
              "      border-top-color: var(--fill-color);\n",
              "    }\n",
              "    60% {\n",
              "      border-color: transparent;\n",
              "      border-right-color: var(--fill-color);\n",
              "    }\n",
              "    80% {\n",
              "      border-color: transparent;\n",
              "      border-right-color: var(--fill-color);\n",
              "      border-bottom-color: var(--fill-color);\n",
              "    }\n",
              "    90% {\n",
              "      border-color: transparent;\n",
              "      border-bottom-color: var(--fill-color);\n",
              "    }\n",
              "  }\n",
              "</style>\n",
              "\n",
              "  <script>\n",
              "    async function quickchart(key) {\n",
              "      const quickchartButtonEl =\n",
              "        document.querySelector('#' + key + ' button');\n",
              "      quickchartButtonEl.disabled = true;  // To prevent multiple clicks.\n",
              "      quickchartButtonEl.classList.add('colab-df-spinner');\n",
              "      try {\n",
              "        const charts = await google.colab.kernel.invokeFunction(\n",
              "            'suggestCharts', [key], {});\n",
              "      } catch (error) {\n",
              "        console.error('Error during call to suggestCharts:', error);\n",
              "      }\n",
              "      quickchartButtonEl.classList.remove('colab-df-spinner');\n",
              "      quickchartButtonEl.classList.add('colab-df-quickchart-complete');\n",
              "    }\n",
              "    (() => {\n",
              "      let quickchartButtonEl =\n",
              "        document.querySelector('#df-7d320348-e869-44b2-8a98-f94e4cde9f34 button');\n",
              "      quickchartButtonEl.style.display =\n",
              "        google.colab.kernel.accessAllowed ? 'block' : 'none';\n",
              "    })();\n",
              "  </script>\n",
              "</div>\n",
              "    </div>\n",
              "  </div>\n"
            ],
            "application/vnd.google.colaboratory.intrinsic+json": {
              "type": "dataframe",
              "summary": "{\n  \"name\": \"datos\",\n  \"rows\": 8,\n  \"fields\": [\n    {\n      \"column\": \"BMI\",\n      \"properties\": {\n        \"dtype\": \"number\",\n        \"std\": 113053.2788140205,\n        \"min\": 6.356100200470739,\n        \"max\": 319795.0,\n        \"num_unique_values\": 8,\n        \"samples\": [\n          28.325398520927465,\n          27.34,\n          319795.0\n        ],\n        \"semantic_type\": \"\",\n        \"description\": \"\"\n      }\n    },\n    {\n      \"column\": \"Smoking\",\n      \"properties\": {\n        \"dtype\": \"number\",\n        \"std\": 113064.09743920766,\n        \"min\": 0.4922808520227957,\n        \"max\": 319795.0,\n        \"num_unique_values\": 5,\n        \"samples\": [\n          1.5875232570865712,\n          2.0,\n          0.4922808520227957\n        ],\n        \"semantic_type\": \"\",\n        \"description\": \"\"\n      }\n    },\n    {\n      \"column\": \"AlcoholDrinking\",\n      \"properties\": {\n        \"dtype\": \"number\",\n        \"std\": 113064.04167864124,\n        \"min\": 0.2519122478747605,\n        \"max\": 319795.0,\n        \"num_unique_values\": 5,\n        \"samples\": [\n          1.9319032505198643,\n          2.0,\n          0.2519122478747605\n        ],\n        \"semantic_type\": \"\",\n        \"description\": \"\"\n      }\n    },\n    {\n      \"column\": \"Stroke\",\n      \"properties\": {\n        \"dtype\": \"number\",\n        \"std\": 113064.0432439278,\n        \"min\": 0.19056658405970656,\n        \"max\": 319795.0,\n        \"num_unique_values\": 5,\n        \"samples\": [\n          1.9622601979393048,\n          2.0,\n          0.19056658405970656\n        ],\n        \"semantic_type\": \"\",\n        \"description\": \"\"\n      }\n    },\n    {\n      \"column\": \"PhysicalHealth\",\n      \"properties\": {\n        \"dtype\": \"number\",\n        \"std\": 113062.41887389991,\n        \"min\": 0.0,\n        \"max\": 319795.0,\n        \"num_unique_values\": 6,\n        \"samples\": [\n          319795.0,\n          3.3717100017198516,\n          30.0\n        ],\n        \"semantic_type\": \"\",\n        \"description\": \"\"\n      }\n    },\n    {\n      \"column\": \"MentalHealth\",\n      \"properties\": {\n        \"dtype\": \"number\",\n        \"std\": 113062.34153808093,\n        \"min\": 0.0,\n        \"max\": 319795.0,\n        \"num_unique_values\": 6,\n        \"samples\": [\n          319795.0,\n          3.898366140808956,\n          30.0\n        ],\n        \"semantic_type\": \"\",\n        \"description\": \"\"\n      }\n    },\n    {\n      \"column\": \"DiffWalking\",\n      \"properties\": {\n        \"dtype\": \"number\",\n        \"std\": 113064.04051042747,\n        \"min\": 0.3458115836894246,\n        \"max\": 319795.0,\n        \"num_unique_values\": 5,\n        \"samples\": [\n          1.8611297862693288,\n          2.0,\n          0.3458115836894246\n        ],\n        \"semantic_type\": \"\",\n        \"description\": \"\"\n      }\n    },\n    {\n      \"column\": \"Sex\",\n      \"properties\": {\n        \"dtype\": \"number\",\n        \"std\": 113064.15325709495,\n        \"min\": 0.4993889929569271,\n        \"max\": 319795.0,\n        \"num_unique_values\": 5,\n        \"samples\": [\n          1.4752732219077846,\n          2.0,\n          0.4993889929569271\n        ],\n        \"semantic_type\": \"\",\n        \"description\": \"\"\n      }\n    },\n    {\n      \"column\": \"AgeCategory\",\n      \"properties\": {\n        \"dtype\": \"number\",\n        \"std\": 113062.17823553375,\n        \"min\": 1.0,\n        \"max\": 319795.0,\n        \"num_unique_values\": 8,\n        \"samples\": [\n          7.51453587454463,\n          8.0,\n          319795.0\n        ],\n        \"semantic_type\": \"\",\n        \"description\": \"\"\n      }\n    },\n    {\n      \"column\": \"Race\",\n      \"properties\": {\n        \"dtype\": \"number\",\n        \"std\": 113063.93440455812,\n        \"min\": 1.0,\n        \"max\": 319795.0,\n        \"num_unique_values\": 5,\n        \"samples\": [\n          1.7367938835816694,\n          6.0,\n          1.5711559559790143\n        ],\n        \"semantic_type\": \"\",\n        \"description\": \"\"\n      }\n    },\n    {\n      \"column\": \"Diabetic\",\n      \"properties\": {\n        \"dtype\": \"number\",\n        \"std\": 113063.9335297669,\n        \"min\": 0.41549035645043947,\n        \"max\": 319795.0,\n        \"num_unique_values\": 6,\n        \"samples\": [\n          319795.0,\n          1.9096202254569334,\n          4.0\n        ],\n        \"semantic_type\": \"\",\n        \"description\": \"\"\n      }\n    },\n    {\n      \"column\": \"PhysicalActivity\",\n      \"properties\": {\n        \"dtype\": \"number\",\n        \"std\": 113064.22056724927,\n        \"min\": 0.4173441332197359,\n        \"max\": 319795.0,\n        \"num_unique_values\": 5,\n        \"samples\": [\n          1.2246376584999765,\n          2.0,\n          0.4173441332197359\n        ],\n        \"semantic_type\": \"\",\n        \"description\": \"\"\n      }\n    },\n    {\n      \"column\": \"GenHealth\",\n      \"properties\": {\n        \"dtype\": \"number\",\n        \"std\": 113063.40343956073,\n        \"min\": 0.8648132097610356,\n        \"max\": 319795.0,\n        \"num_unique_values\": 7,\n        \"samples\": [\n          319795.0,\n          3.9556340780812707,\n          4.0\n        ],\n        \"semantic_type\": \"\",\n        \"description\": \"\"\n      }\n    },\n    {\n      \"column\": \"SleepTime\",\n      \"properties\": {\n        \"dtype\": \"number\",\n        \"std\": 113061.8524315998,\n        \"min\": 1.0,\n        \"max\": 319795.0,\n        \"num_unique_values\": 8,\n        \"samples\": [\n          7.097074688472302,\n          7.0,\n          319795.0\n        ],\n        \"semantic_type\": \"\",\n        \"description\": \"\"\n      }\n    },\n    {\n      \"column\": \"Asthma\",\n      \"properties\": {\n        \"dtype\": \"number\",\n        \"std\": 113064.04052478149,\n        \"min\": 0.340718249406958,\n        \"max\": 319795.0,\n        \"num_unique_values\": 5,\n        \"samples\": [\n          1.8659391172469864,\n          2.0,\n          0.340718249406958\n        ],\n        \"semantic_type\": \"\",\n        \"description\": \"\"\n      }\n    },\n    {\n      \"column\": \"KidneyDisease\",\n      \"properties\": {\n        \"dtype\": \"number\",\n        \"std\": 113064.0433099919,\n        \"min\": 0.18835183645322953,\n        \"max\": 319795.0,\n        \"num_unique_values\": 5,\n        \"samples\": [\n          1.9631670288778749,\n          2.0,\n          0.18835183645322953\n        ],\n        \"semantic_type\": \"\",\n        \"description\": \"\"\n      }\n    },\n    {\n      \"column\": \"SkinCancer\",\n      \"properties\": {\n        \"dtype\": \"number\",\n        \"std\": 113064.04098585053,\n        \"min\": 0.2907746721047418,\n        \"max\": 319795.0,\n        \"num_unique_values\": 5,\n        \"samples\": [\n          1.9067558904923467,\n          2.0,\n          0.2907746721047418\n        ],\n        \"semantic_type\": \"\",\n        \"description\": \"\"\n      }\n    },\n    {\n      \"column\": \"HeartDisease01\",\n      \"properties\": {\n        \"dtype\": \"number\",\n        \"std\": 113064.53758411629,\n        \"min\": 0.0,\n        \"max\": 319795.0,\n        \"num_unique_values\": 5,\n        \"samples\": [\n          0.08559545959130067,\n          1.0,\n          0.27976619101751976\n        ],\n        \"semantic_type\": \"\",\n        \"description\": \"\"\n      }\n    }\n  ]\n}"
            }
          },
          "metadata": {},
          "execution_count": 40
        }
      ]
    },
    {
      "cell_type": "code",
      "source": [
        "# Obtener el conteo de casos con y sin daños al corazón\n",
        "conteo_daños = datos['HeartDisease01'].value_counts()\n",
        "\n",
        "# Convertir el conteo a un DataFrame para una mejor visualización\n",
        "tabla_conteo = conteo_daños.rename(index={1: 'Daño', 0: 'No Daño'}).reset_index()\n",
        "tabla_conteo.columns = ['Estado del Corazón', 'Total de Casos']\n",
        "\n",
        "# Mostrar la tabla\n",
        "print(tabla_conteo)"
      ],
      "metadata": {
        "colab": {
          "base_uri": "https://localhost:8080/"
        },
        "id": "D27YFvd-MHpE",
        "outputId": "2aca77bf-16c1-412a-a92b-5e906a7053f9"
      },
      "execution_count": 41,
      "outputs": [
        {
          "output_type": "stream",
          "name": "stdout",
          "text": [
            "  Estado del Corazón  Total de Casos\n",
            "0            No Daño          292422\n",
            "1               Daño           27373\n"
          ]
        }
      ]
    },
    {
      "cell_type": "code",
      "source": [
        "f_diagrama_barra(datos)"
      ],
      "metadata": {
        "colab": {
          "base_uri": "https://localhost:8080/",
          "height": 564
        },
        "id": "Tq8okCodMPB-",
        "outputId": "8a6e8868-835e-4d5f-921e-755061fb530e"
      },
      "execution_count": 42,
      "outputs": [
        {
          "output_type": "display_data",
          "data": {
            "text/plain": [
              "<Figure size 800x600 with 1 Axes>"
            ],
            "image/png": "[encoded data removed]"
          },
          "metadata": {}
        }
      ]
    },
    {
      "cell_type": "markdown",
      "source": [
        "## Variables independiente y dependiente\n",
        "\n",
        "Se designa a la variable HeartDisease01 como la variable etiqueta y dependiente.\n",
        "\n",
        "Las variables BMI, Smoking, AlcoholDrinking, Stroke, PhysicalHealth, MentalHealth, DiffWalking, Sex, AgeCategory, Race, Diabetic, PhysicalActivity, GenHealth, SleepTime, Asthma, KidneyDisease, SkinCancer son independientes."
      ],
      "metadata": {
        "id": "MqJp0PTIKY4G"
      }
    },
    {
      "cell_type": "code",
      "source": [
        "# 'HeartDisease01' es la variable objetivo\n",
        "\n",
        "# Divide los datos en características y variable objetivo\n",
        "independientes = datos.drop('HeartDisease01', axis=1)\n",
        "dependiente = datos['HeartDisease01']"
      ],
      "metadata": {
        "id": "ErqBRtylKdy8"
      },
      "execution_count": 43,
      "outputs": []
    },
    {
      "cell_type": "markdown",
      "source": [
        "## Datos de entrenamiento y validación\n",
        "\n"
      ],
      "metadata": {
        "id": "emchKKHgLDza"
      }
    },
    {
      "cell_type": "code",
      "source": [
        "# Dividir los datos en conjuntos de entrenamiento y prueba\n",
        "entrenamiento, validacion, y_train, y_test = train_test_split(independientes, dependiente, test_size=0.3, random_state=2024)\n",
        "X_train = entrenamiento.copy()\n",
        "X_test = validacion.copy()\n",
        "n_train = len(X_train)\n",
        "n_test = len(X_test)\n",
        "\n",
        "f_visualizar_datos(X_train.sort_index().head(20), X_test.sort_index().head(20),\n",
        "                   \"Primeros registros. Datos de entrenamiento de \"+str(n_train) + \" registros\", \"Primeros registros. Datos de validación de \"+str(n_test) + \" registros\")\n",
        "\n",
        "# Para mostrar el widget de salida\n",
        "display(visualizar)"
      ],
      "metadata": {
        "colab": {
          "base_uri": "https://localhost:8080/",
          "height": 1000,
          "referenced_widgets": [
            "943da8917f1e4cf886a48332f4d72827",
            "f53c14a003a645f9b0b4eca6458b792c"
          ]
        },
        "id": "-tZ3tsV8LGkV",
        "outputId": "1f8a86b5-01c0-423a-fc04-2db0e4cea39d"
      },
      "execution_count": 44,
      "outputs": [
        {
          "output_type": "display_data",
          "data": {
            "text/plain": [
              "Output()"
            ],
            "application/vnd.jupyter.widget-view+json": {
              "version_major": 2,
              "version_minor": 0,
              "model_id": "943da8917f1e4cf886a48332f4d72827"
            }
          },
          "metadata": {}
        }
      ]
    },
    {
      "cell_type": "markdown",
      "source": [
        "## Aplicar modelo perceptrón\n"
      ],
      "metadata": {
        "id": "2yDcexmAMjWs"
      }
    },
    {
      "cell_type": "code",
      "source": [
        "# Marcar el tiempo de inicio\n",
        "start_time = time.time()\n",
        "\n",
        "# Crear y entrenar el modelo de perceptrón con datos de entrenamiento\n",
        "perceptron = Perceptron()\n",
        "perceptron.fit(X_train, y_train)\n",
        "\n",
        "# Marcar el tiempo de finalización\n",
        "end_time = time.time()\n",
        "\n",
        "# Calcular la duración restando el tiempo de inicio del tiempo de finalización\n",
        "duration = end_time - start_time\n",
        "\n",
        "print(f\"El tiempo de ejecución fue de {duration} segundos.\")"
      ],
      "metadata": {
        "colab": {
          "base_uri": "https://localhost:8080/"
        },
        "id": "nSDmu4xkMmEH",
        "outputId": "9dd03d9f-4187-429a-da22-dea8c5997b19"
      },
      "execution_count": 45,
      "outputs": [
        {
          "output_type": "stream",
          "name": "stdout",
          "text": [
            "El tiempo de ejecución fue de 1.0819573402404785 segundos.\n"
          ]
        }
      ]
    },
    {
      "cell_type": "markdown",
      "source": [
        "## Predicciones con datos de validación\n",
        "\n"
      ],
      "metadata": {
        "id": "Ze7gBnd_NEtn"
      }
    },
    {
      "cell_type": "code",
      "source": [
        "# Hacer predicciones en los datos de entrenamiento\n",
        "predicciones = perceptron.predict(X_test)"
      ],
      "metadata": {
        "id": "Pd3dFmkMNHvq"
      },
      "execution_count": 46,
      "outputs": []
    },
    {
      "cell_type": "markdown",
      "source": [
        "## Evaluar el modelo\n",
        "\n"
      ],
      "metadata": {
        "id": "dPbUj2pxNNKP"
      }
    },
    {
      "cell_type": "code",
      "source": [
        "# Calcular la precisión del modelo en los datos de entrenamiento\n",
        "precision_train = accuracy_score(predicciones, y_test)\n",
        "print(\"Precisión en datos de entrenamiento:\", precision_train)\n",
        "\n",
        "f_evaluar_modelo(predicciones, y_test)\n"
      ],
      "metadata": {
        "colab": {
          "base_uri": "https://localhost:8080/"
        },
        "id": "miJMRBwKNOn_",
        "outputId": "7e6aaa44-cb6d-4b32-afb6-0b6824c451cc"
      },
      "execution_count": 47,
      "outputs": [
        {
          "output_type": "stream",
          "name": "stdout",
          "text": [
            "Precisión en datos de entrenamiento: 0.9145394469402433\n",
            "La exactitud del modelo es: 0.9145394469402433\n",
            "Matriz de Confusión:\n",
            "[[87727     3]\n",
            " [ 8196    13]]\n",
            "\n",
            "VP: Verdaderos Positivos. El modelo la atina (V) a los que no ('No') tienen daño al corazón:  87727\n",
            "FN: Falsos Negativos. El modelo falla (F) a los que no ('No') daño, prediciendo que si ('Yes') tienen daño al corazón:  3\n",
            "FP: Falsos Positivos. El modelo falla (F) a los que si ('Yes') daño, prediciendo que no ('No) tienen daño al corazón:  8196\n",
            "VN: Verdaderos Negativos. El modelo le atina (V) a los que si ('Yes') tienen daño al corazón:  13\n",
            "Compronando\n",
            "Accuracy = (VP + VN)/(VP + FN + FP + VN) ( 87727 + 13 ) / ( 87727 + 3 + 8196 + 13 ) =  0.9145394469402433\n"
          ]
        }
      ]
    },
    {
      "cell_type": "markdown",
      "source": [
        "## Predicción con nuevo dato\n",
        "\n"
      ],
      "metadata": {
        "id": "10WVXxSrOEDt"
      }
    },
    {
      "cell_type": "code",
      "source": [
        "import pandas as pd\n",
        "\n",
        "# Definir los datos de la persona\n",
        "datos_persona = {\n",
        "    \"BMI\": [38],\n",
        "    \"Smoking\": [\"Yes\"],\n",
        "    \"AlcoholDrinking\": [\"Yes\"],\n",
        "    \"Stroke\": [\"Yes\"],\n",
        "    \"PhysicalHealth\": [2],\n",
        "    \"MentalHealth\": [5],\n",
        "    \"DiffWalking\": [\"Yes\"],\n",
        "    \"Sex\": [\"Male\"],\n",
        "    \"AgeCategory\": [\"70-74\"],\n",
        "    \"Race\": [\"Black\"],\n",
        "    \"Diabetic\": [\"Yes\"],\n",
        "    \"PhysicalActivity\": [\"No\"],\n",
        "    \"GenHealth\": [\"Fair\"],\n",
        "    \"SleepTime\": [12],\n",
        "    \"Asthma\": [\"Yes\"],\n",
        "    \"KidneyDisease\": [\"Yes\"],\n",
        "    \"SkinCancer\": [\"No\"]\n",
        "}\n",
        "\n",
        "\n",
        "# Transformado\n",
        "\n",
        "datos_persona = {\n",
        "    \"BMI\": [38],\n",
        "    \"Smoking\": [1],\n",
        "    \"AlcoholDrinking\": [1],\n",
        "    \"Stroke\": [1],\n",
        "    \"PhysicalHealth\": [2],\n",
        "    \"MentalHealth\": [5],\n",
        "    \"DiffWalking\": [1],\n",
        "    \"Sex\": [2],\n",
        "    \"AgeCategory\": [11], # 70-74\n",
        "    \"Race\": [2], # Black\n",
        "    \"Diabetic\": [1],\n",
        "    \"PhysicalActivity\": [2],\n",
        "    \"GenHealth\": [5], # Fair,\n",
        "    \"SleepTime\": [12],\n",
        "    \"Asthma\": [1],\n",
        "    \"KidneyDisease\": [1],\n",
        "    \"SkinCancer\": [2]\n",
        "}\n",
        "\n",
        "# Crear un DataFrame con los datos de la persona\n",
        "persona = pd.DataFrame(datos_persona)\n",
        "\n",
        "print(persona)\n",
        "\n",
        "\n",
        "# Crear un DataFrame con los datos de la persona\n",
        "persona = pd.DataFrame(datos_persona)\n",
        "\n",
        "\"\"\"\n",
        "# ...\n",
        "# Falta comprobar matemátiamento con los coeficentes y la función log o logit o ln para\n",
        "# encontrar la probabilidad\n",
        "# ...\n",
        "\"\"\"\n",
        "print(persona)\n",
        "\n",
        "\n",
        "prediccion = perceptron.predict(persona)\n",
        "print (\"La predicción es:\", prediccion)\n",
        "if prediccion == 1:\n",
        "  print (\"El paciente, NO está enfermO del corazón\")\n",
        "else:\n",
        "  print (\"El paciente, NO está enfermO del corazón\")"
      ],
      "metadata": {
        "colab": {
          "base_uri": "https://localhost:8080/"
        },
        "id": "sGURWeXFOfPE",
        "outputId": "ab555402-da25-499f-8f54-00c4c1e49efd"
      },
      "execution_count": 51,
      "outputs": [
        {
          "output_type": "stream",
          "name": "stdout",
          "text": [
            "   BMI  Smoking  AlcoholDrinking  Stroke  PhysicalHealth  MentalHealth  \\\n",
            "0   38        1                1       1               2             5   \n",
            "\n",
            "   DiffWalking  Sex  AgeCategory  Race  Diabetic  PhysicalActivity  GenHealth  \\\n",
            "0            1    2           11     2         1                 2          5   \n",
            "\n",
            "   SleepTime  Asthma  KidneyDisease  SkinCancer  \n",
            "0         12       1              1           2  \n",
            "   BMI  Smoking  AlcoholDrinking  Stroke  PhysicalHealth  MentalHealth  \\\n",
            "0   38        1                1       1               2             5   \n",
            "\n",
            "   DiffWalking  Sex  AgeCategory  Race  Diabetic  PhysicalActivity  GenHealth  \\\n",
            "0            1    2           11     2         1                 2          5   \n",
            "\n",
            "   SleepTime  Asthma  KidneyDisease  SkinCancer  \n",
            "0         12       1              1           2  \n",
            "La predicción es: [0]\n",
            "El paciente, NO está enfermO del corazón\n"
          ]
        }
      ]
    },
    {
      "cell_type": "markdown",
      "source": [
        "# Interpretación\n",
        "\n",
        "Accuracy = (VP + VN)/(VP + FN + FP + VN) ( 87727 + 13 ) / ( 87727 + 3 + 8196 + 13 ) =  0.9145394469402433\n",
        "\n",
        "Significa que el modelo le atina al 91.45% de los casos.\n",
        "\n"
      ],
      "metadata": {
        "id": "OOXSA_uJOGeI"
      }
    }
  ]
}