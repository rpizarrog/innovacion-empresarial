{
  "nbformat": 4,
  "nbformat_minor": 0,
  "metadata": {
    "colab": {
      "provenance": [],
      "authorship_tag": "ABX9TyMiRNv5Gq2DRgVyy8IPhHCw",
      "include_colab_link": true
    },
    "kernelspec": {
      "name": "python3",
      "display_name": "Python 3"
    },
    "language_info": {
      "name": "python"
    }
  },
  "cells": [
    {
      "cell_type": "markdown",
      "metadata": {
        "id": "view-in-github",
        "colab_type": "text"
      },
      "source": [
        "<a href=\"https://colab.research.google.com/github/rpizarrog/innovacion-empresarial/blob/main/notebook_python/Caso_011_Probar_Ho_coeficiente_de_correlacion_ACEPTA_O_RECHAZA.ipynb\" target=\"_parent\"><img src=\"https://colab.research.google.com/assets/colab-badge.svg\" alt=\"Open In Colab\"/></a>"
      ]
    },
    {
      "cell_type": "markdown",
      "source": [
        "## Cargar librerías"
      ],
      "metadata": {
        "id": "16lPq1yiw7hK"
      }
    },
    {
      "cell_type": "code",
      "source": [
        "import scipy.stats as stats\n",
        "import numpy as np\n",
        "import pandas as pd"
      ],
      "metadata": {
        "id": "GIV3a4x-w3X-"
      },
      "execution_count": 20,
      "outputs": []
    },
    {
      "cell_type": "markdown",
      "source": [
        "## Crear funciones"
      ],
      "metadata": {
        "id": "95T6MQeyzxqa"
      }
    },
    {
      "cell_type": "code",
      "source": [
        "def f_p_value_1(X, Y):\n",
        "  # Calcular r\n",
        "  r = np.corrcoef(X, Y)[0, 1]\n",
        "\n",
        "  # Número de observaciones\n",
        "  n = len(X)\n",
        "\n",
        "  # Calcular t\n",
        "  t_stat = r * np.sqrt((n - 2) / (1 - r**2))\n",
        "\n",
        "  # Calcular p-valor\n",
        "  p_value = 2 * stats.t.sf(np.abs(t_stat), df=n-2)\n",
        "\n",
        "  print(f\"Coeficiente de correlación de Pearson: {r}\")\n",
        "  print(f\"Estadístico t: {t_stat}\")\n",
        "  print(f\"P-valor: {p_value}\")\n",
        "\n",
        "  return r, p_value\n",
        "\n",
        "def f_p_value_2(X, Y):\n",
        "  # Cálculo de la correlación de Pearson y p-valor\n",
        "  r, p_value = stats.pearsonr(X, Y)\n",
        "\n",
        "  print(f\"Coeficiente de correlación de Pearson: {r}\")\n",
        "  print(f\"P-valor: {p_value}\")\n",
        "\n",
        "  return r, p_value\n",
        "\n",
        "def f_probar_ho(p_value, H0):\n",
        "  if p_value < 0.05: # Rechazar H0 y Aceptar H1\n",
        "    print (\"Se rechaza 𝐻0 y se concluye:\", H1)\n",
        "  else: # Aceptar H0\n",
        "    print (\"No se rechaza 𝐻0 y se concluye:\", H0 )\n"
      ],
      "metadata": {
        "id": "O8O3pqKzw_4r"
      },
      "execution_count": 37,
      "outputs": []
    },
    {
      "cell_type": "markdown",
      "source": [
        "## Cargar datos\n"
      ],
      "metadata": {
        "id": "nZkafJy_w6Ky"
      }
    },
    {
      "cell_type": "code",
      "source": [
        "url = 'https://raw.githubusercontent.com/rpizarrog/innovacion-empresarial/refs/heads/main/datos/estaturas_pesos.csv'\n",
        "datos = pd.read_csv(url)\n",
        "print (datos)\n"
      ],
      "metadata": {
        "colab": {
          "base_uri": "https://localhost:8080/"
        },
        "id": "XUhzo-MSxLwl",
        "outputId": "d93218c1-9987-4f48-ce6d-2b0f88ff88fe"
      },
      "execution_count": 22,
      "outputs": [
        {
          "output_type": "stream",
          "name": "stdout",
          "text": [
            "    estaturas  pesos\n",
            "0         178     79\n",
            "1         172     75\n",
            "2         160     62\n",
            "3         192    107\n",
            "4         167     72\n",
            "..        ...    ...\n",
            "57        170     75\n",
            "58        180     85\n",
            "59        180     95\n",
            "60        170     75\n",
            "61        172     78\n",
            "\n",
            "[62 rows x 2 columns]\n"
          ]
        }
      ]
    },
    {
      "cell_type": "markdown",
      "source": [
        "## Descripción de datos"
      ],
      "metadata": {
        "id": "M1DJ2CSNx16D"
      }
    },
    {
      "cell_type": "code",
      "source": [
        "print (datos.describe())\n",
        "print (datos.info())"
      ],
      "metadata": {
        "colab": {
          "base_uri": "https://localhost:8080/"
        },
        "id": "SsBDJ8Gzx3Zx",
        "outputId": "6053fe04-51d3-4c6c-cbc4-25bb4e95f1bf"
      },
      "execution_count": 23,
      "outputs": [
        {
          "output_type": "stream",
          "name": "stdout",
          "text": [
            "        estaturas       pesos\n",
            "count   62.000000   62.000000\n",
            "mean   172.032258   74.806452\n",
            "std      9.042645   11.297524\n",
            "min    150.000000   52.000000\n",
            "25%    165.000000   67.250000\n",
            "50%    170.000000   75.000000\n",
            "75%    178.000000   80.000000\n",
            "max    192.000000  107.000000\n",
            "<class 'pandas.core.frame.DataFrame'>\n",
            "RangeIndex: 62 entries, 0 to 61\n",
            "Data columns (total 2 columns):\n",
            " #   Column     Non-Null Count  Dtype\n",
            "---  ------     --------------  -----\n",
            " 0   estaturas  62 non-null     int64\n",
            " 1   pesos      62 non-null     int64\n",
            "dtypes: int64(2)\n",
            "memory usage: 1.1 KB\n",
            "None\n"
          ]
        }
      ]
    },
    {
      "cell_type": "markdown",
      "source": [
        "## Variables de interes\n"
      ],
      "metadata": {
        "id": "m-APQWf0x7RS"
      }
    },
    {
      "cell_type": "code",
      "source": [
        "# Datos de ejemplo\n",
        "X = np.array(datos['estaturas'])\n",
        "Y = np.array(datos['pesos'])"
      ],
      "metadata": {
        "id": "5viuMapzx9SJ"
      },
      "execution_count": 24,
      "outputs": []
    },
    {
      "cell_type": "markdown",
      "source": [
        "## Determinar p_value\n",
        "\n"
      ],
      "metadata": {
        "id": "zyyE8adLw-SR"
      }
    },
    {
      "cell_type": "code",
      "source": [
        "f_p_value_1(X, Y)\n",
        "f_p_value_2(X, Y)"
      ],
      "metadata": {
        "colab": {
          "base_uri": "https://localhost:8080/"
        },
        "id": "nxSySnt4wyAL",
        "outputId": "ccf0836b-6e83-47e3-a7e8-948ce8c4287e"
      },
      "execution_count": 26,
      "outputs": [
        {
          "output_type": "stream",
          "name": "stdout",
          "text": [
            "Coeficiente de correlación de Pearson: 0.7651787268309528\n",
            "Estadístico t: 9.206094975188327\n",
            "P-valor: 4.448835622006244e-13\n",
            "Coeficiente de correlación de Pearson: 0.765178726830953\n",
            "P-valor: 4.4488356220062015e-13\n"
          ]
        },
        {
          "output_type": "execute_result",
          "data": {
            "text/plain": [
              "(0.765178726830953, 4.4488356220062015e-13)"
            ]
          },
          "metadata": {},
          "execution_count": 26
        }
      ]
    },
    {
      "cell_type": "markdown",
      "source": [
        "## Probar hipótesis\n",
        "\n",
        "* $H_0$: No hay correlación entre las variables $(𝑟=0)$\n",
        "* $H_1$: Si hay correlación entre las variables $(𝑟!=0)$\n"
      ],
      "metadata": {
        "id": "9GW2eaBczNbJ"
      }
    },
    {
      "cell_type": "code",
      "source": [
        "H0 =\"No hay correlación significativa\" # Aceptar H0\n",
        "H1 =\"SI hay correlación significativa\" # Rechazar H0\n",
        "f_probar_ho(p_value, Ho)"
      ],
      "metadata": {
        "colab": {
          "base_uri": "https://localhost:8080/"
        },
        "id": "WIhhIm7czjap",
        "outputId": "ea9d5bf7-cde1-4bdf-9c64-66f63e55249e"
      },
      "execution_count": 35,
      "outputs": [
        {
          "output_type": "stream",
          "name": "stdout",
          "text": [
            "se rechaza 𝐻0 y se concluye: SI hay correlación significativa\n"
          ]
        }
      ]
    }
  ]
}