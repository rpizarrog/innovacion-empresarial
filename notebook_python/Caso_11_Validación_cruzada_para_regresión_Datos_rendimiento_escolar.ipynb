{
  "nbformat": 4,
  "nbformat_minor": 0,
  "metadata": {
    "colab": {
      "provenance": [],
      "authorship_tag": "ABX9TyNYZ9WXP9yKj+Tkafo/ctR3",
      "include_colab_link": true
    },
    "kernelspec": {
      "name": "python3",
      "display_name": "Python 3"
    },
    "language_info": {
      "name": "python"
    },
    "widgets": {
      "application/vnd.jupyter.widget-state+json": {
        "547191b8fd374927ae737319152ced19": {
          "model_module": "@jupyter-widgets/output",
          "model_name": "OutputModel",
          "model_module_version": "1.0.0",
          "state": {
            "_dom_classes": [],
            "_model_module": "@jupyter-widgets/output",
            "_model_module_version": "1.0.0",
            "_model_name": "OutputModel",
            "_view_count": null,
            "_view_module": "@jupyter-widgets/output",
            "_view_module_version": "1.0.0",
            "_view_name": "OutputView",
            "layout": "IPY_MODEL_51d37070970c4e7f9c568012876ce102",
            "msg_id": "",
            "outputs": [
              {
                "output_type": "display_data",
                "data": {
                  "text/plain": "<IPython.core.display.HTML object>",
                  "text/html": "<h2>Primeros registros de Datos</h2>"
                },
                "metadata": {}
              },
              {
                "output_type": "display_data",
                "data": {
                  "text/plain": "    horas_estudio  taza_asistencia  lectura_libros  ingeso_familiar  \\\n0               6               98               2            92289   \n1               3               85               0            94021   \n2               4               85               3            88513   \n3               6               82               7            29874   \n4               2               86               2            60931   \n5               7               98               9            17674   \n6               4               87               1            60516   \n7               4               89              10            70686   \n8               6               99               9            79212   \n9               1               94              13            12426   \n10              2               94               6            78498   \n11              6               80               1            39943   \n12              2               99               8            76395   \n13              2               86              15            54816   \n14              7               83              12            14138   \n15              4               85               8            85945   \n16              3               80              19            14017   \n17              7               84               3            20451   \n18              7               80               9            72956   \n19              2               83              11            20278   \n\n    actividad_extraescolar  motivacion  rendimiento_escolar  \n0                        4           1                88.47  \n1                        4           0                80.61  \n2                        2           0                80.59  \n3                        2           0                82.28  \n4                        3           0                78.17  \n5                        1           0                84.18  \n6                        1           1                78.96  \n7                        2           1                87.53  \n8                        1           0                86.27  \n9                        2           0                82.11  \n10                       4           0                84.08  \n11                       3           1                82.09  \n12                       0           0                80.15  \n13                       3           1                89.60  \n14                       2           1                88.56  \n15                       2           1                86.45  \n16                       3           1                90.90  \n17                       2           0                80.11  \n18                       1           1                87.50  \n19                       1           1                81.92  ",
                  "text/html": "\n  <div id=\"df-d8476bc6-85a0-4e26-8169-5ba4de6cb7be\" class=\"colab-df-container\">\n    <div>\n<style scoped>\n    .dataframe tbody tr th:only-of-type {\n        vertical-align: middle;\n    }\n\n    .dataframe tbody tr th {\n        vertical-align: top;\n    }\n\n    .dataframe thead th {\n        text-align: right;\n    }\n</style>\n<table border=\"1\" class=\"dataframe\">\n  <thead>\n    <tr style=\"text-align: right;\">\n      <th></th>\n      <th>horas_estudio</th>\n      <th>taza_asistencia</th>\n      <th>lectura_libros</th>\n      <th>ingeso_familiar</th>\n      <th>actividad_extraescolar</th>\n      <th>motivacion</th>\n      <th>rendimiento_escolar</th>\n    </tr>\n  </thead>\n  <tbody>\n    <tr>\n      <th>0</th>\n      <td>6</td>\n      <td>98</td>\n      <td>2</td>\n      <td>92289</td>\n      <td>4</td>\n      <td>1</td>\n      <td>88.47</td>\n    </tr>\n    <tr>\n      <th>1</th>\n      <td>3</td>\n      <td>85</td>\n      <td>0</td>\n      <td>94021</td>\n      <td>4</td>\n      <td>0</td>\n      <td>80.61</td>\n    </tr>\n    <tr>\n      <th>2</th>\n      <td>4</td>\n      <td>85</td>\n      <td>3</td>\n      <td>88513</td>\n      <td>2</td>\n      <td>0</td>\n      <td>80.59</td>\n    </tr>\n    <tr>\n      <th>3</th>\n      <td>6</td>\n      <td>82</td>\n      <td>7</td>\n      <td>29874</td>\n      <td>2</td>\n      <td>0</td>\n      <td>82.28</td>\n    </tr>\n    <tr>\n      <th>4</th>\n      <td>2</td>\n      <td>86</td>\n      <td>2</td>\n      <td>60931</td>\n      <td>3</td>\n      <td>0</td>\n      <td>78.17</td>\n    </tr>\n    <tr>\n      <th>5</th>\n      <td>7</td>\n      <td>98</td>\n      <td>9</td>\n      <td>17674</td>\n      <td>1</td>\n      <td>0</td>\n      <td>84.18</td>\n    </tr>\n    <tr>\n      <th>6</th>\n      <td>4</td>\n      <td>87</td>\n      <td>1</td>\n      <td>60516</td>\n      <td>1</td>\n      <td>1</td>\n      <td>78.96</td>\n    </tr>\n    <tr>\n      <th>7</th>\n      <td>4</td>\n      <td>89</td>\n      <td>10</td>\n      <td>70686</td>\n      <td>2</td>\n      <td>1</td>\n      <td>87.53</td>\n    </tr>\n    <tr>\n      <th>8</th>\n      <td>6</td>\n      <td>99</td>\n      <td>9</td>\n      <td>79212</td>\n      <td>1</td>\n      <td>0</td>\n      <td>86.27</td>\n    </tr>\n    <tr>\n      <th>9</th>\n      <td>1</td>\n      <td>94</td>\n      <td>13</td>\n      <td>12426</td>\n      <td>2</td>\n      <td>0</td>\n      <td>82.11</td>\n    </tr>\n    <tr>\n      <th>10</th>\n      <td>2</td>\n      <td>94</td>\n      <td>6</td>\n      <td>78498</td>\n      <td>4</td>\n      <td>0</td>\n      <td>84.08</td>\n    </tr>\n    <tr>\n      <th>11</th>\n      <td>6</td>\n      <td>80</td>\n      <td>1</td>\n      <td>39943</td>\n      <td>3</td>\n      <td>1</td>\n      <td>82.09</td>\n    </tr>\n    <tr>\n      <th>12</th>\n      <td>2</td>\n      <td>99</td>\n      <td>8</td>\n      <td>76395</td>\n      <td>0</td>\n      <td>0</td>\n      <td>80.15</td>\n    </tr>\n    <tr>\n      <th>13</th>\n      <td>2</td>\n      <td>86</td>\n      <td>15</td>\n      <td>54816</td>\n      <td>3</td>\n      <td>1</td>\n      <td>89.60</td>\n    </tr>\n    <tr>\n      <th>14</th>\n      <td>7</td>\n      <td>83</td>\n      <td>12</td>\n      <td>14138</td>\n      <td>2</td>\n      <td>1</td>\n      <td>88.56</td>\n    </tr>\n    <tr>\n      <th>15</th>\n      <td>4</td>\n      <td>85</td>\n      <td>8</td>\n      <td>85945</td>\n      <td>2</td>\n      <td>1</td>\n      <td>86.45</td>\n    </tr>\n    <tr>\n      <th>16</th>\n      <td>3</td>\n      <td>80</td>\n      <td>19</td>\n      <td>14017</td>\n      <td>3</td>\n      <td>1</td>\n      <td>90.90</td>\n    </tr>\n    <tr>\n      <th>17</th>\n      <td>7</td>\n      <td>84</td>\n      <td>3</td>\n      <td>20451</td>\n      <td>2</td>\n      <td>0</td>\n      <td>80.11</td>\n    </tr>\n    <tr>\n      <th>18</th>\n      <td>7</td>\n      <td>80</td>\n      <td>9</td>\n      <td>72956</td>\n      <td>1</td>\n      <td>1</td>\n      <td>87.50</td>\n    </tr>\n    <tr>\n      <th>19</th>\n      <td>2</td>\n      <td>83</td>\n      <td>11</td>\n      <td>20278</td>\n      <td>1</td>\n      <td>1</td>\n      <td>81.92</td>\n    </tr>\n  </tbody>\n</table>\n</div>\n    <div class=\"colab-df-buttons\">\n\n  <div class=\"colab-df-container\">\n    <button class=\"colab-df-convert\" onclick=\"convertToInteractive('df-d8476bc6-85a0-4e26-8169-5ba4de6cb7be')\"\n            title=\"Convert this dataframe to an interactive table.\"\n            style=\"display:none;\">\n\n  <svg xmlns=\"http://www.w3.org/2000/svg\" height=\"24px\" viewBox=\"0 -960 960 960\">\n    <path d=\"M120-120v-720h720v720H120Zm60-500h600v-160H180v160Zm220 220h160v-160H400v160Zm0 220h160v-160H400v160ZM180-400h160v-160H180v160Zm440 0h160v-160H620v160ZM180-180h160v-160H180v160Zm440 0h160v-160H620v160Z\"/>\n  </svg>\n    </button>\n\n  <style>\n    .colab-df-container {\n      display:flex;\n      gap: 12px;\n    }\n\n    .colab-df-convert {\n      background-color: #E8F0FE;\n      border: none;\n      border-radius: 50%;\n      cursor: pointer;\n      display: none;\n      fill: #1967D2;\n      height: 32px;\n      padding: 0 0 0 0;\n      width: 32px;\n    }\n\n    .colab-df-convert:hover {\n      background-color: #E2EBFA;\n      box-shadow: 0px 1px 2px rgba(60, 64, 67, 0.3), 0px 1px 3px 1px rgba(60, 64, 67, 0.15);\n      fill: #174EA6;\n    }\n\n    .colab-df-buttons div {\n      margin-bottom: 4px;\n    }\n\n    [theme=dark] .colab-df-convert {\n      background-color: #3B4455;\n      fill: #D2E3FC;\n    }\n\n    [theme=dark] .colab-df-convert:hover {\n      background-color: #434B5C;\n      box-shadow: 0px 1px 3px 1px rgba(0, 0, 0, 0.15);\n      filter: drop-shadow(0px 1px 2px rgba(0, 0, 0, 0.3));\n      fill: #FFFFFF;\n    }\n  </style>\n\n    <script>\n      const buttonEl =\n        document.querySelector('#df-d8476bc6-85a0-4e26-8169-5ba4de6cb7be button.colab-df-convert');\n      buttonEl.style.display =\n        google.colab.kernel.accessAllowed ? 'block' : 'none';\n\n      async function convertToInteractive(key) {\n        const element = document.querySelector('#df-d8476bc6-85a0-4e26-8169-5ba4de6cb7be');\n        const dataTable =\n          await google.colab.kernel.invokeFunction('convertToInteractive',\n                                                    [key], {});\n        if (!dataTable) return;\n\n        const docLinkHtml = 'Like what you see? Visit the ' +\n          '<a target=\"_blank\" href=https://colab.research.google.com/notebooks/data_table.ipynb>data table notebook</a>'\n          + ' to learn more about interactive tables.';\n        element.innerHTML = '';\n        dataTable['output_type'] = 'display_data';\n        await google.colab.output.renderOutput(dataTable, element);\n        const docLink = document.createElement('div');\n        docLink.innerHTML = docLinkHtml;\n        element.appendChild(docLink);\n      }\n    </script>\n  </div>\n\n\n<div id=\"df-a41c3c16-6c17-412b-a955-69203a6e7147\">\n  <button class=\"colab-df-quickchart\" onclick=\"quickchart('df-a41c3c16-6c17-412b-a955-69203a6e7147')\"\n            title=\"Suggest charts\"\n            style=\"display:none;\">\n\n<svg xmlns=\"http://www.w3.org/2000/svg\" height=\"24px\"viewBox=\"0 0 24 24\"\n     width=\"24px\">\n    <g>\n        <path d=\"M19 3H5c-1.1 0-2 .9-2 2v14c0 1.1.9 2 2 2h14c1.1 0 2-.9 2-2V5c0-1.1-.9-2-2-2zM9 17H7v-7h2v7zm4 0h-2V7h2v10zm4 0h-2v-4h2v4z\"/>\n    </g>\n</svg>\n  </button>\n\n<style>\n  .colab-df-quickchart {\n      --bg-color: #E8F0FE;\n      --fill-color: #1967D2;\n      --hover-bg-color: #E2EBFA;\n      --hover-fill-color: #174EA6;\n      --disabled-fill-color: #AAA;\n      --disabled-bg-color: #DDD;\n  }\n\n  [theme=dark] .colab-df-quickchart {\n      --bg-color: #3B4455;\n      --fill-color: #D2E3FC;\n      --hover-bg-color: #434B5C;\n      --hover-fill-color: #FFFFFF;\n      --disabled-bg-color: #3B4455;\n      --disabled-fill-color: #666;\n  }\n\n  .colab-df-quickchart {\n    background-color: var(--bg-color);\n    border: none;\n    border-radius: 50%;\n    cursor: pointer;\n    display: none;\n    fill: var(--fill-color);\n    height: 32px;\n    padding: 0;\n    width: 32px;\n  }\n\n  .colab-df-quickchart:hover {\n    background-color: var(--hover-bg-color);\n    box-shadow: 0 1px 2px rgba(60, 64, 67, 0.3), 0 1px 3px 1px rgba(60, 64, 67, 0.15);\n    fill: var(--button-hover-fill-color);\n  }\n\n  .colab-df-quickchart-complete:disabled,\n  .colab-df-quickchart-complete:disabled:hover {\n    background-color: var(--disabled-bg-color);\n    fill: var(--disabled-fill-color);\n    box-shadow: none;\n  }\n\n  .colab-df-spinner {\n    border: 2px solid var(--fill-color);\n    border-color: transparent;\n    border-bottom-color: var(--fill-color);\n    animation:\n      spin 1s steps(1) infinite;\n  }\n\n  @keyframes spin {\n    0% {\n      border-color: transparent;\n      border-bottom-color: var(--fill-color);\n      border-left-color: var(--fill-color);\n    }\n    20% {\n      border-color: transparent;\n      border-left-color: var(--fill-color);\n      border-top-color: var(--fill-color);\n    }\n    30% {\n      border-color: transparent;\n      border-left-color: var(--fill-color);\n      border-top-color: var(--fill-color);\n      border-right-color: var(--fill-color);\n    }\n    40% {\n      border-color: transparent;\n      border-right-color: var(--fill-color);\n      border-top-color: var(--fill-color);\n    }\n    60% {\n      border-color: transparent;\n      border-right-color: var(--fill-color);\n    }\n    80% {\n      border-color: transparent;\n      border-right-color: var(--fill-color);\n      border-bottom-color: var(--fill-color);\n    }\n    90% {\n      border-color: transparent;\n      border-bottom-color: var(--fill-color);\n    }\n  }\n</style>\n\n  <script>\n    async function quickchart(key) {\n      const quickchartButtonEl =\n        document.querySelector('#' + key + ' button');\n      quickchartButtonEl.disabled = true;  // To prevent multiple clicks.\n      quickchartButtonEl.classList.add('colab-df-spinner');\n      try {\n        const charts = await google.colab.kernel.invokeFunction(\n            'suggestCharts', [key], {});\n      } catch (error) {\n        console.error('Error during call to suggestCharts:', error);\n      }\n      quickchartButtonEl.classList.remove('colab-df-spinner');\n      quickchartButtonEl.classList.add('colab-df-quickchart-complete');\n    }\n    (() => {\n      let quickchartButtonEl =\n        document.querySelector('#df-a41c3c16-6c17-412b-a955-69203a6e7147 button');\n      quickchartButtonEl.style.display =\n        google.colab.kernel.accessAllowed ? 'block' : 'none';\n    })();\n  </script>\n</div>\n    </div>\n  </div>\n",
                  "application/vnd.google.colaboratory.intrinsic+json": {
                    "type": "dataframe",
                    "summary": "{\n  \"name\": \"display(visualizar)\",\n  \"rows\": 20,\n  \"fields\": [\n    {\n      \"column\": \"horas_estudio\",\n      \"properties\": {\n        \"dtype\": \"number\",\n        \"std\": 2,\n        \"min\": 1,\n        \"max\": 7,\n        \"num_unique_values\": 6,\n        \"samples\": [\n          6,\n          3,\n          1\n        ],\n        \"semantic_type\": \"\",\n        \"description\": \"\"\n      }\n    },\n    {\n      \"column\": \"taza_asistencia\",\n      \"properties\": {\n        \"dtype\": \"number\",\n        \"std\": 6,\n        \"min\": 80,\n        \"max\": 99,\n        \"num_unique_values\": 11,\n        \"samples\": [\n          89,\n          98,\n          83\n        ],\n        \"semantic_type\": \"\",\n        \"description\": \"\"\n      }\n    },\n    {\n      \"column\": \"lectura_libros\",\n      \"properties\": {\n        \"dtype\": \"number\",\n        \"std\": 5,\n        \"min\": 0,\n        \"max\": 19,\n        \"num_unique_values\": 14,\n        \"samples\": [\n          8,\n          12,\n          2\n        ],\n        \"semantic_type\": \"\",\n        \"description\": \"\"\n      }\n    },\n    {\n      \"column\": \"ingeso_familiar\",\n      \"properties\": {\n        \"dtype\": \"number\",\n        \"std\": 29932,\n        \"min\": 12426,\n        \"max\": 94021,\n        \"num_unique_values\": 20,\n        \"samples\": [\n          92289,\n          20451,\n          85945\n        ],\n        \"semantic_type\": \"\",\n        \"description\": \"\"\n      }\n    },\n    {\n      \"column\": \"actividad_extraescolar\",\n      \"properties\": {\n        \"dtype\": \"number\",\n        \"std\": 1,\n        \"min\": 0,\n        \"max\": 4,\n        \"num_unique_values\": 5,\n        \"samples\": [\n          2,\n          0,\n          3\n        ],\n        \"semantic_type\": \"\",\n        \"description\": \"\"\n      }\n    },\n    {\n      \"column\": \"motivacion\",\n      \"properties\": {\n        \"dtype\": \"number\",\n        \"std\": 0,\n        \"min\": 0,\n        \"max\": 1,\n        \"num_unique_values\": 2,\n        \"samples\": [\n          0,\n          1\n        ],\n        \"semantic_type\": \"\",\n        \"description\": \"\"\n      }\n    },\n    {\n      \"column\": \"rendimiento_escolar\",\n      \"properties\": {\n        \"dtype\": \"number\",\n        \"std\": 3.8566815228147955,\n        \"min\": 78.17,\n        \"max\": 90.9,\n        \"num_unique_values\": 20,\n        \"samples\": [\n          88.47,\n          80.11\n        ],\n        \"semantic_type\": \"\",\n        \"description\": \"\"\n      }\n    }\n  ]\n}"
                  }
                },
                "metadata": {}
              },
              {
                "output_type": "display_data",
                "data": {
                  "text/plain": "<IPython.core.display.HTML object>",
                  "text/html": "<h2>Últimos registros de Datos</h2>"
                },
                "metadata": {}
              },
              {
                "output_type": "display_data",
                "data": {
                  "text/plain": "      horas_estudio  taza_asistencia  lectura_libros  ingeso_familiar  \\\n1480              2               98              12            17493   \n1481              4               91               0            79639   \n1482              5               92              16            64383   \n1483              0               90              12            12994   \n1484              6               84               3            79280   \n1485              6               80               6            57234   \n1486              6               82              16            57291   \n1487              0               98               8            15594   \n1488              0               86               3            17371   \n1489              0               91              18            57315   \n1490              0               94               0            93564   \n1491              6               84               9            89526   \n1492              6               94               3            26626   \n1493              1               87               8            96005   \n1494              5               89              12            17130   \n1495              4               95              13            16828   \n1496              7               87               9            67514   \n1497              7               80               5            62664   \n1498              2               91              15            27883   \n1499              6               84               5            53059   \n\n      actividad_extraescolar  motivacion  rendimiento_escolar  \n1480                       0           1                82.50  \n1481                       4           1                83.85  \n1482                       0           0                87.52  \n1483                       1           0                78.65  \n1484                       2           1                84.36  \n1485                       2           0                82.68  \n1486                       3           0                91.49  \n1487                       1           1                79.06  \n1488                       2           1                75.84  \n1489                       3           1                90.43  \n1490                       1           0                74.27  \n1491                       2           1                89.15  \n1492                       0           0                77.53  \n1493                       4           0                84.73  \n1494                       1           0                83.54  \n1495                       3           1                89.12  \n1496                       1           0                85.52  \n1497                       3           1                87.01  \n1498                       1           1                85.92  \n1499                       3           1                85.97  ",
                  "text/html": "\n  <div id=\"df-250bb1bb-7e66-4eb5-90c1-c6eab866f952\" class=\"colab-df-container\">\n    <div>\n<style scoped>\n    .dataframe tbody tr th:only-of-type {\n        vertical-align: middle;\n    }\n\n    .dataframe tbody tr th {\n        vertical-align: top;\n    }\n\n    .dataframe thead th {\n        text-align: right;\n    }\n</style>\n<table border=\"1\" class=\"dataframe\">\n  <thead>\n    <tr style=\"text-align: right;\">\n      <th></th>\n      <th>horas_estudio</th>\n      <th>taza_asistencia</th>\n      <th>lectura_libros</th>\n      <th>ingeso_familiar</th>\n      <th>actividad_extraescolar</th>\n      <th>motivacion</th>\n      <th>rendimiento_escolar</th>\n    </tr>\n  </thead>\n  <tbody>\n    <tr>\n      <th>1480</th>\n      <td>2</td>\n      <td>98</td>\n      <td>12</td>\n      <td>17493</td>\n      <td>0</td>\n      <td>1</td>\n      <td>82.50</td>\n    </tr>\n    <tr>\n      <th>1481</th>\n      <td>4</td>\n      <td>91</td>\n      <td>0</td>\n      <td>79639</td>\n      <td>4</td>\n      <td>1</td>\n      <td>83.85</td>\n    </tr>\n    <tr>\n      <th>1482</th>\n      <td>5</td>\n      <td>92</td>\n      <td>16</td>\n      <td>64383</td>\n      <td>0</td>\n      <td>0</td>\n      <td>87.52</td>\n    </tr>\n    <tr>\n      <th>1483</th>\n      <td>0</td>\n      <td>90</td>\n      <td>12</td>\n      <td>12994</td>\n      <td>1</td>\n      <td>0</td>\n      <td>78.65</td>\n    </tr>\n    <tr>\n      <th>1484</th>\n      <td>6</td>\n      <td>84</td>\n      <td>3</td>\n      <td>79280</td>\n      <td>2</td>\n      <td>1</td>\n      <td>84.36</td>\n    </tr>\n    <tr>\n      <th>1485</th>\n      <td>6</td>\n      <td>80</td>\n      <td>6</td>\n      <td>57234</td>\n      <td>2</td>\n      <td>0</td>\n      <td>82.68</td>\n    </tr>\n    <tr>\n      <th>1486</th>\n      <td>6</td>\n      <td>82</td>\n      <td>16</td>\n      <td>57291</td>\n      <td>3</td>\n      <td>0</td>\n      <td>91.49</td>\n    </tr>\n    <tr>\n      <th>1487</th>\n      <td>0</td>\n      <td>98</td>\n      <td>8</td>\n      <td>15594</td>\n      <td>1</td>\n      <td>1</td>\n      <td>79.06</td>\n    </tr>\n    <tr>\n      <th>1488</th>\n      <td>0</td>\n      <td>86</td>\n      <td>3</td>\n      <td>17371</td>\n      <td>2</td>\n      <td>1</td>\n      <td>75.84</td>\n    </tr>\n    <tr>\n      <th>1489</th>\n      <td>0</td>\n      <td>91</td>\n      <td>18</td>\n      <td>57315</td>\n      <td>3</td>\n      <td>1</td>\n      <td>90.43</td>\n    </tr>\n    <tr>\n      <th>1490</th>\n      <td>0</td>\n      <td>94</td>\n      <td>0</td>\n      <td>93564</td>\n      <td>1</td>\n      <td>0</td>\n      <td>74.27</td>\n    </tr>\n    <tr>\n      <th>1491</th>\n      <td>6</td>\n      <td>84</td>\n      <td>9</td>\n      <td>89526</td>\n      <td>2</td>\n      <td>1</td>\n      <td>89.15</td>\n    </tr>\n    <tr>\n      <th>1492</th>\n      <td>6</td>\n      <td>94</td>\n      <td>3</td>\n      <td>26626</td>\n      <td>0</td>\n      <td>0</td>\n      <td>77.53</td>\n    </tr>\n    <tr>\n      <th>1493</th>\n      <td>1</td>\n      <td>87</td>\n      <td>8</td>\n      <td>96005</td>\n      <td>4</td>\n      <td>0</td>\n      <td>84.73</td>\n    </tr>\n    <tr>\n      <th>1494</th>\n      <td>5</td>\n      <td>89</td>\n      <td>12</td>\n      <td>17130</td>\n      <td>1</td>\n      <td>0</td>\n      <td>83.54</td>\n    </tr>\n    <tr>\n      <th>1495</th>\n      <td>4</td>\n      <td>95</td>\n      <td>13</td>\n      <td>16828</td>\n      <td>3</td>\n      <td>1</td>\n      <td>89.12</td>\n    </tr>\n    <tr>\n      <th>1496</th>\n      <td>7</td>\n      <td>87</td>\n      <td>9</td>\n      <td>67514</td>\n      <td>1</td>\n      <td>0</td>\n      <td>85.52</td>\n    </tr>\n    <tr>\n      <th>1497</th>\n      <td>7</td>\n      <td>80</td>\n      <td>5</td>\n      <td>62664</td>\n      <td>3</td>\n      <td>1</td>\n      <td>87.01</td>\n    </tr>\n    <tr>\n      <th>1498</th>\n      <td>2</td>\n      <td>91</td>\n      <td>15</td>\n      <td>27883</td>\n      <td>1</td>\n      <td>1</td>\n      <td>85.92</td>\n    </tr>\n    <tr>\n      <th>1499</th>\n      <td>6</td>\n      <td>84</td>\n      <td>5</td>\n      <td>53059</td>\n      <td>3</td>\n      <td>1</td>\n      <td>85.97</td>\n    </tr>\n  </tbody>\n</table>\n</div>\n    <div class=\"colab-df-buttons\">\n\n  <div class=\"colab-df-container\">\n    <button class=\"colab-df-convert\" onclick=\"convertToInteractive('df-250bb1bb-7e66-4eb5-90c1-c6eab866f952')\"\n            title=\"Convert this dataframe to an interactive table.\"\n            style=\"display:none;\">\n\n  <svg xmlns=\"http://www.w3.org/2000/svg\" height=\"24px\" viewBox=\"0 -960 960 960\">\n    <path d=\"M120-120v-720h720v720H120Zm60-500h600v-160H180v160Zm220 220h160v-160H400v160Zm0 220h160v-160H400v160ZM180-400h160v-160H180v160Zm440 0h160v-160H620v160ZM180-180h160v-160H180v160Zm440 0h160v-160H620v160Z\"/>\n  </svg>\n    </button>\n\n  <style>\n    .colab-df-container {\n      display:flex;\n      gap: 12px;\n    }\n\n    .colab-df-convert {\n      background-color: #E8F0FE;\n      border: none;\n      border-radius: 50%;\n      cursor: pointer;\n      display: none;\n      fill: #1967D2;\n      height: 32px;\n      padding: 0 0 0 0;\n      width: 32px;\n    }\n\n    .colab-df-convert:hover {\n      background-color: #E2EBFA;\n      box-shadow: 0px 1px 2px rgba(60, 64, 67, 0.3), 0px 1px 3px 1px rgba(60, 64, 67, 0.15);\n      fill: #174EA6;\n    }\n\n    .colab-df-buttons div {\n      margin-bottom: 4px;\n    }\n\n    [theme=dark] .colab-df-convert {\n      background-color: #3B4455;\n      fill: #D2E3FC;\n    }\n\n    [theme=dark] .colab-df-convert:hover {\n      background-color: #434B5C;\n      box-shadow: 0px 1px 3px 1px rgba(0, 0, 0, 0.15);\n      filter: drop-shadow(0px 1px 2px rgba(0, 0, 0, 0.3));\n      fill: #FFFFFF;\n    }\n  </style>\n\n    <script>\n      const buttonEl =\n        document.querySelector('#df-250bb1bb-7e66-4eb5-90c1-c6eab866f952 button.colab-df-convert');\n      buttonEl.style.display =\n        google.colab.kernel.accessAllowed ? 'block' : 'none';\n\n      async function convertToInteractive(key) {\n        const element = document.querySelector('#df-250bb1bb-7e66-4eb5-90c1-c6eab866f952');\n        const dataTable =\n          await google.colab.kernel.invokeFunction('convertToInteractive',\n                                                    [key], {});\n        if (!dataTable) return;\n\n        const docLinkHtml = 'Like what you see? Visit the ' +\n          '<a target=\"_blank\" href=https://colab.research.google.com/notebooks/data_table.ipynb>data table notebook</a>'\n          + ' to learn more about interactive tables.';\n        element.innerHTML = '';\n        dataTable['output_type'] = 'display_data';\n        await google.colab.output.renderOutput(dataTable, element);\n        const docLink = document.createElement('div');\n        docLink.innerHTML = docLinkHtml;\n        element.appendChild(docLink);\n      }\n    </script>\n  </div>\n\n\n<div id=\"df-7ded8464-26bd-4227-93f2-746da960d56c\">\n  <button class=\"colab-df-quickchart\" onclick=\"quickchart('df-7ded8464-26bd-4227-93f2-746da960d56c')\"\n            title=\"Suggest charts\"\n            style=\"display:none;\">\n\n<svg xmlns=\"http://www.w3.org/2000/svg\" height=\"24px\"viewBox=\"0 0 24 24\"\n     width=\"24px\">\n    <g>\n        <path d=\"M19 3H5c-1.1 0-2 .9-2 2v14c0 1.1.9 2 2 2h14c1.1 0 2-.9 2-2V5c0-1.1-.9-2-2-2zM9 17H7v-7h2v7zm4 0h-2V7h2v10zm4 0h-2v-4h2v4z\"/>\n    </g>\n</svg>\n  </button>\n\n<style>\n  .colab-df-quickchart {\n      --bg-color: #E8F0FE;\n      --fill-color: #1967D2;\n      --hover-bg-color: #E2EBFA;\n      --hover-fill-color: #174EA6;\n      --disabled-fill-color: #AAA;\n      --disabled-bg-color: #DDD;\n  }\n\n  [theme=dark] .colab-df-quickchart {\n      --bg-color: #3B4455;\n      --fill-color: #D2E3FC;\n      --hover-bg-color: #434B5C;\n      --hover-fill-color: #FFFFFF;\n      --disabled-bg-color: #3B4455;\n      --disabled-fill-color: #666;\n  }\n\n  .colab-df-quickchart {\n    background-color: var(--bg-color);\n    border: none;\n    border-radius: 50%;\n    cursor: pointer;\n    display: none;\n    fill: var(--fill-color);\n    height: 32px;\n    padding: 0;\n    width: 32px;\n  }\n\n  .colab-df-quickchart:hover {\n    background-color: var(--hover-bg-color);\n    box-shadow: 0 1px 2px rgba(60, 64, 67, 0.3), 0 1px 3px 1px rgba(60, 64, 67, 0.15);\n    fill: var(--button-hover-fill-color);\n  }\n\n  .colab-df-quickchart-complete:disabled,\n  .colab-df-quickchart-complete:disabled:hover {\n    background-color: var(--disabled-bg-color);\n    fill: var(--disabled-fill-color);\n    box-shadow: none;\n  }\n\n  .colab-df-spinner {\n    border: 2px solid var(--fill-color);\n    border-color: transparent;\n    border-bottom-color: var(--fill-color);\n    animation:\n      spin 1s steps(1) infinite;\n  }\n\n  @keyframes spin {\n    0% {\n      border-color: transparent;\n      border-bottom-color: var(--fill-color);\n      border-left-color: var(--fill-color);\n    }\n    20% {\n      border-color: transparent;\n      border-left-color: var(--fill-color);\n      border-top-color: var(--fill-color);\n    }\n    30% {\n      border-color: transparent;\n      border-left-color: var(--fill-color);\n      border-top-color: var(--fill-color);\n      border-right-color: var(--fill-color);\n    }\n    40% {\n      border-color: transparent;\n      border-right-color: var(--fill-color);\n      border-top-color: var(--fill-color);\n    }\n    60% {\n      border-color: transparent;\n      border-right-color: var(--fill-color);\n    }\n    80% {\n      border-color: transparent;\n      border-right-color: var(--fill-color);\n      border-bottom-color: var(--fill-color);\n    }\n    90% {\n      border-color: transparent;\n      border-bottom-color: var(--fill-color);\n    }\n  }\n</style>\n\n  <script>\n    async function quickchart(key) {\n      const quickchartButtonEl =\n        document.querySelector('#' + key + ' button');\n      quickchartButtonEl.disabled = true;  // To prevent multiple clicks.\n      quickchartButtonEl.classList.add('colab-df-spinner');\n      try {\n        const charts = await google.colab.kernel.invokeFunction(\n            'suggestCharts', [key], {});\n      } catch (error) {\n        console.error('Error during call to suggestCharts:', error);\n      }\n      quickchartButtonEl.classList.remove('colab-df-spinner');\n      quickchartButtonEl.classList.add('colab-df-quickchart-complete');\n    }\n    (() => {\n      let quickchartButtonEl =\n        document.querySelector('#df-7ded8464-26bd-4227-93f2-746da960d56c button');\n      quickchartButtonEl.style.display =\n        google.colab.kernel.accessAllowed ? 'block' : 'none';\n    })();\n  </script>\n</div>\n    </div>\n  </div>\n",
                  "application/vnd.google.colaboratory.intrinsic+json": {
                    "type": "dataframe",
                    "summary": "{\n  \"name\": \"display(visualizar)\",\n  \"rows\": 20,\n  \"fields\": [\n    {\n      \"column\": \"horas_estudio\",\n      \"properties\": {\n        \"dtype\": \"number\",\n        \"std\": 2,\n        \"min\": 0,\n        \"max\": 7,\n        \"num_unique_values\": 7,\n        \"samples\": [\n          2,\n          4,\n          1\n        ],\n        \"semantic_type\": \"\",\n        \"description\": \"\"\n      }\n    },\n    {\n      \"column\": \"taza_asistencia\",\n      \"properties\": {\n        \"dtype\": \"number\",\n        \"std\": 5,\n        \"min\": 80,\n        \"max\": 98,\n        \"num_unique_values\": 12,\n        \"samples\": [\n          89,\n          87,\n          98\n        ],\n        \"semantic_type\": \"\",\n        \"description\": \"\"\n      }\n    },\n    {\n      \"column\": \"lectura_libros\",\n      \"properties\": {\n        \"dtype\": \"number\",\n        \"std\": 5,\n        \"min\": 0,\n        \"max\": 18,\n        \"num_unique_values\": 11,\n        \"samples\": [\n          8,\n          12,\n          5\n        ],\n        \"semantic_type\": \"\",\n        \"description\": \"\"\n      }\n    },\n    {\n      \"column\": \"ingeso_familiar\",\n      \"properties\": {\n        \"dtype\": \"number\",\n        \"std\": 29056,\n        \"min\": 12994,\n        \"max\": 96005,\n        \"num_unique_values\": 20,\n        \"samples\": [\n          17493,\n          62664,\n          16828\n        ],\n        \"semantic_type\": \"\",\n        \"description\": \"\"\n      }\n    },\n    {\n      \"column\": \"actividad_extraescolar\",\n      \"properties\": {\n        \"dtype\": \"number\",\n        \"std\": 1,\n        \"min\": 0,\n        \"max\": 4,\n        \"num_unique_values\": 5,\n        \"samples\": [\n          4,\n          3,\n          1\n        ],\n        \"semantic_type\": \"\",\n        \"description\": \"\"\n      }\n    },\n    {\n      \"column\": \"motivacion\",\n      \"properties\": {\n        \"dtype\": \"number\",\n        \"std\": 0,\n        \"min\": 0,\n        \"max\": 1,\n        \"num_unique_values\": 2,\n        \"samples\": [\n          0,\n          1\n        ],\n        \"semantic_type\": \"\",\n        \"description\": \"\"\n      }\n    },\n    {\n      \"column\": \"rendimiento_escolar\",\n      \"properties\": {\n        \"dtype\": \"number\",\n        \"std\": 4.825958426762719,\n        \"min\": 74.27,\n        \"max\": 91.49,\n        \"num_unique_values\": 20,\n        \"samples\": [\n          82.5,\n          87.01\n        ],\n        \"semantic_type\": \"\",\n        \"description\": \"\"\n      }\n    }\n  ]\n}"
                  }
                },
                "metadata": {}
              }
            ]
          }
        },
        "51d37070970c4e7f9c568012876ce102": {
          "model_module": "@jupyter-widgets/base",
          "model_name": "LayoutModel",
          "model_module_version": "1.2.0",
          "state": {
            "_model_module": "@jupyter-widgets/base",
            "_model_module_version": "1.2.0",
            "_model_name": "LayoutModel",
            "_view_count": null,
            "_view_module": "@jupyter-widgets/base",
            "_view_module_version": "1.2.0",
            "_view_name": "LayoutView",
            "align_content": null,
            "align_items": null,
            "align_self": null,
            "border": null,
            "bottom": null,
            "display": null,
            "flex": null,
            "flex_flow": null,
            "grid_area": null,
            "grid_auto_columns": null,
            "grid_auto_flow": null,
            "grid_auto_rows": null,
            "grid_column": null,
            "grid_gap": null,
            "grid_row": null,
            "grid_template_areas": null,
            "grid_template_columns": null,
            "grid_template_rows": null,
            "height": null,
            "justify_content": null,
            "justify_items": null,
            "left": null,
            "margin": null,
            "max_height": null,
            "max_width": null,
            "min_height": null,
            "min_width": null,
            "object_fit": null,
            "object_position": null,
            "order": null,
            "overflow": null,
            "overflow_x": null,
            "overflow_y": null,
            "padding": null,
            "right": null,
            "top": null,
            "visibility": null,
            "width": null
          }
        }
      }
    }
  },
  "cells": [
    {
      "cell_type": "markdown",
      "metadata": {
        "id": "view-in-github",
        "colab_type": "text"
      },
      "source": [
        "<a href=\"https://colab.research.google.com/github/rpizarrog/innovacion-empresarial/blob/main/notebook_python/Caso_11_Validaci%C3%B3n_cruzada_para_regresi%C3%B3n_Datos_rendimiento_escolar.ipynb\" target=\"_parent\"><img src=\"https://colab.research.google.com/assets/colab-badge.svg\" alt=\"Open In Colab\"/></a>"
      ]
    },
    {
      "cell_type": "code",
      "execution_count": null,
      "metadata": {
        "id": "tiPm4lcLVVv0"
      },
      "outputs": [],
      "source": []
    },
    {
      "cell_type": "markdown",
      "source": [
        "# Objetivo\n",
        "\n",
        "Realizar validación cruzada y evaluar modelos de regresión multivariada con datos de rendimieno escolar\n",
        "\n",
        "\n",
        "\n"
      ],
      "metadata": {
        "id": "ddqhjnT_VXMM"
      }
    },
    {
      "cell_type": "markdown",
      "source": [
        "# Los datos\n",
        "\n",
        "El contexto de los datos se relaciona con variables que afectan al rendimiento escolar de un alumno de educación superior.\n",
        "\n",
        "## Variables independientes\n",
        "\n",
        "* Horas de estudio por semana: Esta variable cuantifica el tiempo dedicado al estudio fuera del horario escolar. Un mayor número de horas de estudio se asocia generalmente con un mejor rendimiento escolar, aunque la calidad del estudio y la eficiencia también juegan un papel importante.\n",
        "\n",
        "* Asistencia a clases (tasa de asistencia): Representa el porcentaje de clases a las que el alumno asiste durante un periodo determinado. Las altas tasas de asistencia suelen correlacionarse con un mejor rendimiento, ya que el estudiante tiene más oportunidades de aprender y participar en actividades educativas.\n",
        "\n",
        "* Número de libros leídos por año: Esta variable mide el hábito de lectura del alumno fuera del material escolar obligatorio. Leer diversifica los conocimientos, mejora la comprensión lectora y fomenta habilidades analíticas, lo cual puede repercutir positivamente en el rendimiento escolar.\n",
        "\n",
        "* Ingreso familiar: Medido como el ingreso total del hogar del alumno. Aunque el ingreso familiar no afecta directamente la capacidad cognitiva o el esfuerzo del estudiante, sí influye en la accesibilidad a recursos educativos, como libros, tecnología, clases particulares y un entorno de estudio adecuado, que pueden mejorar las condiciones de aprendizaje.\n",
        "\n",
        "* Número de actividades extracurriculares: Cuantifica la participación del estudiante en actividades fuera del currículo académico, como deportes, música, arte, clubes de ciencia, etc. La participación en actividades extracurriculares puede fomentar habilidades sociales, de liderazgo y de gestión del tiempo, las cuales son útiles para el éxito académico. Sin embargo, una carga excesiva de actividades puede tener un efecto contrario, reduciendo el tiempo disponible para el estudio y la recuperación.\n",
        "\n",
        "* Nivel de motivación. Valore numéric que establece el gardo de motivación de un estudiante.\n",
        "\n",
        "\n",
        "## Variable dependite\n",
        "\n",
        "* rendimiento escolar. Es el valor numérico del promeio escolar de un estudiante.\n",
        "\n"
      ],
      "metadata": {
        "id": "XlVYq5pQVou7"
      }
    },
    {
      "cell_type": "markdown",
      "source": [
        "# Desarrollo\n",
        "\n",
        "## Cargar librerías"
      ],
      "metadata": {
        "id": "BDKdjr7CWOvk"
      }
    },
    {
      "cell_type": "code",
      "source": [
        "import numpy as np\n",
        "import pandas as pd\n",
        "\n",
        "import matplotlib.pyplot as plt\n",
        "import seaborn as sns\n",
        "\n",
        "import ipywidgets as widgets\n",
        "from IPython.display import display, HTML, clear_output\n",
        "\n",
        "import time # Para medir el tiempo de ejecucón\n",
        "\n",
        "# Para árboles de regresión\n",
        "from sklearn.tree import DecisionTreeRegressor\n",
        "from sklearn.metrics import mean_squared_error, r2_score\n",
        "from sklearn.model_selection import train_test_split\n",
        "\n",
        "# Para random Forest\n",
        "from sklearn.ensemble import RandomForestRegressor\n",
        "\n",
        "from sklearn.tree import DecisionTreeRegressor, plot_tree # Para visualiar árbol\n",
        "from sklearn.tree import export_text # Para reglas de asociación\n",
        "\n",
        "\n",
        "# Para modelo polinomial\n",
        "\n",
        "from sklearn.preprocessing import PolynomialFeatures\n",
        "from sklearn.linear_model import LinearRegression\n",
        "from sklearn.model_selection import train_test_split # Para partir datos en datos entrenamieto y datos validación\n",
        "\n",
        "# Para modelo de SVR\n",
        "from sklearn.preprocessing import StandardScaler\n",
        "from sklearn.svm import SVR\n",
        "from sklearn.model_selection import train_test_split # Para partir datos en datos entrenamieto y datos validación\n",
        "\n",
        "# Para escalar datos\n",
        "from sklearn.preprocessing import StandardScaler # Para escalar datos\n",
        "\n",
        "from sklearn import metrics # Para determinar métricas.\n",
        "from sklearn.metrics import mean_squared_error, r2_score\n",
        "\n",
        "# Para determinar estadísticos ...\n",
        "import statsmodels.api as sm\n",
        "\n",
        "# Para validación cruzada\n",
        "from sklearn.model_selection import cross_val_score, KFold\n",
        "from sklearn.preprocessing import StandardScaler"
      ],
      "metadata": {
        "id": "WNJ0q8Y2WQME"
      },
      "execution_count": 1,
      "outputs": []
    },
    {
      "cell_type": "markdown",
      "source": [
        "## Cargar funciones\n",
        "\n"
      ],
      "metadata": {
        "id": "36oVR7RkWW-r"
      }
    },
    {
      "cell_type": "code",
      "source": [
        "def f_ver_temperaturas (fechas, temperaturas):\n",
        "    # Crear un DataFrame con las fechas y temperaturas\n",
        "    df = pd.DataFrame({'fecha': fechas, 'temperatura': temperaturas})\n",
        "\n",
        "    # Asegurarse de que 'fecha' es un tipo datetime\n",
        "    df['fecha'] = pd.to_datetime(df['fecha'])\n",
        "\n",
        "    # Establecer 'fecha' como el índice del DataFrame\n",
        "    df.set_index('fecha', inplace=True)\n",
        "\n",
        "    # Agrupar por mes y año, y calcular la temperatura promedio\n",
        "    df_resampled = df.resample('M').mean()\n",
        "\n",
        "    # Crear la visualización\n",
        "    plt.figure(figsize=(12, 6))\n",
        "    plt.plot(df_resampled.index, df_resampled['temperatura'], marker='o', linestyle='-', color='b')\n",
        "    plt.title('Temperatura promedio diario mensual por Año')\n",
        "    plt.xlabel('Fecha')\n",
        "    plt.ylabel('Temperatura Promedio (°C)')\n",
        "    plt.grid(True)\n",
        "    plt.xticks(rotation=45)\n",
        "    plt.tight_layout()\n",
        "    plt.show()\n",
        "\n",
        "def f_matriz_correlacion_variables(datos):\n",
        "  # Calcular la matriz de correlación\n",
        "  corr_matrix = datos.corr()\n",
        "\n",
        "  # Visualizar la matriz de correlación\n",
        "  plt.figure(figsize=(10, 8))\n",
        "  sns.heatmap(corr_matrix, annot=True, fmt=\".2f\")\n",
        "  plt.show()\n",
        "\n",
        "# Esta función regresa los valores de los Coeficientes\n",
        "# El intercept_0 es el coeficiene de intersección y el resto\n",
        "# son los 8 coeficiene de las 8 variables predictoras del 0 al 7 por ser un arreglo\n",
        "def f_coeficientes_modelo (modelo):\n",
        "  return modelo.intercept_, modelo.coef_[0], modelo.coef_[1], modelo.coef_[2], modelo.coef_[3], modelo.coef_[4], modelo.coef_[5], modelo.coef_[6], modelo.coef_[7]\n",
        "\n",
        "# funci´pn para ayudar a los hiperplanso, npumero de rengloes en la matriz de visualizaciones\n",
        "def f_ajustar_y_dividir(numero):\n",
        "  # Verificar si el número es impar (non)\n",
        "  if numero % 2 != 0:\n",
        "    numero += 1  # Hacerlo par incrementándolo en 1\n",
        "  return numero / 2  # Dividir el número resultante entre 2 y retornarlo\n",
        "\n",
        "# Función que deuelve interpretaciones con base en el valor w de acuerdo al hiperplano lineal\n",
        "def f_interpretar_relacion(w, nombres_variables, dependiente):\n",
        "    interpretaciones = []  # Inicializar una lista vacía para almacenar las interpretaciones\n",
        "\n",
        "    for i, coef in enumerate(w):\n",
        "        if coef > 0:\n",
        "            interpretacion = \"La relación entre la variable independiente \" + nombres_variables[i] + \" y la dependiente es ascendente. Cuando aumenta \" + nombres_variables[i] + \", aumenta la variable \" + dependiente\n",
        "        elif coef < 0:\n",
        "            interpretacion = \"La relación entre la variable independiente \" + nombres_variables[i] + \" y la dependiente es descendente. Cuando aumenta \" + nombres_variables[i] + \", disminuye la variable \" + dependiente\n",
        "        else:\n",
        "            interpretacion = \"La variable independiente \" + nombres_variables[i] + \" no tiene una relación lineal clara con la variable \"+ dependiente\n",
        "        interpretaciones.append(interpretacion)  # Añadir la interpretación actual a la lista de interpretaciones\n",
        "\n",
        "    return interpretaciones  # Devolver la lista completa de interpretaciones\n",
        "\n",
        "\n",
        "def f_hiperplanos_lineal_svr(w, b, error, nombres_variables, datos_escalados):\n",
        "  # Ajustar el número de filas para los gráficos\n",
        "  num_variables = len(nombres_variables)\n",
        "  renglones = int(f_ajustar_y_dividir(num_variables))\n",
        "  columnas = 2 if num_variables > 1 else 1\n",
        "\n",
        "  # Configura la matriz de visualizaciones para hiperplanos debe ser cuadrada\n",
        "  fig, axs = plt.subplots(renglones, 2, figsize=(15, 9))\n",
        "  if renglones * columnas == 1:\n",
        "    axs = np.array([axs]) # Asegurarse de que axs sea iterable\n",
        "\n",
        "  for i, nombre_var in enumerate(nombres_variables):\n",
        "     # Dibujando hiperplanos\n",
        "    x_values = datos_escalados[nombre_var]\n",
        "    y_hyperplano = w[0,i] * x_values + b\n",
        "    y_margen_superior = y_hyperplano + error\n",
        "    y_margen_inferior = y_hyperplano - error\n",
        "\n",
        "    # Encontrar el índice de la subfigura actual\n",
        "    fila = i // columnas\n",
        "    columna = i % columnas\n",
        "\n",
        "    axs[fila, columna].plot(x_values, y_hyperplano, 'r', label=f'Hiperplano para {nombre_var}')\n",
        "    axs[fila, columna].plot(x_values, y_margen_superior, 'b--', label='Margen superior')\n",
        "    axs[fila, columna].plot(x_values, y_margen_inferior, 'b--', label='Margen inferior')\n",
        "    axs[fila, columna].set_xlabel(nombre_var)\n",
        "    axs[fila, columna].set_ylabel('y')\n",
        "    axs[fila, columna].legend()\n",
        "\n",
        "  # Esconder gráficos vacíos si los hay\n",
        "  for j in range(i + 1, renglones * columnas):\n",
        "    fila = j // columnas\n",
        "    columna = j % columnas\n",
        "    axs[fila, columna].axis('off')\n",
        "\n",
        "  plt.tight_layout()\n",
        "  plt.show()\n",
        "\n",
        "# Función para trazar las predicciones del modelo SVR para cada variable independiente en una matriz de subgráficos.\n",
        "def f_plot_svr_predicciones(modelo, X_train, X_test, y_test, nombres_variables):\n",
        "    \"\"\"\n",
        "    Función para trazar las predicciones del modelo SVR para cada variable independiente en una matriz de subgráficos.\n",
        "\n",
        "    :param modelo: modelo SVR entrenado.\n",
        "    :param X_train: conjunto de entrenamiento (para calcular los promedios).\n",
        "    :param X_test: conjunto de prueba.\n",
        "    :param y_test: valores reales de la variable dependiente correspondientes a X_test.\n",
        "    :param nombres_variables: lista de nombres de las variables independientes.\n",
        "\n",
        "\n",
        "    \"\"\"\n",
        "\n",
        "      # Ajustar el número de filas para los gráficos\n",
        "    num_variables = len(nombres_variables)\n",
        "    renglones = int(f_ajustar_y_dividir(num_variables))\n",
        "    columnas = 4 if num_variables > 1 else 1\n",
        "\n",
        "    X_train_mean = X_train.mean().values  # Calculamos la media de X_train\n",
        "    n_vars = len(nombres_variables)\n",
        "    fig, axs = plt.subplots(renglones, columnas, figsize=(20, 10))  # Ajusta el tamaño según necesites\n",
        "    axs = axs.flatten()  # Aplanar el array de ejes para facilitar su manejo\n",
        "\n",
        "    for i, nombre_var in enumerate(nombres_variables):\n",
        "        variable_values = X_test[nombre_var].values\n",
        "        X_pred = np.tile(X_train_mean, (len(variable_values), 1))\n",
        "        indice_var = nombres_variables.index(nombre_var)\n",
        "        X_pred[:, indice_var] = variable_values\n",
        "\n",
        "        # Hacemos predicciones utilizando el modelo\n",
        "        y_pred = modelo.predict(X_pred)\n",
        "\n",
        "        # Graficar en el subgráfico correspondiente\n",
        "        axs[i].scatter(variable_values, y_test, color='red', label='Datos reales', alpha=0.5)\n",
        "        axs[i].scatter(variable_values, y_pred, color='blue', label='Predicciones del modelo', alpha=0.5)\n",
        "        axs[i].set_xlabel(nombre_var)\n",
        "        axs[i].set_ylabel('Temperatura')\n",
        "        axs[i].set_title(f'{nombre_var} vs. Temp')\n",
        "        if i == 0:  # Solo añadimos la leyenda al primer subgráfico para evitar repetición\n",
        "            axs[i].legend()\n",
        "\n",
        "    # Asegurarse de que no haya subgráficos vacíos si el número de variables es menor que el número total de subgráficos\n",
        "    for ax in axs[n_vars:]:\n",
        "        fig.delaxes(ax)\n",
        "\n",
        "    plt.tight_layout()\n",
        "    plt.show()"
      ],
      "metadata": {
        "id": "ZYepsqIZWb5S"
      },
      "execution_count": 2,
      "outputs": []
    },
    {
      "cell_type": "markdown",
      "source": [
        "## Cargar widgets\n",
        "\n"
      ],
      "metadata": {
        "id": "0PDy-EyIWcqc"
      }
    },
    {
      "cell_type": "code",
      "source": [
        "# Crear un widget de salida\n",
        "visualizar = widgets.Output()\n",
        "\n",
        "\n",
        "# Función para actualizar y mostrar el contenido dinámicamente en el widget de salida\n",
        "def f_visualizar_datos(datos1, datos2, titulo1, titulo2):\n",
        "    with visualizar:\n",
        "        #global titulo1, titulo2\n",
        "        #titulo1 = \"Primeros 20 registros de datos\"\n",
        "        visualizar.clear_output(wait=True)  # Limpiar el contenido anterior\n",
        "        display(HTML(f\"<h2>{titulo1}</h2>\"))  # Establecer el nuevo título\n",
        "        # Visualizar datos\n",
        "        display(datos1)\n",
        "\n",
        "        #titulo2 = \"Últimos 20 registros de datos\"\n",
        "        display(HTML(f\"<h2>{titulo2}</h2>\"))  # Establecer el nuevo título\n",
        "        # Visualizar datos\n",
        "        display(datos2)"
      ],
      "metadata": {
        "id": "x7L432p-Wezb"
      },
      "execution_count": 3,
      "outputs": []
    },
    {
      "cell_type": "markdown",
      "source": [
        "## Cargar datos\n",
        "\n"
      ],
      "metadata": {
        "id": "OaOUIJ75WhpZ"
      }
    },
    {
      "cell_type": "code",
      "source": [
        "datos = pd.read_csv(\"https://raw.githubusercontent.com/rpizarrog/innovacion-empresarial/main/datos/datos_rendimiento_escolar_1500.csv\")\n",
        "\n",
        "# Llamar a la función para mostrar datos de entrenamiento ordenados por índice\n",
        "f_visualizar_datos(datos.head(20), datos.tail(20), \"Primeros registros de Datos\", \"Últimos registros de Datos\")\n",
        "\n",
        "# Para mostrar el widget de salida\n",
        "display(visualizar)"
      ],
      "metadata": {
        "colab": {
          "base_uri": "https://localhost:8080/",
          "height": 1000,
          "referenced_widgets": [
            "547191b8fd374927ae737319152ced19",
            "51d37070970c4e7f9c568012876ce102"
          ]
        },
        "id": "BEdabaZeWjCz",
        "outputId": "0be88475-3dfb-42e6-edd1-39fd47ad4acd"
      },
      "execution_count": 44,
      "outputs": [
        {
          "output_type": "display_data",
          "data": {
            "text/plain": [
              "Output()"
            ],
            "application/vnd.jupyter.widget-view+json": {
              "version_major": 2,
              "version_minor": 0,
              "model_id": "547191b8fd374927ae737319152ced19"
            }
          },
          "metadata": {}
        }
      ]
    },
    {
      "cell_type": "markdown",
      "source": [
        "## Escalar datos\n",
        "\n",
        "\n",
        "\n"
      ],
      "metadata": {
        "id": "NwyAaCW2W57V"
      }
    },
    {
      "cell_type": "code",
      "source": [
        "# Escalar las características con StandardScaler\n",
        "# Crear instancia de StandardScaler\n",
        "escalar = StandardScaler()\n",
        "\n",
        "# Escalar las características excluyendo 'temperatura'\n",
        "datos_escalados = datos.drop(columns=['rendimiento_escolar'])\n",
        "\n",
        "datos_escalados = escalar.fit_transform(datos_escalados)\n",
        "\n",
        "# print (datos_escalados)\n",
        "\n",
        "# Nombres de columnas para dejar los mismos nombres que original sin fecha ni temperatura\n",
        "# horas_estudio\ttaza_asistencia\tlectura_libros\tingeso_familiar\tactividad_extraescolar\tmotivacion\n",
        "nombres_variables = ['horas_estudio', 'taza_asistencia', 'lectura_libros', 'ingeso_familiar', 'actividad_extraescolar', 'motivacion']\n",
        "\n",
        "# Convertir de nuevo a DataFrame y asignar los nombres de las columnas\n",
        "datos_escalados = pd.DataFrame(datos_escalados, columns=nombres_variables)\n",
        "\n",
        "# Añadir la columna 'temperatura' del DataFrame original\n",
        "datos_escalados['rendimiento_escolar'] = datos['rendimiento_escolar']\n",
        "\n",
        "# Llamar a la función para mostrar datos de entrenamiento ordenados por índice\n",
        "f_visualizar_datos(datos_escalados.head(20), datos_escalados.tail(20), \"Primeros registros escalados\", \"Últimos registros escalados\")\n",
        "\n",
        "# Para mostrar el widget de salida\n",
        "display(visualizar)"
      ],
      "metadata": {
        "colab": {
          "base_uri": "https://localhost:8080/",
          "height": 1000,
          "referenced_widgets": [
            "547191b8fd374927ae737319152ced19",
            "51d37070970c4e7f9c568012876ce102"
          ]
        },
        "id": "-nEmzvUsXAQv",
        "outputId": "c60add65-9f70-4012-cc97-2c97ce3e1560"
      },
      "execution_count": 5,
      "outputs": [
        {
          "output_type": "display_data",
          "data": {
            "text/plain": [
              "Output()"
            ],
            "application/vnd.jupyter.widget-view+json": {
              "version_major": 2,
              "version_minor": 0,
              "model_id": "547191b8fd374927ae737319152ced19"
            }
          },
          "metadata": {}
        }
      ]
    },
    {
      "cell_type": "markdown",
      "source": [
        "## Construcción de modelos\n",
        "\n",
        "Se sacan la variales independientes y dependiente siendo estas arreglos numpy."
      ],
      "metadata": {
        "id": "5QCMRMIUXm8c"
      }
    },
    {
      "cell_type": "code",
      "source": [
        "# variables independientes\n",
        "independientes = datos_escalados.drop(columns=['rendimiento_escolar']).values\n",
        "\n",
        "# Variable dependiente\n",
        "dependiente = datos_escalados['rendimiento_escolar'].values\n",
        "\n",
        "n = independientes.shape[0] # Total de registros\n",
        "p = independientes.shape[1] # Total de variables\n",
        "\n",
        "print (\"Registros\", n)\n",
        "print (\"Predictoes o variable independientes\", p)"
      ],
      "metadata": {
        "colab": {
          "base_uri": "https://localhost:8080/"
        },
        "id": "3NRzhDi9Xv4F",
        "outputId": "8e63ff00-be38-43e8-b03d-4fc41aed2e44"
      },
      "execution_count": 8,
      "outputs": [
        {
          "output_type": "stream",
          "name": "stdout",
          "text": [
            "Registros 1500\n",
            "Predictoes o variable independientes 6\n"
          ]
        }
      ]
    },
    {
      "cell_type": "markdown",
      "source": [
        "### Validación cruzada con modelo de regresión lineal múltiple"
      ],
      "metadata": {
        "id": "Y3PBHTibXp8E"
      }
    },
    {
      "cell_type": "code",
      "source": [
        "conjuntos = 5\n",
        "\n",
        "# Definir el modelo de regresión lineal múltiple\n",
        "modelo_rl = LinearRegression()\n",
        "\n",
        "# Configurar K-Fold para la validación cruzada\n",
        "kfold = KFold(n_splits=conjuntos, shuffle=True, random_state=2024)\n",
        "\n",
        "# Calcular el puntaje de validación cruzada usando MSE como la métrica de evaluación\n",
        "# Nota: cross_val_score por defecto maximiza el score, por lo que para MSE, que es un \"menor es mejor\", se usa su negativo.\n",
        "puntajes_mse = cross_val_score(modelo_rl, independientes, dependiente, cv=kfold, scoring='neg_mean_squared_error')\n",
        "\n",
        "# Convertir los puntajes a errores cuadráticos medios positivos\n",
        "mse_scores = -puntajes_mse\n",
        "\n",
        "print(f\"Errores Cuadráticos Medios (MSE) por fold: {mse_scores}\")\n",
        "print(f\"Promedio MSE: {np.mean(mse_scores)}\")\n",
        "print(f\"Desviación estándar MSE: {np.std(mse_scores)}\")\n",
        "\n",
        "# Ya tienes calculados los MSE scores, así que calculamos el RMSE promedio\n",
        "rmse_scores = np.sqrt(mse_scores)\n",
        "promedio_rmse = np.mean(rmse_scores)\n",
        "print(f\"Regresión lineal multiple. Promedio RMSE: {np.round(promedio_rmse, 6)}\\n\")\n",
        "\n",
        "# Para R^2, usar cross_val_score nuevamente con scoring='r2'\n",
        "puntajes_r2 = cross_val_score(modelo_rl, independientes, dependiente, cv=kfold, scoring='r2')\n",
        "promedio_r2 = np.mean(puntajes_r2)\n",
        "\n",
        "# Calculando el R^2 ajustado promedio\n",
        "r2_ajustado = 1 - (1-promedio_r2) * ((n-1)/(n-p-1))\n",
        "\n",
        "print(f\"Promedio r squared: {promedio_r2}\")\n",
        "print(f\"r squared Ajustado Promedio: {r2_ajustado}\")"
      ],
      "metadata": {
        "colab": {
          "base_uri": "https://localhost:8080/"
        },
        "id": "NbAoCFjxXqfF",
        "outputId": "9f38d345-1928-45a4-c776-47723cf99fd9"
      },
      "execution_count": 49,
      "outputs": [
        {
          "output_type": "stream",
          "name": "stdout",
          "text": [
            "Errores Cuadráticos Medios (MSE) por fold: [8.20549878e-06 8.35736128e-06 8.08404020e-06 8.31338219e-06\n",
            " 7.41639070e-06]\n",
            "Promedio MSE: 8.075334628393274e-06\n",
            "Desviación estándar MSE: 3.427626757223354e-07\n",
            "Regresión lineal multiple. Promedio RMSE: 0.002841\n",
            "\n",
            "Promedio r squared: 0.9999997293357545\n",
            "r squared Ajustado Promedio: 0.9999997282480215\n"
          ]
        }
      ]
    },
    {
      "cell_type": "markdown",
      "source": [
        "### Modelo árbol de regresión\n"
      ],
      "metadata": {
        "id": "PKEvSddFYcB4"
      }
    },
    {
      "cell_type": "code",
      "source": [
        "conjuntos = 5\n",
        "\n",
        "# Definir el modelo de árbol de decisión para regresión\n",
        "modelo_arbol = DecisionTreeRegressor(random_state=2024, max_depth=3)\n",
        "\n",
        "# Configurar K-Fold para la validación cruzada\n",
        "kfold = KFold(n_splits=conjuntos, shuffle=True, random_state=2024)\n",
        "\n",
        "# Calcular el puntaje de validación cruzada usando MSE como la métrica de evaluación\n",
        "puntajes_mse = cross_val_score(modelo_arbol, independientes, dependiente, cv=kfold, scoring='neg_mean_squared_error')\n",
        "\n",
        "# Convertir los puntajes a errores cuadráticos medios positivos y calcular el RMSE\n",
        "mse_scores = -puntajes_mse\n",
        "rmse_scores = np.sqrt(mse_scores)\n",
        "\n",
        "print(f\"RMSE por fold: {rmse_scores}\")\n",
        "print(f\"Árbol de regresión Promedio RMSE: {np.round(np.mean(rmse_scores), 6)}\")\n",
        "print(f\"Desviación estándar RMSE: {np.std(rmse_scores)}\\n\")\n",
        "\n",
        "# Calcular R^2 como métrica de evaluación adicional\n",
        "puntajes_r2 = cross_val_score(modelo_arbol, independientes, dependiente, cv=kfold, scoring='r2')\n",
        "\n",
        "print(f\"R^2 por fold: {puntajes_r2}\")\n",
        "print(f\"Promedio R^2: {np.round(np.mean(puntajes_r2), 2)}\")\n",
        "print(f\"Desviación estándar R^2: {np.std(puntajes_r2)}\")"
      ],
      "metadata": {
        "colab": {
          "base_uri": "https://localhost:8080/"
        },
        "id": "rBv7hq0eYe7j",
        "outputId": "fdf1eaa6-30cb-45f2-c20a-113dda8ac6c2"
      },
      "execution_count": 35,
      "outputs": [
        {
          "output_type": "stream",
          "name": "stdout",
          "text": [
            "RMSE por fold: [3.17211406 3.25231918 3.09262155 3.18610355 3.07734026]\n",
            "Árbol de regresión Promedio RMSE: 3.1561\n",
            "Desviación estándar RMSE: 0.0642610376739509\n",
            "\n",
            "R^2 por fold: [0.66647436 0.68092482 0.64462822 0.66636548 0.67357413]\n",
            "Promedio R^2: 0.67\n",
            "Desviación estándar R^2: 0.012136354964044773\n"
          ]
        }
      ]
    },
    {
      "cell_type": "markdown",
      "source": [
        "### Random Forest\n",
        "\n"
      ],
      "metadata": {
        "id": "9FyDk0XPZHLa"
      }
    },
    {
      "cell_type": "code",
      "source": [
        "# Número de conjuntos para la validación cruzada\n",
        "conjuntos = 5\n",
        "\n",
        "# Definir el modelo de Random Forest para regresión\n",
        "modelo_rf = RandomForestRegressor(random_state=2024, n_estimators=300, max_depth=3)\n",
        "\n",
        "# Configurar K-Fold para la validación cruzada\n",
        "kfold = KFold(n_splits=conjuntos, shuffle=True, random_state=2024)\n",
        "\n",
        "# Calcular el puntaje de validación cruzada usando MSE como la métrica de evaluación para Random Forest\n",
        "puntajes_mse_rf = cross_val_score(modelo_rf, independientes, dependiente, cv=kfold, scoring='neg_mean_squared_error')\n",
        "\n",
        "# Convertir los puntajes a errores cuadráticos medios positivos y calcular el RMSE para Random Forest\n",
        "mse_scores_rf = -puntajes_mse_rf\n",
        "rmse_scores_rf = np.sqrt(mse_scores_rf)\n",
        "\n",
        "print(f\"Random Forest - RMSE por fold: {rmse_scores_rf}\")\n",
        "print(f\"Random Forest - Promedio RMSE: {np.round(np.mean(rmse_scores_rf), 6)}\")\n",
        "print(f\"Random Forest - Desviación estándar RMSE: {np.std(rmse_scores_rf)}\\n\")\n",
        "\n",
        "# Calcular R^2 como métrica de evaluación adicional para Random Forest\n",
        "puntajes_r2_rf = cross_val_score(modelo_rf, independientes, dependiente, cv=kfold, scoring='r2')\n",
        "\n",
        "print(f\"Random Forest - R^2 por fold: {puntajes_r2_rf}\")\n",
        "print(f\"Random Forest - Promedio R^2: {np.round(np.mean(puntajes_r2_rf), 2)}\")\n",
        "print(f\"Random Forest - Desviación estándar R^2: {np.std(puntajes_r2_rf)}\")"
      ],
      "metadata": {
        "colab": {
          "base_uri": "https://localhost:8080/"
        },
        "id": "v7c_vWxHZKIZ",
        "outputId": "04aab41e-178a-4f06-c2be-ecde077e2ee1"
      },
      "execution_count": 33,
      "outputs": [
        {
          "output_type": "stream",
          "name": "stdout",
          "text": [
            "Random Forest - RMSE por fold: [2.72945351 2.70934727 2.50473812 2.62892456 2.68544865]\n",
            "Random Forest - Promedio RMSE: 2.651582\n",
            "Random Forest - Desviación estándar RMSE: 0.08077652528532994\n",
            "\n",
            "Random Forest - R^2 por fold: [0.75306478 0.77857021 0.76689369 0.77285276 0.75141939]\n",
            "Random Forest - Promedio R^2: 0.76\n",
            "Random Forest - Desviación estándar R^2: 0.010726767450612\n"
          ]
        }
      ]
    },
    {
      "cell_type": "markdown",
      "source": [
        "### Polinomial nivel ?\n"
      ],
      "metadata": {
        "id": "SPxFISBJZiF7"
      }
    },
    {
      "cell_type": "code",
      "source": [
        "from sklearn.pipeline import Pipeline\n",
        "\n",
        "# Configuración inicial\n",
        "conjuntos = 5\n",
        "grado = 2  # Grado del polinomio\n",
        "\n",
        "# Crear una tubería (pipeline) que primero transforme las características al espacio polinomial, y luego aplique regresión lineal\n",
        "modelo_pol = Pipeline([\n",
        "    ('poly', PolynomialFeatures(degree=grado)),\n",
        "    ('linear', LinearRegression())\n",
        "])\n",
        "\n",
        "# Configurar K-Fold para la validación cruzada\n",
        "kfold = KFold(n_splits=conjuntos, shuffle=True, random_state=2024)\n",
        "\n",
        "# Ahora la validación cruzada\n",
        "\n",
        "# Calcular el puntaje de validación cruzada usando MSE como la métrica de evaluación\n",
        "puntajes_mse = cross_val_score(modelo_pol, independientes, dependiente, cv=kfold, scoring='neg_mean_squared_error')\n",
        "\n",
        "# Convertir los puntajes a errores cuadráticos medios positivos y calcular el RMSE\n",
        "mse_scores = -puntajes_mse\n",
        "rmse_scores = np.sqrt(mse_scores)\n",
        "\n",
        "print(f\"Modelo Polinomial - RMSE por fold: {rmse_scores}\", \"Grado \", grado)\n",
        "print(f\"Modelo Polinomial - Promedio RMSE: {np.round(np.mean(rmse_scores), 6)}\", \"Grado \", grado)\n",
        "print(f\"Modelo Polinomial - Desviación estándar RMSE: {np.std(rmse_scores)}\\n\")\n",
        "\n",
        "# Calcular R^2 como métrica de evaluación adicional\n",
        "puntajes_r2 = cross_val_score(modelo_pol, independientes, dependiente, cv=kfold, scoring='r2')\n",
        "\n",
        "print(f\"Modelo Polinomial - R^2 por fold: {puntajes_r2}\", \"Grado \", grado)\n",
        "print(f\"Modelo Polinomial - Promedio R^2: {np.mean(puntajes_r2)}\")\n",
        "print(f\"Modelo Polinomial - Desviación estándar R^2: {np.std(puntajes_r2)}\")"
      ],
      "metadata": {
        "colab": {
          "base_uri": "https://localhost:8080/"
        },
        "id": "n2Ameh6YZlVL",
        "outputId": "d29535a5-8cdf-4f85-a23c-719ab294dd81"
      },
      "execution_count": 41,
      "outputs": [
        {
          "output_type": "stream",
          "name": "stdout",
          "text": [
            "Modelo Polinomial - RMSE por fold: [0.00289213 0.00288488 0.00284377 0.00291227 0.00274971] Grado  2\n",
            "Modelo Polinomial - Promedio RMSE: 0.002857 Grado  2\n",
            "Modelo Polinomial - Desviación estándar RMSE: 5.788177840136891e-05\n",
            "\n",
            "Modelo Polinomial - R^2 por fold: [0.99999972 0.99999975 0.9999997  0.99999972 0.99999974] Grado  2\n",
            "Modelo Polinomial - Promedio R^2: 0.999999726370109\n",
            "Modelo Polinomial - Desviación estándar R^2: 1.6966785277695388e-08\n"
          ]
        }
      ]
    },
    {
      "cell_type": "markdown",
      "source": [
        "### MSR kernel lineal\n"
      ],
      "metadata": {
        "id": "JltxyARLbszS"
      }
    },
    {
      "cell_type": "code",
      "source": [
        "# Número de conjuntos para la validación cruzada\n",
        "conjuntos = 5\n",
        "error = 0.1\n",
        "\n",
        "# Definir el modelo SVR con kernel lineal\n",
        "modelo_svr_lineal = SVR(kernel='linear', epsilon=error)\n",
        "\n",
        "# Configurar K-Fold para la validación cruzada\n",
        "kfold = KFold(n_splits=conjuntos, shuffle=True, random_state=2024)\n",
        "\n",
        "# Calcular el puntaje de validación cruzada usando MSE como la métrica de evaluación\n",
        "puntajes_mse = cross_val_score(modelo_svr_lineal, independientes, dependiente, cv=kfold, scoring='neg_mean_squared_error')\n",
        "\n",
        "# Convertir los puntajes a errores cuadráticos medios positivos y calcular el RMSE\n",
        "mse_scores = -puntajes_mse\n",
        "rmse_scores = np.sqrt(mse_scores)\n",
        "\n",
        "print(f\"SVR lineal - RMSE por fold: {rmse_scores}\")\n",
        "print(f\"SVR lineal - Promedio RMSE: {np.round(np.mean(rmse_scores), 6)}\")\n",
        "print(f\"SVR lineal - Desviación estándar RMSE: {np.std(rmse_scores)}\\n\")\n",
        "\n",
        "# Calcular R^2 como métrica de evaluación adicional\n",
        "puntajes_r2 = cross_val_score(modelo_svr_lineal, independientes, dependiente, cv=kfold, scoring='r2')\n",
        "\n",
        "print(f\"SVR lineal - R^2 por fold: {puntajes_r2}\")\n",
        "print(f\"SVR lineal - Promedio R^2: {np.mean(puntajes_r2)}\")\n",
        "print(f\"SVR lineal - Desviación estándar R^2: {np.std(puntajes_r2)}\")"
      ],
      "metadata": {
        "colab": {
          "base_uri": "https://localhost:8080/"
        },
        "id": "8_nTSdd5bvZd",
        "outputId": "6789318a-343f-4a84-bf55-0ec0d082a153"
      },
      "execution_count": 29,
      "outputs": [
        {
          "output_type": "stream",
          "name": "stdout",
          "text": [
            "SVR lineal - RMSE por fold: [0.05452866 0.06049584 0.05553595 0.05721747 0.05626162]\n",
            "SVR lineal - Promedio RMSE: 0.056808\n",
            "SVR lineal - Desviación estándar RMSE: 0.002043519733746135\n",
            "\n",
            "SVR lineal - R^2 por fold: [0.99990144 0.9998896  0.9998854  0.9998924  0.99989089]\n",
            "SVR lineal - Promedio R^2: 0.9998919483312664\n",
            "SVR lineal - Desviación estándar R^2: 5.2887665415032245e-06\n"
          ]
        }
      ]
    },
    {
      "cell_type": "markdown",
      "source": [
        "### MSV kernel polinomial\n",
        "\n"
      ],
      "metadata": {
        "id": "IQxYU2TLZ3O-"
      }
    },
    {
      "cell_type": "code",
      "source": [
        "# Número de conjuntos para la validación cruzada\n",
        "conjuntos = 5\n",
        "grado = 3\n",
        "error = 0.1\n",
        "\n",
        "# Definir el modelo SVR con kernel polinomial de grado 3\n",
        "modelo_svr_poly = SVR(kernel='poly', degree=grado, epsilon=error)\n",
        "\n",
        "# Configurar K-Fold para la validación cruzada\n",
        "kfold = KFold(n_splits=conjuntos, shuffle=True, random_state=2024)\n",
        "\n",
        "# Calcular el puntaje de validación cruzada usando MSE como la métrica de evaluación\n",
        "puntajes_mse = cross_val_score(modelo_svr_poly, independientes, dependiente, cv=kfold, scoring='neg_mean_squared_error')\n",
        "\n",
        "# Convertir los puntajes a errores cuadráticos medios positivos y calcular el RMSE\n",
        "mse_scores = -puntajes_mse\n",
        "rmse_scores = np.sqrt(mse_scores)\n",
        "\n",
        "print(f\"SVR Polinomial - RMSE por fold: {rmse_scores}\")\n",
        "print(f\"SVR Polinomial - Promedio RMSE: {np.round(np.mean(rmse_scores), 6)}\")\n",
        "print(f\"SVR Polinomial - Desviación estándar RMSE: {np.std(rmse_scores)}\\n\")\n",
        "\n",
        "# Calcular R^2 como métrica de evaluación adicional\n",
        "puntajes_r2 = cross_val_score(modelo_svr_poly, independientes, dependiente, cv=kfold, scoring='r2')\n",
        "\n",
        "print(f\"SVR Polinomial - R^2 por fold: {puntajes_r2}\")\n",
        "print(f\"SVR Polinomial - Promedio R^2: {np.mean(puntajes_r2)}\")\n",
        "print(f\"SVR Polinomial - Desviación estándar R^2: {np.std(puntajes_r2)}\")"
      ],
      "metadata": {
        "colab": {
          "base_uri": "https://localhost:8080/"
        },
        "id": "tD6zH4dJZ5nm",
        "outputId": "2549112c-825f-4df2-e103-2b47bc813a51"
      },
      "execution_count": 18,
      "outputs": [
        {
          "output_type": "stream",
          "name": "stdout",
          "text": [
            "SVR Polinomial - RMSE por fold: [0.64714165 0.62111395 0.57276912 0.56481156 0.57640278]\n",
            "SVR Polinomial - Promedio RMSE: 0.596448\n",
            "SVR Polinomial - Desviación estándar RMSE: 0.032067491341785305\n",
            "\n",
            "SVR Polinomial - R^2 por fold: [0.98611869 0.98836278 0.98781042 0.98951524 0.98854789]\n",
            "SVR Polinomial - Promedio R^2: 0.9880710052117045\n",
            "SVR Polinomial - Desviación estándar R^2: 0.0011205171756110573\n"
          ]
        }
      ]
    },
    {
      "cell_type": "markdown",
      "source": [
        "### MSV kernel radial\n",
        "\n"
      ],
      "metadata": {
        "id": "ANGwz6mVawxE"
      }
    },
    {
      "cell_type": "code",
      "source": [
        "# Número de conjuntos para la validación cruzada\n",
        "conjuntos = 5\n",
        "error = 0.1\n",
        "\n",
        "# Definir el modelo SVR con kernel Radial de grado 3\n",
        "modelo_svr_radial = SVR(kernel='rbf', epsilon=error)\n",
        "\n",
        "# Configurar K-Fold para la validación cruzada\n",
        "kfold = KFold(n_splits=conjuntos, shuffle=True, random_state=2024)\n",
        "\n",
        "# Calcular el puntaje de validación cruzada usando MSE como la métrica de evaluación\n",
        "puntajes_mse = cross_val_score(modelo_svr_radial, independientes, dependiente, cv=kfold, scoring='neg_mean_squared_error')\n",
        "\n",
        "# Convertir los puntajes a errores cuadráticos medios positivos y calcular el RMSE\n",
        "mse_scores = -puntajes_mse\n",
        "rmse_scores = np.sqrt(mse_scores)\n",
        "\n",
        "print(f\"SVR Radial - RMSE por fold: {rmse_scores}\")\n",
        "print(f\"SVR Radial - Promedio RMSE: {np.mean(rmse_scores)}\")\n",
        "print(f\"SVR Radial - Desviación estándar RMSE: {np.round(np.std(rmse_scores), 6)}\\n\")\n",
        "\n",
        "# Calcular R^2 como métrica de evaluación adicional\n",
        "puntajes_r2 = cross_val_score(modelo_svr_radial, independientes, dependiente, cv=kfold, scoring='r2')\n",
        "\n",
        "print(f\"SVR Radial - R^2 por fold: {puntajes_r2}\")\n",
        "print(f\"SVR Radial - Promedio R^2: {np.mean(puntajes_r2)}\")\n",
        "print(f\"SVR Radial - Desviación estándar R^2: {np.std(puntajes_r2)}\")"
      ],
      "metadata": {
        "colab": {
          "base_uri": "https://localhost:8080/"
        },
        "id": "_HG8QvNua3Fd",
        "outputId": "4735439b-bd71-4c76-c6e2-88cb933cf939"
      },
      "execution_count": 27,
      "outputs": [
        {
          "output_type": "stream",
          "name": "stdout",
          "text": [
            "SVR Radial - RMSE por fold: [0.45155252 0.5236019  0.38103764 0.47262859 0.48680934]\n",
            "SVR Radial - Promedio RMSE: 0.4631259997142795\n",
            "SVR Radial - Desviación estándar RMSE: 0.047288\n",
            "\n",
            "SVR Radial - R^2 por fold: [0.99324153 0.99172993 0.99460533 0.99265839 0.99183133]\n",
            "SVR Radial - Promedio R^2: 0.9928133026356953\n",
            "SVR Radial - Desviación estándar R^2: 0.00105420045436528\n"
          ]
        }
      ]
    },
    {
      "cell_type": "markdown",
      "source": [
        "## ¿Mejor modelo?\n",
        "\n",
        "¿Cuál fue el mejor modelo de regresión con estos datos de acuerdo al estadístico *RMSE*?\n",
        "\n",
        "* Regresión lineal múltiple. Promedio RMSE: 0.002841\n",
        "* Árbol de regresión Promedio RMSE: 3.1561\n",
        "* Random Forest - Promedio RMSE: 2.651582\n",
        "* Modelo Polinomial - Promedio RMSE: 0.002857 Grado  2\n",
        "* Modelo Polinomial - Promedio RMSE: 0.002921 Grado  3\n",
        "* Modelo Polinomial - Promedio RMSE: 0.003077 Grado  4\n",
        "* SVR lineal - Promedio RMSE: 0.056808\n",
        "* SVR Polinomial - Promedio RMSE: 0.596448\n",
        "* SVR Radial - Promedio RMSE:  0.047288\n",
        "\n",
        "De acuerdo al estadístico *RMSE* el mejor modelo de regresión para estos datos fue: **Regresión lineal múltiple. Promedio RMSE: 0.002841**\n",
        "\n",
        "Todos los modelos tienen un valor mayor al 95% en *r squared* que significan que las variables independientes explican por encima del 95% la variable objetivo rendimiento escolar.\n"
      ],
      "metadata": {
        "id": "cWUw3JrJb-ww"
      }
    },
    {
      "cell_type": "markdown",
      "source": [
        "## Predecir un nuevo dato\n",
        "\n",
        "Si el modelo ha sido evaluado usando validación cruzada pero aún no ha sido entrenado con todos los datos, hay que entrenar el modelo.\n",
        "\n",
        "La validación cruzada es una técnica para evaluar cómo el modelo generalizará a un conjunto de datos independiente, pero después de esta evaluación, típicamente se entrenará el modelo en todos los datos disponibles antes de usarlo para hacer predicciones.\n",
        "\n",
        "¿Cuál será la prediccón de un nuevo registro con estos valores en sus variables independientes?:\n",
        "\n",
        "* horas_estudio\t: 2\n",
        "* taza_asistencia: 86\n",
        "* lectura_libros\t: 2\n",
        "* ingeso_familiar\t: 60000\n",
        "* actividad_extraescolar\t: 3\n",
        "* motivacion: 0\n",
        "\n",
        "\n"
      ],
      "metadata": {
        "id": "h8msj1z4fqfa"
      }
    },
    {
      "cell_type": "code",
      "source": [
        "# Los valores en las variables\n",
        "v_horas_estudio\t= 2\n",
        "v_taza_asistencia= 86\n",
        "v_lectura_libros\t= 2\n",
        "v_ingreso_familiar\t= 60000\n",
        "v_actividad_extraescolar\t= 3\n",
        "v_motivacion= 0\n",
        "\n",
        "nuevo_registro = np.array([[v_horas_estudio,\n",
        "                   v_taza_asistencia,\n",
        "                   v_lectura_libros,\n",
        "                   v_ingreso_familiar,\n",
        "                   v_actividad_extraescolar,\n",
        "                   v_motivacion]])\n",
        "\n",
        "# horas_estudio\ttaza_asistencia\tlectura_libros\tingeso_familiar\tactividad_extraescolar\tmotivacion\n",
        "nombres_variables = ['horas_estudio', 'taza_asistencia', 'lectura_libros', 'ingeso_familiar', 'actividad_extraescolar', 'motivacion']\n",
        "\n",
        "# Crear un DataFrame con los nombres de las columnas adecuados\n",
        "nuevo_registro_df = pd.DataFrame(nuevo_registro, columns=nombres_variables)\n",
        "\n",
        "nuevo_registro_escalado = escalar.transform(nuevo_registro_df)\n",
        "\n",
        "nuevo_registro_escalado = pd.DataFrame(nuevo_registro_escalado, columns=nombres_variables)\n",
        "\n",
        "print(\"Nuevo registro escalado: \")\n",
        "print(nuevo_registro_escalado)\n"
      ],
      "metadata": {
        "colab": {
          "base_uri": "https://localhost:8080/"
        },
        "id": "v0kBP2pmgn2B",
        "outputId": "04410afd-51df-491f-b591-31953cdc54a6"
      },
      "execution_count": 51,
      "outputs": [
        {
          "output_type": "stream",
          "name": "stdout",
          "text": [
            "Nuevo registro escalado: \n",
            "   horas_estudio  taza_asistencia  lectura_libros  ingeso_familiar  \\\n",
            "0      -0.641841        -0.651284       -1.284264         0.211033   \n",
            "\n",
            "   actividad_extraescolar  motivacion  \n",
            "0                0.717268   -1.001334  \n"
          ]
        }
      ]
    },
    {
      "cell_type": "markdown",
      "source": [
        "## Entrenar el modelo\n",
        "\n",
        "Entrenar el modelo de regesión múltiple\n",
        "\n"
      ],
      "metadata": {
        "id": "HS9uS8n2j5ND"
      }
    },
    {
      "cell_type": "code",
      "source": [
        "# Preparar los datos para el modelo\n",
        "X = datos_escalados.drop(columns=['rendimiento_escolar'])  # Solo dejar las variables independientes o predictoras\n",
        "y = datos_escalados['rendimiento_escolar']  # Variable dependiente\n",
        "\n",
        "# Dividir los datos en conjuntos de entrenamiento y prueba o validación\n",
        "X_train, X_test, y_train, y_test = train_test_split(X, y, test_size=0.3, random_state=2024)\n",
        "\n",
        "\n",
        "modelo_rl.fit(X_train, y_train)"
      ],
      "metadata": {
        "colab": {
          "base_uri": "https://localhost:8080/",
          "height": 75
        },
        "id": "SGbbzoJ0j_Nb",
        "outputId": "f1a637de-5509-4222-c6e1-7367a36d417a"
      },
      "execution_count": 52,
      "outputs": [
        {
          "output_type": "execute_result",
          "data": {
            "text/plain": [
              "LinearRegression()"
            ],
            "text/html": [
              "<style>#sk-container-id-2 {color: black;background-color: white;}#sk-container-id-2 pre{padding: 0;}#sk-container-id-2 div.sk-toggleable {background-color: white;}#sk-container-id-2 label.sk-toggleable__label {cursor: pointer;display: block;width: 100%;margin-bottom: 0;padding: 0.3em;box-sizing: border-box;text-align: center;}#sk-container-id-2 label.sk-toggleable__label-arrow:before {content: \"▸\";float: left;margin-right: 0.25em;color: #696969;}#sk-container-id-2 label.sk-toggleable__label-arrow:hover:before {color: black;}#sk-container-id-2 div.sk-estimator:hover label.sk-toggleable__label-arrow:before {color: black;}#sk-container-id-2 div.sk-toggleable__content {max-height: 0;max-width: 0;overflow: hidden;text-align: left;background-color: #f0f8ff;}#sk-container-id-2 div.sk-toggleable__content pre {margin: 0.2em;color: black;border-radius: 0.25em;background-color: #f0f8ff;}#sk-container-id-2 input.sk-toggleable__control:checked~div.sk-toggleable__content {max-height: 200px;max-width: 100%;overflow: auto;}#sk-container-id-2 input.sk-toggleable__control:checked~label.sk-toggleable__label-arrow:before {content: \"▾\";}#sk-container-id-2 div.sk-estimator input.sk-toggleable__control:checked~label.sk-toggleable__label {background-color: #d4ebff;}#sk-container-id-2 div.sk-label input.sk-toggleable__control:checked~label.sk-toggleable__label {background-color: #d4ebff;}#sk-container-id-2 input.sk-hidden--visually {border: 0;clip: rect(1px 1px 1px 1px);clip: rect(1px, 1px, 1px, 1px);height: 1px;margin: -1px;overflow: hidden;padding: 0;position: absolute;width: 1px;}#sk-container-id-2 div.sk-estimator {font-family: monospace;background-color: #f0f8ff;border: 1px dotted black;border-radius: 0.25em;box-sizing: border-box;margin-bottom: 0.5em;}#sk-container-id-2 div.sk-estimator:hover {background-color: #d4ebff;}#sk-container-id-2 div.sk-parallel-item::after {content: \"\";width: 100%;border-bottom: 1px solid gray;flex-grow: 1;}#sk-container-id-2 div.sk-label:hover label.sk-toggleable__label {background-color: #d4ebff;}#sk-container-id-2 div.sk-serial::before {content: \"\";position: absolute;border-left: 1px solid gray;box-sizing: border-box;top: 0;bottom: 0;left: 50%;z-index: 0;}#sk-container-id-2 div.sk-serial {display: flex;flex-direction: column;align-items: center;background-color: white;padding-right: 0.2em;padding-left: 0.2em;position: relative;}#sk-container-id-2 div.sk-item {position: relative;z-index: 1;}#sk-container-id-2 div.sk-parallel {display: flex;align-items: stretch;justify-content: center;background-color: white;position: relative;}#sk-container-id-2 div.sk-item::before, #sk-container-id-2 div.sk-parallel-item::before {content: \"\";position: absolute;border-left: 1px solid gray;box-sizing: border-box;top: 0;bottom: 0;left: 50%;z-index: -1;}#sk-container-id-2 div.sk-parallel-item {display: flex;flex-direction: column;z-index: 1;position: relative;background-color: white;}#sk-container-id-2 div.sk-parallel-item:first-child::after {align-self: flex-end;width: 50%;}#sk-container-id-2 div.sk-parallel-item:last-child::after {align-self: flex-start;width: 50%;}#sk-container-id-2 div.sk-parallel-item:only-child::after {width: 0;}#sk-container-id-2 div.sk-dashed-wrapped {border: 1px dashed gray;margin: 0 0.4em 0.5em 0.4em;box-sizing: border-box;padding-bottom: 0.4em;background-color: white;}#sk-container-id-2 div.sk-label label {font-family: monospace;font-weight: bold;display: inline-block;line-height: 1.2em;}#sk-container-id-2 div.sk-label-container {text-align: center;}#sk-container-id-2 div.sk-container {/* jupyter's `normalize.less` sets `[hidden] { display: none; }` but bootstrap.min.css set `[hidden] { display: none !important; }` so we also need the `!important` here to be able to override the default hidden behavior on the sphinx rendered scikit-learn.org. See: https://github.com/scikit-learn/scikit-learn/issues/21755 */display: inline-block !important;position: relative;}#sk-container-id-2 div.sk-text-repr-fallback {display: none;}</style><div id=\"sk-container-id-2\" class=\"sk-top-container\"><div class=\"sk-text-repr-fallback\"><pre>LinearRegression()</pre><b>In a Jupyter environment, please rerun this cell to show the HTML representation or trust the notebook. <br />On GitHub, the HTML representation is unable to render, please try loading this page with nbviewer.org.</b></div><div class=\"sk-container\" hidden><div class=\"sk-item\"><div class=\"sk-estimator sk-toggleable\"><input class=\"sk-toggleable__control sk-hidden--visually\" id=\"sk-estimator-id-2\" type=\"checkbox\" checked><label for=\"sk-estimator-id-2\" class=\"sk-toggleable__label sk-toggleable__label-arrow\">LinearRegression</label><div class=\"sk-toggleable__content\"><pre>LinearRegression()</pre></div></div></div></div></div>"
            ]
          },
          "metadata": {},
          "execution_count": 52
        }
      ]
    },
    {
      "cell_type": "markdown",
      "source": [
        "## Predicción\n",
        "\n",
        "Hacer predicciones con el modelo entrenado"
      ],
      "metadata": {
        "id": "gZWH0ZopkSR3"
      }
    },
    {
      "cell_type": "code",
      "source": [
        "# Hacer la predicción con el modelo SVR\n",
        "# Asumiendo que 'modelo' es el modelo SVR entrenado\n",
        "prediccion_rendimiento_escolar = modelo_rl.predict(nuevo_registro_escalado)\n",
        "print (\"La prediccón de rendimiento escolar será de: \",prediccion_rendimiento_escolar)"
      ],
      "metadata": {
        "colab": {
          "base_uri": "https://localhost:8080/"
        },
        "id": "o5hI8uxzkY_p",
        "outputId": "c25f7445-b533-4a68-d07e-b4a28f784ae2"
      },
      "execution_count": 55,
      "outputs": [
        {
          "output_type": "stream",
          "name": "stdout",
          "text": [
            "La prediccón de rendimiento escolar será de:  [78.12357743]\n"
          ]
        }
      ]
    },
    {
      "cell_type": "markdown",
      "source": [
        "# Interpretación del caso\n",
        "\n",
        "Los datos que se utilizaron en este caso fue de variables independientes  que afectan al rendimiento escolar de un estudiante.\n",
        "\n",
        "Las variables independiente fueron:\n",
        "* Horas de estudio por semana,\n",
        "* Asistencia a clases (tasa de asistencia),\n",
        "* Número de libros leídos por año,\n",
        "* Ingreso familiar,\n",
        "* Número de actividades extracurriculares y\n",
        "* Nivel de motivación.\n",
        "\n",
        "La variable dependiente es un valor numérico de rendimiento escolar.\n",
        "\n",
        "¿Para que sirve esclar datos?, para homogeneizar valores en una misa escala de tal forma ue ayuda a la eficiencia de modelos de regresión sobre todo en los de máquinas de soprote de regresión SVR. Para este caso se escalaron los datos y todos los modelos utilizaron estos datos escalados.\n",
        "\n",
        "¿Para que sirve la técnica de validación cruzada en modelos de regresión?\n",
        "\n",
        "Para evaluar modelo de manera generalizada y permite con ello observar eficiencia de modelos para luego entrenar el mejor modelo y con ello realizar predicciones.\n",
        "\n",
        "¿Cuál fue el mejor modelo?. **Regresión lineal múltiple.**\n",
        "\n",
        "Las porcetaje explican las variables independientes a la variable dependiene en el modelo de regresión lineal múltiple? Por encima del 95% de acuerdo al valor de *r squared* y *r suquared ajustado*\n",
        "\n",
        "¿Que predicción tiene el modelo de regresión lineal múltiple para un nuevo registro de un estudiante con valores de: horas_estudio\t: 2; taza_asistencia: 86; lectura_libros\t: 2; ingeso_familiar\t: 60000; actividad_extraescolar\t: 3; motivacion: 0. La prediccón del rendimiento escolar es de: **78.12**\n",
        "\n"
      ],
      "metadata": {
        "id": "Dd53oL21k7-R"
      }
    }
  ]
}