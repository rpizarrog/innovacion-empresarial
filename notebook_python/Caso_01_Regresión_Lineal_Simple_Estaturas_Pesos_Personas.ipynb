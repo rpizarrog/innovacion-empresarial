{
  "nbformat": 4,
  "nbformat_minor": 0,
  "metadata": {
    "colab": {
      "provenance": [],
      "authorship_tag": "ABX9TyNM+L4N9ZGJ88VSG2LopsjC",
      "include_colab_link": true
    },
    "kernelspec": {
      "name": "python3",
      "display_name": "Python 3"
    },
    "language_info": {
      "name": "python"
    }
  },
  "cells": [
    {
      "cell_type": "markdown",
      "metadata": {
        "id": "view-in-github",
        "colab_type": "text"
      },
      "source": [
        "<a href=\"https://colab.research.google.com/github/rpizarrog/innovacion-empresarial/blob/main/notebook_python/Caso_01_Regresi%C3%B3n_Lineal_Simple_Estaturas_Pesos_Personas.ipynb\" target=\"_parent\"><img src=\"https://colab.research.google.com/assets/colab-badge.svg\" alt=\"Open In Colab\"/></a>"
      ]
    },
    {
      "cell_type": "markdown",
      "source": [
        "# Objetivo\n",
        "\n",
        "Construir y evaluar un modelo de regresión lineal simple con dos variables numéricas que definen una variable independiente y otra variable dependiente.\n",
        "\n",
        "Para este caso se carga un conjunto de datos con valores numéricos de:\n",
        "\n",
        "* *estaturas* como variable independiente y\n",
        "* *pesos* como variable dependiente.\n"
      ],
      "metadata": {
        "id": "F_SfNk5uUzyp"
      }
    },
    {
      "cell_type": "markdown",
      "source": [
        "# Descripción\n",
        "\n",
        "* Cargar librerías.\n",
        "* Crear funciones.\n",
        "* Cargar datos.\n",
        "* Análisis descriptivo exploratorio.\n",
        "  * Visualizar datos.\n",
        "    * Histograma.\n",
        "    * Diagrama de caja.\n",
        "    * Dispersión de los datos.\n",
        "*  Crear modelo de regresión lineal simple.\n",
        "  * Identificar métricas *r square* con valor por encima del $50$% para aceptar el modelo y de *RMSE* cercano a 0 que deberá ser comparado con otro modelo de regresión.\n",
        "  * Partir en datos de entrenamiento y datos de validación con el $80$% y $20$%.\n",
        "  * Evaluar modelo con datos de entrenamiento con el valor *r square*.\n",
        "  * Visualizar recta de regresión con el modelo construído y los datos de entrenamiento.\n",
        "  * Realizar predicciones utilizando el modelo con los datos de validación.\n",
        "  * Evaluar el modelo con el estadístico RMSE *root mean square error*\n",
        "* Interpretar el caso.\n"
      ],
      "metadata": {
        "id": "Lw-NPFryVCqG"
      }
    },
    {
      "cell_type": "markdown",
      "source": [
        "# Dearrollo\n",
        "\n",
        "## Cargar librerías\n"
      ],
      "metadata": {
        "id": "gmk3nPRxU-G5"
      }
    },
    {
      "cell_type": "code",
      "source": [
        "import pandas as pd\n",
        "import numpy as np\n",
        "from collections import Counter as Counter\n",
        "import math\n",
        "from sklearn.linear_model import LinearRegression # Para contruir el modelo\n",
        "\n",
        "import matplotlib.pyplot as plt # Para visualizar datos\n",
        "from sklearn.model_selection import train_test_split # Para partir los datos\n",
        "\n",
        "from sklearn import metrics # Para determinar métricas.\n",
        "\n"
      ],
      "metadata": {
        "id": "_TQT8iZ8VNzl"
      },
      "execution_count": 7,
      "outputs": []
    },
    {
      "cell_type": "markdown",
      "source": [
        "## Crear funciones\n",
        "\n",
        "Se crean funciones personalizadas útiles el el desarrollo del caso.\n"
      ],
      "metadata": {
        "id": "uTbi_3XoWnA6"
      }
    },
    {
      "cell_type": "code",
      "source": [
        "# Esta función regresa los datos en formato csv cargados en memoria RAM\n",
        "def f_cargar_datos(ruta):\n",
        "  # Cargar datos de la carpeta sample_data\n",
        "  # datos = pd.read_csv('sample_data/estaturas_pesos.csv')\n",
        "\n",
        "  # cargar datos de github.com enlace en la nube internet\n",
        "  datos = pd.read_csv(ruta)\n",
        "  return datos\n",
        "\n",
        "# Función que devuelve estad´siticos de una variable numérica\n",
        "def f_media_moda_mediana_n(datos):\n",
        "  # Calcular la media aritmética\n",
        "  media = np.mean(datos)\n",
        "\n",
        "  # Calcular la moda\n",
        "  contador = Counter(datos)\n",
        "  moda = contador.most_common(1)[0][0]\n",
        "\n",
        "  # Calcular la mediana\n",
        "  mediana = np.median(datos)\n",
        "\n",
        "  # ¿Cuántos nnpúmeros son?\n",
        "  n = len(datos)\n",
        "  return media, moda, mediana, n\n",
        "\n",
        "# Función que devuelve las medias aritméticas y desviaciones estándar de dos variables numéricas de una muestra\n",
        "def f_medias (independiente, dependiente):\n",
        "  medias = [np.mean(independiente), np.mean(dependiente)]\n",
        "  return medias\n",
        "\n",
        "# Función que devuelve las desviaciones estándar de dos variables numéricas de una muestra\n",
        "def f_desviaciones_std (independiente, dependiente):\n",
        "  desviaciones = [np.std(independiente, ddof=1), np.std(dependiente, ddof=1)]\n",
        "  return desviaciones\n",
        "\n",
        "# Función que devuelve la covariana y correlación de Pearson y r square de dos variables numéricas de una muestra\n",
        "def f_cov_corr(independiente, dependiente):\n",
        "  covar = np.cov(independiente, dependiente, ddof=1)[0,1]\n",
        "  r = np.corrcoef(independiente, dependiente)[0,1]\n",
        "  r_square = r ** 2\n",
        "  return covar, r, r_square\n",
        "\n",
        "\n",
        "# Función que construye diagrama de dispersión\n",
        "def f_dispersion (x, y, x_nombre, y_nombre):\n",
        "  medias = f_medias(x, y)\n",
        "\n",
        "  cova, r, r_square = f_cov_corr(x, y)   # Crear el diagrama de dispersión\n",
        "  plt.scatter(x, y, s = 5)\n",
        "\n",
        "  # Etiquetas y título\n",
        "  plt.xlabel(x_nombre)\n",
        "  plt.ylabel(y_nombre)\n",
        "  plt.title(print('Diagrama de Dispersión. Corr Pearson'))\n",
        "\n",
        "  plt.axvline(x=medias[0], color='blue', linestyle='--', linewidth=0.5,\n",
        "            label=\"Media \"+ x_nombre + \":\" + str(np.round(medias[0], 2)))\n",
        "  plt.axhline(y=medias[1], color='green', linestyle='--', linewidth=0.5,\n",
        "            label=\"Media \"+ y_nombre+\":\" + str(np.round(medias[1], 2)))\n",
        "  plt.legend()\n",
        "\n",
        "  # Subtítulo debajo del gráfico\n",
        "  plt.figtext(0.5, -0.05, f'R Pearson: {np.round(r, 4)}', ha='center', fontsize=10)\n",
        "\n",
        "  # Mostrar el diagrama de dispersión\n",
        "  plt.show()\n",
        "\n",
        "# función que visualiza histograma de una variable numérica en estructira tipo lista\n",
        "# Re Utiliza la función f_media_moda_mediana_n\n",
        "def f_histograma(datos, contexto):\n",
        "  min = np.min(datos)\n",
        "  max = np.max(datos)\n",
        "\n",
        "  # Calcular el número óptimo de clases usando la regla de Sturges\n",
        "  n = len(datos)\n",
        "  k = int(round(1 + math.log2(n)))\n",
        "\n",
        "  plt.hist(datos, bins=range(min, max, k), edgecolor=\"black\")\n",
        "  plt.xlabel(contexto)\n",
        "\n",
        "  media, moda, mediana, N = f_media_moda_mediana_n(datos)\n",
        "\n",
        "  # Agregar líneas punteadas roja, azul y verde para representar media, mediana y moda\n",
        "  medias = f_media_moda_mediana_n(datos)\n",
        "  plt.axvline(x=media, color='red', linestyle='--', linewidth=2, label=f'Media: {media:.2f}')\n",
        "  plt.axvline(x=mediana, color='blue', linestyle='--', linewidth=2, label=f'Mediana: {mediana:.2f}')\n",
        "  plt.axvline(x=moda, color='yellow', linestyle='--', linewidth=2, label=f'Moda: {moda:.2f}')\n",
        "\n",
        "  plt.ylabel(\"Frecuencia\")\n",
        "  plt.title(\"Distribución de los datos: \"+contexto)\n",
        "\n",
        "  plt.legend()\n",
        "  plt.grid(False)\n",
        "  plt.show()\n",
        "\n",
        "# Calcula los cuartiles\n",
        "def f_cuartiles_quantile(datos):\n",
        "  q1 = np.percentile(datos, 25)\n",
        "  q2 = np.percentile(datos, 50)\n",
        "  q3 = np.percentile(datos, 75)\n",
        "  return q1, q2, q3\n",
        "\n",
        "# Visualiza diagrama de caja para indentificar datos extremos\n",
        "def f_diagrama_caja (datos, contexto):\n",
        "  plt.boxplot(datos, vert=False)\n",
        "  plt.xlabel(contexto)\n",
        "  plt.ylabel('Valor')\n",
        "  plt.title('Diagrama de Caja')\n",
        "\n",
        "  # Calculando cuartiles d ela funci´pn previamente creada\n",
        "  q1, q2, q3= f_cuartiles_quantile(datos)\n",
        "  # Añadir leyendas para los cuartiles\n",
        "  plt.axvline(x=q1, color='blue', linestyle='--', linewidth=1, label=f'Q1: {q1:.2f}')\n",
        "  plt.axvline(x=q2, color='blue', linestyle='--', linewidth=1, label=f'Q2:Mediana: {q2:.2f}')\n",
        "  plt.axvline(x=q3, color='blue', linestyle='--', linewidth=1, label=f'Q3: {q3:.2f}')\n",
        "\n",
        "  # Añadir leyenda adicional\n",
        "  plt.legend()\n",
        "\n",
        "  plt.show()\n",
        "\n",
        "\n",
        "# función que visualzia la recta de regesi,ón\n",
        "# Graficar los datos y la regresión lineal\n",
        "def f_regresion(modelo):\n",
        "  plt.scatter(estaturas, pesos, color='blue', s=5)\n",
        "  #plt.plot(estaturas, modelo.predict(estaturas), color='red', label = \"\")\n",
        "  plt.plot(estaturas, modelo.predict(estaturas), color='red', linewidth=0.5, label=f'a = {a}; b = {b}')\n",
        "\n",
        "  plt.xlabel('Estatura (cm)')\n",
        "  plt.ylabel('Peso (kg)')\n",
        "  plt.title('Regresión Lineal Simple')\n",
        "  plt.legend()\n",
        "  plt.grid(True)\n",
        "\n",
        "# Esto debe ser una función\n",
        "\n",
        "def f_regresion_linea_tendencia(modelo, x, y, x_nombre, y_nombre):\n",
        "  # Graficar los datos y la regresión lineal\n",
        "  plt.scatter(x, y, color='blue', s=5)\n",
        "  a = modelo.intercept_  # El alor de la intersección de la abcisa\n",
        "  b = modelo.coef_       # El valor de la pendiente\n",
        "\n",
        "  # Datos de cova y correlacion con los valores de entrenamiento\n",
        "  covar, r, r_square = f_cov_corr(estaturas_train, pesos_train)\n",
        "\n",
        "  # Líena de tendencia\n",
        "  linea_tendencia = modelo.predict(estaturas_train.reshape(-1, 1))\n",
        "  plt.plot(estaturas_train.reshape(-1, 1), linea_tendencia, color='red', linewidth=0.5,\n",
        "           label=f'a = {np.round(a, 4)}; b = {np.round(b, 4)}; r={np.round(r, 4)}; r square = {np.round(r_square, 4)}')\n",
        "\n",
        "  plt.xlabel(x_nombre)\n",
        "  plt.ylabel(y_nombre)\n",
        "  plt.title('Regresión Lineal Simple. Datos de Entrenamiento')\n",
        "  plt.legend()\n",
        "  plt.grid(True)\n",
        "\n"
      ],
      "metadata": {
        "id": "KvA3asO0qBCb"
      },
      "execution_count": 8,
      "outputs": []
    },
    {
      "cell_type": "markdown",
      "source": [
        "## Crear o cargar datos\n",
        "\n",
        "Se cargan los datos de la ruta *url* indicada en donde están los datos en un formato de *archivo csv* que supone contiene dos variables numéricas en donde la primera variable o columna es la variable independiente y la segunda columna es la variable dependiente.\n",
        "\n",
        "Ejemplo *estaturas* como variable independiente y *pesos* como variable dependiente.\n"
      ],
      "metadata": {
        "id": "QLktCZXRVKra"
      }
    },
    {
      "cell_type": "code",
      "source": [
        "# https://raw.githubusercontent.com/rpizarrog/innovacion-empresarial/refs/heads/main/datos/estaturas_pesos.csv\n",
        "ruta = \"https://raw.githubusercontent.com/rpizarrog/innovacion-empresarial/refs/heads/main/datos/estaturas_pesos.csv\"\n",
        "datos = f_cargar_datos(ruta)\n",
        "\n",
        "print(datos)\n",
        "\n",
        "\n"
      ],
      "metadata": {
        "colab": {
          "base_uri": "https://localhost:8080/"
        },
        "id": "GgeQNSIeU_5C",
        "outputId": "0ad3c2fc-485e-4ac1-92c2-32d13ca0b0f3"
      },
      "execution_count": 11,
      "outputs": [
        {
          "output_type": "stream",
          "name": "stdout",
          "text": [
            "    estaturas  pesos\n",
            "0         178     79\n",
            "1         172     75\n",
            "2         160     62\n",
            "3         192    107\n",
            "4         167     72\n",
            "5         170     52\n",
            "6         185     90\n",
            "7         175     70\n",
            "8         180     85\n",
            "9         170     92\n",
            "10        180     87\n",
            "11        180     82\n",
            "12        170     75\n",
            "13        183     90\n",
            "14        161     65\n",
            "15        150     56\n",
            "16        162     56\n",
            "17        177     82\n",
            "18        190     95\n",
            "19        165     70\n",
            "20        164     80\n",
            "21        183     92\n",
            "22        175     74\n",
            "23        168     65\n",
            "24        170     77\n",
            "25        175     72\n",
            "26        175     65\n",
            "27        178     70\n",
            "28        170     75\n",
            "29        160     65\n",
            "30        162     60\n",
            "31        166     67\n",
            "32        178     75\n",
            "33        170     70\n",
            "34        163     60\n",
            "35        165     72\n",
            "36        170     76\n",
            "37        167     78\n",
            "38        159     60\n",
            "39        165     68\n",
            "40        181     76\n",
            "41        170     60\n",
            "42        172     75\n",
            "43        171     78\n",
            "44        178     76\n",
            "45        165     64\n",
            "46        162     62\n",
            "47        187     87\n",
            "48        189     90\n",
            "49        174     72\n",
            "50        160     54\n",
            "51        190     90\n",
            "52        155     80\n",
            "53        180     80\n",
            "54        175     75\n",
            "55        170     68\n",
            "56        165     80\n",
            "57        170     75\n",
            "58        180     85\n",
            "59        180     95\n"
          ]
        }
      ]
    },
    {
      "cell_type": "markdown",
      "source": [
        "Mostrar la estructura del conjunto de datos conla función *info()*."
      ],
      "metadata": {
        "id": "WOq4r0765M-R"
      }
    },
    {
      "cell_type": "code",
      "source": [
        "datos.info()"
      ],
      "metadata": {
        "colab": {
          "base_uri": "https://localhost:8080/"
        },
        "id": "6BXq3qfv5T0P",
        "outputId": "69b3b986-427f-4d89-e4e3-fe0fa4f091f2"
      },
      "execution_count": 12,
      "outputs": [
        {
          "output_type": "stream",
          "name": "stdout",
          "text": [
            "<class 'pandas.core.frame.DataFrame'>\n",
            "RangeIndex: 60 entries, 0 to 59\n",
            "Data columns (total 2 columns):\n",
            " #   Column     Non-Null Count  Dtype\n",
            "---  ------     --------------  -----\n",
            " 0   estaturas  60 non-null     int64\n",
            " 1   pesos      60 non-null     int64\n",
            "dtypes: int64(2)\n",
            "memory usage: 1.1 KB\n"
          ]
        }
      ]
    },
    {
      "cell_type": "markdown",
      "source": [
        "\n",
        "## Análisis descriptivo\n",
        "\n",
        "Se presentan los estadísticos mas importantes de las variables de interés con la función *describe()*\n",
        "\n",
        "Se define independiente = 'estaturas'\n",
        "Se define dependiente = 'pesos'\n",
        "\n",
        "### Estadísticos"
      ],
      "metadata": {
        "id": "nhCXBrXfnVub"
      }
    },
    {
      "cell_type": "code",
      "source": [
        "independiente = 'estaturas'\n",
        "dependiente = 'pesos'\n",
        "\n",
        "datos[[independiente, dependiente]].describe()"
      ],
      "metadata": {
        "colab": {
          "base_uri": "https://localhost:8080/",
          "height": 300
        },
        "id": "YHPrzskznYsg",
        "outputId": "d11637bd-0721-40b8-8b2c-850516b2292f"
      },
      "execution_count": 36,
      "outputs": [
        {
          "output_type": "execute_result",
          "data": {
            "text/plain": [
              "        estaturas       pesos\n",
              "count   60.000000   60.000000\n",
              "mean   172.066667   74.750000\n",
              "std      9.190759   11.479717\n",
              "min    150.000000   52.000000\n",
              "25%    165.000000   66.500000\n",
              "50%    170.000000   75.000000\n",
              "75%    178.500000   80.500000\n",
              "max    192.000000  107.000000"
            ],
            "text/html": [
              "\n",
              "  <div id=\"df-996b92a0-ceab-4b33-b5f1-8221e5d1321f\" class=\"colab-df-container\">\n",
              "    <div>\n",
              "<style scoped>\n",
              "    .dataframe tbody tr th:only-of-type {\n",
              "        vertical-align: middle;\n",
              "    }\n",
              "\n",
              "    .dataframe tbody tr th {\n",
              "        vertical-align: top;\n",
              "    }\n",
              "\n",
              "    .dataframe thead th {\n",
              "        text-align: right;\n",
              "    }\n",
              "</style>\n",
              "<table border=\"1\" class=\"dataframe\">\n",
              "  <thead>\n",
              "    <tr style=\"text-align: right;\">\n",
              "      <th></th>\n",
              "      <th>estaturas</th>\n",
              "      <th>pesos</th>\n",
              "    </tr>\n",
              "  </thead>\n",
              "  <tbody>\n",
              "    <tr>\n",
              "      <th>count</th>\n",
              "      <td>60.000000</td>\n",
              "      <td>60.000000</td>\n",
              "    </tr>\n",
              "    <tr>\n",
              "      <th>mean</th>\n",
              "      <td>172.066667</td>\n",
              "      <td>74.750000</td>\n",
              "    </tr>\n",
              "    <tr>\n",
              "      <th>std</th>\n",
              "      <td>9.190759</td>\n",
              "      <td>11.479717</td>\n",
              "    </tr>\n",
              "    <tr>\n",
              "      <th>min</th>\n",
              "      <td>150.000000</td>\n",
              "      <td>52.000000</td>\n",
              "    </tr>\n",
              "    <tr>\n",
              "      <th>25%</th>\n",
              "      <td>165.000000</td>\n",
              "      <td>66.500000</td>\n",
              "    </tr>\n",
              "    <tr>\n",
              "      <th>50%</th>\n",
              "      <td>170.000000</td>\n",
              "      <td>75.000000</td>\n",
              "    </tr>\n",
              "    <tr>\n",
              "      <th>75%</th>\n",
              "      <td>178.500000</td>\n",
              "      <td>80.500000</td>\n",
              "    </tr>\n",
              "    <tr>\n",
              "      <th>max</th>\n",
              "      <td>192.000000</td>\n",
              "      <td>107.000000</td>\n",
              "    </tr>\n",
              "  </tbody>\n",
              "</table>\n",
              "</div>\n",
              "    <div class=\"colab-df-buttons\">\n",
              "\n",
              "  <div class=\"colab-df-container\">\n",
              "    <button class=\"colab-df-convert\" onclick=\"convertToInteractive('df-996b92a0-ceab-4b33-b5f1-8221e5d1321f')\"\n",
              "            title=\"Convert this dataframe to an interactive table.\"\n",
              "            style=\"display:none;\">\n",
              "\n",
              "  <svg xmlns=\"http://www.w3.org/2000/svg\" height=\"24px\" viewBox=\"0 -960 960 960\">\n",
              "    <path d=\"M120-120v-720h720v720H120Zm60-500h600v-160H180v160Zm220 220h160v-160H400v160Zm0 220h160v-160H400v160ZM180-400h160v-160H180v160Zm440 0h160v-160H620v160ZM180-180h160v-160H180v160Zm440 0h160v-160H620v160Z\"/>\n",
              "  </svg>\n",
              "    </button>\n",
              "\n",
              "  <style>\n",
              "    .colab-df-container {\n",
              "      display:flex;\n",
              "      gap: 12px;\n",
              "    }\n",
              "\n",
              "    .colab-df-convert {\n",
              "      background-color: #E8F0FE;\n",
              "      border: none;\n",
              "      border-radius: 50%;\n",
              "      cursor: pointer;\n",
              "      display: none;\n",
              "      fill: #1967D2;\n",
              "      height: 32px;\n",
              "      padding: 0 0 0 0;\n",
              "      width: 32px;\n",
              "    }\n",
              "\n",
              "    .colab-df-convert:hover {\n",
              "      background-color: #E2EBFA;\n",
              "      box-shadow: 0px 1px 2px rgba(60, 64, 67, 0.3), 0px 1px 3px 1px rgba(60, 64, 67, 0.15);\n",
              "      fill: #174EA6;\n",
              "    }\n",
              "\n",
              "    .colab-df-buttons div {\n",
              "      margin-bottom: 4px;\n",
              "    }\n",
              "\n",
              "    [theme=dark] .colab-df-convert {\n",
              "      background-color: #3B4455;\n",
              "      fill: #D2E3FC;\n",
              "    }\n",
              "\n",
              "    [theme=dark] .colab-df-convert:hover {\n",
              "      background-color: #434B5C;\n",
              "      box-shadow: 0px 1px 3px 1px rgba(0, 0, 0, 0.15);\n",
              "      filter: drop-shadow(0px 1px 2px rgba(0, 0, 0, 0.3));\n",
              "      fill: #FFFFFF;\n",
              "    }\n",
              "  </style>\n",
              "\n",
              "    <script>\n",
              "      const buttonEl =\n",
              "        document.querySelector('#df-996b92a0-ceab-4b33-b5f1-8221e5d1321f button.colab-df-convert');\n",
              "      buttonEl.style.display =\n",
              "        google.colab.kernel.accessAllowed ? 'block' : 'none';\n",
              "\n",
              "      async function convertToInteractive(key) {\n",
              "        const element = document.querySelector('#df-996b92a0-ceab-4b33-b5f1-8221e5d1321f');\n",
              "        const dataTable =\n",
              "          await google.colab.kernel.invokeFunction('convertToInteractive',\n",
              "                                                    [key], {});\n",
              "        if (!dataTable) return;\n",
              "\n",
              "        const docLinkHtml = 'Like what you see? Visit the ' +\n",
              "          '<a target=\"_blank\" href=https://colab.research.google.com/notebooks/data_table.ipynb>data table notebook</a>'\n",
              "          + ' to learn more about interactive tables.';\n",
              "        element.innerHTML = '';\n",
              "        dataTable['output_type'] = 'display_data';\n",
              "        await google.colab.output.renderOutput(dataTable, element);\n",
              "        const docLink = document.createElement('div');\n",
              "        docLink.innerHTML = docLinkHtml;\n",
              "        element.appendChild(docLink);\n",
              "      }\n",
              "    </script>\n",
              "  </div>\n",
              "\n",
              "\n",
              "<div id=\"df-c2db51db-e48c-48aa-8942-1bbbd7ca72e6\">\n",
              "  <button class=\"colab-df-quickchart\" onclick=\"quickchart('df-c2db51db-e48c-48aa-8942-1bbbd7ca72e6')\"\n",
              "            title=\"Suggest charts\"\n",
              "            style=\"display:none;\">\n",
              "\n",
              "<svg xmlns=\"http://www.w3.org/2000/svg\" height=\"24px\"viewBox=\"0 0 24 24\"\n",
              "     width=\"24px\">\n",
              "    <g>\n",
              "        <path d=\"M19 3H5c-1.1 0-2 .9-2 2v14c0 1.1.9 2 2 2h14c1.1 0 2-.9 2-2V5c0-1.1-.9-2-2-2zM9 17H7v-7h2v7zm4 0h-2V7h2v10zm4 0h-2v-4h2v4z\"/>\n",
              "    </g>\n",
              "</svg>\n",
              "  </button>\n",
              "\n",
              "<style>\n",
              "  .colab-df-quickchart {\n",
              "      --bg-color: #E8F0FE;\n",
              "      --fill-color: #1967D2;\n",
              "      --hover-bg-color: #E2EBFA;\n",
              "      --hover-fill-color: #174EA6;\n",
              "      --disabled-fill-color: #AAA;\n",
              "      --disabled-bg-color: #DDD;\n",
              "  }\n",
              "\n",
              "  [theme=dark] .colab-df-quickchart {\n",
              "      --bg-color: #3B4455;\n",
              "      --fill-color: #D2E3FC;\n",
              "      --hover-bg-color: #434B5C;\n",
              "      --hover-fill-color: #FFFFFF;\n",
              "      --disabled-bg-color: #3B4455;\n",
              "      --disabled-fill-color: #666;\n",
              "  }\n",
              "\n",
              "  .colab-df-quickchart {\n",
              "    background-color: var(--bg-color);\n",
              "    border: none;\n",
              "    border-radius: 50%;\n",
              "    cursor: pointer;\n",
              "    display: none;\n",
              "    fill: var(--fill-color);\n",
              "    height: 32px;\n",
              "    padding: 0;\n",
              "    width: 32px;\n",
              "  }\n",
              "\n",
              "  .colab-df-quickchart:hover {\n",
              "    background-color: var(--hover-bg-color);\n",
              "    box-shadow: 0 1px 2px rgba(60, 64, 67, 0.3), 0 1px 3px 1px rgba(60, 64, 67, 0.15);\n",
              "    fill: var(--button-hover-fill-color);\n",
              "  }\n",
              "\n",
              "  .colab-df-quickchart-complete:disabled,\n",
              "  .colab-df-quickchart-complete:disabled:hover {\n",
              "    background-color: var(--disabled-bg-color);\n",
              "    fill: var(--disabled-fill-color);\n",
              "    box-shadow: none;\n",
              "  }\n",
              "\n",
              "  .colab-df-spinner {\n",
              "    border: 2px solid var(--fill-color);\n",
              "    border-color: transparent;\n",
              "    border-bottom-color: var(--fill-color);\n",
              "    animation:\n",
              "      spin 1s steps(1) infinite;\n",
              "  }\n",
              "\n",
              "  @keyframes spin {\n",
              "    0% {\n",
              "      border-color: transparent;\n",
              "      border-bottom-color: var(--fill-color);\n",
              "      border-left-color: var(--fill-color);\n",
              "    }\n",
              "    20% {\n",
              "      border-color: transparent;\n",
              "      border-left-color: var(--fill-color);\n",
              "      border-top-color: var(--fill-color);\n",
              "    }\n",
              "    30% {\n",
              "      border-color: transparent;\n",
              "      border-left-color: var(--fill-color);\n",
              "      border-top-color: var(--fill-color);\n",
              "      border-right-color: var(--fill-color);\n",
              "    }\n",
              "    40% {\n",
              "      border-color: transparent;\n",
              "      border-right-color: var(--fill-color);\n",
              "      border-top-color: var(--fill-color);\n",
              "    }\n",
              "    60% {\n",
              "      border-color: transparent;\n",
              "      border-right-color: var(--fill-color);\n",
              "    }\n",
              "    80% {\n",
              "      border-color: transparent;\n",
              "      border-right-color: var(--fill-color);\n",
              "      border-bottom-color: var(--fill-color);\n",
              "    }\n",
              "    90% {\n",
              "      border-color: transparent;\n",
              "      border-bottom-color: var(--fill-color);\n",
              "    }\n",
              "  }\n",
              "</style>\n",
              "\n",
              "  <script>\n",
              "    async function quickchart(key) {\n",
              "      const quickchartButtonEl =\n",
              "        document.querySelector('#' + key + ' button');\n",
              "      quickchartButtonEl.disabled = true;  // To prevent multiple clicks.\n",
              "      quickchartButtonEl.classList.add('colab-df-spinner');\n",
              "      try {\n",
              "        const charts = await google.colab.kernel.invokeFunction(\n",
              "            'suggestCharts', [key], {});\n",
              "      } catch (error) {\n",
              "        console.error('Error during call to suggestCharts:', error);\n",
              "      }\n",
              "      quickchartButtonEl.classList.remove('colab-df-spinner');\n",
              "      quickchartButtonEl.classList.add('colab-df-quickchart-complete');\n",
              "    }\n",
              "    (() => {\n",
              "      let quickchartButtonEl =\n",
              "        document.querySelector('#df-c2db51db-e48c-48aa-8942-1bbbd7ca72e6 button');\n",
              "      quickchartButtonEl.style.display =\n",
              "        google.colab.kernel.accessAllowed ? 'block' : 'none';\n",
              "    })();\n",
              "  </script>\n",
              "</div>\n",
              "\n",
              "    </div>\n",
              "  </div>\n"
            ],
            "application/vnd.google.colaboratory.intrinsic+json": {
              "type": "dataframe",
              "summary": "{\n  \"name\": \"datos[[independiente, dependiente]]\",\n  \"rows\": 8,\n  \"fields\": [\n    {\n      \"column\": \"estaturas\",\n      \"properties\": {\n        \"dtype\": \"number\",\n        \"std\": 65.77347642569013,\n        \"min\": 9.190759299273111,\n        \"max\": 192.0,\n        \"num_unique_values\": 8,\n        \"samples\": [\n          172.06666666666666,\n          170.0,\n          60.0\n        ],\n        \"semantic_type\": \"\",\n        \"description\": \"\"\n      }\n    },\n    {\n      \"column\": \"pesos\",\n      \"properties\": {\n        \"dtype\": \"number\",\n        \"std\": 27.395123681900856,\n        \"min\": 11.479716821641757,\n        \"max\": 107.0,\n        \"num_unique_values\": 8,\n        \"samples\": [\n          74.75,\n          75.0,\n          60.0\n        ],\n        \"semantic_type\": \"\",\n        \"description\": \"\"\n      }\n    }\n  ]\n}"
            }
          },
          "metadata": {},
          "execution_count": 36
        }
      ]
    },
    {
      "cell_type": "markdown",
      "source": [
        "### Histograma\n",
        "\n",
        "Histograma de las variables de interés estaturas y de pesos."
      ],
      "metadata": {
        "id": "El4j8bfDoEgK"
      }
    },
    {
      "cell_type": "code",
      "source": [
        "f_histograma(datos[independiente], \"Estaturas en cms.\")\n",
        "\n",
        "f_histograma(datos[dependiente], \"Pesos en kgs\")\n"
      ],
      "metadata": {
        "colab": {
          "base_uri": "https://localhost:8080/",
          "height": 927
        },
        "id": "4YedGUgbqGnd",
        "outputId": "b0986157-6e94-4ae2-92d7-1093c4ec3918"
      },
      "execution_count": 37,
      "outputs": [
        {
          "output_type": "display_data",
          "data": {
            "text/plain": [
              "<Figure size 640x480 with 1 Axes>"
            ],
            "image/png": "[encoded data removed]"
          },
          "metadata": {}
        },
        {
          "output_type": "display_data",
          "data": {
            "text/plain": [
              "<Figure size 640x480 with 1 Axes>"
            ],
            "image/png": "[encoded data removed]"
          },
          "metadata": {}
        }
      ]
    },
    {
      "cell_type": "markdown",
      "source": [
        "### Diagramas de caja\n",
        "\n",
        "Se exploran los datos mediante el diagrama de caja de las variables de interés estaturas y pesoso para identifiar si hay valores atípicos."
      ],
      "metadata": {
        "id": "TGKbnxFTXscp"
      }
    },
    {
      "cell_type": "markdown",
      "source": [],
      "metadata": {
        "id": "916Ubal0JcdO"
      }
    },
    {
      "cell_type": "code",
      "source": [
        "f_diagrama_caja(datos[independiente], \"Estaturas\")"
      ],
      "metadata": {
        "colab": {
          "base_uri": "https://localhost:8080/",
          "height": 472
        },
        "id": "d8PuUmENwJYd",
        "outputId": "5b2e2263-2ce4-4978-bfd0-b54b1aca2fe3"
      },
      "execution_count": 38,
      "outputs": [
        {
          "output_type": "display_data",
          "data": {
            "text/plain": [
              "<Figure size 640x480 with 1 Axes>"
            ],
            "image/png": "[encoded data removed]"
          },
          "metadata": {}
        }
      ]
    },
    {
      "cell_type": "markdown",
      "source": [
        "No hay valores atípicos en los valores de la variable estaturas."
      ],
      "metadata": {
        "id": "j2V2_8Shwd4w"
      }
    },
    {
      "cell_type": "code",
      "source": [
        "f_diagrama_caja(datos[dependiente], \"Pesos\")"
      ],
      "metadata": {
        "colab": {
          "base_uri": "https://localhost:8080/",
          "height": 472
        },
        "id": "Qd6xOFY4vXUT",
        "outputId": "5d813b11-9a95-4fac-b939-2b7630f86959"
      },
      "execution_count": 39,
      "outputs": [
        {
          "output_type": "display_data",
          "data": {
            "text/plain": [
              "<Figure size 640x480 with 1 Axes>"
            ],
            "image/png": "[encoded data removed]"
          },
          "metadata": {}
        }
      ]
    },
    {
      "cell_type": "markdown",
      "source": [],
      "metadata": {
        "id": "3hDSjyYAwtF4"
      }
    },
    {
      "cell_type": "markdown",
      "source": [
        "Existe un valor atípico en la variable peos por encima de 100 o más kgs.\n",
        "\n",
        "La pregunta es, ¿qué hacer con ese dato?, verificarlo y dejarlo o modificar su valor y transformarlo a un valor numéricos veraz, viable o verificable que ouede ser el valor de la media aritmética o la mediana."
      ],
      "metadata": {
        "id": "U8Jz6P4UwtTO"
      }
    },
    {
      "cell_type": "markdown",
      "source": [
        "### Dispersión de los datos\n",
        "\n"
      ],
      "metadata": {
        "id": "3ngQ4HSPGe9y"
      }
    },
    {
      "cell_type": "code",
      "source": [
        "f_dispersion(datos[independiente], datos[dependiente], \"estaturas\", \"pesos\")\n"
      ],
      "metadata": {
        "colab": {
          "base_uri": "https://localhost:8080/",
          "height": 503
        },
        "id": "JComxZvHGiAU",
        "outputId": "57fe953c-de95-4af3-fc4b-e2f22a5039a2"
      },
      "execution_count": 40,
      "outputs": [
        {
          "output_type": "stream",
          "name": "stdout",
          "text": [
            "Diagrama de Dispersión. Corr Pearson\n"
          ]
        },
        {
          "output_type": "display_data",
          "data": {
            "text/plain": [
              "<Figure size 640x480 with 1 Axes>"
            ],
            "image/png": "[encoded data removed]"
          },
          "metadata": {}
        }
      ]
    },
    {
      "cell_type": "markdown",
      "source": [
        "La correlación *r* resultante de los datos de *estatura*  y *peso* fue de $0.7661$ que se interpreta como una correlación positiva fuerte."
      ],
      "metadata": {
        "id": "EEfgtN8Rzt1y"
      }
    },
    {
      "cell_type": "markdown",
      "source": [],
      "metadata": {
        "id": "UYQMGFenzIgM"
      }
    },
    {
      "cell_type": "markdown",
      "source": [
        "## Crear modelo de regresión lineal simple.\n",
        "\n",
        "### Preparar datos\n",
        "\n",
        "Se extraen las variables estaturas y pesos a tipo de datos listas numpy para facilitar su uso."
      ],
      "metadata": {
        "id": "E7lOD9GmJkWy"
      }
    },
    {
      "cell_type": "code",
      "source": [
        "v_independiente = datos[independiente].to_numpy()\n",
        "v_dependiente = datos[dependiente].to_numpy()\n",
        "\n",
        "print (v_independiente)\n",
        "print(v_dependiente)\n",
        "\n",
        "\n"
      ],
      "metadata": {
        "colab": {
          "base_uri": "https://localhost:8080/"
        },
        "id": "y8S7LNmqKgYL",
        "outputId": "38eabc36-a209-4899-92e0-e0f46da27092"
      },
      "execution_count": 41,
      "outputs": [
        {
          "output_type": "stream",
          "name": "stdout",
          "text": [
            "[178 172 160 192 167 170 185 175 180 170 180 180 170 183 161 150 162 177\n",
            " 190 165 164 183 175 168 170 175 175 178 170 160 162 166 178 170 163 165\n",
            " 170 167 159 165 181 170 172 171 178 165 162 187 189 174 160 190 155 180\n",
            " 175 170 165 170 180 180]\n",
            "[ 79  75  62 107  72  52  90  70  85  92  87  82  75  90  65  56  56  82\n",
            "  95  70  80  92  74  65  77  72  65  70  75  65  60  67  75  70  60  72\n",
            "  76  78  60  68  76  60  75  78  76  64  62  87  90  72  54  90  80  80\n",
            "  75  68  80  75  85  95]\n"
          ]
        }
      ]
    },
    {
      "cell_type": "markdown",
      "source": [
        "## Crear datos de entrenamiento y validación\n",
        "\n",
        "* Los datos de entrenamiento serán aleatoriamente el 80% de los datos originales.\n",
        "* Los datos de validación o prueba (test) serán aleatoriamente el complemento del 20%.\n",
        "* Los datos de entrenamiento y datos de validación deben\n",
        "set mutuamente excluyentes que signifia que están en uno conjunto o están en el otro.\n",
        "\n",
        "Ahora que se tiene la variable independiente estaturas y la variable dependiente pesos, el siguiente paso es dividir estos datos en conjuntos de entrenamiento y prueba o validación.\n",
        "\n",
        "Se utiiza el método *train_test_split()* que forma parte de la librería Scikit-Learn para dividir los datos en entrenamiento y validación.\n",
        "\n",
        "El argumento *test_size* establece el 20% para datos de validación por lo que el $80$% pertenece a los datos de entrenamiento y el resto a datos de validación o prueba."
      ],
      "metadata": {
        "id": "TIS0t7U5LRWj"
      }
    },
    {
      "cell_type": "code",
      "source": [
        "\n",
        "\n",
        "\n",
        "ind_train, ind_test, dep_train, dep_test = train_test_split(v_independiente, v_dependiente,\n",
        "                                                                            test_size=0.2,\n",
        "                                                                            random_state=2025)\n",
        "\n",
        "# Crear un DataFrame con los datos de entrenamiento\n",
        "datos_entrenamiento = pd.DataFrame({independiente: ind_train, dependiente: dep_train})\n",
        "\n",
        "# Datos de entrenamiento\n",
        "print (\"Datos de entrenamiento\")\n",
        "print(datos_entrenamiento)\n",
        "\n",
        "# Crear un DataFrame con los datos de validación o test\n",
        "datos_validacion = pd.DataFrame({independiente: dep_test, dependiente: dep_test})\n",
        "\n",
        "\n",
        "# Datos de validación\n",
        "print()\n",
        "print (\"Datos de validación\")\n",
        "print(datos_validacion)\n",
        "\n"
      ],
      "metadata": {
        "colab": {
          "base_uri": "https://localhost:8080/"
        },
        "id": "ZXeb_fUgL84r",
        "outputId": "1bbfa322-1438-4957-ac46-d017ae4df371"
      },
      "execution_count": 42,
      "outputs": [
        {
          "output_type": "stream",
          "name": "stdout",
          "text": [
            "Datos de entrenamiento\n",
            "    estaturas  pesos\n",
            "0         166     67\n",
            "1         180     80\n",
            "2         178     76\n",
            "3         165     72\n",
            "4         160     65\n",
            "5         171     78\n",
            "6         183     92\n",
            "7         170     52\n",
            "8         150     56\n",
            "9         190     90\n",
            "10        170     77\n",
            "11        167     72\n",
            "12        174     72\n",
            "13        170     75\n",
            "14        175     65\n",
            "15        175     75\n",
            "16        183     90\n",
            "17        178     70\n",
            "18        170     92\n",
            "19        172     75\n",
            "20        170     75\n",
            "21        162     62\n",
            "22        180     82\n",
            "23        170     60\n",
            "24        177     82\n",
            "25        175     72\n",
            "26        170     76\n",
            "27        170     68\n",
            "28        178     79\n",
            "29        162     56\n",
            "30        164     80\n",
            "31        165     64\n",
            "32        168     65\n",
            "33        160     54\n",
            "34        181     76\n",
            "35        170     70\n",
            "36        161     65\n",
            "37        180     87\n",
            "38        167     78\n",
            "39        175     74\n",
            "40        178     75\n",
            "41        165     80\n",
            "42        165     70\n",
            "43        192    107\n",
            "44        170     75\n",
            "45        180     95\n",
            "46        190     95\n",
            "47        162     60\n",
            "\n",
            "Datos de validación\n",
            "    estaturas  pesos\n",
            "0          80     80\n",
            "1          60     60\n",
            "2          62     62\n",
            "3          68     68\n",
            "4          85     85\n",
            "5          87     87\n",
            "6          90     90\n",
            "7          60     60\n",
            "8          85     85\n",
            "9          90     90\n",
            "10         75     75\n",
            "11         70     70\n"
          ]
        }
      ]
    },
    {
      "cell_type": "markdown",
      "source": [
        "## Construir el modelo\n",
        "\n",
        "Se construye el modelo de regresión lineal simple y se ajusta con **los datos de entrenamiento**.\n",
        "\n",
        "La función *reshape()* significa que los valores se reciben de manera bidimensional porque así los necesita el modelo."
      ],
      "metadata": {
        "id": "xW9wcZIiPyaw"
      }
    },
    {
      "cell_type": "code",
      "source": [
        "\n",
        "modelo = LinearRegression()\n",
        "modelo.fit(ind_train.reshape(-1, 1), dep_train.reshape(-1, 1))\n"
      ],
      "metadata": {
        "colab": {
          "base_uri": "https://localhost:8080/",
          "height": 80
        },
        "id": "Laud36S7P0gy",
        "outputId": "9ae69b9b-048a-4b4a-a3fb-5a4d59512b3f"
      },
      "execution_count": 43,
      "outputs": [
        {
          "output_type": "execute_result",
          "data": {
            "text/plain": [
              "LinearRegression()"
            ],
            "text/html": [
              "<style>#sk-container-id-2 {\n",
              "  /* Definition of color scheme common for light and dark mode */\n",
              "  --sklearn-color-text: #000;\n",
              "  --sklearn-color-text-muted: #666;\n",
              "  --sklearn-color-line: gray;\n",
              "  /* Definition of color scheme for unfitted estimators */\n",
              "  --sklearn-color-unfitted-level-0: #fff5e6;\n",
              "  --sklearn-color-unfitted-level-1: #f6e4d2;\n",
              "  --sklearn-color-unfitted-level-2: #ffe0b3;\n",
              "  --sklearn-color-unfitted-level-3: chocolate;\n",
              "  /* Definition of color scheme for fitted estimators */\n",
              "  --sklearn-color-fitted-level-0: #f0f8ff;\n",
              "  --sklearn-color-fitted-level-1: #d4ebff;\n",
              "  --sklearn-color-fitted-level-2: #b3dbfd;\n",
              "  --sklearn-color-fitted-level-3: cornflowerblue;\n",
              "\n",
              "  /* Specific color for light theme */\n",
              "  --sklearn-color-text-on-default-background: var(--sg-text-color, var(--theme-code-foreground, var(--jp-content-font-color1, black)));\n",
              "  --sklearn-color-background: var(--sg-background-color, var(--theme-background, var(--jp-layout-color0, white)));\n",
              "  --sklearn-color-border-box: var(--sg-text-color, var(--theme-code-foreground, var(--jp-content-font-color1, black)));\n",
              "  --sklearn-color-icon: #696969;\n",
              "\n",
              "  @media (prefers-color-scheme: dark) {\n",
              "    /* Redefinition of color scheme for dark theme */\n",
              "    --sklearn-color-text-on-default-background: var(--sg-text-color, var(--theme-code-foreground, var(--jp-content-font-color1, white)));\n",
              "    --sklearn-color-background: var(--sg-background-color, var(--theme-background, var(--jp-layout-color0, #111)));\n",
              "    --sklearn-color-border-box: var(--sg-text-color, var(--theme-code-foreground, var(--jp-content-font-color1, white)));\n",
              "    --sklearn-color-icon: #878787;\n",
              "  }\n",
              "}\n",
              "\n",
              "#sk-container-id-2 {\n",
              "  color: var(--sklearn-color-text);\n",
              "}\n",
              "\n",
              "#sk-container-id-2 pre {\n",
              "  padding: 0;\n",
              "}\n",
              "\n",
              "#sk-container-id-2 input.sk-hidden--visually {\n",
              "  border: 0;\n",
              "  clip: rect(1px 1px 1px 1px);\n",
              "  clip: rect(1px, 1px, 1px, 1px);\n",
              "  height: 1px;\n",
              "  margin: -1px;\n",
              "  overflow: hidden;\n",
              "  padding: 0;\n",
              "  position: absolute;\n",
              "  width: 1px;\n",
              "}\n",
              "\n",
              "#sk-container-id-2 div.sk-dashed-wrapped {\n",
              "  border: 1px dashed var(--sklearn-color-line);\n",
              "  margin: 0 0.4em 0.5em 0.4em;\n",
              "  box-sizing: border-box;\n",
              "  padding-bottom: 0.4em;\n",
              "  background-color: var(--sklearn-color-background);\n",
              "}\n",
              "\n",
              "#sk-container-id-2 div.sk-container {\n",
              "  /* jupyter's `normalize.less` sets `[hidden] { display: none; }`\n",
              "     but bootstrap.min.css set `[hidden] { display: none !important; }`\n",
              "     so we also need the `!important` here to be able to override the\n",
              "     default hidden behavior on the sphinx rendered scikit-learn.org.\n",
              "     See: https://github.com/scikit-learn/scikit-learn/issues/21755 */\n",
              "  display: inline-block !important;\n",
              "  position: relative;\n",
              "}\n",
              "\n",
              "#sk-container-id-2 div.sk-text-repr-fallback {\n",
              "  display: none;\n",
              "}\n",
              "\n",
              "div.sk-parallel-item,\n",
              "div.sk-serial,\n",
              "div.sk-item {\n",
              "  /* draw centered vertical line to link estimators */\n",
              "  background-image: linear-gradient(var(--sklearn-color-text-on-default-background), var(--sklearn-color-text-on-default-background));\n",
              "  background-size: 2px 100%;\n",
              "  background-repeat: no-repeat;\n",
              "  background-position: center center;\n",
              "}\n",
              "\n",
              "/* Parallel-specific style estimator block */\n",
              "\n",
              "#sk-container-id-2 div.sk-parallel-item::after {\n",
              "  content: \"\";\n",
              "  width: 100%;\n",
              "  border-bottom: 2px solid var(--sklearn-color-text-on-default-background);\n",
              "  flex-grow: 1;\n",
              "}\n",
              "\n",
              "#sk-container-id-2 div.sk-parallel {\n",
              "  display: flex;\n",
              "  align-items: stretch;\n",
              "  justify-content: center;\n",
              "  background-color: var(--sklearn-color-background);\n",
              "  position: relative;\n",
              "}\n",
              "\n",
              "#sk-container-id-2 div.sk-parallel-item {\n",
              "  display: flex;\n",
              "  flex-direction: column;\n",
              "}\n",
              "\n",
              "#sk-container-id-2 div.sk-parallel-item:first-child::after {\n",
              "  align-self: flex-end;\n",
              "  width: 50%;\n",
              "}\n",
              "\n",
              "#sk-container-id-2 div.sk-parallel-item:last-child::after {\n",
              "  align-self: flex-start;\n",
              "  width: 50%;\n",
              "}\n",
              "\n",
              "#sk-container-id-2 div.sk-parallel-item:only-child::after {\n",
              "  width: 0;\n",
              "}\n",
              "\n",
              "/* Serial-specific style estimator block */\n",
              "\n",
              "#sk-container-id-2 div.sk-serial {\n",
              "  display: flex;\n",
              "  flex-direction: column;\n",
              "  align-items: center;\n",
              "  background-color: var(--sklearn-color-background);\n",
              "  padding-right: 1em;\n",
              "  padding-left: 1em;\n",
              "}\n",
              "\n",
              "\n",
              "/* Toggleable style: style used for estimator/Pipeline/ColumnTransformer box that is\n",
              "clickable and can be expanded/collapsed.\n",
              "- Pipeline and ColumnTransformer use this feature and define the default style\n",
              "- Estimators will overwrite some part of the style using the `sk-estimator` class\n",
              "*/\n",
              "\n",
              "/* Pipeline and ColumnTransformer style (default) */\n",
              "\n",
              "#sk-container-id-2 div.sk-toggleable {\n",
              "  /* Default theme specific background. It is overwritten whether we have a\n",
              "  specific estimator or a Pipeline/ColumnTransformer */\n",
              "  background-color: var(--sklearn-color-background);\n",
              "}\n",
              "\n",
              "/* Toggleable label */\n",
              "#sk-container-id-2 label.sk-toggleable__label {\n",
              "  cursor: pointer;\n",
              "  display: flex;\n",
              "  width: 100%;\n",
              "  margin-bottom: 0;\n",
              "  padding: 0.5em;\n",
              "  box-sizing: border-box;\n",
              "  text-align: center;\n",
              "  align-items: start;\n",
              "  justify-content: space-between;\n",
              "  gap: 0.5em;\n",
              "}\n",
              "\n",
              "#sk-container-id-2 label.sk-toggleable__label .caption {\n",
              "  font-size: 0.6rem;\n",
              "  font-weight: lighter;\n",
              "  color: var(--sklearn-color-text-muted);\n",
              "}\n",
              "\n",
              "#sk-container-id-2 label.sk-toggleable__label-arrow:before {\n",
              "  /* Arrow on the left of the label */\n",
              "  content: \"▸\";\n",
              "  float: left;\n",
              "  margin-right: 0.25em;\n",
              "  color: var(--sklearn-color-icon);\n",
              "}\n",
              "\n",
              "#sk-container-id-2 label.sk-toggleable__label-arrow:hover:before {\n",
              "  color: var(--sklearn-color-text);\n",
              "}\n",
              "\n",
              "/* Toggleable content - dropdown */\n",
              "\n",
              "#sk-container-id-2 div.sk-toggleable__content {\n",
              "  max-height: 0;\n",
              "  max-width: 0;\n",
              "  overflow: hidden;\n",
              "  text-align: left;\n",
              "  /* unfitted */\n",
              "  background-color: var(--sklearn-color-unfitted-level-0);\n",
              "}\n",
              "\n",
              "#sk-container-id-2 div.sk-toggleable__content.fitted {\n",
              "  /* fitted */\n",
              "  background-color: var(--sklearn-color-fitted-level-0);\n",
              "}\n",
              "\n",
              "#sk-container-id-2 div.sk-toggleable__content pre {\n",
              "  margin: 0.2em;\n",
              "  border-radius: 0.25em;\n",
              "  color: var(--sklearn-color-text);\n",
              "  /* unfitted */\n",
              "  background-color: var(--sklearn-color-unfitted-level-0);\n",
              "}\n",
              "\n",
              "#sk-container-id-2 div.sk-toggleable__content.fitted pre {\n",
              "  /* unfitted */\n",
              "  background-color: var(--sklearn-color-fitted-level-0);\n",
              "}\n",
              "\n",
              "#sk-container-id-2 input.sk-toggleable__control:checked~div.sk-toggleable__content {\n",
              "  /* Expand drop-down */\n",
              "  max-height: 200px;\n",
              "  max-width: 100%;\n",
              "  overflow: auto;\n",
              "}\n",
              "\n",
              "#sk-container-id-2 input.sk-toggleable__control:checked~label.sk-toggleable__label-arrow:before {\n",
              "  content: \"▾\";\n",
              "}\n",
              "\n",
              "/* Pipeline/ColumnTransformer-specific style */\n",
              "\n",
              "#sk-container-id-2 div.sk-label input.sk-toggleable__control:checked~label.sk-toggleable__label {\n",
              "  color: var(--sklearn-color-text);\n",
              "  background-color: var(--sklearn-color-unfitted-level-2);\n",
              "}\n",
              "\n",
              "#sk-container-id-2 div.sk-label.fitted input.sk-toggleable__control:checked~label.sk-toggleable__label {\n",
              "  background-color: var(--sklearn-color-fitted-level-2);\n",
              "}\n",
              "\n",
              "/* Estimator-specific style */\n",
              "\n",
              "/* Colorize estimator box */\n",
              "#sk-container-id-2 div.sk-estimator input.sk-toggleable__control:checked~label.sk-toggleable__label {\n",
              "  /* unfitted */\n",
              "  background-color: var(--sklearn-color-unfitted-level-2);\n",
              "}\n",
              "\n",
              "#sk-container-id-2 div.sk-estimator.fitted input.sk-toggleable__control:checked~label.sk-toggleable__label {\n",
              "  /* fitted */\n",
              "  background-color: var(--sklearn-color-fitted-level-2);\n",
              "}\n",
              "\n",
              "#sk-container-id-2 div.sk-label label.sk-toggleable__label,\n",
              "#sk-container-id-2 div.sk-label label {\n",
              "  /* The background is the default theme color */\n",
              "  color: var(--sklearn-color-text-on-default-background);\n",
              "}\n",
              "\n",
              "/* On hover, darken the color of the background */\n",
              "#sk-container-id-2 div.sk-label:hover label.sk-toggleable__label {\n",
              "  color: var(--sklearn-color-text);\n",
              "  background-color: var(--sklearn-color-unfitted-level-2);\n",
              "}\n",
              "\n",
              "/* Label box, darken color on hover, fitted */\n",
              "#sk-container-id-2 div.sk-label.fitted:hover label.sk-toggleable__label.fitted {\n",
              "  color: var(--sklearn-color-text);\n",
              "  background-color: var(--sklearn-color-fitted-level-2);\n",
              "}\n",
              "\n",
              "/* Estimator label */\n",
              "\n",
              "#sk-container-id-2 div.sk-label label {\n",
              "  font-family: monospace;\n",
              "  font-weight: bold;\n",
              "  display: inline-block;\n",
              "  line-height: 1.2em;\n",
              "}\n",
              "\n",
              "#sk-container-id-2 div.sk-label-container {\n",
              "  text-align: center;\n",
              "}\n",
              "\n",
              "/* Estimator-specific */\n",
              "#sk-container-id-2 div.sk-estimator {\n",
              "  font-family: monospace;\n",
              "  border: 1px dotted var(--sklearn-color-border-box);\n",
              "  border-radius: 0.25em;\n",
              "  box-sizing: border-box;\n",
              "  margin-bottom: 0.5em;\n",
              "  /* unfitted */\n",
              "  background-color: var(--sklearn-color-unfitted-level-0);\n",
              "}\n",
              "\n",
              "#sk-container-id-2 div.sk-estimator.fitted {\n",
              "  /* fitted */\n",
              "  background-color: var(--sklearn-color-fitted-level-0);\n",
              "}\n",
              "\n",
              "/* on hover */\n",
              "#sk-container-id-2 div.sk-estimator:hover {\n",
              "  /* unfitted */\n",
              "  background-color: var(--sklearn-color-unfitted-level-2);\n",
              "}\n",
              "\n",
              "#sk-container-id-2 div.sk-estimator.fitted:hover {\n",
              "  /* fitted */\n",
              "  background-color: var(--sklearn-color-fitted-level-2);\n",
              "}\n",
              "\n",
              "/* Specification for estimator info (e.g. \"i\" and \"?\") */\n",
              "\n",
              "/* Common style for \"i\" and \"?\" */\n",
              "\n",
              ".sk-estimator-doc-link,\n",
              "a:link.sk-estimator-doc-link,\n",
              "a:visited.sk-estimator-doc-link {\n",
              "  float: right;\n",
              "  font-size: smaller;\n",
              "  line-height: 1em;\n",
              "  font-family: monospace;\n",
              "  background-color: var(--sklearn-color-background);\n",
              "  border-radius: 1em;\n",
              "  height: 1em;\n",
              "  width: 1em;\n",
              "  text-decoration: none !important;\n",
              "  margin-left: 0.5em;\n",
              "  text-align: center;\n",
              "  /* unfitted */\n",
              "  border: var(--sklearn-color-unfitted-level-1) 1pt solid;\n",
              "  color: var(--sklearn-color-unfitted-level-1);\n",
              "}\n",
              "\n",
              ".sk-estimator-doc-link.fitted,\n",
              "a:link.sk-estimator-doc-link.fitted,\n",
              "a:visited.sk-estimator-doc-link.fitted {\n",
              "  /* fitted */\n",
              "  border: var(--sklearn-color-fitted-level-1) 1pt solid;\n",
              "  color: var(--sklearn-color-fitted-level-1);\n",
              "}\n",
              "\n",
              "/* On hover */\n",
              "div.sk-estimator:hover .sk-estimator-doc-link:hover,\n",
              ".sk-estimator-doc-link:hover,\n",
              "div.sk-label-container:hover .sk-estimator-doc-link:hover,\n",
              ".sk-estimator-doc-link:hover {\n",
              "  /* unfitted */\n",
              "  background-color: var(--sklearn-color-unfitted-level-3);\n",
              "  color: var(--sklearn-color-background);\n",
              "  text-decoration: none;\n",
              "}\n",
              "\n",
              "div.sk-estimator.fitted:hover .sk-estimator-doc-link.fitted:hover,\n",
              ".sk-estimator-doc-link.fitted:hover,\n",
              "div.sk-label-container:hover .sk-estimator-doc-link.fitted:hover,\n",
              ".sk-estimator-doc-link.fitted:hover {\n",
              "  /* fitted */\n",
              "  background-color: var(--sklearn-color-fitted-level-3);\n",
              "  color: var(--sklearn-color-background);\n",
              "  text-decoration: none;\n",
              "}\n",
              "\n",
              "/* Span, style for the box shown on hovering the info icon */\n",
              ".sk-estimator-doc-link span {\n",
              "  display: none;\n",
              "  z-index: 9999;\n",
              "  position: relative;\n",
              "  font-weight: normal;\n",
              "  right: .2ex;\n",
              "  padding: .5ex;\n",
              "  margin: .5ex;\n",
              "  width: min-content;\n",
              "  min-width: 20ex;\n",
              "  max-width: 50ex;\n",
              "  color: var(--sklearn-color-text);\n",
              "  box-shadow: 2pt 2pt 4pt #999;\n",
              "  /* unfitted */\n",
              "  background: var(--sklearn-color-unfitted-level-0);\n",
              "  border: .5pt solid var(--sklearn-color-unfitted-level-3);\n",
              "}\n",
              "\n",
              ".sk-estimator-doc-link.fitted span {\n",
              "  /* fitted */\n",
              "  background: var(--sklearn-color-fitted-level-0);\n",
              "  border: var(--sklearn-color-fitted-level-3);\n",
              "}\n",
              "\n",
              ".sk-estimator-doc-link:hover span {\n",
              "  display: block;\n",
              "}\n",
              "\n",
              "/* \"?\"-specific style due to the `<a>` HTML tag */\n",
              "\n",
              "#sk-container-id-2 a.estimator_doc_link {\n",
              "  float: right;\n",
              "  font-size: 1rem;\n",
              "  line-height: 1em;\n",
              "  font-family: monospace;\n",
              "  background-color: var(--sklearn-color-background);\n",
              "  border-radius: 1rem;\n",
              "  height: 1rem;\n",
              "  width: 1rem;\n",
              "  text-decoration: none;\n",
              "  /* unfitted */\n",
              "  color: var(--sklearn-color-unfitted-level-1);\n",
              "  border: var(--sklearn-color-unfitted-level-1) 1pt solid;\n",
              "}\n",
              "\n",
              "#sk-container-id-2 a.estimator_doc_link.fitted {\n",
              "  /* fitted */\n",
              "  border: var(--sklearn-color-fitted-level-1) 1pt solid;\n",
              "  color: var(--sklearn-color-fitted-level-1);\n",
              "}\n",
              "\n",
              "/* On hover */\n",
              "#sk-container-id-2 a.estimator_doc_link:hover {\n",
              "  /* unfitted */\n",
              "  background-color: var(--sklearn-color-unfitted-level-3);\n",
              "  color: var(--sklearn-color-background);\n",
              "  text-decoration: none;\n",
              "}\n",
              "\n",
              "#sk-container-id-2 a.estimator_doc_link.fitted:hover {\n",
              "  /* fitted */\n",
              "  background-color: var(--sklearn-color-fitted-level-3);\n",
              "}\n",
              "</style><div id=\"sk-container-id-2\" class=\"sk-top-container\"><div class=\"sk-text-repr-fallback\"><pre>LinearRegression()</pre><b>In a Jupyter environment, please rerun this cell to show the HTML representation or trust the notebook. <br />On GitHub, the HTML representation is unable to render, please try loading this page with nbviewer.org.</b></div><div class=\"sk-container\" hidden><div class=\"sk-item\"><div class=\"sk-estimator fitted sk-toggleable\"><input class=\"sk-toggleable__control sk-hidden--visually\" id=\"sk-estimator-id-2\" type=\"checkbox\" checked><label for=\"sk-estimator-id-2\" class=\"sk-toggleable__label fitted sk-toggleable__label-arrow\"><div><div>LinearRegression</div></div><div><a class=\"sk-estimator-doc-link fitted\" rel=\"noreferrer\" target=\"_blank\" href=\"https://scikit-learn.org/1.6/modules/generated/sklearn.linear_model.LinearRegression.html\">?<span>Documentation for LinearRegression</span></a><span class=\"sk-estimator-doc-link fitted\">i<span>Fitted</span></span></div></label><div class=\"sk-toggleable__content fitted\"><pre>LinearRegression()</pre></div> </div></div></div></div>"
            ]
          },
          "metadata": {},
          "execution_count": 43
        }
      ]
    },
    {
      "cell_type": "markdown",
      "source": [],
      "metadata": {
        "id": "2FvWu6jWWZEb"
      }
    },
    {
      "cell_type": "markdown",
      "source": [
        "### Coeficientes\n",
        "\n",
        "Se extraen los coeficienes $a$ y $b$ de la fórmula de mínimos cuadrados:\n",
        "\n",
        "$$\n",
        "\\text{Predicción Y = } a + b\\cdot x_i\n",
        "$$\n",
        "ó\n",
        "$$\n",
        "\\text{Predicción Y = } \\beta_0 + \\beta_1\\cdot x_i\n",
        "$$\n",
        "\n",
        "\n",
        "¿Cómo calcular $a$ y $b$ o $\\beta_0$  y $β_1$?\n",
        "\n",
        "### Calcula la pendiente b\n",
        "$$\n",
        "b = r \\cdot \\frac{s_y}{s_x}\n",
        "$$\n",
        "\n",
        "* r es la Correlación de *Pearson*\n",
        "* $S_y$ es la desviación estándar de y\n",
        "* $S_y$ es la desviación estándar de x\n",
        "\n",
        "### Cacular la abcisa a\n",
        "\n",
        "$$\n",
        "a = \\bar{y} - b \\cdot \\bar{x}\n",
        "$$\n",
        "\n",
        "* $\\bar{y}$ la media de $y$\n",
        "* $\\bar{x}$ la media de $x$\n",
        "* $b$ la pendiente previamente calculada\n"
      ],
      "metadata": {
        "id": "YdYVdgAYT02F"
      }
    },
    {
      "cell_type": "code",
      "source": [
        "a = modelo.intercept_  # El valor de la intersección o la abcisa a\n",
        "b = modelo.coef_       # El valor de la pendiente b\n",
        "print (\"Coeficiente a :\", a)\n",
        "print (\"Coeficiente b :\", b)\n"
      ],
      "metadata": {
        "id": "6nTfhmXdUReM",
        "colab": {
          "base_uri": "https://localhost:8080/"
        },
        "outputId": "bf282958-8793-4f68-ce50-7a5f7ff71586"
      },
      "execution_count": 44,
      "outputs": [
        {
          "output_type": "stream",
          "name": "stdout",
          "text": [
            "Coeficiente a : [-103.03036447]\n",
            "Coeficiente b : [[1.03203992]]\n"
          ]
        }
      ]
    },
    {
      "cell_type": "markdown",
      "source": [
        "El modelo de regesión lineal simple arroja los valores de los coeficiente a y b de $-103.0303$ y $1.0320$ respectivamente, habiuendi particionado los datos de entrenamiento al $80$% y $20$% datos de validación con una semilla de aleatoriedad del $2025$.\n"
      ],
      "metadata": {
        "id": "9K9DydxE9qVq"
      }
    },
    {
      "cell_type": "markdown",
      "source": [
        "### Recta de regresión\n",
        "\n",
        "Se manda llamar la función *f_regresion_linea_tendencia()* para observar la recta de regresión."
      ],
      "metadata": {
        "id": "xDC7hv8gSRj7"
      }
    },
    {
      "cell_type": "code",
      "source": [
        "\n",
        "f_regresion_linea_tendencia(modelo, ind_train.reshape(-1, 1), dep_train.reshape(-1, 1),\n",
        "                             independiente, dependiente)\n",
        "\n",
        "\n"
      ],
      "metadata": {
        "colab": {
          "base_uri": "https://localhost:8080/",
          "height": 472
        },
        "id": "7n1R-m0aSUQI",
        "outputId": "6f69900d-3874-4654-f8ad-1f685e661983"
      },
      "execution_count": 45,
      "outputs": [
        {
          "output_type": "display_data",
          "data": {
            "text/plain": [
              "<Figure size 640x480 with 1 Axes>"
            ],
            "image/png": "[encoded data removed]"
          },
          "metadata": {}
        }
      ]
    },
    {
      "cell_type": "markdown",
      "source": [
        "## Métricas de evaluación\n",
        "\n",
        "El modelo se acepta si el valor de *r square* sobrepasa el $50$% tanto con los datos de entrenamiento como con los datos de validación.\n",
        "\n",
        "El modelo a través de la métrica *root mean square error (RMSE)* que significa que tanto varía las predicciones con respecto a los datos reales se deberá comparar con otros modelos y los mismos datos para evalura su rendimiento.\n",
        "\n"
      ],
      "metadata": {
        "id": "Lng0b0kTKvEB"
      }
    },
    {
      "cell_type": "markdown",
      "source": [
        "## Métrica r square"
      ],
      "metadata": {
        "id": "oP17eC9baAA-"
      }
    },
    {
      "cell_type": "code",
      "source": [
        "# Calcular el coeficiente de determinación R^2 o R square\n",
        "score = modelo.score(ind_train.reshape(-1, 1), dep_train.reshape(-1, 1))\n",
        "print(\"Coeficiente de determinación R^2:\", score)"
      ],
      "metadata": {
        "colab": {
          "base_uri": "https://localhost:8080/"
        },
        "id": "YnkA4tFqaCv9",
        "outputId": "ad7914aa-cd2b-413c-b6fd-978f4fd7ba46"
      },
      "execution_count": 46,
      "outputs": [
        {
          "output_type": "stream",
          "name": "stdout",
          "text": [
            "Coeficiente de determinación R^2: 0.5846874629507772\n"
          ]
        }
      ]
    },
    {
      "cell_type": "markdown",
      "source": [
        "La métrica de *r square* está por encima del $50$% por lo que el modelo SI se acepta y significa que la variable estatura de una persona representa o explica aproximadamente un $58.46$% a la variable peso de la misma persona."
      ],
      "metadata": {
        "id": "qixNEhOHZcLx"
      }
    },
    {
      "cell_type": "markdown",
      "source": [
        "## Predicciones\n",
        "\n",
        "¿Cuál es la predicción para valores de acuerdo al modelo de regresión lineal simple?\n",
        "$$\n",
        "\\text{Predicción Y} = -103.03036447 + 1.03203992 \\cdot x_i\n",
        "$$\n",
        "\n",
        "Se utilizan los datos de validación de la variable pesos para hacer las predicciones\n",
        "\n"
      ],
      "metadata": {
        "id": "97nrWbk0agQH"
      }
    },
    {
      "cell_type": "code",
      "source": [
        "predicciones = modelo.predict(ind_test.reshape(-1, 1))\n",
        "print(predicciones)"
      ],
      "metadata": {
        "colab": {
          "base_uri": "https://localhost:8080/"
        },
        "id": "uSppqogRcAyY",
        "outputId": "bb6c5d7e-0cff-45f7-e549-1b59a4a9b466"
      },
      "execution_count": 47,
      "outputs": [
        {
          "output_type": "stream",
          "name": "stdout",
          "text": [
            "[[56.93582303]\n",
            " [61.06398271]\n",
            " [62.09602263]\n",
            " [67.25622223]\n",
            " [82.73682102]\n",
            " [89.96110045]\n",
            " [87.89702062]\n",
            " [65.19214239]\n",
            " [82.73682102]\n",
            " [92.02518029]\n",
            " [74.48050166]\n",
            " [77.57662142]]\n"
          ]
        }
      ]
    },
    {
      "cell_type": "markdown",
      "source": [
        "Crear un *data.frame* llamado comparaciones a partir de la creación de un diccionario con los valores reales del conjunto de validacipon y las predicciones calculadas.\n",
        "\n",
        "Con la función flatten().tolist() convierte el arreglo a una lista de una dimensión."
      ],
      "metadata": {
        "id": "5w-wfi9cclnn"
      }
    },
    {
      "cell_type": "code",
      "source": [
        "\n",
        "diccionario = {independiente: ind_test.flatten().tolist(),\n",
        "                'Real' : dep_test.flatten().tolist(),\n",
        "               'Predicho' : predicciones.flatten().tolist() }\n",
        "# diccionario\n",
        "\n",
        "comparaciones = pd.DataFrame(diccionario)\n",
        "print (comparaciones)"
      ],
      "metadata": {
        "colab": {
          "base_uri": "https://localhost:8080/"
        },
        "id": "gm-Y3kcYcd2W",
        "outputId": "828528d5-65f1-4b9b-a0d8-62a888231e88"
      },
      "execution_count": 48,
      "outputs": [
        {
          "output_type": "stream",
          "name": "stdout",
          "text": [
            "    estaturas  Real   Predicho\n",
            "0         155    80  56.935823\n",
            "1         159    60  61.063983\n",
            "2         160    62  62.096023\n",
            "3         165    68  67.256222\n",
            "4         180    85  82.736821\n",
            "5         187    87  89.961100\n",
            "6         185    90  87.897021\n",
            "7         163    60  65.192142\n",
            "8         180    85  82.736821\n",
            "9         189    90  92.025180\n",
            "10        172    75  74.480502\n",
            "11        175    70  77.576621\n"
          ]
        }
      ]
    },
    {
      "cell_type": "markdown",
      "source": [
        "¿Qué tanto se desvián las predicciones de los valores reales?\n",
        "\n",
        "Error estándar médio MSE\n",
        "$$\n",
        "MSE = \\frac{\\sum(predicho_i - real_i)^{2}}{n}\n",
        "$$\n",
        "\n",
        "Raiz del error estándar medio *Root Mean Square Error*\n",
        "\n",
        "$$\n",
        "RMSE = \\sqrt{\\frac{\\sum(predicho_i - real_i)^{2}}{n}}\n",
        "$$"
      ],
      "metadata": {
        "id": "8RDIYFNfc5p6"
      }
    },
    {
      "cell_type": "code",
      "source": [
        "print('Mean Absolute Error: MAE', metrics.mean_absolute_error(dep_test, predicciones))\n",
        "print('Mean Squared Error: MSE', metrics.mean_squared_error(dep_test, predicciones))\n",
        "print('Root Mean Squared Error RMSE:', np.sqrt(metrics.mean_squared_error(dep_test, predicciones)))\n",
        "\n",
        "cova, r, r_square =  f_cov_corr(ind_test, dep_test)\n",
        "print (\"r square = \", r_square)\n",
        "\n"
      ],
      "metadata": {
        "colab": {
          "base_uri": "https://localhost:8080/"
        },
        "id": "ev378JUqddin",
        "outputId": "14ec05ec-ee2e-45c2-ef8f-ecb1f7dcbfef"
      },
      "execution_count": 49,
      "outputs": [
        {
          "output_type": "stream",
          "name": "stdout",
          "text": [
            "Mean Absolute Error: MAE 4.1559866935385985\n",
            "Mean Squared Error: MSE 53.81834241227984\n",
            "Root Mean Squared Error RMSE: 7.33609858250827\n",
            "r square =  0.6395356143748656\n"
          ]
        }
      ]
    },
    {
      "cell_type": "markdown",
      "source": [
        "# Interpretación\n",
        "\n",
        "pendiente ...\n",
        "\n",
        "Se cargó un conjunto de datos con variables de interés estaturas y pesos corporales de personas.\n",
        "\n",
        "Se exploraron estadísticos de los datos observándose que no existen datos atípicos.\n",
        "\n",
        "Se construyó un modelo de regresión lineal simple con datos de entrenamiento. La variable estaturas fué la variable predictora o independiente y la variable peso fue la variable predictiva, objetivo o dependiente.\n",
        "\n",
        "A partir del modelo de regresión lineal simple se extrajeron los coeficientes de la abcisa o intersección  a  y la pendiente  b  teniendo valores de  $a=-103.0303$  y  $b=1.0320$ , que son los valores de los coeficientes que definen la recta de regresión o recta de estimación para cada valor de la variable independoiente.\n",
        "\n",
        "* Coeficiente a : [-103.03036447]\n",
        "* Coeficiente b : [[1.03203992]]\n",
        "\n",
        "Se visualizó la dispersión de los datos con los valores de entrenamiento y se estimó la recta de regresión presentada también visualmente.\n",
        "\n",
        "Habiendo relizado una evaluación del modelo con datos de entrenamiento o datos que se utilizaron para construir el modelo con el estadístico *r square* o coeficiente de determinación se encontró que el valor de estaturas representa aproximadamente un  $58$ % al valor del peso corporal de una persona.\n",
        "\n",
        "Se utilizaron datos de prueba o datos de validación con las mismas variables de estaturas y pesos para construir predicciones.\n",
        "\n",
        "Habiendo relizado una evaluación del modelo con los datos de validación o datos de prueba con el estadístico *r square* o coeficiente de determinación se encontró que el valor de estatura representa aproximadamente un  $63$% al valor del peso corporal de una persona.\n",
        "\n",
        "El modelo se acepta datos que el valor de *r square* como métrica establecida inicialmente sobrepasa el  $50$% tanto con los datos de entrenamiento como con los datos de validación.\n",
        "\n",
        "El valor de *RMSE* *root mean square error* o error cuadrático medio significa eu tanto el modelo es eficiente y su valor cercano a cero representa esa eficiencia. El valor fue de   $7.33$  aproximadamente y debe ser comparado contra otro modelo para medir su eficiencia en relación con otros.\n",
        "\n",
        "!Hasta la próxima!\n",
        "\n"
      ],
      "metadata": {
        "id": "XloeyYmDd3Nh"
      }
    }
  ]
}