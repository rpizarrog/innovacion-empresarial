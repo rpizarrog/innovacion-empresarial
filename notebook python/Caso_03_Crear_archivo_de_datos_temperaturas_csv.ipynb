{
  "nbformat": 4,
  "nbformat_minor": 0,
  "metadata": {
    "colab": {
      "provenance": [],
      "authorship_tag": "ABX9TyO9wfAjMP9z81nQJd7aRI2/",
      "include_colab_link": true
    },
    "kernelspec": {
      "name": "python3",
      "display_name": "Python 3"
    },
    "language_info": {
      "name": "python"
    },
    "widgets": {
      "application/vnd.jupyter.widget-state+json": {
        "c866bf1ec9554038a64a68316d9c7b2c": {
          "model_module": "@jupyter-widgets/output",
          "model_name": "OutputModel",
          "model_module_version": "1.0.0",
          "state": {
            "_dom_classes": [],
            "_model_module": "@jupyter-widgets/output",
            "_model_module_version": "1.0.0",
            "_model_name": "OutputModel",
            "_view_count": null,
            "_view_module": "@jupyter-widgets/output",
            "_view_module_version": "1.0.0",
            "_view_name": "OutputView",
            "layout": "IPY_MODEL_eeaaa932b2804813aaadcb8079ce7348",
            "msg_id": "",
            "outputs": [
              {
                "output_type": "display_data",
                "data": {
                  "text/plain": "HTML(value='<h3>Primeros 20 registros:</h3>')",
                  "application/vnd.jupyter.widget-view+json": {
                    "version_major": 2,
                    "version_minor": 0,
                    "model_id": "84bdb21e8fc5457c99abec46f0482d0a"
                  }
                },
                "metadata": {}
              },
              {
                "output_type": "display_data",
                "data": {
                  "text/plain": "        fecha  vel_viento  presion_atmosferica  humedad_relativa  \\\n0  2018-01-01        28.0               1010.0              41.0   \n1  2018-01-02        23.0               1048.0              32.0   \n2  2018-01-03        21.0               1023.0              57.0   \n3  2018-01-04        34.0               1008.0              84.0   \n4  2018-01-05        34.0               1037.0              84.0   \n5  2018-01-06        31.0                954.0              46.0   \n6  2018-01-07        32.0                980.0              89.0   \n7  2018-01-08        31.0               1024.0              83.0   \n8  2018-01-09        36.0               1046.0              70.0   \n9  2018-01-10        34.0               1050.0              26.0   \n10 2018-01-11        36.0               1018.0              46.0   \n11 2018-01-12        31.0                962.0              53.0   \n12 2018-01-13        39.0                998.0              73.0   \n13 2018-01-14        36.0               1036.0              26.0   \n14 2018-01-15        37.0               1035.0              21.0   \n15 2018-01-16        33.0               1036.0              39.0   \n16 2018-01-17        36.0               1043.0              56.0   \n17 2018-01-18        20.0                974.0              20.0   \n18 2018-01-19        37.0                993.0              55.0   \n19 2018-01-20        27.0                967.0              26.0   \n\n    frentes_frios  radiacion_solar  luminosidad  contaminacion_atmosferica  \\\n0               1            613.0         39.0                      178.0   \n1               1            180.0         85.0                      271.0   \n2               1            198.0         65.0                        1.0   \n3               1            216.0         27.0                      126.0   \n4               0            813.0         49.0                      241.0   \n5               1            780.0         82.0                       28.0   \n6               0            450.0         74.0                      251.0   \n7               1            323.0         33.0                      476.0   \n8               1            822.0         45.0                      156.0   \n9               1            609.0         99.0                      384.0   \n10              0            884.0         87.0                      237.0   \n11              0            780.0         41.0                      131.0   \n12              0            864.0         14.0                      247.0   \n13              0            955.0         72.0                      161.0   \n14              1            147.0         88.0                      121.0   \n15              0            213.0         41.0                      397.0   \n16              0            784.0          7.0                      133.0   \n17              0            839.0         12.0                      283.0   \n18              0            894.0         15.0                      227.0   \n19              1            569.0         24.0                        1.0   \n\n    temperatura  \n0          18.0  \n1          16.0  \n2          10.0  \n3          10.0  \n4          22.0  \n5          22.0  \n6           7.0  \n7           9.0  \n8          16.0  \n9          17.0  \n10         23.0  \n11         24.0  \n12         11.0  \n13         19.0  \n14         19.0  \n15         22.0  \n16         16.0  \n17         17.0  \n18         21.0  \n19          8.0  ",
                  "text/html": "\n  <div id=\"df-a3dcc1b4-19f7-4963-b45d-c81619c84341\" class=\"colab-df-container\">\n    <div>\n<style scoped>\n    .dataframe tbody tr th:only-of-type {\n        vertical-align: middle;\n    }\n\n    .dataframe tbody tr th {\n        vertical-align: top;\n    }\n\n    .dataframe thead th {\n        text-align: right;\n    }\n</style>\n<table border=\"1\" class=\"dataframe\">\n  <thead>\n    <tr style=\"text-align: right;\">\n      <th></th>\n      <th>fecha</th>\n      <th>vel_viento</th>\n      <th>presion_atmosferica</th>\n      <th>humedad_relativa</th>\n      <th>frentes_frios</th>\n      <th>radiacion_solar</th>\n      <th>luminosidad</th>\n      <th>contaminacion_atmosferica</th>\n      <th>temperatura</th>\n    </tr>\n  </thead>\n  <tbody>\n    <tr>\n      <th>0</th>\n      <td>2018-01-01</td>\n      <td>28.0</td>\n      <td>1010.0</td>\n      <td>41.0</td>\n      <td>1</td>\n      <td>613.0</td>\n      <td>39.0</td>\n      <td>178.0</td>\n      <td>18.0</td>\n    </tr>\n    <tr>\n      <th>1</th>\n      <td>2018-01-02</td>\n      <td>23.0</td>\n      <td>1048.0</td>\n      <td>32.0</td>\n      <td>1</td>\n      <td>180.0</td>\n      <td>85.0</td>\n      <td>271.0</td>\n      <td>16.0</td>\n    </tr>\n    <tr>\n      <th>2</th>\n      <td>2018-01-03</td>\n      <td>21.0</td>\n      <td>1023.0</td>\n      <td>57.0</td>\n      <td>1</td>\n      <td>198.0</td>\n      <td>65.0</td>\n      <td>1.0</td>\n      <td>10.0</td>\n    </tr>\n    <tr>\n      <th>3</th>\n      <td>2018-01-04</td>\n      <td>34.0</td>\n      <td>1008.0</td>\n      <td>84.0</td>\n      <td>1</td>\n      <td>216.0</td>\n      <td>27.0</td>\n      <td>126.0</td>\n      <td>10.0</td>\n    </tr>\n    <tr>\n      <th>4</th>\n      <td>2018-01-05</td>\n      <td>34.0</td>\n      <td>1037.0</td>\n      <td>84.0</td>\n      <td>0</td>\n      <td>813.0</td>\n      <td>49.0</td>\n      <td>241.0</td>\n      <td>22.0</td>\n    </tr>\n    <tr>\n      <th>5</th>\n      <td>2018-01-06</td>\n      <td>31.0</td>\n      <td>954.0</td>\n      <td>46.0</td>\n      <td>1</td>\n      <td>780.0</td>\n      <td>82.0</td>\n      <td>28.0</td>\n      <td>22.0</td>\n    </tr>\n    <tr>\n      <th>6</th>\n      <td>2018-01-07</td>\n      <td>32.0</td>\n      <td>980.0</td>\n      <td>89.0</td>\n      <td>0</td>\n      <td>450.0</td>\n      <td>74.0</td>\n      <td>251.0</td>\n      <td>7.0</td>\n    </tr>\n    <tr>\n      <th>7</th>\n      <td>2018-01-08</td>\n      <td>31.0</td>\n      <td>1024.0</td>\n      <td>83.0</td>\n      <td>1</td>\n      <td>323.0</td>\n      <td>33.0</td>\n      <td>476.0</td>\n      <td>9.0</td>\n    </tr>\n    <tr>\n      <th>8</th>\n      <td>2018-01-09</td>\n      <td>36.0</td>\n      <td>1046.0</td>\n      <td>70.0</td>\n      <td>1</td>\n      <td>822.0</td>\n      <td>45.0</td>\n      <td>156.0</td>\n      <td>16.0</td>\n    </tr>\n    <tr>\n      <th>9</th>\n      <td>2018-01-10</td>\n      <td>34.0</td>\n      <td>1050.0</td>\n      <td>26.0</td>\n      <td>1</td>\n      <td>609.0</td>\n      <td>99.0</td>\n      <td>384.0</td>\n      <td>17.0</td>\n    </tr>\n    <tr>\n      <th>10</th>\n      <td>2018-01-11</td>\n      <td>36.0</td>\n      <td>1018.0</td>\n      <td>46.0</td>\n      <td>0</td>\n      <td>884.0</td>\n      <td>87.0</td>\n      <td>237.0</td>\n      <td>23.0</td>\n    </tr>\n    <tr>\n      <th>11</th>\n      <td>2018-01-12</td>\n      <td>31.0</td>\n      <td>962.0</td>\n      <td>53.0</td>\n      <td>0</td>\n      <td>780.0</td>\n      <td>41.0</td>\n      <td>131.0</td>\n      <td>24.0</td>\n    </tr>\n    <tr>\n      <th>12</th>\n      <td>2018-01-13</td>\n      <td>39.0</td>\n      <td>998.0</td>\n      <td>73.0</td>\n      <td>0</td>\n      <td>864.0</td>\n      <td>14.0</td>\n      <td>247.0</td>\n      <td>11.0</td>\n    </tr>\n    <tr>\n      <th>13</th>\n      <td>2018-01-14</td>\n      <td>36.0</td>\n      <td>1036.0</td>\n      <td>26.0</td>\n      <td>0</td>\n      <td>955.0</td>\n      <td>72.0</td>\n      <td>161.0</td>\n      <td>19.0</td>\n    </tr>\n    <tr>\n      <th>14</th>\n      <td>2018-01-15</td>\n      <td>37.0</td>\n      <td>1035.0</td>\n      <td>21.0</td>\n      <td>1</td>\n      <td>147.0</td>\n      <td>88.0</td>\n      <td>121.0</td>\n      <td>19.0</td>\n    </tr>\n    <tr>\n      <th>15</th>\n      <td>2018-01-16</td>\n      <td>33.0</td>\n      <td>1036.0</td>\n      <td>39.0</td>\n      <td>0</td>\n      <td>213.0</td>\n      <td>41.0</td>\n      <td>397.0</td>\n      <td>22.0</td>\n    </tr>\n    <tr>\n      <th>16</th>\n      <td>2018-01-17</td>\n      <td>36.0</td>\n      <td>1043.0</td>\n      <td>56.0</td>\n      <td>0</td>\n      <td>784.0</td>\n      <td>7.0</td>\n      <td>133.0</td>\n      <td>16.0</td>\n    </tr>\n    <tr>\n      <th>17</th>\n      <td>2018-01-18</td>\n      <td>20.0</td>\n      <td>974.0</td>\n      <td>20.0</td>\n      <td>0</td>\n      <td>839.0</td>\n      <td>12.0</td>\n      <td>283.0</td>\n      <td>17.0</td>\n    </tr>\n    <tr>\n      <th>18</th>\n      <td>2018-01-19</td>\n      <td>37.0</td>\n      <td>993.0</td>\n      <td>55.0</td>\n      <td>0</td>\n      <td>894.0</td>\n      <td>15.0</td>\n      <td>227.0</td>\n      <td>21.0</td>\n    </tr>\n    <tr>\n      <th>19</th>\n      <td>2018-01-20</td>\n      <td>27.0</td>\n      <td>967.0</td>\n      <td>26.0</td>\n      <td>1</td>\n      <td>569.0</td>\n      <td>24.0</td>\n      <td>1.0</td>\n      <td>8.0</td>\n    </tr>\n  </tbody>\n</table>\n</div>\n    <div class=\"colab-df-buttons\">\n\n  <div class=\"colab-df-container\">\n    <button class=\"colab-df-convert\" onclick=\"convertToInteractive('df-a3dcc1b4-19f7-4963-b45d-c81619c84341')\"\n            title=\"Convert this dataframe to an interactive table.\"\n            style=\"display:none;\">\n\n  <svg xmlns=\"http://www.w3.org/2000/svg\" height=\"24px\" viewBox=\"0 -960 960 960\">\n    <path d=\"M120-120v-720h720v720H120Zm60-500h600v-160H180v160Zm220 220h160v-160H400v160Zm0 220h160v-160H400v160ZM180-400h160v-160H180v160Zm440 0h160v-160H620v160ZM180-180h160v-160H180v160Zm440 0h160v-160H620v160Z\"/>\n  </svg>\n    </button>\n\n  <style>\n    .colab-df-container {\n      display:flex;\n      gap: 12px;\n    }\n\n    .colab-df-convert {\n      background-color: #E8F0FE;\n      border: none;\n      border-radius: 50%;\n      cursor: pointer;\n      display: none;\n      fill: #1967D2;\n      height: 32px;\n      padding: 0 0 0 0;\n      width: 32px;\n    }\n\n    .colab-df-convert:hover {\n      background-color: #E2EBFA;\n      box-shadow: 0px 1px 2px rgba(60, 64, 67, 0.3), 0px 1px 3px 1px rgba(60, 64, 67, 0.15);\n      fill: #174EA6;\n    }\n\n    .colab-df-buttons div {\n      margin-bottom: 4px;\n    }\n\n    [theme=dark] .colab-df-convert {\n      background-color: #3B4455;\n      fill: #D2E3FC;\n    }\n\n    [theme=dark] .colab-df-convert:hover {\n      background-color: #434B5C;\n      box-shadow: 0px 1px 3px 1px rgba(0, 0, 0, 0.15);\n      filter: drop-shadow(0px 1px 2px rgba(0, 0, 0, 0.3));\n      fill: #FFFFFF;\n    }\n  </style>\n\n    <script>\n      const buttonEl =\n        document.querySelector('#df-a3dcc1b4-19f7-4963-b45d-c81619c84341 button.colab-df-convert');\n      buttonEl.style.display =\n        google.colab.kernel.accessAllowed ? 'block' : 'none';\n\n      async function convertToInteractive(key) {\n        const element = document.querySelector('#df-a3dcc1b4-19f7-4963-b45d-c81619c84341');\n        const dataTable =\n          await google.colab.kernel.invokeFunction('convertToInteractive',\n                                                    [key], {});\n        if (!dataTable) return;\n\n        const docLinkHtml = 'Like what you see? Visit the ' +\n          '<a target=\"_blank\" href=https://colab.research.google.com/notebooks/data_table.ipynb>data table notebook</a>'\n          + ' to learn more about interactive tables.';\n        element.innerHTML = '';\n        dataTable['output_type'] = 'display_data';\n        await google.colab.output.renderOutput(dataTable, element);\n        const docLink = document.createElement('div');\n        docLink.innerHTML = docLinkHtml;\n        element.appendChild(docLink);\n      }\n    </script>\n  </div>\n\n\n<div id=\"df-07c761d2-5001-4d8f-8281-9e1d1091da59\">\n  <button class=\"colab-df-quickchart\" onclick=\"quickchart('df-07c761d2-5001-4d8f-8281-9e1d1091da59')\"\n            title=\"Suggest charts\"\n            style=\"display:none;\">\n\n<svg xmlns=\"http://www.w3.org/2000/svg\" height=\"24px\"viewBox=\"0 0 24 24\"\n     width=\"24px\">\n    <g>\n        <path d=\"M19 3H5c-1.1 0-2 .9-2 2v14c0 1.1.9 2 2 2h14c1.1 0 2-.9 2-2V5c0-1.1-.9-2-2-2zM9 17H7v-7h2v7zm4 0h-2V7h2v10zm4 0h-2v-4h2v4z\"/>\n    </g>\n</svg>\n  </button>\n\n<style>\n  .colab-df-quickchart {\n      --bg-color: #E8F0FE;\n      --fill-color: #1967D2;\n      --hover-bg-color: #E2EBFA;\n      --hover-fill-color: #174EA6;\n      --disabled-fill-color: #AAA;\n      --disabled-bg-color: #DDD;\n  }\n\n  [theme=dark] .colab-df-quickchart {\n      --bg-color: #3B4455;\n      --fill-color: #D2E3FC;\n      --hover-bg-color: #434B5C;\n      --hover-fill-color: #FFFFFF;\n      --disabled-bg-color: #3B4455;\n      --disabled-fill-color: #666;\n  }\n\n  .colab-df-quickchart {\n    background-color: var(--bg-color);\n    border: none;\n    border-radius: 50%;\n    cursor: pointer;\n    display: none;\n    fill: var(--fill-color);\n    height: 32px;\n    padding: 0;\n    width: 32px;\n  }\n\n  .colab-df-quickchart:hover {\n    background-color: var(--hover-bg-color);\n    box-shadow: 0 1px 2px rgba(60, 64, 67, 0.3), 0 1px 3px 1px rgba(60, 64, 67, 0.15);\n    fill: var(--button-hover-fill-color);\n  }\n\n  .colab-df-quickchart-complete:disabled,\n  .colab-df-quickchart-complete:disabled:hover {\n    background-color: var(--disabled-bg-color);\n    fill: var(--disabled-fill-color);\n    box-shadow: none;\n  }\n\n  .colab-df-spinner {\n    border: 2px solid var(--fill-color);\n    border-color: transparent;\n    border-bottom-color: var(--fill-color);\n    animation:\n      spin 1s steps(1) infinite;\n  }\n\n  @keyframes spin {\n    0% {\n      border-color: transparent;\n      border-bottom-color: var(--fill-color);\n      border-left-color: var(--fill-color);\n    }\n    20% {\n      border-color: transparent;\n      border-left-color: var(--fill-color);\n      border-top-color: var(--fill-color);\n    }\n    30% {\n      border-color: transparent;\n      border-left-color: var(--fill-color);\n      border-top-color: var(--fill-color);\n      border-right-color: var(--fill-color);\n    }\n    40% {\n      border-color: transparent;\n      border-right-color: var(--fill-color);\n      border-top-color: var(--fill-color);\n    }\n    60% {\n      border-color: transparent;\n      border-right-color: var(--fill-color);\n    }\n    80% {\n      border-color: transparent;\n      border-right-color: var(--fill-color);\n      border-bottom-color: var(--fill-color);\n    }\n    90% {\n      border-color: transparent;\n      border-bottom-color: var(--fill-color);\n    }\n  }\n</style>\n\n  <script>\n    async function quickchart(key) {\n      const quickchartButtonEl =\n        document.querySelector('#' + key + ' button');\n      quickchartButtonEl.disabled = true;  // To prevent multiple clicks.\n      quickchartButtonEl.classList.add('colab-df-spinner');\n      try {\n        const charts = await google.colab.kernel.invokeFunction(\n            'suggestCharts', [key], {});\n      } catch (error) {\n        console.error('Error during call to suggestCharts:', error);\n      }\n      quickchartButtonEl.classList.remove('colab-df-spinner');\n      quickchartButtonEl.classList.add('colab-df-quickchart-complete');\n    }\n    (() => {\n      let quickchartButtonEl =\n        document.querySelector('#df-07c761d2-5001-4d8f-8281-9e1d1091da59 button');\n      quickchartButtonEl.style.display =\n        google.colab.kernel.accessAllowed ? 'block' : 'none';\n    })();\n  </script>\n</div>\n    </div>\n  </div>\n",
                  "application/vnd.google.colaboratory.intrinsic+json": {
                    "type": "dataframe",
                    "summary": "{\n  \"name\": \"# print (datos\",\n  \"rows\": 20,\n  \"fields\": [\n    {\n      \"column\": \"fecha\",\n      \"properties\": {\n        \"dtype\": \"date\",\n        \"min\": \"2018-01-01 00:00:00\",\n        \"max\": \"2018-01-20 00:00:00\",\n        \"num_unique_values\": 20,\n        \"samples\": [\n          \"2018-01-01 00:00:00\",\n          \"2018-01-18 00:00:00\",\n          \"2018-01-16 00:00:00\"\n        ],\n        \"semantic_type\": \"\",\n        \"description\": \"\"\n      }\n    },\n    {\n      \"column\": \"vel_viento\",\n      \"properties\": {\n        \"dtype\": \"number\",\n        \"std\": 5.454114815536306,\n        \"min\": 20.0,\n        \"max\": 39.0,\n        \"num_unique_values\": 12,\n        \"samples\": [\n          20.0,\n          33.0,\n          28.0\n        ],\n        \"semantic_type\": \"\",\n        \"description\": \"\"\n      }\n    },\n    {\n      \"column\": \"presion_atmosferica\",\n      \"properties\": {\n        \"dtype\": \"number\",\n        \"std\": 31.117603750255174,\n        \"min\": 954.0,\n        \"max\": 1050.0,\n        \"num_unique_values\": 19,\n        \"samples\": [\n          1010.0,\n          954.0,\n          962.0\n        ],\n        \"semantic_type\": \"\",\n        \"description\": \"\"\n      }\n    },\n    {\n      \"column\": \"humedad_relativa\",\n      \"properties\": {\n        \"dtype\": \"number\",\n        \"std\": 22.896276415264786,\n        \"min\": 20.0,\n        \"max\": 89.0,\n        \"num_unique_values\": 16,\n        \"samples\": [\n          41.0,\n          32.0,\n          89.0\n        ],\n        \"semantic_type\": \"\",\n        \"description\": \"\"\n      }\n    },\n    {\n      \"column\": \"frentes_frios\",\n      \"properties\": {\n        \"dtype\": \"number\",\n        \"std\": 0,\n        \"min\": 0,\n        \"max\": 1,\n        \"num_unique_values\": 2,\n        \"samples\": [\n          0,\n          1\n        ],\n        \"semantic_type\": \"\",\n        \"description\": \"\"\n      }\n    },\n    {\n      \"column\": \"radiacion_solar\",\n      \"properties\": {\n        \"dtype\": \"number\",\n        \"std\": 285.97907082052075,\n        \"min\": 147.0,\n        \"max\": 955.0,\n        \"num_unique_values\": 19,\n        \"samples\": [\n          613.0,\n          780.0\n        ],\n        \"semantic_type\": \"\",\n        \"description\": \"\"\n      }\n    },\n    {\n      \"column\": \"luminosidad\",\n      \"properties\": {\n        \"dtype\": \"number\",\n        \"std\": 29.348137213369043,\n        \"min\": 7.0,\n        \"max\": 99.0,\n        \"num_unique_values\": 19,\n        \"samples\": [\n          39.0,\n          82.0\n        ],\n        \"semantic_type\": \"\",\n        \"description\": \"\"\n      }\n    },\n    {\n      \"column\": \"contaminacion_atmosferica\",\n      \"properties\": {\n        \"dtype\": \"number\",\n        \"std\": 126.26809406555311,\n        \"min\": 1.0,\n        \"max\": 476.0,\n        \"num_unique_values\": 19,\n        \"samples\": [\n          178.0,\n          28.0\n        ],\n        \"semantic_type\": \"\",\n        \"description\": \"\"\n      }\n    },\n    {\n      \"column\": \"temperatura\",\n      \"properties\": {\n        \"dtype\": \"number\",\n        \"std\": 5.4219340111304035,\n        \"min\": 7.0,\n        \"max\": 24.0,\n        \"num_unique_values\": 13,\n        \"samples\": [\n          21.0,\n          11.0\n        ],\n        \"semantic_type\": \"\",\n        \"description\": \"\"\n      }\n    }\n  ]\n}"
                  }
                },
                "metadata": {}
              },
              {
                "output_type": "display_data",
                "data": {
                  "text/plain": "HTML(value='<h3>Últimos 20 registros:</h3>')",
                  "application/vnd.jupyter.widget-view+json": {
                    "version_major": 2,
                    "version_minor": 0,
                    "model_id": "a26f0806fed64b7093126d0668926543"
                  }
                },
                "metadata": {}
              },
              {
                "output_type": "display_data",
                "data": {
                  "text/plain": "          fecha  vel_viento  presion_atmosferica  humedad_relativa  \\\n2225 2024-02-04        36.0               1017.0              37.0   \n2226 2024-02-05        32.0               1012.0              34.0   \n2227 2024-02-06        35.0                982.0              72.0   \n2228 2024-02-07        33.0               1025.0              31.0   \n2229 2024-02-08        33.0                969.0              44.0   \n2230 2024-02-09        37.0                994.0              86.0   \n2231 2024-02-10        32.0               1005.0              68.0   \n2232 2024-02-11        33.0                993.0              54.0   \n2233 2024-02-12        26.0                982.0              62.0   \n2234 2024-02-13        35.0               1028.0              69.0   \n2235 2024-02-14        33.0               1035.0              95.0   \n2236 2024-02-15        40.0                984.0              28.0   \n2237 2024-02-16        36.0                974.0              52.0   \n2238 2024-02-17        32.0               1014.0              63.0   \n2239 2024-02-18        32.0                956.0              99.0   \n2240 2024-02-19        40.0               1023.0              60.0   \n2241 2024-02-20        34.0               1039.0             100.0   \n2242 2024-02-21        43.0               1023.0              46.0   \n2243 2024-02-22        33.0               1029.0              38.0   \n2244 2024-02-23        32.0                970.0              58.0   \n\n      frentes_frios  radiacion_solar  luminosidad  contaminacion_atmosferica  \\\n2225              0            414.0         11.0                        9.0   \n2226              1            505.0         93.0                      155.0   \n2227              0            510.0         71.0                       30.0   \n2228              0            256.0         56.0                      322.0   \n2229              0            393.0         23.0                      408.0   \n2230              0            705.0          3.0                      423.0   \n2231              1            392.0         88.0                      193.0   \n2232              0            823.0         34.0                      481.0   \n2233              0            142.0         57.0                      331.0   \n2234              1            781.0         61.0                       98.0   \n2235              0            275.0         35.0                      395.0   \n2236              0            728.0         14.0                       80.0   \n2237              0            376.0         58.0                      474.0   \n2238              1            138.0         34.0                      427.0   \n2239              1            275.0         63.0                      243.0   \n2240              1            533.0         20.0                      261.0   \n2241              1            470.0         29.0                      495.0   \n2242              1            634.0          2.0                      289.0   \n2243              1            699.0         18.0                      157.0   \n2244              0            408.0         26.0                      469.0   \n\n      temperatura  \n2225         14.0  \n2226          6.0  \n2227         15.0  \n2228         20.0  \n2229         13.0  \n2230         23.0  \n2231          8.0  \n2232         21.0  \n2233         15.0  \n2234         18.0  \n2235         17.0  \n2236         24.0  \n2237         22.0  \n2238         22.0  \n2239         11.0  \n2240         12.0  \n2241         13.0  \n2242          3.0  \n2243         12.0  \n2244         14.0  ",
                  "text/html": "\n  <div id=\"df-d4981d8e-ca34-404b-b61a-944706a020fa\" class=\"colab-df-container\">\n    <div>\n<style scoped>\n    .dataframe tbody tr th:only-of-type {\n        vertical-align: middle;\n    }\n\n    .dataframe tbody tr th {\n        vertical-align: top;\n    }\n\n    .dataframe thead th {\n        text-align: right;\n    }\n</style>\n<table border=\"1\" class=\"dataframe\">\n  <thead>\n    <tr style=\"text-align: right;\">\n      <th></th>\n      <th>fecha</th>\n      <th>vel_viento</th>\n      <th>presion_atmosferica</th>\n      <th>humedad_relativa</th>\n      <th>frentes_frios</th>\n      <th>radiacion_solar</th>\n      <th>luminosidad</th>\n      <th>contaminacion_atmosferica</th>\n      <th>temperatura</th>\n    </tr>\n  </thead>\n  <tbody>\n    <tr>\n      <th>2225</th>\n      <td>2024-02-04</td>\n      <td>36.0</td>\n      <td>1017.0</td>\n      <td>37.0</td>\n      <td>0</td>\n      <td>414.0</td>\n      <td>11.0</td>\n      <td>9.0</td>\n      <td>14.0</td>\n    </tr>\n    <tr>\n      <th>2226</th>\n      <td>2024-02-05</td>\n      <td>32.0</td>\n      <td>1012.0</td>\n      <td>34.0</td>\n      <td>1</td>\n      <td>505.0</td>\n      <td>93.0</td>\n      <td>155.0</td>\n      <td>6.0</td>\n    </tr>\n    <tr>\n      <th>2227</th>\n      <td>2024-02-06</td>\n      <td>35.0</td>\n      <td>982.0</td>\n      <td>72.0</td>\n      <td>0</td>\n      <td>510.0</td>\n      <td>71.0</td>\n      <td>30.0</td>\n      <td>15.0</td>\n    </tr>\n    <tr>\n      <th>2228</th>\n      <td>2024-02-07</td>\n      <td>33.0</td>\n      <td>1025.0</td>\n      <td>31.0</td>\n      <td>0</td>\n      <td>256.0</td>\n      <td>56.0</td>\n      <td>322.0</td>\n      <td>20.0</td>\n    </tr>\n    <tr>\n      <th>2229</th>\n      <td>2024-02-08</td>\n      <td>33.0</td>\n      <td>969.0</td>\n      <td>44.0</td>\n      <td>0</td>\n      <td>393.0</td>\n      <td>23.0</td>\n      <td>408.0</td>\n      <td>13.0</td>\n    </tr>\n    <tr>\n      <th>2230</th>\n      <td>2024-02-09</td>\n      <td>37.0</td>\n      <td>994.0</td>\n      <td>86.0</td>\n      <td>0</td>\n      <td>705.0</td>\n      <td>3.0</td>\n      <td>423.0</td>\n      <td>23.0</td>\n    </tr>\n    <tr>\n      <th>2231</th>\n      <td>2024-02-10</td>\n      <td>32.0</td>\n      <td>1005.0</td>\n      <td>68.0</td>\n      <td>1</td>\n      <td>392.0</td>\n      <td>88.0</td>\n      <td>193.0</td>\n      <td>8.0</td>\n    </tr>\n    <tr>\n      <th>2232</th>\n      <td>2024-02-11</td>\n      <td>33.0</td>\n      <td>993.0</td>\n      <td>54.0</td>\n      <td>0</td>\n      <td>823.0</td>\n      <td>34.0</td>\n      <td>481.0</td>\n      <td>21.0</td>\n    </tr>\n    <tr>\n      <th>2233</th>\n      <td>2024-02-12</td>\n      <td>26.0</td>\n      <td>982.0</td>\n      <td>62.0</td>\n      <td>0</td>\n      <td>142.0</td>\n      <td>57.0</td>\n      <td>331.0</td>\n      <td>15.0</td>\n    </tr>\n    <tr>\n      <th>2234</th>\n      <td>2024-02-13</td>\n      <td>35.0</td>\n      <td>1028.0</td>\n      <td>69.0</td>\n      <td>1</td>\n      <td>781.0</td>\n      <td>61.0</td>\n      <td>98.0</td>\n      <td>18.0</td>\n    </tr>\n    <tr>\n      <th>2235</th>\n      <td>2024-02-14</td>\n      <td>33.0</td>\n      <td>1035.0</td>\n      <td>95.0</td>\n      <td>0</td>\n      <td>275.0</td>\n      <td>35.0</td>\n      <td>395.0</td>\n      <td>17.0</td>\n    </tr>\n    <tr>\n      <th>2236</th>\n      <td>2024-02-15</td>\n      <td>40.0</td>\n      <td>984.0</td>\n      <td>28.0</td>\n      <td>0</td>\n      <td>728.0</td>\n      <td>14.0</td>\n      <td>80.0</td>\n      <td>24.0</td>\n    </tr>\n    <tr>\n      <th>2237</th>\n      <td>2024-02-16</td>\n      <td>36.0</td>\n      <td>974.0</td>\n      <td>52.0</td>\n      <td>0</td>\n      <td>376.0</td>\n      <td>58.0</td>\n      <td>474.0</td>\n      <td>22.0</td>\n    </tr>\n    <tr>\n      <th>2238</th>\n      <td>2024-02-17</td>\n      <td>32.0</td>\n      <td>1014.0</td>\n      <td>63.0</td>\n      <td>1</td>\n      <td>138.0</td>\n      <td>34.0</td>\n      <td>427.0</td>\n      <td>22.0</td>\n    </tr>\n    <tr>\n      <th>2239</th>\n      <td>2024-02-18</td>\n      <td>32.0</td>\n      <td>956.0</td>\n      <td>99.0</td>\n      <td>1</td>\n      <td>275.0</td>\n      <td>63.0</td>\n      <td>243.0</td>\n      <td>11.0</td>\n    </tr>\n    <tr>\n      <th>2240</th>\n      <td>2024-02-19</td>\n      <td>40.0</td>\n      <td>1023.0</td>\n      <td>60.0</td>\n      <td>1</td>\n      <td>533.0</td>\n      <td>20.0</td>\n      <td>261.0</td>\n      <td>12.0</td>\n    </tr>\n    <tr>\n      <th>2241</th>\n      <td>2024-02-20</td>\n      <td>34.0</td>\n      <td>1039.0</td>\n      <td>100.0</td>\n      <td>1</td>\n      <td>470.0</td>\n      <td>29.0</td>\n      <td>495.0</td>\n      <td>13.0</td>\n    </tr>\n    <tr>\n      <th>2242</th>\n      <td>2024-02-21</td>\n      <td>43.0</td>\n      <td>1023.0</td>\n      <td>46.0</td>\n      <td>1</td>\n      <td>634.0</td>\n      <td>2.0</td>\n      <td>289.0</td>\n      <td>3.0</td>\n    </tr>\n    <tr>\n      <th>2243</th>\n      <td>2024-02-22</td>\n      <td>33.0</td>\n      <td>1029.0</td>\n      <td>38.0</td>\n      <td>1</td>\n      <td>699.0</td>\n      <td>18.0</td>\n      <td>157.0</td>\n      <td>12.0</td>\n    </tr>\n    <tr>\n      <th>2244</th>\n      <td>2024-02-23</td>\n      <td>32.0</td>\n      <td>970.0</td>\n      <td>58.0</td>\n      <td>0</td>\n      <td>408.0</td>\n      <td>26.0</td>\n      <td>469.0</td>\n      <td>14.0</td>\n    </tr>\n  </tbody>\n</table>\n</div>\n    <div class=\"colab-df-buttons\">\n\n  <div class=\"colab-df-container\">\n    <button class=\"colab-df-convert\" onclick=\"convertToInteractive('df-d4981d8e-ca34-404b-b61a-944706a020fa')\"\n            title=\"Convert this dataframe to an interactive table.\"\n            style=\"display:none;\">\n\n  <svg xmlns=\"http://www.w3.org/2000/svg\" height=\"24px\" viewBox=\"0 -960 960 960\">\n    <path d=\"M120-120v-720h720v720H120Zm60-500h600v-160H180v160Zm220 220h160v-160H400v160Zm0 220h160v-160H400v160ZM180-400h160v-160H180v160Zm440 0h160v-160H620v160ZM180-180h160v-160H180v160Zm440 0h160v-160H620v160Z\"/>\n  </svg>\n    </button>\n\n  <style>\n    .colab-df-container {\n      display:flex;\n      gap: 12px;\n    }\n\n    .colab-df-convert {\n      background-color: #E8F0FE;\n      border: none;\n      border-radius: 50%;\n      cursor: pointer;\n      display: none;\n      fill: #1967D2;\n      height: 32px;\n      padding: 0 0 0 0;\n      width: 32px;\n    }\n\n    .colab-df-convert:hover {\n      background-color: #E2EBFA;\n      box-shadow: 0px 1px 2px rgba(60, 64, 67, 0.3), 0px 1px 3px 1px rgba(60, 64, 67, 0.15);\n      fill: #174EA6;\n    }\n\n    .colab-df-buttons div {\n      margin-bottom: 4px;\n    }\n\n    [theme=dark] .colab-df-convert {\n      background-color: #3B4455;\n      fill: #D2E3FC;\n    }\n\n    [theme=dark] .colab-df-convert:hover {\n      background-color: #434B5C;\n      box-shadow: 0px 1px 3px 1px rgba(0, 0, 0, 0.15);\n      filter: drop-shadow(0px 1px 2px rgba(0, 0, 0, 0.3));\n      fill: #FFFFFF;\n    }\n  </style>\n\n    <script>\n      const buttonEl =\n        document.querySelector('#df-d4981d8e-ca34-404b-b61a-944706a020fa button.colab-df-convert');\n      buttonEl.style.display =\n        google.colab.kernel.accessAllowed ? 'block' : 'none';\n\n      async function convertToInteractive(key) {\n        const element = document.querySelector('#df-d4981d8e-ca34-404b-b61a-944706a020fa');\n        const dataTable =\n          await google.colab.kernel.invokeFunction('convertToInteractive',\n                                                    [key], {});\n        if (!dataTable) return;\n\n        const docLinkHtml = 'Like what you see? Visit the ' +\n          '<a target=\"_blank\" href=https://colab.research.google.com/notebooks/data_table.ipynb>data table notebook</a>'\n          + ' to learn more about interactive tables.';\n        element.innerHTML = '';\n        dataTable['output_type'] = 'display_data';\n        await google.colab.output.renderOutput(dataTable, element);\n        const docLink = document.createElement('div');\n        docLink.innerHTML = docLinkHtml;\n        element.appendChild(docLink);\n      }\n    </script>\n  </div>\n\n\n<div id=\"df-c241d249-8154-49e6-9e9a-81fd8c582bd3\">\n  <button class=\"colab-df-quickchart\" onclick=\"quickchart('df-c241d249-8154-49e6-9e9a-81fd8c582bd3')\"\n            title=\"Suggest charts\"\n            style=\"display:none;\">\n\n<svg xmlns=\"http://www.w3.org/2000/svg\" height=\"24px\"viewBox=\"0 0 24 24\"\n     width=\"24px\">\n    <g>\n        <path d=\"M19 3H5c-1.1 0-2 .9-2 2v14c0 1.1.9 2 2 2h14c1.1 0 2-.9 2-2V5c0-1.1-.9-2-2-2zM9 17H7v-7h2v7zm4 0h-2V7h2v10zm4 0h-2v-4h2v4z\"/>\n    </g>\n</svg>\n  </button>\n\n<style>\n  .colab-df-quickchart {\n      --bg-color: #E8F0FE;\n      --fill-color: #1967D2;\n      --hover-bg-color: #E2EBFA;\n      --hover-fill-color: #174EA6;\n      --disabled-fill-color: #AAA;\n      --disabled-bg-color: #DDD;\n  }\n\n  [theme=dark] .colab-df-quickchart {\n      --bg-color: #3B4455;\n      --fill-color: #D2E3FC;\n      --hover-bg-color: #434B5C;\n      --hover-fill-color: #FFFFFF;\n      --disabled-bg-color: #3B4455;\n      --disabled-fill-color: #666;\n  }\n\n  .colab-df-quickchart {\n    background-color: var(--bg-color);\n    border: none;\n    border-radius: 50%;\n    cursor: pointer;\n    display: none;\n    fill: var(--fill-color);\n    height: 32px;\n    padding: 0;\n    width: 32px;\n  }\n\n  .colab-df-quickchart:hover {\n    background-color: var(--hover-bg-color);\n    box-shadow: 0 1px 2px rgba(60, 64, 67, 0.3), 0 1px 3px 1px rgba(60, 64, 67, 0.15);\n    fill: var(--button-hover-fill-color);\n  }\n\n  .colab-df-quickchart-complete:disabled,\n  .colab-df-quickchart-complete:disabled:hover {\n    background-color: var(--disabled-bg-color);\n    fill: var(--disabled-fill-color);\n    box-shadow: none;\n  }\n\n  .colab-df-spinner {\n    border: 2px solid var(--fill-color);\n    border-color: transparent;\n    border-bottom-color: var(--fill-color);\n    animation:\n      spin 1s steps(1) infinite;\n  }\n\n  @keyframes spin {\n    0% {\n      border-color: transparent;\n      border-bottom-color: var(--fill-color);\n      border-left-color: var(--fill-color);\n    }\n    20% {\n      border-color: transparent;\n      border-left-color: var(--fill-color);\n      border-top-color: var(--fill-color);\n    }\n    30% {\n      border-color: transparent;\n      border-left-color: var(--fill-color);\n      border-top-color: var(--fill-color);\n      border-right-color: var(--fill-color);\n    }\n    40% {\n      border-color: transparent;\n      border-right-color: var(--fill-color);\n      border-top-color: var(--fill-color);\n    }\n    60% {\n      border-color: transparent;\n      border-right-color: var(--fill-color);\n    }\n    80% {\n      border-color: transparent;\n      border-right-color: var(--fill-color);\n      border-bottom-color: var(--fill-color);\n    }\n    90% {\n      border-color: transparent;\n      border-bottom-color: var(--fill-color);\n    }\n  }\n</style>\n\n  <script>\n    async function quickchart(key) {\n      const quickchartButtonEl =\n        document.querySelector('#' + key + ' button');\n      quickchartButtonEl.disabled = true;  // To prevent multiple clicks.\n      quickchartButtonEl.classList.add('colab-df-spinner');\n      try {\n        const charts = await google.colab.kernel.invokeFunction(\n            'suggestCharts', [key], {});\n      } catch (error) {\n        console.error('Error during call to suggestCharts:', error);\n      }\n      quickchartButtonEl.classList.remove('colab-df-spinner');\n      quickchartButtonEl.classList.add('colab-df-quickchart-complete');\n    }\n    (() => {\n      let quickchartButtonEl =\n        document.querySelector('#df-c241d249-8154-49e6-9e9a-81fd8c582bd3 button');\n      quickchartButtonEl.style.display =\n        google.colab.kernel.accessAllowed ? 'block' : 'none';\n    })();\n  </script>\n</div>\n    </div>\n  </div>\n",
                  "application/vnd.google.colaboratory.intrinsic+json": {
                    "type": "dataframe",
                    "summary": "{\n  \"name\": \"# print (datos\",\n  \"rows\": 20,\n  \"fields\": [\n    {\n      \"column\": \"fecha\",\n      \"properties\": {\n        \"dtype\": \"date\",\n        \"min\": \"2024-02-04 00:00:00\",\n        \"max\": \"2024-02-23 00:00:00\",\n        \"num_unique_values\": 20,\n        \"samples\": [\n          \"2024-02-04 00:00:00\",\n          \"2024-02-21 00:00:00\",\n          \"2024-02-19 00:00:00\"\n        ],\n        \"semantic_type\": \"\",\n        \"description\": \"\"\n      }\n    },\n    {\n      \"column\": \"vel_viento\",\n      \"properties\": {\n        \"dtype\": \"number\",\n        \"std\": 3.688888008172938,\n        \"min\": 26.0,\n        \"max\": 43.0,\n        \"num_unique_values\": 9,\n        \"samples\": [\n          34.0,\n          32.0,\n          26.0\n        ],\n        \"semantic_type\": \"\",\n        \"description\": \"\"\n      }\n    },\n    {\n      \"column\": \"presion_atmosferica\",\n      \"properties\": {\n        \"dtype\": \"number\",\n        \"std\": 25.156562395902732,\n        \"min\": 956.0,\n        \"max\": 1039.0,\n        \"num_unique_values\": 18,\n        \"samples\": [\n          1017.0,\n          1012.0,\n          1028.0\n        ],\n        \"semantic_type\": \"\",\n        \"description\": \"\"\n      }\n    },\n    {\n      \"column\": \"humedad_relativa\",\n      \"properties\": {\n        \"dtype\": \"number\",\n        \"std\": 22.28192564672802,\n        \"min\": 28.0,\n        \"max\": 100.0,\n        \"num_unique_values\": 20,\n        \"samples\": [\n          37.0,\n          46.0,\n          60.0\n        ],\n        \"semantic_type\": \"\",\n        \"description\": \"\"\n      }\n    },\n    {\n      \"column\": \"frentes_frios\",\n      \"properties\": {\n        \"dtype\": \"number\",\n        \"std\": 0,\n        \"min\": 0,\n        \"max\": 1,\n        \"num_unique_values\": 2,\n        \"samples\": [\n          1,\n          0\n        ],\n        \"semantic_type\": \"\",\n        \"description\": \"\"\n      }\n    },\n    {\n      \"column\": \"radiacion_solar\",\n      \"properties\": {\n        \"dtype\": \"number\",\n        \"std\": 204.75538036758323,\n        \"min\": 138.0,\n        \"max\": 823.0,\n        \"num_unique_values\": 19,\n        \"samples\": [\n          414.0,\n          705.0\n        ],\n        \"semantic_type\": \"\",\n        \"description\": \"\"\n      }\n    },\n    {\n      \"column\": \"luminosidad\",\n      \"properties\": {\n        \"dtype\": \"number\",\n        \"std\": 26.978744069710647,\n        \"min\": 2.0,\n        \"max\": 93.0,\n        \"num_unique_values\": 19,\n        \"samples\": [\n          11.0,\n          3.0\n        ],\n        \"semantic_type\": \"\",\n        \"description\": \"\"\n      }\n    },\n    {\n      \"column\": \"contaminacion_atmosferica\",\n      \"properties\": {\n        \"dtype\": \"number\",\n        \"std\": 159.6433525080202,\n        \"min\": 9.0,\n        \"max\": 495.0,\n        \"num_unique_values\": 20,\n        \"samples\": [\n          9.0,\n          289.0\n        ],\n        \"semantic_type\": \"\",\n        \"description\": \"\"\n      }\n    },\n    {\n      \"column\": \"temperatura\",\n      \"properties\": {\n        \"dtype\": \"number\",\n        \"std\": 5.779045632373275,\n        \"min\": 3.0,\n        \"max\": 24.0,\n        \"num_unique_values\": 15,\n        \"samples\": [\n          17.0,\n          22.0\n        ],\n        \"semantic_type\": \"\",\n        \"description\": \"\"\n      }\n    }\n  ]\n}"
                  }
                },
                "metadata": {}
              },
              {
                "output_type": "display_data",
                "data": {
                  "text/plain": "HTML(value='<h3>Primeros 20 registros:</h3>')",
                  "application/vnd.jupyter.widget-view+json": {
                    "version_major": 2,
                    "version_minor": 0,
                    "model_id": "84bdb21e8fc5457c99abec46f0482d0a"
                  }
                },
                "metadata": {}
              },
              {
                "output_type": "display_data",
                "data": {
                  "text/plain": "        fecha  vel_viento  presion_atmosferica  humedad_relativa  \\\n0  2018-01-01        28.0               1010.0              41.0   \n1  2018-01-02        23.0               1048.0              32.0   \n2  2018-01-03        21.0               1023.0              57.0   \n3  2018-01-04        34.0               1008.0              84.0   \n4  2018-01-05        34.0               1037.0              84.0   \n5  2018-01-06        31.0                954.0              46.0   \n6  2018-01-07        32.0                980.0              89.0   \n7  2018-01-08        31.0               1024.0              83.0   \n8  2018-01-09        36.0               1046.0              70.0   \n9  2018-01-10        34.0               1050.0              26.0   \n10 2018-01-11        36.0               1018.0              46.0   \n11 2018-01-12        31.0                962.0              53.0   \n12 2018-01-13        39.0                998.0              73.0   \n13 2018-01-14        36.0               1036.0              26.0   \n14 2018-01-15        37.0               1035.0              21.0   \n15 2018-01-16        33.0               1036.0              39.0   \n16 2018-01-17        36.0               1043.0              56.0   \n17 2018-01-18        20.0                974.0              20.0   \n18 2018-01-19        37.0                993.0              55.0   \n19 2018-01-20        27.0                967.0              26.0   \n\n    frentes_frios  radiacion_solar  luminosidad  contaminacion_atmosferica  \\\n0               1            613.0         39.0                      178.0   \n1               1            180.0         85.0                      271.0   \n2               1            198.0         65.0                        1.0   \n3               1            216.0         27.0                      126.0   \n4               0            813.0         49.0                      241.0   \n5               1            780.0         82.0                       28.0   \n6               0            450.0         74.0                      251.0   \n7               1            323.0         33.0                      476.0   \n8               1            822.0         45.0                      156.0   \n9               1            609.0         99.0                      384.0   \n10              0            884.0         87.0                      237.0   \n11              0            780.0         41.0                      131.0   \n12              0            864.0         14.0                      247.0   \n13              0            955.0         72.0                      161.0   \n14              1            147.0         88.0                      121.0   \n15              0            213.0         41.0                      397.0   \n16              0            784.0          7.0                      133.0   \n17              0            839.0         12.0                      283.0   \n18              0            894.0         15.0                      227.0   \n19              1            569.0         24.0                        1.0   \n\n    temperatura  \n0          18.0  \n1          16.0  \n2          10.0  \n3          10.0  \n4          22.0  \n5          22.0  \n6           7.0  \n7           9.0  \n8          16.0  \n9          17.0  \n10         23.0  \n11         24.0  \n12         11.0  \n13         19.0  \n14         19.0  \n15         22.0  \n16         16.0  \n17         17.0  \n18         21.0  \n19          8.0  ",
                  "text/html": "\n  <div id=\"df-1434337f-1782-45f6-94e5-bddf2630ba09\" class=\"colab-df-container\">\n    <div>\n<style scoped>\n    .dataframe tbody tr th:only-of-type {\n        vertical-align: middle;\n    }\n\n    .dataframe tbody tr th {\n        vertical-align: top;\n    }\n\n    .dataframe thead th {\n        text-align: right;\n    }\n</style>\n<table border=\"1\" class=\"dataframe\">\n  <thead>\n    <tr style=\"text-align: right;\">\n      <th></th>\n      <th>fecha</th>\n      <th>vel_viento</th>\n      <th>presion_atmosferica</th>\n      <th>humedad_relativa</th>\n      <th>frentes_frios</th>\n      <th>radiacion_solar</th>\n      <th>luminosidad</th>\n      <th>contaminacion_atmosferica</th>\n      <th>temperatura</th>\n    </tr>\n  </thead>\n  <tbody>\n    <tr>\n      <th>0</th>\n      <td>2018-01-01</td>\n      <td>28.0</td>\n      <td>1010.0</td>\n      <td>41.0</td>\n      <td>1</td>\n      <td>613.0</td>\n      <td>39.0</td>\n      <td>178.0</td>\n      <td>18.0</td>\n    </tr>\n    <tr>\n      <th>1</th>\n      <td>2018-01-02</td>\n      <td>23.0</td>\n      <td>1048.0</td>\n      <td>32.0</td>\n      <td>1</td>\n      <td>180.0</td>\n      <td>85.0</td>\n      <td>271.0</td>\n      <td>16.0</td>\n    </tr>\n    <tr>\n      <th>2</th>\n      <td>2018-01-03</td>\n      <td>21.0</td>\n      <td>1023.0</td>\n      <td>57.0</td>\n      <td>1</td>\n      <td>198.0</td>\n      <td>65.0</td>\n      <td>1.0</td>\n      <td>10.0</td>\n    </tr>\n    <tr>\n      <th>3</th>\n      <td>2018-01-04</td>\n      <td>34.0</td>\n      <td>1008.0</td>\n      <td>84.0</td>\n      <td>1</td>\n      <td>216.0</td>\n      <td>27.0</td>\n      <td>126.0</td>\n      <td>10.0</td>\n    </tr>\n    <tr>\n      <th>4</th>\n      <td>2018-01-05</td>\n      <td>34.0</td>\n      <td>1037.0</td>\n      <td>84.0</td>\n      <td>0</td>\n      <td>813.0</td>\n      <td>49.0</td>\n      <td>241.0</td>\n      <td>22.0</td>\n    </tr>\n    <tr>\n      <th>5</th>\n      <td>2018-01-06</td>\n      <td>31.0</td>\n      <td>954.0</td>\n      <td>46.0</td>\n      <td>1</td>\n      <td>780.0</td>\n      <td>82.0</td>\n      <td>28.0</td>\n      <td>22.0</td>\n    </tr>\n    <tr>\n      <th>6</th>\n      <td>2018-01-07</td>\n      <td>32.0</td>\n      <td>980.0</td>\n      <td>89.0</td>\n      <td>0</td>\n      <td>450.0</td>\n      <td>74.0</td>\n      <td>251.0</td>\n      <td>7.0</td>\n    </tr>\n    <tr>\n      <th>7</th>\n      <td>2018-01-08</td>\n      <td>31.0</td>\n      <td>1024.0</td>\n      <td>83.0</td>\n      <td>1</td>\n      <td>323.0</td>\n      <td>33.0</td>\n      <td>476.0</td>\n      <td>9.0</td>\n    </tr>\n    <tr>\n      <th>8</th>\n      <td>2018-01-09</td>\n      <td>36.0</td>\n      <td>1046.0</td>\n      <td>70.0</td>\n      <td>1</td>\n      <td>822.0</td>\n      <td>45.0</td>\n      <td>156.0</td>\n      <td>16.0</td>\n    </tr>\n    <tr>\n      <th>9</th>\n      <td>2018-01-10</td>\n      <td>34.0</td>\n      <td>1050.0</td>\n      <td>26.0</td>\n      <td>1</td>\n      <td>609.0</td>\n      <td>99.0</td>\n      <td>384.0</td>\n      <td>17.0</td>\n    </tr>\n    <tr>\n      <th>10</th>\n      <td>2018-01-11</td>\n      <td>36.0</td>\n      <td>1018.0</td>\n      <td>46.0</td>\n      <td>0</td>\n      <td>884.0</td>\n      <td>87.0</td>\n      <td>237.0</td>\n      <td>23.0</td>\n    </tr>\n    <tr>\n      <th>11</th>\n      <td>2018-01-12</td>\n      <td>31.0</td>\n      <td>962.0</td>\n      <td>53.0</td>\n      <td>0</td>\n      <td>780.0</td>\n      <td>41.0</td>\n      <td>131.0</td>\n      <td>24.0</td>\n    </tr>\n    <tr>\n      <th>12</th>\n      <td>2018-01-13</td>\n      <td>39.0</td>\n      <td>998.0</td>\n      <td>73.0</td>\n      <td>0</td>\n      <td>864.0</td>\n      <td>14.0</td>\n      <td>247.0</td>\n      <td>11.0</td>\n    </tr>\n    <tr>\n      <th>13</th>\n      <td>2018-01-14</td>\n      <td>36.0</td>\n      <td>1036.0</td>\n      <td>26.0</td>\n      <td>0</td>\n      <td>955.0</td>\n      <td>72.0</td>\n      <td>161.0</td>\n      <td>19.0</td>\n    </tr>\n    <tr>\n      <th>14</th>\n      <td>2018-01-15</td>\n      <td>37.0</td>\n      <td>1035.0</td>\n      <td>21.0</td>\n      <td>1</td>\n      <td>147.0</td>\n      <td>88.0</td>\n      <td>121.0</td>\n      <td>19.0</td>\n    </tr>\n    <tr>\n      <th>15</th>\n      <td>2018-01-16</td>\n      <td>33.0</td>\n      <td>1036.0</td>\n      <td>39.0</td>\n      <td>0</td>\n      <td>213.0</td>\n      <td>41.0</td>\n      <td>397.0</td>\n      <td>22.0</td>\n    </tr>\n    <tr>\n      <th>16</th>\n      <td>2018-01-17</td>\n      <td>36.0</td>\n      <td>1043.0</td>\n      <td>56.0</td>\n      <td>0</td>\n      <td>784.0</td>\n      <td>7.0</td>\n      <td>133.0</td>\n      <td>16.0</td>\n    </tr>\n    <tr>\n      <th>17</th>\n      <td>2018-01-18</td>\n      <td>20.0</td>\n      <td>974.0</td>\n      <td>20.0</td>\n      <td>0</td>\n      <td>839.0</td>\n      <td>12.0</td>\n      <td>283.0</td>\n      <td>17.0</td>\n    </tr>\n    <tr>\n      <th>18</th>\n      <td>2018-01-19</td>\n      <td>37.0</td>\n      <td>993.0</td>\n      <td>55.0</td>\n      <td>0</td>\n      <td>894.0</td>\n      <td>15.0</td>\n      <td>227.0</td>\n      <td>21.0</td>\n    </tr>\n    <tr>\n      <th>19</th>\n      <td>2018-01-20</td>\n      <td>27.0</td>\n      <td>967.0</td>\n      <td>26.0</td>\n      <td>1</td>\n      <td>569.0</td>\n      <td>24.0</td>\n      <td>1.0</td>\n      <td>8.0</td>\n    </tr>\n  </tbody>\n</table>\n</div>\n    <div class=\"colab-df-buttons\">\n\n  <div class=\"colab-df-container\">\n    <button class=\"colab-df-convert\" onclick=\"convertToInteractive('df-1434337f-1782-45f6-94e5-bddf2630ba09')\"\n            title=\"Convert this dataframe to an interactive table.\"\n            style=\"display:none;\">\n\n  <svg xmlns=\"http://www.w3.org/2000/svg\" height=\"24px\" viewBox=\"0 -960 960 960\">\n    <path d=\"M120-120v-720h720v720H120Zm60-500h600v-160H180v160Zm220 220h160v-160H400v160Zm0 220h160v-160H400v160ZM180-400h160v-160H180v160Zm440 0h160v-160H620v160ZM180-180h160v-160H180v160Zm440 0h160v-160H620v160Z\"/>\n  </svg>\n    </button>\n\n  <style>\n    .colab-df-container {\n      display:flex;\n      gap: 12px;\n    }\n\n    .colab-df-convert {\n      background-color: #E8F0FE;\n      border: none;\n      border-radius: 50%;\n      cursor: pointer;\n      display: none;\n      fill: #1967D2;\n      height: 32px;\n      padding: 0 0 0 0;\n      width: 32px;\n    }\n\n    .colab-df-convert:hover {\n      background-color: #E2EBFA;\n      box-shadow: 0px 1px 2px rgba(60, 64, 67, 0.3), 0px 1px 3px 1px rgba(60, 64, 67, 0.15);\n      fill: #174EA6;\n    }\n\n    .colab-df-buttons div {\n      margin-bottom: 4px;\n    }\n\n    [theme=dark] .colab-df-convert {\n      background-color: #3B4455;\n      fill: #D2E3FC;\n    }\n\n    [theme=dark] .colab-df-convert:hover {\n      background-color: #434B5C;\n      box-shadow: 0px 1px 3px 1px rgba(0, 0, 0, 0.15);\n      filter: drop-shadow(0px 1px 2px rgba(0, 0, 0, 0.3));\n      fill: #FFFFFF;\n    }\n  </style>\n\n    <script>\n      const buttonEl =\n        document.querySelector('#df-1434337f-1782-45f6-94e5-bddf2630ba09 button.colab-df-convert');\n      buttonEl.style.display =\n        google.colab.kernel.accessAllowed ? 'block' : 'none';\n\n      async function convertToInteractive(key) {\n        const element = document.querySelector('#df-1434337f-1782-45f6-94e5-bddf2630ba09');\n        const dataTable =\n          await google.colab.kernel.invokeFunction('convertToInteractive',\n                                                    [key], {});\n        if (!dataTable) return;\n\n        const docLinkHtml = 'Like what you see? Visit the ' +\n          '<a target=\"_blank\" href=https://colab.research.google.com/notebooks/data_table.ipynb>data table notebook</a>'\n          + ' to learn more about interactive tables.';\n        element.innerHTML = '';\n        dataTable['output_type'] = 'display_data';\n        await google.colab.output.renderOutput(dataTable, element);\n        const docLink = document.createElement('div');\n        docLink.innerHTML = docLinkHtml;\n        element.appendChild(docLink);\n      }\n    </script>\n  </div>\n\n\n<div id=\"df-207562cc-f913-487f-bc59-9404e2888bb5\">\n  <button class=\"colab-df-quickchart\" onclick=\"quickchart('df-207562cc-f913-487f-bc59-9404e2888bb5')\"\n            title=\"Suggest charts\"\n            style=\"display:none;\">\n\n<svg xmlns=\"http://www.w3.org/2000/svg\" height=\"24px\"viewBox=\"0 0 24 24\"\n     width=\"24px\">\n    <g>\n        <path d=\"M19 3H5c-1.1 0-2 .9-2 2v14c0 1.1.9 2 2 2h14c1.1 0 2-.9 2-2V5c0-1.1-.9-2-2-2zM9 17H7v-7h2v7zm4 0h-2V7h2v10zm4 0h-2v-4h2v4z\"/>\n    </g>\n</svg>\n  </button>\n\n<style>\n  .colab-df-quickchart {\n      --bg-color: #E8F0FE;\n      --fill-color: #1967D2;\n      --hover-bg-color: #E2EBFA;\n      --hover-fill-color: #174EA6;\n      --disabled-fill-color: #AAA;\n      --disabled-bg-color: #DDD;\n  }\n\n  [theme=dark] .colab-df-quickchart {\n      --bg-color: #3B4455;\n      --fill-color: #D2E3FC;\n      --hover-bg-color: #434B5C;\n      --hover-fill-color: #FFFFFF;\n      --disabled-bg-color: #3B4455;\n      --disabled-fill-color: #666;\n  }\n\n  .colab-df-quickchart {\n    background-color: var(--bg-color);\n    border: none;\n    border-radius: 50%;\n    cursor: pointer;\n    display: none;\n    fill: var(--fill-color);\n    height: 32px;\n    padding: 0;\n    width: 32px;\n  }\n\n  .colab-df-quickchart:hover {\n    background-color: var(--hover-bg-color);\n    box-shadow: 0 1px 2px rgba(60, 64, 67, 0.3), 0 1px 3px 1px rgba(60, 64, 67, 0.15);\n    fill: var(--button-hover-fill-color);\n  }\n\n  .colab-df-quickchart-complete:disabled,\n  .colab-df-quickchart-complete:disabled:hover {\n    background-color: var(--disabled-bg-color);\n    fill: var(--disabled-fill-color);\n    box-shadow: none;\n  }\n\n  .colab-df-spinner {\n    border: 2px solid var(--fill-color);\n    border-color: transparent;\n    border-bottom-color: var(--fill-color);\n    animation:\n      spin 1s steps(1) infinite;\n  }\n\n  @keyframes spin {\n    0% {\n      border-color: transparent;\n      border-bottom-color: var(--fill-color);\n      border-left-color: var(--fill-color);\n    }\n    20% {\n      border-color: transparent;\n      border-left-color: var(--fill-color);\n      border-top-color: var(--fill-color);\n    }\n    30% {\n      border-color: transparent;\n      border-left-color: var(--fill-color);\n      border-top-color: var(--fill-color);\n      border-right-color: var(--fill-color);\n    }\n    40% {\n      border-color: transparent;\n      border-right-color: var(--fill-color);\n      border-top-color: var(--fill-color);\n    }\n    60% {\n      border-color: transparent;\n      border-right-color: var(--fill-color);\n    }\n    80% {\n      border-color: transparent;\n      border-right-color: var(--fill-color);\n      border-bottom-color: var(--fill-color);\n    }\n    90% {\n      border-color: transparent;\n      border-bottom-color: var(--fill-color);\n    }\n  }\n</style>\n\n  <script>\n    async function quickchart(key) {\n      const quickchartButtonEl =\n        document.querySelector('#' + key + ' button');\n      quickchartButtonEl.disabled = true;  // To prevent multiple clicks.\n      quickchartButtonEl.classList.add('colab-df-spinner');\n      try {\n        const charts = await google.colab.kernel.invokeFunction(\n            'suggestCharts', [key], {});\n      } catch (error) {\n        console.error('Error during call to suggestCharts:', error);\n      }\n      quickchartButtonEl.classList.remove('colab-df-spinner');\n      quickchartButtonEl.classList.add('colab-df-quickchart-complete');\n    }\n    (() => {\n      let quickchartButtonEl =\n        document.querySelector('#df-207562cc-f913-487f-bc59-9404e2888bb5 button');\n      quickchartButtonEl.style.display =\n        google.colab.kernel.accessAllowed ? 'block' : 'none';\n    })();\n  </script>\n</div>\n    </div>\n  </div>\n",
                  "application/vnd.google.colaboratory.intrinsic+json": {
                    "type": "dataframe",
                    "summary": "{\n  \"name\": \"datos\",\n  \"rows\": 20,\n  \"fields\": [\n    {\n      \"column\": \"fecha\",\n      \"properties\": {\n        \"dtype\": \"date\",\n        \"min\": \"2018-01-01 00:00:00\",\n        \"max\": \"2018-01-20 00:00:00\",\n        \"num_unique_values\": 20,\n        \"samples\": [\n          \"2018-01-01 00:00:00\",\n          \"2018-01-18 00:00:00\",\n          \"2018-01-16 00:00:00\"\n        ],\n        \"semantic_type\": \"\",\n        \"description\": \"\"\n      }\n    },\n    {\n      \"column\": \"vel_viento\",\n      \"properties\": {\n        \"dtype\": \"number\",\n        \"std\": 5.454114815536306,\n        \"min\": 20.0,\n        \"max\": 39.0,\n        \"num_unique_values\": 12,\n        \"samples\": [\n          20.0,\n          33.0,\n          28.0\n        ],\n        \"semantic_type\": \"\",\n        \"description\": \"\"\n      }\n    },\n    {\n      \"column\": \"presion_atmosferica\",\n      \"properties\": {\n        \"dtype\": \"number\",\n        \"std\": 31.117603750255174,\n        \"min\": 954.0,\n        \"max\": 1050.0,\n        \"num_unique_values\": 19,\n        \"samples\": [\n          1010.0,\n          954.0,\n          962.0\n        ],\n        \"semantic_type\": \"\",\n        \"description\": \"\"\n      }\n    },\n    {\n      \"column\": \"humedad_relativa\",\n      \"properties\": {\n        \"dtype\": \"number\",\n        \"std\": 22.896276415264786,\n        \"min\": 20.0,\n        \"max\": 89.0,\n        \"num_unique_values\": 16,\n        \"samples\": [\n          41.0,\n          32.0,\n          89.0\n        ],\n        \"semantic_type\": \"\",\n        \"description\": \"\"\n      }\n    },\n    {\n      \"column\": \"frentes_frios\",\n      \"properties\": {\n        \"dtype\": \"number\",\n        \"std\": 0,\n        \"min\": 0,\n        \"max\": 1,\n        \"num_unique_values\": 2,\n        \"samples\": [\n          0,\n          1\n        ],\n        \"semantic_type\": \"\",\n        \"description\": \"\"\n      }\n    },\n    {\n      \"column\": \"radiacion_solar\",\n      \"properties\": {\n        \"dtype\": \"number\",\n        \"std\": 285.97907082052075,\n        \"min\": 147.0,\n        \"max\": 955.0,\n        \"num_unique_values\": 19,\n        \"samples\": [\n          613.0,\n          780.0\n        ],\n        \"semantic_type\": \"\",\n        \"description\": \"\"\n      }\n    },\n    {\n      \"column\": \"luminosidad\",\n      \"properties\": {\n        \"dtype\": \"number\",\n        \"std\": 29.348137213369043,\n        \"min\": 7.0,\n        \"max\": 99.0,\n        \"num_unique_values\": 19,\n        \"samples\": [\n          39.0,\n          82.0\n        ],\n        \"semantic_type\": \"\",\n        \"description\": \"\"\n      }\n    },\n    {\n      \"column\": \"contaminacion_atmosferica\",\n      \"properties\": {\n        \"dtype\": \"number\",\n        \"std\": 126.26809406555311,\n        \"min\": 1.0,\n        \"max\": 476.0,\n        \"num_unique_values\": 19,\n        \"samples\": [\n          178.0,\n          28.0\n        ],\n        \"semantic_type\": \"\",\n        \"description\": \"\"\n      }\n    },\n    {\n      \"column\": \"temperatura\",\n      \"properties\": {\n        \"dtype\": \"number\",\n        \"std\": 5.4219340111304035,\n        \"min\": 7.0,\n        \"max\": 24.0,\n        \"num_unique_values\": 13,\n        \"samples\": [\n          21.0,\n          11.0\n        ],\n        \"semantic_type\": \"\",\n        \"description\": \"\"\n      }\n    }\n  ]\n}"
                  }
                },
                "metadata": {}
              },
              {
                "output_type": "display_data",
                "data": {
                  "text/plain": "HTML(value='<h3>Últimos 20 registros:</h3>')",
                  "application/vnd.jupyter.widget-view+json": {
                    "version_major": 2,
                    "version_minor": 0,
                    "model_id": "a26f0806fed64b7093126d0668926543"
                  }
                },
                "metadata": {}
              },
              {
                "output_type": "display_data",
                "data": {
                  "text/plain": "          fecha  vel_viento  presion_atmosferica  humedad_relativa  \\\n2225 2024-02-04        36.0               1017.0              37.0   \n2226 2024-02-05        32.0               1012.0              34.0   \n2227 2024-02-06        35.0                982.0              72.0   \n2228 2024-02-07        33.0               1025.0              31.0   \n2229 2024-02-08        33.0                969.0              44.0   \n2230 2024-02-09        37.0                994.0              86.0   \n2231 2024-02-10        32.0               1005.0              68.0   \n2232 2024-02-11        33.0                993.0              54.0   \n2233 2024-02-12        26.0                982.0              62.0   \n2234 2024-02-13        35.0               1028.0              69.0   \n2235 2024-02-14        33.0               1035.0              95.0   \n2236 2024-02-15        40.0                984.0              28.0   \n2237 2024-02-16        36.0                974.0              52.0   \n2238 2024-02-17        32.0               1014.0              63.0   \n2239 2024-02-18        32.0                956.0              99.0   \n2240 2024-02-19        40.0               1023.0              60.0   \n2241 2024-02-20        34.0               1039.0             100.0   \n2242 2024-02-21        43.0               1023.0              46.0   \n2243 2024-02-22        33.0               1029.0              38.0   \n2244 2024-02-23        32.0                970.0              58.0   \n\n      frentes_frios  radiacion_solar  luminosidad  contaminacion_atmosferica  \\\n2225              0            414.0         11.0                        9.0   \n2226              1            505.0         93.0                      155.0   \n2227              0            510.0         71.0                       30.0   \n2228              0            256.0         56.0                      322.0   \n2229              0            393.0         23.0                      408.0   \n2230              0            705.0          3.0                      423.0   \n2231              1            392.0         88.0                      193.0   \n2232              0            823.0         34.0                      481.0   \n2233              0            142.0         57.0                      331.0   \n2234              1            781.0         61.0                       98.0   \n2235              0            275.0         35.0                      395.0   \n2236              0            728.0         14.0                       80.0   \n2237              0            376.0         58.0                      474.0   \n2238              1            138.0         34.0                      427.0   \n2239              1            275.0         63.0                      243.0   \n2240              1            533.0         20.0                      261.0   \n2241              1            470.0         29.0                      495.0   \n2242              1            634.0          2.0                      289.0   \n2243              1            699.0         18.0                      157.0   \n2244              0            408.0         26.0                      469.0   \n\n      temperatura  \n2225         14.0  \n2226          6.0  \n2227         15.0  \n2228         20.0  \n2229         13.0  \n2230         23.0  \n2231          8.0  \n2232         21.0  \n2233         15.0  \n2234         18.0  \n2235         17.0  \n2236         24.0  \n2237         22.0  \n2238         22.0  \n2239         11.0  \n2240         12.0  \n2241         13.0  \n2242          3.0  \n2243         12.0  \n2244         14.0  ",
                  "text/html": "\n  <div id=\"df-07b8011a-fde3-4dd2-bfe1-e2e7f6193b43\" class=\"colab-df-container\">\n    <div>\n<style scoped>\n    .dataframe tbody tr th:only-of-type {\n        vertical-align: middle;\n    }\n\n    .dataframe tbody tr th {\n        vertical-align: top;\n    }\n\n    .dataframe thead th {\n        text-align: right;\n    }\n</style>\n<table border=\"1\" class=\"dataframe\">\n  <thead>\n    <tr style=\"text-align: right;\">\n      <th></th>\n      <th>fecha</th>\n      <th>vel_viento</th>\n      <th>presion_atmosferica</th>\n      <th>humedad_relativa</th>\n      <th>frentes_frios</th>\n      <th>radiacion_solar</th>\n      <th>luminosidad</th>\n      <th>contaminacion_atmosferica</th>\n      <th>temperatura</th>\n    </tr>\n  </thead>\n  <tbody>\n    <tr>\n      <th>2225</th>\n      <td>2024-02-04</td>\n      <td>36.0</td>\n      <td>1017.0</td>\n      <td>37.0</td>\n      <td>0</td>\n      <td>414.0</td>\n      <td>11.0</td>\n      <td>9.0</td>\n      <td>14.0</td>\n    </tr>\n    <tr>\n      <th>2226</th>\n      <td>2024-02-05</td>\n      <td>32.0</td>\n      <td>1012.0</td>\n      <td>34.0</td>\n      <td>1</td>\n      <td>505.0</td>\n      <td>93.0</td>\n      <td>155.0</td>\n      <td>6.0</td>\n    </tr>\n    <tr>\n      <th>2227</th>\n      <td>2024-02-06</td>\n      <td>35.0</td>\n      <td>982.0</td>\n      <td>72.0</td>\n      <td>0</td>\n      <td>510.0</td>\n      <td>71.0</td>\n      <td>30.0</td>\n      <td>15.0</td>\n    </tr>\n    <tr>\n      <th>2228</th>\n      <td>2024-02-07</td>\n      <td>33.0</td>\n      <td>1025.0</td>\n      <td>31.0</td>\n      <td>0</td>\n      <td>256.0</td>\n      <td>56.0</td>\n      <td>322.0</td>\n      <td>20.0</td>\n    </tr>\n    <tr>\n      <th>2229</th>\n      <td>2024-02-08</td>\n      <td>33.0</td>\n      <td>969.0</td>\n      <td>44.0</td>\n      <td>0</td>\n      <td>393.0</td>\n      <td>23.0</td>\n      <td>408.0</td>\n      <td>13.0</td>\n    </tr>\n    <tr>\n      <th>2230</th>\n      <td>2024-02-09</td>\n      <td>37.0</td>\n      <td>994.0</td>\n      <td>86.0</td>\n      <td>0</td>\n      <td>705.0</td>\n      <td>3.0</td>\n      <td>423.0</td>\n      <td>23.0</td>\n    </tr>\n    <tr>\n      <th>2231</th>\n      <td>2024-02-10</td>\n      <td>32.0</td>\n      <td>1005.0</td>\n      <td>68.0</td>\n      <td>1</td>\n      <td>392.0</td>\n      <td>88.0</td>\n      <td>193.0</td>\n      <td>8.0</td>\n    </tr>\n    <tr>\n      <th>2232</th>\n      <td>2024-02-11</td>\n      <td>33.0</td>\n      <td>993.0</td>\n      <td>54.0</td>\n      <td>0</td>\n      <td>823.0</td>\n      <td>34.0</td>\n      <td>481.0</td>\n      <td>21.0</td>\n    </tr>\n    <tr>\n      <th>2233</th>\n      <td>2024-02-12</td>\n      <td>26.0</td>\n      <td>982.0</td>\n      <td>62.0</td>\n      <td>0</td>\n      <td>142.0</td>\n      <td>57.0</td>\n      <td>331.0</td>\n      <td>15.0</td>\n    </tr>\n    <tr>\n      <th>2234</th>\n      <td>2024-02-13</td>\n      <td>35.0</td>\n      <td>1028.0</td>\n      <td>69.0</td>\n      <td>1</td>\n      <td>781.0</td>\n      <td>61.0</td>\n      <td>98.0</td>\n      <td>18.0</td>\n    </tr>\n    <tr>\n      <th>2235</th>\n      <td>2024-02-14</td>\n      <td>33.0</td>\n      <td>1035.0</td>\n      <td>95.0</td>\n      <td>0</td>\n      <td>275.0</td>\n      <td>35.0</td>\n      <td>395.0</td>\n      <td>17.0</td>\n    </tr>\n    <tr>\n      <th>2236</th>\n      <td>2024-02-15</td>\n      <td>40.0</td>\n      <td>984.0</td>\n      <td>28.0</td>\n      <td>0</td>\n      <td>728.0</td>\n      <td>14.0</td>\n      <td>80.0</td>\n      <td>24.0</td>\n    </tr>\n    <tr>\n      <th>2237</th>\n      <td>2024-02-16</td>\n      <td>36.0</td>\n      <td>974.0</td>\n      <td>52.0</td>\n      <td>0</td>\n      <td>376.0</td>\n      <td>58.0</td>\n      <td>474.0</td>\n      <td>22.0</td>\n    </tr>\n    <tr>\n      <th>2238</th>\n      <td>2024-02-17</td>\n      <td>32.0</td>\n      <td>1014.0</td>\n      <td>63.0</td>\n      <td>1</td>\n      <td>138.0</td>\n      <td>34.0</td>\n      <td>427.0</td>\n      <td>22.0</td>\n    </tr>\n    <tr>\n      <th>2239</th>\n      <td>2024-02-18</td>\n      <td>32.0</td>\n      <td>956.0</td>\n      <td>99.0</td>\n      <td>1</td>\n      <td>275.0</td>\n      <td>63.0</td>\n      <td>243.0</td>\n      <td>11.0</td>\n    </tr>\n    <tr>\n      <th>2240</th>\n      <td>2024-02-19</td>\n      <td>40.0</td>\n      <td>1023.0</td>\n      <td>60.0</td>\n      <td>1</td>\n      <td>533.0</td>\n      <td>20.0</td>\n      <td>261.0</td>\n      <td>12.0</td>\n    </tr>\n    <tr>\n      <th>2241</th>\n      <td>2024-02-20</td>\n      <td>34.0</td>\n      <td>1039.0</td>\n      <td>100.0</td>\n      <td>1</td>\n      <td>470.0</td>\n      <td>29.0</td>\n      <td>495.0</td>\n      <td>13.0</td>\n    </tr>\n    <tr>\n      <th>2242</th>\n      <td>2024-02-21</td>\n      <td>43.0</td>\n      <td>1023.0</td>\n      <td>46.0</td>\n      <td>1</td>\n      <td>634.0</td>\n      <td>2.0</td>\n      <td>289.0</td>\n      <td>3.0</td>\n    </tr>\n    <tr>\n      <th>2243</th>\n      <td>2024-02-22</td>\n      <td>33.0</td>\n      <td>1029.0</td>\n      <td>38.0</td>\n      <td>1</td>\n      <td>699.0</td>\n      <td>18.0</td>\n      <td>157.0</td>\n      <td>12.0</td>\n    </tr>\n    <tr>\n      <th>2244</th>\n      <td>2024-02-23</td>\n      <td>32.0</td>\n      <td>970.0</td>\n      <td>58.0</td>\n      <td>0</td>\n      <td>408.0</td>\n      <td>26.0</td>\n      <td>469.0</td>\n      <td>14.0</td>\n    </tr>\n  </tbody>\n</table>\n</div>\n    <div class=\"colab-df-buttons\">\n\n  <div class=\"colab-df-container\">\n    <button class=\"colab-df-convert\" onclick=\"convertToInteractive('df-07b8011a-fde3-4dd2-bfe1-e2e7f6193b43')\"\n            title=\"Convert this dataframe to an interactive table.\"\n            style=\"display:none;\">\n\n  <svg xmlns=\"http://www.w3.org/2000/svg\" height=\"24px\" viewBox=\"0 -960 960 960\">\n    <path d=\"M120-120v-720h720v720H120Zm60-500h600v-160H180v160Zm220 220h160v-160H400v160Zm0 220h160v-160H400v160ZM180-400h160v-160H180v160Zm440 0h160v-160H620v160ZM180-180h160v-160H180v160Zm440 0h160v-160H620v160Z\"/>\n  </svg>\n    </button>\n\n  <style>\n    .colab-df-container {\n      display:flex;\n      gap: 12px;\n    }\n\n    .colab-df-convert {\n      background-color: #E8F0FE;\n      border: none;\n      border-radius: 50%;\n      cursor: pointer;\n      display: none;\n      fill: #1967D2;\n      height: 32px;\n      padding: 0 0 0 0;\n      width: 32px;\n    }\n\n    .colab-df-convert:hover {\n      background-color: #E2EBFA;\n      box-shadow: 0px 1px 2px rgba(60, 64, 67, 0.3), 0px 1px 3px 1px rgba(60, 64, 67, 0.15);\n      fill: #174EA6;\n    }\n\n    .colab-df-buttons div {\n      margin-bottom: 4px;\n    }\n\n    [theme=dark] .colab-df-convert {\n      background-color: #3B4455;\n      fill: #D2E3FC;\n    }\n\n    [theme=dark] .colab-df-convert:hover {\n      background-color: #434B5C;\n      box-shadow: 0px 1px 3px 1px rgba(0, 0, 0, 0.15);\n      filter: drop-shadow(0px 1px 2px rgba(0, 0, 0, 0.3));\n      fill: #FFFFFF;\n    }\n  </style>\n\n    <script>\n      const buttonEl =\n        document.querySelector('#df-07b8011a-fde3-4dd2-bfe1-e2e7f6193b43 button.colab-df-convert');\n      buttonEl.style.display =\n        google.colab.kernel.accessAllowed ? 'block' : 'none';\n\n      async function convertToInteractive(key) {\n        const element = document.querySelector('#df-07b8011a-fde3-4dd2-bfe1-e2e7f6193b43');\n        const dataTable =\n          await google.colab.kernel.invokeFunction('convertToInteractive',\n                                                    [key], {});\n        if (!dataTable) return;\n\n        const docLinkHtml = 'Like what you see? Visit the ' +\n          '<a target=\"_blank\" href=https://colab.research.google.com/notebooks/data_table.ipynb>data table notebook</a>'\n          + ' to learn more about interactive tables.';\n        element.innerHTML = '';\n        dataTable['output_type'] = 'display_data';\n        await google.colab.output.renderOutput(dataTable, element);\n        const docLink = document.createElement('div');\n        docLink.innerHTML = docLinkHtml;\n        element.appendChild(docLink);\n      }\n    </script>\n  </div>\n\n\n<div id=\"df-2def375b-aa8c-4cd4-aa15-5b597b71c109\">\n  <button class=\"colab-df-quickchart\" onclick=\"quickchart('df-2def375b-aa8c-4cd4-aa15-5b597b71c109')\"\n            title=\"Suggest charts\"\n            style=\"display:none;\">\n\n<svg xmlns=\"http://www.w3.org/2000/svg\" height=\"24px\"viewBox=\"0 0 24 24\"\n     width=\"24px\">\n    <g>\n        <path d=\"M19 3H5c-1.1 0-2 .9-2 2v14c0 1.1.9 2 2 2h14c1.1 0 2-.9 2-2V5c0-1.1-.9-2-2-2zM9 17H7v-7h2v7zm4 0h-2V7h2v10zm4 0h-2v-4h2v4z\"/>\n    </g>\n</svg>\n  </button>\n\n<style>\n  .colab-df-quickchart {\n      --bg-color: #E8F0FE;\n      --fill-color: #1967D2;\n      --hover-bg-color: #E2EBFA;\n      --hover-fill-color: #174EA6;\n      --disabled-fill-color: #AAA;\n      --disabled-bg-color: #DDD;\n  }\n\n  [theme=dark] .colab-df-quickchart {\n      --bg-color: #3B4455;\n      --fill-color: #D2E3FC;\n      --hover-bg-color: #434B5C;\n      --hover-fill-color: #FFFFFF;\n      --disabled-bg-color: #3B4455;\n      --disabled-fill-color: #666;\n  }\n\n  .colab-df-quickchart {\n    background-color: var(--bg-color);\n    border: none;\n    border-radius: 50%;\n    cursor: pointer;\n    display: none;\n    fill: var(--fill-color);\n    height: 32px;\n    padding: 0;\n    width: 32px;\n  }\n\n  .colab-df-quickchart:hover {\n    background-color: var(--hover-bg-color);\n    box-shadow: 0 1px 2px rgba(60, 64, 67, 0.3), 0 1px 3px 1px rgba(60, 64, 67, 0.15);\n    fill: var(--button-hover-fill-color);\n  }\n\n  .colab-df-quickchart-complete:disabled,\n  .colab-df-quickchart-complete:disabled:hover {\n    background-color: var(--disabled-bg-color);\n    fill: var(--disabled-fill-color);\n    box-shadow: none;\n  }\n\n  .colab-df-spinner {\n    border: 2px solid var(--fill-color);\n    border-color: transparent;\n    border-bottom-color: var(--fill-color);\n    animation:\n      spin 1s steps(1) infinite;\n  }\n\n  @keyframes spin {\n    0% {\n      border-color: transparent;\n      border-bottom-color: var(--fill-color);\n      border-left-color: var(--fill-color);\n    }\n    20% {\n      border-color: transparent;\n      border-left-color: var(--fill-color);\n      border-top-color: var(--fill-color);\n    }\n    30% {\n      border-color: transparent;\n      border-left-color: var(--fill-color);\n      border-top-color: var(--fill-color);\n      border-right-color: var(--fill-color);\n    }\n    40% {\n      border-color: transparent;\n      border-right-color: var(--fill-color);\n      border-top-color: var(--fill-color);\n    }\n    60% {\n      border-color: transparent;\n      border-right-color: var(--fill-color);\n    }\n    80% {\n      border-color: transparent;\n      border-right-color: var(--fill-color);\n      border-bottom-color: var(--fill-color);\n    }\n    90% {\n      border-color: transparent;\n      border-bottom-color: var(--fill-color);\n    }\n  }\n</style>\n\n  <script>\n    async function quickchart(key) {\n      const quickchartButtonEl =\n        document.querySelector('#' + key + ' button');\n      quickchartButtonEl.disabled = true;  // To prevent multiple clicks.\n      quickchartButtonEl.classList.add('colab-df-spinner');\n      try {\n        const charts = await google.colab.kernel.invokeFunction(\n            'suggestCharts', [key], {});\n      } catch (error) {\n        console.error('Error during call to suggestCharts:', error);\n      }\n      quickchartButtonEl.classList.remove('colab-df-spinner');\n      quickchartButtonEl.classList.add('colab-df-quickchart-complete');\n    }\n    (() => {\n      let quickchartButtonEl =\n        document.querySelector('#df-2def375b-aa8c-4cd4-aa15-5b597b71c109 button');\n      quickchartButtonEl.style.display =\n        google.colab.kernel.accessAllowed ? 'block' : 'none';\n    })();\n  </script>\n</div>\n    </div>\n  </div>\n",
                  "application/vnd.google.colaboratory.intrinsic+json": {
                    "type": "dataframe",
                    "summary": "{\n  \"name\": \"datos\",\n  \"rows\": 20,\n  \"fields\": [\n    {\n      \"column\": \"fecha\",\n      \"properties\": {\n        \"dtype\": \"date\",\n        \"min\": \"2024-02-04 00:00:00\",\n        \"max\": \"2024-02-23 00:00:00\",\n        \"num_unique_values\": 20,\n        \"samples\": [\n          \"2024-02-04 00:00:00\",\n          \"2024-02-21 00:00:00\",\n          \"2024-02-19 00:00:00\"\n        ],\n        \"semantic_type\": \"\",\n        \"description\": \"\"\n      }\n    },\n    {\n      \"column\": \"vel_viento\",\n      \"properties\": {\n        \"dtype\": \"number\",\n        \"std\": 3.688888008172938,\n        \"min\": 26.0,\n        \"max\": 43.0,\n        \"num_unique_values\": 9,\n        \"samples\": [\n          34.0,\n          32.0,\n          26.0\n        ],\n        \"semantic_type\": \"\",\n        \"description\": \"\"\n      }\n    },\n    {\n      \"column\": \"presion_atmosferica\",\n      \"properties\": {\n        \"dtype\": \"number\",\n        \"std\": 25.156562395902732,\n        \"min\": 956.0,\n        \"max\": 1039.0,\n        \"num_unique_values\": 18,\n        \"samples\": [\n          1017.0,\n          1012.0,\n          1028.0\n        ],\n        \"semantic_type\": \"\",\n        \"description\": \"\"\n      }\n    },\n    {\n      \"column\": \"humedad_relativa\",\n      \"properties\": {\n        \"dtype\": \"number\",\n        \"std\": 22.28192564672802,\n        \"min\": 28.0,\n        \"max\": 100.0,\n        \"num_unique_values\": 20,\n        \"samples\": [\n          37.0,\n          46.0,\n          60.0\n        ],\n        \"semantic_type\": \"\",\n        \"description\": \"\"\n      }\n    },\n    {\n      \"column\": \"frentes_frios\",\n      \"properties\": {\n        \"dtype\": \"number\",\n        \"std\": 0,\n        \"min\": 0,\n        \"max\": 1,\n        \"num_unique_values\": 2,\n        \"samples\": [\n          1,\n          0\n        ],\n        \"semantic_type\": \"\",\n        \"description\": \"\"\n      }\n    },\n    {\n      \"column\": \"radiacion_solar\",\n      \"properties\": {\n        \"dtype\": \"number\",\n        \"std\": 204.75538036758323,\n        \"min\": 138.0,\n        \"max\": 823.0,\n        \"num_unique_values\": 19,\n        \"samples\": [\n          414.0,\n          705.0\n        ],\n        \"semantic_type\": \"\",\n        \"description\": \"\"\n      }\n    },\n    {\n      \"column\": \"luminosidad\",\n      \"properties\": {\n        \"dtype\": \"number\",\n        \"std\": 26.978744069710647,\n        \"min\": 2.0,\n        \"max\": 93.0,\n        \"num_unique_values\": 19,\n        \"samples\": [\n          11.0,\n          3.0\n        ],\n        \"semantic_type\": \"\",\n        \"description\": \"\"\n      }\n    },\n    {\n      \"column\": \"contaminacion_atmosferica\",\n      \"properties\": {\n        \"dtype\": \"number\",\n        \"std\": 159.6433525080202,\n        \"min\": 9.0,\n        \"max\": 495.0,\n        \"num_unique_values\": 20,\n        \"samples\": [\n          9.0,\n          289.0\n        ],\n        \"semantic_type\": \"\",\n        \"description\": \"\"\n      }\n    },\n    {\n      \"column\": \"temperatura\",\n      \"properties\": {\n        \"dtype\": \"number\",\n        \"std\": 5.779045632373275,\n        \"min\": 3.0,\n        \"max\": 24.0,\n        \"num_unique_values\": 15,\n        \"samples\": [\n          17.0,\n          22.0\n        ],\n        \"semantic_type\": \"\",\n        \"description\": \"\"\n      }\n    }\n  ]\n}"
                  }
                },
                "metadata": {}
              }
            ]
          }
        },
        "84bdb21e8fc5457c99abec46f0482d0a": {
          "model_module": "@jupyter-widgets/controls",
          "model_name": "HTMLModel",
          "model_module_version": "1.5.0",
          "state": {
            "_dom_classes": [],
            "_model_module": "@jupyter-widgets/controls",
            "_model_module_version": "1.5.0",
            "_model_name": "HTMLModel",
            "_view_count": null,
            "_view_module": "@jupyter-widgets/controls",
            "_view_module_version": "1.5.0",
            "_view_name": "HTMLView",
            "description": "",
            "description_tooltip": null,
            "layout": "IPY_MODEL_850d1b9e3ad54444bea4cd48eff8c2a3",
            "placeholder": "​",
            "style": "IPY_MODEL_0ddfeb3c06a4435692f396d42e460908",
            "value": "<h3>Primeros 20 registros:</h3>"
          }
        },
        "eeaaa932b2804813aaadcb8079ce7348": {
          "model_module": "@jupyter-widgets/base",
          "model_name": "LayoutModel",
          "model_module_version": "1.2.0",
          "state": {
            "_model_module": "@jupyter-widgets/base",
            "_model_module_version": "1.2.0",
            "_model_name": "LayoutModel",
            "_view_count": null,
            "_view_module": "@jupyter-widgets/base",
            "_view_module_version": "1.2.0",
            "_view_name": "LayoutView",
            "align_content": null,
            "align_items": null,
            "align_self": null,
            "border": null,
            "bottom": null,
            "display": null,
            "flex": null,
            "flex_flow": null,
            "grid_area": null,
            "grid_auto_columns": null,
            "grid_auto_flow": null,
            "grid_auto_rows": null,
            "grid_column": null,
            "grid_gap": null,
            "grid_row": null,
            "grid_template_areas": null,
            "grid_template_columns": null,
            "grid_template_rows": null,
            "height": null,
            "justify_content": null,
            "justify_items": null,
            "left": null,
            "margin": null,
            "max_height": null,
            "max_width": null,
            "min_height": null,
            "min_width": null,
            "object_fit": null,
            "object_position": null,
            "order": null,
            "overflow": null,
            "overflow_x": null,
            "overflow_y": null,
            "padding": null,
            "right": null,
            "top": null,
            "visibility": null,
            "width": null
          }
        },
        "850d1b9e3ad54444bea4cd48eff8c2a3": {
          "model_module": "@jupyter-widgets/base",
          "model_name": "LayoutModel",
          "model_module_version": "1.2.0",
          "state": {
            "_model_module": "@jupyter-widgets/base",
            "_model_module_version": "1.2.0",
            "_model_name": "LayoutModel",
            "_view_count": null,
            "_view_module": "@jupyter-widgets/base",
            "_view_module_version": "1.2.0",
            "_view_name": "LayoutView",
            "align_content": null,
            "align_items": null,
            "align_self": null,
            "border": null,
            "bottom": null,
            "display": null,
            "flex": null,
            "flex_flow": null,
            "grid_area": null,
            "grid_auto_columns": null,
            "grid_auto_flow": null,
            "grid_auto_rows": null,
            "grid_column": null,
            "grid_gap": null,
            "grid_row": null,
            "grid_template_areas": null,
            "grid_template_columns": null,
            "grid_template_rows": null,
            "height": null,
            "justify_content": null,
            "justify_items": null,
            "left": null,
            "margin": null,
            "max_height": null,
            "max_width": null,
            "min_height": null,
            "min_width": null,
            "object_fit": null,
            "object_position": null,
            "order": null,
            "overflow": null,
            "overflow_x": null,
            "overflow_y": null,
            "padding": null,
            "right": null,
            "top": null,
            "visibility": null,
            "width": null
          }
        },
        "0ddfeb3c06a4435692f396d42e460908": {
          "model_module": "@jupyter-widgets/controls",
          "model_name": "DescriptionStyleModel",
          "model_module_version": "1.5.0",
          "state": {
            "_model_module": "@jupyter-widgets/controls",
            "_model_module_version": "1.5.0",
            "_model_name": "DescriptionStyleModel",
            "_view_count": null,
            "_view_module": "@jupyter-widgets/base",
            "_view_module_version": "1.2.0",
            "_view_name": "StyleView",
            "description_width": ""
          }
        },
        "a26f0806fed64b7093126d0668926543": {
          "model_module": "@jupyter-widgets/controls",
          "model_name": "HTMLModel",
          "model_module_version": "1.5.0",
          "state": {
            "_dom_classes": [],
            "_model_module": "@jupyter-widgets/controls",
            "_model_module_version": "1.5.0",
            "_model_name": "HTMLModel",
            "_view_count": null,
            "_view_module": "@jupyter-widgets/controls",
            "_view_module_version": "1.5.0",
            "_view_name": "HTMLView",
            "description": "",
            "description_tooltip": null,
            "layout": "IPY_MODEL_af87eb23a0e848928252f76df0bebf79",
            "placeholder": "​",
            "style": "IPY_MODEL_e517a29d510849a28b8b2afbc6374b07",
            "value": "<h3>Últimos 20 registros:</h3>"
          }
        },
        "af87eb23a0e848928252f76df0bebf79": {
          "model_module": "@jupyter-widgets/base",
          "model_name": "LayoutModel",
          "model_module_version": "1.2.0",
          "state": {
            "_model_module": "@jupyter-widgets/base",
            "_model_module_version": "1.2.0",
            "_model_name": "LayoutModel",
            "_view_count": null,
            "_view_module": "@jupyter-widgets/base",
            "_view_module_version": "1.2.0",
            "_view_name": "LayoutView",
            "align_content": null,
            "align_items": null,
            "align_self": null,
            "border": null,
            "bottom": null,
            "display": null,
            "flex": null,
            "flex_flow": null,
            "grid_area": null,
            "grid_auto_columns": null,
            "grid_auto_flow": null,
            "grid_auto_rows": null,
            "grid_column": null,
            "grid_gap": null,
            "grid_row": null,
            "grid_template_areas": null,
            "grid_template_columns": null,
            "grid_template_rows": null,
            "height": null,
            "justify_content": null,
            "justify_items": null,
            "left": null,
            "margin": null,
            "max_height": null,
            "max_width": null,
            "min_height": null,
            "min_width": null,
            "object_fit": null,
            "object_position": null,
            "order": null,
            "overflow": null,
            "overflow_x": null,
            "overflow_y": null,
            "padding": null,
            "right": null,
            "top": null,
            "visibility": null,
            "width": null
          }
        },
        "e517a29d510849a28b8b2afbc6374b07": {
          "model_module": "@jupyter-widgets/controls",
          "model_name": "DescriptionStyleModel",
          "model_module_version": "1.5.0",
          "state": {
            "_model_module": "@jupyter-widgets/controls",
            "_model_module_version": "1.5.0",
            "_model_name": "DescriptionStyleModel",
            "_view_count": null,
            "_view_module": "@jupyter-widgets/base",
            "_view_module_version": "1.2.0",
            "_view_name": "StyleView",
            "description_width": ""
          }
        }
      }
    }
  },
  "cells": [
    {
      "cell_type": "markdown",
      "metadata": {
        "id": "view-in-github",
        "colab_type": "text"
      },
      "source": [
        "<a href=\"https://colab.research.google.com/github/rpizarrog/innovacion-empresarial/blob/main/notebook%20python/Caso_03_Crear_archivo_de_datos_temperaturas_csv.ipynb\" target=\"_parent\"><img src=\"https://colab.research.google.com/assets/colab-badge.svg\" alt=\"Open In Colab\"/></a>"
      ]
    },
    {
      "cell_type": "code",
      "execution_count": 10,
      "metadata": {
        "id": "qojSrDa-BOpu"
      },
      "outputs": [],
      "source": []
    },
    {
      "cell_type": "markdown",
      "source": [
        "# Objetivo\n",
        "\n",
        "Crear, evaluar e intrepretar un modelo de regresión mútiple usando un conjunto de variables que impactan en la tempertura ambiental.\n",
        "\n",
        "# Contexto de los datos\n",
        "\n",
        "Los datos se relacionan con distintaas variables atmosféricas que afecan a una temperatura de una región o localización geográfica.\n",
        "\n",
        "## Las variables independientes:\n",
        "\n",
        "* 1. Mes (mes): Afecta debido a las variaciones estacionales.\n",
        "* 2. Día (dia): Puede influir ligeramente debido al cambio gradual de las temperaturas a lo largo del mes.\n",
        "* 3. Velocidad del viento (velocidad_viento): Velocidades más altas pueden reducir la sensación térmica. km/hr\n",
        "* 4. Presión atmosférica (presion_atmosferica): Cambios en la presión pueden indicar cambios en el clima. hpa\n",
        "* 5. Humedad relativa (humedad_relativa): Afecta la sensación térmica y puede influir en la temperatura real.\n",
        "* 6. Presencia de frentes fríos (frentes_frios): Un indicador binario (0 o 1) para la presencia de un frente frío.\n",
        "* 7. Latitud (latitud): Afecta la temperatura promedio, con temperaturas generalmente disminuyendo al alejarse del ecuador.\n",
        "* 8. Longitud (longitud): Puede tener un efecto indirecto, especialmente en grandes países donde el clima varía de costa a costa.\n",
        "* 9. Altitud (altitud): La temperatura tiende a disminuir con la altitud debido a la baja densidad del aire y la disminución de la presión atmosférica.\n",
        "* 10. Radiación Solar (radiacion_solar): La cantidad de radiación solar que llega a la superficie terrestre tiene un impacto directo en la temperatura. Esta variable puede variar según la cobertura de nubes, la hora del día y la época del año. 100 a 1000 W/m^2\n",
        "* 11. Luminosidad o Insolación (luminosidad): Estrechamente relacionada con la radiación solar, se refiere a la cantidad de luz solar que llega a la Tierra. Afecta la temperatura especialmente durante las horas diurnas. Soleado obscuro de 0 a 100\n",
        "* 12. Contaminación o Calidad del Aire (contaminacion): Partículas y gases en la atmósfera pueden atrapar el calor, contribuyendo al efecto invernadero y, por ende, a temperaturas más altas en áreas urbanas o industrializadas. Variables como el nivel de dióxido de carbono o la presencia de ozono cerca de la superficie pueden ser indicadores de contaminación. Niveles de 0 a 500, niveles altos son peligrosos.\n",
        "* 13. Cobertura de Nubes (cobertura_nubes): La cantidad de nubes en el cielo puede influir en la temperatura al bloquear la radiación solar directa durante el día y atrapar el calor durante la noche. Porcentaje de 0 a 100%\n",
        "\n",
        "\n",
        "## La variable dependiente\n",
        "\n",
        "* Temperatura ambiental es la cantidad de grados centígrados promedio.\n",
        "\n",
        "\n",
        "\n",
        "\n",
        "\n"
      ],
      "metadata": {
        "id": "d4GL8MOHBTO5"
      }
    },
    {
      "cell_type": "markdown",
      "source": [
        "# Desarrollo\n",
        "\n"
      ],
      "metadata": {
        "id": "j6w4XggSC84r"
      }
    },
    {
      "cell_type": "markdown",
      "source": [
        "## Cargar librerías\n",
        "\n"
      ],
      "metadata": {
        "id": "aFSIkCI7C-ro"
      }
    },
    {
      "cell_type": "code",
      "source": [
        "import numpy as np\n",
        "import pandas as pd\n",
        "import ipywidgets as widgets\n",
        "from IPython.display import display"
      ],
      "metadata": {
        "id": "f5dlQ1v9DIPC"
      },
      "execution_count": 11,
      "outputs": []
    },
    {
      "cell_type": "markdown",
      "source": [
        "## Crear funciones\n",
        "\n",
        "\n"
      ],
      "metadata": {
        "id": "Qx8DKmXmDANw"
      }
    },
    {
      "cell_type": "code",
      "source": [
        "def f_crear_datos (start=\"2018-01-01\", end=\"2024-02-23\"):\n",
        "  # Definir el rango de fechas desde el 1 de enero de 2018 hasta el 23 de febrero de 2024\n",
        "  fechas = pd.date_range(start=\"2018-01-01\", end=\"2024-02-23\")\n",
        "\n",
        "  # Generar datos de temperatura simulados para cada día en el rango de fechas\n",
        "  # Supongamos que la temperatura varía aleatoriamente entre 10 y 30 grados Celsius\n",
        "  np.random.seed(2024)  # Para asegurar reproducibilidad\n",
        "\n",
        "  n = len(fechas)\n",
        "  temperaturas = np.random.normal(18, 4, n)\n",
        "\n",
        "  # Ajustar las temperaturas según la estación\n",
        "  temperaturas_ajustadas = []\n",
        "  for fecha, num in zip(fechas, temperaturas):\n",
        "    if fecha.month in [4, 5, 6]:\n",
        "        num += 5  # Abril, Mayo, Junio\n",
        "    elif fecha.month in [7, 8, 9]:\n",
        "        num += 2  # Julio, Agosto, Septiembre\n",
        "    elif fecha.month in [3, 10, 11]:\n",
        "        num -= 2  # Octubre, Noviembre\n",
        "    elif fecha.month in [12, 1, 2]:\n",
        "        num -= 3  # Diciembre, Enero, Febrero\n",
        "    temperaturas_ajustadas.append(num)\n",
        "\n",
        "  temperaturas = temperaturas_ajustadas\n",
        "\n",
        "  # Velociad de viento\n",
        "  velocidad_viento = np.random.normal(25, 5, n)  # Velocidad del viento en km/h\n",
        "    # Ajustar las temperaturas según la estación\n",
        "  velocidad_viento_ajustadas = []\n",
        "  for fecha, num in zip(fechas, velocidad_viento):\n",
        "    if fecha.month in [10, 11, 12, 1, 2, 3]:\n",
        "      num += np.random.randint(4, 12)\n",
        "    velocidad_viento_ajustadas.append(num)\n",
        "\n",
        "  presion_atmosferica = np.random.uniform(950, 1050, n)  # Presión en hPa\n",
        "\n",
        "  # Otras variables ...\n",
        "  humedad_relativa = np.random.uniform(20, 100, n)  # Porcentaje\n",
        "  frentes_frios = np.random.choice([0, 1], n)  # 0 = No, 1 = Sí\n",
        "\n",
        "  # Ajustar las temperaturas según si hay frente frio\n",
        "  temperaturas_ajustadas = []\n",
        "  for frente, temp in zip(frentes_frios, temperaturas):\n",
        "    if frente == 1:\n",
        "      temp -= 4\n",
        "    temperaturas_ajustadas.append(temp)\n",
        "\n",
        "  temperaturas = temperaturas_ajustadas\n",
        "\n",
        "  # Asumiendo un rango común durante el día de 100 a 1000 W/m^2\n",
        "  radiacion_solar = np.random.uniform(100, 1000, n)\n",
        "\n",
        "  # Generar valores simulados para luminosidad en porcentaje\n",
        "  # Asumiendo un rango de 0% (noche) a 100% (día soleado)\n",
        "  luminosidad = np.random.uniform(0, 100, n)\n",
        "\n",
        "  # Generar valores simulados para contaminación atmosférica (índice de calidad del aire, AQI)\n",
        "  # Asumiendo un rango de AQUI de 0 (buena calidad del aire) a 500 (calidad del aire peligrosa)\n",
        "  contaminacion_atmosferica = np.random.uniform(0, 500, n)\n",
        "\n",
        "  # Ajustar las temperaturas según si hay radiacion por encima de 700 y luminosidad por encima del 80%\n",
        "  temperaturas_ajustadas = []\n",
        "  for rad, lum, cont, temp in zip(radiacion_solar, luminosidad, contaminacion_atmosferica, temperaturas):\n",
        "    if rad > 700:\n",
        "      temp += np.random.randint(2, 4)\n",
        "    if lum > 70:\n",
        "      temp += np.random.randint(2, 4)\n",
        "    if cont > 350:\n",
        "      temp += np.random.randint(3, 5)\n",
        "\n",
        "    temperaturas_ajustadas.append(temp)\n",
        "\n",
        "\n",
        "  # Cobertura de nubes\n",
        "  # Generar 5 valores aleatorios de cobertura nubosa como porcentaje\n",
        "  cobertura_nubosa = np.random.uniform(0, 100, n)\n",
        "\n",
        "  # Crear el DataFrame con las fechas y temperaturas\n",
        "  datos = pd.DataFrame({\n",
        "    'fecha': fechas,\n",
        "    'vel_viento': np.round(velocidad_viento_ajustadas),\n",
        "    'presion_atmosferica': np.round(presion_atmosferica),\n",
        "    'humedad_relativa':np.round(humedad_relativa),\n",
        "    'frentes_frios': frentes_frios,\n",
        "    'radiacion_solar':np.round(radiacion_solar),\n",
        "    'luminosidad':np.round(luminosidad),\n",
        "    'contaminacion_atmosferica':np.round(contaminacion_atmosferica),\n",
        "    'temperatura': np.round(temperaturas_ajustadas)\n",
        "  })\n",
        "  return datos\n",
        "\n",
        "\n"
      ],
      "metadata": {
        "id": "mjqfzGupDEba"
      },
      "execution_count": 23,
      "outputs": []
    },
    {
      "cell_type": "markdown",
      "source": [
        "## Crear widgets\n"
      ],
      "metadata": {
        "id": "mxlxNbWeRw_D"
      }
    },
    {
      "cell_type": "code",
      "source": [
        "# Crear un widget de salida\n",
        "visualizar = widgets.Output()\n",
        "\n",
        "# Crear widgets de título usando Label o HTML para más flexibilidad\n",
        "titulo_primeros = widgets.HTML(value=\"<h3>Primeros 20 registros:</h3>\")\n",
        "titulo_ultimos = widgets.HTML(value=\"<h3>Últimos 20 registros:</h3>\")\n"
      ],
      "metadata": {
        "id": "VwL0YXh1Ry2P"
      },
      "execution_count": 24,
      "outputs": []
    },
    {
      "cell_type": "markdown",
      "source": [
        "## Crear los datos\n",
        "\n"
      ],
      "metadata": {
        "id": "6Gr3Lx35DBwQ"
      }
    },
    {
      "cell_type": "code",
      "source": [
        "datos = f_crear_datos()\n",
        "\n",
        "\n",
        "# Mostrar el DataFrame en el widget de salida\n",
        "with visualizar:\n",
        "    # Mostrar el título y los primeros 20 registros\n",
        "    display(titulo_primeros)\n",
        "    display(datos.head(20))\n",
        "    # Mostrar el título y los primeros 20 registros\n",
        "    display(titulo_ultimos)\n",
        "    display(datos.tail(20))\n",
        "\n",
        "# Mostrar el widget de salida\n",
        "display(visualizar)\n",
        "# print (datos.head(20))\n",
        "# print (datos.tail(20))\n",
        "\n",
        "\n",
        "# Guardar el archivo csv\n",
        "\n",
        "# Guardar el DataFrame en un archivo CSV\n",
        "datos.to_csv('temperaturas.csv', index=False)  # `index=False` para no incluir el índice del DataFrame en el archivo\n"
      ],
      "metadata": {
        "colab": {
          "base_uri": "https://localhost:8080/",
          "height": 1000,
          "referenced_widgets": [
            "c866bf1ec9554038a64a68316d9c7b2c",
            "84bdb21e8fc5457c99abec46f0482d0a",
            "eeaaa932b2804813aaadcb8079ce7348",
            "850d1b9e3ad54444bea4cd48eff8c2a3",
            "0ddfeb3c06a4435692f396d42e460908",
            "a26f0806fed64b7093126d0668926543",
            "af87eb23a0e848928252f76df0bebf79",
            "e517a29d510849a28b8b2afbc6374b07"
          ]
        },
        "id": "v9pzZoE9DiY9",
        "outputId": "bce2a4e8-3a53-4619-8339-1bf39c87df4d"
      },
      "execution_count": 26,
      "outputs": [
        {
          "output_type": "display_data",
          "data": {
            "text/plain": [
              "Output()"
            ],
            "application/vnd.jupyter.widget-view+json": {
              "version_major": 2,
              "version_minor": 0,
              "model_id": "c866bf1ec9554038a64a68316d9c7b2c"
            }
          },
          "metadata": {}
        }
      ]
    }
  ]
}